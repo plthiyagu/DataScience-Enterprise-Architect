{
  "nbformat": 4,
  "nbformat_minor": 0,
  "metadata": {
    "kernelspec": {
      "language": "python",
      "display_name": "Python 3",
      "name": "python3"
    },
    "language_info": {
      "pygments_lexer": "ipython3",
      "nbconvert_exporter": "python",
      "version": "3.6.4",
      "file_extension": ".py",
      "codemirror_mode": {
        "name": "ipython",
        "version": 3
      },
      "name": "python",
      "mimetype": "text/x-python"
    },
    "colab": {
      "name": "Comprehensive-guide-on-feature-selection.ipynb",
      "provenance": [],
      "collapsed_sections": [
        "a-bD8GZ9cYdZ",
        "5x2o_-FwcYdb",
        "CBkNCvuJcYdc",
        "znpaATyqcYdd",
        "zoRME7vPcYdd",
        "7hwZDjg0cYde",
        "8k_rjE9JcYde",
        "KupJ8gK3cYde",
        "6Cx1H916cYdf",
        "2B-jdBiXcYdf",
        "pE4CyP23cYdf",
        "3ODToMOZcYdf",
        "ZU0bJvv-cYdf",
        "OIThfvCUcYdg",
        "bjvV4Cl5cYdh",
        "i5nvTAfScYdi",
        "F0XZKXvocYdi",
        "KFia6xT-cYdk",
        "VSKN6tbJcYdk",
        "DGYOpF0hcYdk",
        "mR9KqFX6cYdk",
        "nmKUhPC7cYdk",
        "cJX7auTRcYdl",
        "nedSCvd2cYdm",
        "lu98hauscYdm",
        "t9ie3RM9cYdn",
        "XCBDv8ehcYdn"
      ],
      "include_colab_link": true
    }
  },
  "cells": [
    {
      "cell_type": "markdown",
      "metadata": {
        "id": "view-in-github",
        "colab_type": "text"
      },
      "source": [
        "<a href=\"https://colab.research.google.com/github/plthiyagu/AI-Engineering/blob/master/06-Data%20Preprocessing%20and%20Feature%20Engineering/Comprehensive_guide_on_feature_selection.ipynb\" target=\"_parent\"><img src=\"https://colab.research.google.com/assets/colab-badge.svg\" alt=\"Open In Colab\"/></a>"
      ]
    },
    {
      "cell_type": "markdown",
      "metadata": {
        "id": "AT4Flaw8cYdL"
      },
      "source": [
        "<a class=\"anchor\" id=\"0\"></a>\n",
        "# **Comprehensive Guide on Feature Selection**\n",
        "\n",
        "\n",
        "Hello friends,\n",
        "\n",
        "\n",
        "**Feature Selection** is the process of selecting optimal number of features from a larger set of features. There are several advantages of this feature selection process and also there are various techniques available for this feature selection process. In this kernel, we will look at these advantages and various techniques for feature selection.\n",
        "\n",
        "\n",
        "So, let's get started."
      ]
    },
    {
      "cell_type": "markdown",
      "metadata": {
        "id": "WcxaRA5vcYdP"
      },
      "source": [
        "This kernel is based on Soledad Galli's course - [Feature Selection for Machine Learning](https://www.udemy.com/course/feature-selection-for-machine-learning/)\n",
        "\n",
        "She had done a fabulous job in her above course wherein she had put all the major feature selection techniques together at one place. I have adapted code and instructions from her course in this kernel. I like to congratulate her for her excellent work."
      ]
    },
    {
      "cell_type": "markdown",
      "metadata": {
        "id": "dJcQd1AncYdQ"
      },
      "source": [
        "**As always, I hope you find this kernel useful and your <font color=\"red\"><b>UPVOTES</b></font> would be highly appreciated**.\n",
        "\n"
      ]
    },
    {
      "cell_type": "markdown",
      "metadata": {
        "id": "YAGYYBk5cYdR"
      },
      "source": [
        "<a class=\"anchor\" id=\"0.1\"></a>\n",
        "# **Table of Contents**\n",
        "\n",
        "\n",
        "1.\t[Introduction to Feature Selection](#1)\n",
        "2.\t[Filter Methods](#2)\n",
        "   - 2.1. [Basic Methods](#2.1)\n",
        "        - 2.1.1 [Remove Constant Features](#2.1.1)\n",
        "        - 2.1.2 [Remove Quasi-Constant Features](#2.1.2)\n",
        "   - 2.2 [Univariate Selection Methods](#2.2)\n",
        "        - 2.2.1 [SelectKBest](#2.2.1)\n",
        "        - 2.2.2 [SelectPercentile](#2.2.2)\n",
        "   - 2.3 [Information Gain](#2.3)\n",
        "   - 2.4 [Fisher Score (chi-square implementation)](#2.4)\n",
        "   - 2.5 [ANOVA F-Value for Feature Selection](#2.5)\n",
        "   - 2.6 [Correlation-Matrix with Heatmap](#2.6)\n",
        "3.\t[Wrapper Methods](#3)\n",
        "   - 3.1 [Forward Selection](#3.1)\n",
        "   - 3.2 [Backward Elimination](#3.2)\n",
        "   - 3.3 [Exhaustive Feature Selection](#3.3)\n",
        "   - 3.4 [Recursive Feature Elimination](#3.4)\n",
        "   - 3.5 [Recursive Feature Elimination with Cross-Validation](#3.5)\n",
        "4. [Embedded Methods](#4)\n",
        "   - 4.1 [LASSO Regression](#4.1)\n",
        "   - 4.2 [Random Forest Importance](#4.2)\n",
        "5. [How to choose the right feature selection method](#5)\n",
        "6. [Tips and tricks for feature selection](#6)   \n",
        "7. [References](#7)"
      ]
    },
    {
      "cell_type": "markdown",
      "metadata": {
        "trusted": true,
        "id": "sunNgGA5cYdS"
      },
      "source": [
        "# **1. Introduction to Feature Selection** <a class=\"anchor\" id=\"1\"></a>\n",
        "\n",
        "[Table of Contents](#0.1)\n",
        "\n",
        "\n",
        "## **Feature selection**\n",
        "\n",
        "- **Feature selection** or **variable selection** is the process of selecting a subset of relevant features or variables from the total features of a level in a data set to build machine learning algorithms. \n",
        "\n",
        "\n",
        "## **Advantages of selecting features**\n",
        "\n",
        "- There are various advantages of feature selection process. These are as follows:-\n",
        "\n",
        "  1.\tImproved accuracy\n",
        "  2.    Simple models are easier to interpret.\n",
        "  3.\tShorter training times\n",
        "  4.\tEnhanced generalization by reducing Overfitting\n",
        "  5.\tEasier to implement by software developers\n",
        "  6.\tReduced risk of data errors by model use\n",
        "  7.\tVariable redundancy\n",
        "  8.\tBad learning behaviour in high dimensional spaces\n",
        "\n",
        "\n",
        "## **Feature Selection – Techniques**\n",
        "\n",
        "\n",
        "- Feature selection techniques are categorized into 3 typers. These are as follows:-\n",
        "\n",
        "  1.    Filter methods\n",
        "  2.\tWrapper methods\n",
        "  3.\tEmbedded methods\n",
        "  \n",
        "  \n",
        "## **Filter Methods**\n",
        "\n",
        "- Filter methods consists of various techniques as given below:-\n",
        "\n",
        "  1.    Basic methods\n",
        "  2.    Univariate methods\n",
        "  3.    Information gain\n",
        "  4.    Fischer score\n",
        "  5.    Correlation Matrix with Heatmap\n",
        "  \n",
        "  \n",
        "## **Wrapper Methods**\n",
        "\n",
        "- Wrapper methods consists of the following techniques:-\n",
        "\n",
        "  1.    Forward Selection\n",
        "  2.    Backward Elimination\n",
        "  3.    Exhaustive Feature Selection\n",
        "  4.    Recursive Feature Elimination\n",
        "  5.    Recursive Feature Elimination with Cross-Validation\n",
        "  \n",
        "  \n",
        "  \n",
        "## **Embedded Methods**\n",
        "\n",
        "- Embedded methods consists of the following techniques:-\n",
        "\n",
        "  1.   LASSO\n",
        "  2.   RIDGE\n",
        "  3.   Tree Importance\n",
        "  \n",
        "  \n",
        "- Now, we will discuss these methods in detail.\n"
      ]
    },
    {
      "cell_type": "markdown",
      "metadata": {
        "id": "sd43Kk1ucYdT"
      },
      "source": [
        "# **2. Filter Methods** <a class=\"anchor\" id=\"2\"></a>\n",
        "\n",
        "[Table of Contents](#0.1)\n",
        "\n",
        "\n",
        "- Filter methods are generally used as a preprocessing step. The selection of features is independent of any machine learning algorithms. Instead, features are selected on the basis of their scores in various statistical tests for their correlation with the outcome variable. The characteristics of these methods are as follows:-\n",
        "\n",
        "  - These methods rely on the characteristics of the data (feature characteristics)\n",
        "  - They do not use machine learning algorithms.\n",
        "  - These are model agnostic.\n",
        "  - They tend to be less computationally expensive.\n",
        "  - They usually give lower prediction performance than wrapper methods.\n",
        "  - They are very well suited for a quick screen and removal of irrelevant features.\n",
        "  \n",
        "  \n",
        " - Filter methods consists of various techniques as given below:-\n",
        "\n",
        "   -  2.1.    Basic methods\n",
        "   -  2.2.    Univariate feature selection\n",
        "   -  2.3.    Information gain\n",
        "   -  2.4.    Fischer score\n",
        "   -  2.5.     ANOVA F-Value for Feature Selection\n",
        "   -  2.6.    Correlation Matrix with Heatmap  \n",
        "  \n",
        "- Filter methods can be explained with the help of following graphic:"
      ]
    },
    {
      "cell_type": "markdown",
      "metadata": {
        "id": "GdbSVgyRcYdT"
      },
      "source": [
        "![FilterMethods](https://res.cloudinary.com/dyd911kmh/image/upload/f_auto,q_auto:best/v1537552825/Image3_fqsh79.png)\n",
        "\n",
        "\n",
        "### Image source : AnalyticsVidhya"
      ]
    },
    {
      "cell_type": "markdown",
      "metadata": {
        "id": "qagwnrALcYdU"
      },
      "source": [
        "## **2.1 Basic methods** <a class=\"anchor\" id=\"2.1\"></a>\n",
        "\n",
        "[Table of Contents](#0.1)\n",
        "\n",
        "\n",
        "- Under basic methods, we remove constant and quasi-constant features."
      ]
    },
    {
      "cell_type": "markdown",
      "metadata": {
        "id": "fdkVdEZ1cYdV"
      },
      "source": [
        "## **2.1.1 Remove constant features** <a class=\"anchor\" id=\"2.1.1\"></a>\n",
        "\n",
        "[Table of Contents](#0.1)\n",
        "\n",
        "- Constant features are those that show the same value, just one value, for all the observations of the dataset. This is, the same value for all the rows of the dataset. These features provide no information that allows a machine learning model to discriminate or predict a target.\n",
        "\n",
        "- Identifying and removing constant features, is an easy first step towards feature selection and more easily interpretable machine learning models. To identify constant features, we can use the VarianceThreshold function from sklearn.\n",
        "\n",
        "- I will demonstrate how to identify constant features using the Santander Customer Satisfaction dataset from Kaggle.\n",
        "\n",
        "- Source :\n",
        "\n",
        "- https://scikit-learn.org/stable/modules/generated/sklearn.feature_selection.VarianceThreshold.html\n",
        "\n",
        "- https://scikit-learn.org/stable/modules/feature_selection.html"
      ]
    },
    {
      "cell_type": "code",
      "metadata": {
        "trusted": true,
        "id": "jZTMBN6XcYdW"
      },
      "source": [
        "# This Python 3 environment comes with many helpful analytics libraries installed\n",
        "# It is defined by the kaggle/python docker image: https://github.com/kaggle/docker-python\n",
        "# For example, here's several helpful packages to load in \n",
        "\n",
        "import numpy as np # linear algebra\n",
        "import pandas as pd # data processing, CSV file I/O (e.g. pd.read_csv)\n",
        "import matplotlib.pyplot as plt\n",
        "import seaborn as sns\n",
        "\n",
        "# Input data files are available in the \"../input/\" directory.\n",
        "# For example, running this (by clicking run or pressing Shift+Enter) will list all files under the input directory\n",
        "\n",
        "import os\n",
        "for dirname, _, filenames in os.walk('/kaggle/input'):\n",
        "    for filename in filenames:\n",
        "        print(os.path.join(dirname, filename))\n",
        "\n",
        "# Any results you write to the current directory are saved as output.\n"
      ],
      "execution_count": null,
      "outputs": []
    },
    {
      "cell_type": "code",
      "metadata": {
        "trusted": true,
        "id": "gZTIX2RScYdX"
      },
      "source": [
        "# ignore warnings\n",
        "\n",
        "import warnings\n",
        "warnings.filterwarnings('ignore')"
      ],
      "execution_count": null,
      "outputs": []
    },
    {
      "cell_type": "code",
      "metadata": {
        "trusted": true,
        "id": "m9lnOwstcYdY"
      },
      "source": [
        "# import the Santander customer satisfaction dataset from Kaggle\n",
        "\n",
        "X_train = pd.read_csv('/kaggle/input/santander-customer-satisfaction/train.csv', nrows=35000)\n",
        "\n",
        "X_test = pd.read_csv('/kaggle/input/santander-customer-satisfaction/test.csv', nrows=15000)"
      ],
      "execution_count": null,
      "outputs": []
    },
    {
      "cell_type": "code",
      "metadata": {
        "trusted": true,
        "id": "NXsY7detcYdY"
      },
      "source": [
        "# drop TARGET label from X_train\n",
        "\n",
        "X_train.drop(labels=['TARGET'], axis=1, inplace = True)"
      ],
      "execution_count": null,
      "outputs": []
    },
    {
      "cell_type": "code",
      "metadata": {
        "trusted": true,
        "id": "pCMQAd2-cYdY"
      },
      "source": [
        "# check shape of training and test sets\n",
        "\n",
        "X_train.shape, X_test.shape"
      ],
      "execution_count": null,
      "outputs": []
    },
    {
      "cell_type": "markdown",
      "metadata": {
        "id": "AWmS0VfscYdZ"
      },
      "source": [
        "### **Important**\n",
        "\n",
        "- In all feature selection procedures, it is good practice to select the features by examining only the training set. This is done to avoid overfitting."
      ]
    },
    {
      "cell_type": "markdown",
      "metadata": {
        "id": "a-bD8GZ9cYdZ"
      },
      "source": [
        "### **Using variance threshold from sklearn**\n",
        "\n",
        "- Variance threshold from sklearn is a simple baseline approach to feature selection. It removes all features which variance doesn’t meet some threshold. By default, it removes all zero-variance features, i.e., features that have the same value in all samples."
      ]
    },
    {
      "cell_type": "code",
      "metadata": {
        "trusted": true,
        "id": "KEyFKWr5cYdZ"
      },
      "source": [
        "# using sklearn variancethreshold to find constant features\n",
        "\n",
        "from sklearn.feature_selection import VarianceThreshold\n",
        "sel = VarianceThreshold(threshold=0)\n",
        "sel.fit(X_train)  # fit finds the features with zero variance"
      ],
      "execution_count": null,
      "outputs": []
    },
    {
      "cell_type": "code",
      "metadata": {
        "trusted": true,
        "id": "SyR6DonYcYdZ"
      },
      "source": [
        "# get_support is a boolean vector that indicates which features are retained\n",
        "# if we sum over get_support, we get the number of features that are not constant\n",
        "sum(sel.get_support())"
      ],
      "execution_count": null,
      "outputs": []
    },
    {
      "cell_type": "code",
      "metadata": {
        "trusted": true,
        "id": "Su8OTULIcYda"
      },
      "source": [
        "# alternate way of finding non-constant features\n",
        "len(X_train.columns[sel.get_support()])"
      ],
      "execution_count": null,
      "outputs": []
    },
    {
      "cell_type": "code",
      "metadata": {
        "trusted": true,
        "id": "fkq_4vpicYda"
      },
      "source": [
        "# print the constant features\n",
        "print(\n",
        "    len([\n",
        "        x for x in X_train.columns\n",
        "        if x not in X_train.columns[sel.get_support()]\n",
        "    ]))\n",
        "\n",
        "[x for x in X_train.columns if x not in X_train.columns[sel.get_support()]]"
      ],
      "execution_count": null,
      "outputs": []
    },
    {
      "cell_type": "markdown",
      "metadata": {
        "id": "UDIjThA6cYda"
      },
      "source": [
        "- We can see that there are 51 columns / variables that are constant. This means that 51 variables show the same value, just one value, for all the observations of the training set."
      ]
    },
    {
      "cell_type": "markdown",
      "metadata": {
        "id": "kFIS85jhcYda"
      },
      "source": [
        "- We then use the transform function to reduce the training and testing sets."
      ]
    },
    {
      "cell_type": "code",
      "metadata": {
        "trusted": true,
        "id": "6y19aMBPcYdb"
      },
      "source": [
        "# we can then drop these columns from the train and test sets\n",
        "X_train = sel.transform(X_train)\n",
        "X_test = sel.transform(X_test)"
      ],
      "execution_count": null,
      "outputs": []
    },
    {
      "cell_type": "code",
      "metadata": {
        "trusted": true,
        "id": "qxiG2qcmcYdb"
      },
      "source": [
        "# check the shape of training and test set\n",
        "\n",
        "X_train.shape, X_test.shape"
      ],
      "execution_count": null,
      "outputs": []
    },
    {
      "cell_type": "markdown",
      "metadata": {
        "id": "YO3eDO9ycYdb"
      },
      "source": [
        "- We can see how by removing constant features, we managed to reduced the feature space quite a bit."
      ]
    },
    {
      "cell_type": "markdown",
      "metadata": {
        "id": "5x2o_-FwcYdb"
      },
      "source": [
        "## **2.1.2 Remove quasi-constant features** <a class=\"anchor\" id=\"2.1.2\"></a>\n",
        "\n",
        "[Table of Contents](#0.1)\n",
        "\n",
        "- Quasi-constant features are those that show the same value for the great majority of the observations of the dataset. In general, these features provide little if any information that allows a machine learning model to discriminate or predict a target. But there can be exceptions. So we should be careful when removing these type of features. Identifying and removing quasi-constant features, is an easy first step towards feature selection and more easily interpretable machine learning models.\n",
        "\n",
        "- To identify quasi-constant features, we can once again use the VarianceThreshold function from sklearn.\n",
        "\n",
        "- Here I will demonstrate how to identify quasi-constant features using the Santander Customer Satisfaction dataset."
      ]
    },
    {
      "cell_type": "code",
      "metadata": {
        "trusted": true,
        "id": "P3TjsNfocYdb"
      },
      "source": [
        "# import the Santander customer satisfaction dataset from Kaggle\n",
        "\n",
        "X_train = pd.read_csv('/kaggle/input/santander-customer-satisfaction/train.csv', nrows=35000)\n",
        "\n",
        "X_test = pd.read_csv('/kaggle/input/santander-customer-satisfaction/test.csv', nrows=15000)"
      ],
      "execution_count": null,
      "outputs": []
    },
    {
      "cell_type": "code",
      "metadata": {
        "trusted": true,
        "id": "c2leit-pcYdc"
      },
      "source": [
        "# drop TARGET label from X_train\n",
        "\n",
        "X_train.drop(labels=['TARGET'], axis=1, inplace = True)"
      ],
      "execution_count": null,
      "outputs": []
    },
    {
      "cell_type": "code",
      "metadata": {
        "trusted": true,
        "id": "XdA8MihAcYdc"
      },
      "source": [
        "# check shape of training and test sets\n",
        "\n",
        "X_train.shape, X_test.shape"
      ],
      "execution_count": null,
      "outputs": []
    },
    {
      "cell_type": "markdown",
      "metadata": {
        "id": "CBkNCvuJcYdc"
      },
      "source": [
        "### **Removing quasi-constant features**\n",
        "\n",
        "#### **Using variance threshold from sklearn**\n",
        "\n",
        "- Variance threshold from sklearn is a simple baseline approach to feature selection. It removes all features which variance doesn’t meet some threshold. By default, it removes all zero-variance features, i.e., features that have the same value in all samples.\n",
        "\n",
        "- Here, I will change the default threshold to remove almost / quasi-constant features."
      ]
    },
    {
      "cell_type": "code",
      "metadata": {
        "trusted": true,
        "id": "7Adw0jMwcYdc"
      },
      "source": [
        "sel = VarianceThreshold(threshold=0.01)  # 0.1 indicates 99% of observations approximately\n",
        "\n",
        "sel.fit(X_train)  # fit finds the features with low variance"
      ],
      "execution_count": null,
      "outputs": []
    },
    {
      "cell_type": "code",
      "metadata": {
        "trusted": true,
        "id": "axG4G-jmcYdc"
      },
      "source": [
        "# get_support is a boolean vector that indicates which features \n",
        "# are retained. If we sum over get_support, we get the number\n",
        "# of features that are not quasi-constant\n",
        "sum(sel.get_support())"
      ],
      "execution_count": null,
      "outputs": []
    },
    {
      "cell_type": "code",
      "metadata": {
        "trusted": true,
        "id": "t2AGYU8ScYdc"
      },
      "source": [
        "# alternative way of doing the above operation:\n",
        "len(X_train.columns[sel.get_support()])"
      ],
      "execution_count": null,
      "outputs": []
    },
    {
      "cell_type": "code",
      "metadata": {
        "trusted": true,
        "id": "60yvFrYAcYdd"
      },
      "source": [
        "# finally we can print the quasi-constant features\n",
        "print(\n",
        "    len([\n",
        "        x for x in X_train.columns\n",
        "        if x not in X_train.columns[sel.get_support()]\n",
        "    ]))\n",
        "\n",
        "[x for x in X_train.columns if x not in X_train.columns[sel.get_support()]]"
      ],
      "execution_count": null,
      "outputs": []
    },
    {
      "cell_type": "markdown",
      "metadata": {
        "id": "8K4zzxefcYdd"
      },
      "source": [
        "- We can see that 107 columns / variables are almost constant. This means that 107 variables show predominantly one value for ~99% the observations of the training set."
      ]
    },
    {
      "cell_type": "code",
      "metadata": {
        "trusted": true,
        "id": "ZeG3Ui3ocYdd"
      },
      "source": [
        "# percentage of observations showing each of the different values\n",
        "X_train['ind_var31'].value_counts() / np.float(len(X_train))"
      ],
      "execution_count": null,
      "outputs": []
    },
    {
      "cell_type": "markdown",
      "metadata": {
        "id": "NjAgKolccYdd"
      },
      "source": [
        "- We can see that > 99% of the observations show one value, 0. Therefore, this feature is almost constant."
      ]
    },
    {
      "cell_type": "code",
      "metadata": {
        "trusted": true,
        "id": "RJwNZrQ4cYdd"
      },
      "source": [
        "# we can then remove the features from training and test set\n",
        "X_train = sel.transform(X_train)\n",
        "X_test = sel.transform(X_test)"
      ],
      "execution_count": null,
      "outputs": []
    },
    {
      "cell_type": "code",
      "metadata": {
        "trusted": true,
        "id": "bbPT_rs-cYdd"
      },
      "source": [
        "# check the shape of training and test set\n",
        "X_train.shape, X_test.shape"
      ],
      "execution_count": null,
      "outputs": []
    },
    {
      "cell_type": "markdown",
      "metadata": {
        "id": "IfClBDLLcYdd"
      },
      "source": [
        "- By removing constant and quasi-constant features, we reduced the feature space from 370 to 263. We can see that more than 100 features were removed from the present dataset."
      ]
    },
    {
      "cell_type": "markdown",
      "metadata": {
        "id": "znpaATyqcYdd"
      },
      "source": [
        "## **2.2 Univariate selection methods** <a class=\"anchor\" id=\"2.2\"></a>\n",
        "\n",
        "[Table of Contents](#0.1)\n",
        "\n",
        "\n",
        "- Univariate feature selection methods works by selecting the best features based on univariate statistical tests like ANOVA. It can be seen as a preprocessing step to an estimator. Scikit-learn exposes feature selection routines as objects that implement the transform method.\n",
        "\n",
        "- The methods based on F-test estimate the degree of linear dependency between two random variables. They assume a linear relationship between the feature and the target. These methods also assume that the variables follow a Gaussian distribution.\n",
        "\n",
        "- There are 4 methods that fall under this category :-\n",
        "\n",
        "  1. SelectKBest\n",
        "  2. SelectPercentile\n",
        "  3. SelectFpr, SelectFdr, or family wise error SelectFwe\n",
        "  4. GenericUnivariateSelection\n",
        "  \n",
        "Source : https://scikit-learn.org/stable/modules/feature_selection.html\n",
        "\n",
        "\n",
        "- Here, I will limit the discussion to SelectKBest and SelectPercentile, because these two are most commonly used in practice."
      ]
    },
    {
      "cell_type": "markdown",
      "metadata": {
        "id": "zoRME7vPcYdd"
      },
      "source": [
        "## **2.2.1 SelectKBest** <a class=\"anchor\" id=\"2.2.1\"></a>\n",
        "\n",
        "[Table of Contents](#0.1)\n",
        "\n",
        "- This method select features according to the k highest scores.\n",
        "\n",
        "- For instance, we can perform a chi-square test to the samples to retrieve only the two best features from iris dataset as follows:\n",
        "\n",
        "Source : https://scikit-learn.org/stable/modules/feature_selection.html\n",
        "\n",
        "https://scikit-learn.org/stable/modules/generated/sklearn.feature_selection.SelectKBest.html#sklearn.feature_selection.SelectKBest"
      ]
    },
    {
      "cell_type": "code",
      "metadata": {
        "trusted": true,
        "id": "KUsMBQgscYde"
      },
      "source": [
        "from sklearn.datasets import load_iris\n",
        "from sklearn.feature_selection import SelectKBest, chi2\n",
        "X, y = load_iris(return_X_y=True)\n",
        "X.shape"
      ],
      "execution_count": null,
      "outputs": []
    },
    {
      "cell_type": "code",
      "metadata": {
        "trusted": true,
        "id": "EhUAMkjDcYde"
      },
      "source": [
        "# select the two best features\n",
        "X_new = SelectKBest(chi2, k=2).fit_transform(X, y)\n",
        "X_new.shape"
      ],
      "execution_count": null,
      "outputs": []
    },
    {
      "cell_type": "markdown",
      "metadata": {
        "id": "HfJVWPFpcYde"
      },
      "source": [
        "- Thus, we have selected the two best features from the iris dataset."
      ]
    },
    {
      "cell_type": "markdown",
      "metadata": {
        "trusted": true,
        "id": "7hwZDjg0cYde"
      },
      "source": [
        "## **2.2.2 SelectPercentile** <a class=\"anchor\" id=\"2.2.2\"></a>\n",
        "\n",
        "[Table of Contents](#0.1)\n",
        "\n",
        "\n",
        "- Select features according to a percentile of the highest scores.\n",
        "\n",
        "Source : https://scikit-learn.org/stable/modules/generated/sklearn.feature_selection.SelectPercentile.html#sklearn.feature_selection.SelectPercentile"
      ]
    },
    {
      "cell_type": "code",
      "metadata": {
        "trusted": true,
        "id": "PqKKM0Q3cYde"
      },
      "source": [
        "from sklearn.datasets import load_digits\n",
        "from sklearn.feature_selection import SelectPercentile, chi2\n",
        "X, y = load_digits(return_X_y=True)\n",
        "X.shape\n"
      ],
      "execution_count": null,
      "outputs": []
    },
    {
      "cell_type": "code",
      "metadata": {
        "trusted": true,
        "id": "vRYlExc5cYde"
      },
      "source": [
        "# now select features based on top 10 percentile\n",
        "X_new = SelectPercentile(chi2, percentile=10).fit_transform(X, y)\n",
        "X_new.shape"
      ],
      "execution_count": null,
      "outputs": []
    },
    {
      "cell_type": "markdown",
      "metadata": {
        "id": "clAxdhtRcYde"
      },
      "source": [
        "- We can see that only 7 features lie on the top 10 percentile and hence we select them accordingly."
      ]
    },
    {
      "cell_type": "markdown",
      "metadata": {
        "id": "8k_rjE9JcYde"
      },
      "source": [
        "## **Important information**\n",
        "\n",
        "- These objects take as input a scoring function that returns univariate scores and p-values (or only scores for [SelectKBest](https://scikit-learn.org/stable/modules/generated/sklearn.feature_selection.SelectKBest.html#sklearn.feature_selection.SelectKBest) and [SelectPercentile](https://scikit-learn.org/stable/modules/generated/sklearn.feature_selection.SelectPercentile.html#sklearn.feature_selection.SelectPercentile):\n",
        "\n",
        "\n",
        "- For regression tasks: [f_regression](https://scikit-learn.org/stable/modules/generated/sklearn.feature_selection.f_regression.html#sklearn.feature_selection.f_regression), [mutual_info_regression](https://scikit-learn.org/stable/modules/generated/sklearn.feature_selection.mutual_info_regression.html#sklearn.feature_selection.mutual_info_regression)\n",
        "\n",
        "- For classification tasks: [chi2](https://scikit-learn.org/stable/modules/generated/sklearn.feature_selection.chi2.html#sklearn.feature_selection.chi2), \n",
        "[f_classif](https://scikit-learn.org/stable/modules/generated/sklearn.feature_selection.f_classif.html#sklearn.feature_selection.f_classif), [mutual_info_classif](https://scikit-learn.org/stable/modules/generated/sklearn.feature_selection.mutual_info_classif.html#sklearn.feature_selection.mutual_info_classif)\n",
        "\n",
        "The methods based on F-test estimate the degree of linear dependency between two random variables. On the other hand, mutual information methods can capture any kind of statistical dependency, but being nonparametric, they require more samples for accurate estimation."
      ]
    },
    {
      "cell_type": "markdown",
      "metadata": {
        "id": "KupJ8gK3cYde"
      },
      "source": [
        "## **Feature selection with sparse data**\n",
        "\n",
        "- If you use sparse data (i.e. data represented as sparse matrices), [chi2](https://scikit-learn.org/stable/modules/generated/sklearn.feature_selection.chi2.html#sklearn.feature_selection.chi2), [mutual_info_regression](https://scikit-learn.org/stable/modules/generated/sklearn.feature_selection.mutual_info_regression.html#sklearn.feature_selection.mutual_info_regression), [mutual_info_classif](https://scikit-learn.org/stable/modules/generated/sklearn.feature_selection.mutual_info_classif.html#sklearn.feature_selection.mutual_info_classif) will deal with the data without making it dense.\n",
        "\n",
        "\n",
        "Source : https://scikit-learn.org/stable/modules/feature_selection.html"
      ]
    },
    {
      "cell_type": "markdown",
      "metadata": {
        "id": "6Cx1H916cYdf"
      },
      "source": [
        "## **Warning** \n",
        "\n",
        "- Beware not to use a regression scoring function with a classification problem, you will get useless results."
      ]
    },
    {
      "cell_type": "markdown",
      "metadata": {
        "trusted": true,
        "id": "2B-jdBiXcYdf"
      },
      "source": [
        "## **2.3 Information Gain** <a class=\"anchor\" id=\"2.3\"></a>\n",
        "\n",
        "[Table of Contents](#0.1)\n",
        "\n",
        "\n",
        "- **Information gain** or **mutual information** measures how much information the presence/absence of a feature contributes to making the correct prediction on the target.\n",
        "\n",
        "\n",
        "- In terms of  [wikipedia](https://en.wikipedia.org/wiki/Mutual_information):\n",
        "\n",
        "\n",
        "   - **Mutual information measures the information that X and Y share: It measures how much knowing one of these        variables reduces uncertainty about the other. For example, if X and Y are independent, then knowing X does        not give any information about Y and vice versa, so their mutual information is zero. At the other extreme, if      X is a deterministic function of Y and Y is a deterministic function of X then all information conveyed by X        is shared with Y: knowing X determines the value of Y and vice versa. As a result, in this case the mutual          information is the same as the uncertainty contained in Y (or X) alone, namely the entropy of Y (or X).            Moreover, this mutual information is the same as the entropy of X and as the entropy of Y. (A very special          case of this is when X and Y are the same random variable.)**\n"
      ]
    },
    {
      "cell_type": "markdown",
      "metadata": {
        "id": "pE4CyP23cYdf"
      },
      "source": [
        "## **mutual_info_classif**\n",
        "\n",
        "\n",
        "- It estimates mutual information for a discrete target variable.\n",
        "\n",
        "- Mutual information (MI) between two random variables is a non-negative value, which measures the dependency between the variables. It is equal to zero if and only if two random variables are independent, and higher values mean higher dependency. \n",
        "\n",
        "- This function relies on nonparametric methods based on entropy estimation from k-nearest neighbors distances.\n",
        "\n",
        "- It can be used for univariate features selection.\n",
        "\n",
        "- Source : \n",
        "\n",
        "https://scikit-learn.org/stable/modules/generated/sklearn.feature_selection.mutual_info_classif.html#sklearn.feature_selection.mutual_info_classif"
      ]
    },
    {
      "cell_type": "markdown",
      "metadata": {
        "id": "3ODToMOZcYdf"
      },
      "source": [
        "## **mutual_info_regression**\n",
        "\n",
        "- Estimate mutual information for a continuous target variable.\n",
        "\n",
        "- Mutual information (MI) between two random variables is a non-negative value, which measures the dependency between the variables. It is equal to zero if and only if two random variables are independent, and higher values mean higher dependency.\n",
        "\n",
        "- The function relies on nonparametric methods based on entropy estimation from k-nearest neighbors distances.\n",
        "\n",
        "- It can be used for univariate features selection\n",
        "\n",
        "- Source : \n",
        "\n",
        "https://scikit-learn.org/stable/modules/generated/sklearn.feature_selection.mutual_info_regression.html#sklearn.feature_selection.mutual_info_regression"
      ]
    },
    {
      "cell_type": "markdown",
      "metadata": {
        "trusted": true,
        "id": "ZU0bJvv-cYdf"
      },
      "source": [
        "## **2.4 Fisher Score (chi-square implementation)** <a class=\"anchor\" id=\"2.4\"></a>\n",
        "\n",
        "[Table of Contents](#0.1)\n",
        "\n",
        "- It is the **chi-square implementation** in scikit-learn. It computes chi-squared stats between each non-negative feature and class.\n",
        "\n",
        "- This score should be used to evaluate categorical variables in a classification task. It compares the observed distribution of the different classes of target Y among the different categories of the feature, against the expected distribution of the target classes, regardless of the feature categories. \n"
      ]
    },
    {
      "cell_type": "code",
      "metadata": {
        "trusted": true,
        "id": "t18e6U8WcYdf"
      },
      "source": [
        "# load libraries\n",
        "from sklearn.datasets import load_iris\n",
        "from sklearn.feature_selection import SelectKBest, chi2"
      ],
      "execution_count": null,
      "outputs": []
    },
    {
      "cell_type": "code",
      "metadata": {
        "trusted": true,
        "id": "8NJ0dAMacYdf"
      },
      "source": [
        "# Load Data\n",
        "# load iris data\n",
        "iris = load_iris()\n",
        "\n",
        "# create features and target\n",
        "X = iris.data\n",
        "y = iris.target\n",
        "\n",
        "# convert to categorical data by converting data to integers\n",
        "X = X.astype(int)"
      ],
      "execution_count": null,
      "outputs": []
    },
    {
      "cell_type": "code",
      "metadata": {
        "trusted": true,
        "id": "Q-szJ4YMcYdg"
      },
      "source": [
        "# Compare Chi-Squared Statistics\n",
        "# select two features with highest chi-squared statistics\n",
        "chi2_selector = SelectKBest(chi2, k=2)\n",
        "X_kbest = chi2_selector.fit_transform(X, y)"
      ],
      "execution_count": null,
      "outputs": []
    },
    {
      "cell_type": "code",
      "metadata": {
        "trusted": true,
        "id": "ZpCUYL5HcYdg"
      },
      "source": [
        "# View results\n",
        "print('Original number of features:', X.shape[1])\n",
        "print('Reduced number of features:', X_kbest.shape[1])"
      ],
      "execution_count": null,
      "outputs": []
    },
    {
      "cell_type": "markdown",
      "metadata": {
        "trusted": true,
        "id": "ybla-BqOcYdg"
      },
      "source": [
        "- We can see that the above code helps us to select the 2 best features based on Fisher score."
      ]
    },
    {
      "cell_type": "markdown",
      "metadata": {
        "id": "OIThfvCUcYdg"
      },
      "source": [
        "## **2.5 ANOVA F-value For Feature Selection**  <a class=\"anchor\" id=\"2.5\"></a>\n",
        "\n",
        "[Table of Contents](#0.1)\n",
        "\n",
        "\n",
        "- Compute the ANOVA F-value for the provided sample.\n",
        "\n",
        "- If the features are categorical, we will calculate a chi-square statistic between each feature and the target vector. However, if the features are quantitative, we will compute the ANOVA F-value between each feature and the target vector.\n",
        "\n",
        "- The F-value scores examine if, when we group the numerical feature by the target vector, the means for each group are significantly different."
      ]
    },
    {
      "cell_type": "code",
      "metadata": {
        "trusted": true,
        "id": "hlWF9fqQcYdg"
      },
      "source": [
        "# Load libraries\n",
        "from sklearn.datasets import load_iris\n",
        "from sklearn.feature_selection import SelectKBest\n",
        "from sklearn.feature_selection import f_classif"
      ],
      "execution_count": null,
      "outputs": []
    },
    {
      "cell_type": "code",
      "metadata": {
        "trusted": true,
        "id": "iCYG696xcYdh"
      },
      "source": [
        "# Load iris data\n",
        "iris = load_iris()\n",
        "\n",
        "# Create features and target\n",
        "X = iris.data\n",
        "y = iris.target"
      ],
      "execution_count": null,
      "outputs": []
    },
    {
      "cell_type": "code",
      "metadata": {
        "trusted": true,
        "id": "rZ27M9wAcYdh"
      },
      "source": [
        "# Select Features With Best ANOVA F-Values\n",
        "\n",
        "# Create an SelectKBest object to select features with two best ANOVA F-Values\n",
        "fvalue_selector = SelectKBest(f_classif, k=2)\n",
        "\n",
        "# Apply the SelectKBest object to the features and target\n",
        "X_kbest = fvalue_selector.fit_transform(X, y)"
      ],
      "execution_count": null,
      "outputs": []
    },
    {
      "cell_type": "code",
      "metadata": {
        "trusted": true,
        "id": "DBtsA4nOcYdh"
      },
      "source": [
        "# View results\n",
        "print('Original number of features:', X.shape[1])\n",
        "print('Reduced number of features:', X_kbest.shape[1])"
      ],
      "execution_count": null,
      "outputs": []
    },
    {
      "cell_type": "markdown",
      "metadata": {
        "id": "gqqzNz8-cYdh"
      },
      "source": [
        "- We can see that the above code helps us to select the 2 best features based on ANOVA F-Value."
      ]
    },
    {
      "cell_type": "markdown",
      "metadata": {
        "id": "bjvV4Cl5cYdh"
      },
      "source": [
        "## **2.6 Correlation-Matrix with Heatmap** <a class=\"anchor\" id=\"2.6\"></a>\n",
        "\n",
        "[Table of Contents](#0.1)\n",
        "\n",
        "\n",
        "- **Correlation** is a measure of the linear relationship of 2 or more variables. Through correlation, we can predict one variable from the other.\n",
        "\n",
        "- **Good variables are highly correlated with the target**.\n",
        "\n",
        "- Correlated predictor variables provide redundant information.\n",
        "\n",
        "- **Variables should be correlated with the target but uncorrelated among themselves**.\n",
        "\n",
        "\n",
        "- Correlation Feature Selection evaluates subsets of features on the basis of the following hypothesis: \n",
        "\n",
        "   - \"Good feature subsets contain features highly correlated with the target, yet uncorrelated to each other\".\n",
        "   \n",
        "   \n",
        "- In this section,  I will demonstrate how to select features based on correlation between two features. We can find features that are correlated with each other. By identifying these features, we can then decide which features we want to keep, and which ones we want to remove.\n"
      ]
    },
    {
      "cell_type": "markdown",
      "metadata": {
        "id": "eCLrTPNwcYdh"
      },
      "source": [
        "- Using Pearson correlation our returned coefficient values will vary between -1 and 1.\n",
        "\n",
        "- If the correlation between two features is 0 this means that changing any of these two features will not affect the other.\n",
        "\n",
        "- If the correlation between two features is greater than 0 this means that increasing the values in one feature will make increase also the values in the other feature (the closer the correlation coefficient is to 1 and the stronger is going to be this bond between the two different features).\n",
        "\n",
        "- If the correlation between two features is less than 0 this means that increasing the values in one feature will make decrease the values in the other feature (the closer the correlation coefficient is to -1 and the stronger is going to be this relationship between the two different features).\n",
        "\n",
        "- In this analysis we will check if the selected variables are highly correlated with each other. If they are, we would then need to keep just one of the correlated ones and drop the others."
      ]
    },
    {
      "cell_type": "code",
      "metadata": {
        "trusted": true,
        "id": "SxE4EcEWcYdh"
      },
      "source": [
        "# Load iris data\n",
        "from sklearn.datasets import load_iris\n",
        "iris = load_iris()\n",
        "\n",
        "# Create features and target\n",
        "X = iris.data\n",
        "y = iris.target"
      ],
      "execution_count": null,
      "outputs": []
    },
    {
      "cell_type": "code",
      "metadata": {
        "trusted": true,
        "id": "w3gEBucucYdh"
      },
      "source": [
        "# Convert feature matrix into DataFrame\n",
        "df = pd.DataFrame(X)\n",
        "\n",
        "# View the data frame\n",
        "print(df)"
      ],
      "execution_count": null,
      "outputs": []
    },
    {
      "cell_type": "code",
      "metadata": {
        "trusted": true,
        "id": "loP-sIqAcYdh"
      },
      "source": [
        "# Create correlation matrix\n",
        "corr_matrix = df.corr()\n",
        "print(corr_matrix)"
      ],
      "execution_count": null,
      "outputs": []
    },
    {
      "cell_type": "code",
      "metadata": {
        "trusted": true,
        "id": "jUeDc2zgcYdi"
      },
      "source": [
        "# Create correlation heatmap\n",
        "plt.figure(figsize=(8,6))\n",
        "plt.title('Correlation Heatmap of Iris Dataset')\n",
        "a = sns.heatmap(corr_matrix, square=True, annot=True, fmt='.2f', linecolor='black')\n",
        "a.set_xticklabels(a.get_xticklabels(), rotation=30)\n",
        "a.set_yticklabels(a.get_yticklabels(), rotation=30)           \n",
        "plt.show()    \n"
      ],
      "execution_count": null,
      "outputs": []
    },
    {
      "cell_type": "code",
      "metadata": {
        "trusted": true,
        "id": "UmZ50AmRcYdi"
      },
      "source": [
        " # Select upper triangle of correlation matrix\n",
        "upper = corr_matrix.where(np.triu(np.ones(corr_matrix.shape), k=1).astype(np.bool))\n",
        "upper    "
      ],
      "execution_count": null,
      "outputs": []
    },
    {
      "cell_type": "code",
      "metadata": {
        "trusted": true,
        "id": "-Eo-JUqJcYdi"
      },
      "source": [
        "# Find index of feature columns with correlation greater than 0.9\n",
        "to_drop = [column for column in upper.columns if any(upper[column] > 0.9)]\n",
        "print(to_drop)"
      ],
      "execution_count": null,
      "outputs": []
    },
    {
      "cell_type": "code",
      "metadata": {
        "trusted": true,
        "id": "krTlNSSPcYdi"
      },
      "source": [
        "# Drop Marked Features\n",
        "df1 = df.drop(df.columns[to_drop], axis=1)\n",
        "print(df1)\n"
      ],
      "execution_count": null,
      "outputs": []
    },
    {
      "cell_type": "markdown",
      "metadata": {
        "id": "z9MrT6nvcYdi"
      },
      "source": [
        "- We can see that we have dropped the third column from the original dataset."
      ]
    },
    {
      "cell_type": "markdown",
      "metadata": {
        "trusted": true,
        "id": "2nmBjshbcYdi"
      },
      "source": [
        "# **3. Wrapper Methods** <a class=\"anchor\" id=\"3\"></a>\n",
        "\n",
        "[Table of Contents](#0.1)\n",
        "\n",
        "\n",
        "- In wrapper methods, we try to use a subset of features and train a model using them. Based on the inferences that we draw from the previous model, we decide to add or remove features from the subset. The problem is essentially reduced to a search problem. These methods are usually computationally very expensive.\n",
        "\n",
        "- Some common examples of wrapper methods are \n",
        "\n",
        "  - 1. Forward selection, \n",
        "  - 2. Backward elimination, \n",
        "  - 3. Exhaustive feature selection,\n",
        "  - 4. Recursive feature elimination.\n",
        "  - 5. Recursive feature elimination with cross-validation\n",
        "  \n",
        "  \n",
        "- Wrapper methods can be explained with the help of following graphic:\n"
      ]
    },
    {
      "cell_type": "markdown",
      "metadata": {
        "id": "i5nvTAfScYdi"
      },
      "source": [
        "![Wrapper Methods](https://res.cloudinary.com/dyd911kmh/image/upload/f_auto,q_auto:best/v1537549832/Image2_ajaeo8.png)\n",
        "\n",
        "\n",
        "\n",
        "### Image source : AnalyticsVidhya"
      ]
    },
    {
      "cell_type": "markdown",
      "metadata": {
        "id": "F0XZKXvocYdi"
      },
      "source": [
        "## **3.1 Forward Selection** <a class=\"anchor\" id=\"3.1\"></a>\n",
        "\n",
        "[Table of Contents](#0.1) \n",
        "\n",
        "\n",
        "- Forward selection is an iterative method in which we start with having no feature in the model. In each iteration, we keep adding the feature which best improves our model till an addition of a new variable does not improve the performance of the model.\n",
        "\n",
        "- The procedure starts with an empty set of features [reduced set]. The best of the original features is determined and added to the reduced set. At each subsequent iteration, the best of the remaining original attributes is added to the set.\n",
        "\n",
        "- Step forward feature selection starts by evaluating all features individually and selects the one that generates the best performing algorithm, according to a pre-set evaluation criteria. In the second step, it evaluates all possible combinations of the selected feature and a second feature, and selects the pair that produce the best performing algorithm based on the same pre-set criteria.\n",
        "\n",
        "- The pre-set criteria can be the roc_auc for classification and the r squared for regression for example.\n",
        "\n",
        "- This selection procedure is called greedy, because it evaluates all possible single, double, triple and so on feature combinations. Therefore, it is quite computationally expensive, and sometimes, if feature space is big, even unfeasible.\n",
        "\n",
        "- There is a special package for python that implements this type of feature selection: mlxtend.\n",
        "\n",
        "- In the mlxtend implementation of the step forward feature selection, the stopping criteria is an arbitrarily set number of features. So the search will finish when we reach the desired number of selected features.\n",
        "\n",
        "- I will demonstrate the Step Forward feature selection algorithm from mlxtend using the House Price dataset.\n"
      ]
    },
    {
      "cell_type": "code",
      "metadata": {
        "trusted": true,
        "id": "lCy_1SyKcYdj"
      },
      "source": [
        "# step forward feature selection\n",
        "\n",
        "from sklearn.model_selection import train_test_split\n",
        "from sklearn.ensemble import RandomForestRegressor\n",
        "from sklearn.metrics import r2_score\n",
        "from mlxtend.feature_selection import SequentialFeatureSelector as SFS"
      ],
      "execution_count": null,
      "outputs": []
    },
    {
      "cell_type": "code",
      "metadata": {
        "trusted": true,
        "id": "7VUvbcZacYdj"
      },
      "source": [
        "#load dataset\n",
        "data = pd.read_csv('/kaggle/input/house-prices-advanced-regression-techniques/train.csv')\n",
        "data.shape"
      ],
      "execution_count": null,
      "outputs": []
    },
    {
      "cell_type": "code",
      "metadata": {
        "trusted": true,
        "id": "AJHkzq9CcYdj"
      },
      "source": [
        "# In practice, feature selection should be done after data pre-processing,\n",
        "# so ideally, all the categorical variables are encoded into numbers,\n",
        "# and then you can assess how deterministic they are of the target\n",
        "\n",
        "# here for simplicity I will use only numerical variables\n",
        "# select numerical columns:\n",
        "\n",
        "numerics = ['int16', 'int32', 'int64', 'float16', 'float32', 'float64']\n",
        "numerical_vars = list(data.select_dtypes(include=numerics).columns)\n",
        "data = data[numerical_vars]\n",
        "data.shape"
      ],
      "execution_count": null,
      "outputs": []
    },
    {
      "cell_type": "code",
      "metadata": {
        "trusted": true,
        "id": "RE03iDTFcYdj"
      },
      "source": [
        "# separate train and test sets\n",
        "X_train, X_test, y_train, y_test = train_test_split(\n",
        "    data.drop(labels=['SalePrice'], axis=1),\n",
        "    data['SalePrice'],\n",
        "    test_size=0.3,\n",
        "    random_state=0)\n",
        "\n",
        "X_train.shape, X_test.shape"
      ],
      "execution_count": null,
      "outputs": []
    },
    {
      "cell_type": "code",
      "metadata": {
        "trusted": true,
        "id": "5aK5wB0qcYdj"
      },
      "source": [
        "# find and remove correlated features\n",
        "def correlation(dataset, threshold):\n",
        "    col_corr = set()  # Set of all the names of correlated columns\n",
        "    corr_matrix = dataset.corr()\n",
        "    for i in range(len(corr_matrix.columns)):\n",
        "        for j in range(i):\n",
        "            if abs(corr_matrix.iloc[i, j]) > threshold: # we are interested in absolute coeff value\n",
        "                colname = corr_matrix.columns[i]  # getting the name of column\n",
        "                col_corr.add(colname)\n",
        "    return col_corr\n",
        "\n",
        "corr_features = correlation(X_train, 0.8)\n",
        "print('correlated features: ', len(set(corr_features)) )"
      ],
      "execution_count": null,
      "outputs": []
    },
    {
      "cell_type": "code",
      "metadata": {
        "trusted": true,
        "id": "StN-aRdVcYdj"
      },
      "source": [
        "# removed correlated  features\n",
        "X_train.drop(labels=corr_features, axis=1, inplace=True)\n",
        "X_test.drop(labels=corr_features, axis=1, inplace=True)\n",
        "\n",
        "X_train.shape, X_test.shape"
      ],
      "execution_count": null,
      "outputs": []
    },
    {
      "cell_type": "code",
      "metadata": {
        "trusted": true,
        "id": "GciMMeA2cYdj"
      },
      "source": [
        "X_train.fillna(0, inplace=True)"
      ],
      "execution_count": null,
      "outputs": []
    },
    {
      "cell_type": "code",
      "metadata": {
        "trusted": true,
        "id": "wkz934eVcYdj"
      },
      "source": [
        "# step forward feature selection\n",
        "\n",
        "from mlxtend.feature_selection import SequentialFeatureSelector as SFS\n",
        "\n",
        "sfs1 = SFS(RandomForestRegressor(), \n",
        "           k_features=10, \n",
        "           forward=True, \n",
        "           floating=False, \n",
        "           verbose=2,\n",
        "           scoring='r2',\n",
        "           cv=3)\n",
        "\n",
        "sfs1 = sfs1.fit(np.array(X_train), y_train)"
      ],
      "execution_count": null,
      "outputs": []
    },
    {
      "cell_type": "code",
      "metadata": {
        "trusted": true,
        "id": "g0UnJtlLcYdj"
      },
      "source": [
        "sfs1.k_feature_idx_"
      ],
      "execution_count": null,
      "outputs": []
    },
    {
      "cell_type": "code",
      "metadata": {
        "trusted": true,
        "id": "vHmKwJgDcYdj"
      },
      "source": [
        "X_train.columns[list(sfs1.k_feature_idx_)]"
      ],
      "execution_count": null,
      "outputs": []
    },
    {
      "cell_type": "markdown",
      "metadata": {
        "id": "i_zlXYZrcYdk"
      },
      "source": [
        "- We can see that forward feature selection results in the above columns being selected from all the given columns."
      ]
    },
    {
      "cell_type": "markdown",
      "metadata": {
        "id": "KFia6xT-cYdk"
      },
      "source": [
        "## **3.2 Backward Elimination** <a class=\"anchor\" id=\"3.2\"></a>\n",
        "\n",
        "[Table of Contents](#0.1) \n",
        "\n",
        "\n",
        "- In backward elimination, we start with all the features and removes the least significant feature at each iteration which improves the performance of the model. We repeat this until no improvement is observed on removal of features.\n",
        "\n",
        "- The procedure starts with the full set of attributes. At each step, it removes the worst attribute remaining in the set.\n"
      ]
    },
    {
      "cell_type": "code",
      "metadata": {
        "trusted": true,
        "id": "c_lNcLwhcYdk"
      },
      "source": [
        "# step backward feature elimination\n",
        "\n",
        "sfs1 = SFS(RandomForestRegressor(), \n",
        "           k_features=10, \n",
        "           forward=False, \n",
        "           floating=False, \n",
        "           verbose=2,\n",
        "           scoring='r2',\n",
        "           cv=3)\n",
        "\n",
        "sfs1 = sfs1.fit(np.array(X_train), y_train)"
      ],
      "execution_count": null,
      "outputs": []
    },
    {
      "cell_type": "code",
      "metadata": {
        "trusted": true,
        "id": "bB7gpZTEcYdk"
      },
      "source": [
        "sfs1.k_feature_idx_"
      ],
      "execution_count": null,
      "outputs": []
    },
    {
      "cell_type": "code",
      "metadata": {
        "trusted": true,
        "id": "bp6J8_1zcYdk"
      },
      "source": [
        "X_train.columns[list(sfs1.k_feature_idx_)]"
      ],
      "execution_count": null,
      "outputs": []
    },
    {
      "cell_type": "markdown",
      "metadata": {
        "id": "6Hv64Jz2cYdk"
      },
      "source": [
        "- So, backward feature elimination results in the following columns being selected."
      ]
    },
    {
      "cell_type": "markdown",
      "metadata": {
        "id": "VSKN6tbJcYdk"
      },
      "source": [
        "## **3.3 Exhaustive Feature Selection** <a class=\"anchor\" id=\"3.3\"></a>\n",
        "\n",
        "[Table of Contents](#0.1) \n",
        "\n",
        "\n",
        "- In an exhaustive feature selection the best subset of features is selected, over all possible feature subsets, by optimizing a specified performance metric for a certain machine learning algorithm. For example, if the classifier is a logistic regression and the dataset consists of 4 features, the algorithm will evaluate all 15 feature combinations as follows:\n",
        "\n",
        "  - all possible combinations of 1 feature\n",
        "  - all possible combinations of 2 features\n",
        "  - all possible combinations of 3 features\n",
        "  - all the 4 features\n",
        "  \n",
        "  \n",
        "and select the one that results in the best performance (e.g., classification accuracy) of the logistic regression classifier.\n",
        "\n",
        "- This is another greedy algorithm as it evaluates all possible feature combinations. It is quite computationally expensive, and sometimes, if feature space is big, even unfeasible.\n",
        "\n",
        "- There is a special package for python that implements this type of feature selection: mlxtend.\n",
        "\n",
        "- In the mlxtend implementation of the exhaustive feature selection, the stopping criteria is an arbitrarily set number of features. So the search will finish when we reach the desired number of selected features.\n",
        "\n",
        "- This is somewhat arbitrary because we may be selecting a subopimal number of features, or likewise, a high number of features."
      ]
    },
    {
      "cell_type": "markdown",
      "metadata": {
        "id": "DGYOpF0hcYdk"
      },
      "source": [
        "## **3.4 Recursive Feature elimination** <a class=\"anchor\" id=\"3.4\"></a>\n",
        "\n",
        "[Table of Contents](#0.1) \n",
        "\n",
        "\n",
        "- It is a greedy optimization algorithm which aims to find the best performing feature subset. It repeatedly creates models and keeps aside the best or the worst performing feature at each iteration. It constructs the next model with the left features until all the features are exhausted. It then ranks the features based on the order of their elimination.\n",
        "\n",
        "- Recursive feature elimination performs a greedy search to find the best performing feature subset. It iteratively creates models and determines the best or the worst performing feature at each iteration. It constructs the subsequent models with the left features until all the features are explored. It then ranks the features based on the order of their elimination. In the worst case, if a dataset contains N number of features RFE will do a greedy search for 2N combinations of features.\n",
        "\n",
        "- Source : https://scikit-learn.org/stable/auto_examples/feature_selection/plot_rfe_digits.html#sphx-glr-auto-examples-feature-selection-plot-rfe-digits-py"
      ]
    },
    {
      "cell_type": "markdown",
      "metadata": {
        "id": "mR9KqFX6cYdk"
      },
      "source": [
        "## **3.5 Recursive Feature Elimination with Cross-Validation** <a class=\"anchor\" id=\"3.5\"></a>\n",
        "\n",
        "[Table of Contents](#0.1) \n",
        "\n",
        "\n",
        "- **Recursive Feature Elimination with Cross-Validated (RFECV)** feature selection technique selects the best subset of features for the estimator by removing 0 to N features iteratively using recursive feature elimination.\n",
        "\n",
        "- Then it selects the best subset based on the accuracy or cross-validation score or roc-auc of the model. Recursive feature elimination technique eliminates n features from a model by fitting the model multiple times and at each step, removing the weakest features.\n",
        "\n",
        "- Please see my kernel - [Extensive Analysis - EDA + FE + Modelling : Section 19 Recursive FeaTure Elimination with Cross-Validation](https://www.kaggle.com/prashant111/extensive-analysis-eda-fe-modelling)\n",
        "\n",
        "- Source : https://scikit-learn.org/stable/auto_examples/feature_selection/plot_rfe_with_cross_validation.html#sphx-glr-auto-examples-feature-selection-plot-rfe-with-cross-validation-py"
      ]
    },
    {
      "cell_type": "markdown",
      "metadata": {
        "id": "uJ42IYZ1cYdk"
      },
      "source": [
        "# **4. Embedded Methods** <a class=\"anchor\" id=\"4\"></a>\n",
        "\n",
        "[Table of Contents](#0.1)\n",
        "\n",
        "\n",
        "- Embedded methods are iterative in a sense that takes care of each iteration of the model training process and carefully extract those features which contribute the most to the training for a particular iteration. Regularization methods are the most commonly used embedded methods which penalize a feature given a coefficient threshold.\n",
        "\n",
        "- This is why Regularization methods are also called penalization methods that introduce additional constraints into the optimization of a predictive algorithm (such as a regression algorithm) that bias the model toward lower complexity (fewer coefficients).\n",
        "\n",
        "- Some of the most popular examples of these methods are LASSO and RIDGE regression which have inbuilt penalization functions to reduce overfitting.\n",
        "\n",
        "- Embedded methods can be explained with the help of following graphic:\n"
      ]
    },
    {
      "cell_type": "markdown",
      "metadata": {
        "id": "nmKUhPC7cYdk"
      },
      "source": [
        "![Embedded Methods](https://www.analyticsvidhya.com/wp-content/uploads/2016/11/Embedded_1.png)\n",
        "\n",
        "\n",
        "### Image source : AnalyticsVidhya"
      ]
    },
    {
      "cell_type": "markdown",
      "metadata": {
        "id": "cJX7auTRcYdl"
      },
      "source": [
        "## **4.1 LASSO Regression**<a class=\"anchor\" id=\"4.1\"></a>\n",
        "\n",
        "[Table of Contents](#0.1)\n",
        "\n",
        "\n",
        "- Lasso regression performs L1 regularization which adds penalty equivalent to absolute value of the magnitude of coefficients.\n",
        "\n",
        "- Regularisation consists in adding a penalty to the different parameters of the machine learning model to reduce the freedom of the model and in other words to avoid overfitting. In linear model regularisation, the penalty is applied over the coefficients that multiply each of the predictors. From the different types of regularisation, Lasso or l1 has the property that is able to shrink some of the coefficients to zero. Therefore, that feature can be removed from the model.\n",
        "\n",
        "- I will demonstrate how to select features using the Lasso regularisation on the House Price dataset from Kaggle."
      ]
    },
    {
      "cell_type": "code",
      "metadata": {
        "trusted": true,
        "id": "56MwmAGfcYdl"
      },
      "source": [
        "#load libraries\n",
        "from sklearn.model_selection import train_test_split\n",
        "from sklearn.linear_model import Lasso\n",
        "from sklearn.feature_selection import SelectFromModel\n",
        "from sklearn.preprocessing import StandardScaler"
      ],
      "execution_count": null,
      "outputs": []
    },
    {
      "cell_type": "code",
      "metadata": {
        "trusted": true,
        "id": "F1nPG1oKcYdl"
      },
      "source": [
        "# load dataset\n",
        "data = pd.read_csv('/kaggle/input/house-prices-advanced-regression-techniques/train.csv')\n",
        "data.shape"
      ],
      "execution_count": null,
      "outputs": []
    },
    {
      "cell_type": "code",
      "metadata": {
        "trusted": true,
        "id": "AkMXlJfEcYdl"
      },
      "source": [
        "# In practice, feature selection should be done after data pre-processing,\n",
        "# so ideally, all the categorical variables are encoded into numbers,\n",
        "# and then you can assess how deterministic they are of the target\n",
        "\n",
        "# here for simplicity I will use only numerical variables\n",
        "# select numerical columns:\n",
        "\n",
        "numerics = ['int16', 'int32', 'int64', 'float16', 'float32', 'float64']\n",
        "numerical_vars = list(data.select_dtypes(include=numerics).columns)\n",
        "data = data[numerical_vars]\n",
        "data.shape"
      ],
      "execution_count": null,
      "outputs": []
    },
    {
      "cell_type": "code",
      "metadata": {
        "trusted": true,
        "id": "tEESxwDjcYdl"
      },
      "source": [
        "# separate train and test sets\n",
        "X_train, X_test, y_train, y_test = train_test_split(\n",
        "    data.drop(labels=['SalePrice'], axis=1),\n",
        "    data['SalePrice'],\n",
        "    test_size=0.3,\n",
        "    random_state=0)\n",
        "\n",
        "X_train.shape, X_test.shape"
      ],
      "execution_count": null,
      "outputs": []
    },
    {
      "cell_type": "code",
      "metadata": {
        "trusted": true,
        "id": "7FHwCo1ccYdl"
      },
      "source": [
        "# the features in the house dataset are in very\n",
        "# different scales, so it helps the regression to scale them\n",
        "\n",
        "scaler = StandardScaler()\n",
        "scaler.fit(X_train.fillna(0))"
      ],
      "execution_count": null,
      "outputs": []
    },
    {
      "cell_type": "code",
      "metadata": {
        "trusted": true,
        "id": "Gfl9RbYOcYdl"
      },
      "source": [
        "# here, again I will train a Lasso Linear regression and select\n",
        "# the non zero features in one line.\n",
        "# bear in mind that the linear regression object from sklearn does\n",
        "# not allow for regularisation. So If you want to make a regularised\n",
        "# linear regression you need to import specifically \"Lasso\"\n",
        "# that is the l1 version of the linear regression\n",
        "# alpha is the penalisation here, so I set it high in order\n",
        "# to force the algorithm to shrink some coefficients\n",
        "\n",
        "sel_ = SelectFromModel(Lasso(alpha=100))\n",
        "sel_.fit(scaler.transform(X_train.fillna(0)), y_train)"
      ],
      "execution_count": null,
      "outputs": []
    },
    {
      "cell_type": "code",
      "metadata": {
        "trusted": true,
        "id": "hzJ2UbD1cYdl"
      },
      "source": [
        "sel_.get_support()"
      ],
      "execution_count": null,
      "outputs": []
    },
    {
      "cell_type": "code",
      "metadata": {
        "trusted": true,
        "id": "jnq4mDuQcYdl"
      },
      "source": [
        "# make a list with the selected features and print the outputs\n",
        "selected_feat = X_train.columns[(sel_.get_support())]\n",
        "\n",
        "print('total features: {}'.format((X_train.shape[1])))\n",
        "print('selected features: {}'.format(len(selected_feat)))\n",
        "print('features with coefficients shrank to zero: {}'.format(\n",
        "    np.sum(sel_.estimator_.coef_ == 0)))"
      ],
      "execution_count": null,
      "outputs": []
    },
    {
      "cell_type": "markdown",
      "metadata": {
        "id": "B3SDn9AUcYdl"
      },
      "source": [
        "- We can see that Lasso regularisation helps to remove non-important features from the dataset. So, increasing the penalisation will result in increase the number of features removed. Therefore, we need to keep an eye and monitor that we don't set a penalty too high so that to remove even important features, or too low and then not remove non-important features.\n",
        "\n",
        "- If the penalty is too high and important features are removed, we will notice a drop in the performance of the algorithm and then realise that we need to decrease the regularisation."
      ]
    },
    {
      "cell_type": "markdown",
      "metadata": {
        "_uuid": "8f2839f25d086af736a60e9eeb907d3b93b6e0e5",
        "_cell_guid": "b1076dfc-b9ad-4769-8c92-a6c4dae69d19",
        "trusted": true,
        "id": "nedSCvd2cYdm"
      },
      "source": [
        "## **4.2 Random Forest Importance**<a class=\"anchor\" id=\"4.2\"></a>\n",
        "\n",
        "[Table of Contents](#0.1)\n",
        "\n",
        "- Random forests are one the most popular machine learning algorithms. They are so successful because they provide in general a good predictive performance, low overfitting and easy interpretability. This interpretability is given by the fact that it is straightforward to derive the importance of each variable on the tree decision. In other words, it is easy to compute how much each variable is contributing to the decision.\n",
        "\n",
        "- Random forests consist of 4-12 hundred decision trees, each of them built over a random extraction of the observations from the dataset and a random extraction of the features. Not every tree sees all the features or all the observations, and this guarantees that the trees are de-correlated and therefore less prone to over-fitting. Each tree is also a sequence of yes-no questions based on a single or combination of features. At each node (this is at each question), the three divides the dataset into 2 buckets, each of them hosting observations that are more similar among themselves and different from the ones in the other bucket. Therefore, the importance of each feature is derived by how \"pure\" each of the buckets is.\n",
        "\n",
        "- For classification, the measure of impurity is either the Gini impurity or the information gain/entropy. For regression the measure of impurity is variance. Therefore, when training a tree, it is possible to compute how much each feature decreases the impurity. The more a feature decreases the impurity, the more important the feature is. In random forests, the impurity decrease from each feature can be averaged across trees to determine the final importance of the variable.\n",
        "\n",
        "- To give a better intuition, features that are selected at the top of the trees are in general more important than features that are selected at the end nodes of the trees, as generally the top splits lead to bigger information gains.\n",
        "\n",
        "- Please see my kernel, [Random Forest Classifier + Feature Importance - Section 13. Find important features with Random Forest model](https://www.kaggle.com/prashant111/random-forest-classifier-feature-importance) to know how to find important features using the random forest model.\n",
        "\n",
        "- I will demonstrate this process using the mushroom classification dataset as follows:-"
      ]
    },
    {
      "cell_type": "code",
      "metadata": {
        "trusted": true,
        "id": "JN2bhZtMcYdm"
      },
      "source": [
        "# Import libraries\n",
        "from sklearn import preprocessing\n",
        "from sklearn.preprocessing import LabelEncoder\n",
        "from sklearn.preprocessing import StandardScaler\n",
        "from sklearn.model_selection import train_test_split\n",
        "from sklearn import tree\n",
        "from sklearn.ensemble import RandomForestClassifier"
      ],
      "execution_count": null,
      "outputs": []
    },
    {
      "cell_type": "code",
      "metadata": {
        "trusted": true,
        "id": "lPtSbPjncYdm"
      },
      "source": [
        "# Load dataset\n",
        "df = pd.read_csv('/kaggle/input/mushroom-classification/mushrooms.csv')"
      ],
      "execution_count": null,
      "outputs": []
    },
    {
      "cell_type": "code",
      "metadata": {
        "trusted": true,
        "id": "mXMUsewZcYdm"
      },
      "source": [
        "# Declare feature vector and target variable\n",
        "X = df.drop(['class'], axis = 1)\n",
        "y = df['class']"
      ],
      "execution_count": null,
      "outputs": []
    },
    {
      "cell_type": "code",
      "metadata": {
        "trusted": true,
        "id": "tL1disn0cYdm"
      },
      "source": [
        "# Encode categorical variables\n",
        "X = pd.get_dummies(X, prefix_sep='_')\n",
        "y = LabelEncoder().fit_transform(y)"
      ],
      "execution_count": null,
      "outputs": []
    },
    {
      "cell_type": "code",
      "metadata": {
        "trusted": true,
        "id": "MHPjnjk8cYdm"
      },
      "source": [
        "# Normalize feature vector\n",
        "X2 = StandardScaler().fit_transform(X)"
      ],
      "execution_count": null,
      "outputs": []
    },
    {
      "cell_type": "code",
      "metadata": {
        "trusted": true,
        "id": "u9C-lFRLcYdm"
      },
      "source": [
        "# Split the dataset\n",
        "X_train, X_test, y_train, y_test = train_test_split(X2, y, test_size = 0.30, random_state = 0)"
      ],
      "execution_count": null,
      "outputs": []
    },
    {
      "cell_type": "code",
      "metadata": {
        "trusted": true,
        "id": "EREzRLqPcYdm"
      },
      "source": [
        "\n",
        "# instantiate the classifier with n_estimators = 100\n",
        "clf = RandomForestClassifier(n_estimators=100, random_state=0)\n"
      ],
      "execution_count": null,
      "outputs": []
    },
    {
      "cell_type": "code",
      "metadata": {
        "trusted": true,
        "id": "xMt7dB5dcYdm"
      },
      "source": [
        "# fit the classifier to the training set\n",
        "clf.fit(X_train, y_train)"
      ],
      "execution_count": null,
      "outputs": []
    },
    {
      "cell_type": "code",
      "metadata": {
        "trusted": true,
        "id": "43z0jUencYdm"
      },
      "source": [
        "# predict on the test set\n",
        "y_pred = clf.predict(X_test)"
      ],
      "execution_count": null,
      "outputs": []
    },
    {
      "cell_type": "markdown",
      "metadata": {
        "id": "lu98hauscYdm"
      },
      "source": [
        "## **Feature Importance**\n",
        "\n",
        "- Decision Trees models which are based on ensembles (eg. Extra Trees and Random Forest) can be used to rank the importance of the different features. Knowing which features our model is giving most importance can be of vital importance to understand how our model is making it’s predictions (therefore making it more explainable). At the same time, we can get rid of the features which do not bring any benefit to our model."
      ]
    },
    {
      "cell_type": "code",
      "metadata": {
        "trusted": true,
        "id": "qp3Skm3ecYdn"
      },
      "source": [
        "# visualize feature importance\n",
        "\n",
        "plt.figure(num=None, figsize=(10,8), dpi=80, facecolor='w', edgecolor='k')\n",
        "\n",
        "feat_importances = pd.Series(clf.feature_importances_, index= X.columns)\n",
        "\n",
        "feat_importances.nlargest(7).plot(kind='barh')"
      ],
      "execution_count": null,
      "outputs": []
    },
    {
      "cell_type": "markdown",
      "metadata": {
        "id": "m-BQ6OvVcYdn"
      },
      "source": [
        "- Now we know which features are most important in the Random Forest model, we can train our model just using these features. \n",
        "\n",
        "- I have implemented this in the kernel - [Random Forest Classifier + Feature Importance : Section 15 - Build the Random Forest model on selected features](https://www.kaggle.com/prashant111/random-forest-classifier-feature-importance). It resulted in improved accuracy."
      ]
    },
    {
      "cell_type": "markdown",
      "metadata": {
        "id": "eGIjVh2LcYdn"
      },
      "source": [
        "# **5. How to choose the right feature selection method** <a class=\"anchor\" id=\"5\"></a>\n",
        "\n",
        "[Table of Contents](#0.1)\n",
        "\n",
        "\n",
        "- We can see that there are lot of feature selection techniques available. \n",
        "\n",
        "- The following graphic will serve as a guide on how to choose a feature selection method:-"
      ]
    },
    {
      "cell_type": "markdown",
      "metadata": {
        "id": "t9ie3RM9cYdn"
      },
      "source": [
        "![How to Choose a Feature Selection Method](https://3qeqpr26caki16dnhd19sv6by6v-wpengine.netdna-ssl.com/wp-content/uploads/2019/11/How-to-Choose-Feature-Selection-Methods-For-Machine-Learning.png)\n",
        "\n",
        "\n",
        "## **Image Source : Machine Learning Mastery**"
      ]
    },
    {
      "cell_type": "markdown",
      "metadata": {
        "id": "XCBDv8ehcYdn"
      },
      "source": [
        "## **Numerical Input, Numerical Output**\n",
        "\n",
        "- This is a regression predictive modeling problem with numerical input variables.\n",
        "\n",
        "- The most common techniques are to use a correlation coefficient, such as Pearson’s for a linear correlation, or rank-based methods for a nonlinear correlation.\n",
        "\n",
        "- The tests emplyed are as follows:-\n",
        "\n",
        "  - Pearson’s correlation coefficient (linear).\n",
        "  - Spearman’s rank coefficient (nonlinear)\n",
        "  \n",
        "  \n",
        "## **Numerical Input, Categorical Output**\n",
        "\n",
        "- This is a classification predictive modeling problem with numerical input variables.\n",
        "\n",
        "- This might be the most common example of a classification problem,\n",
        "\n",
        "- Again, the most common techniques are correlation based, although in this case, they must take the categorical target into account.\n",
        "\n",
        "- We can employ the following tests as follows:-\n",
        "\n",
        "  - ANOVA correlation coefficient (linear).\n",
        "  - Kendall’s rank coefficient (nonlinear).\n",
        "  \n",
        "- Kendall does assume that the categorical variable is ordinal.\n",
        "\n",
        "\n",
        "## **Categorical Input, Numerical Output**\n",
        "\n",
        "- This is a regression predictive modeling problem with categorical input variables.\n",
        "\n",
        "- This is a strange example of a regression problem (e.g. we will not encounter it often).\n",
        "\n",
        "- We can use the same “Numerical Input, Categorical Output” methods (described above), but in reverse.\n",
        "\n",
        "\n",
        "\n",
        "\n",
        "## **Categorical Input, Categorical Output**\n",
        "\n",
        "- This is a classification predictive modeling problem with categorical input variables.\n",
        "\n",
        "- The most common correlation measure for categorical data is the chi-squared test. We can also use mutual information (information gain) from the field of information theory.\n",
        "\n",
        "- The following tests can be employed in this case -\n",
        "\n",
        "  - Chi-Squared test (contingency tables).\n",
        "  - Mutual Information.\n",
        "  \n",
        "In fact, mutual information is a powerful method that may prove useful for both categorical and numerical data, e.g. it is agnostic to the data types."
      ]
    },
    {
      "cell_type": "markdown",
      "metadata": {
        "id": "inNziPCOcYdn"
      },
      "source": [
        "# **6. Tips and Tricks for Feature Selection** <a class=\"anchor\" id=\"6\"></a>\n",
        "\n",
        "[Table of Contents](#0.1)\n",
        "\n",
        "\n",
        "- In this section, we provide some additional considerations when using filter-based feature selection.\n",
        "\n",
        "\n",
        "## **Correlation Statistics**\n",
        "\n",
        "- The scikit-learn library provides an implementation of most of the useful statistical measures.\n",
        "\n",
        "- For example:\n",
        "\n",
        "   - Pearson’s Correlation Coefficient: [f_regression()](https://scikit-learn.org/stable/modules/generated/sklearn.feature_selection.f_regression.html)\n",
        "   - ANOVA: [f_classif()](https://scikit-learn.org/stable/modules/generated/sklearn.feature_selection.f_classif.html)\n",
        "   - Chi-Squared: [chi2()](https://scikit-learn.org/stable/modules/generated/sklearn.feature_selection.chi2.html)\n",
        "   - Mutual Information: [mutual_info_classif()](https://scikit-learn.org/stable/modules/generated/sklearn.feature_selection.mutual_info_classif.html) and [mutual_info_regression()](https://scikit-learn.org/stable/modules/generated/sklearn.feature_selection.mutual_info_regression.html).\n",
        "   \n",
        "   \n",
        "- Also, the SciPy library provides an implementation of many more statistics, such as Kendall’s tau (kendalltau) and Spearman’s rank correlation (spearmanr).\n",
        "\n",
        "\n",
        "## **Selection Method**\n",
        "\n",
        "- The scikit-learn library also provides many different filtering methods once statistics have been calculated for each input variable with the target.\n",
        "\n",
        "- Two of the more popular methods include:\n",
        "\n",
        "    - Select the top k variables: [SelectKBest](https://scikit-learn.org/stable/modules/generated/sklearn.feature_selection.SelectKBest.html)\n",
        "    - Select the top percentile variables: [SelectPercentile](https://scikit-learn.org/stable/modules/generated/sklearn.feature_selection.SelectPercentile.html)\n",
        "    \n",
        "\n",
        "\n",
        "## **Transform Variables**\n",
        "\n",
        "- We can consider transforming the variables in order to access different statistical methods. For example, we can transform a categorical variable to ordinal, even if it is not, and see if any interesting results come out.\n",
        "\n",
        "- We can also make a numerical variable discrete (e.g. bins); try categorical-based measures.\n",
        "\n",
        "- Some statistical measures assume properties of the variables, such as Pearson’s that assumes a Gaussian probability distribution to the observations and a linear relationship. You can transform the data to meet the expectations of the test and try the test regardless of the expectations and compare results.\n",
        "\n",
        "\n",
        "## **What Is the Best Method?**\n",
        "\n",
        "- There is no best feature selection method. Just like there is no best set of input variables or best machine learning algorithm. \n",
        "\n",
        "- Instead, we must discover what works best for your specific problem using careful systematic experimentation.\n",
        "\n",
        "- We should try a range of different models fit on different subsets of features chosen via different statistical measures and discover what works best for your specific problem.\n",
        "\n",
        "\n",
        "## **4 best ways of Feature Selection**\n",
        "\n",
        "- The 4 practical ways of feature selection which yield best results are as follows:-\n",
        "\n",
        "    1. SelectKBest\n",
        "    2. Recursive Feature Elimination\n",
        "    3. Correlation-matrix with heatmap\n",
        "    4. Random-Forest Importance"
      ]
    },
    {
      "cell_type": "markdown",
      "metadata": {
        "_uuid": "d629ff2d2480ee46fbb7e2d37f6b5fab8052498a",
        "collapsed": true,
        "_cell_guid": "79c7e3d0-c299-4dcb-8224-4455121ee9b0",
        "trusted": false,
        "id": "uYEa-TCTcYdn"
      },
      "source": [
        "# **7. References** <a class=\"anchor\" id=\"7\"></a>\n",
        "\n",
        "[Table of Contents](#0.1)\n",
        "\n",
        "\n",
        "- The work done in this kernel is inspired from the following courses and websites:-\n",
        "\n",
        "\n",
        "  1. [Feature Selection for Machine Learning](https://www.udemy.com/course/feature-selection-for-machine-learning/) by Soledad Galli\n",
        "\n",
        "  2. [Analytics Vidhya article on Feature Selection](https://www.analyticsvidhya.com/blog/2016/12/introduction-to-feature-selection-methods-with-an-example-or-how-to-select-the-right-variables/)\n",
        "\n",
        "  3. https://en.wikipedia.org/wiki/Feature_selection\n",
        "\n",
        "  4. https://machinelearningmastery.com/feature-selection-with-real-and-categorical-data/"
      ]
    },
    {
      "cell_type": "markdown",
      "metadata": {
        "id": "cLUbqptfcYdn"
      },
      "source": [
        "[Go to Top](#0)"
      ]
    }
  ]
}