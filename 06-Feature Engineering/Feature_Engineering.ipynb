{
  "nbformat": 4,
  "nbformat_minor": 0,
  "metadata": {
    "colab": {
      "name": "Feature Engineering.ipynb",
      "provenance": [],
      "authorship_tag": "ABX9TyM6w+UJ3FX467u1uunZ7nbj",
      "include_colab_link": true
    },
    "kernelspec": {
      "name": "python3",
      "display_name": "Python 3"
    },
    "language_info": {
      "name": "python"
    }
  },
  "cells": [
    {
      "cell_type": "markdown",
      "metadata": {
        "id": "view-in-github",
        "colab_type": "text"
      },
      "source": [
        "<a href=\"https://colab.research.google.com/github/plthiyagu/AI-Engineering/blob/master/06-Data%20Preprocessing/Feature_Engineering.ipynb\" target=\"_parent\"><img src=\"https://colab.research.google.com/assets/colab-badge.svg\" alt=\"Open In Colab\"/></a>"
      ]
    },
    {
      "cell_type": "code",
      "metadata": {
        "id": "wkgWznJ3Vufe"
      },
      "source": [
        "import pandas as pd\n",
        "import numpy as np\n",
        "import scipy.stats as stats\n",
        "import matplotlib.pyplot as plt\n",
        "import seaborn as sns"
      ],
      "execution_count": 2,
      "outputs": []
    },
    {
      "cell_type": "code",
      "metadata": {
        "id": "gYNztwv8_p-3"
      },
      "source": [
        "from sklearn.model_selection import train_test_split\n",
        "from sklearn.metrics import accuracy_score\n",
        "from sklearn.model_selection import cross_val_score\n",
        "from sklearn.linear_model import LogisticRegression\n",
        "from sklearn.tree import DecisionTreeClassifier\n",
        "from sklearn.preprocessing import FunctionTransformer"
      ],
      "execution_count": 3,
      "outputs": []
    },
    {
      "cell_type": "code",
      "metadata": {
        "id": "2F-1D-6EB1BP"
      },
      "source": [
        "df=pd.read_csv('https://raw.githubusercontent.com/plthiyagu/Personnel/master/Dataset/titanic.csv',usecols=['Age','Fare','Survived'])"
      ],
      "execution_count": 6,
      "outputs": []
    },
    {
      "cell_type": "code",
      "metadata": {
        "colab": {
          "base_uri": "https://localhost:8080/",
          "height": 204
        },
        "id": "PUb22caZDocS",
        "outputId": "55efb9a7-4694-4da6-d5c2-d8f15b4d2def"
      },
      "source": [
        "df.head()"
      ],
      "execution_count": 7,
      "outputs": [
        {
          "output_type": "execute_result",
          "data": {
            "text/html": [
              "<div>\n",
              "<style scoped>\n",
              "    .dataframe tbody tr th:only-of-type {\n",
              "        vertical-align: middle;\n",
              "    }\n",
              "\n",
              "    .dataframe tbody tr th {\n",
              "        vertical-align: top;\n",
              "    }\n",
              "\n",
              "    .dataframe thead th {\n",
              "        text-align: right;\n",
              "    }\n",
              "</style>\n",
              "<table border=\"1\" class=\"dataframe\">\n",
              "  <thead>\n",
              "    <tr style=\"text-align: right;\">\n",
              "      <th></th>\n",
              "      <th>Survived</th>\n",
              "      <th>Age</th>\n",
              "      <th>Fare</th>\n",
              "    </tr>\n",
              "  </thead>\n",
              "  <tbody>\n",
              "    <tr>\n",
              "      <th>0</th>\n",
              "      <td>0</td>\n",
              "      <td>22.0</td>\n",
              "      <td>7.2500</td>\n",
              "    </tr>\n",
              "    <tr>\n",
              "      <th>1</th>\n",
              "      <td>1</td>\n",
              "      <td>38.0</td>\n",
              "      <td>71.2833</td>\n",
              "    </tr>\n",
              "    <tr>\n",
              "      <th>2</th>\n",
              "      <td>1</td>\n",
              "      <td>26.0</td>\n",
              "      <td>7.9250</td>\n",
              "    </tr>\n",
              "    <tr>\n",
              "      <th>3</th>\n",
              "      <td>1</td>\n",
              "      <td>35.0</td>\n",
              "      <td>53.1000</td>\n",
              "    </tr>\n",
              "    <tr>\n",
              "      <th>4</th>\n",
              "      <td>0</td>\n",
              "      <td>35.0</td>\n",
              "      <td>8.0500</td>\n",
              "    </tr>\n",
              "  </tbody>\n",
              "</table>\n",
              "</div>"
            ],
            "text/plain": [
              "   Survived   Age     Fare\n",
              "0         0  22.0   7.2500\n",
              "1         1  38.0  71.2833\n",
              "2         1  26.0   7.9250\n",
              "3         1  35.0  53.1000\n",
              "4         0  35.0   8.0500"
            ]
          },
          "metadata": {
            "tags": []
          },
          "execution_count": 7
        }
      ]
    },
    {
      "cell_type": "code",
      "metadata": {
        "colab": {
          "base_uri": "https://localhost:8080/"
        },
        "id": "6-aL263IDrvq",
        "outputId": "3fd3b852-d6e5-4df8-df3f-0c141c21f850"
      },
      "source": [
        "df.isnull().sum()"
      ],
      "execution_count": 9,
      "outputs": [
        {
          "output_type": "execute_result",
          "data": {
            "text/plain": [
              "Survived      0\n",
              "Age         177\n",
              "Fare          0\n",
              "dtype: int64"
            ]
          },
          "metadata": {
            "tags": []
          },
          "execution_count": 9
        }
      ]
    },
    {
      "cell_type": "code",
      "metadata": {
        "id": "W0T9MvmOD-j2"
      },
      "source": [
        "df['Age'].fillna(df['Age'].median(),inplace=True)"
      ],
      "execution_count": 10,
      "outputs": []
    },
    {
      "cell_type": "code",
      "metadata": {
        "id": "5vUipiDSEGLp"
      },
      "source": [
        "X = df.iloc[:,1:3]\n",
        "y = df.iloc[:,0]"
      ],
      "execution_count": 11,
      "outputs": []
    },
    {
      "cell_type": "code",
      "metadata": {
        "id": "84eRtkHLWuAq"
      },
      "source": [
        "X_train, X_test, y_train, y_test = train_test_split(X,y,test_size=0.33,random_state=105)"
      ],
      "execution_count": 12,
      "outputs": []
    },
    {
      "cell_type": "code",
      "metadata": {
        "colab": {
          "base_uri": "https://localhost:8080/",
          "height": 187
        },
        "id": "2aFIOTDnWz3C",
        "outputId": "a0e58d06-ce7c-4b82-92c5-85c3e5bcbca8"
      },
      "source": [
        "import warnings\n",
        "warnings.filterwarnings('ignore')\n",
        "plt.figure(figsize=(10,2))\n",
        "plt.subplot(121)\n",
        "sns.distplot(X_train['Age'])\n",
        "plt.title('Age PDF')\n",
        "plt.subplot(122)\n",
        "stats.probplot(X_train['Age'], dist=\"norm\", plot=plt)\n",
        "plt.title('Age QQ Plot')\n",
        "plt.show()"
      ],
      "execution_count": 13,
      "outputs": [
        {
          "output_type": "display_data",
          "data": {
            "image/png": "[encoded data removed]",
            "text/plain": [
              "<Figure size 720x144 with 2 Axes>"
            ]
          },
          "metadata": {
            "tags": [],
            "needs_background": "light"
          }
        }
      ]
    },
    {
      "cell_type": "code",
      "metadata": {
        "colab": {
          "base_uri": "https://localhost:8080/",
          "height": 187
        },
        "id": "TBJIAlHMW4ac",
        "outputId": "029bbc04-1116-4e60-f936-58d30267d548"
      },
      "source": [
        "plt.figure(figsize=(10,2))\n",
        "plt.subplot(121)\n",
        "sns.distplot(X_train['Fare'])\n",
        "plt.title('Age PDF')\n",
        "plt.subplot(122)\n",
        "stats.probplot(X_train['Fare'], dist=\"norm\", plot=plt)\n",
        "plt.title('Age QQ Plot')\n",
        "plt.show()"
      ],
      "execution_count": 14,
      "outputs": [
        {
          "output_type": "display_data",
          "data": {
            "image/png": "[encoded data removed]",
            "text/plain": [
              "<Figure size 720x144 with 2 Axes>"
            ]
          },
          "metadata": {
            "tags": [],
            "needs_background": "light"
          }
        }
      ]
    },
    {
      "cell_type": "code",
      "metadata": {
        "id": "5WWmWncoW_MY"
      },
      "source": [
        "lr = LogisticRegression()\n",
        "dt = DecisionTreeClassifier()"
      ],
      "execution_count": 15,
      "outputs": []
    },
    {
      "cell_type": "code",
      "metadata": {
        "colab": {
          "base_uri": "https://localhost:8080/"
        },
        "id": "qJyVxzzjXG8m",
        "outputId": "48d4bc75-efd1-4dd3-b5b4-d10dd0850de0"
      },
      "source": [
        "lr.fit(X_train,y_train)\n",
        "dt.fit(X_train,y_train)\n",
        "y_pred_lr = lr.predict(X_test)\n",
        "y_pred_dt = dt.predict(X_test)\n",
        "print(\"Accuracy LR\",accuracy_score(y_test,y_pred_lr))\n",
        "print(\"Accuracy DT\",accuracy_score(y_test,y_pred_dt))"
      ],
      "execution_count": 16,
      "outputs": [
        {
          "output_type": "stream",
          "text": [
            "Accuracy LR 0.6644067796610169\n",
            "Accuracy DT 0.6305084745762712\n"
          ],
          "name": "stdout"
        }
      ]
    },
    {
      "cell_type": "code",
      "metadata": {
        "colab": {
          "base_uri": "https://localhost:8080/"
        },
        "id": "o5dh-QL1XLKz",
        "outputId": "46744732-da04-4438-fb77-3923c057bdd3"
      },
      "source": [
        "trf = FunctionTransformer(func=np.log1p)\n",
        "X_train_transformed = trf.fit_transform(X_train)\n",
        "X_test_transformed = trf.transform(X_test)\n",
        "lr = LogisticRegression()\n",
        "dt= DecisionTreeClassifier()\n",
        "lr.fit(X_train_transformed,y_train)\n",
        "dt.fit(X_train_transformed,y_train)\n",
        "y_pred_lr = lr.predict(X_test_transformed)\n",
        "y_pred_dt = dt.predict(X_test_transformed)\n",
        "print(\"Accuracy LR\",accuracy_score(y_test,y_pred_lr))\n",
        "print(\"Accuracy DT\",accuracy_score(y_test,y_pred_dt))"
      ],
      "execution_count": 17,
      "outputs": [
        {
          "output_type": "stream",
          "text": [
            "Accuracy LR 0.6474576271186441\n",
            "Accuracy DT 0.6372881355932203\n"
          ],
          "name": "stdout"
        }
      ]
    },
    {
      "cell_type": "code",
      "metadata": {
        "colab": {
          "base_uri": "https://localhost:8080/",
          "height": 187
        },
        "id": "di_oiNr5XREb",
        "outputId": "f350ca6d-3feb-4be9-afe9-3ddf8cf7a59a"
      },
      "source": [
        "plt.figure(figsize=(10,2))\n",
        "plt.subplot(121)\n",
        "stats.probplot(X_train['Age'], dist=\"norm\", plot=plt)\n",
        "plt.title('Age Before Log')\n",
        "plt.subplot(122)\n",
        "stats.probplot(X_train_transformed['Age'], dist=\"norm\", plot=plt)\n",
        "plt.title('Age After Log')\n",
        "plt.show()"
      ],
      "execution_count": 18,
      "outputs": [
        {
          "output_type": "display_data",
          "data": {
            "image/png": "[encoded data removed]",
            "text/plain": [
              "<Figure size 720x144 with 2 Axes>"
            ]
          },
          "metadata": {
            "tags": [],
            "needs_background": "light"
          }
        }
      ]
    },
    {
      "cell_type": "code",
      "metadata": {
        "colab": {
          "base_uri": "https://localhost:8080/",
          "height": 187
        },
        "id": "IR1reKmdXWGb",
        "outputId": "b574c1ba-0722-4d1a-c5a6-4607d252663b"
      },
      "source": [
        "plt.figure(figsize=(10,2))\n",
        "plt.subplot(121)\n",
        "stats.probplot(X_train['Fare'], dist=\"norm\", plot=plt)\n",
        "plt.title('Fare Before Log')\n",
        "plt.subplot(122)\n",
        "stats.probplot(X_train_transformed['Fare'], dist=\"norm\", plot=plt)\n",
        "plt.title('Fare After Log')\n",
        "plt.show()"
      ],
      "execution_count": 19,
      "outputs": [
        {
          "output_type": "display_data",
          "data": {
            "image/png": "[encoded data removed]",
            "text/plain": [
              "<Figure size 720x144 with 2 Axes>"
            ]
          },
          "metadata": {
            "tags": [],
            "needs_background": "light"
          }
        }
      ]
    },
    {
      "cell_type": "code",
      "metadata": {
        "id": "6wJdQguOXbJo"
      },
      "source": [
        ""
      ],
      "execution_count": null,
      "outputs": []
    },
    {
      "cell_type": "code",
      "metadata": {
        "id": "Tp6KFhtA-r_q"
      },
      "source": [
        ""
      ],
      "execution_count": null,
      "outputs": []
    }
  ]
}