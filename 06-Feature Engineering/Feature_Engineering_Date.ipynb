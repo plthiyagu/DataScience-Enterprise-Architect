{
  "nbformat": 4,
  "nbformat_minor": 0,
  "metadata": {
    "colab": {
      "name": "Feature Engineering-Date.ipynb",
      "provenance": [],
      "collapsed_sections": [],
      "authorship_tag": "ABX9TyNtyt5nX+YLVkGEJqa/4TzG",
      "include_colab_link": true
    },
    "kernelspec": {
      "name": "python3",
      "display_name": "Python 3"
    }
  },
  "cells": [
    {
      "cell_type": "markdown",
      "metadata": {
        "id": "view-in-github",
        "colab_type": "text"
      },
      "source": [
        "<a href=\"https://colab.research.google.com/github/plthiyagu/Personnel/blob/master/Feature_Engineering_Date.ipynb\" target=\"_parent\"><img src=\"https://colab.research.google.com/assets/colab-badge.svg\" alt=\"Open In Colab\"/></a>"
      ]
    },
    {
      "cell_type": "code",
      "metadata": {
        "id": "iVQrNxtZhyl0"
      },
      "source": [
        "import pandas as pd\n",
        "import numpy as np\n",
        "import matplotlib.pyplot as plt"
      ],
      "execution_count": 26,
      "outputs": []
    },
    {
      "cell_type": "code",
      "metadata": {
        "id": "JnAdhevQiFKG"
      },
      "source": [
        "use_cols = ['loan_amnt', 'grade', 'purpose', 'issue_d', 'last_pymnt_d']"
      ],
      "execution_count": 42,
      "outputs": []
    },
    {
      "cell_type": "code",
      "metadata": {
        "id": "ybB34PMjiPZm",
        "outputId": "11bab5a6-c195-48b3-f87f-05878aaafa50",
        "colab": {
          "base_uri": "https://localhost:8080/",
          "height": 204
        }
      },
      "source": [
        "df= pd.read_csv('https://raw.githubusercontent.com/plthiyagu/Personnel/master/Dataset//LoanStats_2018Q4.csv',usecols=use_cols).sample(\n",
        "        10000, random_state=44)\n",
        "df.head()"
      ],
      "execution_count": 65,
      "outputs": [
        {
          "output_type": "execute_result",
          "data": {
            "text/html": [
              "<div>\n",
              "<style scoped>\n",
              "    .dataframe tbody tr th:only-of-type {\n",
              "        vertical-align: middle;\n",
              "    }\n",
              "\n",
              "    .dataframe tbody tr th {\n",
              "        vertical-align: top;\n",
              "    }\n",
              "\n",
              "    .dataframe thead th {\n",
              "        text-align: right;\n",
              "    }\n",
              "</style>\n",
              "<table border=\"1\" class=\"dataframe\">\n",
              "  <thead>\n",
              "    <tr style=\"text-align: right;\">\n",
              "      <th></th>\n",
              "      <th>loan_amnt</th>\n",
              "      <th>grade</th>\n",
              "      <th>issue_d</th>\n",
              "      <th>purpose</th>\n",
              "      <th>last_pymnt_d</th>\n",
              "    </tr>\n",
              "  </thead>\n",
              "  <tbody>\n",
              "    <tr>\n",
              "      <th>39437</th>\n",
              "      <td>15000.0</td>\n",
              "      <td>C</td>\n",
              "      <td>Dec-18</td>\n",
              "      <td>debt_consolidation</td>\n",
              "      <td>Mar-19</td>\n",
              "    </tr>\n",
              "    <tr>\n",
              "      <th>101867</th>\n",
              "      <td>20000.0</td>\n",
              "      <td>D</td>\n",
              "      <td>Oct-18</td>\n",
              "      <td>debt_consolidation</td>\n",
              "      <td>Mar-19</td>\n",
              "    </tr>\n",
              "    <tr>\n",
              "      <th>90842</th>\n",
              "      <td>26000.0</td>\n",
              "      <td>A</td>\n",
              "      <td>Oct-18</td>\n",
              "      <td>debt_consolidation</td>\n",
              "      <td>Mar-19</td>\n",
              "    </tr>\n",
              "    <tr>\n",
              "      <th>71803</th>\n",
              "      <td>17000.0</td>\n",
              "      <td>C</td>\n",
              "      <td>Nov-18</td>\n",
              "      <td>credit_card</td>\n",
              "      <td>Mar-19</td>\n",
              "    </tr>\n",
              "    <tr>\n",
              "      <th>18012</th>\n",
              "      <td>5500.0</td>\n",
              "      <td>A</td>\n",
              "      <td>Dec-18</td>\n",
              "      <td>credit_card</td>\n",
              "      <td>Mar-19</td>\n",
              "    </tr>\n",
              "  </tbody>\n",
              "</table>\n",
              "</div>"
            ],
            "text/plain": [
              "        loan_amnt grade issue_d             purpose last_pymnt_d\n",
              "39437     15000.0     C  Dec-18  debt_consolidation       Mar-19\n",
              "101867    20000.0     D  Oct-18  debt_consolidation       Mar-19\n",
              "90842     26000.0     A  Oct-18  debt_consolidation       Mar-19\n",
              "71803     17000.0     C  Nov-18         credit_card       Mar-19\n",
              "18012      5500.0     A  Dec-18         credit_card       Mar-19"
            ]
          },
          "metadata": {
            "tags": []
          },
          "execution_count": 65
        }
      ]
    },
    {
      "cell_type": "code",
      "metadata": {
        "id": "p7eevn_JiSRv",
        "outputId": "d1371a02-f2ee-495d-907f-e85f2b05a552",
        "colab": {
          "base_uri": "https://localhost:8080/",
          "height": 119
        }
      },
      "source": [
        "df.dtypes"
      ],
      "execution_count": 44,
      "outputs": [
        {
          "output_type": "execute_result",
          "data": {
            "text/plain": [
              "loan_amnt       float64\n",
              "grade            object\n",
              "issue_d          object\n",
              "purpose          object\n",
              "last_pymnt_d     object\n",
              "dtype: object"
            ]
          },
          "metadata": {
            "tags": []
          },
          "execution_count": 44
        }
      ]
    },
    {
      "cell_type": "code",
      "metadata": {
        "id": "8fXjo4m-xaBl"
      },
      "source": [
        "#df['issue_year']=df['issue_d'].str[4:] \n",
        "#df['issue_month']=df['issue_d'].str[0:3]\n",
        "#df['issue_d']= pd.to_datetime(df['issue_d']).apply(lambda x: int(x.strftime('%b-%Y')))\n",
        "#df['issue_d_month_year']=df['issue_d_year'].astype(str) + df['issue_d_month'].astype(str)"
      ],
      "execution_count": null,
      "outputs": []
    },
    {
      "cell_type": "code",
      "metadata": {
        "id": "7LkT1f9oyZLv"
      },
      "source": [
        "date_columns = ['issue_d', 'last_pymnt_d']"
      ],
      "execution_count": 66,
      "outputs": []
    },
    {
      "cell_type": "code",
      "metadata": {
        "id": "8zazT0QUh2Lt"
      },
      "source": [
        "for column in date_columns:\n",
        "    df[column + '_month'] = df[column].astype(str).apply(lambda x: x[0:3])\n",
        "    df[column + '_year'] = df[column].astype(str).apply(lambda x: x[-2:])"
      ],
      "execution_count": 67,
      "outputs": []
    },
    {
      "cell_type": "code",
      "metadata": {
        "id": "1HF3Sk_xiCmb",
        "outputId": "942d63fe-1680-47de-8bf5-7400334b5874",
        "colab": {
          "base_uri": "https://localhost:8080/",
          "height": 204
        }
      },
      "source": [
        "df.head()"
      ],
      "execution_count": 68,
      "outputs": [
        {
          "output_type": "execute_result",
          "data": {
            "text/html": [
              "<div>\n",
              "<style scoped>\n",
              "    .dataframe tbody tr th:only-of-type {\n",
              "        vertical-align: middle;\n",
              "    }\n",
              "\n",
              "    .dataframe tbody tr th {\n",
              "        vertical-align: top;\n",
              "    }\n",
              "\n",
              "    .dataframe thead th {\n",
              "        text-align: right;\n",
              "    }\n",
              "</style>\n",
              "<table border=\"1\" class=\"dataframe\">\n",
              "  <thead>\n",
              "    <tr style=\"text-align: right;\">\n",
              "      <th></th>\n",
              "      <th>loan_amnt</th>\n",
              "      <th>grade</th>\n",
              "      <th>issue_d</th>\n",
              "      <th>purpose</th>\n",
              "      <th>last_pymnt_d</th>\n",
              "      <th>issue_d_month</th>\n",
              "      <th>issue_d_year</th>\n",
              "      <th>last_pymnt_d_month</th>\n",
              "      <th>last_pymnt_d_year</th>\n",
              "    </tr>\n",
              "  </thead>\n",
              "  <tbody>\n",
              "    <tr>\n",
              "      <th>39437</th>\n",
              "      <td>15000.0</td>\n",
              "      <td>C</td>\n",
              "      <td>Dec-18</td>\n",
              "      <td>debt_consolidation</td>\n",
              "      <td>Mar-19</td>\n",
              "      <td>Dec</td>\n",
              "      <td>18</td>\n",
              "      <td>Mar</td>\n",
              "      <td>19</td>\n",
              "    </tr>\n",
              "    <tr>\n",
              "      <th>101867</th>\n",
              "      <td>20000.0</td>\n",
              "      <td>D</td>\n",
              "      <td>Oct-18</td>\n",
              "      <td>debt_consolidation</td>\n",
              "      <td>Mar-19</td>\n",
              "      <td>Oct</td>\n",
              "      <td>18</td>\n",
              "      <td>Mar</td>\n",
              "      <td>19</td>\n",
              "    </tr>\n",
              "    <tr>\n",
              "      <th>90842</th>\n",
              "      <td>26000.0</td>\n",
              "      <td>A</td>\n",
              "      <td>Oct-18</td>\n",
              "      <td>debt_consolidation</td>\n",
              "      <td>Mar-19</td>\n",
              "      <td>Oct</td>\n",
              "      <td>18</td>\n",
              "      <td>Mar</td>\n",
              "      <td>19</td>\n",
              "    </tr>\n",
              "    <tr>\n",
              "      <th>71803</th>\n",
              "      <td>17000.0</td>\n",
              "      <td>C</td>\n",
              "      <td>Nov-18</td>\n",
              "      <td>credit_card</td>\n",
              "      <td>Mar-19</td>\n",
              "      <td>Nov</td>\n",
              "      <td>18</td>\n",
              "      <td>Mar</td>\n",
              "      <td>19</td>\n",
              "    </tr>\n",
              "    <tr>\n",
              "      <th>18012</th>\n",
              "      <td>5500.0</td>\n",
              "      <td>A</td>\n",
              "      <td>Dec-18</td>\n",
              "      <td>credit_card</td>\n",
              "      <td>Mar-19</td>\n",
              "      <td>Dec</td>\n",
              "      <td>18</td>\n",
              "      <td>Mar</td>\n",
              "      <td>19</td>\n",
              "    </tr>\n",
              "  </tbody>\n",
              "</table>\n",
              "</div>"
            ],
            "text/plain": [
              "        loan_amnt grade  ... last_pymnt_d_month last_pymnt_d_year\n",
              "39437     15000.0     C  ...                Mar                19\n",
              "101867    20000.0     D  ...                Mar                19\n",
              "90842     26000.0     A  ...                Mar                19\n",
              "71803     17000.0     C  ...                Mar                19\n",
              "18012      5500.0     A  ...                Mar                19\n",
              "\n",
              "[5 rows x 9 columns]"
            ]
          },
          "metadata": {
            "tags": []
          },
          "execution_count": 68
        }
      ]
    },
    {
      "cell_type": "code",
      "metadata": {
        "id": "nvbVKVSXjioP",
        "outputId": "0afa5cdb-71e3-40e3-ee9f-c5d798c55f98",
        "colab": {
          "base_uri": "https://localhost:8080/",
          "height": 170
        }
      },
      "source": [
        "df.select_dtypes('object').apply(pd.Series.nunique, axis = 0)"
      ],
      "execution_count": 59,
      "outputs": [
        {
          "output_type": "execute_result",
          "data": {
            "text/plain": [
              "grade                  7\n",
              "issue_d                3\n",
              "purpose               12\n",
              "last_pymnt_d           6\n",
              "issue_d_month          4\n",
              "issue_d_year           2\n",
              "last_pymnt_d_month     7\n",
              "last_pymnt_d_year      3\n",
              "dtype: int64"
            ]
          },
          "metadata": {
            "tags": []
          },
          "execution_count": 59
        }
      ]
    },
    {
      "cell_type": "code",
      "metadata": {
        "id": "5GXCzw7LvV7H"
      },
      "source": [
        "df['issue_d'] =  pd.to_datetime(df['issue_d'], format='%b-%y')\n",
        "data['last_pymnt_dt'] = pd.to_datetime(df.last_pymnt_d, format='%b-%y')"
      ],
      "execution_count": 70,
      "outputs": []
    },
    {
      "cell_type": "code",
      "metadata": {
        "id": "5Pa5yYRbuXM6",
        "outputId": "6f371608-f984-4939-81c8-7a9900744463",
        "colab": {
          "base_uri": "https://localhost:8080/",
          "height": 204
        }
      },
      "source": [
        "df.head()"
      ],
      "execution_count": 71,
      "outputs": [
        {
          "output_type": "execute_result",
          "data": {
            "text/html": [
              "<div>\n",
              "<style scoped>\n",
              "    .dataframe tbody tr th:only-of-type {\n",
              "        vertical-align: middle;\n",
              "    }\n",
              "\n",
              "    .dataframe tbody tr th {\n",
              "        vertical-align: top;\n",
              "    }\n",
              "\n",
              "    .dataframe thead th {\n",
              "        text-align: right;\n",
              "    }\n",
              "</style>\n",
              "<table border=\"1\" class=\"dataframe\">\n",
              "  <thead>\n",
              "    <tr style=\"text-align: right;\">\n",
              "      <th></th>\n",
              "      <th>loan_amnt</th>\n",
              "      <th>grade</th>\n",
              "      <th>issue_d</th>\n",
              "      <th>purpose</th>\n",
              "      <th>last_pymnt_d</th>\n",
              "      <th>issue_d_month</th>\n",
              "      <th>issue_d_year</th>\n",
              "      <th>last_pymnt_d_month</th>\n",
              "      <th>last_pymnt_d_year</th>\n",
              "      <th>issue_dt_new</th>\n",
              "    </tr>\n",
              "  </thead>\n",
              "  <tbody>\n",
              "    <tr>\n",
              "      <th>39437</th>\n",
              "      <td>15000.0</td>\n",
              "      <td>C</td>\n",
              "      <td>2018-12-01</td>\n",
              "      <td>debt_consolidation</td>\n",
              "      <td>Mar-19</td>\n",
              "      <td>Dec</td>\n",
              "      <td>18</td>\n",
              "      <td>Mar</td>\n",
              "      <td>19</td>\n",
              "      <td>2018-12-01</td>\n",
              "    </tr>\n",
              "    <tr>\n",
              "      <th>101867</th>\n",
              "      <td>20000.0</td>\n",
              "      <td>D</td>\n",
              "      <td>2018-10-01</td>\n",
              "      <td>debt_consolidation</td>\n",
              "      <td>Mar-19</td>\n",
              "      <td>Oct</td>\n",
              "      <td>18</td>\n",
              "      <td>Mar</td>\n",
              "      <td>19</td>\n",
              "      <td>2018-10-01</td>\n",
              "    </tr>\n",
              "    <tr>\n",
              "      <th>90842</th>\n",
              "      <td>26000.0</td>\n",
              "      <td>A</td>\n",
              "      <td>2018-10-01</td>\n",
              "      <td>debt_consolidation</td>\n",
              "      <td>Mar-19</td>\n",
              "      <td>Oct</td>\n",
              "      <td>18</td>\n",
              "      <td>Mar</td>\n",
              "      <td>19</td>\n",
              "      <td>2018-10-01</td>\n",
              "    </tr>\n",
              "    <tr>\n",
              "      <th>71803</th>\n",
              "      <td>17000.0</td>\n",
              "      <td>C</td>\n",
              "      <td>2018-11-01</td>\n",
              "      <td>credit_card</td>\n",
              "      <td>Mar-19</td>\n",
              "      <td>Nov</td>\n",
              "      <td>18</td>\n",
              "      <td>Mar</td>\n",
              "      <td>19</td>\n",
              "      <td>2018-11-01</td>\n",
              "    </tr>\n",
              "    <tr>\n",
              "      <th>18012</th>\n",
              "      <td>5500.0</td>\n",
              "      <td>A</td>\n",
              "      <td>2018-12-01</td>\n",
              "      <td>credit_card</td>\n",
              "      <td>Mar-19</td>\n",
              "      <td>Dec</td>\n",
              "      <td>18</td>\n",
              "      <td>Mar</td>\n",
              "      <td>19</td>\n",
              "      <td>2018-12-01</td>\n",
              "    </tr>\n",
              "  </tbody>\n",
              "</table>\n",
              "</div>"
            ],
            "text/plain": [
              "        loan_amnt grade  ... last_pymnt_d_year issue_dt_new\n",
              "39437     15000.0     C  ...                19   2018-12-01\n",
              "101867    20000.0     D  ...                19   2018-10-01\n",
              "90842     26000.0     A  ...                19   2018-10-01\n",
              "71803     17000.0     C  ...                19   2018-11-01\n",
              "18012      5500.0     A  ...                19   2018-12-01\n",
              "\n",
              "[5 rows x 10 columns]"
            ]
          },
          "metadata": {
            "tags": []
          },
          "execution_count": 71
        }
      ]
    },
    {
      "cell_type": "code",
      "metadata": {
        "id": "qF_mGAq_s3b9",
        "outputId": "f75968fe-dafb-472c-9de7-faa0f304d622",
        "colab": {
          "base_uri": "https://localhost:8080/",
          "height": 541
        }
      },
      "source": [
        "fig = df.groupby(['issue_d', 'grade'])['loan_amnt'].sum().unstack().plot(\n",
        "    figsize=(14, 8), linewidth=2)\n",
        "\n",
        "fig.set_title('Disbursed amount in time')\n",
        "fig.set_ylabel('Disbursed Amount (US Dollars)')"
      ],
      "execution_count": 74,
      "outputs": [
        {
          "output_type": "execute_result",
          "data": {
            "text/plain": [
              "Text(0, 0.5, 'Disbursed Amount (US Dollars)')"
            ]
          },
          "metadata": {
            "tags": []
          },
          "execution_count": 74
        },
        {
          "output_type": "display_data",
          "data": {
            "image/png": "[encoded data removed]",
            "text/plain": [
              "<Figure size 1008x576 with 1 Axes>"
            ]
          },
          "metadata": {
            "tags": [],
            "needs_background": "light"
          }
        }
      ]
    },
    {
      "cell_type": "code",
      "metadata": {
        "id": "RfXvj7OUs-ZU"
      },
      "source": [
        ""
      ],
      "execution_count": null,
      "outputs": []
    },
    {
      "cell_type": "code",
      "metadata": {
        "id": "DK5XGShsrzYb"
      },
      "source": [
        ""
      ],
      "execution_count": null,
      "outputs": []
    },
    {
      "cell_type": "code",
      "metadata": {
        "id": "1nKAFqPRrX7Q"
      },
      "source": [
        ""
      ],
      "execution_count": null,
      "outputs": []
    },
    {
      "cell_type": "code",
      "metadata": {
        "id": "wPfxVgAroRg7"
      },
      "source": [
        ""
      ],
      "execution_count": null,
      "outputs": []
    },
    {
      "cell_type": "code",
      "metadata": {
        "id": "8pUUOPIYoO9C"
      },
      "source": [
        ""
      ],
      "execution_count": null,
      "outputs": []
    },
    {
      "cell_type": "code",
      "metadata": {
        "id": "IKW5eyfgoMzR"
      },
      "source": [
        ""
      ],
      "execution_count": null,
      "outputs": []
    },
    {
      "cell_type": "code",
      "metadata": {
        "id": "PAIeY0n-n0NJ"
      },
      "source": [
        ""
      ],
      "execution_count": null,
      "outputs": []
    },
    {
      "cell_type": "code",
      "metadata": {
        "id": "usSgzzMpngcZ"
      },
      "source": [
        ""
      ],
      "execution_count": null,
      "outputs": []
    }
  ]
}