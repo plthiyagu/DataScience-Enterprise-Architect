{
  "nbformat": 4,
  "nbformat_minor": 0,
  "metadata": {
    "colab": {
      "name": "Lables.ipynb",
      "provenance": [],
      "authorship_tag": "ABX9TyPQLzqW4vJoQHciRmNNV6pD",
      "include_colab_link": true
    },
    "kernelspec": {
      "name": "python3",
      "display_name": "Python 3"
    }
  },
  "cells": [
    {
      "cell_type": "markdown",
      "metadata": {
        "id": "view-in-github",
        "colab_type": "text"
      },
      "source": [
        "<a href=\"https://colab.research.google.com/github/plthiyagu/Personnel/blob/master/Lables.ipynb\" target=\"_parent\"><img src=\"https://colab.research.google.com/assets/colab-badge.svg\" alt=\"Open In Colab\"/></a>"
      ]
    },
    {
      "cell_type": "code",
      "metadata": {
        "id": "7Jeis5FRNjtC"
      },
      "source": [
        "import pandas as pd\n",
        "import numpy as np\n",
        "import matplotlib.pyplot as plt"
      ],
      "execution_count": 1,
      "outputs": []
    },
    {
      "cell_type": "code",
      "metadata": {
        "id": "uyui6ua9Qpgb",
        "outputId": "54751de8-82bf-4f8d-9d4c-6e7300a37aca",
        "colab": {
          "base_uri": "https://localhost:8080/",
          "height": 204
        }
      },
      "source": [
        "data= pd.read_csv('https://raw.githubusercontent.com/plthiyagu/Personnel/master/Dataset/titanic.csv')\n",
        "data.head()"
      ],
      "execution_count": 2,
      "outputs": [
        {
          "output_type": "execute_result",
          "data": {
            "text/html": [
              "<div>\n",
              "<style scoped>\n",
              "    .dataframe tbody tr th:only-of-type {\n",
              "        vertical-align: middle;\n",
              "    }\n",
              "\n",
              "    .dataframe tbody tr th {\n",
              "        vertical-align: top;\n",
              "    }\n",
              "\n",
              "    .dataframe thead th {\n",
              "        text-align: right;\n",
              "    }\n",
              "</style>\n",
              "<table border=\"1\" class=\"dataframe\">\n",
              "  <thead>\n",
              "    <tr style=\"text-align: right;\">\n",
              "      <th></th>\n",
              "      <th>PassengerId</th>\n",
              "      <th>Survived</th>\n",
              "      <th>Pclass</th>\n",
              "      <th>Name</th>\n",
              "      <th>Sex</th>\n",
              "      <th>Age</th>\n",
              "      <th>SibSp</th>\n",
              "      <th>Parch</th>\n",
              "      <th>Ticket</th>\n",
              "      <th>Fare</th>\n",
              "      <th>Cabin</th>\n",
              "      <th>Embarked</th>\n",
              "    </tr>\n",
              "  </thead>\n",
              "  <tbody>\n",
              "    <tr>\n",
              "      <th>0</th>\n",
              "      <td>1</td>\n",
              "      <td>0</td>\n",
              "      <td>3</td>\n",
              "      <td>Braund, Mr. Owen Harris</td>\n",
              "      <td>male</td>\n",
              "      <td>22.0</td>\n",
              "      <td>1</td>\n",
              "      <td>0</td>\n",
              "      <td>A/5 21171</td>\n",
              "      <td>7.2500</td>\n",
              "      <td>NaN</td>\n",
              "      <td>S</td>\n",
              "    </tr>\n",
              "    <tr>\n",
              "      <th>1</th>\n",
              "      <td>2</td>\n",
              "      <td>1</td>\n",
              "      <td>1</td>\n",
              "      <td>Cumings, Mrs. John Bradley (Florence Briggs Th...</td>\n",
              "      <td>female</td>\n",
              "      <td>38.0</td>\n",
              "      <td>1</td>\n",
              "      <td>0</td>\n",
              "      <td>PC 17599</td>\n",
              "      <td>71.2833</td>\n",
              "      <td>C85</td>\n",
              "      <td>C</td>\n",
              "    </tr>\n",
              "    <tr>\n",
              "      <th>2</th>\n",
              "      <td>3</td>\n",
              "      <td>1</td>\n",
              "      <td>3</td>\n",
              "      <td>Heikkinen, Miss. Laina</td>\n",
              "      <td>female</td>\n",
              "      <td>26.0</td>\n",
              "      <td>0</td>\n",
              "      <td>0</td>\n",
              "      <td>STON/O2. 3101282</td>\n",
              "      <td>7.9250</td>\n",
              "      <td>NaN</td>\n",
              "      <td>S</td>\n",
              "    </tr>\n",
              "    <tr>\n",
              "      <th>3</th>\n",
              "      <td>4</td>\n",
              "      <td>1</td>\n",
              "      <td>1</td>\n",
              "      <td>Futrelle, Mrs. Jacques Heath (Lily May Peel)</td>\n",
              "      <td>female</td>\n",
              "      <td>35.0</td>\n",
              "      <td>1</td>\n",
              "      <td>0</td>\n",
              "      <td>113803</td>\n",
              "      <td>53.1000</td>\n",
              "      <td>C123</td>\n",
              "      <td>S</td>\n",
              "    </tr>\n",
              "    <tr>\n",
              "      <th>4</th>\n",
              "      <td>5</td>\n",
              "      <td>0</td>\n",
              "      <td>3</td>\n",
              "      <td>Allen, Mr. William Henry</td>\n",
              "      <td>male</td>\n",
              "      <td>35.0</td>\n",
              "      <td>0</td>\n",
              "      <td>0</td>\n",
              "      <td>373450</td>\n",
              "      <td>8.0500</td>\n",
              "      <td>NaN</td>\n",
              "      <td>S</td>\n",
              "    </tr>\n",
              "  </tbody>\n",
              "</table>\n",
              "</div>"
            ],
            "text/plain": [
              "   PassengerId  Survived  Pclass  ...     Fare Cabin  Embarked\n",
              "0            1         0       3  ...   7.2500   NaN         S\n",
              "1            2         1       1  ...  71.2833   C85         C\n",
              "2            3         1       3  ...   7.9250   NaN         S\n",
              "3            4         1       1  ...  53.1000  C123         S\n",
              "4            5         0       3  ...   8.0500   NaN         S\n",
              "\n",
              "[5 rows x 12 columns]"
            ]
          },
          "metadata": {
            "tags": []
          },
          "execution_count": 2
        }
      ]
    },
    {
      "cell_type": "code",
      "metadata": {
        "id": "VKGGkWGfQufi",
        "outputId": "f675a66c-6f93-4602-8408-9a253651f5a0",
        "colab": {
          "base_uri": "https://localhost:8080/",
          "height": 119
        }
      },
      "source": [
        "print('Number of categories in the variable Name: {}'.format(\n",
        "    len(data.Name.unique())))\n",
        "\n",
        "print('Number of categories in the variable Gender: {}'.format(\n",
        "    len(data.Sex.unique())))\n",
        "\n",
        "print('Number of categories in the variable Ticket: {}'.format(\n",
        "    len(data.Ticket.unique())))\n",
        "\n",
        "print('Number of categories in the variable Cabin: {}'.format(\n",
        "    len(data.Cabin.unique())))\n",
        "\n",
        "print('Number of categories in the variable Embarked: {}'.format(\n",
        "    len(data.Embarked.unique())))\n",
        "\n",
        "print('Total number of passengers in the Titanic: {}'.format(len(data)))"
      ],
      "execution_count": 4,
      "outputs": [
        {
          "output_type": "stream",
          "text": [
            "Number of categories in the variable Name: 891\n",
            "Number of categories in the variable Gender: 2\n",
            "Number of categories in the variable Ticket: 681\n",
            "Number of categories in the variable Cabin: 148\n",
            "Number of categories in the variable Embarked: 4\n",
            "Total number of passengers in the Titanic: 891\n"
          ],
          "name": "stdout"
        }
      ]
    },
    {
      "cell_type": "code",
      "metadata": {
        "id": "Qz9VyBoUQ9Bs",
        "outputId": "ab150ad7-aa5e-4291-9b49-8cfb2a45e83e",
        "colab": {
          "base_uri": "https://localhost:8080/",
          "height": 323
        }
      },
      "source": [
        "data.Cabin.unique()"
      ],
      "execution_count": 7,
      "outputs": [
        {
          "output_type": "execute_result",
          "data": {
            "text/plain": [
              "array([nan, 'C85', 'C123', 'E46', 'G6', 'C103', 'D56', 'A6',\n",
              "       'C23 C25 C27', 'B78', 'D33', 'B30', 'C52', 'B28', 'C83', 'F33',\n",
              "       'F G73', 'E31', 'A5', 'D10 D12', 'D26', 'C110', 'B58 B60', 'E101',\n",
              "       'F E69', 'D47', 'B86', 'F2', 'C2', 'E33', 'B19', 'A7', 'C49', 'F4',\n",
              "       'A32', 'B4', 'B80', 'A31', 'D36', 'D15', 'C93', 'C78', 'D35',\n",
              "       'C87', 'B77', 'E67', 'B94', 'C125', 'C99', 'C118', 'D7', 'A19',\n",
              "       'B49', 'D', 'C22 C26', 'C106', 'C65', 'E36', 'C54',\n",
              "       'B57 B59 B63 B66', 'C7', 'E34', 'C32', 'B18', 'C124', 'C91', 'E40',\n",
              "       'T', 'C128', 'D37', 'B35', 'E50', 'C82', 'B96 B98', 'E10', 'E44',\n",
              "       'A34', 'C104', 'C111', 'C92', 'E38', 'D21', 'E12', 'E63', 'A14',\n",
              "       'B37', 'C30', 'D20', 'B79', 'E25', 'D46', 'B73', 'C95', 'B38',\n",
              "       'B39', 'B22', 'C86', 'C70', 'A16', 'C101', 'C68', 'A10', 'E68',\n",
              "       'B41', 'A20', 'D19', 'D50', 'D9', 'A23', 'B50', 'A26', 'D48',\n",
              "       'E58', 'C126', 'B71', 'B51 B53 B55', 'D49', 'B5', 'B20', 'F G63',\n",
              "       'C62 C64', 'E24', 'C90', 'C45', 'E8', 'B101', 'D45', 'C46', 'D30',\n",
              "       'E121', 'D11', 'E77', 'F38', 'B3', 'D6', 'B82 B84', 'D17', 'A36',\n",
              "       'B102', 'B69', 'E49', 'C47', 'D28', 'E17', 'A24', 'C50', 'B42',\n",
              "       'C148'], dtype=object)"
            ]
          },
          "metadata": {
            "tags": []
          },
          "execution_count": 7
        }
      ]
    },
    {
      "cell_type": "code",
      "metadata": {
        "id": "MyOGlP26RjKs",
        "outputId": "ce74c2b8-22cc-4036-a8d6-932e922d5cf1",
        "colab": {
          "base_uri": "https://localhost:8080/",
          "height": 204
        }
      },
      "source": [
        "data['Cabin_reduced'] = data['Cabin'].astype(str).str[0]\n",
        "\n",
        "data[['Cabin', 'Cabin_reduced']].head()"
      ],
      "execution_count": 8,
      "outputs": [
        {
          "output_type": "execute_result",
          "data": {
            "text/html": [
              "<div>\n",
              "<style scoped>\n",
              "    .dataframe tbody tr th:only-of-type {\n",
              "        vertical-align: middle;\n",
              "    }\n",
              "\n",
              "    .dataframe tbody tr th {\n",
              "        vertical-align: top;\n",
              "    }\n",
              "\n",
              "    .dataframe thead th {\n",
              "        text-align: right;\n",
              "    }\n",
              "</style>\n",
              "<table border=\"1\" class=\"dataframe\">\n",
              "  <thead>\n",
              "    <tr style=\"text-align: right;\">\n",
              "      <th></th>\n",
              "      <th>Cabin</th>\n",
              "      <th>Cabin_reduced</th>\n",
              "    </tr>\n",
              "  </thead>\n",
              "  <tbody>\n",
              "    <tr>\n",
              "      <th>0</th>\n",
              "      <td>NaN</td>\n",
              "      <td>n</td>\n",
              "    </tr>\n",
              "    <tr>\n",
              "      <th>1</th>\n",
              "      <td>C85</td>\n",
              "      <td>C</td>\n",
              "    </tr>\n",
              "    <tr>\n",
              "      <th>2</th>\n",
              "      <td>NaN</td>\n",
              "      <td>n</td>\n",
              "    </tr>\n",
              "    <tr>\n",
              "      <th>3</th>\n",
              "      <td>C123</td>\n",
              "      <td>C</td>\n",
              "    </tr>\n",
              "    <tr>\n",
              "      <th>4</th>\n",
              "      <td>NaN</td>\n",
              "      <td>n</td>\n",
              "    </tr>\n",
              "  </tbody>\n",
              "</table>\n",
              "</div>"
            ],
            "text/plain": [
              "  Cabin Cabin_reduced\n",
              "0   NaN             n\n",
              "1   C85             C\n",
              "2   NaN             n\n",
              "3  C123             C\n",
              "4   NaN             n"
            ]
          },
          "metadata": {
            "tags": []
          },
          "execution_count": 8
        }
      ]
    },
    {
      "cell_type": "code",
      "metadata": {
        "id": "FfZ6Z0eUR8ny",
        "outputId": "f85c9906-d15e-4fc8-de4a-8ac2dc184042",
        "colab": {
          "base_uri": "https://localhost:8080/",
          "height": 51
        }
      },
      "source": [
        "print('Number of categories in the variable Cabin: {}'.format(\n",
        "    len(data.Cabin.unique())))\n",
        "\n",
        "print('Number of categories in the variable Cabin reduced: {}'.format(\n",
        "    len(data.Cabin_reduced.unique())))"
      ],
      "execution_count": 9,
      "outputs": [
        {
          "output_type": "stream",
          "text": [
            "Number of categories in the variable Cabin: 148\n",
            "Number of categories in the variable Cabin reduced: 9\n"
          ],
          "name": "stdout"
        }
      ]
    },
    {
      "cell_type": "code",
      "metadata": {
        "id": "sRvtU6TCSKpD"
      },
      "source": [
        "from sklearn.linear_model import LogisticRegression\n",
        "from sklearn.ensemble import AdaBoostClassifier\n",
        "from sklearn.ensemble import RandomForestClassifier\n",
        "\n",
        "from sklearn.metrics import roc_auc_score\n",
        "from sklearn.model_selection import train_test_split"
      ],
      "execution_count": 11,
      "outputs": []
    },
    {
      "cell_type": "code",
      "metadata": {
        "id": "hCgSz2x_SBbI",
        "outputId": "7477afb6-407b-4dd8-d36d-9803b3cd4706",
        "colab": {
          "base_uri": "https://localhost:8080/",
          "height": 34
        }
      },
      "source": [
        "use_cols = ['Cabin', 'Cabin_reduced', 'Sex']\n",
        "\n",
        "X_train, X_test, y_train, y_test = train_test_split(\n",
        "    data[use_cols], \n",
        "    data.Survived,  \n",
        "    test_size=0.3,\n",
        "    random_state=0)\n",
        "\n",
        "X_train.shape, X_test.shape"
      ],
      "execution_count": 12,
      "outputs": [
        {
          "output_type": "execute_result",
          "data": {
            "text/plain": [
              "((623, 3), (268, 3))"
            ]
          },
          "metadata": {
            "tags": []
          },
          "execution_count": 12
        }
      ]
    },
    {
      "cell_type": "code",
      "metadata": {
        "id": "4AU8SYdASGpe",
        "outputId": "7bf6625d-48d7-4818-ed04-f8c88cf3e5d2",
        "colab": {
          "base_uri": "https://localhost:8080/",
          "height": 34
        }
      },
      "source": [
        "# Let's find out labels present only in the training set\n",
        "\n",
        "unique_to_train_set = [\n",
        "    x for x in X_train.Cabin.unique() if x not in X_test.Cabin.unique()\n",
        "]\n",
        "\n",
        "len(unique_to_train_set)"
      ],
      "execution_count": 13,
      "outputs": [
        {
          "output_type": "execute_result",
          "data": {
            "text/plain": [
              "100"
            ]
          },
          "metadata": {
            "tags": []
          },
          "execution_count": 13
        }
      ]
    },
    {
      "cell_type": "code",
      "metadata": {
        "id": "PxTm77toSTcV",
        "outputId": "2b84cc45-d651-4f73-a2ea-d7e23aa0a863",
        "colab": {
          "base_uri": "https://localhost:8080/",
          "height": 34
        }
      },
      "source": [
        "unique_to_test_set = [\n",
        "    x for x in X_test.Cabin.unique() if x not in X_train.Cabin.unique()\n",
        "]\n",
        "\n",
        "len(unique_to_test_set)"
      ],
      "execution_count": 14,
      "outputs": [
        {
          "output_type": "execute_result",
          "data": {
            "text/plain": [
              "28"
            ]
          },
          "metadata": {
            "tags": []
          },
          "execution_count": 14
        }
      ]
    },
    {
      "cell_type": "code",
      "metadata": {
        "id": "u2lIIRUPTC9B",
        "outputId": "3eb56c80-9764-4e1a-f0ff-f20b18113b57",
        "colab": {
          "base_uri": "https://localhost:8080/",
          "height": 1000
        }
      },
      "source": [
        "cabin_dict = {k:i for i, k in enumerate(X_train.Cabin.unique(), 0)} \n",
        "cabin_dict"
      ],
      "execution_count": 15,
      "outputs": [
        {
          "output_type": "execute_result",
          "data": {
            "text/plain": [
              "{'A10': 38,\n",
              " 'A14': 7,\n",
              " 'A16': 76,\n",
              " 'A19': 69,\n",
              " 'A20': 119,\n",
              " 'A23': 59,\n",
              " 'A24': 99,\n",
              " 'A31': 103,\n",
              " 'A32': 36,\n",
              " 'A34': 91,\n",
              " 'A36': 44,\n",
              " 'A5': 39,\n",
              " 'A6': 106,\n",
              " 'A7': 118,\n",
              " 'B101': 57,\n",
              " 'B18': 74,\n",
              " 'B19': 9,\n",
              " 'B20': 68,\n",
              " 'B22': 73,\n",
              " 'B28': 81,\n",
              " 'B3': 110,\n",
              " 'B35': 54,\n",
              " 'B38': 72,\n",
              " 'B39': 85,\n",
              " 'B4': 37,\n",
              " 'B49': 111,\n",
              " 'B5': 66,\n",
              " 'B51 B53 B55': 70,\n",
              " 'B58 B60': 4,\n",
              " 'B73': 27,\n",
              " 'B77': 60,\n",
              " 'B79': 63,\n",
              " 'B80': 71,\n",
              " 'B82 B84': 62,\n",
              " 'B86': 94,\n",
              " 'B96 B98': 47,\n",
              " 'C101': 50,\n",
              " 'C103': 102,\n",
              " 'C104': 67,\n",
              " 'C110': 92,\n",
              " 'C111': 31,\n",
              " 'C118': 112,\n",
              " 'C123': 52,\n",
              " 'C124': 90,\n",
              " 'C125': 23,\n",
              " 'C126': 26,\n",
              " 'C128': 5,\n",
              " 'C148': 11,\n",
              " 'C2': 65,\n",
              " 'C22 C26': 75,\n",
              " 'C23 C25 C27': 80,\n",
              " 'C30': 12,\n",
              " 'C32': 53,\n",
              " 'C45': 64,\n",
              " 'C46': 84,\n",
              " 'C49': 117,\n",
              " 'C50': 88,\n",
              " 'C52': 109,\n",
              " 'C65': 101,\n",
              " 'C68': 108,\n",
              " 'C70': 113,\n",
              " 'C78': 29,\n",
              " 'C82': 104,\n",
              " 'C86': 115,\n",
              " 'C90': 42,\n",
              " 'C91': 55,\n",
              " 'C92': 21,\n",
              " 'C93': 48,\n",
              " 'C95': 40,\n",
              " 'C99': 96,\n",
              " 'D': 45,\n",
              " 'D11': 51,\n",
              " 'D15': 33,\n",
              " 'D17': 6,\n",
              " 'D19': 93,\n",
              " 'D20': 89,\n",
              " 'D21': 10,\n",
              " 'D26': 3,\n",
              " 'D28': 61,\n",
              " 'D30': 86,\n",
              " 'D33': 1,\n",
              " 'D35': 95,\n",
              " 'D36': 83,\n",
              " 'D37': 19,\n",
              " 'D46': 97,\n",
              " 'D47': 78,\n",
              " 'D48': 116,\n",
              " 'D50': 46,\n",
              " 'D56': 13,\n",
              " 'D6': 43,\n",
              " 'D7': 100,\n",
              " 'E10': 82,\n",
              " 'E101': 32,\n",
              " 'E12': 34,\n",
              " 'E121': 79,\n",
              " 'E17': 0,\n",
              " 'E24': 14,\n",
              " 'E25': 41,\n",
              " 'E31': 16,\n",
              " 'E33': 87,\n",
              " 'E36': 28,\n",
              " 'E38': 18,\n",
              " 'E40': 15,\n",
              " 'E44': 17,\n",
              " 'E46': 30,\n",
              " 'E49': 120,\n",
              " 'E50': 107,\n",
              " 'E58': 58,\n",
              " 'E63': 22,\n",
              " 'E67': 25,\n",
              " 'E77': 49,\n",
              " 'E8': 20,\n",
              " 'F E69': 114,\n",
              " 'F G63': 105,\n",
              " 'F2': 77,\n",
              " 'F33': 8,\n",
              " 'F38': 98,\n",
              " 'F4': 24,\n",
              " 'G6': 35,\n",
              " 'T': 56,\n",
              " nan: 2}"
            ]
          },
          "metadata": {
            "tags": []
          },
          "execution_count": 15
        }
      ]
    },
    {
      "cell_type": "code",
      "metadata": {
        "id": "zQApdnK1TISh",
        "outputId": "c9668265-7338-49c9-a553-e12746f93b6a",
        "colab": {
          "base_uri": "https://localhost:8080/",
          "height": 359
        }
      },
      "source": [
        "# replace the labels in Cabin, using the dic created above\n",
        "X_train.loc[:, 'Cabin_mapped'] = X_train.loc[:, 'Cabin'].map(cabin_dict)\n",
        "X_test.loc[:, 'Cabin_mapped'] = X_test.loc[:, 'Cabin'].map(cabin_dict)\n",
        "\n",
        "X_train[['Cabin_mapped', 'Cabin']].head(10)"
      ],
      "execution_count": 16,
      "outputs": [
        {
          "output_type": "execute_result",
          "data": {
            "text/html": [
              "<div>\n",
              "<style scoped>\n",
              "    .dataframe tbody tr th:only-of-type {\n",
              "        vertical-align: middle;\n",
              "    }\n",
              "\n",
              "    .dataframe tbody tr th {\n",
              "        vertical-align: top;\n",
              "    }\n",
              "\n",
              "    .dataframe thead th {\n",
              "        text-align: right;\n",
              "    }\n",
              "</style>\n",
              "<table border=\"1\" class=\"dataframe\">\n",
              "  <thead>\n",
              "    <tr style=\"text-align: right;\">\n",
              "      <th></th>\n",
              "      <th>Cabin_mapped</th>\n",
              "      <th>Cabin</th>\n",
              "    </tr>\n",
              "  </thead>\n",
              "  <tbody>\n",
              "    <tr>\n",
              "      <th>857</th>\n",
              "      <td>0</td>\n",
              "      <td>E17</td>\n",
              "    </tr>\n",
              "    <tr>\n",
              "      <th>52</th>\n",
              "      <td>1</td>\n",
              "      <td>D33</td>\n",
              "    </tr>\n",
              "    <tr>\n",
              "      <th>386</th>\n",
              "      <td>2</td>\n",
              "      <td>NaN</td>\n",
              "    </tr>\n",
              "    <tr>\n",
              "      <th>124</th>\n",
              "      <td>3</td>\n",
              "      <td>D26</td>\n",
              "    </tr>\n",
              "    <tr>\n",
              "      <th>578</th>\n",
              "      <td>2</td>\n",
              "      <td>NaN</td>\n",
              "    </tr>\n",
              "    <tr>\n",
              "      <th>549</th>\n",
              "      <td>2</td>\n",
              "      <td>NaN</td>\n",
              "    </tr>\n",
              "    <tr>\n",
              "      <th>118</th>\n",
              "      <td>4</td>\n",
              "      <td>B58 B60</td>\n",
              "    </tr>\n",
              "    <tr>\n",
              "      <th>12</th>\n",
              "      <td>2</td>\n",
              "      <td>NaN</td>\n",
              "    </tr>\n",
              "    <tr>\n",
              "      <th>157</th>\n",
              "      <td>2</td>\n",
              "      <td>NaN</td>\n",
              "    </tr>\n",
              "    <tr>\n",
              "      <th>127</th>\n",
              "      <td>2</td>\n",
              "      <td>NaN</td>\n",
              "    </tr>\n",
              "  </tbody>\n",
              "</table>\n",
              "</div>"
            ],
            "text/plain": [
              "     Cabin_mapped    Cabin\n",
              "857             0      E17\n",
              "52              1      D33\n",
              "386             2      NaN\n",
              "124             3      D26\n",
              "578             2      NaN\n",
              "549             2      NaN\n",
              "118             4  B58 B60\n",
              "12              2      NaN\n",
              "157             2      NaN\n",
              "127             2      NaN"
            ]
          },
          "metadata": {
            "tags": []
          },
          "execution_count": 16
        }
      ]
    },
    {
      "cell_type": "code",
      "metadata": {
        "id": "iH6SOdXYULj9",
        "outputId": "e715a044-ada9-48e3-bd9a-a946251701ce",
        "colab": {
          "base_uri": "https://localhost:8080/",
          "height": 359
        }
      },
      "source": [
        "# create replace dictionary\n",
        "cabin_dict = {k: i for i, k in enumerate(X_train['Cabin_reduced'].unique(), 0)}\n",
        "\n",
        "# replace labels by numbers with dictionary\n",
        "X_train.loc[:, 'Cabin_reduced'] = X_train.loc[:, 'Cabin_reduced'].map(cabin_dict)\n",
        "X_test.loc[:, 'Cabin_reduced'] = X_test.loc[:, 'Cabin_reduced'].map(cabin_dict)\n",
        "\n",
        "X_train[['Cabin_reduced', 'Cabin']].head(10)"
      ],
      "execution_count": 17,
      "outputs": [
        {
          "output_type": "execute_result",
          "data": {
            "text/html": [
              "<div>\n",
              "<style scoped>\n",
              "    .dataframe tbody tr th:only-of-type {\n",
              "        vertical-align: middle;\n",
              "    }\n",
              "\n",
              "    .dataframe tbody tr th {\n",
              "        vertical-align: top;\n",
              "    }\n",
              "\n",
              "    .dataframe thead th {\n",
              "        text-align: right;\n",
              "    }\n",
              "</style>\n",
              "<table border=\"1\" class=\"dataframe\">\n",
              "  <thead>\n",
              "    <tr style=\"text-align: right;\">\n",
              "      <th></th>\n",
              "      <th>Cabin_reduced</th>\n",
              "      <th>Cabin</th>\n",
              "    </tr>\n",
              "  </thead>\n",
              "  <tbody>\n",
              "    <tr>\n",
              "      <th>857</th>\n",
              "      <td>0</td>\n",
              "      <td>E17</td>\n",
              "    </tr>\n",
              "    <tr>\n",
              "      <th>52</th>\n",
              "      <td>1</td>\n",
              "      <td>D33</td>\n",
              "    </tr>\n",
              "    <tr>\n",
              "      <th>386</th>\n",
              "      <td>2</td>\n",
              "      <td>NaN</td>\n",
              "    </tr>\n",
              "    <tr>\n",
              "      <th>124</th>\n",
              "      <td>1</td>\n",
              "      <td>D26</td>\n",
              "    </tr>\n",
              "    <tr>\n",
              "      <th>578</th>\n",
              "      <td>2</td>\n",
              "      <td>NaN</td>\n",
              "    </tr>\n",
              "    <tr>\n",
              "      <th>549</th>\n",
              "      <td>2</td>\n",
              "      <td>NaN</td>\n",
              "    </tr>\n",
              "    <tr>\n",
              "      <th>118</th>\n",
              "      <td>3</td>\n",
              "      <td>B58 B60</td>\n",
              "    </tr>\n",
              "    <tr>\n",
              "      <th>12</th>\n",
              "      <td>2</td>\n",
              "      <td>NaN</td>\n",
              "    </tr>\n",
              "    <tr>\n",
              "      <th>157</th>\n",
              "      <td>2</td>\n",
              "      <td>NaN</td>\n",
              "    </tr>\n",
              "    <tr>\n",
              "      <th>127</th>\n",
              "      <td>2</td>\n",
              "      <td>NaN</td>\n",
              "    </tr>\n",
              "  </tbody>\n",
              "</table>\n",
              "</div>"
            ],
            "text/plain": [
              "     Cabin_reduced    Cabin\n",
              "857              0      E17\n",
              "52               1      D33\n",
              "386              2      NaN\n",
              "124              1      D26\n",
              "578              2      NaN\n",
              "549              2      NaN\n",
              "118              3  B58 B60\n",
              "12               2      NaN\n",
              "157              2      NaN\n",
              "127              2      NaN"
            ]
          },
          "metadata": {
            "tags": []
          },
          "execution_count": 17
        }
      ]
    },
    {
      "cell_type": "code",
      "metadata": {
        "id": "7r0TKsJAUcki",
        "outputId": "0d0af5fa-205b-4c88-a738-2c6aee18cf96",
        "colab": {
          "base_uri": "https://localhost:8080/",
          "height": 119
        }
      },
      "source": [
        "X_train.loc[:, 'Sex'] = X_train.loc[:, 'Sex'].map({'male': 0, 'female': 1})\n",
        "X_test.loc[:, 'Sex'] = X_test.loc[:, 'Sex'].map({'male': 0, 'female': 1})\n",
        "\n",
        "X_train.Sex.head()"
      ],
      "execution_count": 18,
      "outputs": [
        {
          "output_type": "execute_result",
          "data": {
            "text/plain": [
              "857    0\n",
              "52     1\n",
              "386    0\n",
              "124    0\n",
              "578    1\n",
              "Name: Sex, dtype: int64"
            ]
          },
          "metadata": {
            "tags": []
          },
          "execution_count": 18
        }
      ]
    },
    {
      "cell_type": "code",
      "metadata": {
        "id": "HVt9d8MRUion",
        "outputId": "3374b7ac-7374-4b12-87e8-2cc49b19cc74",
        "colab": {
          "base_uri": "https://localhost:8080/",
          "height": 85
        }
      },
      "source": [
        "X_train[['Cabin_mapped','Cabin_reduced', 'Sex']].isnull().sum()"
      ],
      "execution_count": 19,
      "outputs": [
        {
          "output_type": "execute_result",
          "data": {
            "text/plain": [
              "Cabin_mapped     0\n",
              "Cabin_reduced    0\n",
              "Sex              0\n",
              "dtype: int64"
            ]
          },
          "metadata": {
            "tags": []
          },
          "execution_count": 19
        }
      ]
    },
    {
      "cell_type": "code",
      "metadata": {
        "id": "pGO5Y3ktWNz5",
        "outputId": "f39b55a2-baf2-4c0b-b496-fd7b17940ccc",
        "colab": {
          "base_uri": "https://localhost:8080/",
          "height": 34
        }
      },
      "source": [
        "len(X_train.Cabin_mapped.unique()), len(X_train.Cabin_reduced.unique())"
      ],
      "execution_count": 20,
      "outputs": [
        {
          "output_type": "execute_result",
          "data": {
            "text/plain": [
              "(121, 9)"
            ]
          },
          "metadata": {
            "tags": []
          },
          "execution_count": 20
        }
      ]
    },
    {
      "cell_type": "code",
      "metadata": {
        "id": "IeUcYWbnWRdq",
        "outputId": "ee9852ac-1bac-4c6b-ab0e-6173ccc6acec",
        "colab": {
          "base_uri": "https://localhost:8080/",
          "height": 85
        }
      },
      "source": [
        "# model built on data with high cardinality for cabin\n",
        "\n",
        "# call the model\n",
        "rf = RandomForestClassifier(n_estimators=200, random_state=39)\n",
        "\n",
        "# train the model\n",
        "rf.fit(X_train[['Cabin_mapped', 'Sex']], y_train)\n",
        "\n",
        "# make predictions on train and test set\n",
        "pred_train = rf.predict_proba(X_train[['Cabin_mapped', 'Sex']])\n",
        "pred_test = rf.predict_proba(X_test[['Cabin_mapped', 'Sex']].fillna(0))\n",
        "\n",
        "print('Train set')\n",
        "print('Random Forests roc-auc: {}'.format(roc_auc_score(y_train, pred_train[:,1])))\n",
        "print('Test set')\n",
        "print('Random Forests roc-auc: {}'.format(roc_auc_score(y_test, pred_test[:,1])))"
      ],
      "execution_count": 21,
      "outputs": [
        {
          "output_type": "stream",
          "text": [
            "Train set\n",
            "Random Forests roc-auc: 0.8617329342096702\n",
            "Test set\n",
            "Random Forests roc-auc: 0.8078571428571428\n"
          ],
          "name": "stdout"
        }
      ]
    },
    {
      "cell_type": "code",
      "metadata": {
        "id": "90pblgFGWUV0",
        "outputId": "e0072f3e-00fc-45d9-bd18-f194605cc200",
        "colab": {
          "base_uri": "https://localhost:8080/",
          "height": 85
        }
      },
      "source": [
        "\n",
        "# call the model\n",
        "rf = RandomForestClassifier(n_estimators=200, random_state=39)\n",
        "\n",
        "# train the model\n",
        "rf.fit(X_train[['Cabin_reduced', 'Sex']], y_train)\n",
        "\n",
        "# make predictions on train and test set\n",
        "pred_train = rf.predict_proba(X_train[['Cabin_reduced', 'Sex']])\n",
        "pred_test = rf.predict_proba(X_test[['Cabin_reduced', 'Sex']])\n",
        "\n",
        "print('Train set')\n",
        "print('Random Forests roc-auc: {}'.format(roc_auc_score(y_train, pred_train[:,1])))\n",
        "print('Test set')\n",
        "print('Random Forests roc-auc: {}'.format(roc_auc_score(y_test, pred_test[:,1])))"
      ],
      "execution_count": 22,
      "outputs": [
        {
          "output_type": "stream",
          "text": [
            "Train set\n",
            "Random Forests roc-auc: 0.8199550985878832\n",
            "Test set\n",
            "Random Forests roc-auc: 0.8332142857142857\n"
          ],
          "name": "stdout"
        }
      ]
    },
    {
      "cell_type": "code",
      "metadata": {
        "id": "SHCLzTl3WXqB",
        "outputId": "53223545-f211-4567-af3e-e940a94f42fd",
        "colab": {
          "base_uri": "https://localhost:8080/",
          "height": 85
        }
      },
      "source": [
        "# model build on data with plenty of categories in Cabin variable\n",
        "\n",
        "# call the model\n",
        "ada = AdaBoostClassifier(n_estimators=200, random_state=44)\n",
        "\n",
        "# train the model\n",
        "ada.fit(X_train[['Cabin_mapped', 'Sex']], y_train)\n",
        "\n",
        "# make predictions on train and test set\n",
        "pred_train = ada.predict_proba(X_train[['Cabin_mapped', 'Sex']])\n",
        "pred_test = ada.predict_proba(X_test[['Cabin_mapped', 'Sex']].fillna(0))\n",
        "\n",
        "print('Train set')\n",
        "print('Adaboost roc-auc: {}'.format(roc_auc_score(y_train, pred_train[:,1])))\n",
        "print('Test set')\n",
        "print('Adaboost roc-auc: {}'.format(roc_auc_score(y_test, pred_test[:,1])))"
      ],
      "execution_count": 23,
      "outputs": [
        {
          "output_type": "stream",
          "text": [
            "Train set\n",
            "Adaboost roc-auc: 0.8399546647578144\n",
            "Test set\n",
            "Adaboost roc-auc: 0.809375\n"
          ],
          "name": "stdout"
        }
      ]
    },
    {
      "cell_type": "code",
      "metadata": {
        "id": "Ult-069hWaRW",
        "outputId": "fcf9396f-0a0b-45a3-bc7e-951797a451d0",
        "colab": {
          "base_uri": "https://localhost:8080/",
          "height": 85
        }
      },
      "source": [
        "# model build on data with fewer categories in Cabin Variable\n",
        "\n",
        "# call the model\n",
        "ada = AdaBoostClassifier(n_estimators=200, random_state=44)\n",
        "\n",
        "# train the model\n",
        "ada.fit(X_train[['Cabin_reduced', 'Sex']], y_train)\n",
        "\n",
        "# make predictions on train and test set\n",
        "pred_train = ada.predict_proba(X_train[['Cabin_reduced', 'Sex']])\n",
        "pred_test = ada.predict_proba(X_test[['Cabin_reduced', 'Sex']].fillna(0))\n",
        "\n",
        "print('Train set')\n",
        "print('Adaboost roc-auc: {}'.format(roc_auc_score(y_train, pred_train[:,1])))\n",
        "print('Test set')\n",
        "print('Adaboost roc-auc: {}'.format(roc_auc_score(y_test, pred_test[:,1])))"
      ],
      "execution_count": 24,
      "outputs": [
        {
          "output_type": "stream",
          "text": [
            "Train set\n",
            "Adaboost roc-auc: 0.8195863430294354\n",
            "Test set\n",
            "Adaboost roc-auc: 0.8332142857142857\n"
          ],
          "name": "stdout"
        }
      ]
    },
    {
      "cell_type": "code",
      "metadata": {
        "id": "h1YuLTU1Wcv7",
        "outputId": "fb4a2dde-385e-47df-bad4-c723b2071fca",
        "colab": {
          "base_uri": "https://localhost:8080/",
          "height": 85
        }
      },
      "source": [
        "# model build on data with plenty of categories in Cabin variable\n",
        "\n",
        "# call the model\n",
        "logit = LogisticRegression(random_state=44)\n",
        "\n",
        "# train the model\n",
        "logit.fit(X_train[['Cabin_mapped', 'Sex']], y_train)\n",
        "\n",
        "# make predictions on train and test set\n",
        "pred_train = logit.predict_proba(X_train[['Cabin_mapped', 'Sex']])\n",
        "pred_test = logit.predict_proba(X_test[['Cabin_mapped', 'Sex']].fillna(0))\n",
        "\n",
        "print('Train set')\n",
        "print('Logistic regression roc-auc: {}'.format(roc_auc_score(y_train, pred_train[:,1])))\n",
        "print('Test set')\n",
        "print('Logistic regression roc-auc: {}'.format(roc_auc_score(y_test, pred_test[:,1])))"
      ],
      "execution_count": 25,
      "outputs": [
        {
          "output_type": "stream",
          "text": [
            "Train set\n",
            "Logistic regression roc-auc: 0.8094564109238411\n",
            "Test set\n",
            "Logistic regression roc-auc: 0.7591071428571431\n"
          ],
          "name": "stdout"
        }
      ]
    },
    {
      "cell_type": "code",
      "metadata": {
        "id": "ccNaynsfWfMI",
        "outputId": "17c14bd2-c0e8-4277-e719-576165a22d1a",
        "colab": {
          "base_uri": "https://localhost:8080/",
          "height": 85
        }
      },
      "source": [
        "# model build on data with fewer categories in Cabin Variable\n",
        "\n",
        "# call the model\n",
        "logit = LogisticRegression(random_state=44)\n",
        "\n",
        "# train the model\n",
        "logit.fit(X_train[['Cabin_reduced', 'Sex']], y_train)\n",
        "\n",
        "# make predictions on train and test set\n",
        "pred_train = logit.predict_proba(X_train[['Cabin_reduced', 'Sex']])\n",
        "pred_test = logit.predict_proba(X_test[['Cabin_reduced', 'Sex']].fillna(0))\n",
        "\n",
        "print('Train set')\n",
        "print('Logistic regression roc-auc: {}'.format(roc_auc_score(y_train, pred_train[:,1])))\n",
        "print('Test set')\n",
        "print('Logistic regression roc-auc: {}'.format(roc_auc_score(y_test, pred_test[:,1])))"
      ],
      "execution_count": 26,
      "outputs": [
        {
          "output_type": "stream",
          "text": [
            "Train set\n",
            "Logistic regression roc-auc: 0.7672664367367301\n",
            "Test set\n",
            "Logistic regression roc-auc: 0.7957738095238095\n"
          ],
          "name": "stdout"
        }
      ]
    },
    {
      "cell_type": "code",
      "metadata": {
        "id": "WeRRw3UQWh3A",
        "outputId": "8bc57e8a-949c-4b77-e3d8-774eaebd9fce",
        "colab": {
          "base_uri": "https://localhost:8080/",
          "height": 85
        }
      },
      "source": [
        "# model build on data with plenty of categories in Cabin variable\n",
        "from sklearn.ensemble import GradientBoostingClassifier\n",
        "\n",
        "\n",
        "# call the model\n",
        "gbc = GradientBoostingClassifier(n_estimators=300, random_state=44)\n",
        "\n",
        "# train the model\n",
        "gbc.fit(X_train[['Cabin_mapped', 'Sex']], y_train)\n",
        "\n",
        "# make predictions on train and test set\n",
        "pred_train = gbc.predict_proba(X_train[['Cabin_mapped', 'Sex']])\n",
        "pred_test = gbc.predict_proba(X_test[['Cabin_mapped', 'Sex']].fillna(0))\n",
        "\n",
        "print('Train set')\n",
        "print('Gradient Boosted Trees roc-auc: {}'.format(roc_auc_score(y_train, pred_train[:,1])))\n",
        "print('Test set')\n",
        "print('Gradient Boosted Trees roc-auc: {}'.format(roc_auc_score(y_test, pred_test[:,1])))"
      ],
      "execution_count": 28,
      "outputs": [
        {
          "output_type": "stream",
          "text": [
            "Train set\n",
            "Gradient Boosted Trees roc-auc: 0.8731860480249887\n",
            "Test set\n",
            "Gradient Boosted Trees roc-auc: 0.816845238095238\n"
          ],
          "name": "stdout"
        }
      ]
    },
    {
      "cell_type": "code",
      "metadata": {
        "id": "V-IKV9dHWleK",
        "outputId": "23b9cdb8-7ca4-45c7-d9c7-21985d0a3d3e",
        "colab": {
          "base_uri": "https://localhost:8080/",
          "height": 85
        }
      },
      "source": [
        "# model build on data with plenty of categories in Cabin variable\n",
        "\n",
        "# call the model\n",
        "gbc = GradientBoostingClassifier(n_estimators=300, random_state=44)\n",
        "\n",
        "# train the model\n",
        "gbc.fit(X_train[['Cabin_reduced', 'Sex']], y_train)\n",
        "\n",
        "# make predictions on train and test set\n",
        "pred_train = gbc.predict_proba(X_train[['Cabin_reduced', 'Sex']])\n",
        "pred_test = gbc.predict_proba(X_test[['Cabin_reduced', 'Sex']].fillna(0))\n",
        "\n",
        "print('Train set')\n",
        "print('Gradient Boosted Trees roc-auc: {}'.format(roc_auc_score(y_train, pred_train[:,1])))\n",
        "print('Test set')\n",
        "print('Gradient Boosted Trees roc-auc: {}'.format(roc_auc_score(y_test, pred_test[:,1])))"
      ],
      "execution_count": 29,
      "outputs": [
        {
          "output_type": "stream",
          "text": [
            "Train set\n",
            "Gradient Boosted Trees roc-auc: 0.8204756946703976\n",
            "Test set\n",
            "Gradient Boosted Trees roc-auc: 0.8332142857142857\n"
          ],
          "name": "stdout"
        }
      ]
    },
    {
      "cell_type": "code",
      "metadata": {
        "id": "s1jnrXSdXHVh"
      },
      "source": [
        ""
      ],
      "execution_count": null,
      "outputs": []
    },
    {
      "cell_type": "code",
      "metadata": {
        "id": "D3nTYYYzRcYD"
      },
      "source": [
        ""
      ],
      "execution_count": null,
      "outputs": []
    },
    {
      "cell_type": "code",
      "metadata": {
        "id": "Xc_hqRlGQ5Xc"
      },
      "source": [
        ""
      ],
      "execution_count": null,
      "outputs": []
    }
  ]
}