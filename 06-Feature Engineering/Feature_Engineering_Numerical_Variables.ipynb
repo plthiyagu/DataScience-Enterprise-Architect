{
  "nbformat": 4,
  "nbformat_minor": 0,
  "metadata": {
    "colab": {
      "name": "Feature Engineering- Numerical Variables.ipynb",
      "provenance": [],
      "collapsed_sections": [],
      "authorship_tag": "ABX9TyPT7+dFikNizmQldBfWgQVX",
      "include_colab_link": true
    },
    "kernelspec": {
      "name": "python3",
      "display_name": "Python 3"
    }
  },
  "cells": [
    {
      "cell_type": "markdown",
      "metadata": {
        "id": "view-in-github",
        "colab_type": "text"
      },
      "source": [
        "<a href=\"https://colab.research.google.com/github/plthiyagu/Personnel/blob/master/Feature_Engineering_Numerical_Variables.ipynb\" target=\"_parent\"><img src=\"https://colab.research.google.com/assets/colab-badge.svg\" alt=\"Open In Colab\"/></a>"
      ]
    },
    {
      "cell_type": "code",
      "metadata": {
        "id": "bfSTZH6u6NCn"
      },
      "source": [
        "import numpy as np\n",
        "import pandas as pd\n",
        "import matplotlib.pyplot as plt\n",
        "import seaborn as sns\n"
      ],
      "execution_count": 7,
      "outputs": []
    },
    {
      "cell_type": "code",
      "metadata": {
        "id": "pazDpIfbswm_"
      },
      "source": [
        "use_cols = [\n",
        "    'loan_amnt', 'int_rate', 'annual_inc', 'open_acc', 'loan_status',\n",
        "    'open_il_12m'\n",
        "]"
      ],
      "execution_count": 8,
      "outputs": []
    },
    {
      "cell_type": "code",
      "metadata": {
        "id": "XdGq0116TaDz",
        "outputId": "a6e08030-1676-4ba5-f65a-fb62d1132e0e",
        "colab": {
          "base_uri": "https://localhost:8080/",
          "height": 204
        }
      },
      "source": [
        "df= pd.read_csv('https://raw.githubusercontent.com/plthiyagu/Personnel/master/Dataset//LoanStats_2018Q4.csv',usecols=use_cols).sample(\n",
        "        10000, random_state=44)\n",
        "df.head()"
      ],
      "execution_count": 9,
      "outputs": [
        {
          "output_type": "execute_result",
          "data": {
            "text/html": [
              "<div>\n",
              "<style scoped>\n",
              "    .dataframe tbody tr th:only-of-type {\n",
              "        vertical-align: middle;\n",
              "    }\n",
              "\n",
              "    .dataframe tbody tr th {\n",
              "        vertical-align: top;\n",
              "    }\n",
              "\n",
              "    .dataframe thead th {\n",
              "        text-align: right;\n",
              "    }\n",
              "</style>\n",
              "<table border=\"1\" class=\"dataframe\">\n",
              "  <thead>\n",
              "    <tr style=\"text-align: right;\">\n",
              "      <th></th>\n",
              "      <th>loan_amnt</th>\n",
              "      <th>int_rate</th>\n",
              "      <th>annual_inc</th>\n",
              "      <th>loan_status</th>\n",
              "      <th>open_acc</th>\n",
              "      <th>open_il_12m</th>\n",
              "    </tr>\n",
              "  </thead>\n",
              "  <tbody>\n",
              "    <tr>\n",
              "      <th>39437</th>\n",
              "      <td>15000.0</td>\n",
              "      <td>13.56%</td>\n",
              "      <td>58000.0</td>\n",
              "      <td>Current</td>\n",
              "      <td>26.0</td>\n",
              "      <td>2.0</td>\n",
              "    </tr>\n",
              "    <tr>\n",
              "      <th>101867</th>\n",
              "      <td>20000.0</td>\n",
              "      <td>17.97%</td>\n",
              "      <td>52000.0</td>\n",
              "      <td>Current</td>\n",
              "      <td>10.0</td>\n",
              "      <td>1.0</td>\n",
              "    </tr>\n",
              "    <tr>\n",
              "      <th>90842</th>\n",
              "      <td>26000.0</td>\n",
              "      <td>6.67%</td>\n",
              "      <td>80000.0</td>\n",
              "      <td>Current</td>\n",
              "      <td>12.0</td>\n",
              "      <td>0.0</td>\n",
              "    </tr>\n",
              "    <tr>\n",
              "      <th>71803</th>\n",
              "      <td>17000.0</td>\n",
              "      <td>13.56%</td>\n",
              "      <td>50000.0</td>\n",
              "      <td>Current</td>\n",
              "      <td>11.0</td>\n",
              "      <td>0.0</td>\n",
              "    </tr>\n",
              "    <tr>\n",
              "      <th>18012</th>\n",
              "      <td>5500.0</td>\n",
              "      <td>6.46%</td>\n",
              "      <td>53000.0</td>\n",
              "      <td>Current</td>\n",
              "      <td>8.0</td>\n",
              "      <td>1.0</td>\n",
              "    </tr>\n",
              "  </tbody>\n",
              "</table>\n",
              "</div>"
            ],
            "text/plain": [
              "        loan_amnt int_rate  annual_inc loan_status  open_acc  open_il_12m\n",
              "39437     15000.0   13.56%     58000.0     Current      26.0          2.0\n",
              "101867    20000.0   17.97%     52000.0     Current      10.0          1.0\n",
              "90842     26000.0    6.67%     80000.0     Current      12.0          0.0\n",
              "71803     17000.0   13.56%     50000.0     Current      11.0          0.0\n",
              "18012      5500.0    6.46%     53000.0     Current       8.0          1.0"
            ]
          },
          "metadata": {
            "tags": []
          },
          "execution_count": 9
        }
      ]
    },
    {
      "cell_type": "code",
      "metadata": {
        "id": "MGJg71DLk1Fl",
        "outputId": "9ff67581-7996-48db-a6c1-597a1e29a1e2",
        "colab": {
          "base_uri": "https://localhost:8080/",
          "height": 1000
        }
      },
      "source": [
        "df.loan_amnt.unique()"
      ],
      "execution_count": 10,
      "outputs": [
        {
          "output_type": "execute_result",
          "data": {
            "text/plain": [
              "array([15000., 20000., 26000., 17000.,  5500.,  5000., 10000., 12000.,\n",
              "        1500., 30000., 24000.,  6500., 16800., 40000., 32000., 25000.,\n",
              "       23000., 22975.,  7000., 35000.,  3000., 37000.,  1600.,  9500.,\n",
              "        8400., 15650., 38500., 13000., 18000., 14000., 10500.,  8500.,\n",
              "       11500.,  6200.,  9000., 21000.,  4500.,  4000.,  5100.,  6000.,\n",
              "       16000.,  6025.,  8000., 11000.,  7800.,  1000.,  9600., 31800.,\n",
              "        3600., 13500., 36000., 14500.,  2500.,  4725.,  3200.,  7500.,\n",
              "       28000.,  2000.,  4200., 27000.,  7200., 19000.,  1200.,  3300.,\n",
              "       29500., 22400., 17700.,  7400., 24800.,  5850., 12900., 18500.,\n",
              "        1100.,  6650.,  2600.,  2250.,  5800.,  6400., 16500., 31000.,\n",
              "       38000., 15825., 19500., 19200.,  5400.,  5300.,  4800., 22325.,\n",
              "       29000.,  3850., 15500., 23500., 39000., 25500., 10800., 21850.,\n",
              "        5600., 17050., 34000., 24925.,  6600., 10275., 15700.,  7300.,\n",
              "       14400., 27875.,  3500., 25750., 33000., 21600., 28500., 34500.,\n",
              "       12600., 31925., 22500.,  2275., 20375., 27650., 39175.,  9375.,\n",
              "       18350.,  5875., 32475.,  4400., 21700., 11525., 22000.,  8100.,\n",
              "       11200., 26850., 15200., 23650., 23425., 12500.,  3025., 15025.,\n",
              "        1400.,  2400., 17600.,  6050.,  4175.,  8450., 20500., 14700.,\n",
              "        4950., 28800., 26500.,  9950.,  4900., 19800., 20250., 14250.,\n",
              "        5200.,  9650., 12800.,  9100., 17400., 14475., 25575., 14800.,\n",
              "       14600., 11400.,  3925., 29950., 33300.,  4050.,  1750.,  6300.,\n",
              "        2200.,  9400., 25200.,  7700., 39500., 11700., 36500., 15600.,\n",
              "       23325., 10575.,  1800., 34650.,  4825., 25600.,  9025., 20650.,\n",
              "       20600., 17675., 23125., 31425., 14325., 11100.,  1925.,  6800.,\n",
              "       33600., 27600.,  8250., 11850.,  8800.,  3700., 16650.,  6750.,\n",
              "       10775., 32225., 36450.,  6725., 20975., 17500., 36975., 16375.,\n",
              "       13975., 20900.,  2800., 28175.,  3325., 19350., 36250., 18800.,\n",
              "       37450., 35500.,  7600.,  4375., 24400., 20175.,  7150., 13600.,\n",
              "       35625.,  6675.,  8050., 30500., 27850., 22800., 12350.,  4550.,\n",
              "       16675., 38400., 39200., 17775., 26125., 27550., 19150., 11250.,\n",
              "       13750.,  5750., 10425., 22075., 17825., 12475., 10400.,  1900.,\n",
              "       14750., 27500., 11900., 24825., 10025., 19600., 34750.,  2100.,\n",
              "        7100.,  6875., 32675., 21775., 14075.,  4450., 11625., 18700.,\n",
              "       32325., 10300.,  4850., 16400., 20400., 32350., 11575., 31275.,\n",
              "       13575., 21500.,  8300., 28475., 28400., 23525., 35525., 19125.,\n",
              "       30725.,  5450., 10675., 19900., 28150., 18325., 35875.,  6250.,\n",
              "       30475., 10200., 15525., 22175.,  8950., 30600., 20050., 39225.,\n",
              "        8825., 26175., 30175.,  7675.,  1700., 22200.,  2700., 16450.,\n",
              "        3400., 33200., 24300., 20575.,  4600.,  9200., 17275.,  9850.,\n",
              "        6825.,  7225., 22050., 17650., 18200.,  8775., 32825., 12825.,\n",
              "        2150., 33425.,  6350., 11475., 11150., 13200., 15850.,  9575.,\n",
              "       30800., 28850., 26400., 10325., 28950., 16100., 21800., 25225.,\n",
              "       19450., 34675., 36050., 34850., 26800., 37775.,  1325., 34350.,\n",
              "       27525.,  4750., 10600., 18150.,  9450.,  2300., 17875., 14100.,\n",
              "       26100.,  5275.,  9725.,  6275., 24325., 26575., 10100., 39600.,\n",
              "       23975., 33125., 11750., 12300., 38550., 12525.,  3050., 19950.,\n",
              "       14350., 34525., 19325., 10925., 22425., 10250., 25050., 17950.,\n",
              "       34550., 20800.,  6975.,  7925., 12100.,  4650., 11025.,  5150.,\n",
              "       21750., 16700., 25675., 12025.,  8600., 18550., 16525.,  5475.,\n",
              "       13450., 23900., 18875., 27075., 11600., 15400.,  4325.,    nan,\n",
              "        5650., 25025., 37250., 20100., 13725., 20450., 30775.,  2900.,\n",
              "       25725., 18900., 15300.,  9300., 16775., 32075., 36700., 25850.,\n",
              "        8700., 11350., 10375., 11175.,  8275., 16625.,  5225., 39925.,\n",
              "       17375.,  3175., 37800., 29575., 23100., 39350., 34800.,  7250.,\n",
              "        1350.,  9700., 28725.,  8175., 13550., 30250., 30400., 14625.,\n",
              "       15950.,  2650., 25450.,  4300., 24600., 10900.,  8200., 29525.,\n",
              "       14725., 14125., 19225.,  3900., 36850., 23400.,  2550.,  3425.,\n",
              "       19250., 22375.,  8900.,  6100., 32750., 17550.,  6475., 12125.,\n",
              "        9350.,  9075., 26600.,  3775., 18825., 26525., 19400., 35075.,\n",
              "       24425., 33950.,  3350., 15075., 25325.,  6900., 21200.,  4625.,\n",
              "       24675., 23075., 19300., 17250., 37425., 18250., 19375., 24550.,\n",
              "       20275.,  9800., 20925., 13675., 18650., 33675.,  3125.,  9750.,\n",
              "       12775., 37500.,  8850., 29025., 38050.,  6125., 33250.,  9900.,\n",
              "        7075., 21300.,  3150., 22475., 16025., 13400.,  7450., 16575.,\n",
              "       14300., 20225., 28300., 31525., 33550., 28775., 12750., 10700.,\n",
              "       11450., 24650.,  1850., 13225., 32175., 30100., 29975., 14875.,\n",
              "       32200., 17725., 26275., 26825., 16950., 24725., 16225., 21725.,\n",
              "       22625., 39475.,  3950., 27400., 10750., 26225., 18300., 21550.,\n",
              "       13075., 25900.,  4350., 26975., 33500.,  8975., 28600.,  5575.,\n",
              "        8650., 34200., 32625., 34400.,  9125., 18600., 38900., 31750.,\n",
              "        4700.,  9775.,  6700., 28900., 13925., 17900., 10350., 17625.,\n",
              "        6850., 34075., 31575., 15800., 11650., 12275., 13800., 29450.,\n",
              "       31200., 17300., 28650., 25950., 13250.,  4475., 19875., 14650.,\n",
              "        7775., 14975., 27200., 24500., 12200., 33775., 15625., 17575.,\n",
              "       28200., 10525., 22250.,  3625., 21425., 30375., 26250.,  5050.,\n",
              "       13700., 27050., 31400., 37950.,  3250., 31450., 29900., 27150.,\n",
              "       19775., 25525., 20200.,  4875., 29825.])"
            ]
          },
          "metadata": {
            "tags": []
          },
          "execution_count": 10
        }
      ]
    },
    {
      "cell_type": "code",
      "metadata": {
        "id": "IZNeidN9x2j8"
      },
      "source": [
        "# let's make an histogram to get familiar with the\n",
        "# distribution of the variable"
      ],
      "execution_count": 11,
      "outputs": []
    },
    {
      "cell_type": "code",
      "metadata": {
        "id": "Qhl9QLXeTag9",
        "outputId": "bcd11b29-794f-44e1-956e-ac329de6c447",
        "colab": {
          "base_uri": "https://localhost:8080/",
          "height": 312
        }
      },
      "source": [
        "fig = df.loan_amnt.hist(bins=50)\n",
        "fig.set_title(\"Loan amount requested\")\n",
        "fig.set_xlabel('Loan Amount')\n",
        "fig.set_ylabel('Number of Loans')"
      ],
      "execution_count": 12,
      "outputs": [
        {
          "output_type": "execute_result",
          "data": {
            "text/plain": [
              "Text(0, 0.5, 'Number of Loans')"
            ]
          },
          "metadata": {
            "tags": []
          },
          "execution_count": 12
        },
        {
          "output_type": "display_data",
          "data": {
            "image/png": "[encoded data removed]",
            "text/plain": [
              "<Figure size 432x288 with 1 Axes>"
            ]
          },
          "metadata": {
            "tags": [],
            "needs_background": "light"
          }
        }
      ]
    },
    {
      "cell_type": "code",
      "metadata": {
        "id": "XLhFm3oRNnPL",
        "outputId": "48c0883d-e91b-4f04-9a3c-fc8cd7e53c63",
        "colab": {
          "base_uri": "https://localhost:8080/",
          "height": 1000
        }
      },
      "source": [
        "df.loan_amnt.unique()"
      ],
      "execution_count": 13,
      "outputs": [
        {
          "output_type": "execute_result",
          "data": {
            "text/plain": [
              "array([15000., 20000., 26000., 17000.,  5500.,  5000., 10000., 12000.,\n",
              "        1500., 30000., 24000.,  6500., 16800., 40000., 32000., 25000.,\n",
              "       23000., 22975.,  7000., 35000.,  3000., 37000.,  1600.,  9500.,\n",
              "        8400., 15650., 38500., 13000., 18000., 14000., 10500.,  8500.,\n",
              "       11500.,  6200.,  9000., 21000.,  4500.,  4000.,  5100.,  6000.,\n",
              "       16000.,  6025.,  8000., 11000.,  7800.,  1000.,  9600., 31800.,\n",
              "        3600., 13500., 36000., 14500.,  2500.,  4725.,  3200.,  7500.,\n",
              "       28000.,  2000.,  4200., 27000.,  7200., 19000.,  1200.,  3300.,\n",
              "       29500., 22400., 17700.,  7400., 24800.,  5850., 12900., 18500.,\n",
              "        1100.,  6650.,  2600.,  2250.,  5800.,  6400., 16500., 31000.,\n",
              "       38000., 15825., 19500., 19200.,  5400.,  5300.,  4800., 22325.,\n",
              "       29000.,  3850., 15500., 23500., 39000., 25500., 10800., 21850.,\n",
              "        5600., 17050., 34000., 24925.,  6600., 10275., 15700.,  7300.,\n",
              "       14400., 27875.,  3500., 25750., 33000., 21600., 28500., 34500.,\n",
              "       12600., 31925., 22500.,  2275., 20375., 27650., 39175.,  9375.,\n",
              "       18350.,  5875., 32475.,  4400., 21700., 11525., 22000.,  8100.,\n",
              "       11200., 26850., 15200., 23650., 23425., 12500.,  3025., 15025.,\n",
              "        1400.,  2400., 17600.,  6050.,  4175.,  8450., 20500., 14700.,\n",
              "        4950., 28800., 26500.,  9950.,  4900., 19800., 20250., 14250.,\n",
              "        5200.,  9650., 12800.,  9100., 17400., 14475., 25575., 14800.,\n",
              "       14600., 11400.,  3925., 29950., 33300.,  4050.,  1750.,  6300.,\n",
              "        2200.,  9400., 25200.,  7700., 39500., 11700., 36500., 15600.,\n",
              "       23325., 10575.,  1800., 34650.,  4825., 25600.,  9025., 20650.,\n",
              "       20600., 17675., 23125., 31425., 14325., 11100.,  1925.,  6800.,\n",
              "       33600., 27600.,  8250., 11850.,  8800.,  3700., 16650.,  6750.,\n",
              "       10775., 32225., 36450.,  6725., 20975., 17500., 36975., 16375.,\n",
              "       13975., 20900.,  2800., 28175.,  3325., 19350., 36250., 18800.,\n",
              "       37450., 35500.,  7600.,  4375., 24400., 20175.,  7150., 13600.,\n",
              "       35625.,  6675.,  8050., 30500., 27850., 22800., 12350.,  4550.,\n",
              "       16675., 38400., 39200., 17775., 26125., 27550., 19150., 11250.,\n",
              "       13750.,  5750., 10425., 22075., 17825., 12475., 10400.,  1900.,\n",
              "       14750., 27500., 11900., 24825., 10025., 19600., 34750.,  2100.,\n",
              "        7100.,  6875., 32675., 21775., 14075.,  4450., 11625., 18700.,\n",
              "       32325., 10300.,  4850., 16400., 20400., 32350., 11575., 31275.,\n",
              "       13575., 21500.,  8300., 28475., 28400., 23525., 35525., 19125.,\n",
              "       30725.,  5450., 10675., 19900., 28150., 18325., 35875.,  6250.,\n",
              "       30475., 10200., 15525., 22175.,  8950., 30600., 20050., 39225.,\n",
              "        8825., 26175., 30175.,  7675.,  1700., 22200.,  2700., 16450.,\n",
              "        3400., 33200., 24300., 20575.,  4600.,  9200., 17275.,  9850.,\n",
              "        6825.,  7225., 22050., 17650., 18200.,  8775., 32825., 12825.,\n",
              "        2150., 33425.,  6350., 11475., 11150., 13200., 15850.,  9575.,\n",
              "       30800., 28850., 26400., 10325., 28950., 16100., 21800., 25225.,\n",
              "       19450., 34675., 36050., 34850., 26800., 37775.,  1325., 34350.,\n",
              "       27525.,  4750., 10600., 18150.,  9450.,  2300., 17875., 14100.,\n",
              "       26100.,  5275.,  9725.,  6275., 24325., 26575., 10100., 39600.,\n",
              "       23975., 33125., 11750., 12300., 38550., 12525.,  3050., 19950.,\n",
              "       14350., 34525., 19325., 10925., 22425., 10250., 25050., 17950.,\n",
              "       34550., 20800.,  6975.,  7925., 12100.,  4650., 11025.,  5150.,\n",
              "       21750., 16700., 25675., 12025.,  8600., 18550., 16525.,  5475.,\n",
              "       13450., 23900., 18875., 27075., 11600., 15400.,  4325.,    nan,\n",
              "        5650., 25025., 37250., 20100., 13725., 20450., 30775.,  2900.,\n",
              "       25725., 18900., 15300.,  9300., 16775., 32075., 36700., 25850.,\n",
              "        8700., 11350., 10375., 11175.,  8275., 16625.,  5225., 39925.,\n",
              "       17375.,  3175., 37800., 29575., 23100., 39350., 34800.,  7250.,\n",
              "        1350.,  9700., 28725.,  8175., 13550., 30250., 30400., 14625.,\n",
              "       15950.,  2650., 25450.,  4300., 24600., 10900.,  8200., 29525.,\n",
              "       14725., 14125., 19225.,  3900., 36850., 23400.,  2550.,  3425.,\n",
              "       19250., 22375.,  8900.,  6100., 32750., 17550.,  6475., 12125.,\n",
              "        9350.,  9075., 26600.,  3775., 18825., 26525., 19400., 35075.,\n",
              "       24425., 33950.,  3350., 15075., 25325.,  6900., 21200.,  4625.,\n",
              "       24675., 23075., 19300., 17250., 37425., 18250., 19375., 24550.,\n",
              "       20275.,  9800., 20925., 13675., 18650., 33675.,  3125.,  9750.,\n",
              "       12775., 37500.,  8850., 29025., 38050.,  6125., 33250.,  9900.,\n",
              "        7075., 21300.,  3150., 22475., 16025., 13400.,  7450., 16575.,\n",
              "       14300., 20225., 28300., 31525., 33550., 28775., 12750., 10700.,\n",
              "       11450., 24650.,  1850., 13225., 32175., 30100., 29975., 14875.,\n",
              "       32200., 17725., 26275., 26825., 16950., 24725., 16225., 21725.,\n",
              "       22625., 39475.,  3950., 27400., 10750., 26225., 18300., 21550.,\n",
              "       13075., 25900.,  4350., 26975., 33500.,  8975., 28600.,  5575.,\n",
              "        8650., 34200., 32625., 34400.,  9125., 18600., 38900., 31750.,\n",
              "        4700.,  9775.,  6700., 28900., 13925., 17900., 10350., 17625.,\n",
              "        6850., 34075., 31575., 15800., 11650., 12275., 13800., 29450.,\n",
              "       31200., 17300., 28650., 25950., 13250.,  4475., 19875., 14650.,\n",
              "        7775., 14975., 27200., 24500., 12200., 33775., 15625., 17575.,\n",
              "       28200., 10525., 22250.,  3625., 21425., 30375., 26250.,  5050.,\n",
              "       13700., 27050., 31400., 37950.,  3250., 31450., 29900., 27150.,\n",
              "       19775., 25525., 20200.,  4875., 29825.])"
            ]
          },
          "metadata": {
            "tags": []
          },
          "execution_count": 13
        }
      ]
    },
    {
      "cell_type": "code",
      "metadata": {
        "id": "oZGwJPPuPAyU",
        "outputId": "64ce30aa-f649-4aa4-c893-1a7b755e48c6",
        "colab": {
          "base_uri": "https://localhost:8080/",
          "height": 312
        }
      },
      "source": [
        "fig = df.int_rate.hist(bins=30)\n",
        "fig.set_title('Interest Rate')\n",
        "fig.set_xlabel('Interest Rate')\n",
        "fig.set_ylabel('Number of Loans')"
      ],
      "execution_count": 15,
      "outputs": [
        {
          "output_type": "execute_result",
          "data": {
            "text/plain": [
              "Text(0, 0.5, 'Number of Loans')"
            ]
          },
          "metadata": {
            "tags": []
          },
          "execution_count": 15
        },
        {
          "output_type": "display_data",
          "data": {
            "image/png": "[encoded data removed]",
            "text/plain": [
              "<Figure size 432x288 with 1 Axes>"
            ]
          },
          "metadata": {
            "tags": [],
            "needs_background": "light"
          }
        }
      ]
    },
    {
      "cell_type": "code",
      "metadata": {
        "id": "_B92uwJzPHrD",
        "outputId": "65ee0340-9e93-4723-8478-e04747abf3d4",
        "colab": {
          "base_uri": "https://localhost:8080/",
          "height": 312
        }
      },
      "source": [
        "fig = df.annual_inc.hist(bins=30)\n",
        "fig.set_title('Interest Rate')\n",
        "fig.set_xlabel('Interest Rate')\n",
        "fig.set_ylabel('Number of Loans')"
      ],
      "execution_count": 17,
      "outputs": [
        {
          "output_type": "execute_result",
          "data": {
            "text/plain": [
              "Text(0, 0.5, 'Number of Loans')"
            ]
          },
          "metadata": {
            "tags": []
          },
          "execution_count": 17
        },
        {
          "output_type": "display_data",
          "data": {
            "image/png": "[encoded data removed]",
            "text/plain": [
              "<Figure size 432x288 with 1 Axes>"
            ]
          },
          "metadata": {
            "tags": [],
            "needs_background": "light"
          }
        }
      ]
    },
    {
      "cell_type": "code",
      "metadata": {
        "id": "PT2RE-dQPfPp",
        "outputId": "f5010f45-f842-45cc-be10-87075d9c8719",
        "colab": {
          "base_uri": "https://localhost:8080/",
          "height": 312
        }
      },
      "source": [
        "fig = df.open_acc.hist(bins=100)\n",
        "fig.set_xlim(0, 30)\n",
        "fig.set_title('Number of open accounts')\n",
        "fig.set_xlabel('Number of open accounts')\n",
        "fig.set_ylabel('Number of Customers')"
      ],
      "execution_count": 18,
      "outputs": [
        {
          "output_type": "execute_result",
          "data": {
            "text/plain": [
              "Text(0, 0.5, 'Number of Customers')"
            ]
          },
          "metadata": {
            "tags": []
          },
          "execution_count": 18
        },
        {
          "output_type": "display_data",
          "data": {
            "image/png": "[encoded data removed]",
            "text/plain": [
              "<Figure size 432x288 with 1 Axes>"
            ]
          },
          "metadata": {
            "tags": [],
            "needs_background": "light"
          }
        }
      ]
    },
    {
      "cell_type": "code",
      "metadata": {
        "id": "YMEz6TncQ-9u",
        "outputId": "aa6bd565-2463-4711-9b36-6225e85764fa",
        "colab": {
          "base_uri": "https://localhost:8080/",
          "height": 34
        }
      },
      "source": [
        "df.open_il_12m.unique()"
      ],
      "execution_count": 20,
      "outputs": [
        {
          "output_type": "execute_result",
          "data": {
            "text/plain": [
              "array([ 2.,  1.,  0.,  3.,  4.,  5.,  6., nan])"
            ]
          },
          "metadata": {
            "tags": []
          },
          "execution_count": 20
        }
      ]
    },
    {
      "cell_type": "code",
      "metadata": {
        "id": "lVXSr_yeW0er",
        "outputId": "32e08aad-1942-4229-ab8b-0c6f4d312da3",
        "colab": {
          "base_uri": "https://localhost:8080/",
          "height": 312
        }
      },
      "source": [
        "fig = df.open_il_12m.hist(bins=50)\n",
        "fig.set_title('Number of installment accounts opened in past 12 months')\n",
        "fig.set_xlabel('Number of installment accounts opened in past 12 months')\n",
        "fig.set_ylabel('Number of Borrowers')"
      ],
      "execution_count": 21,
      "outputs": [
        {
          "output_type": "execute_result",
          "data": {
            "text/plain": [
              "Text(0, 0.5, 'Number of Borrowers')"
            ]
          },
          "metadata": {
            "tags": []
          },
          "execution_count": 21
        },
        {
          "output_type": "display_data",
          "data": {
            "image/png": "[encoded data removed]",
            "text/plain": [
              "<Figure size 432x288 with 1 Axes>"
            ]
          },
          "metadata": {
            "tags": [],
            "needs_background": "light"
          }
        }
      ]
    },
    {
      "cell_type": "code",
      "metadata": {
        "id": "St6kLgzYX1Wg",
        "outputId": "6bb7c7fb-6a08-442b-8a25-54b86de34dfb",
        "colab": {
          "base_uri": "https://localhost:8080/",
          "height": 51
        }
      },
      "source": [
        "df.loan_status.unique()"
      ],
      "execution_count": 22,
      "outputs": [
        {
          "output_type": "execute_result",
          "data": {
            "text/plain": [
              "array(['Current', 'Late (31-120 days)', 'In Grace Period', 'Fully Paid',\n",
              "       'Charged Off', 'Late (16-30 days)', nan], dtype=object)"
            ]
          },
          "metadata": {
            "tags": []
          },
          "execution_count": 22
        }
      ]
    },
    {
      "cell_type": "code",
      "metadata": {
        "id": "7-NAphaOZpnM",
        "outputId": "92cb6401-f540-4c7a-d545-32fc52398cd7",
        "colab": {
          "base_uri": "https://localhost:8080/",
          "height": 34
        }
      },
      "source": [
        "df['defaulted']= np.where(df.loan_status.isin(['Default']),1,0)\n",
        "df.defaulted.mean()"
      ],
      "execution_count": 23,
      "outputs": [
        {
          "output_type": "execute_result",
          "data": {
            "text/plain": [
              "0.0"
            ]
          },
          "metadata": {
            "tags": []
          },
          "execution_count": 23
        }
      ]
    },
    {
      "cell_type": "code",
      "metadata": {
        "id": "NjIIyTpSapgg",
        "outputId": "b7ca78c3-3f07-46c4-d64a-f0d46abd2bd3",
        "colab": {
          "base_uri": "https://localhost:8080/",
          "height": 204
        }
      },
      "source": [
        "df.head()"
      ],
      "execution_count": 24,
      "outputs": [
        {
          "output_type": "execute_result",
          "data": {
            "text/html": [
              "<div>\n",
              "<style scoped>\n",
              "    .dataframe tbody tr th:only-of-type {\n",
              "        vertical-align: middle;\n",
              "    }\n",
              "\n",
              "    .dataframe tbody tr th {\n",
              "        vertical-align: top;\n",
              "    }\n",
              "\n",
              "    .dataframe thead th {\n",
              "        text-align: right;\n",
              "    }\n",
              "</style>\n",
              "<table border=\"1\" class=\"dataframe\">\n",
              "  <thead>\n",
              "    <tr style=\"text-align: right;\">\n",
              "      <th></th>\n",
              "      <th>loan_amnt</th>\n",
              "      <th>int_rate</th>\n",
              "      <th>annual_inc</th>\n",
              "      <th>loan_status</th>\n",
              "      <th>open_acc</th>\n",
              "      <th>open_il_12m</th>\n",
              "      <th>defaulted</th>\n",
              "    </tr>\n",
              "  </thead>\n",
              "  <tbody>\n",
              "    <tr>\n",
              "      <th>39437</th>\n",
              "      <td>15000.0</td>\n",
              "      <td>13.56%</td>\n",
              "      <td>58000.0</td>\n",
              "      <td>Current</td>\n",
              "      <td>26.0</td>\n",
              "      <td>2.0</td>\n",
              "      <td>0</td>\n",
              "    </tr>\n",
              "    <tr>\n",
              "      <th>101867</th>\n",
              "      <td>20000.0</td>\n",
              "      <td>17.97%</td>\n",
              "      <td>52000.0</td>\n",
              "      <td>Current</td>\n",
              "      <td>10.0</td>\n",
              "      <td>1.0</td>\n",
              "      <td>0</td>\n",
              "    </tr>\n",
              "    <tr>\n",
              "      <th>90842</th>\n",
              "      <td>26000.0</td>\n",
              "      <td>6.67%</td>\n",
              "      <td>80000.0</td>\n",
              "      <td>Current</td>\n",
              "      <td>12.0</td>\n",
              "      <td>0.0</td>\n",
              "      <td>0</td>\n",
              "    </tr>\n",
              "    <tr>\n",
              "      <th>71803</th>\n",
              "      <td>17000.0</td>\n",
              "      <td>13.56%</td>\n",
              "      <td>50000.0</td>\n",
              "      <td>Current</td>\n",
              "      <td>11.0</td>\n",
              "      <td>0.0</td>\n",
              "      <td>0</td>\n",
              "    </tr>\n",
              "    <tr>\n",
              "      <th>18012</th>\n",
              "      <td>5500.0</td>\n",
              "      <td>6.46%</td>\n",
              "      <td>53000.0</td>\n",
              "      <td>Current</td>\n",
              "      <td>8.0</td>\n",
              "      <td>1.0</td>\n",
              "      <td>0</td>\n",
              "    </tr>\n",
              "  </tbody>\n",
              "</table>\n",
              "</div>"
            ],
            "text/plain": [
              "        loan_amnt int_rate  annual_inc  ... open_acc  open_il_12m  defaulted\n",
              "39437     15000.0   13.56%     58000.0  ...     26.0          2.0          0\n",
              "101867    20000.0   17.97%     52000.0  ...     10.0          1.0          0\n",
              "90842     26000.0    6.67%     80000.0  ...     12.0          0.0          0\n",
              "71803     17000.0   13.56%     50000.0  ...     11.0          0.0          0\n",
              "18012      5500.0    6.46%     53000.0  ...      8.0          1.0          0\n",
              "\n",
              "[5 rows x 7 columns]"
            ]
          },
          "metadata": {
            "tags": []
          },
          "execution_count": 24
        }
      ]
    },
    {
      "cell_type": "code",
      "metadata": {
        "id": "jTDRyhnrattn",
        "outputId": "2e0cde08-3c02-4a6e-d99d-0b0003221898",
        "colab": {
          "base_uri": "https://localhost:8080/",
          "height": 49
        }
      },
      "source": [
        "df[df.loan_status.isin(['Default'])].head()"
      ],
      "execution_count": 25,
      "outputs": [
        {
          "output_type": "execute_result",
          "data": {
            "text/html": [
              "<div>\n",
              "<style scoped>\n",
              "    .dataframe tbody tr th:only-of-type {\n",
              "        vertical-align: middle;\n",
              "    }\n",
              "\n",
              "    .dataframe tbody tr th {\n",
              "        vertical-align: top;\n",
              "    }\n",
              "\n",
              "    .dataframe thead th {\n",
              "        text-align: right;\n",
              "    }\n",
              "</style>\n",
              "<table border=\"1\" class=\"dataframe\">\n",
              "  <thead>\n",
              "    <tr style=\"text-align: right;\">\n",
              "      <th></th>\n",
              "      <th>loan_amnt</th>\n",
              "      <th>int_rate</th>\n",
              "      <th>annual_inc</th>\n",
              "      <th>loan_status</th>\n",
              "      <th>open_acc</th>\n",
              "      <th>open_il_12m</th>\n",
              "      <th>defaulted</th>\n",
              "    </tr>\n",
              "  </thead>\n",
              "  <tbody>\n",
              "  </tbody>\n",
              "</table>\n",
              "</div>"
            ],
            "text/plain": [
              "Empty DataFrame\n",
              "Columns: [loan_amnt, int_rate, annual_inc, loan_status, open_acc, open_il_12m, defaulted]\n",
              "Index: []"
            ]
          },
          "metadata": {
            "tags": []
          },
          "execution_count": 25
        }
      ]
    },
    {
      "cell_type": "code",
      "metadata": {
        "id": "Fh_krgVLa15B",
        "outputId": "346dac07-8a60-4851-f443-35b9a1d658c1",
        "colab": {
          "base_uri": "https://localhost:8080/",
          "height": 34
        }
      },
      "source": [
        "df.defaulted.unique()"
      ],
      "execution_count": 26,
      "outputs": [
        {
          "output_type": "execute_result",
          "data": {
            "text/plain": [
              "array([0])"
            ]
          },
          "metadata": {
            "tags": []
          },
          "execution_count": 26
        }
      ]
    },
    {
      "cell_type": "code",
      "metadata": {
        "id": "xBgN8xpxa757",
        "outputId": "63dcd764-c88d-4b2f-82d7-f9c4ce142c59",
        "colab": {
          "base_uri": "https://localhost:8080/",
          "height": 312
        }
      },
      "source": [
        "fig = df.defaulted.hist()\n",
        "fig.set_xlim(0, 2)\n",
        "fig.set_title('Defaulted accounts')\n",
        "fig.set_xlabel('Defaulted')\n",
        "fig.set_ylabel('Number of Loans')"
      ],
      "execution_count": 28,
      "outputs": [
        {
          "output_type": "execute_result",
          "data": {
            "text/plain": [
              "Text(0, 0.5, 'Number of Loans')"
            ]
          },
          "metadata": {
            "tags": []
          },
          "execution_count": 28
        },
        {
          "output_type": "display_data",
          "data": {
            "image/png": "[encoded data removed]",
            "text/plain": [
              "<Figure size 432x288 with 1 Axes>"
            ]
          },
          "metadata": {
            "tags": [],
            "needs_background": "light"
          }
        }
      ]
    },
    {
      "cell_type": "code",
      "metadata": {
        "id": "3AF2JQzCbi8w"
      },
      "source": [
        ""
      ],
      "execution_count": null,
      "outputs": []
    },
    {
      "cell_type": "code",
      "metadata": {
        "id": "nQvvyxl5bhxC"
      },
      "source": [
        ""
      ],
      "execution_count": null,
      "outputs": []
    },
    {
      "cell_type": "code",
      "metadata": {
        "id": "3pQo6FD-PGJJ"
      },
      "source": [
        ""
      ],
      "execution_count": null,
      "outputs": []
    }
  ]
}