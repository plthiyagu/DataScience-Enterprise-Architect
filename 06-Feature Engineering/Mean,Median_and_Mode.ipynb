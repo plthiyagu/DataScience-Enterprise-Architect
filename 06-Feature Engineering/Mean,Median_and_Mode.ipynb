{
  "nbformat": 4,
  "nbformat_minor": 0,
  "metadata": {
    "colab": {
      "name": "Mean,Median and Mode.ipynb",
      "provenance": [],
      "collapsed_sections": [],
      "authorship_tag": "ABX9TyOTGYIXThoWlmO+WVw94I/3",
      "include_colab_link": true
    },
    "kernelspec": {
      "name": "python3",
      "display_name": "Python 3"
    }
  },
  "cells": [
    {
      "cell_type": "markdown",
      "metadata": {
        "id": "view-in-github",
        "colab_type": "text"
      },
      "source": [
        "<a href=\"https://colab.research.google.com/github/plthiyagu/Personnel/blob/master/Mean%2CMedian_and_Mode.ipynb\" target=\"_parent\"><img src=\"https://colab.research.google.com/assets/colab-badge.svg\" alt=\"Open In Colab\"/></a>"
      ]
    },
    {
      "cell_type": "code",
      "metadata": {
        "id": "y2heGOHM6Jxm"
      },
      "source": [
        "import statistics\n",
        "from fractions import Fraction as fr"
      ],
      "execution_count": 9,
      "outputs": []
    },
    {
      "cell_type": "code",
      "metadata": {
        "id": "oUjeiktJ6L_l"
      },
      "source": [
        "data1 = [1, 3, 4, 5, 7, 9, 2] \n",
        "x= statistics.mean(data1)"
      ],
      "execution_count": 2,
      "outputs": []
    },
    {
      "cell_type": "code",
      "metadata": {
        "id": "cfDEOmnO6UF4",
        "outputId": "c0d6a388-cf8a-4c38-dc8f-4a47f3fbca12",
        "colab": {
          "base_uri": "https://localhost:8080/",
          "height": 34
        }
      },
      "source": [
        "x"
      ],
      "execution_count": 3,
      "outputs": [
        {
          "output_type": "execute_result",
          "data": {
            "text/plain": [
              "4.428571428571429"
            ]
          },
          "metadata": {
            "tags": []
          },
          "execution_count": 3
        }
      ]
    },
    {
      "cell_type": "code",
      "metadata": {
        "id": "mYS54IrM6U1W"
      },
      "source": [
        "data1 = [8,7,9,6,5,4,2] #odd\n",
        "data2 = [1,3,5,5,5,7,8,9,10,10] #even\n",
        "\n",
        "x= statistics.median(data1)\n",
        "y= statistics.median(data2)"
      ],
      "execution_count": 4,
      "outputs": []
    },
    {
      "cell_type": "code",
      "metadata": {
        "id": "aLLvfN9J6p_a",
        "outputId": "61ee32ce-a19a-4ee7-a35d-2fa277ac3e0d",
        "colab": {
          "base_uri": "https://localhost:8080/",
          "height": 34
        }
      },
      "source": [
        "x,y"
      ],
      "execution_count": 5,
      "outputs": [
        {
          "output_type": "execute_result",
          "data": {
            "text/plain": [
              "(6, 6.0)"
            ]
          },
          "metadata": {
            "tags": []
          },
          "execution_count": 5
        }
      ]
    },
    {
      "cell_type": "code",
      "metadata": {
        "id": "6uAbz42Y6rF3"
      },
      "source": [
        "data1 = (2, 3, 4, 5, 7, 9, 11) \n",
        "data2 = (2.4, 5.1, 6.7, 8.9) \n",
        "data3 = (fr(1, 2), fr(44, 12), fr(10, 3), fr(2, 3)) \n",
        "data4 = (-5, -1, -12, -19, -3) \n",
        "data5 = (-1, -2, -3, -4, 4, 3, 2, 1) \n"
      ],
      "execution_count": 7,
      "outputs": []
    },
    {
      "cell_type": "code",
      "metadata": {
        "id": "k9TGOFLA7FNu",
        "outputId": "90ae4e52-bb13-450e-e9a5-5d7ac6acfa9f",
        "colab": {
          "base_uri": "https://localhost:8080/",
          "height": 102
        }
      },
      "source": [
        "print(\"Median of data-set 1 is % s\" % (statistics.median(data1))) \n",
        "print(\"Median of data-set 2 is % s\" % (statistics.median(data2))) \n",
        "print(\"Median of data-set 3 is % s\" % (statistics.median(data3))) \n",
        "print(\"Median of data-set 4 is % s\" % (statistics.median(data4))) \n",
        "print(\"Median of data-set 5 is % s\" % (statistics.median(data5))) \n"
      ],
      "execution_count": 11,
      "outputs": [
        {
          "output_type": "stream",
          "text": [
            "Median of data-set 1 is 5\n",
            "Median of data-set 2 is 5.9\n",
            "Median of data-set 3 is 2\n",
            "Median of data-set 4 is -5\n",
            "Median of data-set 5 is 0.0\n"
          ],
          "name": "stdout"
        }
      ]
    },
    {
      "cell_type": "code",
      "metadata": {
        "id": "b1H3bgAr7QAp",
        "outputId": "bc732cf5-f122-44cc-a349-9075eb40926d",
        "colab": {
          "base_uri": "https://localhost:8080/",
          "height": 34
        }
      },
      "source": [
        "set1 =[1, 2, 3, 3, 4, 4, 4, 5, 5, 6]\n",
        "print(\"Mode of given data set is % s\" % (statistics.mode(set1)))"
      ],
      "execution_count": 12,
      "outputs": [
        {
          "output_type": "stream",
          "text": [
            "Mode of given data set is 4\n"
          ],
          "name": "stdout"
        }
      ]
    },
    {
      "cell_type": "code",
      "metadata": {
        "id": "xUi4ZRRh7ruR",
        "outputId": "9a6f41da-d48a-487f-f2a2-4f2e01d39f5a",
        "colab": {
          "base_uri": "https://localhost:8080/",
          "height": 34
        }
      },
      "source": [
        "n_num = [1, 2, 3, 4, 5]\n",
        "n = len(n_num)\n",
        "sum = sum(n_num)\n",
        "mean = sum / n\n",
        "print(\"Mean / Average is: \" + str(mean))"
      ],
      "execution_count": 13,
      "outputs": [
        {
          "output_type": "stream",
          "text": [
            "Mean / Average is: 3.0\n"
          ],
          "name": "stdout"
        }
      ]
    },
    {
      "cell_type": "code",
      "metadata": {
        "id": "sGK9YoZh75j-",
        "outputId": "9451969a-eb69-4656-e148-06c6cd5097e6",
        "colab": {
          "base_uri": "https://localhost:8080/",
          "height": 34
        }
      },
      "source": [
        "n_num = [1, 2, 3, 4, 5]\n",
        "n = len(n_num)\n",
        "n_num.sort()\n",
        "if n % 2 == 0:\n",
        "  medan1 = n_num[n//2]\n",
        "  median2 = n_num[n//2 - 1]\n",
        "  median = (median1 + median2)/2\n",
        "else:\n",
        "  median = n_num[n//2]\n",
        "\n",
        "print(\"Median is: \" + str(median))"
      ],
      "execution_count": 14,
      "outputs": [
        {
          "output_type": "stream",
          "text": [
            "Median is: 3\n"
          ],
          "name": "stdout"
        }
      ]
    },
    {
      "cell_type": "code",
      "metadata": {
        "id": "5dHQPS7r8ZiV",
        "outputId": "db9b8667-2ee1-4ab7-f846-28f9406822d8",
        "colab": {
          "base_uri": "https://localhost:8080/",
          "height": 51
        }
      },
      "source": [
        "from collections import Counter\n",
        "n_num = [1, 2, 3, 4, 5, 5]\n",
        "\n",
        "n = len(n_num)\n",
        "data = Counter(n_num)\n",
        "get_mode = dict(data)\n",
        "mode = [k for k, v in get_mode.items() if v == max(list(data.values()))]\n",
        "if len(mode) == n:\n",
        "  get_mode = \"No mode found\"\n",
        "else:\n",
        "  get_mode = \"Mode is: \" + ', '.join(map(str, mode))\n",
        "\n",
        "print(get_mode)"
      ],
      "execution_count": 16,
      "outputs": [
        {
          "output_type": "stream",
          "text": [
            "Counter({5: 2, 1: 1, 2: 1, 3: 1, 4: 1})\n",
            "Mode is: 5\n"
          ],
          "name": "stdout"
        }
      ]
    },
    {
      "cell_type": "code",
      "metadata": {
        "id": "ldTZqN5182tl"
      },
      "source": [
        ""
      ],
      "execution_count": null,
      "outputs": []
    },
    {
      "cell_type": "code",
      "metadata": {
        "id": "4qzhvLMB8zUW"
      },
      "source": [
        ""
      ],
      "execution_count": null,
      "outputs": []
    }
  ]
}