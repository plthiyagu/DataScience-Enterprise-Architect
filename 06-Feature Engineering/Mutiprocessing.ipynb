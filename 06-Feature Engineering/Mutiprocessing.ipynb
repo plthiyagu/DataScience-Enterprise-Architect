{
  "nbformat": 4,
  "nbformat_minor": 0,
  "metadata": {
    "colab": {
      "name": "Mutiprocessing.ipynb",
      "provenance": [],
      "authorship_tag": "ABX9TyNSdge0A54Y1AHILNtIpQiF",
      "include_colab_link": true
    },
    "kernelspec": {
      "name": "python3",
      "display_name": "Python 3"
    },
    "language_info": {
      "name": "python"
    },
    "accelerator": "GPU"
  },
  "cells": [
    {
      "cell_type": "markdown",
      "metadata": {
        "id": "view-in-github",
        "colab_type": "text"
      },
      "source": [
        "<a href=\"https://colab.research.google.com/github/plthiyagu/AI-Engineering/blob/master/06-Data%20Preprocessing%20and%20Feature%20Engineering/Mutiprocessing.ipynb\" target=\"_parent\"><img src=\"https://colab.research.google.com/assets/colab-badge.svg\" alt=\"Open In Colab\"/></a>"
      ]
    },
    {
      "cell_type": "markdown",
      "source": [
        "https://mlwhiz.com/blog/2021/07/24/parallel-processing/"
      ],
      "metadata": {
        "id": "PgIUqPM1Aqnn"
      }
    },
    {
      "cell_type": "code",
      "source": [
        "from multiprocessing import Pool\n",
        "import time\n",
        "import plotly.express as px\n",
        "import plotly\n",
        "import pandas as pd\n",
        "\n",
        "def f(x):\n",
        "    return x**2\n",
        "\n",
        "def runner(list_length):\n",
        "    print(f\"Size of List:{list_length}\")\n",
        "    t0 = time.time()\n",
        "    result1 = [f(x) for x in list(range(list_length))]\n",
        "    t1 = time.time()\n",
        "    print(f\"Without multiprocessing we ran the function in {t1 - t0:0.4f} seconds\")\n",
        "    time_without_multiprocessing = t1-t0\n",
        "    t0 = time.time()\n",
        "    pool = Pool(8)\n",
        "    result2 = pool.map(f,list(range(list_length)))\n",
        "    pool.close()\n",
        "    t1 = time.time()\n",
        "    print(f\"With multiprocessing we ran the function in {t1 - t0:0.4f} seconds\")\n",
        "    time_with_multiprocessing = t1-t0\n",
        "    return time_without_multiprocessing, time_with_multiprocessing\n",
        "\n",
        "if __name__ ==  '__main__':\n",
        "    times_taken = []\n",
        "    for i in range(1,9):\n",
        "        list_length = 10**i\n",
        "        time_without_multiprocessing, time_with_multiprocessing = runner(list_length)\n",
        "        times_taken.append([list_length, 'No Mutiproc', time_without_multiprocessing])\n",
        "        times_taken.append([list_length, 'Multiproc', time_with_multiprocessing])\n",
        "\n",
        "    timedf = pd.DataFrame(times_taken,columns = ['list_length', 'type','time_taken'])\n",
        "    fig =  px.line(timedf,x = 'list_length',y='time_taken',color='type',log_x=True)\n",
        "    plotly.offline.plot(fig, filename='comparison_bw_multiproc.html')"
      ],
      "metadata": {
        "id": "XaGINCbO8lRY",
        "colab": {
          "base_uri": "https://localhost:8080/"
        },
        "outputId": "4880cf4a-2a62-49cc-b9c0-811c1faf4bd1"
      },
      "execution_count": null,
      "outputs": [
        {
          "output_type": "stream",
          "name": "stdout",
          "text": [
            "Size of List:10\n",
            "Without multiprocessing we ran the function in 0.0000 seconds\n",
            "With multiprocessing we ran the function in 0.0811 seconds\n",
            "Size of List:100\n",
            "Without multiprocessing we ran the function in 0.0001 seconds\n",
            "With multiprocessing we ran the function in 0.0771 seconds\n",
            "Size of List:1000\n",
            "Without multiprocessing we ran the function in 0.0008 seconds\n",
            "With multiprocessing we ran the function in 0.1182 seconds\n",
            "Size of List:10000\n",
            "Without multiprocessing we ran the function in 0.0050 seconds\n",
            "With multiprocessing we ran the function in 0.0929 seconds\n",
            "Size of List:100000\n",
            "Without multiprocessing we ran the function in 0.0413 seconds\n",
            "With multiprocessing we ran the function in 0.1508 seconds\n",
            "Size of List:1000000\n",
            "Without multiprocessing we ran the function in 0.4327 seconds\n",
            "With multiprocessing we ran the function in 0.7271 seconds\n",
            "Size of List:10000000\n",
            "Without multiprocessing we ran the function in 5.3212 seconds\n",
            "With multiprocessing we ran the function in 5.7897 seconds\n",
            "Size of List:100000000\n",
            "Without multiprocessing we ran the function in 41.0642 seconds\n"
          ]
        }
      ]
    },
    {
      "cell_type": "code",
      "source": [
        "from multiprocessing import Pool\n",
        "import time\n",
        "import plotly.express as px\n",
        "import plotly\n",
        "import pandas as pd\n",
        "\n",
        "def f(x):\n",
        "    time.sleep(2)\n",
        "    return x**2\n",
        "\n",
        "\n",
        "def runner(list_length):\n",
        "    print(f\"Size of List:{list_length}\")\n",
        "    t0 = time.time()\n",
        "    result1 = [f(x) for x in list(range(list_length))]\n",
        "    t1 = time.time()\n",
        "    print(f\"Without multiprocessing we ran the function in {t1 - t0:0.4f} seconds\")\n",
        "    time_without_multiprocessing = t1-t0\n",
        "    t0 = time.time()\n",
        "    pool = Pool(8)\n",
        "    result2 = pool.map(f,list(range(list_length)))\n",
        "    pool.close()\n",
        "    t1 = time.time()\n",
        "    print(f\"With multiprocessing we ran the function in {t1 - t0:0.4f} seconds\")\n",
        "    time_with_multiprocessing = t1-t0\n",
        "    return time_without_multiprocessing, time_with_multiprocessing\n",
        "\n",
        "if __name__ ==  '__main__':\n",
        "    times_taken = []\n",
        "    for i in range(1,10):\n",
        "        list_length = i\n",
        "        time_without_multiprocessing, time_with_multiprocessing = runner(list_length)\n",
        "        times_taken.append([list_length, 'No Mutiproc', time_without_multiprocessing])\n",
        "        times_taken.append([list_length, 'Multiproc', time_with_multiprocessing])\n",
        "\n",
        "    timedf = pd.DataFrame(times_taken,columns = ['list_length', 'type','time_taken'])\n",
        "    fig =  px.line(timedf,x = 'list_length',y='time_taken',color='type')\n",
        "    plotly.offline.plot(fig, filename='comparison_bw_multiproc.html')"
      ],
      "metadata": {
        "id": "Sx99JfjZ_6aG"
      },
      "execution_count": null,
      "outputs": []
    },
    {
      "cell_type": "code",
      "source": [
        "import random\n",
        "def model_runner(n_estimators, max_depth):\n",
        "    # Some code that runs and fits our model here using the   \n",
        "    # hyperparams in the argument.\n",
        "    # Proxy for this code with sleep.\n",
        "    time.sleep(random.choice([1,2,3])\n",
        "    # Return some model evaluation score\n",
        "    return  random.choice([1,2,3])"
      ],
      "metadata": {
        "colab": {
          "base_uri": "https://localhost:8080/",
          "height": 130
        },
        "id": "ZqZDzyWMAOZo",
        "outputId": "240657cc-0fd3-465f-a9db-284cf580d8d3"
      },
      "execution_count": 2,
      "outputs": [
        {
          "output_type": "error",
          "ename": "SyntaxError",
          "evalue": "ignored",
          "traceback": [
            "\u001b[0;36m  File \u001b[0;32m\"<ipython-input-2-af3d3491620f>\"\u001b[0;36m, line \u001b[0;32m8\u001b[0m\n\u001b[0;31m    return random.choice([1,2,3])\u001b[0m\n\u001b[0m         ^\u001b[0m\n\u001b[0;31mSyntaxError\u001b[0m\u001b[0;31m:\u001b[0m invalid syntax\n"
          ]
        }
      ]
    },
    {
      "cell_type": "code",
      "source": [
        "def multi_run_wrapper(args):\n",
        "   return model_runner(*args)\n",
        "\n",
        "pool = Pool(4)\n",
        "hyperparams = [[100,4],[150,5],[200,6],[300,4]]\n",
        "\n",
        "results = pool.map(multi_run_wrapper,hyperparams)\n",
        "pool.close()"
      ],
      "metadata": {
        "colab": {
          "base_uri": "https://localhost:8080/",
          "height": 235
        },
        "id": "hbuOnvZWASZR",
        "outputId": "969482ab-1d64-481d-d7ce-9486612d2ada"
      },
      "execution_count": 3,
      "outputs": [
        {
          "output_type": "error",
          "ename": "NameError",
          "evalue": "ignored",
          "traceback": [
            "\u001b[0;31m---------------------------------------------------------------------------\u001b[0m",
            "\u001b[0;31mNameError\u001b[0m                                 Traceback (most recent call last)",
            "\u001b[0;32m<ipython-input-3-91654953c36e>\u001b[0m in \u001b[0;36m<module>\u001b[0;34m()\u001b[0m\n\u001b[1;32m      2\u001b[0m    \u001b[0;32mreturn\u001b[0m \u001b[0mmodel_runner\u001b[0m\u001b[0;34m(\u001b[0m\u001b[0;34m*\u001b[0m\u001b[0margs\u001b[0m\u001b[0;34m)\u001b[0m\u001b[0;34m\u001b[0m\u001b[0;34m\u001b[0m\u001b[0m\n\u001b[1;32m      3\u001b[0m \u001b[0;34m\u001b[0m\u001b[0m\n\u001b[0;32m----> 4\u001b[0;31m \u001b[0mpool\u001b[0m \u001b[0;34m=\u001b[0m \u001b[0mPool\u001b[0m\u001b[0;34m(\u001b[0m\u001b[0;36m4\u001b[0m\u001b[0;34m)\u001b[0m\u001b[0;34m\u001b[0m\u001b[0;34m\u001b[0m\u001b[0m\n\u001b[0m\u001b[1;32m      5\u001b[0m \u001b[0mhyperparams\u001b[0m \u001b[0;34m=\u001b[0m \u001b[0;34m[\u001b[0m\u001b[0;34m[\u001b[0m\u001b[0;36m100\u001b[0m\u001b[0;34m,\u001b[0m\u001b[0;36m4\u001b[0m\u001b[0;34m]\u001b[0m\u001b[0;34m,\u001b[0m\u001b[0;34m[\u001b[0m\u001b[0;36m150\u001b[0m\u001b[0;34m,\u001b[0m\u001b[0;36m5\u001b[0m\u001b[0;34m]\u001b[0m\u001b[0;34m,\u001b[0m\u001b[0;34m[\u001b[0m\u001b[0;36m200\u001b[0m\u001b[0;34m,\u001b[0m\u001b[0;36m6\u001b[0m\u001b[0;34m]\u001b[0m\u001b[0;34m,\u001b[0m\u001b[0;34m[\u001b[0m\u001b[0;36m300\u001b[0m\u001b[0;34m,\u001b[0m\u001b[0;36m4\u001b[0m\u001b[0;34m]\u001b[0m\u001b[0;34m]\u001b[0m\u001b[0;34m\u001b[0m\u001b[0;34m\u001b[0m\u001b[0m\n\u001b[1;32m      6\u001b[0m \u001b[0;34m\u001b[0m\u001b[0m\n",
            "\u001b[0;31mNameError\u001b[0m: name 'Pool' is not defined"
          ]
        }
      ]
    },
    {
      "cell_type": "code",
      "source": [
        "pool = Pool(4)\n",
        "hyperparams = [[100,4],[150,5],[200,6],[300,4]]\n",
        "\n",
        "results = pool.starmap(model_runner,hyperparams)\n",
        "pool.close()"
      ],
      "metadata": {
        "id": "x3R-4CEWAf2_"
      },
      "execution_count": null,
      "outputs": []
    },
    {
      "cell_type": "code",
      "source": [
        ""
      ],
      "metadata": {
        "id": "JTNVGB0mAgrT"
      },
      "execution_count": null,
      "outputs": []
    }
  ]
}