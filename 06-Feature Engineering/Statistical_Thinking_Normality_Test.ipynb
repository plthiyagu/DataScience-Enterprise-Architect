{
  "nbformat": 4,
  "nbformat_minor": 0,
  "metadata": {
    "colab": {
      "name": "Statistical Thinking Normality Test.ipynb",
      "provenance": [],
      "collapsed_sections": [],
      "authorship_tag": "ABX9TyOpCpgUjSIEBc7BHP6WXJ9q",
      "include_colab_link": true
    },
    "kernelspec": {
      "name": "python3",
      "display_name": "Python 3"
    }
  },
  "cells": [
    {
      "cell_type": "markdown",
      "metadata": {
        "id": "view-in-github",
        "colab_type": "text"
      },
      "source": [
        "<a href=\"https://colab.research.google.com/github/plthiyagu/AI-Engineering/blob/master/11-Data%20Preprocessing/Statistical_Thinking_Normality_Test.ipynb\" target=\"_parent\"><img src=\"https://colab.research.google.com/assets/colab-badge.svg\" alt=\"Open In Colab\"/></a>"
      ]
    },
    {
      "cell_type": "code",
      "metadata": {
        "id": "MmC05QitJUkl"
      },
      "source": [
        "import warnings\r\n",
        "warnings.simplefilter(action='ignore',category=FutureWarning)\r\n",
        "\r\n",
        "import pandas as pd\r\n",
        "import numpy as np\r\n",
        "import matplotlib.pyplot as plt\r\n",
        "import seaborn as sns\r\n",
        "\r\n",
        "from scipy import stats\r\n",
        "import statsmodels.api as sm\r\n",
        "%matplotlib inline"
      ],
      "execution_count": 14,
      "outputs": []
    },
    {
      "cell_type": "code",
      "metadata": {
        "id": "MmGacnGHJWJf"
      },
      "source": [
        "marketing_df=pd.read_csv(\"https://raw.githubusercontent.com/plthiyagu/Personnel/master/Dataset/marketing_cva_f.csv\")"
      ],
      "execution_count": 6,
      "outputs": []
    },
    {
      "cell_type": "code",
      "metadata": {
        "id": "fhDmw8VkJrtN",
        "colab": {
          "base_uri": "https://localhost:8080/",
          "height": 224
        },
        "outputId": "a92ae1b3-ca5a-4d8b-d2ae-4aa42f5c0ea1"
      },
      "source": [
        "marketing_df.head()"
      ],
      "execution_count": 7,
      "outputs": [
        {
          "output_type": "execute_result",
          "data": {
            "text/html": [
              "<div>\n",
              "<style scoped>\n",
              "    .dataframe tbody tr th:only-of-type {\n",
              "        vertical-align: middle;\n",
              "    }\n",
              "\n",
              "    .dataframe tbody tr th {\n",
              "        vertical-align: top;\n",
              "    }\n",
              "\n",
              "    .dataframe thead th {\n",
              "        text-align: right;\n",
              "    }\n",
              "</style>\n",
              "<table border=\"1\" class=\"dataframe\">\n",
              "  <thead>\n",
              "    <tr style=\"text-align: right;\">\n",
              "      <th></th>\n",
              "      <th>Customer</th>\n",
              "      <th>State</th>\n",
              "      <th>CLV</th>\n",
              "      <th>Coverage</th>\n",
              "      <th>Income</th>\n",
              "      <th>loc_type</th>\n",
              "      <th>monthly_premium</th>\n",
              "      <th>months_last_claim</th>\n",
              "      <th>Months_Since_Policy_Inception</th>\n",
              "      <th>Total_Claim_Amount</th>\n",
              "      <th>Vehicle_Class</th>\n",
              "      <th>avg_vehicle_age</th>\n",
              "    </tr>\n",
              "  </thead>\n",
              "  <tbody>\n",
              "    <tr>\n",
              "      <th>0</th>\n",
              "      <td>BU79786</td>\n",
              "      <td>Washington</td>\n",
              "      <td>2763.519279</td>\n",
              "      <td>Basic</td>\n",
              "      <td>56274</td>\n",
              "      <td>Suburban</td>\n",
              "      <td>69</td>\n",
              "      <td>32</td>\n",
              "      <td>5</td>\n",
              "      <td>384.811147</td>\n",
              "      <td>Two-Door Car</td>\n",
              "      <td>40.696695</td>\n",
              "    </tr>\n",
              "    <tr>\n",
              "      <th>1</th>\n",
              "      <td>AI49188</td>\n",
              "      <td>Nevada</td>\n",
              "      <td>12887.431650</td>\n",
              "      <td>Premium</td>\n",
              "      <td>48767</td>\n",
              "      <td>Suburban</td>\n",
              "      <td>108</td>\n",
              "      <td>18</td>\n",
              "      <td>38</td>\n",
              "      <td>566.472247</td>\n",
              "      <td>Two-Door Car</td>\n",
              "      <td>48.755298</td>\n",
              "    </tr>\n",
              "    <tr>\n",
              "      <th>2</th>\n",
              "      <td>HB64268</td>\n",
              "      <td>Washington</td>\n",
              "      <td>2813.692575</td>\n",
              "      <td>Basic</td>\n",
              "      <td>43836</td>\n",
              "      <td>Rural</td>\n",
              "      <td>73</td>\n",
              "      <td>12</td>\n",
              "      <td>44</td>\n",
              "      <td>138.130879</td>\n",
              "      <td>Four-Door Car</td>\n",
              "      <td>70.394474</td>\n",
              "    </tr>\n",
              "    <tr>\n",
              "      <th>3</th>\n",
              "      <td>OC83172</td>\n",
              "      <td>Oregon</td>\n",
              "      <td>8256.297800</td>\n",
              "      <td>Basic</td>\n",
              "      <td>62902</td>\n",
              "      <td>Rural</td>\n",
              "      <td>69</td>\n",
              "      <td>14</td>\n",
              "      <td>94</td>\n",
              "      <td>159.383042</td>\n",
              "      <td>Two-Door Car</td>\n",
              "      <td>53.460212</td>\n",
              "    </tr>\n",
              "    <tr>\n",
              "      <th>4</th>\n",
              "      <td>XZ87318</td>\n",
              "      <td>Oregon</td>\n",
              "      <td>5380.898636</td>\n",
              "      <td>Basic</td>\n",
              "      <td>55350</td>\n",
              "      <td>Suburban</td>\n",
              "      <td>67</td>\n",
              "      <td>0</td>\n",
              "      <td>13</td>\n",
              "      <td>321.600000</td>\n",
              "      <td>Four-Door Car</td>\n",
              "      <td>32.811507</td>\n",
              "    </tr>\n",
              "  </tbody>\n",
              "</table>\n",
              "</div>"
            ],
            "text/plain": [
              "  Customer       State  ...  Vehicle_Class avg_vehicle_age\n",
              "0  BU79786  Washington  ...   Two-Door Car       40.696695\n",
              "1  AI49188      Nevada  ...   Two-Door Car       48.755298\n",
              "2  HB64268  Washington  ...  Four-Door Car       70.394474\n",
              "3  OC83172      Oregon  ...   Two-Door Car       53.460212\n",
              "4  XZ87318      Oregon  ...  Four-Door Car       32.811507\n",
              "\n",
              "[5 rows x 12 columns]"
            ]
          },
          "metadata": {
            "tags": []
          },
          "execution_count": 7
        }
      ]
    },
    {
      "cell_type": "code",
      "metadata": {
        "colab": {
          "base_uri": "https://localhost:8080/",
          "height": 224
        },
        "id": "X2FCjPoJj7NO",
        "outputId": "b698b16b-d508-4c48-c7e0-1a756ebcfe7c"
      },
      "source": [
        "marketing_df.tail()"
      ],
      "execution_count": 8,
      "outputs": [
        {
          "output_type": "execute_result",
          "data": {
            "text/html": [
              "<div>\n",
              "<style scoped>\n",
              "    .dataframe tbody tr th:only-of-type {\n",
              "        vertical-align: middle;\n",
              "    }\n",
              "\n",
              "    .dataframe tbody tr th {\n",
              "        vertical-align: top;\n",
              "    }\n",
              "\n",
              "    .dataframe thead th {\n",
              "        text-align: right;\n",
              "    }\n",
              "</style>\n",
              "<table border=\"1\" class=\"dataframe\">\n",
              "  <thead>\n",
              "    <tr style=\"text-align: right;\">\n",
              "      <th></th>\n",
              "      <th>Customer</th>\n",
              "      <th>State</th>\n",
              "      <th>CLV</th>\n",
              "      <th>Coverage</th>\n",
              "      <th>Income</th>\n",
              "      <th>loc_type</th>\n",
              "      <th>monthly_premium</th>\n",
              "      <th>months_last_claim</th>\n",
              "      <th>Months_Since_Policy_Inception</th>\n",
              "      <th>Total_Claim_Amount</th>\n",
              "      <th>Vehicle_Class</th>\n",
              "      <th>avg_vehicle_age</th>\n",
              "    </tr>\n",
              "  </thead>\n",
              "  <tbody>\n",
              "    <tr>\n",
              "      <th>6812</th>\n",
              "      <td>TF56202</td>\n",
              "      <td>California</td>\n",
              "      <td>5032.165498</td>\n",
              "      <td>Basic</td>\n",
              "      <td>66367</td>\n",
              "      <td>Suburban</td>\n",
              "      <td>64</td>\n",
              "      <td>6</td>\n",
              "      <td>48</td>\n",
              "      <td>307.200000</td>\n",
              "      <td>Two-Door Car</td>\n",
              "      <td>37.492591</td>\n",
              "    </tr>\n",
              "    <tr>\n",
              "      <th>6813</th>\n",
              "      <td>YM19146</td>\n",
              "      <td>California</td>\n",
              "      <td>4100.398533</td>\n",
              "      <td>Premium</td>\n",
              "      <td>47761</td>\n",
              "      <td>Suburban</td>\n",
              "      <td>104</td>\n",
              "      <td>16</td>\n",
              "      <td>58</td>\n",
              "      <td>541.282007</td>\n",
              "      <td>Four-Door Car</td>\n",
              "      <td>48.946675</td>\n",
              "    </tr>\n",
              "    <tr>\n",
              "      <th>6814</th>\n",
              "      <td>LA72316</td>\n",
              "      <td>California</td>\n",
              "      <td>23405.987980</td>\n",
              "      <td>Basic</td>\n",
              "      <td>71941</td>\n",
              "      <td>Urban</td>\n",
              "      <td>73</td>\n",
              "      <td>18</td>\n",
              "      <td>89</td>\n",
              "      <td>198.234764</td>\n",
              "      <td>Four-Door Car</td>\n",
              "      <td>65.310053</td>\n",
              "    </tr>\n",
              "    <tr>\n",
              "      <th>6815</th>\n",
              "      <td>PK87824</td>\n",
              "      <td>California</td>\n",
              "      <td>3096.511217</td>\n",
              "      <td>Extended</td>\n",
              "      <td>21604</td>\n",
              "      <td>Suburban</td>\n",
              "      <td>79</td>\n",
              "      <td>14</td>\n",
              "      <td>28</td>\n",
              "      <td>379.200000</td>\n",
              "      <td>Four-Door Car</td>\n",
              "      <td>48.002914</td>\n",
              "    </tr>\n",
              "    <tr>\n",
              "      <th>6816</th>\n",
              "      <td>UP19263</td>\n",
              "      <td>California</td>\n",
              "      <td>7524.442436</td>\n",
              "      <td>Extended</td>\n",
              "      <td>21941</td>\n",
              "      <td>Suburban</td>\n",
              "      <td>96</td>\n",
              "      <td>34</td>\n",
              "      <td>3</td>\n",
              "      <td>691.200000</td>\n",
              "      <td>Four-Door Car</td>\n",
              "      <td>45.151858</td>\n",
              "    </tr>\n",
              "  </tbody>\n",
              "</table>\n",
              "</div>"
            ],
            "text/plain": [
              "     Customer       State  ...  Vehicle_Class avg_vehicle_age\n",
              "6812  TF56202  California  ...   Two-Door Car       37.492591\n",
              "6813  YM19146  California  ...  Four-Door Car       48.946675\n",
              "6814  LA72316  California  ...  Four-Door Car       65.310053\n",
              "6815  PK87824  California  ...  Four-Door Car       48.002914\n",
              "6816  UP19263  California  ...  Four-Door Car       45.151858\n",
              "\n",
              "[5 rows x 12 columns]"
            ]
          },
          "metadata": {
            "tags": []
          },
          "execution_count": 8
        }
      ]
    },
    {
      "cell_type": "code",
      "metadata": {
        "id": "gYKnIWFyJyCg",
        "colab": {
          "base_uri": "https://localhost:8080/"
        },
        "outputId": "735324ae-e821-4270-b2bf-119496b07978"
      },
      "source": [
        "marketing_df.info()"
      ],
      "execution_count": 9,
      "outputs": [
        {
          "output_type": "stream",
          "text": [
            "<class 'pandas.core.frame.DataFrame'>\n",
            "RangeIndex: 6817 entries, 0 to 6816\n",
            "Data columns (total 12 columns):\n",
            " #   Column                         Non-Null Count  Dtype  \n",
            "---  ------                         --------------  -----  \n",
            " 0   Customer                       6817 non-null   object \n",
            " 1   State                          6817 non-null   object \n",
            " 2   CLV                            6817 non-null   float64\n",
            " 3   Coverage                       6817 non-null   object \n",
            " 4   Income                         6817 non-null   int64  \n",
            " 5   loc_type                       6817 non-null   object \n",
            " 6   monthly_premium                6817 non-null   int64  \n",
            " 7   months_last_claim              6817 non-null   int64  \n",
            " 8   Months_Since_Policy_Inception  6817 non-null   int64  \n",
            " 9   Total_Claim_Amount             6817 non-null   float64\n",
            " 10  Vehicle_Class                  6817 non-null   object \n",
            " 11  avg_vehicle_age                6817 non-null   float64\n",
            "dtypes: float64(3), int64(4), object(5)\n",
            "memory usage: 639.2+ KB\n"
          ],
          "name": "stdout"
        }
      ]
    },
    {
      "cell_type": "code",
      "metadata": {
        "colab": {
          "base_uri": "https://localhost:8080/"
        },
        "id": "7xmb4jD3kGB-",
        "outputId": "e3122002-1c72-46c1-d0a8-88f6857b077b"
      },
      "source": [
        "print(\"Rows                   :\", marketing_df.shape[0])\r\n",
        "print(\"Columns                :\", marketing_df.shape[1])\r\n",
        "print(\"\\nFeatures             :\" ,marketing_df.columns.tolist())\r\n",
        "print(\"\\nMissing Values       :\",marketing_df.isnull().any())"
      ],
      "execution_count": 10,
      "outputs": [
        {
          "output_type": "stream",
          "text": [
            "Rows                   : 6817\n",
            "Columns                : 12\n",
            "\n",
            "Features             : ['Customer', 'State', 'CLV', 'Coverage', 'Income', 'loc_type', 'monthly_premium', 'months_last_claim', 'Months_Since_Policy_Inception', 'Total_Claim_Amount', 'Vehicle_Class', 'avg_vehicle_age']\n",
            "\n",
            "Missing Values       : Customer                         False\n",
            "State                            False\n",
            "CLV                              False\n",
            "Coverage                         False\n",
            "Income                           False\n",
            "loc_type                         False\n",
            "monthly_premium                  False\n",
            "months_last_claim                False\n",
            "Months_Since_Policy_Inception    False\n",
            "Total_Claim_Amount               False\n",
            "Vehicle_Class                    False\n",
            "avg_vehicle_age                  False\n",
            "dtype: bool\n"
          ],
          "name": "stdout"
        }
      ]
    },
    {
      "cell_type": "code",
      "metadata": {
        "colab": {
          "base_uri": "https://localhost:8080/",
          "height": 297
        },
        "id": "6_ww9djnlR7i",
        "outputId": "c96de361-10c3-4847-9034-cef079a879bc"
      },
      "source": [
        "marketing_df.describe()"
      ],
      "execution_count": 11,
      "outputs": [
        {
          "output_type": "execute_result",
          "data": {
            "text/html": [
              "<div>\n",
              "<style scoped>\n",
              "    .dataframe tbody tr th:only-of-type {\n",
              "        vertical-align: middle;\n",
              "    }\n",
              "\n",
              "    .dataframe tbody tr th {\n",
              "        vertical-align: top;\n",
              "    }\n",
              "\n",
              "    .dataframe thead th {\n",
              "        text-align: right;\n",
              "    }\n",
              "</style>\n",
              "<table border=\"1\" class=\"dataframe\">\n",
              "  <thead>\n",
              "    <tr style=\"text-align: right;\">\n",
              "      <th></th>\n",
              "      <th>CLV</th>\n",
              "      <th>Income</th>\n",
              "      <th>monthly_premium</th>\n",
              "      <th>months_last_claim</th>\n",
              "      <th>Months_Since_Policy_Inception</th>\n",
              "      <th>Total_Claim_Amount</th>\n",
              "      <th>avg_vehicle_age</th>\n",
              "    </tr>\n",
              "  </thead>\n",
              "  <tbody>\n",
              "    <tr>\n",
              "      <th>count</th>\n",
              "      <td>6817.000000</td>\n",
              "      <td>6817.000000</td>\n",
              "      <td>6817.000000</td>\n",
              "      <td>6817.000000</td>\n",
              "      <td>6817.000000</td>\n",
              "      <td>6817.000000</td>\n",
              "      <td>6817.000000</td>\n",
              "    </tr>\n",
              "    <tr>\n",
              "      <th>mean</th>\n",
              "      <td>8130.229340</td>\n",
              "      <td>50456.580461</td>\n",
              "      <td>92.963034</td>\n",
              "      <td>15.046941</td>\n",
              "      <td>47.832624</td>\n",
              "      <td>377.840789</td>\n",
              "      <td>50.126257</td>\n",
              "    </tr>\n",
              "    <tr>\n",
              "      <th>std</th>\n",
              "      <td>6949.067972</td>\n",
              "      <td>24305.956566</td>\n",
              "      <td>34.615160</td>\n",
              "      <td>10.064762</td>\n",
              "      <td>27.895350</td>\n",
              "      <td>252.648952</td>\n",
              "      <td>9.919767</td>\n",
              "    </tr>\n",
              "    <tr>\n",
              "      <th>min</th>\n",
              "      <td>2119.894333</td>\n",
              "      <td>10037.000000</td>\n",
              "      <td>61.000000</td>\n",
              "      <td>0.000000</td>\n",
              "      <td>0.000000</td>\n",
              "      <td>0.099007</td>\n",
              "      <td>11.875974</td>\n",
              "    </tr>\n",
              "    <tr>\n",
              "      <th>25%</th>\n",
              "      <td>4090.750678</td>\n",
              "      <td>28432.000000</td>\n",
              "      <td>68.000000</td>\n",
              "      <td>6.000000</td>\n",
              "      <td>24.000000</td>\n",
              "      <td>210.100003</td>\n",
              "      <td>43.449925</td>\n",
              "    </tr>\n",
              "    <tr>\n",
              "      <th>50%</th>\n",
              "      <td>5810.630529</td>\n",
              "      <td>48081.000000</td>\n",
              "      <td>83.000000</td>\n",
              "      <td>14.000000</td>\n",
              "      <td>48.000000</td>\n",
              "      <td>340.800000</td>\n",
              "      <td>50.100924</td>\n",
              "    </tr>\n",
              "    <tr>\n",
              "      <th>75%</th>\n",
              "      <td>9075.768214</td>\n",
              "      <td>70187.000000</td>\n",
              "      <td>109.000000</td>\n",
              "      <td>23.000000</td>\n",
              "      <td>71.000000</td>\n",
              "      <td>498.612632</td>\n",
              "      <td>56.877234</td>\n",
              "    </tr>\n",
              "    <tr>\n",
              "      <th>max</th>\n",
              "      <td>83325.381190</td>\n",
              "      <td>99981.000000</td>\n",
              "      <td>297.000000</td>\n",
              "      <td>35.000000</td>\n",
              "      <td>99.000000</td>\n",
              "      <td>2893.239678</td>\n",
              "      <td>83.387485</td>\n",
              "    </tr>\n",
              "  </tbody>\n",
              "</table>\n",
              "</div>"
            ],
            "text/plain": [
              "                CLV        Income  ...  Total_Claim_Amount  avg_vehicle_age\n",
              "count   6817.000000   6817.000000  ...         6817.000000      6817.000000\n",
              "mean    8130.229340  50456.580461  ...          377.840789        50.126257\n",
              "std     6949.067972  24305.956566  ...          252.648952         9.919767\n",
              "min     2119.894333  10037.000000  ...            0.099007        11.875974\n",
              "25%     4090.750678  28432.000000  ...          210.100003        43.449925\n",
              "50%     5810.630529  48081.000000  ...          340.800000        50.100924\n",
              "75%     9075.768214  70187.000000  ...          498.612632        56.877234\n",
              "max    83325.381190  99981.000000  ...         2893.239678        83.387485\n",
              "\n",
              "[8 rows x 7 columns]"
            ]
          },
          "metadata": {
            "tags": []
          },
          "execution_count": 11
        }
      ]
    },
    {
      "cell_type": "code",
      "metadata": {
        "colab": {
          "base_uri": "https://localhost:8080/",
          "height": 297
        },
        "id": "1Kf2aZOgn7B3",
        "outputId": "73be261f-4492-43da-caad-1fd2d2a5acc1"
      },
      "source": [
        "sns.distplot(marketing_df['avg_vehicle_age'],hist=True,hist_kws=dict(ec=\"k\"))"
      ],
      "execution_count": 15,
      "outputs": [
        {
          "output_type": "execute_result",
          "data": {
            "text/plain": [
              "<matplotlib.axes._subplots.AxesSubplot at 0x7f4736624b38>"
            ]
          },
          "metadata": {
            "tags": []
          },
          "execution_count": 15
        },
        {
          "output_type": "display_data",
          "data": {
            "image/png": "[encoded data removed]",
            "text/plain": [
              "<Figure size 432x288 with 1 Axes>"
            ]
          },
          "metadata": {
            "tags": [],
            "needs_background": "light"
          }
        }
      ]
    },
    {
      "cell_type": "code",
      "metadata": {
        "colab": {
          "base_uri": "https://localhost:8080/",
          "height": 279
        },
        "id": "LZEiSqt0ooxd",
        "outputId": "3983c724-f1f6-4e9e-b716-96d4677849e9"
      },
      "source": [
        "plot=sm.qqplot(marketing_df['avg_vehicle_age'],line=\"45\",fit=True)"
      ],
      "execution_count": 17,
      "outputs": [
        {
          "output_type": "display_data",
          "data": {
            "image/png": "[encoded data removed]",
            "text/plain": [
              "<Figure size 432x288 with 1 Axes>"
            ]
          },
          "metadata": {
            "tags": [],
            "needs_background": "light"
          }
        }
      ]
    },
    {
      "cell_type": "code",
      "metadata": {
        "colab": {
          "base_uri": "https://localhost:8080/",
          "height": 352
        },
        "id": "NukmWVOIrIGW",
        "outputId": "146a7415-f0f5-4a7d-e9b6-2107e71408a4"
      },
      "source": [
        "plt.figure(figsize=(15,5))\r\n",
        "sns.boxplot(x=\"avg_vehicle_age\",data=marketing_df)"
      ],
      "execution_count": 18,
      "outputs": [
        {
          "output_type": "execute_result",
          "data": {
            "text/plain": [
              "<matplotlib.axes._subplots.AxesSubplot at 0x7f4735f12748>"
            ]
          },
          "metadata": {
            "tags": []
          },
          "execution_count": 18
        },
        {
          "output_type": "display_data",
          "data": {
            "image/png": "[encoded data removed]",
            "text/plain": [
              "<Figure size 1080x360 with 1 Axes>"
            ]
          },
          "metadata": {
            "tags": [],
            "needs_background": "light"
          }
        }
      ]
    },
    {
      "cell_type": "code",
      "metadata": {
        "colab": {
          "base_uri": "https://localhost:8080/"
        },
        "id": "MzECU0FGrfw0",
        "outputId": "5ea375c8-bb62-41d3-d025-2623213bab56"
      },
      "source": [
        "chi2,p = stats.normaltest(marketing_df['avg_vehicle_age'])\r\n",
        "print('Chi2 =%.2f,pvalue =%.3f'%(chi2,p))"
      ],
      "execution_count": 19,
      "outputs": [
        {
          "output_type": "stream",
          "text": [
            "Chi2 =1.04,pvalue =0.593\n"
          ],
          "name": "stdout"
        }
      ]
    },
    {
      "cell_type": "code",
      "metadata": {
        "colab": {
          "base_uri": "https://localhost:8080/"
        },
        "id": "vT83ktl3r9LG",
        "outputId": "759995ac-c059-4cba-9239-90f4998443b1"
      },
      "source": [
        "stats.anderson(marketing_df['avg_vehicle_age'],dist='norm')"
      ],
      "execution_count": 20,
      "outputs": [
        {
          "output_type": "execute_result",
          "data": {
            "text/plain": [
              "AndersonResult(statistic=0.38327277704684093, critical_values=array([0.576, 0.656, 0.787, 0.917, 1.091]), significance_level=array([15. , 10. ,  5. ,  2.5,  1. ]))"
            ]
          },
          "metadata": {
            "tags": []
          },
          "execution_count": 20
        }
      ]
    },
    {
      "cell_type": "code",
      "metadata": {
        "id": "8qgGbSCss5SY"
      },
      "source": [
        "from scipy import stats\r\n",
        "_,l =stats.boxcox(marketing_df['avg_vehicle_age'])"
      ],
      "execution_count": 21,
      "outputs": []
    },
    {
      "cell_type": "code",
      "metadata": {
        "colab": {
          "base_uri": "https://localhost:8080/"
        },
        "id": "XaAFqjUAtP2Z",
        "outputId": "8d22eb3a-50e9-46dc-bde3-0cc4f3c686cb"
      },
      "source": [
        "print(\"lambda          :\",l)"
      ],
      "execution_count": 30,
      "outputs": [
        {
          "output_type": "stream",
          "text": [
            "lambda          : 0.44437538279540056\n"
          ],
          "name": "stdout"
        }
      ]
    },
    {
      "cell_type": "code",
      "metadata": {
        "colab": {
          "base_uri": "https://localhost:8080/",
          "height": 297
        },
        "id": "dRSen0Uvwe93",
        "outputId": "e17ee5f1-8052-466e-b767-ed499f35dc17"
      },
      "source": [
        "sns.distplot(marketing_df['avg_vehicle_age'].apply(lambda x:np.power(x,l)),hist=True)"
      ],
      "execution_count": 31,
      "outputs": [
        {
          "output_type": "execute_result",
          "data": {
            "text/plain": [
              "<matplotlib.axes._subplots.AxesSubplot at 0x7f473593cf28>"
            ]
          },
          "metadata": {
            "tags": []
          },
          "execution_count": 31
        },
        {
          "output_type": "display_data",
          "data": {
            "image/png": "[encoded data removed]",
            "text/plain": [
              "<Figure size 432x288 with 1 Axes>"
            ]
          },
          "metadata": {
            "tags": [],
            "needs_background": "light"
          }
        }
      ]
    },
    {
      "cell_type": "code",
      "metadata": {
        "colab": {
          "base_uri": "https://localhost:8080/",
          "height": 279
        },
        "id": "WLSPUsEXoXlk",
        "outputId": "33661b6f-a21b-489c-92e0-c456665bfd86"
      },
      "source": [
        "plot=sm.qqplot(marketing_df['Income'],line=\"45\",fit=True)"
      ],
      "execution_count": 25,
      "outputs": [
        {
          "output_type": "display_data",
          "data": {
            "image/png": "[encoded data removed]",
            "text/plain": [
              "<Figure size 432x288 with 1 Axes>"
            ]
          },
          "metadata": {
            "tags": [],
            "needs_background": "light"
          }
        }
      ]
    },
    {
      "cell_type": "code",
      "metadata": {
        "colab": {
          "base_uri": "https://localhost:8080/",
          "height": 351
        },
        "id": "144ZPSN9vVNj",
        "outputId": "a0ab7162-f5e3-4934-b5c4-1a34483dd651"
      },
      "source": [
        "plt.figure(figsize=(15,5))\r\n",
        "sns.boxplot(x=\"Income\",data=marketing_df)"
      ],
      "execution_count": 26,
      "outputs": [
        {
          "output_type": "execute_result",
          "data": {
            "text/plain": [
              "<matplotlib.axes._subplots.AxesSubplot at 0x7f4735becbe0>"
            ]
          },
          "metadata": {
            "tags": []
          },
          "execution_count": 26
        },
        {
          "output_type": "display_data",
          "data": {
            "image/png": "[encoded data removed]",
            "text/plain": [
              "<Figure size 1080x360 with 1 Axes>"
            ]
          },
          "metadata": {
            "tags": [],
            "needs_background": "light"
          }
        }
      ]
    },
    {
      "cell_type": "code",
      "metadata": {
        "id": "kCWf9oLFvcF5"
      },
      "source": [
        "_,l =stats.boxcox(marketing_df['Income'])"
      ],
      "execution_count": 27,
      "outputs": []
    },
    {
      "cell_type": "code",
      "metadata": {
        "colab": {
          "base_uri": "https://localhost:8080/"
        },
        "id": "W-k3Dzpevi6k",
        "outputId": "e7464703-77fa-43c6-aaf2-da5182d2d77f"
      },
      "source": [
        "print(\"lambda          :\",l)"
      ],
      "execution_count": 28,
      "outputs": [
        {
          "output_type": "stream",
          "text": [
            "lambda          : 0.44437538279540056\n"
          ],
          "name": "stdout"
        }
      ]
    },
    {
      "cell_type": "code",
      "metadata": {
        "colab": {
          "base_uri": "https://localhost:8080/",
          "height": 296
        },
        "id": "dkqBctxKvnY4",
        "outputId": "a5e206fd-e753-4f9a-e191-72f6ff4866f7"
      },
      "source": [
        "sns.distplot(marketing_df['Income'].apply(lambda x:np.power(x,l)),hist=True)"
      ],
      "execution_count": 29,
      "outputs": [
        {
          "output_type": "execute_result",
          "data": {
            "text/plain": [
              "<matplotlib.axes._subplots.AxesSubplot at 0x7f4735ad4518>"
            ]
          },
          "metadata": {
            "tags": []
          },
          "execution_count": 29
        },
        {
          "output_type": "display_data",
          "data": {
            "image/png": "[encoded data removed]",
            "text/plain": [
              "<Figure size 432x288 with 1 Axes>"
            ]
          },
          "metadata": {
            "tags": [],
            "needs_background": "light"
          }
        }
      ]
    },
    {
      "cell_type": "code",
      "metadata": {
        "colab": {
          "base_uri": "https://localhost:8080/"
        },
        "id": "Ovs3OsNnwXBB",
        "outputId": "d16903bd-1bee-477d-a09d-db5fbed106c1"
      },
      "source": [
        "stats.boxcox(marketing_df['Income'].apply(lambda x:np.power(x,l)))"
      ],
      "execution_count": 33,
      "outputs": [
        {
          "output_type": "execute_result",
          "data": {
            "text/plain": [
              "(array([128.09819109, 120.14015208, 114.53556654, ..., 142.98627724,\n",
              "         83.36466029,  83.94694497]), 1.0000001881629772)"
            ]
          },
          "metadata": {
            "tags": []
          },
          "execution_count": 33
        }
      ]
    },
    {
      "cell_type": "code",
      "metadata": {
        "colab": {
          "base_uri": "https://localhost:8080/",
          "height": 351
        },
        "id": "YmgysUaGxMMR",
        "outputId": "235a13c4-4a3a-40fd-d3d5-4b4d13b5c40a"
      },
      "source": [
        "plt.figure(figsize=(15,5))\r\n",
        "sns.boxplot(x=\"CLV\",data=marketing_df)"
      ],
      "execution_count": 34,
      "outputs": [
        {
          "output_type": "execute_result",
          "data": {
            "text/plain": [
              "<matplotlib.axes._subplots.AxesSubplot at 0x7f4735844710>"
            ]
          },
          "metadata": {
            "tags": []
          },
          "execution_count": 34
        },
        {
          "output_type": "display_data",
          "data": {
            "image/png": "[encoded data removed]",
            "text/plain": [
              "<Figure size 1080x360 with 1 Axes>"
            ]
          },
          "metadata": {
            "tags": [],
            "needs_background": "light"
          }
        }
      ]
    },
    {
      "cell_type": "code",
      "metadata": {
        "colab": {
          "base_uri": "https://localhost:8080/",
          "height": 297
        },
        "id": "WpS16XdBvRQg",
        "outputId": "ffc15c08-49d4-41d6-d581-3941e29321dd"
      },
      "source": [
        "sns.distplot(marketing_df['CLV'],hist=True)"
      ],
      "execution_count": 42,
      "outputs": [
        {
          "output_type": "execute_result",
          "data": {
            "text/plain": [
              "<matplotlib.axes._subplots.AxesSubplot at 0x7f4735517780>"
            ]
          },
          "metadata": {
            "tags": []
          },
          "execution_count": 42
        },
        {
          "output_type": "display_data",
          "data": {
            "image/png": "[encoded data removed]",
            "text/plain": [
              "<Figure size 432x288 with 1 Axes>"
            ]
          },
          "metadata": {
            "tags": [],
            "needs_background": "light"
          }
        }
      ]
    },
    {
      "cell_type": "code",
      "metadata": {
        "id": "VoOHhgfFxuzQ"
      },
      "source": [
        "_,l =stats.boxcox(marketing_df['CLV'])"
      ],
      "execution_count": 36,
      "outputs": []
    },
    {
      "cell_type": "code",
      "metadata": {
        "colab": {
          "base_uri": "https://localhost:8080/"
        },
        "id": "PsBdrvynx2OI",
        "outputId": "ab8d819d-38b1-446f-d0a2-66eecce89b43"
      },
      "source": [
        "print(\"lambda          :\",l)"
      ],
      "execution_count": 37,
      "outputs": [
        {
          "output_type": "stream",
          "text": [
            "lambda          : -0.3628046005612987\n"
          ],
          "name": "stdout"
        }
      ]
    },
    {
      "cell_type": "code",
      "metadata": {
        "colab": {
          "base_uri": "https://localhost:8080/",
          "height": 296
        },
        "id": "Fi5PR7JPx6CJ",
        "outputId": "68f6f9b8-11e3-4a62-b9c1-0396b8f9663f"
      },
      "source": [
        "sns.distplot(marketing_df['CLV'].apply(lambda x:1/np.power(x,np.abs(l))),hist=True)"
      ],
      "execution_count": 40,
      "outputs": [
        {
          "output_type": "execute_result",
          "data": {
            "text/plain": [
              "<matplotlib.axes._subplots.AxesSubplot at 0x7f4735561208>"
            ]
          },
          "metadata": {
            "tags": []
          },
          "execution_count": 40
        },
        {
          "output_type": "display_data",
          "data": {
            "image/png": "[encoded data removed]",
            "text/plain": [
              "<Figure size 432x288 with 1 Axes>"
            ]
          },
          "metadata": {
            "tags": [],
            "needs_background": "light"
          }
        }
      ]
    },
    {
      "cell_type": "code",
      "metadata": {
        "colab": {
          "base_uri": "https://localhost:8080/"
        },
        "id": "luta2K5LyEc1",
        "outputId": "9b700e66-20fb-4a37-aae1-9117c2ec1fd8"
      },
      "source": [
        "stats.boxcox(marketing_df['CLV'].apply(lambda x:1/np.power(x,np.abs(l))))"
      ],
      "execution_count": 41,
      "outputs": [
        {
          "output_type": "execute_result",
          "data": {
            "text/plain": [
              "(array([-0.94358158, -0.96772907, -0.94394867, ..., -0.97401118,\n",
              "        -0.94586294, -0.96077198]), 0.9999998972585702)"
            ]
          },
          "metadata": {
            "tags": []
          },
          "execution_count": 41
        }
      ]
    },
    {
      "cell_type": "markdown",
      "metadata": {
        "id": "qlZ0dZPBzG7R"
      },
      "source": [
        "Common Box-Cox Transformations\r\n",
        "\r\n",
        "Lambda value (λ)\tTransformed data (Y’)\r\n",
        "\r\n",
        "-3\tY-3 = 1/Y3\r\n",
        "\r\n",
        "-2\tY-2 = 1/SQUARE(input)\r\n",
        "\r\n",
        "-1\tY-1 = 1/(input)\r\n",
        "\r\n",
        "-0.5\tY-0.5 = 1/(√(Y))  i.e1/SQRT(input)\r\n",
        "\r\n",
        "0\tlog(Y)**   i.e input\r\n",
        "\r\n",
        "0.5\tY0.5 = √(Y)  i.e 1/SQRT(input)\r\n",
        "\r\n",
        "1\tY1 = Y\r\n",
        "\r\n",
        "2\tY2\r\n",
        "\r\n",
        "3\tY3\r\n"
      ]
    }
  ]
}