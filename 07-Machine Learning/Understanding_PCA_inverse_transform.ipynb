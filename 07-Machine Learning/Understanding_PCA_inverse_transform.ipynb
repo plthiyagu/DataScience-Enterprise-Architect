{
  "nbformat": 4,
  "nbformat_minor": 0,
  "metadata": {
    "colab": {
      "provenance": [],
      "authorship_tag": "ABX9TyMj2SfD2+SNagwhgf/uFXnr",
      "include_colab_link": true
    },
    "kernelspec": {
      "name": "python3",
      "display_name": "Python 3"
    },
    "language_info": {
      "name": "python"
    }
  },
  "cells": [
    {
      "cell_type": "markdown",
      "metadata": {
        "id": "view-in-github",
        "colab_type": "text"
      },
      "source": [
        "<a href=\"https://colab.research.google.com/github/plthiyagu/DataScience-Enterprise-Architect/blob/master/07-Machine%20Learning/Understanding_PCA_inverse_transform.ipynb\" target=\"_parent\"><img src=\"https://colab.research.google.com/assets/colab-badge.svg\" alt=\"Open In Colab\"/></a>"
      ]
    },
    {
      "cell_type": "code",
      "execution_count": 1,
      "metadata": {
        "id": "Qyv-v-DwJPql"
      },
      "outputs": [],
      "source": [
        "import numpy as np\n",
        "import matplotlib.pyplot as plt"
      ]
    },
    {
      "cell_type": "code",
      "source": [
        "from sklearn.datasets import load_digits\n",
        "from sklearn.neighbors import KernelDensity\n",
        "from sklearn.decomposition import PCA\n",
        "from sklearn.model_selection import GridSearchCV"
      ],
      "metadata": {
        "id": "MOM0PJ5dJQ7R"
      },
      "execution_count": 2,
      "outputs": []
    },
    {
      "cell_type": "code",
      "source": [
        "# load the data\n",
        "digits = load_digits()"
      ],
      "metadata": {
        "id": "8mmOaRh0JTL5"
      },
      "execution_count": 3,
      "outputs": []
    },
    {
      "cell_type": "code",
      "source": [
        "# project the 64-dimensional data to a lower dimension\n",
        "pca = PCA(n_components=15, whiten=False)\n",
        "data = pca.fit_transform(digits.data)"
      ],
      "metadata": {
        "id": "2fiuUrSjJVSj"
      },
      "execution_count": 4,
      "outputs": []
    },
    {
      "cell_type": "code",
      "source": [
        "# use grid search cross-validation to optimize the bandwidth\n",
        "params = {'bandwidth': np.logspace(-1, 1, 20)}\n",
        "grid = GridSearchCV(KernelDensity(), params, cv=5)\n",
        "grid.fit(data)\n",
        "\n",
        "print(\"best bandwidth: {0}\".format(grid.best_estimator_.bandwidth))"
      ],
      "metadata": {
        "colab": {
          "base_uri": "https://localhost:8080/"
        },
        "id": "l73_4baVJYwo",
        "outputId": "f4d3ee05-b027-4d11-9b29-bcf45f03bd3e"
      },
      "execution_count": 6,
      "outputs": [
        {
          "output_type": "stream",
          "name": "stdout",
          "text": [
            "best bandwidth: 3.79269019073225\n"
          ]
        }
      ]
    },
    {
      "cell_type": "code",
      "source": [
        "# use the best estimator to compute the kernel density estimate\n",
        "kde = grid.best_estimator_\n",
        "\n",
        "# sample 44 new points from the data\n",
        "new_data = kde.sample(44, random_state=0) \n",
        "\n",
        "new_data = pca.inverse_transform(new_data)"
      ],
      "metadata": {
        "id": "ufUzKG5TJcG1"
      },
      "execution_count": 7,
      "outputs": []
    },
    {
      "cell_type": "code",
      "source": [
        "new_data"
      ],
      "metadata": {
        "colab": {
          "base_uri": "https://localhost:8080/"
        },
        "id": "iy07Lg5kJ0qh",
        "outputId": "b9e0a7f4-6ce0-4706-dd8d-92a62452c477"
      },
      "execution_count": 8,
      "outputs": [
        {
          "output_type": "execute_result",
          "data": {
            "text/plain": [
              "array([[-1.68606857e-15,  1.73985318e+00,  1.54776078e+01, ...,\n",
              "         1.14585488e+01,  8.37690986e+00,  2.36453548e+00],\n",
              "       [ 1.12952879e-15,  6.49300826e-01,  9.91563144e+00, ...,\n",
              "         2.76640345e+00, -8.79555043e-02,  6.77753209e-01],\n",
              "       [-5.47069982e-16,  4.89194483e-02,  1.35141027e+00, ...,\n",
              "         4.04067099e+00,  1.40548250e-01, -8.61905111e-01],\n",
              "       ...,\n",
              "       [ 8.73388072e-16, -3.10051552e-03,  6.77100426e+00, ...,\n",
              "         1.47428169e+01,  4.28028569e+00,  2.41157789e-01],\n",
              "       [ 1.85924253e-15,  4.64072029e-01,  8.64312047e+00, ...,\n",
              "        -2.01434771e+00, -3.62425247e+00, -1.01834810e+00],\n",
              "       [ 8.44840153e-16, -6.19360116e-01, -1.27204734e+00, ...,\n",
              "         4.18384693e+00,  5.82011611e-01, -3.06245084e-01]])"
            ]
          },
          "metadata": {},
          "execution_count": 8
        }
      ]
    }
  ]
}