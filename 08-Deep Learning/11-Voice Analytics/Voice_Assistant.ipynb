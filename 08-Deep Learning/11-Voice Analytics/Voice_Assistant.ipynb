{
  "nbformat": 4,
  "nbformat_minor": 0,
  "metadata": {
    "colab": {
      "name": "Voice Assistant.ipynb",
      "provenance": [],
      "authorship_tag": "ABX9TyOfQxkfE3QxYyBMozhkr8Bl",
      "include_colab_link": true
    },
    "kernelspec": {
      "name": "python3",
      "display_name": "Python 3"
    }
  },
  "cells": [
    {
      "cell_type": "markdown",
      "metadata": {
        "id": "view-in-github",
        "colab_type": "text"
      },
      "source": [
        "<a href=\"https://colab.research.google.com/github/plthiyagu/Personnel/blob/master/Voice_Assistant.ipynb\" target=\"_parent\"><img src=\"https://colab.research.google.com/assets/colab-badge.svg\" alt=\"Open In Colab\"/></a>"
      ]
    },
    {
      "cell_type": "markdown",
      "metadata": {
        "id": "vEaxZBZ8cXw6"
      },
      "source": [
        "https://www.analyticsvidhya.com/blog/2020/11/build-your-own-desktop-voice-assistant-in-python/?utm_source=feedburner&utm_medium=email&utm_campaign=Feed%3A+AnalyticsVidhya+%28Analytics+Vidhya%29"
      ]
    },
    {
      "cell_type": "code",
      "metadata": {
        "id": "J6lTuesibQFt",
        "outputId": "680247d5-30c5-4f56-f8a2-ffade4358e6d",
        "colab": {
          "base_uri": "https://localhost:8080/"
        }
      },
      "source": [
        "!pip install SpeechRecognition\n",
        "!pip install wikipedia\n",
        "!pip install playsound\n",
        "!pip install gTTs\n",
        "!pip install wolframalpha\n",
        "!pip install selenium\n",
        "!pip install ecapture\n",
        "!pip install pyinstaller\n",
        "!pip install pyttsx3"
      ],
      "execution_count": 18,
      "outputs": [
        {
          "output_type": "stream",
          "text": [
            "Requirement already satisfied: SpeechRecognition in /usr/local/lib/python3.6/dist-packages (3.8.1)\n",
            "Requirement already satisfied: wikipedia in /usr/local/lib/python3.6/dist-packages (1.4.0)\n",
            "Requirement already satisfied: requests<3.0.0,>=2.0.0 in /usr/local/lib/python3.6/dist-packages (from wikipedia) (2.23.0)\n",
            "Requirement already satisfied: beautifulsoup4 in /usr/local/lib/python3.6/dist-packages (from wikipedia) (4.6.3)\n",
            "Requirement already satisfied: urllib3!=1.25.0,!=1.25.1,<1.26,>=1.21.1 in /usr/local/lib/python3.6/dist-packages (from requests<3.0.0,>=2.0.0->wikipedia) (1.24.3)\n",
            "Requirement already satisfied: chardet<4,>=3.0.2 in /usr/local/lib/python3.6/dist-packages (from requests<3.0.0,>=2.0.0->wikipedia) (3.0.4)\n",
            "Requirement already satisfied: certifi>=2017.4.17 in /usr/local/lib/python3.6/dist-packages (from requests<3.0.0,>=2.0.0->wikipedia) (2020.6.20)\n",
            "Requirement already satisfied: idna<3,>=2.5 in /usr/local/lib/python3.6/dist-packages (from requests<3.0.0,>=2.0.0->wikipedia) (2.10)\n",
            "Requirement already satisfied: playsound in /usr/local/lib/python3.6/dist-packages (1.2.2)\n",
            "Requirement already satisfied: gTTs in /usr/local/lib/python3.6/dist-packages (2.1.1)\n",
            "Requirement already satisfied: six in /usr/local/lib/python3.6/dist-packages (from gTTs) (1.15.0)\n",
            "Requirement already satisfied: click in /usr/local/lib/python3.6/dist-packages (from gTTs) (7.1.2)\n",
            "Requirement already satisfied: beautifulsoup4 in /usr/local/lib/python3.6/dist-packages (from gTTs) (4.6.3)\n",
            "Requirement already satisfied: requests in /usr/local/lib/python3.6/dist-packages (from gTTs) (2.23.0)\n",
            "Requirement already satisfied: gtts-token>=1.1.3 in /usr/local/lib/python3.6/dist-packages (from gTTs) (1.1.3)\n",
            "Requirement already satisfied: urllib3!=1.25.0,!=1.25.1,<1.26,>=1.21.1 in /usr/local/lib/python3.6/dist-packages (from requests->gTTs) (1.24.3)\n",
            "Requirement already satisfied: certifi>=2017.4.17 in /usr/local/lib/python3.6/dist-packages (from requests->gTTs) (2020.6.20)\n",
            "Requirement already satisfied: chardet<4,>=3.0.2 in /usr/local/lib/python3.6/dist-packages (from requests->gTTs) (3.0.4)\n",
            "Requirement already satisfied: idna<3,>=2.5 in /usr/local/lib/python3.6/dist-packages (from requests->gTTs) (2.10)\n",
            "Requirement already satisfied: wolframalpha in /usr/local/lib/python3.6/dist-packages (4.0.0)\n",
            "Requirement already satisfied: six in /usr/local/lib/python3.6/dist-packages (from wolframalpha) (1.15.0)\n",
            "Requirement already satisfied: jaraco.itertools>=2.0 in /usr/local/lib/python3.6/dist-packages (from wolframalpha) (5.0.0)\n",
            "Requirement already satisfied: xmltodict in /usr/local/lib/python3.6/dist-packages (from wolframalpha) (0.12.0)\n",
            "Requirement already satisfied: inflect in /usr/local/lib/python3.6/dist-packages (from jaraco.itertools>=2.0->wolframalpha) (2.1.0)\n",
            "Requirement already satisfied: more-itertools>=4.0.0 in /usr/local/lib/python3.6/dist-packages (from jaraco.itertools>=2.0->wolframalpha) (8.5.0)\n",
            "Requirement already satisfied: selenium in /usr/local/lib/python3.6/dist-packages (3.141.0)\n",
            "Requirement already satisfied: urllib3 in /usr/local/lib/python3.6/dist-packages (from selenium) (1.24.3)\n",
            "Requirement already satisfied: ecapture in /usr/local/lib/python3.6/dist-packages (0.1.8)\n",
            "Requirement already satisfied: scikit-image==0.14.2 in /usr/local/lib/python3.6/dist-packages (from ecapture) (0.14.2)\n",
            "Requirement already satisfied: opencv-python in /usr/local/lib/python3.6/dist-packages (from ecapture) (4.1.2.30)\n",
            "Requirement already satisfied: six>=1.10.0 in /usr/local/lib/python3.6/dist-packages (from scikit-image==0.14.2->ecapture) (1.15.0)\n",
            "Requirement already satisfied: PyWavelets>=0.4.0 in /usr/local/lib/python3.6/dist-packages (from scikit-image==0.14.2->ecapture) (1.1.1)\n",
            "Requirement already satisfied: pillow>=4.3.0 in /usr/local/lib/python3.6/dist-packages (from scikit-image==0.14.2->ecapture) (7.0.0)\n",
            "Requirement already satisfied: networkx>=1.8 in /usr/local/lib/python3.6/dist-packages (from scikit-image==0.14.2->ecapture) (2.5)\n",
            "Requirement already satisfied: matplotlib>=2.0.0 in /usr/local/lib/python3.6/dist-packages (from scikit-image==0.14.2->ecapture) (3.2.2)\n",
            "Requirement already satisfied: dask[array]>=1.0.0 in /usr/local/lib/python3.6/dist-packages (from scikit-image==0.14.2->ecapture) (2.12.0)\n",
            "Requirement already satisfied: scipy>=0.17.0 in /usr/local/lib/python3.6/dist-packages (from scikit-image==0.14.2->ecapture) (1.4.1)\n",
            "Requirement already satisfied: cloudpickle>=0.2.1 in /usr/local/lib/python3.6/dist-packages (from scikit-image==0.14.2->ecapture) (1.3.0)\n",
            "Requirement already satisfied: numpy>=1.11.3 in /usr/local/lib/python3.6/dist-packages (from opencv-python->ecapture) (1.18.5)\n",
            "Requirement already satisfied: decorator>=4.3.0 in /usr/local/lib/python3.6/dist-packages (from networkx>=1.8->scikit-image==0.14.2->ecapture) (4.4.2)\n",
            "Requirement already satisfied: cycler>=0.10 in /usr/local/lib/python3.6/dist-packages (from matplotlib>=2.0.0->scikit-image==0.14.2->ecapture) (0.10.0)\n",
            "Requirement already satisfied: python-dateutil>=2.1 in /usr/local/lib/python3.6/dist-packages (from matplotlib>=2.0.0->scikit-image==0.14.2->ecapture) (2.8.1)\n",
            "Requirement already satisfied: pyparsing!=2.0.4,!=2.1.2,!=2.1.6,>=2.0.1 in /usr/local/lib/python3.6/dist-packages (from matplotlib>=2.0.0->scikit-image==0.14.2->ecapture) (2.4.7)\n",
            "Requirement already satisfied: kiwisolver>=1.0.1 in /usr/local/lib/python3.6/dist-packages (from matplotlib>=2.0.0->scikit-image==0.14.2->ecapture) (1.2.0)\n",
            "Requirement already satisfied: toolz>=0.7.3; extra == \"array\" in /usr/local/lib/python3.6/dist-packages (from dask[array]>=1.0.0->scikit-image==0.14.2->ecapture) (0.11.1)\n",
            "Requirement already satisfied: pyinstaller in /usr/local/lib/python3.6/dist-packages (4.0)\n",
            "Requirement already satisfied: pyinstaller-hooks-contrib>=2020.6 in /usr/local/lib/python3.6/dist-packages (from pyinstaller) (2020.10)\n",
            "Requirement already satisfied: altgraph in /usr/local/lib/python3.6/dist-packages (from pyinstaller) (0.17)\n",
            "Requirement already satisfied: setuptools in /usr/local/lib/python3.6/dist-packages (from pyinstaller) (50.3.2)\n",
            "\u001b[31mERROR: Could not find a version that satisfies the requirement webbrowser (from versions: none)\u001b[0m\n",
            "\u001b[31mERROR: No matching distribution found for webbrowser\u001b[0m\n",
            "Collecting pycopy-webbrowser\n",
            "  Using cached https://files.pythonhosted.org/packages/40/6f/3534aa5470f69aede4ec969a4f64981892e5bd838ea8e148d8d7ee52f1bc/pycopy-webbrowser-0.0.0.tar.gz\n",
            "\u001b[31mERROR: Command errored out with exit status 1: python setup.py egg_info Check the logs for full command output.\u001b[0m\n",
            "Requirement already satisfied: pyttsx3 in /usr/local/lib/python3.6/dist-packages (2.90)\n"
          ],
          "name": "stdout"
        }
      ]
    },
    {
      "cell_type": "code",
      "metadata": {
        "id": "wkDKBzuWbGhW"
      },
      "source": [
        "import speech_recognition as sr\n",
        "import datetime\n",
        "import wikipedia\n",
        "import webbrowser\n",
        "import time\n",
        "import requests\n",
        "import subprocess #process various system commands like to log off or to restart your system\n",
        "from ecapture import ecapture as ec #for capturing photos \n",
        "import playsound # to play saved mp3 file \n",
        "from gtts import gTTS # google text to speech \n",
        "import os # to save/open files \n",
        "import wolframalpha # to calculate strings into formula \n",
        "from selenium import webdriver # to control browser operations"
      ],
      "execution_count": 12,
      "outputs": []
    },
    {
      "cell_type": "code",
      "metadata": {
        "id": "hPHKFWMlLrtm",
        "outputId": "661d8fa0-00c2-4e49-9382-b96b2a4495b2",
        "colab": {
          "base_uri": "https://localhost:8080/",
          "height": 510
        }
      },
      "source": [
        ""
      ],
      "execution_count": 16,
      "outputs": [
        {
          "output_type": "error",
          "ename": "ImportError",
          "evalue": "ignored",
          "traceback": [
            "\u001b[0;31m---------------------------------------------------------------------------\u001b[0m",
            "\u001b[0;31mAttributeError\u001b[0m                            Traceback (most recent call last)",
            "\u001b[0;32m/usr/lib/python3.6/importlib/_bootstrap.py\u001b[0m in \u001b[0;36m_find_spec\u001b[0;34m(name, path, target)\u001b[0m\n",
            "\u001b[0;31mAttributeError\u001b[0m: 'DynamicImporter' object has no attribute 'find_spec'",
            "\nDuring handling of the above exception, another exception occurred:\n",
            "\u001b[0;31mImportError\u001b[0m                               Traceback (most recent call last)",
            "\u001b[0;32m<ipython-input-16-e4cc7295459c>\u001b[0m in \u001b[0;36m<module>\u001b[0;34m()\u001b[0m\n\u001b[1;32m      1\u001b[0m \u001b[0;32mimport\u001b[0m \u001b[0mgi\u001b[0m\u001b[0;34m\u001b[0m\u001b[0;34m\u001b[0m\u001b[0m\n\u001b[0;32m----> 2\u001b[0;31m \u001b[0;32mfrom\u001b[0m \u001b[0mgi\u001b[0m\u001b[0;34m.\u001b[0m\u001b[0mrepository\u001b[0m \u001b[0;32mimport\u001b[0m \u001b[0mGtk\u001b[0m\u001b[0;34m\u001b[0m\u001b[0;34m\u001b[0m\u001b[0m\n\u001b[0m\u001b[1;32m      3\u001b[0m \u001b[0;34m\u001b[0m\u001b[0m\n\u001b[1;32m      4\u001b[0m \u001b[0mwin\u001b[0m \u001b[0;34m=\u001b[0m \u001b[0mGtk\u001b[0m\u001b[0;34m.\u001b[0m\u001b[0mWindow\u001b[0m\u001b[0;34m(\u001b[0m\u001b[0;34m)\u001b[0m\u001b[0;34m\u001b[0m\u001b[0;34m\u001b[0m\u001b[0m\n\u001b[1;32m      5\u001b[0m \u001b[0mwin\u001b[0m\u001b[0;34m.\u001b[0m\u001b[0mconnect\u001b[0m\u001b[0;34m(\u001b[0m\u001b[0;34m\"destroy\"\u001b[0m\u001b[0;34m,\u001b[0m \u001b[0mGtk\u001b[0m\u001b[0;34m.\u001b[0m\u001b[0mmain_quit\u001b[0m\u001b[0;34m)\u001b[0m\u001b[0;34m\u001b[0m\u001b[0;34m\u001b[0m\u001b[0m\n",
            "\u001b[0;32m/usr/lib/python3/dist-packages/gi/importer.py\u001b[0m in \u001b[0;36mfind_module\u001b[0;34m(self, fullname, path)\u001b[0m\n\u001b[1;32m    125\u001b[0m         \u001b[0;32melse\u001b[0m\u001b[0;34m:\u001b[0m\u001b[0;34m\u001b[0m\u001b[0;34m\u001b[0m\u001b[0m\n\u001b[1;32m    126\u001b[0m             raise ImportError('cannot import name %s, '\n\u001b[0;32m--> 127\u001b[0;31m                               'introspection typelib not found' % namespace)\n\u001b[0m\u001b[1;32m    128\u001b[0m \u001b[0;34m\u001b[0m\u001b[0m\n\u001b[1;32m    129\u001b[0m     \u001b[0;32mdef\u001b[0m \u001b[0mload_module\u001b[0m\u001b[0;34m(\u001b[0m\u001b[0mself\u001b[0m\u001b[0;34m,\u001b[0m \u001b[0mfullname\u001b[0m\u001b[0;34m)\u001b[0m\u001b[0;34m:\u001b[0m\u001b[0;34m\u001b[0m\u001b[0;34m\u001b[0m\u001b[0m\n",
            "\u001b[0;31mImportError\u001b[0m: cannot import name Gtk, introspection typelib not found",
            "",
            "\u001b[0;31m---------------------------------------------------------------------------\u001b[0;32m\nNOTE: If your import is failing due to a missing package, you can\nmanually install dependencies using either !pip or !apt.\n\nTo view examples of installing some common dependencies, click the\n\"Open Examples\" button below.\n\u001b[0;31m---------------------------------------------------------------------------\u001b[0m\n"
          ]
        }
      ]
    },
    {
      "cell_type": "markdown",
      "metadata": {
        "id": "KLywJglAc0ab"
      },
      "source": [
        "Write a function to capture your requests/questions:\n"
      ]
    },
    {
      "cell_type": "code",
      "metadata": {
        "id": "oJgbSWEBNhgk",
        "outputId": "f775949a-0ae4-4015-d8ab-1608fbda4ef3",
        "colab": {
          "base_uri": "https://localhost:8080/"
        }
      },
      "source": [
        "!pip install gir1.2-gtk3.0"
      ],
      "execution_count": 19,
      "outputs": [
        {
          "output_type": "stream",
          "text": [
            "\u001b[31mERROR: Could not find a version that satisfies the requirement gir1.2-gtk3.0 (from versions: none)\u001b[0m\n",
            "\u001b[31mERROR: No matching distribution found for gir1.2-gtk3.0\u001b[0m\n"
          ],
          "name": "stdout"
        }
      ]
    },
    {
      "cell_type": "code",
      "metadata": {
        "id": "JDwj24yPbON-"
      },
      "source": [
        "def talk():\n",
        "  input=sr.Recognizer()\n",
        "  with sr.Microphone() as source:\n",
        "      audio=input.listen(source)\n",
        "      data=\"\"\n",
        "      try:\n",
        "          data=input.recognize_google(audio)\n",
        "          print(\"Your question is, \" + data)\n",
        "            \n",
        "      except sr.UnknownValueError:\n",
        "          print(\"Sorry I did not hear your question, Please repeat again.\")\n",
        "  return data"
      ],
      "execution_count": 13,
      "outputs": []
    },
    {
      "cell_type": "markdown",
      "metadata": {
        "id": "9XnaA0I3dFbP"
      },
      "source": [
        "Next, write a function to respond to your questions:\n"
      ]
    },
    {
      "cell_type": "code",
      "metadata": {
        "id": "KWfAYrSjc5fH"
      },
      "source": [
        "def respond(output):\n",
        "    num=0\n",
        "    print(output)\n",
        "    num += 1\n",
        "    response=gTTS(text=output, lang='en')\n",
        "    file = str(num)+\".mp3\"\n",
        "    response.save(file)\n",
        "    playsound.playsound(file, True)\n",
        "    os.remove(file)"
      ],
      "execution_count": 9,
      "outputs": []
    },
    {
      "cell_type": "code",
      "metadata": {
        "id": "_77ntjRxdJBy"
      },
      "source": [
        "if __name__=='__main__':\n",
        "    respond(\"Hi, I am Minchu your personal desktop assistant\")\n",
        "          \n",
        "    while(1):\n",
        "        \n",
        "        respond(\"How can I help you?\")\n",
        "        text=talk().lower()\n",
        "        \n",
        "        if text==0:\n",
        "            continue\n",
        "            \n",
        "        if \"stop\" in str(text) or \"exit\" in str(text) or \"bye\" in str(text):\n",
        "            respond(\"Ok bye and take care\")\n",
        "            break\n",
        "            \n",
        "        if 'wikipedia' in text:\n",
        "            respond('Searching Wikipedia')\n",
        "            text =text.replace(\"wikipedia\", \"\")\n",
        "            results = wikipedia.summary(text, sentences=3)\n",
        "            respond(\"According to Wikipedia\")\n",
        "            print(results)\n",
        "            respond(results)\n",
        "                  \n",
        "        elif 'time' in text:\n",
        "            strTime=datetime.datetime.now().strftime(\"%H:%M:%S\")\n",
        "            respond(f\"the time is {strTime}\")     \n",
        "        \n",
        "            \n",
        "        elif 'search'  in text:\n",
        "            text = text.replace(\"search\", \"\")\n",
        "            webbrowser.open_new_tab(text)\n",
        "            time.sleep(5)\n",
        "\n",
        "        elif \"camera\" in statement or \"take a photo\" in statement:\n",
        "            ec.capture(0,\"robo camera\",\"img.jpg\")\n",
        "        \n",
        "            \n",
        "        elif \"calculate\" or \"what is\" in text: \n",
        "                           \n",
        "            question=talk()\n",
        "            app_id=\"API key\"\n",
        "            client = wolframalpha.Client(app_id)\n",
        "            res = client.query(question)\n",
        "            answer = next(res.results).text\n",
        "            respond(\"The answer is \" + answer)\n",
        "            \n",
        "        elif 'who are you' in text or 'what can you do' in text:\n",
        "            respond('I am Minchu, your personal desktop assistant. I can fetch information for you, perform mathematical calculations, take photo, open applications, get weather details.')\n",
        "\n",
        "        elif 'open gmail' in text:\n",
        "            webbrowser.open_new_tab(\"https://www.gmail.com\")\n",
        "            respond(\"Gmail is open\")\n",
        "            time.sleep(5)\n",
        "\n",
        "        elif \"who made you\" in statement or \"who created you\" in statement or \"who discovered you\" in statement:\n",
        "            speak(\"I was built by Mirthula\")\n",
        "            print(\"I was built by Mirthula\")\n",
        "        \n",
        "        elif 'open google' in text:\n",
        "            webbrowser.open_new_tab(\"https://www.google.com\")\n",
        "            respond(\"Google is open\")\n",
        "            time.sleep(5)\n",
        "            \n",
        "        elif 'youtube' in text: \n",
        "            driver = webdriver.Chrome(r\"C:\\Users\\DhanushDhyan\\Downloads\\chromedriver_win32\\chromedriver.exe\") \n",
        "            driver.implicitly_wait(1) \n",
        "            driver.maximize_window()\n",
        "  \n",
        "            respond(\"Opening in youtube\") \n",
        "            indx = text.split().index('youtube') \n",
        "            query = text.split()[indx + 1:] \n",
        "            driver.get(\"http://www.youtube.com/results?search_query =\" + '+'.join(query)) \n",
        "        \n",
        "        elif \"weather\" in text:\n",
        "            respond(\"what is the city name\")\n",
        "            city_name=talk()\n",
        "            api_key=\"API key\"\n",
        "            base_url=\"https://api.openweathermap.org/data/2.5/weather?\"\n",
        "            complete_url=base_url+\"appid=\"+api_key+\"&q=\"+city_name\n",
        "            response = requests.get(complete_url)\n",
        "            x=response.json()\n",
        "            if x[\"cod\"]!=\"404\":\n",
        "                y=x[\"main\"]\n",
        "                current_temperature = y[\"temp\"]\n",
        "                current_humidiy = y[\"humidity\"]\n",
        "                z = x[\"weather\"]\n",
        "                weather_description = z[0][\"description\"]\n",
        "                respond(\" Temperature is \" +\n",
        "                      str(current_temperature) +\n",
        "                      \"\\n humidity in percentage is \" +\n",
        "                      str(current_humidiy) +\n",
        "                      \"\\n description  \" +\n",
        "                      str(weather_description))\n",
        "                \n",
        "        elif \"shut down\" in text:\n",
        "            respond(\"Ok , your system will shut down in 10 secs\")\n",
        "            subprocess.call([\"shutdown\", \"/l\"])        \n",
        "        \n",
        "        elif \"open word\" in text: \n",
        "            respond(\"Opening Microsoft Word\") \n",
        "            os.startfile('file location') \n",
        "        \n",
        "        else: \n",
        "  \n",
        "            respond(\"Application not available\")"
      ],
      "execution_count": null,
      "outputs": []
    }
  ]
}