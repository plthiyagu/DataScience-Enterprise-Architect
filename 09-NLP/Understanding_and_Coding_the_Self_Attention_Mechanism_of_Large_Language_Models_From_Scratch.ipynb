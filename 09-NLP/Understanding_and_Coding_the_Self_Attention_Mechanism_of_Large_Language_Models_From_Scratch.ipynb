{
  "nbformat": 4,
  "nbformat_minor": 0,
  "metadata": {
    "colab": {
      "provenance": [],
      "authorship_tag": "ABX9TyN/pAx6DolIb4lIkgUYJT19",
      "include_colab_link": true
    },
    "kernelspec": {
      "name": "python3",
      "display_name": "Python 3"
    },
    "language_info": {
      "name": "python"
    }
  },
  "cells": [
    {
      "cell_type": "markdown",
      "metadata": {
        "id": "view-in-github",
        "colab_type": "text"
      },
      "source": [
        "<a href=\"https://colab.research.google.com/github/plthiyagu/DataScience-Enterprise-Architect/blob/master/09-NLP/Understanding_and_Coding_the_Self_Attention_Mechanism_of_Large_Language_Models_From_Scratch.ipynb\" target=\"_parent\"><img src=\"https://colab.research.google.com/assets/colab-badge.svg\" alt=\"Open In Colab\"/></a>"
      ]
    },
    {
      "cell_type": "code",
      "source": [
        "import torch"
      ],
      "metadata": {
        "id": "8aw63pOqYPVa"
      },
      "execution_count": null,
      "outputs": []
    },
    {
      "cell_type": "code",
      "source": [
        "sentence = 'Life is short, eat dessert first'\n",
        "\n",
        "dc = {s:i for i,s in enumerate(sorted(sentence.replace(',', '').split()))}\n",
        "print(dc)"
      ],
      "metadata": {
        "id": "BG7_x2gOYQWw"
      },
      "execution_count": null,
      "outputs": []
    },
    {
      "cell_type": "code",
      "source": [
        "sentence_int = torch.tensor([dc[s] for s in sentence.replace(',', '').split()])\n",
        "print(sentence_int)"
      ],
      "metadata": {
        "colab": {
          "base_uri": "https://localhost:8080/"
        },
        "id": "cj7deii-YB5V",
        "outputId": "73ea0658-c1dc-45ff-d4ca-a63ed6f6fe92"
      },
      "execution_count": 2,
      "outputs": [
        {
          "output_type": "stream",
          "name": "stdout",
          "text": [
            "tensor([0, 4, 5, 2, 1, 3])\n"
          ]
        }
      ]
    },
    {
      "cell_type": "code",
      "source": [
        "torch.manual_seed(123)\n",
        "embed = torch.nn.Embedding(6, 16)\n",
        "embedded_sentence = embed(sentence_int).detach()\n",
        "\n",
        "print(embedded_sentence)\n",
        "print(embedded_sentence.shape)"
      ],
      "metadata": {
        "colab": {
          "base_uri": "https://localhost:8080/"
        },
        "id": "I4rG4bpnYI5a",
        "outputId": "1140d0cf-61f9-410c-96c5-31131e0a0aa3"
      },
      "execution_count": 3,
      "outputs": [
        {
          "output_type": "stream",
          "name": "stdout",
          "text": [
            "tensor([[ 0.3374, -0.1778, -0.3035, -0.5880,  0.3486,  0.6603, -0.2196, -0.3792,\n",
            "          0.7671, -1.1925,  0.6984, -1.4097,  0.1794,  1.8951,  0.4954,  0.2692],\n",
            "        [ 0.5146,  0.9938, -0.2587, -1.0826, -0.0444,  1.6236, -2.3229,  1.0878,\n",
            "          0.6716,  0.6933, -0.9487, -0.0765, -0.1526,  0.1167,  0.4403, -1.4465],\n",
            "        [ 0.2553, -0.5496,  1.0042,  0.8272, -0.3948,  0.4892, -0.2168, -1.7472,\n",
            "         -1.6025, -1.0764,  0.9031, -0.7218, -0.5951, -0.7112,  0.6230, -1.3729],\n",
            "        [-1.3250,  0.1784, -2.1338,  1.0524, -0.3885, -0.9343, -0.4991, -1.0867,\n",
            "          0.8805,  1.5542,  0.6266, -0.1755,  0.0983, -0.0935,  0.2662, -0.5850],\n",
            "        [-0.0770, -1.0205, -0.1690,  0.9178,  1.5810,  1.3010,  1.2753, -0.2010,\n",
            "          0.4965, -1.5723,  0.9666, -1.1481, -1.1589,  0.3255, -0.6315, -2.8400],\n",
            "        [ 0.8768,  1.6221, -1.4779,  1.1331, -1.2203,  1.3139,  1.0533,  0.1388,\n",
            "          2.2473, -0.8036, -0.2808,  0.7697, -0.6596, -0.7979,  0.1838,  0.2293]])\n",
            "torch.Size([6, 16])\n"
          ]
        }
      ]
    },
    {
      "cell_type": "code",
      "source": [
        "torch.manual_seed(123)\n",
        "\n",
        "d = embedded_sentence.shape[1]\n",
        "\n",
        "d_q, d_k, d_v = 24, 24, 28\n",
        "\n",
        "W_query = torch.nn.Parameter(torch.rand(d_q, d))\n",
        "W_key = torch.nn.Parameter(torch.rand(d_k, d))\n",
        "W_value = torch.nn.Parameter(torch.rand(d_v, d))"
      ],
      "metadata": {
        "id": "MY6Zg8gNYNkh"
      },
      "execution_count": 4,
      "outputs": []
    },
    {
      "cell_type": "code",
      "source": [
        "x_2 = embedded_sentence[1]\n",
        "query_2 = W_query.matmul(x_2)\n",
        "key_2 = W_key.matmul(x_2)\n",
        "value_2 = W_value.matmul(x_2)\n",
        "\n",
        "print(query_2.shape)\n",
        "print(key_2.shape)\n",
        "print(value_2.shape)"
      ],
      "metadata": {
        "colab": {
          "base_uri": "https://localhost:8080/"
        },
        "id": "rnyOul3ZYaW3",
        "outputId": "d1ec44fd-9ed4-45c1-e5ab-aea64d82f4a8"
      },
      "execution_count": 5,
      "outputs": [
        {
          "output_type": "stream",
          "name": "stdout",
          "text": [
            "torch.Size([24])\n",
            "torch.Size([24])\n",
            "torch.Size([28])\n"
          ]
        }
      ]
    },
    {
      "cell_type": "code",
      "source": [
        "keys = W_key.matmul(embedded_sentence.T).T\n",
        "values = W_value.matmul(embedded_sentence.T).T\n",
        "\n",
        "print(\"keys.shape:\", keys.shape)\n",
        "print(\"values.shape:\", values.shape)"
      ],
      "metadata": {
        "colab": {
          "base_uri": "https://localhost:8080/"
        },
        "id": "_6ZmcUbPYdDi",
        "outputId": "b423da1e-5e45-4f8d-fb4e-e1d74850f1b5"
      },
      "execution_count": 6,
      "outputs": [
        {
          "output_type": "stream",
          "name": "stdout",
          "text": [
            "keys.shape: torch.Size([6, 24])\n",
            "values.shape: torch.Size([6, 28])\n"
          ]
        }
      ]
    },
    {
      "cell_type": "code",
      "source": [
        "omega_24 = query_2.dot(keys[4])\n",
        "print(omega_24)"
      ],
      "metadata": {
        "colab": {
          "base_uri": "https://localhost:8080/"
        },
        "id": "fu_dxGgMYf70",
        "outputId": "39d32d4f-10c0-4d28-baa1-6feabbd1cc96"
      },
      "execution_count": 7,
      "outputs": [
        {
          "output_type": "stream",
          "name": "stdout",
          "text": [
            "tensor(11.1466, grad_fn=<DotBackward0>)\n"
          ]
        }
      ]
    },
    {
      "cell_type": "code",
      "source": [
        "omega_2 = query_2.matmul(keys.T)\n",
        "print(omega_2)"
      ],
      "metadata": {
        "colab": {
          "base_uri": "https://localhost:8080/"
        },
        "id": "AHFTBUasYibD",
        "outputId": "bfc1cdf0-3a8a-4483-a7c6-3b6d92421345"
      },
      "execution_count": 8,
      "outputs": [
        {
          "output_type": "stream",
          "name": "stdout",
          "text": [
            "tensor([ 8.5808, -7.6597,  3.2558,  1.0395, 11.1466, -0.4800],\n",
            "       grad_fn=<SqueezeBackward4>)\n"
          ]
        }
      ]
    },
    {
      "cell_type": "code",
      "source": [
        "import torch.nn.functional as F\n",
        "\n",
        "attention_weights_2 = F.softmax(omega_2 / d_k**0.5, dim=0)\n",
        "print(attention_weights_2)"
      ],
      "metadata": {
        "colab": {
          "base_uri": "https://localhost:8080/"
        },
        "id": "QrC-E7tnYklx",
        "outputId": "fc97d7b8-c00c-410d-fae6-d05fcc4cfe5b"
      },
      "execution_count": 9,
      "outputs": [
        {
          "output_type": "stream",
          "name": "stdout",
          "text": [
            "tensor([0.2912, 0.0106, 0.0982, 0.0625, 0.4917, 0.0458],\n",
            "       grad_fn=<SoftmaxBackward0>)\n"
          ]
        }
      ]
    },
    {
      "cell_type": "code",
      "source": [
        "context_vector_2 = attention_weights_2.matmul(values)\n",
        "\n",
        "print(context_vector_2.shape)\n",
        "print(context_vector_2)"
      ],
      "metadata": {
        "colab": {
          "base_uri": "https://localhost:8080/"
        },
        "id": "RplkAm_mYnOy",
        "outputId": "1196e9a0-8a86-48b8-802d-4f0894b2f724"
      },
      "execution_count": 10,
      "outputs": [
        {
          "output_type": "stream",
          "name": "stdout",
          "text": [
            "torch.Size([28])\n",
            "tensor([-1.5993,  0.0156,  1.2670,  0.0032, -0.6460, -1.1407, -0.4908, -1.4632,\n",
            "         0.4747,  1.1926,  0.4506, -0.7110,  0.0602,  0.7125, -0.1628, -2.0184,\n",
            "         0.3838, -2.1188, -0.8136, -1.5694,  0.7934, -0.2911, -1.3640, -0.2366,\n",
            "        -0.9564, -0.5265,  0.0624,  1.7084], grad_fn=<SqueezeBackward4>)\n"
          ]
        }
      ]
    },
    {
      "cell_type": "code",
      "source": [
        "h = 3\n",
        "multihead_W_query = torch.nn.Parameter(torch.rand(h, d_q, d))\n",
        "multihead_W_key = torch.nn.Parameter(torch.rand(h, d_k, d))\n",
        "multihead_W_value = torch.nn.Parameter(torch.rand(h, d_v, d))"
      ],
      "metadata": {
        "id": "YzERsKtyYpu3"
      },
      "execution_count": 11,
      "outputs": []
    },
    {
      "cell_type": "code",
      "source": [
        "multihead_query_2 = multihead_W_query.matmul(x_2)\n",
        "print(multihead_query_2.shape)"
      ],
      "metadata": {
        "colab": {
          "base_uri": "https://localhost:8080/"
        },
        "id": "GyqCqMjFYtd_",
        "outputId": "65c3c46f-4726-4a6e-8ed3-0433ff36d226"
      },
      "execution_count": 12,
      "outputs": [
        {
          "output_type": "stream",
          "name": "stdout",
          "text": [
            "torch.Size([3, 24])\n"
          ]
        }
      ]
    },
    {
      "cell_type": "code",
      "source": [
        "multihead_key_2 = multihead_W_key.matmul(x_2)\n",
        "multihead_value_2 = multihead_W_value.matmul(x_2)"
      ],
      "metadata": {
        "id": "kGvHBH8LYv1a"
      },
      "execution_count": 13,
      "outputs": []
    },
    {
      "cell_type": "code",
      "source": [
        "stacked_inputs = embedded_sentence.T.repeat(3, 1, 1)\n",
        "print(stacked_inputs.shape)"
      ],
      "metadata": {
        "colab": {
          "base_uri": "https://localhost:8080/"
        },
        "id": "YetpE1LDYyYw",
        "outputId": "5691efa9-8869-4a85-f9c3-c0242de5588d"
      },
      "execution_count": 14,
      "outputs": [
        {
          "output_type": "stream",
          "name": "stdout",
          "text": [
            "torch.Size([3, 16, 6])\n"
          ]
        }
      ]
    },
    {
      "cell_type": "code",
      "source": [
        "multihead_keys = torch.bmm(multihead_W_key, stacked_inputs)\n",
        "multihead_values = torch.bmm(multihead_W_value, stacked_inputs)\n",
        "print(\"multihead_keys.shape:\", multihead_keys.shape)\n",
        "print(\"multihead_values.shape:\", multihead_values.shape)"
      ],
      "metadata": {
        "colab": {
          "base_uri": "https://localhost:8080/"
        },
        "id": "vqAuIIE-b8wn",
        "outputId": "0600c3d5-4764-4194-fe41-3b3677a8d7f6"
      },
      "execution_count": 15,
      "outputs": [
        {
          "output_type": "stream",
          "name": "stdout",
          "text": [
            "multihead_keys.shape: torch.Size([3, 24, 6])\n",
            "multihead_values.shape: torch.Size([3, 28, 6])\n"
          ]
        }
      ]
    },
    {
      "cell_type": "code",
      "source": [
        "multihead_keys = multihead_keys.permute(0, 2, 1)\n",
        "multihead_values = multihead_values.permute(0, 2, 1)\n",
        "print(\"multihead_keys.shape:\", multihead_keys.shape)\n",
        "print(\"multihead_values.shape:\", multihead_values.shape)"
      ],
      "metadata": {
        "colab": {
          "base_uri": "https://localhost:8080/"
        },
        "id": "IpLm5KMAb_Cn",
        "outputId": "4b1e2cef-9a5c-4332-dc62-93fd11b991c9"
      },
      "execution_count": 16,
      "outputs": [
        {
          "output_type": "stream",
          "name": "stdout",
          "text": [
            "multihead_keys.shape: torch.Size([3, 6, 24])\n",
            "multihead_values.shape: torch.Size([3, 6, 28])\n"
          ]
        }
      ]
    },
    {
      "cell_type": "code",
      "source": [
        "torch.manual_seed(123)\n",
        "\n",
        "d = embedded_sentence.shape[1]\n",
        "print(\"embedded_sentence.shape:\", embedded_sentence.shape[:])\n",
        "\n",
        "d_q, d_k, d_v = 24, 24, 28\n",
        "\n",
        "W_query = torch.rand(d_q, d)\n",
        "W_key = torch.rand(d_k, d)\n",
        "W_value = torch.rand(d_v, d)\n",
        "\n",
        "x_2 = embedded_sentence[1]\n",
        "query_2 = W_query.matmul(x_2)\n",
        "print(\"query.shape\", query_2.shape)\n",
        "\n",
        "keys = W_key.matmul(embedded_sentence.T).T\n",
        "values = W_value.matmul(embedded_sentence.T).T\n",
        "\n",
        "print(\"keys.shape:\", keys.shape)\n",
        "print(\"values.shape:\", values.shape)"
      ],
      "metadata": {
        "colab": {
          "base_uri": "https://localhost:8080/"
        },
        "id": "2M_CkTFMcBoD",
        "outputId": "8146c978-e4b5-429b-fb22-9350e9faa5b5"
      },
      "execution_count": 19,
      "outputs": [
        {
          "output_type": "stream",
          "name": "stdout",
          "text": [
            "embedded_sentence.shape: torch.Size([6, 16])\n",
            "query.shape torch.Size([24])\n",
            "keys.shape: torch.Size([6, 24])\n",
            "values.shape: torch.Size([6, 28])\n"
          ]
        }
      ]
    },
    {
      "cell_type": "code",
      "source": [
        "embedded_sentence_2 = torch.rand(8, 16) # 2nd input sequence\n",
        "\n",
        "keys = W_key.matmul(embedded_sentence_2.T).T\n",
        "values = W_value.matmul(embedded_sentence_2.T).T\n",
        "\n",
        "print(\"keys.shape:\", keys.shape)\n",
        "print(\"values.shape:\", values.shape)"
      ],
      "metadata": {
        "colab": {
          "base_uri": "https://localhost:8080/"
        },
        "id": "fUEqsDyrcHch",
        "outputId": "0ba9965c-5a4f-4cc9-c719-fe38915eab89"
      },
      "execution_count": 20,
      "outputs": [
        {
          "output_type": "stream",
          "name": "stdout",
          "text": [
            "keys.shape: torch.Size([8, 24])\n",
            "values.shape: torch.Size([8, 28])\n"
          ]
        }
      ]
    },
    {
      "cell_type": "code",
      "source": [],
      "metadata": {
        "id": "SPsC-8b-cWbZ"
      },
      "execution_count": null,
      "outputs": []
    }
  ]
}