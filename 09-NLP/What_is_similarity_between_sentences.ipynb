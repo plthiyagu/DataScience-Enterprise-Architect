{
  "cells": [
    {
      "cell_type": "markdown",
      "metadata": {
        "id": "view-in-github",
        "colab_type": "text"
      },
      "source": [
        "<a href=\"https://colab.research.google.com/github/plthiyagu/DataScience-Enterprise-Architect/blob/master/09-NLP/What_is_similarity_between_sentences.ipynb\" target=\"_parent\"><img src=\"https://colab.research.google.com/assets/colab-badge.svg\" alt=\"Open In Colab\"/></a>"
      ]
    },
    {
      "cell_type": "markdown",
      "metadata": {
        "id": "psRggLwvhi1E"
      },
      "source": [
        "In this notebook, we understand the intuition behind similarities between sentences, including dot product and cosine similarity.\n",
        "\n",
        "Read the accompanying [blog post here](https://txt.cohere.ai/similarity-between-sentences/)."
      ]
    },
    {
      "cell_type": "code",
      "execution_count": null,
      "metadata": {
        "id": "-H_N7AkCV0P-"
      },
      "outputs": [],
      "source": [
        "! pip install cohere altair > /dev/null"
      ]
    },
    {
      "cell_type": "code",
      "execution_count": null,
      "metadata": {
        "id": "Zg5H7gd7V0Mu"
      },
      "outputs": [],
      "source": [
        "import cohere\n",
        "import pandas as pd\n",
        "import numpy as np\n",
        "import altair as alt\n",
        "\n",
        "api_key = '' # Paste your API key here. Remember to not share it publicly \n",
        "co = cohere.Client(api_key)"
      ]
    },
    {
      "cell_type": "markdown",
      "metadata": {
        "id": "4_YQVuAbf3Xh"
      },
      "source": [
        "## Turn text into embeddings"
      ]
    },
    {
      "cell_type": "code",
      "source": [
        "sentence1 = np.array(co.embed([\"I like to be in my house\"]).embeddings)\n",
        "sentence2 = np.array(co.embed([\"I enjoy staying home\"]).embeddings)\n",
        "sentence3 = np.array(co.embed([\"the isotope 238u decays to 206pb\"]).embeddings)"
      ],
      "metadata": {
        "id": "6HujlbFsIZjW"
      },
      "execution_count": null,
      "outputs": []
    },
    {
      "cell_type": "code",
      "source": [
        "print(\"Embedding for sentence 1\", sentence1)\n",
        "print(\"Embedding for sentence 2\", sentence2)\n",
        "print(\"Embedding for sentence 3\", sentence3)"
      ],
      "metadata": {
        "id": "QIZoRxXVNPQY",
        "outputId": "9b73065b-098e-44e3-c21d-e30b3a0f9fe2",
        "colab": {
          "base_uri": "https://localhost:8080/"
        }
      },
      "execution_count": null,
      "outputs": [
        {
          "output_type": "stream",
          "name": "stdout",
          "text": [
            "Embedding for sentence 1 [[-1.3662109  -0.53759766  0.06109619 ...  0.60839844 -0.2902832\n",
            "   0.68408203]]\n",
            "Embedding for sentence 2 [[-0.38427734  2.3808594   2.5527344  ...  0.12353516 -0.91259766\n",
            "   0.6542969 ]]\n",
            "Embedding for sentence 3 [[-1.1621094  -1.9238281  -1.1611328  ... -2.9785156   1.5751953\n",
            "   0.15478516]]\n"
          ]
        }
      ]
    },
    {
      "cell_type": "markdown",
      "source": [
        "## Calculate dot products"
      ],
      "metadata": {
        "id": "9pR9yDy1ot17"
      }
    },
    {
      "cell_type": "code",
      "source": [
        "from numpy import dot\n",
        "print(\"Similarity between sentences 1 and 2:\", dot(sentence1[0], sentence2[0]))\n",
        "print(\"Similarity between sentences 1 and 3:\", dot(sentence1[0], sentence3[0]))\n",
        "print(\"Similarity between sentences 2 and 3:\", dot(sentence2[0], sentence3[0]))"
      ],
      "metadata": {
        "id": "8b-FViGlJQLe",
        "outputId": "9eec0fc0-2f2c-43c6-c4ac-389e9ea671ee",
        "colab": {
          "base_uri": "https://localhost:8080/"
        }
      },
      "execution_count": null,
      "outputs": [
        {
          "output_type": "stream",
          "name": "stdout",
          "text": [
            "Similarity between sentences 1 and 2: 6738.2858668486715\n",
            "Similarity between sentences 1 and 3: -122.22666955510499\n",
            "Similarity between sentences 2 and 3: -3.494608113647928\n"
          ]
        }
      ]
    },
    {
      "cell_type": "code",
      "source": [
        "print(\"Similarity between sentences 1 and 1:\", np.dot(sentence1[0], sentence1[0]))\n",
        "print(\"Similarity between sentences 2 and 2:\", np.dot(sentence2[0], sentence2[0]))\n",
        "print(\"Similarity between sentences 3 and 3:\", np.dot(sentence3[0], sentence3[0]))"
      ],
      "metadata": {
        "id": "sb-MX-MdhlPj",
        "outputId": "4437d83b-7857-4dc3-d6cc-06d32b91aeb2",
        "colab": {
          "base_uri": "https://localhost:8080/"
        }
      },
      "execution_count": null,
      "outputs": [
        {
          "output_type": "stream",
          "name": "stdout",
          "text": [
            "Similarity between sentences 1 and 1: 8709.117812702145\n",
            "Similarity between sentences 2 and 2: 8703.38120899619\n",
            "Similarity between sentences 3 and 3: 7978.303206108623\n"
          ]
        }
      ]
    },
    {
      "cell_type": "markdown",
      "source": [
        "## Calculate cosine similarities"
      ],
      "metadata": {
        "id": "DWEpWsI0o8gn"
      }
    },
    {
      "cell_type": "code",
      "source": [
        "from sklearn.metrics.pairwise import cosine_similarity\n",
        "print(\"Cosine similarity between sentences 1 and 2:\", cosine_similarity(sentence1, sentence2)[0][0])\n",
        "print(\"Cosine similarity between sentences 1 and 3:\", cosine_similarity(sentence1, sentence3)[0][0])\n",
        "print(\"Cosine similarity between sentences 2 and 3:\", cosine_similarity(sentence2, sentence3)[0][0])"
      ],
      "metadata": {
        "id": "D4ZkpwMSL_oH",
        "outputId": "08252157-d689-45af-9210-0802d2a073ed",
        "colab": {
          "base_uri": "https://localhost:8080/"
        }
      },
      "execution_count": null,
      "outputs": [
        {
          "output_type": "stream",
          "name": "stdout",
          "text": [
            "Cosine similarity between sentences 1 and 2: 0.7739596968978093\n",
            "Cosine similarity between sentences 1 and 3: -0.014663026750986932\n",
            "Cosine similarity between sentences 2 and 3: -0.00041937178612739233\n"
          ]
        }
      ]
    },
    {
      "cell_type": "code",
      "source": [
        "from sklearn.metrics.pairwise import cosine_similarity\n",
        "print(\"Cosine similarity between sentences 1 and 1:\", cosine_similarity(sentence1, sentence1)[0][0])\n",
        "print(\"Cosine similarity between sentences 2 and 2:\", cosine_similarity(sentence2, sentence2)[0][0])\n",
        "print(\"Cosine similarity between sentences 3 and 3:\", cosine_similarity(sentence3, sentence3)[0][0])"
      ],
      "metadata": {
        "id": "tZ7ls1JlkngY",
        "outputId": "8d28b53b-08f0-44dd-9498-671d1d35f27f",
        "colab": {
          "base_uri": "https://localhost:8080/"
        }
      },
      "execution_count": null,
      "outputs": [
        {
          "output_type": "stream",
          "name": "stdout",
          "text": [
            "Cosine similarity between sentences 1 and 1: 1.0000000000000009\n",
            "Cosine similarity between sentences 2 and 2: 1.0000000000000016\n",
            "Cosine similarity between sentences 3 and 3: 0.9999999999999996\n"
          ]
        }
      ]
    },
    {
      "cell_type": "code",
      "source": [
        "embeddings = [sentence1, sentence2, sentence3]\n",
        "dot_product_similarities = [[cosine_similarity(embeddings[i], embeddings[j])[0][0] for i in range(len(embeddings))] for j in range(len(embeddings))]\n",
        "ax = sns.heatmap(dot_product_similarities, vmin=0, vmax=1,\n",
        "                 linewidths=1, linecolor='grey',\n",
        "                 xticklabels=[\"I like to be in my house\", \"I enjoy staying home\", \"the isotope 238u decays to 206pb\"],\n",
        "                 yticklabels=[\"I like to be in my house\", \"I enjoy staying home\", \"the isotope 238u decays to 206pb\"],\n",
        ")\n",
        "ax.set_xticklabels(ax.get_xticklabels(), rotation=45)\n"
      ],
      "metadata": {
        "colab": {
          "base_uri": "https://localhost:8080/",
          "height": 457
        },
        "id": "sO3AxCUJq7AH",
        "outputId": "7118f5f8-7a78-4607-e31f-e08f4b23e5e3"
      },
      "execution_count": null,
      "outputs": [
        {
          "output_type": "execute_result",
          "data": {
            "text/plain": [
              "[Text(0.5, 0, 'I like to be in my house'),\n",
              " Text(1.5, 0, 'I enjoy staying home'),\n",
              " Text(2.5, 0, 'the isotope 238u decays to 206pb')]"
            ]
          },
          "metadata": {},
          "execution_count": 32
        },
        {
          "output_type": "display_data",
          "data": {
            "text/plain": [
              "<Figure size 432x288 with 2 Axes>"
            ],
            "image/png": "[encoded data removed]"
          },
          "metadata": {}
        }
      ]
    },
    {
      "cell_type": "code",
      "source": [],
      "metadata": {
        "id": "4p2TSx4VrDj0"
      },
      "execution_count": null,
      "outputs": []
    }
  ],
  "metadata": {
    "colab": {
      "provenance": [],
      "include_colab_link": true
    },
    "gpuClass": "standard",
    "kernelspec": {
      "display_name": "Python 3.10.0 64-bit ('3.10.0')",
      "language": "python",
      "name": "python3"
    },
    "language_info": {
      "name": "python",
      "version": "3.10.0"
    },
    "vscode": {
      "interpreter": {
        "hash": "1fb8019e3560b882083e525615cf48e713d3a7345a15eb723d805e91aa410aac"
      }
    }
  },
  "nbformat": 4,
  "nbformat_minor": 0
}