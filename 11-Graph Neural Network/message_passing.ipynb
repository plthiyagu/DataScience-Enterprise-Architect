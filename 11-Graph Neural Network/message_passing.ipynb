{
  "cells": [
    {
      "cell_type": "code",
      "execution_count": null,
      "metadata": {
        "id": "6EXK5UrYeqBm"
      },
      "outputs": [],
      "source": [
        "import numpy as np\n",
        "from scipy.linalg import sqrtm \n",
        "from scipy.special import softmax\n",
        "import networkx as nx\n",
        "from networkx.algorithms.community.modularity_max import greedy_modularity_communities\n",
        "import matplotlib.pyplot as plt\n",
        "from matplotlib import animation\n",
        "%matplotlib inline\n",
        "from IPython.display import HTML"
      ]
    },
    {
      "cell_type": "markdown",
      "metadata": {
        "id": "sBUNc2IceqBq"
      },
      "source": [
        "# Message Passing as Matrix Multiplication"
      ]
    },
    {
      "cell_type": "code",
      "execution_count": null,
      "metadata": {
        "id": "0eV5zfUveqBr",
        "outputId": "a81e30f8-243d-4b60-866f-00743a3b6e94"
      },
      "outputs": [
        {
          "data": {
            "text/plain": [
              "array([[0, 1, 0, 0, 0],\n",
              "       [1, 0, 1, 0, 0],\n",
              "       [0, 1, 0, 1, 1],\n",
              "       [0, 0, 1, 0, 0],\n",
              "       [0, 0, 1, 0, 0]])"
            ]
          },
          "execution_count": 5,
          "metadata": {},
          "output_type": "execute_result"
        }
      ],
      "source": [
        "A = np.array(\n",
        "    [[0, 1, 0, 0, 0], [1, 0, 1, 0, 0], [0, 1, 0, 1, 1], [0, 0, 1, 0, 0], [0, 0, 1, 0, 0]]\n",
        ")\n",
        "A"
      ]
    },
    {
      "cell_type": "code",
      "execution_count": null,
      "metadata": {
        "id": "5bQOhZAXeqBt",
        "outputId": "b26cdc02-348e-42cc-8632-13065504509f"
      },
      "outputs": [
        {
          "data": {
            "text/plain": [
              "array([[1],\n",
              "       [2],\n",
              "       [3],\n",
              "       [4],\n",
              "       [5]])"
            ]
          },
          "execution_count": 6,
          "metadata": {},
          "output_type": "execute_result"
        }
      ],
      "source": [
        "feats = np.arange(A.shape[0]).reshape((-1,1))+1\n",
        "feats"
      ]
    },
    {
      "cell_type": "code",
      "execution_count": null,
      "metadata": {
        "id": "Y-0a3gbfeqBt",
        "outputId": "847ab776-fb33-4f94-aecc-e67d41945358"
      },
      "outputs": [
        {
          "data": {
            "text/plain": [
              "array([[ 2],\n",
              "       [ 4],\n",
              "       [11],\n",
              "       [ 3],\n",
              "       [ 3]])"
            ]
          },
          "execution_count": 7,
          "metadata": {},
          "output_type": "execute_result"
        }
      ],
      "source": [
        "H = A @ feats\n",
        "H"
      ]
    },
    {
      "cell_type": "markdown",
      "metadata": {
        "id": "BnsKwtXyeqBu"
      },
      "source": [
        "## Scale neighborhood sum by neighborhood size (i.e. average values)"
      ]
    },
    {
      "cell_type": "code",
      "execution_count": null,
      "metadata": {
        "id": "CS0G_LdueqBu",
        "outputId": "7995b0df-eced-496c-9831-2865e1a44907"
      },
      "outputs": [
        {
          "data": {
            "text/plain": [
              "array([[1., 0., 0., 0., 0.],\n",
              "       [0., 2., 0., 0., 0.],\n",
              "       [0., 0., 3., 0., 0.],\n",
              "       [0., 0., 0., 1., 0.],\n",
              "       [0., 0., 0., 0., 1.]])"
            ]
          },
          "execution_count": 8,
          "metadata": {},
          "output_type": "execute_result"
        }
      ],
      "source": [
        "D = np.zeros(A.shape)\n",
        "np.fill_diagonal(D, A.sum(axis=0))\n",
        "D"
      ]
    },
    {
      "cell_type": "code",
      "execution_count": null,
      "metadata": {
        "id": "geeH7eufeqBv",
        "outputId": "2bd28e7d-89c2-4070-8b5c-2a24abbb25e6"
      },
      "outputs": [
        {
          "data": {
            "text/plain": [
              "array([[1.        , 0.        , 0.        , 0.        , 0.        ],\n",
              "       [0.        , 0.5       , 0.        , 0.        , 0.        ],\n",
              "       [0.        , 0.        , 0.33333333, 0.        , 0.        ],\n",
              "       [0.        , 0.        , 0.        , 1.        , 0.        ],\n",
              "       [0.        , 0.        , 0.        , 0.        , 1.        ]])"
            ]
          },
          "execution_count": 9,
          "metadata": {},
          "output_type": "execute_result"
        }
      ],
      "source": [
        "D_inv = np.linalg.inv(D)\n",
        "D_inv"
      ]
    },
    {
      "cell_type": "code",
      "execution_count": null,
      "metadata": {
        "id": "5CJL0lzYeqBw",
        "outputId": "2c670fb7-a7fa-4eef-f77c-1690647bafa1"
      },
      "outputs": [
        {
          "data": {
            "text/plain": [
              "array([[0.        , 1.        , 0.        , 0.        , 0.        ],\n",
              "       [0.5       , 0.        , 0.5       , 0.        , 0.        ],\n",
              "       [0.        , 0.33333333, 0.        , 0.33333333, 0.33333333],\n",
              "       [0.        , 0.        , 1.        , 0.        , 0.        ],\n",
              "       [0.        , 0.        , 1.        , 0.        , 0.        ]])"
            ]
          },
          "execution_count": 10,
          "metadata": {},
          "output_type": "execute_result"
        }
      ],
      "source": [
        "D_inv @ A "
      ]
    },
    {
      "cell_type": "code",
      "execution_count": null,
      "metadata": {
        "id": "fGn3hUPreqBx",
        "outputId": "461d9699-0b51-43ad-d7e7-754105d75101"
      },
      "outputs": [
        {
          "data": {
            "text/plain": [
              "array([[2.        ],\n",
              "       [2.        ],\n",
              "       [3.66666667],\n",
              "       [3.        ],\n",
              "       [3.        ]])"
            ]
          },
          "execution_count": 11,
          "metadata": {},
          "output_type": "execute_result"
        }
      ],
      "source": [
        "H_avg = D_inv @ A @ feats\n",
        "H_avg"
      ]
    },
    {
      "cell_type": "markdown",
      "metadata": {
        "id": "mqV_3MX8eqBx"
      },
      "source": [
        "## Normalized Adjacency Matrix\n",
        "Ultimately want to define and build:\n",
        "\n",
        "$$ \\hat{A} = \\tilde{D}^{-\\frac{1}{2}} \\tilde{A} \\tilde{D}^{-\\frac{1}{2}} $$\n"
      ]
    },
    {
      "cell_type": "markdown",
      "metadata": {
        "id": "C24eRwEVeqBy"
      },
      "source": [
        "First, create $\\tilde{A}$:\n",
        "$$ \\tilde{A} = A + I $$"
      ]
    },
    {
      "cell_type": "code",
      "execution_count": null,
      "metadata": {
        "id": "cYS5yAwjeqBy"
      },
      "outputs": [],
      "source": [
        "g = nx.from_numpy_array(A)\n",
        "A_mod = A + np.eye(g.number_of_nodes())"
      ]
    },
    {
      "cell_type": "markdown",
      "metadata": {
        "id": "NK58BzEHeqBy"
      },
      "source": [
        "Then create $ \\tilde{D}^{-\\frac{1}{2}} $, where $D$ is the diagonal degree matrix:\n",
        "\n",
        "$$ (D)_{ij} = \\delta_{i,j} \\sum_k A_{i,k} $$"
      ]
    },
    {
      "cell_type": "code",
      "execution_count": null,
      "metadata": {
        "id": "27N5q0Y_eqBz"
      },
      "outputs": [],
      "source": [
        "# D for A_mod:\n",
        "D_mod = np.zeros_like(A_mod)\n",
        "np.fill_diagonal(D_mod, A_mod.sum(axis=1).flatten())\n",
        "\n",
        "# Inverse square root of D:\n",
        "D_mod_invroot = np.linalg.inv(sqrtm(D_mod))"
      ]
    },
    {
      "cell_type": "code",
      "execution_count": null,
      "metadata": {
        "id": "P4fgZfZGeqBz",
        "outputId": "df9aad8c-add5-47d2-8047-03e237c03c28"
      },
      "outputs": [
        {
          "data": {
            "text/plain": [
              "array([[2., 0., 0., 0., 0.],\n",
              "       [0., 3., 0., 0., 0.],\n",
              "       [0., 0., 4., 0., 0.],\n",
              "       [0., 0., 0., 2., 0.],\n",
              "       [0., 0., 0., 0., 2.]])"
            ]
          },
          "execution_count": 14,
          "metadata": {},
          "output_type": "execute_result"
        }
      ],
      "source": [
        "D_mod"
      ]
    },
    {
      "cell_type": "code",
      "execution_count": null,
      "metadata": {
        "id": "j02wexIbeqBz",
        "outputId": "2decc97c-c7a0-46f1-8649-eb5d6f6227a1"
      },
      "outputs": [
        {
          "data": {
            "text/plain": [
              "array([[0.70710678, 0.        , 0.        , 0.        , 0.        ],\n",
              "       [0.        , 0.57735027, 0.        , 0.        , 0.        ],\n",
              "       [0.        , 0.        , 0.5       , 0.        , 0.        ],\n",
              "       [0.        , 0.        , 0.        , 0.70710678, 0.        ],\n",
              "       [0.        , 0.        , 0.        , 0.        , 0.70710678]])"
            ]
          },
          "execution_count": 15,
          "metadata": {},
          "output_type": "execute_result"
        }
      ],
      "source": [
        "D_mod_invroot"
      ]
    },
    {
      "cell_type": "markdown",
      "metadata": {
        "id": "7MMXJp8LeqB0"
      },
      "source": [
        "I.e.: $\\frac{1}{\\sqrt{2}}$, $\\frac{1}{\\sqrt{3}}$, $\\frac{1}{\\sqrt{4}}$, ...etc"
      ]
    },
    {
      "cell_type": "code",
      "execution_count": null,
      "metadata": {
        "id": "1yPY7wteeqB0"
      },
      "outputs": [],
      "source": [
        "node_labels = {i: i+1 for i in range(g.number_of_nodes())}\n",
        "pos = nx.planar_layout(g)"
      ]
    },
    {
      "cell_type": "code",
      "execution_count": null,
      "metadata": {
        "id": "cufFIkLIeqB0",
        "outputId": "2099c812-93e2-4e51-a1ae-79a6cab0a5a2"
      },
      "outputs": [
        {
          "data": {
            "image/png": "[encoded data removed]",
            "text/plain": [
              "<Figure size 720x720 with 1 Axes>"
            ]
          },
          "metadata": {},
          "output_type": "display_data"
        }
      ],
      "source": [
        "fig, ax = plt.subplots(figsize=(10,10))\n",
        "nx.draw(\n",
        "    g, pos, with_labels=True, \n",
        "    labels=node_labels, \n",
        "    node_color='#83C167', \n",
        "    ax=ax, edge_color='gray', node_size=1500, font_size=30, font_family='serif'\n",
        ")\n",
        "plt.savefig('simple_graph.png', bbox_inches='tight', transparent=True)"
      ]
    },
    {
      "cell_type": "code",
      "execution_count": null,
      "metadata": {
        "id": "l-imRZuMeqB3",
        "outputId": "4e7088d5-afeb-4fb5-ee51-b62ccd532095"
      },
      "outputs": [
        {
          "data": {
            "text/plain": [
              "{0: array([-0.875, -0.375]),\n",
              " 1: array([ 1.   , -0.375]),\n",
              " 2: array([0.375, 0.25 ]),\n",
              " 3: array([-0.5625, -0.0625]),\n",
              " 4: array([0.0625, 0.5625])}"
            ]
          },
          "execution_count": 40,
          "metadata": {},
          "output_type": "execute_result"
        }
      ],
      "source": [
        "pos"
      ]
    },
    {
      "cell_type": "markdown",
      "metadata": {
        "id": "LH6UZBIceqB3"
      },
      "source": [
        "Create $\\hat{A}$:\n",
        "\n",
        "$$ \\hat{A} = \\tilde{D}^{-\\frac{1}{2}} \\tilde{A} \\tilde{D}^{-\\frac{1}{2}} $$\n",
        "\n",
        "$$ (\\hat{A})_{i,j} = \\frac{\\tilde{A}_{i,j}}{\\sqrt{\\tilde{d_i} \\tilde{d_j}}} $$"
      ]
    },
    {
      "cell_type": "code",
      "execution_count": null,
      "metadata": {
        "id": "yAM8vAjaeqB4"
      },
      "outputs": [],
      "source": [
        "A_hat = D_mod_invroot @ A_mod @ D_mod_invroot"
      ]
    },
    {
      "cell_type": "markdown",
      "metadata": {
        "id": "bHNLghYKeqB4"
      },
      "source": [
        "# Water drop "
      ]
    },
    {
      "cell_type": "code",
      "execution_count": null,
      "metadata": {
        "id": "Ub2WkIgKeqB4"
      },
      "outputs": [],
      "source": [
        "H = np.zeros((g.number_of_nodes(), 1))\n",
        "H[0,0] = 1 # the \"water drop\"\n",
        "iters = 10\n",
        "results = [H.flatten()]\n",
        "for i in range(iters):\n",
        "    H = A_hat @ H\n",
        "    results.append(H.flatten())"
      ]
    },
    {
      "cell_type": "code",
      "execution_count": null,
      "metadata": {
        "id": "GsrYDWx6eqB5",
        "outputId": "b2f6b008-a654-4a02-823d-fdabfeeab0ec"
      },
      "outputs": [
        {
          "name": "stdout",
          "output_type": "stream",
          "text": [
            "Initial signal input: [1. 0. 0. 0. 0.]\n",
            "Final signal output after running 10 steps of message-passing:  [0.18381719 0.20791335 0.20436693 0.13626176 0.13626176]\n"
          ]
        }
      ],
      "source": [
        "print(f\"Initial signal input: {results[0]}\")\n",
        "print(f\"Final signal output after running {iters} steps of message-passing:  {results[-1]}\")"
      ]
    },
    {
      "cell_type": "code",
      "execution_count": null,
      "metadata": {
        "id": "3F8jn26TeqB5",
        "outputId": "08e0edb1-66bb-4150-8103-17e3152435ed"
      },
      "outputs": [
        {
          "data": {
            "image/png": "[encoded data removed]",
            "text/plain": [
              "<Figure size 720x720 with 1 Axes>"
            ]
          },
          "metadata": {},
          "output_type": "display_data"
        }
      ],
      "source": [
        "fig, ax = plt.subplots(figsize=(10, 10))\n",
        "\n",
        "kwargs = {'cmap': 'hot', 'node_size': 1500, 'edge_color': 'gray', \n",
        "          'vmin': np.array(results).min(), 'vmax': np.array(results).max()*1.1}\n",
        "\n",
        "def update(idx):\n",
        "    ax.clear()\n",
        "    colors = results[idx]\n",
        "    nx.draw(g, pos, node_color=colors, ax=ax, **kwargs)\n",
        "    ax.set_title(f\"Iter={idx}\", fontsize=20)\n",
        "\n",
        "anim = animation.FuncAnimation(fig, update, frames=len(results), interval=1000, repeat=True)"
      ]
    },
    {
      "cell_type": "code",
      "execution_count": null,
      "metadata": {
        "id": "QeVys3iqeqB5"
      },
      "outputs": [],
      "source": [
        "anim.save(\n",
        "    'water_drop.mp4', \n",
        "    dpi=600, bitrate=-1,\n",
        "    savefig_kwargs={'transparent': True, 'facecolor': 'none'},\n",
        ")"
      ]
    },
    {
      "cell_type": "code",
      "execution_count": null,
      "metadata": {
        "id": "gnj7uKHleqB6",
        "outputId": "4188ce1f-53d3-4f7b-cf47-877ee7b5a3e4"
      },
      "outputs": [
        {
          "data": {
            "text/html": [
              "<video width=\"720\" height=\"720\" controls autoplay loop>\n",
              "  <source type=\"video/mp4\" src=\"data:video/mp4;base64,AAAAHGZ0eXBNNFYgAAACAGlzb21pc28yYXZjMQAAAAhmcmVlAAAzKG1kYXQAAAKtBgX//6ncRem9\n",
              "5tlIt5Ys2CDZI+7veDI2NCAtIGNvcmUgMTU1IHIyOTE3IDBhODRkOTggLSBILjI2NC9NUEVHLTQg\n",
              "QVZDIGNvZGVjIC0gQ29weWxlZnQgMjAwMy0yMDE4IC0gaHR0cDovL3d3dy52aWRlb2xhbi5vcmcv\n",
              "eDI2NC5odG1sIC0gb3B0aW9uczogY2FiYWM9MSByZWY9MyBkZWJsb2NrPTE6MDowIGFuYWx5c2U9\n",
              "MHgzOjB4MTEzIG1lPWhleCBzdWJtZT03IHBzeT0xIHBzeV9yZD0xLjAwOjAuMDAgbWl4ZWRfcmVm\n",
              "PTEgbWVfcmFuZ2U9MTYgY2hyb21hX21lPTEgdHJlbGxpcz0xIDh4OGRjdD0xIGNxbT0wIGRlYWR6\n",
              "b25lPTIxLDExIGZhc3RfcHNraXA9MSBjaHJvbWFfcXBfb2Zmc2V0PS0yIHRocmVhZHM9NiBsb29r\n",
              "YWhlYWRfdGhyZWFkcz0xIHNsaWNlZF90aHJlYWRzPTAgbnI9MCBkZWNpbWF0ZT0xIGludGVybGFj\n",
              "ZWQ9MCBibHVyYXlfY29tcGF0PTAgY29uc3RyYWluZWRfaW50cmE9MCBiZnJhbWVzPTMgYl9weXJh\n",
              "bWlkPTIgYl9hZGFwdD0xIGJfYmlhcz0wIGRpcmVjdD0xIHdlaWdodGI9MSBvcGVuX2dvcD0wIHdl\n",
              "aWdodHA9MiBrZXlpbnQ9MjUwIGtleWludF9taW49MSBzY2VuZWN1dD00MCBpbnRyYV9yZWZyZXNo\n",
              "PTAgcmNfbG9va2FoZWFkPTQwIHJjPWNyZiBtYnRyZWU9MSBjcmY9MjMuMCBxY29tcD0wLjYwIHFw\n",
              "bWluPTAgcXBtYXg9NjkgcXBzdGVwPTQgaXBfcmF0aW89MS40MCBhcT0xOjEuMDAAgAAAFThliIQA\n",
              "F//+99S3zLLtU2+2C6j3op4mX0N1JQGblsTtOoAAAAMAAAMAAAMA6VSCY3zuANGMtAAAAwBTwAqY\n",
              "FysS1LS+KwbwAEJdNUDojuuZhVS+tJJUdPtzlgAkA6z9wpTqWiGnZpn/L2+JSVqn2Is/JE+B4B5O\n",
              "qxfG234gqjxps7qCbwP56q1HFihhMLBC06W0ZDja6Ohuq+JjeWmZJoYW+JoHjlCZp01c6c3wTvEa\n",
              "hZZQ47MKIrVJctQ2cui0NjbDnfll0Yqy3bIMcYh0Z1VzgMU+DNlIwtOyM48w22QHVXycMozu/VAN\n",
              "1eDecN7qGzfMkWYA4HeYCDsaR/5GYPSGPRMHn0SRE7tArLSpNQX5Upph0wZ7oC2q93re4PYO6Xio\n",
              "LJReT8yIWlCOLx1dABs6l6BuxPWcx+KcPx7lFlkw08RFjDuWFQ7Yids6LkvM1wBSGcB5rnHeKmBL\n",
              "8HI+puGLigdCa24FHXHGjlctcxJnyhAWxSsdCKfYREBnOt7qhnHmBVuMUw8AUtBKD3F+pa0+vvKB\n",
              "Kyjd78CtYPOtYEFI52ndEBNoMGNarmE2to54dT3dJ7/P61eshnglGtoG9GsN/BXy7Zsg+ktm0u0U\n",
              "EAYAExOc8qRS18SxGoVXYaPShhTsrM2r3ym8NNEiwaIpi/JtQrRUagIkfg/I8Qx0O0l1/6bjotQp\n",
              "6S+IIakC5h/euPoku3ezDzMTuJ8tuxVA9IUkpCGlZxOE3pdpKv8X5K+6m4fTws+3ERD30wu3eJaT\n",
              "B05oqzubHEWviUC8iOkfN3jhEIRrQ1aIqYQIUB1VdBElcjmIJNHuX/9OhW21GHxUWl0YJYOpTrJl\n",
              "DpS4gNZ+p+b9i/R0OCN4TEmaSJcl8OuVUOQ8qfqny6jRTx/EAVFe+PN/oYDEA8DsX0cMCGGqglm4\n",
              "WOYgHwgGTfSGPu7e/QsEYADiQn8zO6kimGHL1Fe0YgDz8GMfkNbjXFopjyfAR7tRhpvBZ+2fHmGG\n",
              "UpTQYYEBmlbFBV0KCKenMh3L6wreY8GjMgFdGYXShM783Am+AdaOX4wIZW+dbEQwxUUHDKacTtaK\n",
              "XL7KqIw8NRDo9ToU17W6B8SozJD6kAcPXQqXds1XITRZ/iOHqnc5ELr/vZLepVRWKm0clMOjQWE6\n",
              "vQyUcPoUCDg25tQwPSvUcF4E9sMSjouR/SsDFOunauCXnAIiKk53FdgMX5X6UIUILhRdzB55UsYG\n",
              "dSJ013ITrTpSA+FvEhOkaMPalX630WwFf1dvh16M1gq6Scscr4qCuQzwStL9SL16Dov/IzmGNk8l\n",
              "2Z/fDvBycjLx2j5z+TLrVEh/jodeFyX/FsKAnRgZfybHpKsIorsX0KZ801kUIg9cKwtlVBvW6L7h\n",
              "LYcw2EQq9yOTKCUINK0jurMBlGuCZSnm4DMrcyf9RDde3BmlMig1ut2siamh73WO1pCigPvLCi0y\n",
              "Jf+kSvdi/IBJ8E558/GNXePGgSQnz3cp+pl9eoze7OAdKUrTXNKgDV7VCw9At5oJdUQtZjMEtN66\n",
              "pw6GwazrJjyLdcU0dHHTWHMeO3TCJsVsssIbahOaRBqNvlB3sWIKq6Q3Q9ZfwvI9QER2eEcQMsZj\n",
              "uZHKAkjCg1d9LONUCNC20QMjhPjPZzr9OP9cjioSAYrneduCBJv4/UPzEHs/lTJybpE92o77TO97\n",
              "cZ4nTCaj7tzJPPdmv1CteTr6zMxZE3cbaZCvtmzF6g5xcQZ//DwRR2bayZz4aau+q0r+W/tFUl9n\n",
              "iH3egCNK0ZdD+Zw8L7lgiDiKAN58ZSAzfgR/7dltvQKQuexqwaqQCnRcMLt5wuYN8X8zZvu5Yfsf\n",
              "zMP0aKwxOOkDtxV4onp+VrTMMrR1N4fxiU9luZFh3M8oOq8/yKV4Xt8pg9kOIaTZoAv0I+sM5uPc\n",
              "9G7Ufux9C7ltl7TFd+8uVkvvowvYEzA74VvAghaBVEZCnCkref2+gAAPwKJrlYgB60UKT9m302QR\n",
              "OB758eRIQgww4qSlxZzpn8z2JDgyV+pRa+B0DNaQ4EJI7kNrpsqD3opAxCGNTg+qW9NQGdwneRFW\n",
              "GKaxz5kWyPrwdPepb1TdpgPtxKpmfqfcgxuroGMD7i/8EkMwvLYS2QUHxLvJcpBaYhJ/xHQFPCOs\n",
              "2sjWGERjhgWdenKdNqy1Jv3qWhBOy/vLnCDSNsAZPj0OzrJGuY6ACDyEqIsxett3dFnv+ZnTMHRn\n",
              "hxwv9gaDD02XvIymyLoupDsN1Wyc4lF4f2H+CJOuxYCEG420C6n6V0ECFNsG8rP4TcLjhb13SWae\n",
              "RMZYRx5MExe0ZC2ekKRchkkvKtIFU45CtaDaZZfB1XMyaISGMkyjHPmZzSAApcgqBGIwFalv6TrD\n",
              "98m2FrycJaNBLnK1K/YdZEPdpGxDyn28XHeEtaRjvcMv94e8xWMIIQkFDYqBBnBGYiHcTAfayXee\n",
              "nEe4QRsTLeoouZBOkyCFwrCh0HMpoYRgF6nDsW0r3KiQVkjdjr6FFG+LgKkMEZlwKh/plFUmoHOu\n",
              "gjGW/KpQGEBL3TlEXvG4VK6g6cRUxMRY7CNcWmhn3yicWuptdFzkVdgLT20utdtTMyTy5bhab1as\n",
              "E3u1NAYMVew5NNpfE5b2+4aL51XlaGfwQrmTdddpfhoaeTx0hC/bUsZv/HnsJ4kZQIqEu/pt2eA/\n",
              "jTG+V/YzEEAkiAl9eFdyRAjrtgEJ5FKx04JEUlr4LgGAnl2GABpBXz0b0ihiZlS2E0AAmQxNuOz8\n",
              "GlYXsQTs1IOwOLtlca3nnxV/yQETkkvjKEt4l2t3/bG2PX5oQrzKdcf/l5efSskhVYJw0ccULqzf\n",
              "0vxct0MUIxLelzCGmfvIzGTnqaItVI2odHEG+ZpOddBxGCIvkijsarIfVLvfq0Ox9y7PRTlWenzp\n",
              "itfNcpT/Pxb94QgMS4VfC9zQl5AQgmpv7xzK1HWFLj5usxH3YIznGghoqL2T0pDWuQqyAtcyAjTX\n",
              "x+tAn8mpaEcdPc6jtdDMz8qjZde8W5wVbblrTTXhbsFx9bM7aC60ABYkfqzjFWQQVGW/aR73kJyu\n",
              "ucQXGOX7V4fs9yqgbfZzw6jZpxsyRDO5Umt124klNQe4YnE904+92f3ES5JPSHThX2XSlM4cvCtX\n",
              "uFr9hWdN10z9qP6dwEycUvIlLED+RruiOjqppuu03kqZsL9fWvjzEo8TtFQFUy39gqHxoGYFHCnT\n",
              "dQa2t1ePas69I68WVAMtsERa8d2S+jCvuf9RDLcweWTSpZtjpYTCSSeGz9txuJPLO5Upqg0PLt9s\n",
              "Y/UEjjovuNtA/Zs+Rv+yxYEqacoVntkOz7QWgA0qkFl4JLqTioCDwJk3NQgzMMgPV3X1ve/eMZHR\n",
              "BZ4tCdoneLBDZ2QN01f3OyrB63dPGaUVJud1/3IGGj73qHYseFTFQaKnTudFOYtZmr+HDSjPTmxq\n",
              "3JH19DHB2QyNscsER/Sq5JtyF6V3ziy5d7zU0EHRHhkCwWoWxvB76O5fbPCk17/mRDDFD7LWK6mF\n",
              "6S+39GJZ/qAMzYmE18iV6VKhZG3uDM3VdD9KiX8f6wOgXDakAZLhQYFYWcf0qie473SPrS+SytW3\n",
              "Ug2kWXKDijSwBFVFn9UJBMibhD/4F7xSWzvAMbfRMbEHbU2XATCJy7grgasBerU2oWz73WFF9OcF\n",
              "cwOO2ZWvV5JHB35gGGfqT3UBayKFRf9kc6wDmxdRR1eq9GkLWyMh/7Ev7QEIbsLDnMPBHGrnt1mA\n",
              "UCyczkkcEshbZu0/Jvb4xKtzZd3zbqxLdrQfJUzeacUhVCPaYmb518vCy6zv14aSuj/hkG77wDsK\n",
              "uCvVj/hVX7wM8bJx/Mnixp/wpGR4n3eK4EmaPDoF/zoV86p/7LZv1tO/xcAL1t5Wa2SGwOICTnVq\n",
              "gsEpvspBh4K0KWl6ecLS4IxyW0/oXIL0+/LdknaLyb0Rz97Okdwh8zs1ka/IHaVsHp9+gNh26k6U\n",
              "VYv6lMZlw5WXjWsi+HaBbW56i2bYsRgF8oaVKKNHNPDTkVDzswkaerMRQ3sRuv6z9Q52NGCYFhUZ\n",
              "6Lh/PpGEcoE607csHgaN+OgXmvTTINwKrrqWtFRFD30HTu5kPAglrr/mHSYonhh0Yj2bjeIzXonM\n",
              "AuBUWOCeb2CfOH+mP+SZWPVeis6VOPIq9iIygZi8E1xr3dL/UbDDBIAJIOiQzPKhQp+NkSpHktrt\n",
              "9omqp90gVEist4S1mtu7GOfki9z2zNLw8Cq+KWQKvfEw7p+JGdnOiDjtY2/Ehg1O8OvElGy2F12P\n",
              "AV0vRTHaBE6PW6DHM6izGkt5a4WpSwbaDOOzHknu6IFWsrzRosLcCQg6fgTTGRIHT4B7xSLyCRhq\n",
              "vSx0tL4vtumXCJ8CJ6AdwjaMqlaNJJpgSG1g/7ijHwVS9zpwmz3sNkygWsnyHnXuzGLm2fYLuKk9\n",
              "PkdRP3U5F/GJzMtApsM5LpMYIVsF6lHQejCePZdV27nmLNDVuwb7A1TYIPFt3Gu6VJbIluy+ZQss\n",
              "c+wHHpnowGeTZpBIJmEpElXLWZpWWZZQQM1CoobUZkZz5/WGoSr8CqIBw5C7z7wZuxXIH8/BLmYj\n",
              "rSyw+btiqmh0T8vd9X1CpPNmzdugAIt0kWdaGIzKA9/LYH6eWaFQvoDS58Ybq2QTZ3qDCPWo0yf1\n",
              "dyqRlsIO3k5dXgwYZYbnLAaZh82u4zpYGiNrPrBKnuhzvi+Mrt8xmthKH779iP1acJSvRYlfOdP5\n",
              "VSdq/YrZzSfjACdvmp0/qnjPczAGiBrmYYwNaG30LzUKT3p8ehx7SXmIVCAPjnGL51qNAM2r5M1A\n",
              "+n0tFwixAwTkWAwO/b3ebueVwPNQjFJlBrb7q+CmC6Ue3i2IiZdrWXy5F6bTILU4NGUZeqMHQazF\n",
              "0rvFOnMsfvHFnwfmh0IYOGLxaTn44inqq/UbEhRy7vj0ipoVNPhyebnkMY+Uif2Fq2GzWgUc5wE1\n",
              "oEPv8J/I8wlThF2GtW794kanqDEppefxDVcE3WkTK7HtFNSO8lfUEGwSzFMatgwYzmkUjk+1KsKc\n",
              "/B/2SiBMgT6AUh/Emo4+Ybani2BSvqa/SlMinu5dwts1GEfmMClL7vcz35+jighm12u/DDSN2Ml3\n",
              "GKwbUlS2hHWKrlc7nK6sBfx5AE+XtDiR2TaYKvph4UnG+4+NUFFxt1l3Wx2ncxb30SSuZhNz364a\n",
              "Ir2hEVqj3lGVa5TEnt2PV/yYiCWCYbiCPlL9WOpVEcR/NlRFPiWLzqXZ2PAs9kyxAD50ysv3ttNK\n",
              "omH5sP7XyowZoNIR7CBbfl3+en4wTTq9+Xxd6UfGBDHD+3sl7FK4tR8xWM2NUCZ87CJMN7E4lpni\n",
              "ujGNmjHz5zrGYD5/6DluKYWcqH4UWtZ8VJ2Yd0UZqLP8kBP1pEJhg6vCEdzVSKd7KX92KB2U1dgR\n",
              "Qg8OqGqj91D2ubMscGpvsNhkMTi2/m8RGDGtQF5MArFSgVODu9rwBUSHtni4n5ojgFEoUuylU1iC\n",
              "PEBWuHbXDgv5PYWgd11mPxqRPUT6v+KITMpLjdqcipPuwr/unXJVKwWabhuG5jerQ+3usY/vazZv\n",
              "lF9R9a83K5iuVG+Bl07EyG8Tzo8xqKyKALOv9M6L/9SrBMQGxliH1DmKq74L4Tpv0qYHfHtsSJri\n",
              "b+Jdh81xZHI0VtSi/VC/1HsP+PGUIwt/Rqef/v/pFiy5wMZy8AQc9EI32W+ienQSFNRpHKGgCFGy\n",
              "7kjeeqveFWAAV/Nop+tWAYE5CPR/PBezffJgSRKL0/7NOCGqGX1hTX4/hFGU1Oe+3VMB97ivuuxF\n",
              "pobTtmC6pbqf7/PUYUAFwG9Rx5hZLgQ30OxAtB23wEPdVxYywGF6GG+W5cmCUdIknpx2OYY8vmB8\n",
              "dGSpb1aCb+MdL2e5aFQm4W0vdGk54twAG/iuhdGPFPRydgtw2BrbxhcSp+hfTcJt5HcVxIGKMV4T\n",
              "GsFkTlcTFTUByOjsFhn8DFEsdE11uoLh7ex8q0WgABTRF01XktoCCIyGcQxXv5qJ0WDEt3FRRsn5\n",
              "4EvIGa1Mx+Jh8kxZcs4RUUhSpQBq6alcgFeQVGTdzsqArQLlrXD6Mi6ABrqTGJNdY4NGOOKx8pF8\n",
              "R++p/VXkceBRJkDVg8dMIxpRR2kDxMSUSD9Lixo+alw3/j+OJbrxjdW8zEaxPT0f4AF2Sl6mRKDk\n",
              "kZHRr04t2WRoLqo8Jx+gF5vGF9Vzhp+FeJHcohXyx614y0GvCYp3j6/SBufXDaWgcLK4pBAL7C1D\n",
              "TjAJVRPoP597OPKs8HUPwU1vf8NR9hTynC3w/GxD0flrn/+7ESHtp+cWt6/3r2LQdnJPDMkvJyED\n",
              "igC+1d78f6xvb7KFh1xIfQDdtvgBy7jPirlnsRQrxmbts8agCuMFx6kX7vYKW4li8LkjhJJ9Ur5k\n",
              "ZiZDIUpdbdaDLc+9zIqwqQqoKrOR87BOsUhZDWLiJispjEi4BEaBDaj1/FSvs6bhI9V4ZB4qWSDn\n",
              "lVure6aBiLRpoQK03b9I6o11TwOgrUeFPhH1lpQlYkPUs570FprLg6sucCBJOdEbUgLVCbC8O12v\n",
              "ki/uoGauTDai9mxrxVKNxkl2Rd8xAs2pL+9JNbRVtrLOwvDH49Z+4KZqYtGSzgigwf2LWNutekWm\n",
              "wSW/pIb2KjKyWYYV7M92oPSrHXuivDseFRFI9zyPsNnNPUALnWkglZIrvb15wOh6W8EKVRQPR8Kb\n",
              "ZgLwPuwlanqrq2kluBtZCERv9kPieAyofMm3EwOoMd4MoTAlUDbS6y1XvtbCjn++JZHG9U47C++O\n",
              "YgsGNDydPY1YbFkFSrgVW2tIH1GSpcpPhey14PVDMn7CWPtqI2J3i8NyyRJ53wyZAWexiiROF3j/\n",
              "mMkt1BJib0a8Q5KgyPrqQ/oiSkYvjOaD5RQ1+E0nzNufWuVPsxqX4Su9igkYM28p+pEOj323rs72\n",
              "Tp+3tmU8Xe2D1DQ8tN960LjNumRnm/hetuwbwRcL9gmV2zHQAAAKyCKPWzI4t4ooQr7o2ZgEPj2T\n",
              "xhdA4jkhgzTuGjPEPxkqk1UQup0LgpQqFhjiZFcb0Abfg6tYkGwQSGNE72K4YxdJuYwwSgPksWZq\n",
              "LZFC+iqprUVjgb8P3CYo635pSxQP49gtaPkolbi521lyAxHfdHmEDbC6gcb6TQu+cdL3SPML30a7\n",
              "I2TZ0RcBpL77Uxu6NKPUuWq06FAirBFnCiUNV6QpPx2AxbUUtGSFC08N/b+yJ5v7eXqZAAd/jtPA\n",
              "AAADAAADAAADAAAJiQAAB8VBmiJsQX/+2qZYABXeRYEA1x64omgADr/K/Pc7z8LwOqsDPYzvvrNP\n",
              "sGg+7hkYrO4f/wPxCJIwO/it6Tq4EIUnhP4dp1o1WgtWtv3rZctFpBTEPYcrpcd/PJPHcUuVmawl\n",
              "lYZfMG32xv58THBYSE4qgEEnsYLO1ID955zmoggDuktVtHbHJ//HsHczjXTnV517iwgNEVZK0RQw\n",
              "C999DLYBHqNyTk2/t4QzIOyQAAHaE9hpA5Gu1eI0pWj+7R1VrhddApGxaXP+0Oab2PuDmWqBSEUX\n",
              "qHwNWX5hmQZuhqFc/vk5yiFGAVlZWCoZ+i96UnmIlu/yreVI8YTVyepvSwPXoYiujkR0cRkfLH0K\n",
              "NDjrBx/GyGH6I1XvfBM0RTl/G8nvtFb0/FN+0vOYRV0/btmlG8XYueptv3MekU2enKBYGdEwItue\n",
              "5K6RbzMshrkv3gmSf/0v1vwzxIU50C4opV5fEJp72/aS9ZHZzGewEvWBT+co0ngdoEwSdzY25KpW\n",
              "Kcj/Al1Z3tgyxwKSV4lDAv+JFIzF4VaoHIQ+67obf+mpfOFon9ISXv5bHBVejGY2Wo+jbOLZ928+\n",
              "Y8rdxCXN6C57kWVqpr+L/M/wvETiv/+wodrg0Jv//g72NmD3hkS0y4ia1tjlheC8qhLAxFUN7rUm\n",
              "HLpuasZpEQZgXkM+zqB6K87NHhhNC8085Rq5sR4sIOhjS7SUuBwhgtxFsSAX88JcZhzOThyGXcnS\n",
              "wFnrzJIcQc5jNpil3pDRQV3wS+axD3D+vhdUXJeZ51jthYzcu0POASdHbOoPz9c++FG3h4ZhiH+I\n",
              "X37F7V4LRdRk0/r7rC1S0/oY7YryI2UVM3OHyYWVgcSxMk9kF+Y1CFywmF2zhIipgYuom5g6mg3o\n",
              "P/gQ/MatXQKF5osn2GtVWMXMx/3oFERsqXlkzpVSMDJTMXa4tyemoFEEYdfgYK0USk2zZ35JenCl\n",
              "8xxF9noFGzJEoqcrjDFPXzFy6lFV0F7qq5tHnGaOLuxhyNcemsg8vr8oEu1zEebLDev1mhH9qxXA\n",
              "WB6Mj5Wchfi9oi0KKH3QYj2CCzfZbU+fgT2sPR7LepgFcs+/iUkXJs/U7BVFiUmz9XdkJ6+EcUEk\n",
              "h09ZmeZTQ5gBQe1678VxT3CakDwZsHIu/J6THUgaATWAjiovu2ZHGMnNV99NvhqEW8E/ahmPYb/G\n",
              "Hpzs1Hyt22VALLzMbCKoCUVMgizuBVLS1aJ8dbL6PUBx8pIlwMcMoUkGmFCqQAB0KKaRh1qbMwZA\n",
              "OUsn6uWs45P76XECHOYmuXZiN0I6u1ZD9HC65nPShIVfZbF2V89dZ71JwtPo6E9XUROBnxUUsas4\n",
              "RYz4+VnZUF0gaTn5RCx93kLe2p5Wbb7jApNUefvEVnTkLJzdvSow0UUChFUHB6RwqQqhemB9Zabr\n",
              "C1RrgibQQW+Oit/di0RPBcLYM9TCCp1Lm/eqtwzv0XnAzjHO7dD7A/LGxXwroxe7GqFszZ1o3mn1\n",
              "fOCVkLrZRDKPa1rQTVIbBOSg3whbMxwnqz36m4+Q/y+/0g9NiXl7k71r4j+z7HvPI+qYr8xghTMG\n",
              "SY5BowtgDVZF0NbVdQE7Q/4r2wyB1h77CHRzs0dt74jjwmwfoUgW7a8k7TdFaBC/kFq/8u7/ox8/\n",
              "wTvRpds2cs3oPaFoOd5uBCcLEBRicGZ7z2YL+4FrzcQ7R6M+oFoFnoGaRVg25By34lgog/ZCzbPg\n",
              "NX80crrxdOSKuhfk4DfiAf0md2RceDwXu2Fh8H57DBl3nK53CApn6xDPeH78qv0I/hct5scUUNR2\n",
              "5Do1WTLDT2DQIQLCQ2nyeNvAAw+/b4QotobQEpDXzMicDB7WiWEV8a5HlfNWoyuRxhEc9Tr6ZV5Y\n",
              "dcJVDDes6VfByXZpOm5OgIThfYzqL+10JU2yKPy1g/b5wQAcCLfmRI9hux8DBfMmgMYMFhD69MsB\n",
              "8YGRvrAud7H32J2zqA1mP1RJKWBeDvZeJZwvEuHMuhNLeUdDYln9Uc6ZKowB24h/waCFSuQQxWV9\n",
              "K1nveo94hcn1Hff/66aw0CBvESra4L5h2iIrAxkPeP3kMJcs4OsEbrnlz/CWKcS4kw91ToUYQrS5\n",
              "qjVVV0LCNqle0+FJFYCHRkBgW3v4SIsUZ8mYVzKvadPI1lcof0ZGtqj6i61urP2vBH0aZTVszVLo\n",
              "i2sUOwim62fpcAjngsC5DenfhM0po5mn94KE5AHQAYu14ni7XEQOTU43MJYYZMeyWiQCfyuM/ya6\n",
              "tx5OKEnW3pjkncZwbnGTZ66dWttsbXkZ+TunLtkBnvCS6j3aGaDpsr5AMd1plpk9i+MVZEr1RsQQ\n",
              "WihN09652sYN7Zw/Wbx1B3jJSludIg8G5nuGHVfItU7s45Iz0TwYCgWx16H3wE/ho7gwkVMCdovT\n",
              "NZoXnsjl9QX81/P3e9o4IZ6kZ3ySnn1H1IREQC7+n+XyK/Rj2nvaGT0gvS4oB9lgYTsCbhUmvJe6\n",
              "ub7S/WHKhwNDuHP060cN8xGJvwBf6Sz+aOTKrwt6vJZZtEkUuI2lUoKAHCm4/WHA0PgsuZV1zdmm\n",
              "0xz5tfNuBUosXDJY9z9s2RZBe/etANebpVe+9+aOhMLkltiIj1jGwtAt+M4NR4wi9K6hx90I6dZq\n",
              "YFI9UIxgQy1aakgAAAJkAZ5BeQV/AAAOTzdwvJlBX0GnaAA6ZJgvMa7Xkc5rzgcmxEC6L6q/5ekJ\n",
              "zFJoolnwNePA0NPBAx4hmGj1YXtltv8I4lrYaA+Rh1LmJe2fE+e/c3Z9vYlAw/UWlPeuqItPAZzZ\n",
              "LFqHaSygaa8ygAR1xq64yQGebh6Wc88SwA+mhhwnRsxXnC7MN1kXeeIm8J1DTsMhFbZ6aK5TMS6r\n",
              "BcJc9txH3fWmC8oMFshkeHFZezt4GE5G/pVPOsc3nPdjULrdEPkO04/zYO4juKOm9IqVfsmraIgl\n",
              "wDxnWM+3O2fn+4TC5pUCyQ82XD2uA5I7c1JcfzoRPgo10js4NlIsAEt/5CvuZ6O5/0pcsiPhvQLe\n",
              "4mRUm9CrfZYT9tPM43+CwrExevBi3njSbgc6usATdyTvTcbS8iAHFrDv/HHScJNskDmw1SThYX3L\n",
              "IQgDREALGkGcRNsQwT+M4rT9riAqQkrupr3vetpijPVvyjaeZ+QE5anKywNBf6zZvma1tBtwSjMj\n",
              "vLLU2+Hzn39tyu58NmAjq+4oE/VZTuhEbaEdf3vsbozcAkAKZdOwdEemPai76wBJOm0/HYLs865z\n",
              "06rtOmgLGG/ndKcvxtFQWOEIx3YLDMlKStcABg4tNNq8lwkHy0wmAttYbzEI7W+XZWb+FTBMrjKZ\n",
              "671mQLO7DwsU4r//NIgWsg8z1BfCcsgJIH1P/gvyoP12mHvGr9kEGI93NJCR0noKi17MN4PvGaJz\n",
              "/EvTWQ2d+4zx4dhDqnQELDqvrvvwPJQtNX6E9glAvMvtYwlDUDWVU6nXNEz+bEuHbBn2qsM/AOmB\n",
              "AAAG5kGaRTwhkymEF//+2qZYABXAAlKkdVbQAAL3n55VN/j70T7AnR650JTAMvpyL61uj1Qt74JW\n",
              "w8+AM8yjmbDJek0wIE5uqoq8bgwtQis8czcG7P2kfOosuTSLrgsbnU2HHUwJpU4/hFiID7+tNPR+\n",
              "0Tk7BwUfOQJzK2WtSddnUequTAlZXaJDgGvqIrN7dTb3cAvdNkRa/FaLPqDfk9SIilB2l2Hldmqe\n",
              "xuhNNPbwqLTtBpDZEpUaIon2U6JN9ebvZNjKWkCgOfuCZur7gd52ckZMTKuuqSbn/wKEC38GAa34\n",
              "aa/CU2OH6BxdWqPc+6hbtzu0kcj0/6C84j1kyLRyASTHqs7GoGu4BCUNzgoshoV91LUGBciW63+Z\n",
              "7k9UUh9k6CwfL63escHCo6p4L05KCDPybDy1O+yt8EC1bpBYF5lWDWi6bnGNo4tbRAtA2sU0Vhxh\n",
              "v5AL5OFO9UL2jviK9BK4c452AOvbooJs1QDEnTdxgx/R/jD1Z+FMBybUM9eV5gY6KBv8eaiDXYZb\n",
              "Aw6RgYMFoLavdzGdYkT7FHWQmqY5erIVfINPIEMfZCWj4DGQBmrw0LFg9dc3XcpB5BZjxWCrKLeN\n",
              "Tv4vhtm6N9t3RVr7txuej5gwJZyM9DPXbjLWSIV5JxVdb28vYa4fmwNZ/SpfiY6S7FP2SkrAU+5j\n",
              "/8QAa6Xwr7TadYvHbsWl/Ec/3GayrSqU4BiALX2PEWj55tIolUGXG1ftImRp9IouxmGC+uxG7mBW\n",
              "J0nNHkh6jmXyxToDI++DkDw81KPOiloyB0InpM80W7zVnNkHfWyHkdu8KFNHuRPVfjvLr2gVjNPH\n",
              "Kxz3dB5HHT9hyidVtkMvZwqwyB7aX7S0qwPkT7qCvN2LB5btX2AaNuRiJd/uUgjY3UbaqsFwxrpk\n",
              "uLA1lAmXXXIQmSDPBOMFwJ9M2G23tI3l0Kzmg4PLJyGsFl7MpEQwXp7Dr5VF7bOM33uPsTWIkU9u\n",
              "P1zkcYI4QKwBzKik4A3wXamLvuRLVNl3yMSOSMzWSB00Xj8FCHXJf24gtwBdEeKxmLgl/Aczfdpr\n",
              "yvgQ+RcPvVMubWFB9z1uEZHKyeqI60vSaCVQRL67XcxBHeMzLR1eWFe9jdsarKBha/xgjD3k8Hhc\n",
              "oISB+cHk4tlbSGuznjiUmFAMB4TAu89ew6HLbINSebUZbc/YP2Y4L7vMx7D1XKg2dKzb6CjdavsF\n",
              "sT5VemQWVqQflcVxvpkKuj/MSVTKrfFA+rEuzaAbgaWYsjDYMQzLveegn+cuxqQ63CVD2x2DmcU0\n",
              "7zWTNojJUX50+QhqaNJ3ZtlHt/fNygXjWl0rfIyiUB8GJQJdHrJZaJ67m9ofQgw7ngKB6YnV4mBh\n",
              "PxLgAayZl9r2vX2IWe4btdWVs/ncNUZqcgCOXCYaNqGIiUTLgBrKEwDPP7+3TWeDusxIxrE6izxU\n",
              "xhCkjcLlxOn8W7pPwUoTHkppaHxVHrsUdNDsK+sx4VKZcfHqnwwTc0WrIkbUJ30eUMlQIF+ZMKu+\n",
              "TqaWIwwZk5mbX6AQgdb8OZplyrmUtxBunZ4lzH0Nhf5naTceaSuNYrubyLSuCdpEetfeGbaHB11N\n",
              "RO919ZvfavbiLgPcTSa8Rj7iUjeHW/Lj3gPkr2OTq6an907R2PdjbBowTZdX9kN8Zj/Sf/yu4CdS\n",
              "6aAQtZdTATaY2ehorHbqbWzfHx3Wsu1JSERd35gDTdEPJd+NEvarq3XJd95xC/Lms9YXI5RPERf+\n",
              "pmE94BNS42EbJobLZ4Gs59Cf4MYPLsbfykFvEv2VVTN8be/fw3t2EQ/3riXZCZATtHPrBZvoVwKn\n",
              "7y9hvGdYzrUJE8C1pDuAkFrrPJcgP/dpw4zdfZtAf2NHhg7+orK9NcTH0FVm5FmSjBHM3woEHbkU\n",
              "bkE9ki8zw1DM4A8EJf5kK6NnXk1qnkm64CO23UQ0y1SO23QCZLt69WrX2PmrAwdSGWain8uNN+JR\n",
              "/jdTwxTsx72R2oE6Xo7cIGcAbGiimHcx6JrKf8GivLx1mXO0wIZRlnn8u3+CuhMed9adJlgI5y1E\n",
              "Ygua9//j+9oKq3sNUO0wdiVjpsYfT0qz3824lY44K8tM6H3kF+Zxp2Y3Ue5Noa3by2D7lo1fimYQ\n",
              "Jh7PQj4nWO7lcpl2hOf6JTjmyp8t3i02fUZ5P1ZVoDbHpQYup/YR20R54gP1583i5iMTSJSwvuAV\n",
              "dQCh0D9q+F78NQ+1bIxCAEZ3DKgJD5y+CjvifRNQjZ5nj4wpYRUqBUpMdmBr/NAr4xWrRWG9PrT1\n",
              "/pQimvimOqu5mmYxkqVq/U66RUKycUtf3b7/f7gy6OY+liaIY59vj32H0bpnEg9+z7tVYWyRkmyg\n",
              "pKbgAAAA+EGeY2pTwV8AAA5PCH1rH3oANc0lao+i85NvYbQFG1DmzVyA1C5LFj3AG0s5i1ln5XrR\n",
              "Wri2l0Vds3dTqshCVH1wYV0zTzpPVFHFYvPtatguzrqxkPW+jZXEuuXRT1kmRqbhK6FKLke9KHRi\n",
              "7R4aA50hlQj0Tw6b//QHOdQxiAtMBRJq8oChUohWgnDWnn9g9HT/LSf1o2DTcH5kN8mSIbkbFh8f\n",
              "moQziv25Ex5QiHnsiBWBEAgCnuS3QYb859BSIfWi6zod3ixXjIlZ591UJAzFj5qGNOgS1oTyEmqv\n",
              "iwSLJhWczqxT8+p5oT6bKu5L/ZLx1lB3gC2hAAAA8AGehGpBXwAADlpNEkllJeJqeoAObdB3yaSZ\n",
              "6JNen5J+68lJ7tXhiYfqmIzAzGyojlTaR2g5PelENjWQSlViU/urlJl3oxatStWnDq7/HC65SyU3\n",
              "bdo8G9pBoyjonmKCCULa504skCstTmViUsTvulRxy1vPvyfcTGY3ADuE1aaQbR5SWkFXb3X0H6PH\n",
              "sSD6R9NKihsVRJg/1/34Ckz1QAIA0o8slLnmRAp2DR26i8cZ+g4JGT6ctG8iAt4bN7/uz/EEU02g\n",
              "umAyf/H2zVtbGQRIcWYCG9JHc1P1yWRgJWjGKVHnySkFHK4Nmva7m6gBlQAAA9xBmolJqEFomUwI\n",
              "Lf/+1qVQABXV1kAAA6913hFLvCeo1KHHrCdyE15xDXI8LF0gOGNiyzaKnMYdouzpdSaUUD2IDKdY\n",
              "yD/PoVfSGodexOgP83Ciy5rZ40bqRWaVHc+S/QHy2BeBegVvE1sgEd85U53U456UA4PtgEGU56XN\n",
              "IzmIbD65DmlRXg2gYVCbKNXjKQL9sUTlU7YcDElDK/9q4En6XFq9MXfVrh4ENvHngnowcvYUGEl2\n",
              "Jpq0VuKlFd4vAJZ00sD/rC4YVqdslQwVf3eLBKi7PyK7PowgcrFYYT6rkV88m/YYR/p9g3zXN8b6\n",
              "Dirx1dFghmtppNYQBs3RtdegVLUaCHVQ+/vpxjrYCoIryC4BJKCFvSzct9fssSQmwekMRMCX4YWl\n",
              "FS6TN53FdDOy/ErA9mveXAv+/Zuwn9vQ97/45sh90g7aa/rv9BupZ/6HQ5Tc4jN3ZbcdfWSt3ZaD\n",
              "QIcWcSadrj8AQsXIGMWppatv+jvCoCtE8fhTAUEfCVOix+4P723HNsup8YsLOKXNMqI/LEL/d9Qb\n",
              "l5+gf+Crl3iqAI9/e43wJN6VTgLAWFHsH1WCtpHt1BsmRyQWAy9BwMqviKY6q/1AzBZIXDz7aw0m\n",
              "CHolrfFVGWjWKXe+TFaTVnVmjBB+O4U6zEhDldmZItT1WnYJWgnMLL//lkO3b2r2osmsliyG9Iiz\n",
              "JsgtyDOVnUEIRo2u9DH0FcSMz/+Ice0KXmedG2jYt7gsBusAS94GWzOsaPkduD1hgux0ejW+smw2\n",
              "JT4BCa1uQ65bztka4PjBmIZQrPsiC2nBciz2pVQnUY4aDQhOhlm6gerFSbyIfXvrZVMkI1g94hRj\n",
              "+21kTR0/jm6WCHY89LM8aYAz2CVdUEYIOA0CYcl7tDlaO4zZwXwqTF6EKEmjYDBYhxBl6oERPTyf\n",
              "B9E2HyNj/QU8rz5NJ7nJmuLSTCj0xjtW1WwSOUj6MGkMQXFhloVq1d5obOF34yvOiq5dPCJLYaD8\n",
              "+gIs+aWbBZ2PNYVUNqHfH63LYSbQP83BePgdQXFabDPlGnSUwjvUxNgX0VDewR9+FhH/Pw5Qa8Ls\n",
              "a4+6LGiGKlwEXDV9fwCHC6jSAduDO6Mofq+bW9OD0qH62Zq6xoIUzuHTN3UQOGUB9vJRfCDSZ7Ej\n",
              "aZkHS0gX+VuVqjWhbD+IjxXGwp6HAu57y3f8JSz5a2XeNqS14C6eLTQxqrZZ4QZogxZXRB8DSp7a\n",
              "V1HPl7tAT4MhHJidxFmPxVmK5qOrZAvDkCiUKncUtJWFN/brycjYwyrRdi4kH6kr5PDamX46rCy0\n",
              "I8U4kDfCACPhAAABCEGep0URLBb/AAAJS4hbT9caHh+D9AAqFlEKCVFcekA8Y7jMy0fCD8LEeGz3\n",
              "NeN280u8wzvkumKoeptqY4f/9wyVacq+Z74F0bLLhrfXOnsZ0kgCVzqim6t7zLBB1X6fqoJeRK5h\n",
              "ZhqXdlT2Q4iO1gSy5P+uZq//U/rS7xoxzOX40F5ykAFhGx+CrlUL1nes7C0HKg3+uZVAX/ikjmMB\n",
              "3r05+Ht2aRtjEp7B3osxIm4YmvEAj1umigXwFXUhYyy31PgGjsTCsCQETFLP2uDtIMgjZdrigc1y\n",
              "Va9lqzN5e9jjWNhGvbvD0FCXNHZGQglLmlX/7b8R0l/6f0Hw/arW98qWM9G8+WAFtQAAAM0BnsZ0\n",
              "QV8AAA5mAGuGAA69qpHUKEJax8woZf/B/bFht3dF6uwJH2awgdXPYVhEkeyH/9LCqASbuv2kFYz9\n",
              "mYv/fD/eMXz2o58uj6UbBlF3jax9SVthL4DPrTgyuDhGlTVEQFJzDnL4oBxVNLBTAzu7gkcbgh+E\n",
              "oXYkbijC/dwJCo5cd4fL7/Qu+LhH94AbQnn9hhl+ZoKd+uLkg/OaVUoCawOVvd3wAAWABJfgYtFV\n",
              "cb5zRRGMmWSyeff/6zjO47SV2zoO3XbFqPcRmBNwAAAA3gGeyGpBXwAADkiZY4po8XvFTkAF4Gil\n",
              "r8ddl9XA7/zkucYPHzxciBwvHWGLhR9WoHzuYO9AhtAljYHe8njikNB1lQGRHRubeHdd41GmW9XJ\n",
              "PH4JXvi6lFT47hFpEsKPU036+vwb3dpNBs9tZGy/F6TBijDvLaK/Ji5RDRPz3iyhpPghg74VYgmV\n",
              "P6FSyMi8KjwHnMIlI7MvplpPAABmgnPMsfwMWiquAfzL//3oLSlbYfWDS1MSYtgx2MiMwJ2wenK1\n",
              "UZ+XCkoBxd+MITCYZ+v7ofTcnMnlzBVU2QCvgAAAAYVBmspJqEFsmUwIK//+1qVQABgNiCdYloo1\n",
              "/EvhIqwAhFjaAP6KtJys/4Or4KVKmCS3tw3wXo30ucGNt/Ty+TW5Xv8dDYb9qA89JKxtxeSfA0hV\n",
              "6zoGvRL2H8LqN9lVnRei/p1QwDZCycuAY4/wVijeA6ekhRKfwqbJN1vLwkJEuEDLNboYcBsCxg24\n",
              "5BFCv4hgK4qO29QrBY5JL/PgkgaGv0oUxjA5IBVcNSuek2Bpf5LSYvKhf5dptLA4bAJxoOlbdkKO\n",
              "F9dp39bQKp+4O7CV7JYKM5FGgb3H2Xx1TjwHwk9ftkjvGOoAG4gjeMlmVh2MWHJG+aO0JcyOF4jv\n",
              "G0BmzH9rn05zkvuVe0/O3JmsvH/WelfWKKOsKwW8jaGWBdaaOWgm18FPLPQb4ScwT5yYeq1FHz53\n",
              "SMwSvQ9g4iUG4Vmtf87kP7px09spj9wB70BVPohOIjLzGu8cpoWK7SjZKmKM0aQa+SjlJdD4/qQk\n",
              "kX1iSGnTmM1iEE5CvvpS7GFuClMu4wAAA6ttb292AAAAbG12aGQAAAAAAAAAAAAAAAAAAAPoAAAq\n",
              "+AABAAABAAAAAAAAAAAAAAAAAQAAAAAAAAAAAAAAAAAAAAEAAAAAAAAAAAAAAAAAAEAAAAAAAAAA\n",
              "AAAAAAAAAAAAAAAAAAAAAAAAAAAAAAACAAAC1XRyYWsAAABcdGtoZAAAAAMAAAAAAAAAAAAAAAEA\n",
              "AAAAAAAq+AAAAAAAAAAAAAAAAAAAAAAAAQAAAAAAAAAAAAAAAAAAAAEAAAAAAAAAAAAAAAAAAEAA\n",
              "AAAC0AAAAtAAAAAAACRlZHRzAAAAHGVsc3QAAAAAAAAAAQAAKvgAAIAAAAEAAAAAAk1tZGlhAAAA\n",
              "IG1kaGQAAAAAAAAAAAAAAAAAAEAAAALAAFXEAAAAAAAtaGRscgAAAAAAAAAAdmlkZQAAAAAAAAAA\n",
              "AAAAAFZpZGVvSGFuZGxlcgAAAAH4bWluZgAAABR2bWhkAAAAAQAAAAAAAAAAAAAAJGRpbmYAAAAc\n",
              "ZHJlZgAAAAAAAAABAAAADHVybCAAAAABAAABuHN0YmwAAAC0c3RzZAAAAAAAAAABAAAApGF2YzEA\n",
              "AAAAAAAAAQAAAAAAAAAAAAAAAAAAAAAC0ALQAEgAAABIAAAAAAAAAAEAAAAAAAAAAAAAAAAAAAAA\n",
              "AAAAAAAAAAAAAAAAAAAAAAAY//8AAAAyYXZjQwFkAB//4QAZZ2QAH6zZQLQW6EAAAAMAQAAAAwCD\n",
              "xgxlgAEABmjr48siwAAAABx1dWlka2hA8l8kT8W6OaUbzwMj8wAAAAAAAAAYc3R0cwAAAAAAAAAB\n",
              "AAAACwAAQAAAAAAUc3RzcwAAAAAAAAABAAAAAQAAAGBjdHRzAAAAAAAAAAoAAAABAACAAAAAAAEA\n",
              "AMAAAAAAAQAAQAAAAAABAAEAAAAAAAIAAEAAAAAAAQABQAAAAAABAACAAAAAAAEAAAAAAAAAAQAA\n",
              "QAAAAAABAACAAAAAABxzdHNjAAAAAAAAAAEAAAABAAAACwAAAAEAAABAc3RzegAAAAAAAAAAAAAA\n",
              "CwAAF+0AAAfJAAACaAAABuoAAAD8AAAA9AAAA+AAAAEMAAAA0QAAAOIAAAGJAAAAFHN0Y28AAAAA\n",
              "AAAAAQAAACwAAABidWR0YQAAAFptZXRhAAAAAAAAACFoZGxyAAAAAAAAAABtZGlyYXBwbAAAAAAA\n",
              "AAAAAAAAAC1pbHN0AAAAJal0b28AAAAdZGF0YQAAAAEAAAAATGF2ZjU4LjIwLjEwMA==\n",
              "\">\n",
              "  Your browser does not support the video tag.\n",
              "</video>"
            ],
            "text/plain": [
              "<IPython.core.display.HTML object>"
            ]
          },
          "execution_count": 70,
          "metadata": {},
          "output_type": "execute_result"
        }
      ],
      "source": [
        "HTML(anim.to_html5_video())"
      ]
    },
    {
      "cell_type": "code",
      "execution_count": null,
      "metadata": {
        "id": "4X3bh4GceqB6"
      },
      "outputs": [],
      "source": [
        ""
      ]
    }
  ],
  "metadata": {
    "kernelspec": {
      "display_name": "py3modeling",
      "language": "python",
      "name": "py3modeling"
    },
    "language_info": {
      "codemirror_mode": {
        "name": "ipython",
        "version": 3
      },
      "file_extension": ".py",
      "mimetype": "text/x-python",
      "name": "python",
      "nbconvert_exporter": "python",
      "pygments_lexer": "ipython3",
      "version": "3.7.5"
    },
    "colab": {
      "name": "message_passing.ipynb",
      "provenance": []
    }
  },
  "nbformat": 4,
  "nbformat_minor": 0
}