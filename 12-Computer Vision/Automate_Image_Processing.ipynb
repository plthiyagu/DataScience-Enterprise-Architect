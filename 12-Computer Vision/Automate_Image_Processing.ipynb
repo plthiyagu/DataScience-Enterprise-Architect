{
  "nbformat": 4,
  "nbformat_minor": 0,
  "metadata": {
    "colab": {
      "name": "Automate Image Processing.ipynb",
      "provenance": [],
      "authorship_tag": "ABX9TyPe6rYTfXQ+veFH6GT+akNe",
      "include_colab_link": true
    },
    "kernelspec": {
      "name": "python3",
      "display_name": "Python 3"
    },
    "language_info": {
      "name": "python"
    }
  },
  "cells": [
    {
      "cell_type": "markdown",
      "metadata": {
        "id": "view-in-github",
        "colab_type": "text"
      },
      "source": [
        "<a href=\"https://colab.research.google.com/github/plthiyagu/AI-Engineering/blob/master/12-Vision%20and%20Image/Automate_Image_Processing.ipynb\" target=\"_parent\"><img src=\"https://colab.research.google.com/assets/colab-badge.svg\" alt=\"Open In Colab\"/></a>"
      ]
    },
    {
      "cell_type": "markdown",
      "metadata": {
        "id": "99WV5kHxTLdD"
      },
      "source": [
        "https://www.analyticsvidhya.com/blog/2021/05/automate-your-image-processing-using-python/?utm_source=feedburner"
      ]
    },
    {
      "cell_type": "code",
      "metadata": {
        "id": "s_9tZRjC5uoX"
      },
      "source": [
        "from PIL import Image\n",
        "import os"
      ],
      "execution_count": 6,
      "outputs": []
    },
    {
      "cell_type": "code",
      "metadata": {
        "colab": {
          "base_uri": "https://localhost:8080/",
          "height": 35
        },
        "id": "V0rPG-LC59EL",
        "outputId": "9eb5bb2f-c373-4d2e-cf95-0c1b353f6a75"
      },
      "source": [
        "os.getcwd()"
      ],
      "execution_count": 2,
      "outputs": [
        {
          "output_type": "execute_result",
          "data": {
            "application/vnd.google.colaboratory.intrinsic+json": {
              "type": "string"
            },
            "text/plain": [
              "'/content'"
            ]
          },
          "metadata": {
            "tags": []
          },
          "execution_count": 2
        }
      ]
    },
    {
      "cell_type": "code",
      "metadata": {
        "id": "OeiqG_jRRfho"
      },
      "source": [
        "# Let us import one image in our Jupyter environment and open that in the notebook itself\n",
        "image1 = Image.open(\"House_in_snow.jpg\")\n",
        "image1"
      ],
      "execution_count": 7,
      "outputs": []
    },
    {
      "cell_type": "code",
      "metadata": {
        "id": "dRjCx1Iq6W_T"
      },
      "source": [
        "image1.save(\"pic1.png\")"
      ],
      "execution_count": null,
      "outputs": []
    },
    {
      "cell_type": "code",
      "metadata": {
        "id": "TA9jgEwc5wgt",
        "colab": {
          "base_uri": "https://localhost:8080/"
        },
        "outputId": "d4e8a375-7540-4d32-b0f6-a3694ed6cdf7"
      },
      "source": [
        "# lists all the files and folders in the current working directory\n",
        "os.listdir()"
      ],
      "execution_count": 8,
      "outputs": [
        {
          "output_type": "execute_result",
          "data": {
            "text/plain": [
              "['.config', 'House_in_snow.jpg', '.ipynb_checkpoints', 'sample_data']"
            ]
          },
          "metadata": {
            "tags": []
          },
          "execution_count": 8
        }
      ]
    },
    {
      "cell_type": "code",
      "metadata": {
        "colab": {
          "base_uri": "https://localhost:8080/"
        },
        "id": "Fz2yfSBZSPG1",
        "outputId": "9bb5395b-10c4-4061-a005-775068216ecc"
      },
      "source": [
        "for f in os.listdir(\".\"):\n",
        "    if f.endswith(\".jpg\"):\n",
        "        i = Image.open(f)\n",
        "        fn, fext = os.path.splitext(f)\n",
        "        print(fn, \"&\", fext)"
      ],
      "execution_count": 9,
      "outputs": [
        {
          "output_type": "stream",
          "text": [
            "House_in_snow & .jpg\n"
          ],
          "name": "stdout"
        }
      ]
    },
    {
      "cell_type": "code",
      "metadata": {
        "colab": {
          "base_uri": "https://localhost:8080/"
        },
        "id": "idtP2z-yST87",
        "outputId": "a15ea8e8-c821-4f19-ca03-2671a1b47210"
      },
      "source": [
        "#Looping over the image files\n",
        "for f in os.listdir(\".\"):\n",
        "    if f.endswith(\".jpg\"):\n",
        "        print(f)\n"
      ],
      "execution_count": 10,
      "outputs": [
        {
          "output_type": "stream",
          "text": [
            "House_in_snow.jpg\n"
          ],
          "name": "stdout"
        }
      ]
    },
    {
      "cell_type": "code",
      "metadata": {
        "id": "6us7bRVxSYWc"
      },
      "source": [
        "# Creating new Directory using OS library\n",
        "os.mkdir('NewExtnsn')\n",
        "# Note: If you already have a directory with this name, you will get error."
      ],
      "execution_count": 11,
      "outputs": []
    },
    {
      "cell_type": "code",
      "metadata": {
        "id": "RD2uv9pNScDp"
      },
      "source": [
        "for f in os.listdir(\".\"):\n",
        "    if f.endswith(\".jpg\"):\n",
        "        i = Image.open(f)\n",
        "        fn, fext = os.path.splitext(f)\n",
        "        i.save(\"NewExtnsn/{}.pdf\".format(fn))\n"
      ],
      "execution_count": 12,
      "outputs": []
    },
    {
      "cell_type": "code",
      "metadata": {
        "id": "Ap7hKR7gSgRG"
      },
      "source": [
        "# Creating new multiple Directories using OS library\n",
        "os.makedirs('resize//small')\n",
        "os.makedirs('resize//tiny')\n",
        "# Note: If you already have a directory with this name, you will get error."
      ],
      "execution_count": 13,
      "outputs": []
    },
    {
      "cell_type": "code",
      "metadata": {
        "colab": {
          "base_uri": "https://localhost:8080/",
          "height": 231
        },
        "id": "R7qY30AlSlru",
        "outputId": "e0e5d6f5-7fc3-4bf7-ab36-6b532f539ab2"
      },
      "source": [
        "for f in os.listdir(\".\"):\n",
        "    if f.endswith(\".jpg\"):\n",
        "        i = Image.open(f)\n",
        "        fn, fext = os.path.splitext(f)\n",
        "        i.thumbnail(size_small)\n",
        "        i.save(\"resize/small/{}_small{}\".format(fn, fext))\n",
        "        i.thumbnail(size_tiny)\n",
        "        i.save(\"resize/tiny/{}_tiny{}\".format(fn, fext))\n"
      ],
      "execution_count": 14,
      "outputs": [
        {
          "output_type": "error",
          "ename": "NameError",
          "evalue": "ignored",
          "traceback": [
            "\u001b[0;31m---------------------------------------------------------------------------\u001b[0m",
            "\u001b[0;31mNameError\u001b[0m                                 Traceback (most recent call last)",
            "\u001b[0;32m<ipython-input-14-f3c68b08e07e>\u001b[0m in \u001b[0;36m<module>\u001b[0;34m()\u001b[0m\n\u001b[1;32m      3\u001b[0m         \u001b[0mi\u001b[0m \u001b[0;34m=\u001b[0m \u001b[0mImage\u001b[0m\u001b[0;34m.\u001b[0m\u001b[0mopen\u001b[0m\u001b[0;34m(\u001b[0m\u001b[0mf\u001b[0m\u001b[0;34m)\u001b[0m\u001b[0;34m\u001b[0m\u001b[0;34m\u001b[0m\u001b[0m\n\u001b[1;32m      4\u001b[0m         \u001b[0mfn\u001b[0m\u001b[0;34m,\u001b[0m \u001b[0mfext\u001b[0m \u001b[0;34m=\u001b[0m \u001b[0mos\u001b[0m\u001b[0;34m.\u001b[0m\u001b[0mpath\u001b[0m\u001b[0;34m.\u001b[0m\u001b[0msplitext\u001b[0m\u001b[0;34m(\u001b[0m\u001b[0mf\u001b[0m\u001b[0;34m)\u001b[0m\u001b[0;34m\u001b[0m\u001b[0;34m\u001b[0m\u001b[0m\n\u001b[0;32m----> 5\u001b[0;31m         \u001b[0mi\u001b[0m\u001b[0;34m.\u001b[0m\u001b[0mthumbnail\u001b[0m\u001b[0;34m(\u001b[0m\u001b[0msize_small\u001b[0m\u001b[0;34m)\u001b[0m\u001b[0;34m\u001b[0m\u001b[0;34m\u001b[0m\u001b[0m\n\u001b[0m\u001b[1;32m      6\u001b[0m         \u001b[0mi\u001b[0m\u001b[0;34m.\u001b[0m\u001b[0msave\u001b[0m\u001b[0;34m(\u001b[0m\u001b[0;34m\"resize/small/{}_small{}\"\u001b[0m\u001b[0;34m.\u001b[0m\u001b[0mformat\u001b[0m\u001b[0;34m(\u001b[0m\u001b[0mfn\u001b[0m\u001b[0;34m,\u001b[0m \u001b[0mfext\u001b[0m\u001b[0;34m)\u001b[0m\u001b[0;34m)\u001b[0m\u001b[0;34m\u001b[0m\u001b[0;34m\u001b[0m\u001b[0m\n\u001b[1;32m      7\u001b[0m         \u001b[0mi\u001b[0m\u001b[0;34m.\u001b[0m\u001b[0mthumbnail\u001b[0m\u001b[0;34m(\u001b[0m\u001b[0msize_tiny\u001b[0m\u001b[0;34m)\u001b[0m\u001b[0;34m\u001b[0m\u001b[0;34m\u001b[0m\u001b[0m\n",
            "\u001b[0;31mNameError\u001b[0m: name 'size_small' is not defined"
          ]
        }
      ]
    },
    {
      "cell_type": "code",
      "metadata": {
        "id": "37FL3DDWSpLG"
      },
      "source": [
        "image2 = Image.open(\"Cyclists.jpg\")\n",
        "image2 = image2.convert(mode='L')\n",
        "image2"
      ],
      "execution_count": null,
      "outputs": []
    },
    {
      "cell_type": "code",
      "metadata": {
        "id": "h4A-62IcSwYJ"
      },
      "source": [
        "# Creating new Directory using OS library\n",
        "os.mkdir('b&w')"
      ],
      "execution_count": 16,
      "outputs": []
    },
    {
      "cell_type": "code",
      "metadata": {
        "id": "hdFRwZ70S1pB"
      },
      "source": [
        "for f in os.listdir(\".\"):\n",
        "    if f.endswith(\".jpg\"):\n",
        "        i = Image.open(f)\n",
        "        fn, fext = os.path.splitext(f)\n",
        "        im = i.convert(mode = 'L')\n",
        "        im.save(\"b&w/{}_bw.{}\".format(fn, fext))\n"
      ],
      "execution_count": 17,
      "outputs": []
    },
    {
      "cell_type": "code",
      "metadata": {
        "id": "R2il-CKYS4Xo"
      },
      "source": [
        "#rotating the image to 55 Degree angle\n",
        "image3 = Image.open(\"River.jpg\")\n",
        "image3.rotate(55).save(\"image3.jpg\")\n",
        "Image3 = Image.open(\"image3.jpg\")"
      ],
      "execution_count": null,
      "outputs": []
    },
    {
      "cell_type": "code",
      "metadata": {
        "id": "q_GGMs6rS8XF"
      },
      "source": [
        "# Creating new Directory using OS library\n",
        "os.mkdir('rotate')"
      ],
      "execution_count": 19,
      "outputs": []
    },
    {
      "cell_type": "code",
      "metadata": {
        "id": "dDaXE21wTBWZ"
      },
      "source": [
        "for f in os.listdir(\".\"):\n",
        "    if f.endswith(\".jpg\"):\n",
        "        i = Image.open(f)\n",
        "        fn, fext = os.path.splitext(f)\n",
        "        im = i.rotate(90)\n",
        "        im.save(\"rotate/{}_rot.{}\".format(fn, fext))\n"
      ],
      "execution_count": 20,
      "outputs": []
    },
    {
      "cell_type": "code",
      "metadata": {
        "id": "8-8odqSzTEF5"
      },
      "source": [
        ""
      ],
      "execution_count": null,
      "outputs": []
    }
  ]
}