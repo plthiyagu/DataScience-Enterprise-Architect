{
  "nbformat": 4,
  "nbformat_minor": 0,
  "metadata": {
    "colab": {
      "provenance": [],
      "include_colab_link": true
    },
    "kernelspec": {
      "name": "python3",
      "display_name": "Python 3"
    },
    "language_info": {
      "name": "python"
    },
    "accelerator": "GPU"
  },
  "cells": [
    {
      "cell_type": "markdown",
      "metadata": {
        "id": "view-in-github",
        "colab_type": "text"
      },
      "source": [
        "<a href=\"https://colab.research.google.com/github/plthiyagu/AI-Engineering/blob/master/12-Image%20and%20Video%20Analytics/Building_end_to_end_deep_learning_model_in_pytorch.ipynb\" target=\"_parent\"><img src=\"https://colab.research.google.com/assets/colab-badge.svg\" alt=\"Open In Colab\"/></a>"
      ]
    },
    {
      "cell_type": "code",
      "execution_count": null,
      "metadata": {
        "id": "ql8b-U0HVgDs"
      },
      "outputs": [],
      "source": [
        "import torch\n",
        "import torch.nn as nn\n",
        "import torchvision\n",
        "import torch.nn.functional as F\n",
        "import torchvision.transforms as transforms\n",
        "from torchvision.transforms.transforms import ToTensor\n",
        "import matplotlib.pyplot as plt\n",
        "import warnings \n",
        "warnings.filterwarnings('ignore')"
      ]
    },
    {
      "cell_type": "code",
      "source": [
        "device = torch.device('cuda' if torch.cuda.is_available() else 'cpu')"
      ],
      "metadata": {
        "id": "pebGbjwGeYYD"
      },
      "execution_count": null,
      "outputs": []
    },
    {
      "cell_type": "code",
      "source": [
        "device"
      ],
      "metadata": {
        "colab": {
          "base_uri": "https://localhost:8080/"
        },
        "id": "WnG4gi2KeaQw",
        "outputId": "c199075b-704c-4a73-921f-894a867bceba"
      },
      "execution_count": null,
      "outputs": [
        {
          "output_type": "execute_result",
          "data": {
            "text/plain": [
              "device(type='cuda')"
            ]
          },
          "metadata": {},
          "execution_count": 3
        }
      ]
    },
    {
      "cell_type": "code",
      "source": [
        "# apply transformation\n",
        "transform = transforms.Compose([transforms.ToTensor(),\n",
        "  transforms.Normalize((0.5,), (0.5,))])\n",
        "\n",
        "# download the data\n",
        "training_data = torchvision.datasets.EMNIST(root='contents/',download=True, transform=transform, train=True,split='balanced')\n",
        "test_data = torchvision.datasets.EMNIST(root='contents/',download=True, transform=transform, train=False,split='balanced')\n",
        "\n",
        "# build the data loader\n",
        "train_loader = torch.utils.data.DataLoader(dataset = training_data,\n",
        "                                           batch_size = 128,\n",
        "                                           shuffle = True)\n",
        "\n",
        "test_loader = torch.utils.data.DataLoader(dataset = test_data,\n",
        "                                           batch_size = 128,\n",
        "                                           shuffle = False)"
      ],
      "metadata": {
        "id": "luXxxu1necM_"
      },
      "execution_count": null,
      "outputs": []
    },
    {
      "cell_type": "code",
      "source": [
        "training_data.data.shape"
      ],
      "metadata": {
        "colab": {
          "base_uri": "https://localhost:8080/"
        },
        "id": "OnQ0ecKWjwUm",
        "outputId": "f57dcdc1-f313-4e6a-b833-cad7e8b5f023"
      },
      "execution_count": null,
      "outputs": [
        {
          "output_type": "execute_result",
          "data": {
            "text/plain": [
              "torch.Size([112800, 28, 28])"
            ]
          },
          "metadata": {},
          "execution_count": 5
        }
      ]
    },
    {
      "cell_type": "code",
      "source": [
        "len(training_data.classes)"
      ],
      "metadata": {
        "colab": {
          "base_uri": "https://localhost:8080/"
        },
        "id": "ZX3lykD2fuRt",
        "outputId": "df5c3ecb-9809-44bc-8f76-8739433a45b3"
      },
      "execution_count": null,
      "outputs": [
        {
          "output_type": "execute_result",
          "data": {
            "text/plain": [
              "47"
            ]
          },
          "metadata": {},
          "execution_count": 6
        }
      ]
    },
    {
      "cell_type": "code",
      "source": [
        "for i in range(6):\n",
        "  plt.subplot(2,3,i+1)\n",
        "  plt.imshow(training_data.data[i])\n",
        "  plt.title('Ground Truth: {}'.format(training_data.classes[training_data.targets[i]]))\n",
        "  plt.axis('off')"
      ],
      "metadata": {
        "colab": {
          "base_uri": "https://localhost:8080/",
          "height": 264
        },
        "id": "aa-lpZSKloR4",
        "outputId": "01711231-827a-47cd-dde3-9193f55f3d38"
      },
      "execution_count": null,
      "outputs": [
        {
          "output_type": "display_data",
          "data": {
            "image/png": "[encoded data removed]",
            "text/plain": [
              "<Figure size 432x288 with 6 Axes>"
            ]
          },
          "metadata": {
            "needs_background": "light"
          }
        }
      ]
    },
    {
      "cell_type": "code",
      "source": [
        "# considered model\n",
        "\n",
        "class CNNModel(nn.Module):\n",
        "    def __init__(self):\n",
        "        super(CNNModel, self).__init__()\n",
        "        self.conv1 = nn.Conv2d(in_channels=1, out_channels=32, kernel_size= 5,stride = 1)\n",
        "        self.conv2 = nn.Conv2d(32, 64, 5, 1)\n",
        "        self.fc = nn.Linear(64*20*20, 47)\n",
        " \n",
        "    def forward(self, x):\n",
        "        x = F.relu(self.conv1(x))\n",
        "        x = F.relu(self.conv2(x))\n",
        "        x = F.max_pool2d(x, 1)\n",
        "        x = torch.flatten(x, 1)\n",
        "        x = self.fc(x)\n",
        "        output = F.log_softmax(x, dim=1)\n",
        "        return output\n",
        "\n",
        "# initiating the model\n",
        "model = CNNModel()"
      ],
      "metadata": {
        "id": "ALmBKHJFB1Tj"
      },
      "execution_count": null,
      "outputs": []
    },
    {
      "cell_type": "code",
      "source": [
        "# loss function\n",
        "criterion = nn.CrossEntropyLoss()\n",
        "\n",
        "# Optimizer\n",
        "optimizer = torch.optim.SGD(model.parameters(), lr=0.001)  "
      ],
      "metadata": {
        "id": "6dSgKecB78B6"
      },
      "execution_count": null,
      "outputs": []
    },
    {
      "cell_type": "code",
      "source": [
        "device"
      ],
      "metadata": {
        "colab": {
          "base_uri": "https://localhost:8080/"
        },
        "id": "JagmgXty9MkL",
        "outputId": "c4ee8963-8f31-4d85-8483-310df8a575a0"
      },
      "execution_count": null,
      "outputs": [
        {
          "output_type": "execute_result",
          "data": {
            "text/plain": [
              "device(type='cuda')"
            ]
          },
          "metadata": {},
          "execution_count": 10
        }
      ]
    },
    {
      "cell_type": "code",
      "source": [
        "# fetch model to the working device\n",
        "model.to(device)\n",
        "\n",
        "# training loss\n",
        "train_loss = []\n",
        "test_losses =[]\n",
        "def train(e):\n",
        "    #Load in the data \n",
        "    for i, (images, labels) in enumerate(train_loader):  \n",
        "      # load data on to device\n",
        "      images = images.to(device)\n",
        "      labels = labels.to(device)\n",
        "          \n",
        "      # Forward pass\n",
        "      outputs = model(images)\n",
        "      loss = criterion(outputs, labels)\n",
        "          \n",
        "      # Backward and optimize\n",
        "      optimizer.zero_grad()\n",
        "      loss.backward()\n",
        "      optimizer.step()\n",
        "    train_loss.append(loss.item())\n",
        "    print('Epoch [{}/{}], Train Loss: {:.4f}'.format(e+1, 10, loss.item()))"
      ],
      "metadata": {
        "id": "FSF5Xk6q8IWz"
      },
      "execution_count": null,
      "outputs": []
    },
    {
      "cell_type": "code",
      "source": [
        "def test():\n",
        "  test_loss = 0\n",
        "  with torch.no_grad():\n",
        "      correct = 0\n",
        "      total = 0\n",
        "      for images, labels in test_loader:\n",
        "          images = images.to(device)\n",
        "          labels = labels.to(device)\n",
        "          outputs = model(images)\n",
        "          test_loss += F.nll_loss(outputs, labels, size_average=False).item()\n",
        "          _, predicted = torch.max(outputs.data, 1)\n",
        "          total += labels.size(0)\n",
        "          correct += (predicted == labels).sum().item()\n",
        "      test_loss /= len(test_loader.dataset)\n",
        "      test_losses.append(test_loss)\n",
        "      print('Test Accuracy: {:4f} %, Test loss: {:4f}'.format((100 * correct / total),test_loss))"
      ],
      "metadata": {
        "id": "wglFD-ZXxoGz"
      },
      "execution_count": null,
      "outputs": []
    },
    {
      "cell_type": "code",
      "source": [
        "for i in range(10):\n",
        "  train(i)\n",
        "  test()"
      ],
      "metadata": {
        "colab": {
          "base_uri": "https://localhost:8080/"
        },
        "id": "YSxPhjW50roT",
        "outputId": "fe15f079-a014-494c-cac5-7d722cf49f10"
      },
      "execution_count": null,
      "outputs": [
        {
          "output_type": "stream",
          "name": "stdout",
          "text": [
            "Epoch [1/10], Train Loss: 1.3876\n",
            "Test Accuracy: 56.319149 %, Test loss: 1.516405\n",
            "Epoch [2/10], Train Loss: 0.9307\n",
            "Test Accuracy: 62.388298 %, Test loss: 1.321145\n",
            "Epoch [3/10], Train Loss: 1.5041\n",
            "Test Accuracy: 65.718085 %, Test loss: 1.204580\n",
            "Epoch [4/10], Train Loss: 0.8572\n",
            "Test Accuracy: 69.047872 %, Test loss: 1.092319\n",
            "Epoch [5/10], Train Loss: 1.1333\n",
            "Test Accuracy: 70.430851 %, Test loss: 1.021972\n",
            "Epoch [6/10], Train Loss: 0.6517\n",
            "Test Accuracy: 74.063830 %, Test loss: 0.922716\n",
            "Epoch [7/10], Train Loss: 0.7301\n",
            "Test Accuracy: 74.930851 %, Test loss: 0.865292\n",
            "Epoch [8/10], Train Loss: 0.7425\n",
            "Test Accuracy: 76.297872 %, Test loss: 0.801390\n",
            "Epoch [9/10], Train Loss: 0.5534\n",
            "Test Accuracy: 76.734043 %, Test loss: 0.788351\n",
            "Epoch [10/10], Train Loss: 1.0099\n",
            "Test Accuracy: 78.377660 %, Test loss: 0.716760\n"
          ]
        }
      ]
    },
    {
      "cell_type": "code",
      "source": [
        "plt.figure(figsize=(7,5))\n",
        "plt.plot(train_loss,label='Train loss')\n",
        "plt.plot(test_losses, label='Test loss')\n",
        "plt.xlabel('Epochs')\n",
        "plt.ylabel('Loss')\n",
        "plt.title('Loss vs Epochs')\n",
        "plt.legend()"
      ],
      "metadata": {
        "colab": {
          "base_uri": "https://localhost:8080/",
          "height": 368
        },
        "id": "v4Vr8OBd-Ub3",
        "outputId": "c4663217-991f-42f8-c67f-c7701348efed"
      },
      "execution_count": null,
      "outputs": [
        {
          "output_type": "execute_result",
          "data": {
            "text/plain": [
              "<matplotlib.legend.Legend at 0x7f793b0b5c10>"
            ]
          },
          "metadata": {},
          "execution_count": 14
        },
        {
          "output_type": "display_data",
          "data": {
            "image/png": "[encoded data removed]",
            "text/plain": [
              "<Figure size 504x360 with 1 Axes>"
            ]
          },
          "metadata": {
            "needs_background": "light"
          }
        }
      ]
    },
    {
      "cell_type": "code",
      "source": [],
      "metadata": {
        "id": "t_7m-2tJR-Ck"
      },
      "execution_count": null,
      "outputs": []
    }
  ]
}