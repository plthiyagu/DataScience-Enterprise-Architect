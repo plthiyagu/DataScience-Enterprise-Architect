{
  "nbformat": 4,
  "nbformat_minor": 0,
  "metadata": {
    "colab": {
      "name": "Deploying Image Classifier as Web Application.ipynb",
      "provenance": [],
      "collapsed_sections": [],
      "authorship_tag": "ABX9TyPJQyO601S6GQWZ0nHl/U5A",
      "include_colab_link": true
    },
    "kernelspec": {
      "name": "python3",
      "display_name": "Python 3"
    },
    "accelerator": "GPU"
  },
  "cells": [
    {
      "cell_type": "markdown",
      "metadata": {
        "id": "view-in-github",
        "colab_type": "text"
      },
      "source": [
        "<a href=\"https://colab.research.google.com/github/plthiyagu/Personnel/blob/master/Deploying_Image_Classifier_as_Web_Application.ipynb\" target=\"_parent\"><img src=\"https://colab.research.google.com/assets/colab-badge.svg\" alt=\"Open In Colab\"/></a>"
      ]
    },
    {
      "cell_type": "code",
      "metadata": {
        "id": "Y04k-zW4PqoC",
        "colab_type": "code",
        "colab": {
          "base_uri": "https://localhost:8080/",
          "height": 122
        },
        "outputId": "b929e18c-ea3e-471f-f5e5-dfd4166a1836"
      },
      "source": [
        "from google.colab import drive\n",
        "drive.mount('/content/drive')"
      ],
      "execution_count": 1,
      "outputs": [
        {
          "output_type": "stream",
          "text": [
            "Go to this URL in a browser: https://accounts.google.com/o/oauth2/auth?client_id=947318989803-6bn6qk8qdgf4n4g3pfee6491hc0brc4i.apps.googleusercontent.com&redirect_uri=urn%3aietf%3awg%3aoauth%3a2.0%3aoob&response_type=code&scope=email%20https%3a%2f%2fwww.googleapis.com%2fauth%2fdocs.test%20https%3a%2f%2fwww.googleapis.com%2fauth%2fdrive%20https%3a%2f%2fwww.googleapis.com%2fauth%2fdrive.photos.readonly%20https%3a%2f%2fwww.googleapis.com%2fauth%2fpeopleapi.readonly\n",
            "\n",
            "Enter your authorization code:\n",
            "··········\n",
            "Mounted at /content/drive\n"
          ],
          "name": "stdout"
        }
      ]
    },
    {
      "cell_type": "code",
      "metadata": {
        "id": "BD805RbAPaI6",
        "colab_type": "code",
        "colab": {}
      },
      "source": [
        "!mkdir -p /drive\n",
        "#umount /drive\n",
        "!mount --bind /content/drive/My\\ Drive /drive\n",
        "!mkdir -p /drive/ngrok-ssh\n",
        "!mkdir -p ~/.ssh"
      ],
      "execution_count": 2,
      "outputs": []
    },
    {
      "cell_type": "code",
      "metadata": {
        "id": "YG_d7t4h-1Kq",
        "colab_type": "code",
        "colab": {
          "base_uri": "https://localhost:8080/",
          "height": 632
        },
        "outputId": "c9dff947-559b-4162-db70-8bf1cb9f23ca"
      },
      "source": [
        "!pip install ipykernel==4.10"
      ],
      "execution_count": 3,
      "outputs": [
        {
          "output_type": "stream",
          "text": [
            "Collecting ipykernel==4.10\n",
            "\u001b[?25l  Downloading https://files.pythonhosted.org/packages/22/5e/69b0ae84e0cd7c8d4467e0a7b390c560d8c7642493329b15461b41e20fcc/ipykernel-4.10.0-py3-none-any.whl (109kB)\n",
            "\r\u001b[K     |███                             | 10kB 18.9MB/s eta 0:00:01\r\u001b[K     |██████                          | 20kB 4.4MB/s eta 0:00:01\r\u001b[K     |█████████                       | 30kB 5.5MB/s eta 0:00:01\r\u001b[K     |████████████                    | 40kB 6.3MB/s eta 0:00:01\r\u001b[K     |███████████████                 | 51kB 5.1MB/s eta 0:00:01\r\u001b[K     |█████████████████▉              | 61kB 5.6MB/s eta 0:00:01\r\u001b[K     |████████████████████▉           | 71kB 6.0MB/s eta 0:00:01\r\u001b[K     |███████████████████████▉        | 81kB 6.6MB/s eta 0:00:01\r\u001b[K     |██████████████████████████▉     | 92kB 7.0MB/s eta 0:00:01\r\u001b[K     |█████████████████████████████▉  | 102kB 7.0MB/s eta 0:00:01\r\u001b[K     |████████████████████████████████| 112kB 7.0MB/s \n",
            "\u001b[?25hRequirement already satisfied: ipython>=4.0.0 in /usr/local/lib/python3.6/dist-packages (from ipykernel==4.10) (5.5.0)\n",
            "Requirement already satisfied: jupyter-client in /usr/local/lib/python3.6/dist-packages (from ipykernel==4.10) (5.3.5)\n",
            "Requirement already satisfied: traitlets>=4.1.0 in /usr/local/lib/python3.6/dist-packages (from ipykernel==4.10) (4.3.3)\n",
            "Requirement already satisfied: tornado>=4.0 in /usr/local/lib/python3.6/dist-packages (from ipykernel==4.10) (5.1.1)\n",
            "Requirement already satisfied: decorator in /usr/local/lib/python3.6/dist-packages (from ipython>=4.0.0->ipykernel==4.10) (4.4.2)\n",
            "Requirement already satisfied: simplegeneric>0.8 in /usr/local/lib/python3.6/dist-packages (from ipython>=4.0.0->ipykernel==4.10) (0.8.1)\n",
            "Requirement already satisfied: prompt-toolkit<2.0.0,>=1.0.4 in /usr/local/lib/python3.6/dist-packages (from ipython>=4.0.0->ipykernel==4.10) (1.0.18)\n",
            "Requirement already satisfied: pexpect; sys_platform != \"win32\" in /usr/local/lib/python3.6/dist-packages (from ipython>=4.0.0->ipykernel==4.10) (4.8.0)\n",
            "Requirement already satisfied: pickleshare in /usr/local/lib/python3.6/dist-packages (from ipython>=4.0.0->ipykernel==4.10) (0.7.5)\n",
            "Requirement already satisfied: setuptools>=18.5 in /usr/local/lib/python3.6/dist-packages (from ipython>=4.0.0->ipykernel==4.10) (49.2.0)\n",
            "Requirement already satisfied: pygments in /usr/local/lib/python3.6/dist-packages (from ipython>=4.0.0->ipykernel==4.10) (2.1.3)\n",
            "Requirement already satisfied: python-dateutil>=2.1 in /usr/local/lib/python3.6/dist-packages (from jupyter-client->ipykernel==4.10) (2.8.1)\n",
            "Requirement already satisfied: jupyter-core>=4.6.0 in /usr/local/lib/python3.6/dist-packages (from jupyter-client->ipykernel==4.10) (4.6.3)\n",
            "Requirement already satisfied: pyzmq>=13 in /usr/local/lib/python3.6/dist-packages (from jupyter-client->ipykernel==4.10) (19.0.1)\n",
            "Requirement already satisfied: six in /usr/local/lib/python3.6/dist-packages (from traitlets>=4.1.0->ipykernel==4.10) (1.15.0)\n",
            "Requirement already satisfied: ipython-genutils in /usr/local/lib/python3.6/dist-packages (from traitlets>=4.1.0->ipykernel==4.10) (0.2.0)\n",
            "Requirement already satisfied: wcwidth in /usr/local/lib/python3.6/dist-packages (from prompt-toolkit<2.0.0,>=1.0.4->ipython>=4.0.0->ipykernel==4.10) (0.2.5)\n",
            "Requirement already satisfied: ptyprocess>=0.5 in /usr/local/lib/python3.6/dist-packages (from pexpect; sys_platform != \"win32\"->ipython>=4.0.0->ipykernel==4.10) (0.6.0)\n",
            "Installing collected packages: ipykernel\n",
            "  Found existing installation: ipykernel 4.10.1\n",
            "    Uninstalling ipykernel-4.10.1:\n",
            "      Successfully uninstalled ipykernel-4.10.1\n",
            "Successfully installed ipykernel-4.10.0\n"
          ],
          "name": "stdout"
        },
        {
          "output_type": "display_data",
          "data": {
            "application/vnd.colab-display-data+json": {
              "pip_warning": {
                "packages": [
                  "ipykernel"
                ]
              }
            }
          },
          "metadata": {
            "tags": []
          }
        }
      ]
    },
    {
      "cell_type": "code",
      "metadata": {
        "id": "srRG_XZQ-7H-",
        "colab_type": "code",
        "colab": {
          "base_uri": "https://localhost:8080/",
          "height": 216
        },
        "outputId": "985870e6-8e00-4eb5-f3e3-a22d19b33c28"
      },
      "source": [
        "!pip install -q streamlit"
      ],
      "execution_count": null,
      "outputs": [
        {
          "output_type": "stream",
          "text": [
            "\u001b[K     |████████████████████████████████| 7.1MB 5.6MB/s \n",
            "\u001b[K     |████████████████████████████████| 102kB 11.7MB/s \n",
            "\u001b[K     |████████████████████████████████| 112kB 40.8MB/s \n",
            "\u001b[K     |████████████████████████████████| 4.4MB 43.2MB/s \n",
            "\u001b[K     |████████████████████████████████| 122kB 44.6MB/s \n",
            "\u001b[?25h  Building wheel for watchdog (setup.py) ... \u001b[?25l\u001b[?25hdone\n",
            "  Building wheel for blinker (setup.py) ... \u001b[?25l\u001b[?25hdone\n",
            "  Building wheel for validators (setup.py) ... \u001b[?25l\u001b[?25hdone\n",
            "  Building wheel for pathtools (setup.py) ... \u001b[?25l\u001b[?25hdone\n",
            "\u001b[31mERROR: google-colab 1.0.0 has requirement ipykernel~=4.10, but you'll have ipykernel 5.3.4 which is incompatible.\u001b[0m\n"
          ],
          "name": "stdout"
        }
      ]
    },
    {
      "cell_type": "code",
      "metadata": {
        "id": "pW1UiI_k-_mb",
        "colab_type": "code",
        "colab": {
          "base_uri": "https://localhost:8080/",
          "height": 204
        },
        "outputId": "1a4f0301-1851-4f37-f013-95fb9a23cb76"
      },
      "source": [
        "!pip install pyngrok"
      ],
      "execution_count": 1,
      "outputs": [
        {
          "output_type": "stream",
          "text": [
            "Collecting pyngrok\n",
            "  Downloading https://files.pythonhosted.org/packages/94/bb/0d5bff58a5bd9b17f1c35821ffb127f10eca7a3fc844e0ad827026ac1d2c/pyngrok-4.1.8.tar.gz\n",
            "Requirement already satisfied: future in /usr/local/lib/python3.6/dist-packages (from pyngrok) (0.16.0)\n",
            "Requirement already satisfied: PyYAML in /usr/local/lib/python3.6/dist-packages (from pyngrok) (3.13)\n",
            "Building wheels for collected packages: pyngrok\n",
            "  Building wheel for pyngrok (setup.py) ... \u001b[?25l\u001b[?25hdone\n",
            "  Created wheel for pyngrok: filename=pyngrok-4.1.8-cp36-none-any.whl size=16337 sha256=f4bbb89876e5c9222a102682d93005605b6c196f5470b9407258e94758086506\n",
            "  Stored in directory: /root/.cache/pip/wheels/7d/25/b7/5e4a3aefe7dd2dd9cec445786d64fe70e885109636fea356c7\n",
            "Successfully built pyngrok\n",
            "Installing collected packages: pyngrok\n",
            "Successfully installed pyngrok-4.1.8\n"
          ],
          "name": "stdout"
        }
      ]
    },
    {
      "cell_type": "code",
      "metadata": {
        "id": "-1idOtGUeRgo",
        "colab_type": "code",
        "colab": {
          "base_uri": "https://localhost:8080/",
          "height": 1000
        },
        "outputId": "3e57f41a-e25f-46db-da5c-3df0294b9c94"
      },
      "source": [
        "!apt-get install ssh tmux vim"
      ],
      "execution_count": 3,
      "outputs": [
        {
          "output_type": "stream",
          "text": [
            "Reading package lists... Done\n",
            "Building dependency tree       \n",
            "Reading state information... Done\n",
            "The following package was automatically installed and is no longer required:\n",
            "  libnvidia-common-440\n",
            "Use 'apt autoremove' to remove it.\n",
            "The following additional packages will be installed:\n",
            "  libevent-2.1-6 libgpm2 libutempter0 ncurses-term openssh-server\n",
            "  openssh-sftp-server python3-certifi python3-chardet python3-idna\n",
            "  python3-pkg-resources python3-requests python3-six python3-urllib3\n",
            "  ssh-import-id vim-common vim-runtime xxd\n",
            "Suggested packages:\n",
            "  gpm molly-guard monkeysphere rssh ssh-askpass ufw python3-setuptools\n",
            "  python3-cryptography python3-openssl python3-socks ctags vim-doc vim-scripts\n",
            "The following NEW packages will be installed:\n",
            "  libevent-2.1-6 libgpm2 libutempter0 ncurses-term openssh-server\n",
            "  openssh-sftp-server python3-certifi python3-chardet python3-idna\n",
            "  python3-pkg-resources python3-requests python3-six python3-urllib3 ssh\n",
            "  ssh-import-id tmux vim vim-common vim-runtime xxd\n",
            "0 upgraded, 20 newly installed, 0 to remove and 35 not upgraded.\n",
            "Need to get 8,267 kB of archives.\n",
            "After this operation, 41.3 MB of additional disk space will be used.\n",
            "Get:1 http://archive.ubuntu.com/ubuntu bionic-updates/main amd64 openssh-sftp-server amd64 1:7.6p1-4ubuntu0.3 [45.6 kB]\n",
            "Get:2 http://archive.ubuntu.com/ubuntu bionic-updates/main amd64 openssh-server amd64 1:7.6p1-4ubuntu0.3 [333 kB]\n",
            "Get:3 http://archive.ubuntu.com/ubuntu bionic-updates/main amd64 ssh all 1:7.6p1-4ubuntu0.3 [5,204 B]\n",
            "Get:4 http://archive.ubuntu.com/ubuntu bionic-updates/main amd64 xxd amd64 2:8.0.1453-1ubuntu1.3 [49.4 kB]\n",
            "Get:5 http://archive.ubuntu.com/ubuntu bionic-updates/main amd64 vim-common all 2:8.0.1453-1ubuntu1.3 [70.6 kB]\n",
            "Get:6 http://archive.ubuntu.com/ubuntu bionic/main amd64 libevent-2.1-6 amd64 2.1.8-stable-4build1 [133 kB]\n",
            "Get:7 http://archive.ubuntu.com/ubuntu bionic/main amd64 libgpm2 amd64 1.20.7-5 [15.1 kB]\n",
            "Get:8 http://archive.ubuntu.com/ubuntu bionic/main amd64 libutempter0 amd64 1.1.6-3 [7,898 B]\n",
            "Get:9 http://archive.ubuntu.com/ubuntu bionic-updates/main amd64 ncurses-term all 6.1-1ubuntu1.18.04 [248 kB]\n",
            "Get:10 http://archive.ubuntu.com/ubuntu bionic/main amd64 python3-certifi all 2018.1.18-2 [144 kB]\n",
            "Get:11 http://archive.ubuntu.com/ubuntu bionic/main amd64 python3-pkg-resources all 39.0.1-2 [98.8 kB]\n",
            "Get:12 http://archive.ubuntu.com/ubuntu bionic/main amd64 python3-chardet all 3.0.4-1 [80.3 kB]\n",
            "Get:13 http://archive.ubuntu.com/ubuntu bionic/main amd64 python3-idna all 2.6-1 [32.5 kB]\n",
            "Get:14 http://archive.ubuntu.com/ubuntu bionic/main amd64 python3-six all 1.11.0-2 [11.4 kB]\n",
            "Get:15 http://archive.ubuntu.com/ubuntu bionic-updates/main amd64 python3-urllib3 all 1.22-1ubuntu0.18.04.1 [86.0 kB]\n",
            "Get:16 http://archive.ubuntu.com/ubuntu bionic-updates/main amd64 python3-requests all 2.18.4-2ubuntu0.1 [58.3 kB]\n",
            "Get:17 http://archive.ubuntu.com/ubuntu bionic-updates/main amd64 tmux amd64 2.6-3ubuntu0.2 [248 kB]\n",
            "Get:18 http://archive.ubuntu.com/ubuntu bionic-updates/main amd64 vim-runtime all 2:8.0.1453-1ubuntu1.3 [5,436 kB]\n",
            "Get:19 http://archive.ubuntu.com/ubuntu bionic-updates/main amd64 vim amd64 2:8.0.1453-1ubuntu1.3 [1,153 kB]\n",
            "Get:20 http://archive.ubuntu.com/ubuntu bionic-updates/main amd64 ssh-import-id all 5.7-0ubuntu1.1 [10.9 kB]\n",
            "Fetched 8,267 kB in 0s (39.6 MB/s)\n",
            "Preconfiguring packages ...\n",
            "Selecting previously unselected package openssh-sftp-server.\n",
            "(Reading database ... 144487 files and directories currently installed.)\n",
            "Preparing to unpack .../00-openssh-sftp-server_1%3a7.6p1-4ubuntu0.3_amd64.deb ...\n",
            "Unpacking openssh-sftp-server (1:7.6p1-4ubuntu0.3) ...\n",
            "Selecting previously unselected package openssh-server.\n",
            "Preparing to unpack .../01-openssh-server_1%3a7.6p1-4ubuntu0.3_amd64.deb ...\n",
            "Unpacking openssh-server (1:7.6p1-4ubuntu0.3) ...\n",
            "Selecting previously unselected package ssh.\n",
            "Preparing to unpack .../02-ssh_1%3a7.6p1-4ubuntu0.3_all.deb ...\n",
            "Unpacking ssh (1:7.6p1-4ubuntu0.3) ...\n",
            "Selecting previously unselected package xxd.\n",
            "Preparing to unpack .../03-xxd_2%3a8.0.1453-1ubuntu1.3_amd64.deb ...\n",
            "Unpacking xxd (2:8.0.1453-1ubuntu1.3) ...\n",
            "Selecting previously unselected package vim-common.\n",
            "Preparing to unpack .../04-vim-common_2%3a8.0.1453-1ubuntu1.3_all.deb ...\n",
            "Unpacking vim-common (2:8.0.1453-1ubuntu1.3) ...\n",
            "Selecting previously unselected package libevent-2.1-6:amd64.\n",
            "Preparing to unpack .../05-libevent-2.1-6_2.1.8-stable-4build1_amd64.deb ...\n",
            "Unpacking libevent-2.1-6:amd64 (2.1.8-stable-4build1) ...\n",
            "Selecting previously unselected package libgpm2:amd64.\n",
            "Preparing to unpack .../06-libgpm2_1.20.7-5_amd64.deb ...\n",
            "Unpacking libgpm2:amd64 (1.20.7-5) ...\n",
            "Selecting previously unselected package libutempter0:amd64.\n",
            "Preparing to unpack .../07-libutempter0_1.1.6-3_amd64.deb ...\n",
            "Unpacking libutempter0:amd64 (1.1.6-3) ...\n",
            "Selecting previously unselected package ncurses-term.\n",
            "Preparing to unpack .../08-ncurses-term_6.1-1ubuntu1.18.04_all.deb ...\n",
            "Unpacking ncurses-term (6.1-1ubuntu1.18.04) ...\n",
            "Selecting previously unselected package python3-certifi.\n",
            "Preparing to unpack .../09-python3-certifi_2018.1.18-2_all.deb ...\n",
            "Unpacking python3-certifi (2018.1.18-2) ...\n",
            "Selecting previously unselected package python3-pkg-resources.\n",
            "Preparing to unpack .../10-python3-pkg-resources_39.0.1-2_all.deb ...\n",
            "Unpacking python3-pkg-resources (39.0.1-2) ...\n",
            "Selecting previously unselected package python3-chardet.\n",
            "Preparing to unpack .../11-python3-chardet_3.0.4-1_all.deb ...\n",
            "Unpacking python3-chardet (3.0.4-1) ...\n",
            "Selecting previously unselected package python3-idna.\n",
            "Preparing to unpack .../12-python3-idna_2.6-1_all.deb ...\n",
            "Unpacking python3-idna (2.6-1) ...\n",
            "Selecting previously unselected package python3-six.\n",
            "Preparing to unpack .../13-python3-six_1.11.0-2_all.deb ...\n",
            "Unpacking python3-six (1.11.0-2) ...\n",
            "Selecting previously unselected package python3-urllib3.\n",
            "Preparing to unpack .../14-python3-urllib3_1.22-1ubuntu0.18.04.1_all.deb ...\n",
            "Unpacking python3-urllib3 (1.22-1ubuntu0.18.04.1) ...\n",
            "Selecting previously unselected package python3-requests.\n",
            "Preparing to unpack .../15-python3-requests_2.18.4-2ubuntu0.1_all.deb ...\n",
            "Unpacking python3-requests (2.18.4-2ubuntu0.1) ...\n",
            "Selecting previously unselected package tmux.\n",
            "Preparing to unpack .../16-tmux_2.6-3ubuntu0.2_amd64.deb ...\n",
            "Unpacking tmux (2.6-3ubuntu0.2) ...\n",
            "Selecting previously unselected package vim-runtime.\n",
            "Preparing to unpack .../17-vim-runtime_2%3a8.0.1453-1ubuntu1.3_all.deb ...\n",
            "Adding 'diversion of /usr/share/vim/vim80/doc/help.txt to /usr/share/vim/vim80/doc/help.txt.vim-tiny by vim-runtime'\n",
            "Adding 'diversion of /usr/share/vim/vim80/doc/tags to /usr/share/vim/vim80/doc/tags.vim-tiny by vim-runtime'\n",
            "Unpacking vim-runtime (2:8.0.1453-1ubuntu1.3) ...\n",
            "Selecting previously unselected package vim.\n",
            "Preparing to unpack .../18-vim_2%3a8.0.1453-1ubuntu1.3_amd64.deb ...\n",
            "Unpacking vim (2:8.0.1453-1ubuntu1.3) ...\n",
            "Selecting previously unselected package ssh-import-id.\n",
            "Preparing to unpack .../19-ssh-import-id_5.7-0ubuntu1.1_all.deb ...\n",
            "Unpacking ssh-import-id (5.7-0ubuntu1.1) ...\n",
            "Setting up ncurses-term (6.1-1ubuntu1.18.04) ...\n",
            "Setting up libevent-2.1-6:amd64 (2.1.8-stable-4build1) ...\n",
            "Setting up xxd (2:8.0.1453-1ubuntu1.3) ...\n",
            "Setting up libgpm2:amd64 (1.20.7-5) ...\n",
            "Setting up python3-idna (2.6-1) ...\n",
            "Setting up python3-six (1.11.0-2) ...\n",
            "Setting up python3-certifi (2018.1.18-2) ...\n",
            "Setting up python3-pkg-resources (39.0.1-2) ...\n",
            "Setting up libutempter0:amd64 (1.1.6-3) ...\n",
            "Setting up openssh-sftp-server (1:7.6p1-4ubuntu0.3) ...\n",
            "Setting up python3-chardet (3.0.4-1) ...\n",
            "Setting up vim-common (2:8.0.1453-1ubuntu1.3) ...\n",
            "Setting up tmux (2.6-3ubuntu0.2) ...\n",
            "Setting up vim-runtime (2:8.0.1453-1ubuntu1.3) ...\n",
            "Setting up python3-urllib3 (1.22-1ubuntu0.18.04.1) ...\n",
            "Setting up vim (2:8.0.1453-1ubuntu1.3) ...\n",
            "update-alternatives: using /usr/bin/vim.basic to provide /usr/bin/vim (vim) in auto mode\n",
            "update-alternatives: using /usr/bin/vim.basic to provide /usr/bin/vimdiff (vimdiff) in auto mode\n",
            "update-alternatives: using /usr/bin/vim.basic to provide /usr/bin/rvim (rvim) in auto mode\n",
            "update-alternatives: using /usr/bin/vim.basic to provide /usr/bin/rview (rview) in auto mode\n",
            "update-alternatives: using /usr/bin/vim.basic to provide /usr/bin/vi (vi) in auto mode\n",
            "update-alternatives: using /usr/bin/vim.basic to provide /usr/bin/view (view) in auto mode\n",
            "update-alternatives: using /usr/bin/vim.basic to provide /usr/bin/ex (ex) in auto mode\n",
            "update-alternatives: using /usr/bin/vim.basic to provide /usr/bin/editor (editor) in auto mode\n",
            "Setting up openssh-server (1:7.6p1-4ubuntu0.3) ...\n",
            "\n",
            "Creating config file /etc/ssh/sshd_config with new version\n",
            "Creating SSH2 RSA key; this may take some time ...\n",
            "2048 SHA256:XcJhSJj4ihJ6XsEyNbHl2DuZ4f/vxRdUN2CQYbuXVG8 root@6834bddab0db (RSA)\n",
            "Creating SSH2 ECDSA key; this may take some time ...\n",
            "256 SHA256:+cI6vIOB+HBya4KM9yjoB7qLOqiZO/x5tQWU2Fak/+A root@6834bddab0db (ECDSA)\n",
            "Creating SSH2 ED25519 key; this may take some time ...\n",
            "256 SHA256:dkwuUxK5J4Zbx7+PoLZwQi8rJU2ciEiCD4hOyJUbEco root@6834bddab0db (ED25519)\n",
            "Created symlink /etc/systemd/system/sshd.service → /lib/systemd/system/ssh.service.\n",
            "Created symlink /etc/systemd/system/multi-user.target.wants/ssh.service → /lib/systemd/system/ssh.service.\n",
            "invoke-rc.d: could not determine current runlevel\n",
            "invoke-rc.d: policy-rc.d denied execution of start.\n",
            "Setting up python3-requests (2.18.4-2ubuntu0.1) ...\n",
            "Setting up ssh-import-id (5.7-0ubuntu1.1) ...\n",
            "Setting up ssh (1:7.6p1-4ubuntu0.3) ...\n",
            "Processing triggers for systemd (237-3ubuntu10.41) ...\n",
            "Processing triggers for man-db (2.8.3-2ubuntu0.1) ...\n",
            "Processing triggers for hicolor-icon-theme (0.17-2) ...\n",
            "Processing triggers for mime-support (3.60ubuntu1) ...\n",
            "Processing triggers for libc-bin (2.27-3ubuntu1) ...\n",
            "/sbin/ldconfig.real: /usr/local/lib/python3.6/dist-packages/ideep4py/lib/libmkldnn.so.0 is not a symbolic link\n",
            "\n"
          ],
          "name": "stdout"
        }
      ]
    },
    {
      "cell_type": "code",
      "metadata": {
        "id": "dgFKaf8OPCoP",
        "colab_type": "code",
        "colab": {
          "base_uri": "https://localhost:8080/",
          "height": 34
        },
        "outputId": "99c23404-86d5-4510-e307-6a9655c7bbaa"
      },
      "source": [
        "#@title\n",
        "%%writefile /drive/ngrok-ssh/sshd_config\n",
        "#\t$OpenBSD: sshd_config,v 1.101 2017/03/14 07:19:07 djm Exp $\n",
        "\n",
        "# This is the sshd server system-wide configuration file.  See\n",
        "# sshd_config(5) for more information.\n",
        "\n",
        "# This sshd was compiled with PATH=/usr/bin:/bin:/usr/sbin:/sbin\n",
        "\n",
        "# The strategy used for options in the default sshd_config shipped with\n",
        "# OpenSSH is to specify options with their default value where\n",
        "# possible, but leave them commented.  Uncommented options override the\n",
        "# default value.\n",
        "\n",
        "#Port 22\n",
        "#AddressFamily any\n",
        "#ListenAddress 0.0.0.0\n",
        "#ListenAddress ::\n",
        "\n",
        "#HostKey /etc/ssh/ssh_host_rsa_key\n",
        "#HostKey /etc/ssh/ssh_host_ecdsa_key\n",
        "#HostKey /etc/ssh/ssh_host_ed25519_key\n",
        "\n",
        "# Ciphers and keying\n",
        "#RekeyLimit default none\n",
        "\n",
        "# Logging\n",
        "#SyslogFacility AUTH\n",
        "#LogLevel INFO\n",
        "\n",
        "# Authentication:\n",
        "\n",
        "#LoginGraceTime 2m\n",
        "#PermitRootLogin prohibit-password\n",
        "#StrictModes yes\n",
        "#MaxAuthTries 6\n",
        "#MaxSessions 10\n",
        "\n",
        "#PubkeyAuthentication yes\n",
        "\n",
        "# Expect .ssh/authorized_keys2 to be disregarded by default in future.\n",
        "#AuthorizedKeysFile\t.ssh/authorized_keys .ssh/authorized_keys2\n",
        "\n",
        "#AuthorizedPrincipalsFile none\n",
        "\n",
        "#AuthorizedKeysCommand none\n",
        "#AuthorizedKeysCommandUser nobody\n",
        "\n",
        "# For this to work you will also need host keys in /etc/ssh/ssh_known_hosts\n",
        "#HostbasedAuthentication no\n",
        "# Change to yes if you don't trust ~/.ssh/known_hosts for\n",
        "# HostbasedAuthentication\n",
        "#IgnoreUserKnownHosts no\n",
        "# Don't read the user's ~/.rhosts and ~/.shosts files\n",
        "#IgnoreRhosts yes\n",
        "\n",
        "# To disable tunneled clear text passwords, change to no here!\n",
        "#PasswordAuthentication yes\n",
        "#PermitEmptyPasswords no\n",
        "\n",
        "# Change to yes to enable challenge-response passwords (beware issues with\n",
        "# some PAM modules and threads)\n",
        "ChallengeResponseAuthentication no\n",
        "\n",
        "# Kerberos options\n",
        "#KerberosAuthentication no\n",
        "#KerberosOrLocalPasswd yes\n",
        "#KerberosTicketCleanup yes\n",
        "#KerberosGetAFSToken no\n",
        "\n",
        "# GSSAPI options\n",
        "#GSSAPIAuthentication no\n",
        "#GSSAPICleanupCredentials yes\n",
        "#GSSAPIStrictAcceptorCheck yes\n",
        "#GSSAPIKeyExchange no\n",
        "\n",
        "# Set this to 'yes' to enable PAM authentication, account processing,\n",
        "# and session processing. If this is enabled, PAM authentication will\n",
        "# be allowed through the ChallengeResponseAuthentication and\n",
        "# PasswordAuthentication.  Depending on your PAM configuration,\n",
        "# PAM authentication via ChallengeResponseAuthentication may bypass\n",
        "# the setting of \"PermitRootLogin without-password\".\n",
        "# If you just want the PAM account and session checks to run without\n",
        "# PAM authentication, then enable this but set PasswordAuthentication\n",
        "# and ChallengeResponseAuthentication to 'no'.\n",
        "UsePAM yes\n",
        "\n",
        "#AllowAgentForwarding yes\n",
        "AllowTcpForwarding yes\n",
        "#GatewayPorts no\n",
        "X11Forwarding yes\n",
        "#X11DisplayOffset 10\n",
        "#X11UseLocalhost yes\n",
        "#PermitTTY yes\n",
        "PrintMotd no\n",
        "#PrintLastLog yes\n",
        "#TCPKeepAlive yes\n",
        "#UseLogin no\n",
        "#PermitUserEnvironment no\n",
        "#Compression delayed\n",
        "#ClientAliveInterval 0\n",
        "#ClientAliveCountMax 3\n",
        "#UseDNS no\n",
        "#PidFile /var/run/sshd.pid\n",
        "#MaxStartups 10:30:100\n",
        "#PermitTunnel no\n",
        "#ChrootDirectory none\n",
        "#VersionAddendum none\n",
        "\n",
        "# no default banner path\n",
        "#Banner none\n",
        "\n",
        "# Allow client to pass locale environment variables\n",
        "AcceptEnv LANG LC_*\n",
        "\n",
        "# override default of no subsystems\n",
        "Subsystem\tsftp\t/usr/lib/openssh/sftp-server\n",
        "\n",
        "# Example of overriding settings on a per-user basis\n",
        "#Match User anoncvs\n",
        "#\tX11Forwarding no\n",
        "#\tAllowTcpForwarding no\n",
        "#\tPermitTTY no\n",
        "#\tForceCommand cvs server"
      ],
      "execution_count": 4,
      "outputs": [
        {
          "output_type": "stream",
          "text": [
            "Overwriting /drive/ngrok-ssh/sshd_config\n"
          ],
          "name": "stdout"
        }
      ]
    },
    {
      "cell_type": "code",
      "metadata": {
        "id": "DnCB8k_dP95q",
        "colab_type": "code",
        "colab": {
          "base_uri": "https://localhost:8080/",
          "height": 34
        },
        "outputId": "3e613158-f022-412b-a104-70540c973cb4"
      },
      "source": [
        "%%writefile ~/.ssh/authorized_keys\n",
        "REPLACE_THIS_LINE_WITH_YOUR_ID_RSA_PUB_FILE"
      ],
      "execution_count": 5,
      "outputs": [
        {
          "output_type": "stream",
          "text": [
            "Writing /root/.ssh/authorized_keys\n"
          ],
          "name": "stdout"
        }
      ]
    },
    {
      "cell_type": "code",
      "metadata": {
        "id": "KHfngj9RQEOm",
        "colab_type": "code",
        "colab": {
          "base_uri": "https://localhost:8080/",
          "height": 51
        },
        "outputId": "35d3c83d-3d7a-4f5a-ceae-1417105d58a9"
      },
      "source": [
        "!cp /drive/ngrok-ssh/sshd_config /etc/ssh/sshd_config\n",
        "!service ssh restart\n",
        "!mkdir -p ~/.ssh"
      ],
      "execution_count": 6,
      "outputs": [
        {
          "output_type": "stream",
          "text": [
            " * Restarting OpenBSD Secure Shell server sshd\n",
            "   ...done.\n"
          ],
          "name": "stdout"
        }
      ]
    },
    {
      "cell_type": "code",
      "metadata": {
        "id": "dGQi1kt9QIEi",
        "colab_type": "code",
        "colab": {
          "base_uri": "https://localhost:8080/",
          "height": 238
        },
        "outputId": "642780fb-050f-441a-cbff-e54362b353db"
      },
      "source": [
        "!mkdir -p /drive/ngrok-ssh\n",
        "%cd /drive/ngrok-ssh\n",
        "!wget https://bin.equinox.io/c/4VmDzA7iaHb/ngrok-stable-linux-amd64.zip -O ngrok-stable-linux-amd64.zip\n",
        "!unzip -u ngrok-stable-linux-amd64.zip\n",
        "!cp /drive/ngrok-ssh/ngrok /ngrok\n",
        "!chmod +x /ngrok"
      ],
      "execution_count": 7,
      "outputs": [
        {
          "output_type": "stream",
          "text": [
            "/drive/ngrok-ssh\n",
            "--2020-08-03 17:58:54--  https://bin.equinox.io/c/4VmDzA7iaHb/ngrok-stable-linux-amd64.zip\n",
            "Resolving bin.equinox.io (bin.equinox.io)... 18.214.118.253, 52.54.251.217, 3.233.171.45, ...\n",
            "Connecting to bin.equinox.io (bin.equinox.io)|18.214.118.253|:443... connected.\n",
            "HTTP request sent, awaiting response... 200 OK\n",
            "Length: 13773305 (13M) [application/octet-stream]\n",
            "Saving to: ‘ngrok-stable-linux-amd64.zip’\n",
            "\n",
            "ngrok-stable-linux- 100%[===================>]  13.13M  11.9MB/s    in 1.1s    \n",
            "\n",
            "2020-08-03 17:58:55 (11.9 MB/s) - ‘ngrok-stable-linux-amd64.zip’ saved [13773305/13773305]\n",
            "\n",
            "Archive:  ngrok-stable-linux-amd64.zip\n"
          ],
          "name": "stdout"
        }
      ]
    },
    {
      "cell_type": "code",
      "metadata": {
        "id": "srTYI8tYQLvj",
        "colab_type": "code",
        "colab": {
          "base_uri": "https://localhost:8080/",
          "height": 34
        },
        "outputId": "a9fad3cd-e611-4e1f-b1bb-4afba0e0c4d0"
      },
      "source": [
        "!/ngrok authtoken XXXXXXXXXXXXXXXXXXXXXXXXX"
      ],
      "execution_count": 8,
      "outputs": [
        {
          "output_type": "stream",
          "text": [
            "Authtoken saved to configuration file: /root/.ngrok2/ngrok.yml\n"
          ],
          "name": "stdout"
        }
      ]
    },
    {
      "cell_type": "code",
      "metadata": {
        "id": "6CI0LjXVQQdS",
        "colab_type": "code",
        "colab": {
          "base_uri": "https://localhost:8080/",
          "height": 34
        },
        "outputId": "e5d335fe-f45f-4f4a-ead0-685673cf39fa"
      },
      "source": [
        "%%writefile score.py\n",
        "\n",
        "import tensorflow as tf\n",
        "import numpy as np\n",
        "import streamlit as st\n",
        "from PIL import Image\n",
        "import requests\n",
        "from io import BytesIO\n",
        "\n",
        "st.set_option('deprecation.showfileUploaderEncoding',False)\n",
        "st.title('Bean Image Classifier')\n",
        "st.text(\"Provide URL of bean Image for image classifcation\")\n",
        "\n",
        "@st.cache(allow_output_mutation=True)\n",
        "def load_model():\n",
        "  model = tf.keras.models.load_model('/content/drive/My Drive/Colab Notebooks/Models/Image/Models')\n",
        "  return model\n",
        "\n",
        "with st.spinner('Loading into memory .........'):\n",
        "  model = load_model()\n",
        "\n",
        "classes=['angular_leaf_spot','bean_rust','healthy']\n",
        "\n",
        "def scale(image):\n",
        "  image = tf.cast(image,tf.float32)\n",
        "  image /= 255.0\n",
        "  return tf.image.resize(image,[224,224])\n",
        "\n",
        "def image_decode(img):\n",
        "  img= tf.io.read_file(img)\n",
        "  img= tf.image.decode_jpeg(img,channels=3)\n",
        "  img = scale(img)\n",
        "  return np.expand_dims(img,axis=0)\n",
        "\n",
        "\n",
        "path = st.text_input(\"Enter Image URL to Classify\",'http://barmac.com.au/wp-content/uploads/sites/3/2016/01/Angular-Leaf-Spot-Beans1.jpg')\n",
        "if path is not None:\n",
        "  content= requests.get(path).content\n",
        "\n",
        "  st.write(\"Predicted class:\")\n",
        "  with st.spinner('classifying......'):\n",
        "    label=np.argmax(model.predict(decode_img(context)),axis=1)\n",
        "    st.write(classes[label[0]])\n",
        "  st.write(\"\")\n",
        "  image = Image.open(BytesIO(content))\n",
        "\n",
        "  st.image(image,caption='Classifying Bean Image',use_column_width = True)\n",
        "\n",
        "\n",
        "\n",
        "\n",
        "\n"
      ],
      "execution_count": 9,
      "outputs": [
        {
          "output_type": "stream",
          "text": [
            "Overwriting score.py\n"
          ],
          "name": "stdout"
        }
      ]
    },
    {
      "cell_type": "code",
      "metadata": {
        "id": "bFuNtC4-cmwM",
        "colab_type": "code",
        "colab": {
          "base_uri": "https://localhost:8080/",
          "height": 428
        },
        "outputId": "716b3bf8-7bf6-4aee-ad1f-c8c547ffb6e6"
      },
      "source": [
        "from pyngrok import ngrok\n",
        "\n",
        "url= ngrok.connect(port=8501)\n",
        "url"
      ],
      "execution_count": 10,
      "outputs": [
        {
          "output_type": "stream",
          "text": [
            ""
          ],
          "name": "stdout"
        },
        {
          "output_type": "stream",
          "text": [
            "t=2020-08-03T17:59:19+0000 lvl=eror msg=\"failed to auth\" obj=tunnels.session err=\"Your account 'Thiyagarajan Palaniyappan' is limited to 1 simultaneous ngrok client session.\\nActive ngrok client sessions in region 'us':\\n  - ts_1fbC05USzAMh6hPRo471CsSHYNr (35.247.80.133)\\r\\n\\r\\nERR_NGROK_108\\r\\n\"\n",
            "\n"
          ],
          "name": "stderr"
        },
        {
          "output_type": "error",
          "ename": "PyngrokNgrokError",
          "evalue": "ignored",
          "traceback": [
            "\u001b[0;31m---------------------------------------------------------------------------\u001b[0m",
            "\u001b[0;31mPyngrokNgrokError\u001b[0m                         Traceback (most recent call last)",
            "\u001b[0;32m<ipython-input-10-2a95312b4df5>\u001b[0m in \u001b[0;36m<module>\u001b[0;34m()\u001b[0m\n\u001b[1;32m      1\u001b[0m \u001b[0;32mfrom\u001b[0m \u001b[0mpyngrok\u001b[0m \u001b[0;32mimport\u001b[0m \u001b[0mngrok\u001b[0m\u001b[0;34m\u001b[0m\u001b[0;34m\u001b[0m\u001b[0m\n\u001b[1;32m      2\u001b[0m \u001b[0;34m\u001b[0m\u001b[0m\n\u001b[0;32m----> 3\u001b[0;31m \u001b[0murl\u001b[0m\u001b[0;34m=\u001b[0m \u001b[0mngrok\u001b[0m\u001b[0;34m.\u001b[0m\u001b[0mconnect\u001b[0m\u001b[0;34m(\u001b[0m\u001b[0mport\u001b[0m\u001b[0;34m=\u001b[0m\u001b[0;36m8501\u001b[0m\u001b[0;34m)\u001b[0m\u001b[0;34m\u001b[0m\u001b[0;34m\u001b[0m\u001b[0m\n\u001b[0m\u001b[1;32m      4\u001b[0m \u001b[0murl\u001b[0m\u001b[0;34m\u001b[0m\u001b[0;34m\u001b[0m\u001b[0m\n",
            "\u001b[0;32m/usr/local/lib/python3.6/dist-packages/pyngrok/ngrok.py\u001b[0m in \u001b[0;36mconnect\u001b[0;34m(port, proto, name, options, pyngrok_config)\u001b[0m\n\u001b[1;32m    174\u001b[0m     \u001b[0moptions\u001b[0m\u001b[0;34m.\u001b[0m\u001b[0mupdate\u001b[0m\u001b[0;34m(\u001b[0m\u001b[0mconfig\u001b[0m\u001b[0;34m)\u001b[0m\u001b[0;34m\u001b[0m\u001b[0;34m\u001b[0m\u001b[0m\n\u001b[1;32m    175\u001b[0m \u001b[0;34m\u001b[0m\u001b[0m\n\u001b[0;32m--> 176\u001b[0;31m     \u001b[0mapi_url\u001b[0m \u001b[0;34m=\u001b[0m \u001b[0mget_ngrok_process\u001b[0m\u001b[0;34m(\u001b[0m\u001b[0mpyngrok_config\u001b[0m\u001b[0;34m)\u001b[0m\u001b[0;34m.\u001b[0m\u001b[0mapi_url\u001b[0m\u001b[0;34m\u001b[0m\u001b[0;34m\u001b[0m\u001b[0m\n\u001b[0m\u001b[1;32m    177\u001b[0m \u001b[0;34m\u001b[0m\u001b[0m\n\u001b[1;32m    178\u001b[0m     \u001b[0mlogger\u001b[0m\u001b[0;34m.\u001b[0m\u001b[0mdebug\u001b[0m\u001b[0;34m(\u001b[0m\u001b[0;34m\"Connecting tunnel with options: {}\"\u001b[0m\u001b[0;34m.\u001b[0m\u001b[0mformat\u001b[0m\u001b[0;34m(\u001b[0m\u001b[0moptions\u001b[0m\u001b[0;34m)\u001b[0m\u001b[0;34m)\u001b[0m\u001b[0;34m\u001b[0m\u001b[0;34m\u001b[0m\u001b[0m\n",
            "\u001b[0;32m/usr/local/lib/python3.6/dist-packages/pyngrok/ngrok.py\u001b[0m in \u001b[0;36mget_ngrok_process\u001b[0;34m(pyngrok_config)\u001b[0m\n\u001b[1;32m    126\u001b[0m     \u001b[0mensure_ngrok_installed\u001b[0m\u001b[0;34m(\u001b[0m\u001b[0mpyngrok_config\u001b[0m\u001b[0;34m.\u001b[0m\u001b[0mngrok_path\u001b[0m\u001b[0;34m)\u001b[0m\u001b[0;34m\u001b[0m\u001b[0;34m\u001b[0m\u001b[0m\n\u001b[1;32m    127\u001b[0m \u001b[0;34m\u001b[0m\u001b[0m\n\u001b[0;32m--> 128\u001b[0;31m     \u001b[0;32mreturn\u001b[0m \u001b[0mprocess\u001b[0m\u001b[0;34m.\u001b[0m\u001b[0mget_process\u001b[0m\u001b[0;34m(\u001b[0m\u001b[0mpyngrok_config\u001b[0m\u001b[0;34m)\u001b[0m\u001b[0;34m\u001b[0m\u001b[0;34m\u001b[0m\u001b[0m\n\u001b[0m\u001b[1;32m    129\u001b[0m \u001b[0;34m\u001b[0m\u001b[0m\n\u001b[1;32m    130\u001b[0m \u001b[0;34m\u001b[0m\u001b[0m\n",
            "\u001b[0;32m/usr/local/lib/python3.6/dist-packages/pyngrok/process.py\u001b[0m in \u001b[0;36mget_process\u001b[0;34m(pyngrok_config)\u001b[0m\n\u001b[1;32m    276\u001b[0m             \u001b[0m_current_processes\u001b[0m\u001b[0;34m.\u001b[0m\u001b[0mpop\u001b[0m\u001b[0;34m(\u001b[0m\u001b[0mpyngrok_config\u001b[0m\u001b[0;34m.\u001b[0m\u001b[0mngrok_path\u001b[0m\u001b[0;34m,\u001b[0m \u001b[0;32mNone\u001b[0m\u001b[0;34m)\u001b[0m\u001b[0;34m\u001b[0m\u001b[0;34m\u001b[0m\u001b[0m\n\u001b[1;32m    277\u001b[0m \u001b[0;34m\u001b[0m\u001b[0m\n\u001b[0;32m--> 278\u001b[0;31m     \u001b[0;32mreturn\u001b[0m \u001b[0m_start_process\u001b[0m\u001b[0;34m(\u001b[0m\u001b[0mpyngrok_config\u001b[0m\u001b[0;34m)\u001b[0m\u001b[0;34m\u001b[0m\u001b[0;34m\u001b[0m\u001b[0m\n\u001b[0m\u001b[1;32m    279\u001b[0m \u001b[0;34m\u001b[0m\u001b[0m\n\u001b[1;32m    280\u001b[0m \u001b[0;34m\u001b[0m\u001b[0m\n",
            "\u001b[0;32m/usr/local/lib/python3.6/dist-packages/pyngrok/process.py\u001b[0m in \u001b[0;36m_start_process\u001b[0;34m(pyngrok_config)\u001b[0m\n\u001b[1;32m    417\u001b[0m             raise PyngrokNgrokError(\"The ngrok process errored on start: {}.\".format(ngrok_process.startup_error),\n\u001b[1;32m    418\u001b[0m                                     \u001b[0mngrok_process\u001b[0m\u001b[0;34m.\u001b[0m\u001b[0mlogs\u001b[0m\u001b[0;34m,\u001b[0m\u001b[0;34m\u001b[0m\u001b[0;34m\u001b[0m\u001b[0m\n\u001b[0;32m--> 419\u001b[0;31m                                     ngrok_process.startup_error)\n\u001b[0m\u001b[1;32m    420\u001b[0m         \u001b[0;32melse\u001b[0m\u001b[0;34m:\u001b[0m\u001b[0;34m\u001b[0m\u001b[0;34m\u001b[0m\u001b[0m\n\u001b[1;32m    421\u001b[0m             \u001b[0;32mraise\u001b[0m \u001b[0mPyngrokNgrokError\u001b[0m\u001b[0;34m(\u001b[0m\u001b[0;34m\"The ngrok process was unable to start.\"\u001b[0m\u001b[0;34m,\u001b[0m \u001b[0mngrok_process\u001b[0m\u001b[0;34m.\u001b[0m\u001b[0mlogs\u001b[0m\u001b[0;34m)\u001b[0m\u001b[0;34m\u001b[0m\u001b[0;34m\u001b[0m\u001b[0m\n",
            "\u001b[0;31mPyngrokNgrokError\u001b[0m: The ngrok process errored on start: Your account 'Thiyagarajan Palaniyappan' is limited to 1 simultaneous ngrok client session.\\nActive ngrok client sessions in region 'us':\\n  - ts_1fbC05USzAMh6hPRo471CsSHYNr (35.247.80.133)\\r\\n\\r\\nERR_NGROK_108\\r\\n."
          ]
        }
      ]
    },
    {
      "cell_type": "code",
      "metadata": {
        "id": "vxXl9GR6dH7t",
        "colab_type": "code",
        "colab": {
          "base_uri": "https://localhost:8080/",
          "height": 646
        },
        "outputId": "5a33aa67-5a88-4682-f6a2-b01e69271ed2"
      },
      "source": [
        "!cat nohup.out"
      ],
      "execution_count": 41,
      "outputs": [
        {
          "output_type": "stream",
          "text": [
            "Downloading ngrok ...\rDownloading ngrok: 0%\rDownloading ngrok: 1%\rDownloading ngrok: 2%\rDownloading ngrok: 3%\rDownloading ngrok: 4%\rDownloading ngrok: 5%\rDownloading ngrok: 6%\rDownloading ngrok: 7%\rDownloading ngrok: 8%\rDownloading ngrok: 9%\rDownloading ngrok: 10%\rDownloading ngrok: 11%\rDownloading ngrok: 12%\rDownloading ngrok: 13%\rDownloading ngrok: 14%\rDownloading ngrok: 15%\rDownloading ngrok: 16%\rDownloading ngrok: 17%\rDownloading ngrok: 18%\rDownloading ngrok: 19%\rDownloading ngrok: 20%\rDownloading ngrok: 21%\rDownloading ngrok: 22%\rDownloading ngrok: 23%\rDownloading ngrok: 24%\rDownloading ngrok: 25%\rDownloading ngrok: 26%\rDownloading ngrok: 27%\rDownloading ngrok: 28%\rDownloading ngrok: 29%\rDownloading ngrok: 30%\rDownloading ngrok: 31%\rDownloading ngrok: 32%\rDownloading ngrok: 33%\rDownloading ngrok: 34%\rDownloading ngrok: 35%\rDownloading ngrok: 36%\rDownloading ngrok: 37%\rDownloading ngrok: 38%\rDownloading ngrok: 39%\rDownloading ngrok: 40%\rDownloading ngrok: 41%\rDownloading ngrok: 42%\rDownloading ngrok: 43%\rDownloading ngrok: 44%\rDownloading ngrok: 45%\rDownloading ngrok: 46%\rDownloading ngrok: 47%\rDownloading ngrok: 48%\rDownloading ngrok: 49%\rDownloading ngrok: 50%\rDownloading ngrok: 51%\rDownloading ngrok: 52%\rDownloading ngrok: 53%\rDownloading ngrok: 54%\rDownloading ngrok: 55%\rDownloading ngrok: 56%\rDownloading ngrok: 57%\rDownloading ngrok: 58%\rDownloading ngrok: 59%\rDownloading ngrok: 60%\rDownloading ngrok: 61%\rDownloading ngrok: 62%\rDownloading ngrok: 63%\rDownloading ngrok: 64%\rDownloading ngrok: 65%\rDownloading ngrok: 66%\rDownloading ngrok: 67%\rDownloading ngrok: 68%\rDownloading ngrok: 69%\rDownloading ngrok: 70%\rDownloading ngrok: 71%\rDownloading ngrok: 72%\rDownloading ngrok: 73%\rDownloading ngrok: 74%\rDownloading ngrok: 75%\rDownloading ngrok: 76%\rDownloading ngrok: 77%\rDownloading ngrok: 78%\rDownloading ngrok: 79%\rDownloading ngrok: 80%\rDownloading ngrok: 81%\rDownloading ngrok: 82%\rDownloading ngrok: 83%\rDownloading ngrok: 84%\rDownloading ngrok: 85%\rDownloading ngrok: 86%\rDownloading ngrok: 87%\rDownloading ngrok: 88%\rDownloading ngrok: 89%\rDownloading ngrok: 90%\rDownloading ngrok: 91%\rDownloading ngrok: 92%\rDownloading ngrok: 93%\rDownloading ngrok: 94%\rDownloading ngrok: 95%\rDownloading ngrok: 96%\rDownloading ngrok: 97%\rDownloading ngrok: 98%\rDownloading ngrok: 99%\rDownloading ngrok: 100%\r                                                                                                    \rInstalling ngrok ... \r                                                                                                    \rNAME:\n",
            "   ngrok - tunnel local ports to public URLs and inspect traffic\n",
            "\n",
            "DESCRIPTION:\n",
            "    ngrok exposes local networked services behinds NATs and firewalls to the\n",
            "    public internet over a secure tunnel. Share local websites, build/test\n",
            "    webhook consumers and self-host personal services.\n",
            "    Detailed help for each command is available with 'ngrok help <command>'.\n",
            "    Open http://localhost:4040 for ngrok's web interface to inspect traffic.\n",
            "\n",
            "EXAMPLES:\n",
            "    ngrok http 80                    # secure public URL for port 80 web server\n",
            "    ngrok http -subdomain=baz 8080   # port 8080 available at baz.ngrok.io\n",
            "    ngrok http foo.dev:80            # tunnel to host:port instead of localhost\n",
            "    ngrok http https://localhost     # expose a local https server\n",
            "    ngrok tcp 22                     # tunnel arbitrary TCP traffic to port 22\n",
            "    ngrok tls -hostname=foo.com 443  # TLS traffic for foo.com to port 443\n",
            "    ngrok start foo bar baz          # start tunnels from the configuration file\n",
            "\n",
            "VERSION:\n",
            "   2.3.35\n",
            "\n",
            "AUTHOR:\n",
            "  inconshreveable - <alan@ngrok.com>\n",
            "\n",
            "COMMANDS:\n",
            "   authtoken\tsave authtoken to configuration file\n",
            "   credits\tprints author and licensing information\n",
            "   http\t\tstart an HTTP tunnel\n",
            "   start\tstart tunnels by name from the configuration file\n",
            "   tcp\t\tstart a TCP tunnel\n",
            "   tls\t\tstart a TLS tunnel\n",
            "   update\tupdate ngrok to the latest version\n",
            "   version\tprint the version string\n",
            "   help\t\tShows a list of commands or help for one command\n",
            "\n",
            "ERROR:  Unrecognized command: import\n"
          ],
          "name": "stdout"
        }
      ]
    },
    {
      "cell_type": "code",
      "metadata": {
        "id": "y45hkX3KdZiw",
        "colab_type": "code",
        "colab": {}
      },
      "source": [
        ""
      ],
      "execution_count": null,
      "outputs": []
    },
    {
      "cell_type": "code",
      "metadata": {
        "id": "BrR5QjqYc8YP",
        "colab_type": "code",
        "colab": {}
      },
      "source": [
        ""
      ],
      "execution_count": null,
      "outputs": []
    },
    {
      "cell_type": "code",
      "metadata": {
        "id": "mjVn6RrTAAYv",
        "colab_type": "code",
        "colab": {}
      },
      "source": [
        ""
      ],
      "execution_count": null,
      "outputs": []
    },
    {
      "cell_type": "code",
      "metadata": {
        "id": "VzSDgBhTAAmJ",
        "colab_type": "code",
        "colab": {}
      },
      "source": [
        ""
      ],
      "execution_count": null,
      "outputs": []
    },
    {
      "cell_type": "code",
      "metadata": {
        "id": "DIzEEE5BAAMt",
        "colab_type": "code",
        "colab": {}
      },
      "source": [
        ""
      ],
      "execution_count": null,
      "outputs": []
    }
  ]
}