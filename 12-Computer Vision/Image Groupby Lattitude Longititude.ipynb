{
 "cells": [
  {
   "cell_type": "code",
   "execution_count": 2,
   "id": "different-static",
   "metadata": {},
   "outputs": [
    {
     "name": "stdout",
     "output_type": "stream",
     "text": [
      "Collecting GPSPhoto\n",
      "  Downloading gpsphoto-2.2.3.tar.gz (13 kB)\n",
      "Building wheels for collected packages: GPSPhoto\n",
      "  Building wheel for GPSPhoto (setup.py): started\n",
      "  Building wheel for GPSPhoto (setup.py): finished with status 'done'\n",
      "  Created wheel for GPSPhoto: filename=gpsphoto-2.2.3-py3-none-any.whl size=11868 sha256=7b599ef8bc85296fe92e811a406de56ba4184325e9c1a7d18d17b8532837232d\n",
      "  Stored in directory: c:\\users\\plthi\\appdata\\local\\pip\\cache\\wheels\\93\\05\\01\\a6147362f62165212e93eb7c4621c7c07d96a687cc93c9817b\n",
      "Successfully built GPSPhoto\n",
      "Installing collected packages: GPSPhoto\n",
      "Successfully installed GPSPhoto-2.2.3\n",
      "Note: you may need to restart the kernel to use updated packages.\n"
     ]
    }
   ],
   "source": [
    "pip install GPSPhoto"
   ]
  },
  {
   "cell_type": "code",
   "execution_count": 3,
   "id": "preliminary-institution",
   "metadata": {},
   "outputs": [
    {
     "name": "stdout",
     "output_type": "stream",
     "text": [
      "Collecting exifread\n",
      "  Downloading ExifRead-2.3.2-py3-none-any.whl (38 kB)\n",
      "Installing collected packages: exifread\n",
      "Successfully installed exifread-2.3.2\n",
      "Note: you may need to restart the kernel to use updated packages.\n"
     ]
    }
   ],
   "source": [
    "pip install exifread"
   ]
  },
  {
   "cell_type": "code",
   "execution_count": 4,
   "id": "vocational-utility",
   "metadata": {},
   "outputs": [
    {
     "name": "stdout",
     "output_type": "stream",
     "text": [
      "Collecting piexif\n",
      "  Downloading piexif-1.1.3-py2.py3-none-any.whl (20 kB)\n",
      "Installing collected packages: piexif\n",
      "Successfully installed piexif-1.1.3\n",
      "Note: you may need to restart the kernel to use updated packages.\n"
     ]
    }
   ],
   "source": [
    "pip install piexif"
   ]
  },
  {
   "cell_type": "code",
   "execution_count": 5,
   "id": "insured-decision",
   "metadata": {},
   "outputs": [],
   "source": [
    "from GPSPhoto import gpsphoto\n",
    "import os"
   ]
  },
  {
   "cell_type": "code",
   "execution_count": 6,
   "id": "continuing-bride",
   "metadata": {},
   "outputs": [],
   "source": [
    "path= r'C:\\Thiyagu'"
   ]
  },
  {
   "cell_type": "code",
   "execution_count": 8,
   "id": "excess-reynolds",
   "metadata": {},
   "outputs": [],
   "source": [
    "ls= os.listdir(path)\n",
    "rows=[]\n",
    "for x in ls:\n",
    "    if x.endswith('.jpg'):\n",
    "        file = os.path.join(path,x)\n",
    "        image_lat, image_long, _ = gpsphoto.getGPSData(file).values\n",
    "        rows.append([x,image_lat,image_long])"
   ]
  },
  {
   "cell_type": "code",
   "execution_count": 10,
   "id": "caroline-concrete",
   "metadata": {},
   "outputs": [],
   "source": [
    "import pandas as pd\n",
    "df = pd.DataFrame(rows,columns=[\"image\",\"lat\",\"lon\"])"
   ]
  },
  {
   "cell_type": "code",
   "execution_count": 11,
   "id": "preceding-involvement",
   "metadata": {},
   "outputs": [],
   "source": [
    "import numpy as np\n",
    "step = .0005\n",
    "to_bin = lambda x: np.floor(x/step) * step\n",
    "df[\"latbin\"]= df.lat.map(to_bin)\n",
    "df[\"lonbin\"]= df.lon.map(to_bin)"
   ]
  },
  {
   "cell_type": "code",
   "execution_count": 12,
   "id": "occupational-seeker",
   "metadata": {},
   "outputs": [
    {
     "data": {
      "text/html": [
       "<div>\n",
       "<style scoped>\n",
       "    .dataframe tbody tr th:only-of-type {\n",
       "        vertical-align: middle;\n",
       "    }\n",
       "\n",
       "    .dataframe tbody tr th {\n",
       "        vertical-align: top;\n",
       "    }\n",
       "\n",
       "    .dataframe thead th {\n",
       "        text-align: right;\n",
       "    }\n",
       "</style>\n",
       "<table border=\"1\" class=\"dataframe\">\n",
       "  <thead>\n",
       "    <tr style=\"text-align: right;\">\n",
       "      <th></th>\n",
       "      <th>image</th>\n",
       "      <th>lat</th>\n",
       "      <th>lon</th>\n",
       "      <th>latbin</th>\n",
       "      <th>lonbin</th>\n",
       "    </tr>\n",
       "  </thead>\n",
       "  <tbody>\n",
       "  </tbody>\n",
       "</table>\n",
       "</div>"
      ],
      "text/plain": [
       "Empty DataFrame\n",
       "Columns: [image, lat, lon, latbin, lonbin]\n",
       "Index: []"
      ]
     },
     "execution_count": 12,
     "metadata": {},
     "output_type": "execute_result"
    }
   ],
   "source": [
    "pd.set_option('display.max_rows', None)\n",
    "pd.set_option('display.max_columns',None)\n",
    "pd.set_option('display.width',None)\n",
    "df.sort_values(by=['image','latbin','lonbin'])"
   ]
  },
  {
   "cell_type": "code",
   "execution_count": 13,
   "id": "greenhouse-context",
   "metadata": {},
   "outputs": [],
   "source": [
    "groups = df.groupby([\"latbin\",\"lonbin\"])"
   ]
  },
  {
   "cell_type": "code",
   "execution_count": 14,
   "id": "smooth-packaging",
   "metadata": {},
   "outputs": [
    {
     "data": {
      "text/plain": [
       "<bound method GroupBy.size of <pandas.core.groupby.generic.DataFrameGroupBy object at 0x000001C9E3AE7880>>"
      ]
     },
     "execution_count": 14,
     "metadata": {},
     "output_type": "execute_result"
    }
   ],
   "source": [
    "groups.size"
   ]
  },
  {
   "cell_type": "code",
   "execution_count": null,
   "id": "medium-sleeping",
   "metadata": {},
   "outputs": [],
   "source": []
  }
 ],
 "metadata": {
  "kernelspec": {
   "display_name": "Python 3",
   "language": "python",
   "name": "python3"
  },
  "language_info": {
   "codemirror_mode": {
    "name": "ipython",
    "version": 3
   },
   "file_extension": ".py",
   "mimetype": "text/x-python",
   "name": "python",
   "nbconvert_exporter": "python",
   "pygments_lexer": "ipython3",
   "version": "3.8.8"
  }
 },
 "nbformat": 4,
 "nbformat_minor": 5
}
