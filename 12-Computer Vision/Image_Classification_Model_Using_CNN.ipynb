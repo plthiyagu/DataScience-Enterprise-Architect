{
  "nbformat": 4,
  "nbformat_minor": 0,
  "metadata": {
    "colab": {
      "name": "Image Classification Model Using CNN.ipynb",
      "provenance": [],
      "authorship_tag": "ABX9TyPQ8Pb/uF4JlOa+Z+B9mX+S",
      "include_colab_link": true
    },
    "kernelspec": {
      "name": "python3",
      "display_name": "Python 3"
    },
    "language_info": {
      "name": "python"
    }
  },
  "cells": [
    {
      "cell_type": "markdown",
      "metadata": {
        "id": "view-in-github",
        "colab_type": "text"
      },
      "source": [
        "<a href=\"https://colab.research.google.com/github/plthiyagu/AI-Engineering/blob/master/12-Image%20and%20Video%20Analytics/Image_Classification_Model_Using_CNN.ipynb\" target=\"_parent\"><img src=\"https://colab.research.google.com/assets/colab-badge.svg\" alt=\"Open In Colab\"/></a>"
      ]
    },
    {
      "cell_type": "markdown",
      "metadata": {
        "id": "z4u7g-17T9YR"
      },
      "source": [
        "https://www.analyticsvidhya.com/blog/2021/08/developing-an-image-classification-model-using-cnn/?utm_source=feedburner&utm_medium=email&utm_campaign=Feed%3A+AnalyticsVidhya+%28Analytics+Vidhya%29"
      ]
    },
    {
      "cell_type": "code",
      "metadata": {
        "id": "T_OI4TdKSqcJ"
      },
      "source": [
        "# importing necessary libraries\n",
        "import numpy as np\n",
        "import matplotlib.pyplot as plt\n",
        "%matplotlib inline\n",
        "# To convert to categorical data\n",
        "from tensorflow.keras.utils import to_categorical\n",
        "#libraries for building model\n",
        "from tensorflow.keras.models import Sequential\n",
        "from tensorflow.keras.layers import Dense, Conv2D, MaxPool2D, Dropout,Flatten\n",
        "from tensorflow.keras.datasets import cifar10"
      ],
      "execution_count": 1,
      "outputs": []
    },
    {
      "cell_type": "code",
      "metadata": {
        "colab": {
          "base_uri": "https://localhost:8080/"
        },
        "id": "GFv0tNgtSrk5",
        "outputId": "3e418bd4-faf4-4f23-cfc9-2d28055c6065"
      },
      "source": [
        "#loading the data\n",
        "(X_train, y_train), (X_test, y_test) = cifar10.load_data()"
      ],
      "execution_count": 2,
      "outputs": [
        {
          "output_type": "stream",
          "text": [
            "Downloading data from https://www.cs.toronto.edu/~kriz/cifar-10-python.tar.gz\n",
            "170500096/170498071 [==============================] - 6s 0us/step\n",
            "170508288/170498071 [==============================] - 6s 0us/step\n"
          ],
          "name": "stdout"
        }
      ]
    },
    {
      "cell_type": "code",
      "metadata": {
        "colab": {
          "base_uri": "https://localhost:8080/"
        },
        "id": "-J9tLRqISudE",
        "outputId": "53f3a220-ce6d-4220-bc9a-1c64ce07b848"
      },
      "source": [
        "#shape of the dataset\n",
        "print(X_train.shape)\n",
        "print(y_train.shape)\n",
        "print(X_test.shape)\n",
        "print(y_test.shape)"
      ],
      "execution_count": 3,
      "outputs": [
        {
          "output_type": "stream",
          "text": [
            "(50000, 32, 32, 3)\n",
            "(50000, 1)\n",
            "(10000, 32, 32, 3)\n",
            "(10000, 1)\n"
          ],
          "name": "stdout"
        }
      ]
    },
    {
      "cell_type": "code",
      "metadata": {
        "colab": {
          "base_uri": "https://localhost:8080/"
        },
        "id": "Ufg2D6zDSxaY",
        "outputId": "a06f86ce-573f-4c95-b5a1-3e575d5e2c6c"
      },
      "source": [
        "#checking the labels \n",
        "np.unique(y_train)"
      ],
      "execution_count": 4,
      "outputs": [
        {
          "output_type": "execute_result",
          "data": {
            "text/plain": [
              "array([0, 1, 2, 3, 4, 5, 6, 7, 8, 9], dtype=uint8)"
            ]
          },
          "metadata": {},
          "execution_count": 4
        }
      ]
    },
    {
      "cell_type": "code",
      "metadata": {
        "colab": {
          "base_uri": "https://localhost:8080/",
          "height": 216
        },
        "id": "Qt6LF6RiS1vy",
        "outputId": "a633d8a7-d2a7-4f00-a424-68edc9e835d7"
      },
      "source": [
        "#first image of training data\n",
        "plt.subplot(121)\n",
        "plt.imshow(X_train[0])\n",
        "plt.title(\"Label : {}\".format(y_train[0]))\n",
        "#first image of test data\n",
        "plt.subplot(122)\n",
        "plt.imshow(X_test[0])\n",
        "plt.title(\"Label : {}\".format(y_test[0]));"
      ],
      "execution_count": 5,
      "outputs": [
        {
          "output_type": "display_data",
          "data": {
            "image/png": "[encoded data removed]",
            "text/plain": [
              "<Figure size 432x288 with 2 Axes>"
            ]
          },
          "metadata": {
            "needs_background": "light"
          }
        }
      ]
    },
    {
      "cell_type": "code",
      "metadata": {
        "colab": {
          "base_uri": "https://localhost:8080/",
          "height": 224
        },
        "id": "Btu4-BI6S4Ks",
        "outputId": "82c7bfdf-e543-4b12-bc38-4646ad6a3114"
      },
      "source": [
        "#visualizing the first 20 images in the dataset\n",
        "for i in range(20):\n",
        "    #subplot\n",
        "    plt.subplot(5, 5, i+1)\n",
        "    # plotting pixel data\n",
        "    plt.imshow(X_train[i], cmap=plt.get_cmap('gray'))\n",
        "# show the figure\n",
        "plt.show()"
      ],
      "execution_count": 6,
      "outputs": [
        {
          "output_type": "display_data",
          "data": {
            "image/png": "[encoded data removed]",
            "text/plain": [
              "<Figure size 432x288 with 20 Axes>"
            ]
          },
          "metadata": {
            "needs_background": "light"
          }
        }
      ]
    },
    {
      "cell_type": "markdown",
      "metadata": {
        "id": "bkhllPPgS-7D"
      },
      "source": [
        "Preprocessing Data\n",
        "\n",
        "For data preprocessing we just need to perform two steps here, first is scaling the pixel values of images between 0 to 1, and the second is reshaping the labels to 1D from 2D\n",
        "\n"
      ]
    },
    {
      "cell_type": "code",
      "metadata": {
        "colab": {
          "base_uri": "https://localhost:8080/"
        },
        "id": "d_QgfvnNS7pz",
        "outputId": "2d869a27-3bd6-4694-e9e1-753eda3f7b56"
      },
      "source": [
        "# Scale the data to lie between 0 to 1\n",
        "X_train = X_train/255\n",
        "X_test = X_test/255\n",
        "print(X_train)"
      ],
      "execution_count": 7,
      "outputs": [
        {
          "output_type": "stream",
          "text": [
            "[[[[0.23137255 0.24313725 0.24705882]\n",
            "   [0.16862745 0.18039216 0.17647059]\n",
            "   [0.19607843 0.18823529 0.16862745]\n",
            "   ...\n",
            "   [0.61960784 0.51764706 0.42352941]\n",
            "   [0.59607843 0.49019608 0.4       ]\n",
            "   [0.58039216 0.48627451 0.40392157]]\n",
            "\n",
            "  [[0.0627451  0.07843137 0.07843137]\n",
            "   [0.         0.         0.        ]\n",
            "   [0.07058824 0.03137255 0.        ]\n",
            "   ...\n",
            "   [0.48235294 0.34509804 0.21568627]\n",
            "   [0.46666667 0.3254902  0.19607843]\n",
            "   [0.47843137 0.34117647 0.22352941]]\n",
            "\n",
            "  [[0.09803922 0.09411765 0.08235294]\n",
            "   [0.0627451  0.02745098 0.        ]\n",
            "   [0.19215686 0.10588235 0.03137255]\n",
            "   ...\n",
            "   [0.4627451  0.32941176 0.19607843]\n",
            "   [0.47058824 0.32941176 0.19607843]\n",
            "   [0.42745098 0.28627451 0.16470588]]\n",
            "\n",
            "  ...\n",
            "\n",
            "  [[0.81568627 0.66666667 0.37647059]\n",
            "   [0.78823529 0.6        0.13333333]\n",
            "   [0.77647059 0.63137255 0.10196078]\n",
            "   ...\n",
            "   [0.62745098 0.52156863 0.2745098 ]\n",
            "   [0.21960784 0.12156863 0.02745098]\n",
            "   [0.20784314 0.13333333 0.07843137]]\n",
            "\n",
            "  [[0.70588235 0.54509804 0.37647059]\n",
            "   [0.67843137 0.48235294 0.16470588]\n",
            "   [0.72941176 0.56470588 0.11764706]\n",
            "   ...\n",
            "   [0.72156863 0.58039216 0.36862745]\n",
            "   [0.38039216 0.24313725 0.13333333]\n",
            "   [0.3254902  0.20784314 0.13333333]]\n",
            "\n",
            "  [[0.69411765 0.56470588 0.45490196]\n",
            "   [0.65882353 0.50588235 0.36862745]\n",
            "   [0.70196078 0.55686275 0.34117647]\n",
            "   ...\n",
            "   [0.84705882 0.72156863 0.54901961]\n",
            "   [0.59215686 0.4627451  0.32941176]\n",
            "   [0.48235294 0.36078431 0.28235294]]]\n",
            "\n",
            "\n",
            " [[[0.60392157 0.69411765 0.73333333]\n",
            "   [0.49411765 0.5372549  0.53333333]\n",
            "   [0.41176471 0.40784314 0.37254902]\n",
            "   ...\n",
            "   [0.35686275 0.37254902 0.27843137]\n",
            "   [0.34117647 0.35294118 0.27843137]\n",
            "   [0.30980392 0.31764706 0.2745098 ]]\n",
            "\n",
            "  [[0.54901961 0.62745098 0.6627451 ]\n",
            "   [0.56862745 0.6        0.60392157]\n",
            "   [0.49019608 0.49019608 0.4627451 ]\n",
            "   ...\n",
            "   [0.37647059 0.38823529 0.30588235]\n",
            "   [0.30196078 0.31372549 0.24313725]\n",
            "   [0.27843137 0.28627451 0.23921569]]\n",
            "\n",
            "  [[0.54901961 0.60784314 0.64313725]\n",
            "   [0.54509804 0.57254902 0.58431373]\n",
            "   [0.45098039 0.45098039 0.43921569]\n",
            "   ...\n",
            "   [0.30980392 0.32156863 0.25098039]\n",
            "   [0.26666667 0.2745098  0.21568627]\n",
            "   [0.2627451  0.27058824 0.21568627]]\n",
            "\n",
            "  ...\n",
            "\n",
            "  [[0.68627451 0.65490196 0.65098039]\n",
            "   [0.61176471 0.60392157 0.62745098]\n",
            "   [0.60392157 0.62745098 0.66666667]\n",
            "   ...\n",
            "   [0.16470588 0.13333333 0.14117647]\n",
            "   [0.23921569 0.20784314 0.22352941]\n",
            "   [0.36470588 0.3254902  0.35686275]]\n",
            "\n",
            "  [[0.64705882 0.60392157 0.50196078]\n",
            "   [0.61176471 0.59607843 0.50980392]\n",
            "   [0.62352941 0.63137255 0.55686275]\n",
            "   ...\n",
            "   [0.40392157 0.36470588 0.37647059]\n",
            "   [0.48235294 0.44705882 0.47058824]\n",
            "   [0.51372549 0.4745098  0.51372549]]\n",
            "\n",
            "  [[0.63921569 0.58039216 0.47058824]\n",
            "   [0.61960784 0.58039216 0.47843137]\n",
            "   [0.63921569 0.61176471 0.52156863]\n",
            "   ...\n",
            "   [0.56078431 0.52156863 0.54509804]\n",
            "   [0.56078431 0.5254902  0.55686275]\n",
            "   [0.56078431 0.52156863 0.56470588]]]\n",
            "\n",
            "\n",
            " [[[1.         1.         1.        ]\n",
            "   [0.99215686 0.99215686 0.99215686]\n",
            "   [0.99215686 0.99215686 0.99215686]\n",
            "   ...\n",
            "   [0.99215686 0.99215686 0.99215686]\n",
            "   [0.99215686 0.99215686 0.99215686]\n",
            "   [0.99215686 0.99215686 0.99215686]]\n",
            "\n",
            "  [[1.         1.         1.        ]\n",
            "   [1.         1.         1.        ]\n",
            "   [1.         1.         1.        ]\n",
            "   ...\n",
            "   [1.         1.         1.        ]\n",
            "   [1.         1.         1.        ]\n",
            "   [1.         1.         1.        ]]\n",
            "\n",
            "  [[1.         1.         1.        ]\n",
            "   [0.99607843 0.99607843 0.99607843]\n",
            "   [0.99607843 0.99607843 0.99607843]\n",
            "   ...\n",
            "   [0.99607843 0.99607843 0.99607843]\n",
            "   [0.99607843 0.99607843 0.99607843]\n",
            "   [0.99607843 0.99607843 0.99607843]]\n",
            "\n",
            "  ...\n",
            "\n",
            "  [[0.44313725 0.47058824 0.43921569]\n",
            "   [0.43529412 0.4627451  0.43529412]\n",
            "   [0.41176471 0.43921569 0.41568627]\n",
            "   ...\n",
            "   [0.28235294 0.31764706 0.31372549]\n",
            "   [0.28235294 0.31372549 0.30980392]\n",
            "   [0.28235294 0.31372549 0.30980392]]\n",
            "\n",
            "  [[0.43529412 0.4627451  0.43137255]\n",
            "   [0.40784314 0.43529412 0.40784314]\n",
            "   [0.38823529 0.41568627 0.38431373]\n",
            "   ...\n",
            "   [0.26666667 0.29411765 0.28627451]\n",
            "   [0.2745098  0.29803922 0.29411765]\n",
            "   [0.30588235 0.32941176 0.32156863]]\n",
            "\n",
            "  [[0.41568627 0.44313725 0.41176471]\n",
            "   [0.38823529 0.41568627 0.38431373]\n",
            "   [0.37254902 0.4        0.36862745]\n",
            "   ...\n",
            "   [0.30588235 0.33333333 0.3254902 ]\n",
            "   [0.30980392 0.33333333 0.3254902 ]\n",
            "   [0.31372549 0.3372549  0.32941176]]]\n",
            "\n",
            "\n",
            " ...\n",
            "\n",
            "\n",
            " [[[0.1372549  0.69803922 0.92156863]\n",
            "   [0.15686275 0.69019608 0.9372549 ]\n",
            "   [0.16470588 0.69019608 0.94509804]\n",
            "   ...\n",
            "   [0.38823529 0.69411765 0.85882353]\n",
            "   [0.30980392 0.57647059 0.77254902]\n",
            "   [0.34901961 0.58039216 0.74117647]]\n",
            "\n",
            "  [[0.22352941 0.71372549 0.91764706]\n",
            "   [0.17254902 0.72156863 0.98039216]\n",
            "   [0.19607843 0.71764706 0.94117647]\n",
            "   ...\n",
            "   [0.61176471 0.71372549 0.78431373]\n",
            "   [0.55294118 0.69411765 0.80784314]\n",
            "   [0.45490196 0.58431373 0.68627451]]\n",
            "\n",
            "  [[0.38431373 0.77254902 0.92941176]\n",
            "   [0.25098039 0.74117647 0.98823529]\n",
            "   [0.27058824 0.75294118 0.96078431]\n",
            "   ...\n",
            "   [0.7372549  0.76470588 0.80784314]\n",
            "   [0.46666667 0.52941176 0.57647059]\n",
            "   [0.23921569 0.30980392 0.35294118]]\n",
            "\n",
            "  ...\n",
            "\n",
            "  [[0.28627451 0.30980392 0.30196078]\n",
            "   [0.20784314 0.24705882 0.26666667]\n",
            "   [0.21176471 0.26666667 0.31372549]\n",
            "   ...\n",
            "   [0.06666667 0.15686275 0.25098039]\n",
            "   [0.08235294 0.14117647 0.2       ]\n",
            "   [0.12941176 0.18823529 0.19215686]]\n",
            "\n",
            "  [[0.23921569 0.26666667 0.29411765]\n",
            "   [0.21568627 0.2745098  0.3372549 ]\n",
            "   [0.22352941 0.30980392 0.40392157]\n",
            "   ...\n",
            "   [0.09411765 0.18823529 0.28235294]\n",
            "   [0.06666667 0.1372549  0.20784314]\n",
            "   [0.02745098 0.09019608 0.1254902 ]]\n",
            "\n",
            "  [[0.17254902 0.21960784 0.28627451]\n",
            "   [0.18039216 0.25882353 0.34509804]\n",
            "   [0.19215686 0.30196078 0.41176471]\n",
            "   ...\n",
            "   [0.10588235 0.20392157 0.30196078]\n",
            "   [0.08235294 0.16862745 0.25882353]\n",
            "   [0.04705882 0.12156863 0.19607843]]]\n",
            "\n",
            "\n",
            " [[[0.74117647 0.82745098 0.94117647]\n",
            "   [0.72941176 0.81568627 0.9254902 ]\n",
            "   [0.7254902  0.81176471 0.92156863]\n",
            "   ...\n",
            "   [0.68627451 0.76470588 0.87843137]\n",
            "   [0.6745098  0.76078431 0.87058824]\n",
            "   [0.6627451  0.76078431 0.8627451 ]]\n",
            "\n",
            "  [[0.76078431 0.82352941 0.9372549 ]\n",
            "   [0.74901961 0.81176471 0.9254902 ]\n",
            "   [0.74509804 0.80784314 0.92156863]\n",
            "   ...\n",
            "   [0.67843137 0.75294118 0.8627451 ]\n",
            "   [0.67058824 0.74901961 0.85490196]\n",
            "   [0.65490196 0.74509804 0.84705882]]\n",
            "\n",
            "  [[0.81568627 0.85882353 0.95686275]\n",
            "   [0.80392157 0.84705882 0.94117647]\n",
            "   [0.8        0.84313725 0.9372549 ]\n",
            "   ...\n",
            "   [0.68627451 0.74901961 0.85098039]\n",
            "   [0.6745098  0.74509804 0.84705882]\n",
            "   [0.6627451  0.74901961 0.84313725]]\n",
            "\n",
            "  ...\n",
            "\n",
            "  [[0.81176471 0.78039216 0.70980392]\n",
            "   [0.79607843 0.76470588 0.68627451]\n",
            "   [0.79607843 0.76862745 0.67843137]\n",
            "   ...\n",
            "   [0.52941176 0.51764706 0.49803922]\n",
            "   [0.63529412 0.61960784 0.58823529]\n",
            "   [0.65882353 0.63921569 0.59215686]]\n",
            "\n",
            "  [[0.77647059 0.74509804 0.66666667]\n",
            "   [0.74117647 0.70980392 0.62352941]\n",
            "   [0.70588235 0.6745098  0.57647059]\n",
            "   ...\n",
            "   [0.69803922 0.67058824 0.62745098]\n",
            "   [0.68627451 0.6627451  0.61176471]\n",
            "   [0.68627451 0.6627451  0.60392157]]\n",
            "\n",
            "  [[0.77647059 0.74117647 0.67843137]\n",
            "   [0.74117647 0.70980392 0.63529412]\n",
            "   [0.69803922 0.66666667 0.58431373]\n",
            "   ...\n",
            "   [0.76470588 0.72156863 0.6627451 ]\n",
            "   [0.76862745 0.74117647 0.67058824]\n",
            "   [0.76470588 0.74509804 0.67058824]]]\n",
            "\n",
            "\n",
            " [[[0.89803922 0.89803922 0.9372549 ]\n",
            "   [0.9254902  0.92941176 0.96862745]\n",
            "   [0.91764706 0.9254902  0.96862745]\n",
            "   ...\n",
            "   [0.85098039 0.85882353 0.91372549]\n",
            "   [0.86666667 0.8745098  0.91764706]\n",
            "   [0.87058824 0.8745098  0.91372549]]\n",
            "\n",
            "  [[0.87058824 0.86666667 0.89803922]\n",
            "   [0.9372549  0.9372549  0.97647059]\n",
            "   [0.91372549 0.91764706 0.96470588]\n",
            "   ...\n",
            "   [0.8745098  0.8745098  0.9254902 ]\n",
            "   [0.89019608 0.89411765 0.93333333]\n",
            "   [0.82352941 0.82745098 0.8627451 ]]\n",
            "\n",
            "  [[0.83529412 0.80784314 0.82745098]\n",
            "   [0.91764706 0.90980392 0.9372549 ]\n",
            "   [0.90588235 0.91372549 0.95686275]\n",
            "   ...\n",
            "   [0.8627451  0.8627451  0.90980392]\n",
            "   [0.8627451  0.85882353 0.90980392]\n",
            "   [0.79215686 0.79607843 0.84313725]]\n",
            "\n",
            "  ...\n",
            "\n",
            "  [[0.58823529 0.56078431 0.52941176]\n",
            "   [0.54901961 0.52941176 0.49803922]\n",
            "   [0.51764706 0.49803922 0.47058824]\n",
            "   ...\n",
            "   [0.87843137 0.87058824 0.85490196]\n",
            "   [0.90196078 0.89411765 0.88235294]\n",
            "   [0.94509804 0.94509804 0.93333333]]\n",
            "\n",
            "  [[0.5372549  0.51764706 0.49411765]\n",
            "   [0.50980392 0.49803922 0.47058824]\n",
            "   [0.49019608 0.4745098  0.45098039]\n",
            "   ...\n",
            "   [0.70980392 0.70588235 0.69803922]\n",
            "   [0.79215686 0.78823529 0.77647059]\n",
            "   [0.83137255 0.82745098 0.81176471]]\n",
            "\n",
            "  [[0.47843137 0.46666667 0.44705882]\n",
            "   [0.4627451  0.45490196 0.43137255]\n",
            "   [0.47058824 0.45490196 0.43529412]\n",
            "   ...\n",
            "   [0.70196078 0.69411765 0.67843137]\n",
            "   [0.64313725 0.64313725 0.63529412]\n",
            "   [0.63921569 0.63921569 0.63137255]]]]\n"
          ],
          "name": "stdout"
        }
      ]
    },
    {
      "cell_type": "markdown",
      "metadata": {
        "id": "ZqqSydbSTj88"
      },
      "source": [
        "Step 2: Compiling the model\n"
      ]
    },
    {
      "cell_type": "code",
      "metadata": {
        "id": "bp4p8-vTTEA-"
      },
      "source": [
        "#reshaping the train and test lables to 1D\n",
        "y_train = y_train.reshape(-1,)\n",
        "y_test = y_test.reshape(-1,)"
      ],
      "execution_count": 8,
      "outputs": []
    },
    {
      "cell_type": "markdown",
      "metadata": {
        "id": "YmHyQZSQTMMv"
      },
      "source": [
        "Step 1: Defining the model\n"
      ]
    },
    {
      "cell_type": "code",
      "metadata": {
        "id": "eBH_17oxTIaS"
      },
      "source": [
        "model=Sequential()\n",
        "#adding the first Convolution layer\n",
        "model.add(Conv2D(32,(3,3),activation='relu',input_shape=(32,32,3)))\n",
        "#adding Max pooling layer\n",
        "model.add(MaxPool2D(2,2))\n",
        "#adding another Convolution layer\n",
        "model.add(Conv2D(64,(3,3),activation='relu'))\n",
        "model.add(MaxPool2D(2,2))\n",
        "model.add(Flatten())\n",
        "#adding dense layer\n",
        "model.add(Dense(216,activation='relu'))\n",
        "#adding output layer\n",
        "model.add(Dense(10,activation='softmax'))"
      ],
      "execution_count": 9,
      "outputs": []
    },
    {
      "cell_type": "code",
      "metadata": {
        "id": "GgVWayJ1TQUk"
      },
      "source": [
        "model.compile(optimizer='rmsprop',loss='sparse_categorical_crossentropy',metrics=['accuracy'])"
      ],
      "execution_count": 10,
      "outputs": []
    },
    {
      "cell_type": "markdown",
      "metadata": {
        "id": "jkHYU6GHTeGl"
      },
      "source": [
        "Step 3: Fitting the model\n"
      ]
    },
    {
      "cell_type": "code",
      "metadata": {
        "colab": {
          "base_uri": "https://localhost:8080/"
        },
        "id": "dv-doqvETU-g",
        "outputId": "da394352-f207-4ed8-b7d3-e6c0a04cbd16"
      },
      "source": [
        "model.fit(X_train,y_train,epochs=10)"
      ],
      "execution_count": 11,
      "outputs": [
        {
          "output_type": "stream",
          "text": [
            "Epoch 1/10\n",
            "1563/1563 [==============================] - 70s 44ms/step - loss: 1.4225 - accuracy: 0.4932\n",
            "Epoch 2/10\n",
            "1563/1563 [==============================] - 69s 44ms/step - loss: 1.0426 - accuracy: 0.6344\n",
            "Epoch 3/10\n",
            "1563/1563 [==============================] - 69s 44ms/step - loss: 0.8921 - accuracy: 0.6884\n",
            "Epoch 4/10\n",
            "1563/1563 [==============================] - 69s 44ms/step - loss: 0.7764 - accuracy: 0.7312\n",
            "Epoch 5/10\n",
            "1563/1563 [==============================] - 69s 44ms/step - loss: 0.6823 - accuracy: 0.7654\n",
            "Epoch 6/10\n",
            "1563/1563 [==============================] - 69s 44ms/step - loss: 0.6059 - accuracy: 0.7933\n",
            "Epoch 7/10\n",
            "1563/1563 [==============================] - 69s 44ms/step - loss: 0.5382 - accuracy: 0.8191\n",
            "Epoch 8/10\n",
            "1563/1563 [==============================] - 69s 44ms/step - loss: 0.4890 - accuracy: 0.8349\n",
            "Epoch 9/10\n",
            "1563/1563 [==============================] - 69s 44ms/step - loss: 0.4415 - accuracy: 0.8529\n",
            "Epoch 10/10\n",
            "1563/1563 [==============================] - 69s 44ms/step - loss: 0.4029 - accuracy: 0.8641\n"
          ],
          "name": "stdout"
        },
        {
          "output_type": "execute_result",
          "data": {
            "text/plain": [
              "<keras.callbacks.History at 0x7f715daf5410>"
            ]
          },
          "metadata": {},
          "execution_count": 11
        }
      ]
    },
    {
      "cell_type": "markdown",
      "metadata": {
        "id": "rJQv2kDBTcPw"
      },
      "source": [
        "Step 4: Evaluating the model\n"
      ]
    },
    {
      "cell_type": "code",
      "metadata": {
        "colab": {
          "base_uri": "https://localhost:8080/"
        },
        "id": "w0O7d2DRTXEP",
        "outputId": "d22c2728-9cb7-4cc6-f0ba-c37333ad3967"
      },
      "source": [
        "model.evaluate(X_test,y_test)"
      ],
      "execution_count": 12,
      "outputs": [
        {
          "output_type": "stream",
          "text": [
            "313/313 [==============================] - 4s 13ms/step - loss: 1.2391 - accuracy: 0.6678\n"
          ],
          "name": "stdout"
        },
        {
          "output_type": "execute_result",
          "data": {
            "text/plain": [
              "[1.239091396331787, 0.6678000092506409]"
            ]
          },
          "metadata": {},
          "execution_count": 12
        }
      ]
    },
    {
      "cell_type": "markdown",
      "metadata": {
        "id": "RZYCDJlrTp-y"
      },
      "source": [
        "Step 5: Making Predictions\n"
      ]
    },
    {
      "cell_type": "code",
      "metadata": {
        "colab": {
          "base_uri": "https://localhost:8080/"
        },
        "id": "atOUbHOITaWo",
        "outputId": "f221fa09-c579-41e2-a9c6-c3e1352fcbf2"
      },
      "source": [
        "pred=model.predict(X_test)\n",
        "#printing the first element from predicted data\n",
        "print(pred[0])\n",
        "#printing the index of \n",
        "print('Index:',np.argmax(pred[0]))"
      ],
      "execution_count": 13,
      "outputs": [
        {
          "output_type": "stream",
          "text": [
            "[0.01932541 0.2854512  0.03594473 0.11058955 0.01532927 0.10958948\n",
            " 0.10977723 0.18184823 0.12903674 0.00310811]\n",
            "Index: 1\n"
          ],
          "name": "stdout"
        }
      ]
    },
    {
      "cell_type": "code",
      "metadata": {
        "colab": {
          "base_uri": "https://localhost:8080/"
        },
        "id": "1xT7RNDuTsqb",
        "outputId": "3fb659bd-163c-481f-979a-173a85842f4f"
      },
      "source": [
        "y_classes = [np.argmax(element) for element in pred]\n",
        "print('Predicted_values:',y_classes[:10])\n",
        "print('Actual_values:',y_test[:10])"
      ],
      "execution_count": 14,
      "outputs": [
        {
          "output_type": "stream",
          "text": [
            "Predicted_values: [1, 8, 8, 0, 6, 6, 1, 6, 5, 9]\n",
            "Actual_values: [3 8 8 0 6 6 1 6 3 1]\n"
          ],
          "name": "stdout"
        }
      ]
    },
    {
      "cell_type": "code",
      "metadata": {
        "colab": {
          "base_uri": "https://localhost:8080/"
        },
        "id": "vyV-1HSKTvmU",
        "outputId": "f068357f-b546-4a9a-a8db-a5a61ba0bb10"
      },
      "source": [
        "model4=Sequential()\n",
        "#adding the first Convolution layer\n",
        "model4.add(Conv2D(32,(3,3),activation='relu',input_shape=(32,32,3)))\n",
        "#adding Max pooling layer\n",
        "model4.add(MaxPool2D(2,2))\n",
        "#adding dropout\n",
        "model4.add(Dropout(0.2))\n",
        "#adding another Convolution layer\n",
        "model4.add(Conv2D(64,(3,3),activation='relu'))\n",
        "model4.add(MaxPool2D(2,2))\n",
        "#adding dropout\n",
        "model4.add(Dropout(0.2))\n",
        "model4.add(Flatten())\n",
        "#adding dense layer\n",
        "model4.add(Dense(216,activation='relu'))\n",
        "#adding dropout\n",
        "model4.add(Dropout(0.2))\n",
        "#adding output layer\n",
        "model4.add(Dense(10,activation='softmax'))\n",
        "model4.compile(optimizer='adam',loss='sparse_categorical_crossentropy',metrics=['accuracy'])\n",
        "model4.fit(X_train,y_train,epochs=10)"
      ],
      "execution_count": null,
      "outputs": [
        {
          "output_type": "stream",
          "text": [
            "Epoch 1/10\n",
            "1563/1563 [==============================] - 72s 46ms/step - loss: 1.4709 - accuracy: 0.4674\n",
            "Epoch 2/10\n",
            "1563/1563 [==============================] - 71s 46ms/step - loss: 1.1223 - accuracy: 0.6049\n",
            "Epoch 3/10\n",
            "1563/1563 [==============================] - 71s 46ms/step - loss: 0.9973 - accuracy: 0.6513\n",
            "Epoch 4/10\n",
            "1082/1563 [===================>..........] - ETA: 22s - loss: 0.9130 - accuracy: 0.6788"
          ],
          "name": "stdout"
        }
      ]
    },
    {
      "cell_type": "code",
      "metadata": {
        "id": "Vlp_OWbAT0bZ"
      },
      "source": [
        "model4.evaluate(X_test,y_test)"
      ],
      "execution_count": null,
      "outputs": []
    },
    {
      "cell_type": "code",
      "metadata": {
        "id": "-_lM-iL0T38T"
      },
      "source": [
        ""
      ],
      "execution_count": null,
      "outputs": []
    }
  ]
}