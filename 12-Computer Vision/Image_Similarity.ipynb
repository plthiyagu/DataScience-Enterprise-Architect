{
  "nbformat": 4,
  "nbformat_minor": 0,
  "metadata": {
    "colab": {
      "name": "Image Similarity.ipynb",
      "provenance": [],
      "collapsed_sections": [],
      "authorship_tag": "ABX9TyNCPzQA/pwzA63YWTbpnRjl",
      "include_colab_link": true
    },
    "kernelspec": {
      "name": "python3",
      "display_name": "Python 3"
    }
  },
  "cells": [
    {
      "cell_type": "markdown",
      "metadata": {
        "id": "view-in-github",
        "colab_type": "text"
      },
      "source": [
        "<a href=\"https://colab.research.google.com/github/plthiyagu/AI-Engineering/blob/master/12-Vision%20and%20Image/Image_Similarity.ipynb\" target=\"_parent\"><img src=\"https://colab.research.google.com/assets/colab-badge.svg\" alt=\"Open In Colab\"/></a>"
      ]
    },
    {
      "cell_type": "code",
      "metadata": {
        "id": "ldBw8_h_qap1"
      },
      "source": [
        "import numpy as np\r\n",
        "from PIL import Image\r\n",
        "from math import log2\r\n",
        "from collections import Counter"
      ],
      "execution_count": 3,
      "outputs": []
    },
    {
      "cell_type": "code",
      "metadata": {
        "id": "33XU-bEj2Ysu"
      },
      "source": [
        "!wget https://raw.githubusercontent.com/plthiyagu/Personnel/master/Dataset/Images/Reference_image1.jpg\r\n",
        "!wget https://raw.githubusercontent.com/plthiyagu/Personnel/master/Dataset/Images/Reference_image2.jpg\r\n",
        "!wget https://raw.githubusercontent.com/plthiyagu/Personnel/master/Dataset/Images/Query_image.jpg"
      ],
      "execution_count": null,
      "outputs": []
    },
    {
      "cell_type": "code",
      "metadata": {
        "colab": {
          "base_uri": "https://localhost:8080/"
        },
        "id": "7mb2wbX42b96",
        "outputId": "4656923a-ac9b-4ffe-9a9a-22ecb1dee21a"
      },
      "source": [
        "ref1= Image.open('Reference_image1.jpg')\r\n",
        "array1= np.asarray(ref1)\r\n",
        "print(np.shape(array1))\r\n",
        "flat_array_1=array1.flatten()\r\n",
        "flat_array_1.shape\r\n"
      ],
      "execution_count": 13,
      "outputs": [
        {
          "output_type": "stream",
          "text": [
            "(256, 320, 3)\n"
          ],
          "name": "stdout"
        },
        {
          "output_type": "execute_result",
          "data": {
            "text/plain": [
              "(245760,)"
            ]
          },
          "metadata": {
            "tags": []
          },
          "execution_count": 13
        }
      ]
    },
    {
      "cell_type": "code",
      "metadata": {
        "colab": {
          "base_uri": "https://localhost:8080/"
        },
        "id": "h9B6BpRx54Bj",
        "outputId": "31c1869b-165e-41ec-acf4-96e4aee1952a"
      },
      "source": [
        "ref2 = Image.open('Reference_image2.jpg')\r\n",
        "array2 = np.asarray(ref2)\r\n",
        "flat_array_2 = array2.flatten()\r\n",
        "flat_array_2.shape\r\n"
      ],
      "execution_count": 7,
      "outputs": [
        {
          "output_type": "execute_result",
          "data": {
            "text/plain": [
              "(248832,)"
            ]
          },
          "metadata": {
            "tags": []
          },
          "execution_count": 7
        }
      ]
    },
    {
      "cell_type": "code",
      "metadata": {
        "colab": {
          "base_uri": "https://localhost:8080/"
        },
        "id": "Z6A4OY647gjQ",
        "outputId": "1da6960f-506f-455a-8035-1fa4196a1593"
      },
      "source": [
        "query_img = Image.open('Query_image.jpg')\r\n",
        "query_array = np.asarray(query_img)\r\n",
        "flat_query_arr = query_array.flatten()\r\n",
        "flat_query_arr.shape"
      ],
      "execution_count": 8,
      "outputs": [
        {
          "output_type": "execute_result",
          "data": {
            "text/plain": [
              "(245760,)"
            ]
          },
          "metadata": {
            "tags": []
          },
          "execution_count": 8
        }
      ]
    },
    {
      "cell_type": "code",
      "metadata": {
        "id": "usbJqcTS7kGq"
      },
      "source": [
        "RH1 = Counter(flat_array_1)\r\n",
        "RH2 = Counter(flat_array_2)\r\n",
        "QH = Counter(flat_query_arr)"
      ],
      "execution_count": 11,
      "outputs": []
    },
    {
      "cell_type": "code",
      "metadata": {
        "id": "tgs-lVad7s0Z"
      },
      "source": [
        "H1,H2,H3 = [],[],[]\r\n",
        "for i in range(256):\r\n",
        "    if i in RH1.keys():\r\n",
        "        H1.append(RH1[i])\r\n",
        "    else:\r\n",
        "        H1.append(0)\r\n",
        "    if i in RH2.keys():\r\n",
        "        H2.append(RH2[i])\r\n",
        "    else:\r\n",
        "        H2.append(0)\r\n",
        "    if i in QH.keys():\r\n",
        "        H3.append(QH[i])\r\n",
        "    else:\r\n",
        "        H3.append(0)"
      ],
      "execution_count": 12,
      "outputs": []
    },
    {
      "cell_type": "code",
      "metadata": {
        "colab": {
          "base_uri": "https://localhost:8080/"
        },
        "id": "xkqWzJKz71A4",
        "outputId": "69ffae87-5f85-48bf-a243-5a3ed947933d"
      },
      "source": [
        "len(H1),len(H2),len(H3)"
      ],
      "execution_count": 14,
      "outputs": [
        {
          "output_type": "execute_result",
          "data": {
            "text/plain": [
              "(256, 256, 256)"
            ]
          },
          "metadata": {
            "tags": []
          },
          "execution_count": 14
        }
      ]
    },
    {
      "cell_type": "code",
      "metadata": {
        "colab": {
          "base_uri": "https://localhost:8080/"
        },
        "id": "o1sXzh6D7mx3",
        "outputId": "203b174f-dcd3-4263-f43f-a4ae8343c449"
      },
      "source": [
        "def cosine_distance(H1,H2):\r\n",
        "    return 1 - (np.dot(H1,H2)/(np.linalg.norm(H1)*(np.linalg.norm(H2))))\r\n",
        "print(cosine_distance(H1,H3))\r\n",
        "print(cosine_distance(H2,H3))\r\n",
        "print(cosine_distance(H1,H2))"
      ],
      "execution_count": 15,
      "outputs": [
        {
          "output_type": "stream",
          "text": [
            "0.000766863094239234\n",
            "0.9530868872541659\n",
            "0.9774695692424857\n"
          ],
          "name": "stdout"
        }
      ]
    },
    {
      "cell_type": "code",
      "metadata": {
        "id": "A-PaMLqSqsUO"
      },
      "source": [
        "def L2Norm(H1,H2):\r\n",
        "    distance =0\r\n",
        "    for i in range(len(H1)):\r\n",
        "        distance += np.square(H1[i]-H2[i])\r\n",
        "    return np.sqrt(distance)"
      ],
      "execution_count": 16,
      "outputs": []
    },
    {
      "cell_type": "code",
      "metadata": {
        "colab": {
          "base_uri": "https://localhost:8080/"
        },
        "id": "ld7WX7EK9HOi",
        "outputId": "e8bb8cbf-f92c-4028-a5e0-c821a1bc5443"
      },
      "source": [
        "print(L2Norm(H1,H3))\r\n",
        "print(L2Norm(H1,H2))\r\n",
        "print(L2Norm(H2,H3))"
      ],
      "execution_count": 17,
      "outputs": [
        {
          "output_type": "stream",
          "text": [
            "9882.175468994668\n",
            "146523.09240525877\n",
            "137929.0223122023\n"
          ],
          "name": "stdout"
        }
      ]
    }
  ]
}