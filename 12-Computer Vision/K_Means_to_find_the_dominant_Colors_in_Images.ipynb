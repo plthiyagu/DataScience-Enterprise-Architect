{
  "nbformat": 4,
  "nbformat_minor": 0,
  "metadata": {
    "colab": {
      "name": "K-Means to find the dominant Colors in Images.ipynb",
      "provenance": [],
      "collapsed_sections": [],
      "authorship_tag": "ABX9TyOO3gmzRbjXXYgsFm4DULln",
      "include_colab_link": true
    },
    "kernelspec": {
      "name": "python3",
      "display_name": "Python 3"
    },
    "language_info": {
      "name": "python"
    }
  },
  "cells": [
    {
      "cell_type": "markdown",
      "metadata": {
        "id": "view-in-github",
        "colab_type": "text"
      },
      "source": [
        "<a href=\"https://colab.research.google.com/github/plthiyagu/AI-Engineering/blob/master/12-Image%20and%20Video%20Analytics/K_Means_to_find_the_dominant_Colors_in_Images.ipynb\" target=\"_parent\"><img src=\"https://colab.research.google.com/assets/colab-badge.svg\" alt=\"Open In Colab\"/></a>"
      ]
    },
    {
      "cell_type": "markdown",
      "metadata": {
        "id": "WDXox8Eozj4C"
      },
      "source": [
        "https://charlesleifer.com/blog/using-python-and-k-means-to-find-the-dominant-colors-in-images/"
      ]
    },
    {
      "cell_type": "code",
      "metadata": {
        "colab": {
          "base_uri": "https://localhost:8080/"
        },
        "id": "Jbg_LdCx0Nl6",
        "outputId": "1daf3225-5a5d-4e44-d272-21f33c751e41"
      },
      "source": [
        "!wget https://raw.githubusercontent.com/plthiyagu/Personnel/master/Dataset/Images/akira.jpg\n",
        "!wget https://raw.githubusercontent.com/plthiyagu/Personnel/master/Dataset/Images/akira-cycle-2.png\n",
        "!wget https://raw.githubusercontent.com/plthiyagu/Personnel/master/Dataset/Images/akira-neo-tokyo-6.png\n",
        "!wget https://raw.githubusercontent.com/plthiyagu/Personnel/master/Dataset/Images/akira-neo-tokyo-7.png"
      ],
      "execution_count": 2,
      "outputs": [
        {
          "output_type": "stream",
          "text": [
            "--2021-08-04 20:19:17--  https://raw.githubusercontent.com/plthiyagu/Personnel/master/Dataset/Images/akira.jpg\n",
            "Resolving raw.githubusercontent.com (raw.githubusercontent.com)... 185.199.108.133, 185.199.109.133, 185.199.110.133, ...\n",
            "Connecting to raw.githubusercontent.com (raw.githubusercontent.com)|185.199.108.133|:443... connected.\n",
            "HTTP request sent, awaiting response... 200 OK\n",
            "Length: 209243 (204K) [image/jpeg]\n",
            "Saving to: ‘akira.jpg’\n",
            "\n",
            "\rakira.jpg             0%[                    ]       0  --.-KB/s               \rakira.jpg           100%[===================>] 204.34K  --.-KB/s    in 0.03s   \n",
            "\n",
            "2021-08-04 20:19:17 (7.36 MB/s) - ‘akira.jpg’ saved [209243/209243]\n",
            "\n",
            "--2021-08-04 20:19:17--  https://raw.githubusercontent.com/plthiyagu/Personnel/master/Dataset/Images/akira-cycle-2.png\n",
            "Resolving raw.githubusercontent.com (raw.githubusercontent.com)... 185.199.108.133, 185.199.109.133, 185.199.110.133, ...\n",
            "Connecting to raw.githubusercontent.com (raw.githubusercontent.com)|185.199.108.133|:443... connected.\n",
            "HTTP request sent, awaiting response... 200 OK\n",
            "Length: 564320 (551K) [image/png]\n",
            "Saving to: ‘akira-cycle-2.png’\n",
            "\n",
            "akira-cycle-2.png   100%[===================>] 551.09K  --.-KB/s    in 0.04s   \n",
            "\n",
            "2021-08-04 20:19:18 (12.4 MB/s) - ‘akira-cycle-2.png’ saved [564320/564320]\n",
            "\n",
            "--2021-08-04 20:19:18--  https://raw.githubusercontent.com/plthiyagu/Personnel/master/Dataset/Images/akira-neo-tokyo-6.png\n",
            "Resolving raw.githubusercontent.com (raw.githubusercontent.com)... 185.199.108.133, 185.199.109.133, 185.199.110.133, ...\n",
            "Connecting to raw.githubusercontent.com (raw.githubusercontent.com)|185.199.108.133|:443... connected.\n",
            "HTTP request sent, awaiting response... 200 OK\n",
            "Length: 728317 (711K) [image/png]\n",
            "Saving to: ‘akira-neo-tokyo-6.png’\n",
            "\n",
            "akira-neo-tokyo-6.p 100%[===================>] 711.25K  --.-KB/s    in 0.05s   \n",
            "\n",
            "2021-08-04 20:19:18 (14.5 MB/s) - ‘akira-neo-tokyo-6.png’ saved [728317/728317]\n",
            "\n",
            "--2021-08-04 20:19:18--  https://raw.githubusercontent.com/plthiyagu/Personnel/master/Dataset/Images/akira-neo-tokyo-7.png\n",
            "Resolving raw.githubusercontent.com (raw.githubusercontent.com)... 185.199.111.133, 185.199.108.133, 185.199.109.133, ...\n",
            "Connecting to raw.githubusercontent.com (raw.githubusercontent.com)|185.199.111.133|:443... connected.\n",
            "HTTP request sent, awaiting response... 200 OK\n",
            "Length: 703804 (687K) [image/png]\n",
            "Saving to: ‘akira-neo-tokyo-7.png’\n",
            "\n",
            "akira-neo-tokyo-7.p 100%[===================>] 687.31K  --.-KB/s    in 0.05s   \n",
            "\n",
            "2021-08-04 20:19:18 (14.5 MB/s) - ‘akira-neo-tokyo-7.png’ saved [703804/703804]\n",
            "\n"
          ],
          "name": "stdout"
        }
      ]
    },
    {
      "cell_type": "code",
      "metadata": {
        "id": "tJLAbx4AzXAl"
      },
      "source": [
        "from collections import namedtuple\n",
        "from math import sqrt\n",
        "import random\n",
        "try:\n",
        "    import Image\n",
        "except ImportError:\n",
        "    from PIL import Image\n",
        "\n",
        "Point = namedtuple('Point', ('coords', 'n', 'ct'))\n",
        "Cluster = namedtuple('Cluster', ('points', 'center', 'n'))\n",
        "\n",
        "def get_points(img):\n",
        "    points = []\n",
        "    w, h = img.size\n",
        "    for count, color in img.getcolors(w * h):\n",
        "        points.append(Point(color, 3, count))\n",
        "    return points\n",
        "\n",
        "rtoh = lambda rgb: '#%s' % ''.join(('%02x' % p for p in rgb))\n",
        "\n",
        "def colorz(filename, n=3):\n",
        "    img = Image.open(filename)\n",
        "    img.thumbnail((200, 200))\n",
        "    w, h = img.size\n",
        "\n",
        "    points = get_points(img)\n",
        "    clusters = kmeans(points, n, 1)\n",
        "    rgbs = [map(int, c.center.coords) for c in clusters]\n",
        "    return map(rtoh, rgbs)\n",
        "\n",
        "def euclidean(p1, p2):\n",
        "    return sqrt(sum([\n",
        "        (p1.coords[i] - p2.coords[i]) ** 2 for i in range(p1.n)\n",
        "    ]))\n",
        "\n",
        "def calculate_center(points, n):\n",
        "    vals = [0.0 for i in range(n)]\n",
        "    plen = 0\n",
        "    for p in points:\n",
        "        plen += p.ct\n",
        "        for i in range(n):\n",
        "            vals[i] += (p.coords[i] * p.ct)\n",
        "    return Point([(v / plen) for v in vals], n, 1)\n",
        "\n",
        "def kmeans(points, k, min_diff):\n",
        "    clusters = [Cluster([p], p, p.n) for p in random.sample(points, k)]\n",
        "\n",
        "    while 1:\n",
        "        plists = [[] for i in range(k)]\n",
        "\n",
        "        for p in points:\n",
        "            smallest_distance = float('Inf')\n",
        "            for i in range(k):\n",
        "                distance = euclidean(p, clusters[i].center)\n",
        "                if distance < smallest_distance:\n",
        "                    smallest_distance = distance\n",
        "                    idx = i\n",
        "            plists[idx].append(p)\n",
        "\n",
        "        diff = 0\n",
        "        for i in range(k):\n",
        "            old = clusters[i]\n",
        "            center = calculate_center(plists[i], old.n)\n",
        "            new = Cluster(plists[i], center, old.n)\n",
        "            clusters[i] = new\n",
        "            diff = max(diff, euclidean(old.center, new.center))\n",
        "\n",
        "        if diff < min_diff:\n",
        "            break\n",
        "\n",
        "    return clusters"
      ],
      "execution_count": 1,
      "outputs": []
    },
    {
      "cell_type": "code",
      "metadata": {
        "id": "eFnP6JdFzYXF"
      },
      "source": [
        ""
      ],
      "execution_count": null,
      "outputs": []
    }
  ]
}