{
  "nbformat": 4,
  "nbformat_minor": 0,
  "metadata": {
    "accelerator": "GPU",
    "colab": {
      "name": "Satellite Image Processing.ipynb",
      "provenance": [],
      "collapsed_sections": [],
      "include_colab_link": true
    },
    "kernelspec": {
      "display_name": "Python 3",
      "language": "python",
      "name": "python3"
    },
    "language_info": {
      "codemirror_mode": {
        "name": "ipython",
        "version": 3
      },
      "file_extension": ".py",
      "mimetype": "text/x-python",
      "name": "python",
      "nbconvert_exporter": "python",
      "pygments_lexer": "ipython3",
      "version": "3.7.7"
    },
    "widgets": {
      "application/vnd.jupyter.widget-state+json": {
        "7093b98f4e414929a4625ea71687b299": {
          "model_module": "@jupyter-widgets/controls",
          "model_name": "HBoxModel",
          "state": {
            "_view_name": "HBoxView",
            "_dom_classes": [],
            "_model_name": "HBoxModel",
            "_view_module": "@jupyter-widgets/controls",
            "_model_module_version": "1.5.0",
            "_view_count": null,
            "_view_module_version": "1.5.0",
            "box_style": "",
            "layout": "IPY_MODEL_d7492186af524b9ba0d3b7c114d3dbac",
            "_model_module": "@jupyter-widgets/controls",
            "children": [
              "IPY_MODEL_4d0c56e7b8d943fe99b0e824499a7886",
              "IPY_MODEL_a1c959454d674c989ec0c37419f9d5c5"
            ]
          }
        },
        "d7492186af524b9ba0d3b7c114d3dbac": {
          "model_module": "@jupyter-widgets/base",
          "model_name": "LayoutModel",
          "state": {
            "_view_name": "LayoutView",
            "grid_template_rows": null,
            "right": null,
            "justify_content": null,
            "_view_module": "@jupyter-widgets/base",
            "overflow": null,
            "_model_module_version": "1.2.0",
            "_view_count": null,
            "flex_flow": null,
            "width": null,
            "min_width": null,
            "border": null,
            "align_items": null,
            "bottom": null,
            "_model_module": "@jupyter-widgets/base",
            "top": null,
            "grid_column": null,
            "overflow_y": null,
            "overflow_x": null,
            "grid_auto_flow": null,
            "grid_area": null,
            "grid_template_columns": null,
            "flex": null,
            "_model_name": "LayoutModel",
            "justify_items": null,
            "grid_row": null,
            "max_height": null,
            "align_content": null,
            "visibility": null,
            "align_self": null,
            "height": null,
            "min_height": null,
            "padding": null,
            "grid_auto_rows": null,
            "grid_gap": null,
            "max_width": null,
            "order": null,
            "_view_module_version": "1.2.0",
            "grid_template_areas": null,
            "object_position": null,
            "object_fit": null,
            "grid_auto_columns": null,
            "margin": null,
            "display": null,
            "left": null
          }
        },
        "4d0c56e7b8d943fe99b0e824499a7886": {
          "model_module": "@jupyter-widgets/controls",
          "model_name": "FloatProgressModel",
          "state": {
            "_view_name": "ProgressView",
            "style": "IPY_MODEL_bb75d014481045cd88dcfb34ffd19dbc",
            "_dom_classes": [],
            "description": "Dl Completed...: 100%",
            "_model_name": "FloatProgressModel",
            "bar_style": "success",
            "max": 1,
            "_view_module": "@jupyter-widgets/controls",
            "_model_module_version": "1.5.0",
            "value": 1,
            "_view_count": null,
            "_view_module_version": "1.5.0",
            "orientation": "horizontal",
            "min": 0,
            "description_tooltip": null,
            "_model_module": "@jupyter-widgets/controls",
            "layout": "IPY_MODEL_2b8b574ab7ef45a7b689f2f71cbe4cde"
          }
        },
        "a1c959454d674c989ec0c37419f9d5c5": {
          "model_module": "@jupyter-widgets/controls",
          "model_name": "HTMLModel",
          "state": {
            "_view_name": "HTMLView",
            "style": "IPY_MODEL_f4798b0b4c384a6cbf582d9d0999fdda",
            "_dom_classes": [],
            "description": "",
            "_model_name": "HTMLModel",
            "placeholder": "​",
            "_view_module": "@jupyter-widgets/controls",
            "_model_module_version": "1.5.0",
            "value": " 1/1 [00:11&lt;00:00, 11.24s/ url]",
            "_view_count": null,
            "_view_module_version": "1.5.0",
            "description_tooltip": null,
            "_model_module": "@jupyter-widgets/controls",
            "layout": "IPY_MODEL_f1ee847824e74c17b36b7eb79cffe4ee"
          }
        },
        "bb75d014481045cd88dcfb34ffd19dbc": {
          "model_module": "@jupyter-widgets/controls",
          "model_name": "ProgressStyleModel",
          "state": {
            "_view_name": "StyleView",
            "_model_name": "ProgressStyleModel",
            "description_width": "initial",
            "_view_module": "@jupyter-widgets/base",
            "_model_module_version": "1.5.0",
            "_view_count": null,
            "_view_module_version": "1.2.0",
            "bar_color": null,
            "_model_module": "@jupyter-widgets/controls"
          }
        },
        "2b8b574ab7ef45a7b689f2f71cbe4cde": {
          "model_module": "@jupyter-widgets/base",
          "model_name": "LayoutModel",
          "state": {
            "_view_name": "LayoutView",
            "grid_template_rows": null,
            "right": null,
            "justify_content": null,
            "_view_module": "@jupyter-widgets/base",
            "overflow": null,
            "_model_module_version": "1.2.0",
            "_view_count": null,
            "flex_flow": null,
            "width": null,
            "min_width": null,
            "border": null,
            "align_items": null,
            "bottom": null,
            "_model_module": "@jupyter-widgets/base",
            "top": null,
            "grid_column": null,
            "overflow_y": null,
            "overflow_x": null,
            "grid_auto_flow": null,
            "grid_area": null,
            "grid_template_columns": null,
            "flex": null,
            "_model_name": "LayoutModel",
            "justify_items": null,
            "grid_row": null,
            "max_height": null,
            "align_content": null,
            "visibility": null,
            "align_self": null,
            "height": null,
            "min_height": null,
            "padding": null,
            "grid_auto_rows": null,
            "grid_gap": null,
            "max_width": null,
            "order": null,
            "_view_module_version": "1.2.0",
            "grid_template_areas": null,
            "object_position": null,
            "object_fit": null,
            "grid_auto_columns": null,
            "margin": null,
            "display": null,
            "left": null
          }
        },
        "f4798b0b4c384a6cbf582d9d0999fdda": {
          "model_module": "@jupyter-widgets/controls",
          "model_name": "DescriptionStyleModel",
          "state": {
            "_view_name": "StyleView",
            "_model_name": "DescriptionStyleModel",
            "description_width": "",
            "_view_module": "@jupyter-widgets/base",
            "_model_module_version": "1.5.0",
            "_view_count": null,
            "_view_module_version": "1.2.0",
            "_model_module": "@jupyter-widgets/controls"
          }
        },
        "f1ee847824e74c17b36b7eb79cffe4ee": {
          "model_module": "@jupyter-widgets/base",
          "model_name": "LayoutModel",
          "state": {
            "_view_name": "LayoutView",
            "grid_template_rows": null,
            "right": null,
            "justify_content": null,
            "_view_module": "@jupyter-widgets/base",
            "overflow": null,
            "_model_module_version": "1.2.0",
            "_view_count": null,
            "flex_flow": null,
            "width": null,
            "min_width": null,
            "border": null,
            "align_items": null,
            "bottom": null,
            "_model_module": "@jupyter-widgets/base",
            "top": null,
            "grid_column": null,
            "overflow_y": null,
            "overflow_x": null,
            "grid_auto_flow": null,
            "grid_area": null,
            "grid_template_columns": null,
            "flex": null,
            "_model_name": "LayoutModel",
            "justify_items": null,
            "grid_row": null,
            "max_height": null,
            "align_content": null,
            "visibility": null,
            "align_self": null,
            "height": null,
            "min_height": null,
            "padding": null,
            "grid_auto_rows": null,
            "grid_gap": null,
            "max_width": null,
            "order": null,
            "_view_module_version": "1.2.0",
            "grid_template_areas": null,
            "object_position": null,
            "object_fit": null,
            "grid_auto_columns": null,
            "margin": null,
            "display": null,
            "left": null
          }
        },
        "b425cec0ad324b3aa52897aec06da96c": {
          "model_module": "@jupyter-widgets/controls",
          "model_name": "HBoxModel",
          "state": {
            "_view_name": "HBoxView",
            "_dom_classes": [],
            "_model_name": "HBoxModel",
            "_view_module": "@jupyter-widgets/controls",
            "_model_module_version": "1.5.0",
            "_view_count": null,
            "_view_module_version": "1.5.0",
            "box_style": "",
            "layout": "IPY_MODEL_54beebf8c594489bb6ccb13e75f781dd",
            "_model_module": "@jupyter-widgets/controls",
            "children": [
              "IPY_MODEL_4716cd49651843268f0d5ed45eac70ab",
              "IPY_MODEL_dfd48bab4ecd4224a7ce98467ace819c"
            ]
          }
        },
        "54beebf8c594489bb6ccb13e75f781dd": {
          "model_module": "@jupyter-widgets/base",
          "model_name": "LayoutModel",
          "state": {
            "_view_name": "LayoutView",
            "grid_template_rows": null,
            "right": null,
            "justify_content": null,
            "_view_module": "@jupyter-widgets/base",
            "overflow": null,
            "_model_module_version": "1.2.0",
            "_view_count": null,
            "flex_flow": null,
            "width": null,
            "min_width": null,
            "border": null,
            "align_items": null,
            "bottom": null,
            "_model_module": "@jupyter-widgets/base",
            "top": null,
            "grid_column": null,
            "overflow_y": null,
            "overflow_x": null,
            "grid_auto_flow": null,
            "grid_area": null,
            "grid_template_columns": null,
            "flex": null,
            "_model_name": "LayoutModel",
            "justify_items": null,
            "grid_row": null,
            "max_height": null,
            "align_content": null,
            "visibility": null,
            "align_self": null,
            "height": null,
            "min_height": null,
            "padding": null,
            "grid_auto_rows": null,
            "grid_gap": null,
            "max_width": null,
            "order": null,
            "_view_module_version": "1.2.0",
            "grid_template_areas": null,
            "object_position": null,
            "object_fit": null,
            "grid_auto_columns": null,
            "margin": null,
            "display": null,
            "left": null
          }
        },
        "4716cd49651843268f0d5ed45eac70ab": {
          "model_module": "@jupyter-widgets/controls",
          "model_name": "FloatProgressModel",
          "state": {
            "_view_name": "ProgressView",
            "style": "IPY_MODEL_8b0b21117cac496dba51d9363645e2ef",
            "_dom_classes": [],
            "description": "Dl Size...: 100%",
            "_model_name": "FloatProgressModel",
            "bar_style": "success",
            "max": 1,
            "_view_module": "@jupyter-widgets/controls",
            "_model_module_version": "1.5.0",
            "value": 1,
            "_view_count": null,
            "_view_module_version": "1.5.0",
            "orientation": "horizontal",
            "min": 0,
            "description_tooltip": null,
            "_model_module": "@jupyter-widgets/controls",
            "layout": "IPY_MODEL_6a86b4cc907b44ef92a7f0b7dffb85ba"
          }
        },
        "dfd48bab4ecd4224a7ce98467ace819c": {
          "model_module": "@jupyter-widgets/controls",
          "model_name": "HTMLModel",
          "state": {
            "_view_name": "HTMLView",
            "style": "IPY_MODEL_20f0107bbb5e422b8823881a9cd1b926",
            "_dom_classes": [],
            "description": "",
            "_model_name": "HTMLModel",
            "placeholder": "​",
            "_view_module": "@jupyter-widgets/controls",
            "_model_module_version": "1.5.0",
            "value": " 89/89 [00:11&lt;00:00,  7.94 MiB/s]",
            "_view_count": null,
            "_view_module_version": "1.5.0",
            "description_tooltip": null,
            "_model_module": "@jupyter-widgets/controls",
            "layout": "IPY_MODEL_d460b3f2e4554168aec2f7aedb99164d"
          }
        },
        "8b0b21117cac496dba51d9363645e2ef": {
          "model_module": "@jupyter-widgets/controls",
          "model_name": "ProgressStyleModel",
          "state": {
            "_view_name": "StyleView",
            "_model_name": "ProgressStyleModel",
            "description_width": "initial",
            "_view_module": "@jupyter-widgets/base",
            "_model_module_version": "1.5.0",
            "_view_count": null,
            "_view_module_version": "1.2.0",
            "bar_color": null,
            "_model_module": "@jupyter-widgets/controls"
          }
        },
        "6a86b4cc907b44ef92a7f0b7dffb85ba": {
          "model_module": "@jupyter-widgets/base",
          "model_name": "LayoutModel",
          "state": {
            "_view_name": "LayoutView",
            "grid_template_rows": null,
            "right": null,
            "justify_content": null,
            "_view_module": "@jupyter-widgets/base",
            "overflow": null,
            "_model_module_version": "1.2.0",
            "_view_count": null,
            "flex_flow": null,
            "width": null,
            "min_width": null,
            "border": null,
            "align_items": null,
            "bottom": null,
            "_model_module": "@jupyter-widgets/base",
            "top": null,
            "grid_column": null,
            "overflow_y": null,
            "overflow_x": null,
            "grid_auto_flow": null,
            "grid_area": null,
            "grid_template_columns": null,
            "flex": null,
            "_model_name": "LayoutModel",
            "justify_items": null,
            "grid_row": null,
            "max_height": null,
            "align_content": null,
            "visibility": null,
            "align_self": null,
            "height": null,
            "min_height": null,
            "padding": null,
            "grid_auto_rows": null,
            "grid_gap": null,
            "max_width": null,
            "order": null,
            "_view_module_version": "1.2.0",
            "grid_template_areas": null,
            "object_position": null,
            "object_fit": null,
            "grid_auto_columns": null,
            "margin": null,
            "display": null,
            "left": null
          }
        },
        "20f0107bbb5e422b8823881a9cd1b926": {
          "model_module": "@jupyter-widgets/controls",
          "model_name": "DescriptionStyleModel",
          "state": {
            "_view_name": "StyleView",
            "_model_name": "DescriptionStyleModel",
            "description_width": "",
            "_view_module": "@jupyter-widgets/base",
            "_model_module_version": "1.5.0",
            "_view_count": null,
            "_view_module_version": "1.2.0",
            "_model_module": "@jupyter-widgets/controls"
          }
        },
        "d460b3f2e4554168aec2f7aedb99164d": {
          "model_module": "@jupyter-widgets/base",
          "model_name": "LayoutModel",
          "state": {
            "_view_name": "LayoutView",
            "grid_template_rows": null,
            "right": null,
            "justify_content": null,
            "_view_module": "@jupyter-widgets/base",
            "overflow": null,
            "_model_module_version": "1.2.0",
            "_view_count": null,
            "flex_flow": null,
            "width": null,
            "min_width": null,
            "border": null,
            "align_items": null,
            "bottom": null,
            "_model_module": "@jupyter-widgets/base",
            "top": null,
            "grid_column": null,
            "overflow_y": null,
            "overflow_x": null,
            "grid_auto_flow": null,
            "grid_area": null,
            "grid_template_columns": null,
            "flex": null,
            "_model_name": "LayoutModel",
            "justify_items": null,
            "grid_row": null,
            "max_height": null,
            "align_content": null,
            "visibility": null,
            "align_self": null,
            "height": null,
            "min_height": null,
            "padding": null,
            "grid_auto_rows": null,
            "grid_gap": null,
            "max_width": null,
            "order": null,
            "_view_module_version": "1.2.0",
            "grid_template_areas": null,
            "object_position": null,
            "object_fit": null,
            "grid_auto_columns": null,
            "margin": null,
            "display": null,
            "left": null
          }
        },
        "b2a74dcf37e344acb406c19d5e4d0d2a": {
          "model_module": "@jupyter-widgets/controls",
          "model_name": "HBoxModel",
          "state": {
            "_view_name": "HBoxView",
            "_dom_classes": [],
            "_model_name": "HBoxModel",
            "_view_module": "@jupyter-widgets/controls",
            "_model_module_version": "1.5.0",
            "_view_count": null,
            "_view_module_version": "1.5.0",
            "box_style": "",
            "layout": "IPY_MODEL_6d0f90bd94434e89980b5dd3ecbff87c",
            "_model_module": "@jupyter-widgets/controls",
            "children": [
              "IPY_MODEL_2faefa1047a94cbd973743b8e4f7c141",
              "IPY_MODEL_a744348c28cc46189f8b363202e5f27c"
            ]
          }
        },
        "6d0f90bd94434e89980b5dd3ecbff87c": {
          "model_module": "@jupyter-widgets/base",
          "model_name": "LayoutModel",
          "state": {
            "_view_name": "LayoutView",
            "grid_template_rows": null,
            "right": null,
            "justify_content": null,
            "_view_module": "@jupyter-widgets/base",
            "overflow": null,
            "_model_module_version": "1.2.0",
            "_view_count": null,
            "flex_flow": null,
            "width": null,
            "min_width": null,
            "border": null,
            "align_items": null,
            "bottom": null,
            "_model_module": "@jupyter-widgets/base",
            "top": null,
            "grid_column": null,
            "overflow_y": null,
            "overflow_x": null,
            "grid_auto_flow": null,
            "grid_area": null,
            "grid_template_columns": null,
            "flex": null,
            "_model_name": "LayoutModel",
            "justify_items": null,
            "grid_row": null,
            "max_height": null,
            "align_content": null,
            "visibility": null,
            "align_self": null,
            "height": null,
            "min_height": null,
            "padding": null,
            "grid_auto_rows": null,
            "grid_gap": null,
            "max_width": null,
            "order": null,
            "_view_module_version": "1.2.0",
            "grid_template_areas": null,
            "object_position": null,
            "object_fit": null,
            "grid_auto_columns": null,
            "margin": null,
            "display": null,
            "left": null
          }
        },
        "2faefa1047a94cbd973743b8e4f7c141": {
          "model_module": "@jupyter-widgets/controls",
          "model_name": "FloatProgressModel",
          "state": {
            "_view_name": "ProgressView",
            "style": "IPY_MODEL_3c81c77ee7084ca69cbc0055459e03c3",
            "_dom_classes": [],
            "description": "Extraction completed...: 100%",
            "_model_name": "FloatProgressModel",
            "bar_style": "success",
            "max": 1,
            "_view_module": "@jupyter-widgets/controls",
            "_model_module_version": "1.5.0",
            "value": 1,
            "_view_count": null,
            "_view_module_version": "1.5.0",
            "orientation": "horizontal",
            "min": 0,
            "description_tooltip": null,
            "_model_module": "@jupyter-widgets/controls",
            "layout": "IPY_MODEL_1798685863d8465ab4d913fe1fa526bb"
          }
        },
        "a744348c28cc46189f8b363202e5f27c": {
          "model_module": "@jupyter-widgets/controls",
          "model_name": "HTMLModel",
          "state": {
            "_view_name": "HTMLView",
            "style": "IPY_MODEL_4fce1dea258640648bee48b3cb9e626f",
            "_dom_classes": [],
            "description": "",
            "_model_name": "HTMLModel",
            "placeholder": "​",
            "_view_module": "@jupyter-widgets/controls",
            "_model_module_version": "1.5.0",
            "value": " 1/1 [00:11&lt;00:00, 11.17s/ file]",
            "_view_count": null,
            "_view_module_version": "1.5.0",
            "description_tooltip": null,
            "_model_module": "@jupyter-widgets/controls",
            "layout": "IPY_MODEL_932a3400e6664aa0bfb2895bb7956f20"
          }
        },
        "3c81c77ee7084ca69cbc0055459e03c3": {
          "model_module": "@jupyter-widgets/controls",
          "model_name": "ProgressStyleModel",
          "state": {
            "_view_name": "StyleView",
            "_model_name": "ProgressStyleModel",
            "description_width": "initial",
            "_view_module": "@jupyter-widgets/base",
            "_model_module_version": "1.5.0",
            "_view_count": null,
            "_view_module_version": "1.2.0",
            "bar_color": null,
            "_model_module": "@jupyter-widgets/controls"
          }
        },
        "1798685863d8465ab4d913fe1fa526bb": {
          "model_module": "@jupyter-widgets/base",
          "model_name": "LayoutModel",
          "state": {
            "_view_name": "LayoutView",
            "grid_template_rows": null,
            "right": null,
            "justify_content": null,
            "_view_module": "@jupyter-widgets/base",
            "overflow": null,
            "_model_module_version": "1.2.0",
            "_view_count": null,
            "flex_flow": null,
            "width": null,
            "min_width": null,
            "border": null,
            "align_items": null,
            "bottom": null,
            "_model_module": "@jupyter-widgets/base",
            "top": null,
            "grid_column": null,
            "overflow_y": null,
            "overflow_x": null,
            "grid_auto_flow": null,
            "grid_area": null,
            "grid_template_columns": null,
            "flex": null,
            "_model_name": "LayoutModel",
            "justify_items": null,
            "grid_row": null,
            "max_height": null,
            "align_content": null,
            "visibility": null,
            "align_self": null,
            "height": null,
            "min_height": null,
            "padding": null,
            "grid_auto_rows": null,
            "grid_gap": null,
            "max_width": null,
            "order": null,
            "_view_module_version": "1.2.0",
            "grid_template_areas": null,
            "object_position": null,
            "object_fit": null,
            "grid_auto_columns": null,
            "margin": null,
            "display": null,
            "left": null
          }
        },
        "4fce1dea258640648bee48b3cb9e626f": {
          "model_module": "@jupyter-widgets/controls",
          "model_name": "DescriptionStyleModel",
          "state": {
            "_view_name": "StyleView",
            "_model_name": "DescriptionStyleModel",
            "description_width": "",
            "_view_module": "@jupyter-widgets/base",
            "_model_module_version": "1.5.0",
            "_view_count": null,
            "_view_module_version": "1.2.0",
            "_model_module": "@jupyter-widgets/controls"
          }
        },
        "932a3400e6664aa0bfb2895bb7956f20": {
          "model_module": "@jupyter-widgets/base",
          "model_name": "LayoutModel",
          "state": {
            "_view_name": "LayoutView",
            "grid_template_rows": null,
            "right": null,
            "justify_content": null,
            "_view_module": "@jupyter-widgets/base",
            "overflow": null,
            "_model_module_version": "1.2.0",
            "_view_count": null,
            "flex_flow": null,
            "width": null,
            "min_width": null,
            "border": null,
            "align_items": null,
            "bottom": null,
            "_model_module": "@jupyter-widgets/base",
            "top": null,
            "grid_column": null,
            "overflow_y": null,
            "overflow_x": null,
            "grid_auto_flow": null,
            "grid_area": null,
            "grid_template_columns": null,
            "flex": null,
            "_model_name": "LayoutModel",
            "justify_items": null,
            "grid_row": null,
            "max_height": null,
            "align_content": null,
            "visibility": null,
            "align_self": null,
            "height": null,
            "min_height": null,
            "padding": null,
            "grid_auto_rows": null,
            "grid_gap": null,
            "max_width": null,
            "order": null,
            "_view_module_version": "1.2.0",
            "grid_template_areas": null,
            "object_position": null,
            "object_fit": null,
            "grid_auto_columns": null,
            "margin": null,
            "display": null,
            "left": null
          }
        },
        "6d272958f5584bfaa484c93f713897c7": {
          "model_module": "@jupyter-widgets/controls",
          "model_name": "HBoxModel",
          "state": {
            "_view_name": "HBoxView",
            "_dom_classes": [],
            "_model_name": "HBoxModel",
            "_view_module": "@jupyter-widgets/controls",
            "_model_module_version": "1.5.0",
            "_view_count": null,
            "_view_module_version": "1.5.0",
            "box_style": "",
            "layout": "IPY_MODEL_264974ec4fdf41098ebc3ffe2a508152",
            "_model_module": "@jupyter-widgets/controls",
            "children": [
              "IPY_MODEL_893a69faddc14c719dbcbb574588bcd5",
              "IPY_MODEL_d52d8bf7ff1249cd8d9cc1113232b5e5"
            ]
          }
        },
        "264974ec4fdf41098ebc3ffe2a508152": {
          "model_module": "@jupyter-widgets/base",
          "model_name": "LayoutModel",
          "state": {
            "_view_name": "LayoutView",
            "grid_template_rows": null,
            "right": null,
            "justify_content": null,
            "_view_module": "@jupyter-widgets/base",
            "overflow": null,
            "_model_module_version": "1.2.0",
            "_view_count": null,
            "flex_flow": null,
            "width": null,
            "min_width": null,
            "border": null,
            "align_items": null,
            "bottom": null,
            "_model_module": "@jupyter-widgets/base",
            "top": null,
            "grid_column": null,
            "overflow_y": null,
            "overflow_x": null,
            "grid_auto_flow": null,
            "grid_area": null,
            "grid_template_columns": null,
            "flex": null,
            "_model_name": "LayoutModel",
            "justify_items": null,
            "grid_row": null,
            "max_height": null,
            "align_content": null,
            "visibility": null,
            "align_self": null,
            "height": null,
            "min_height": null,
            "padding": null,
            "grid_auto_rows": null,
            "grid_gap": null,
            "max_width": null,
            "order": null,
            "_view_module_version": "1.2.0",
            "grid_template_areas": null,
            "object_position": null,
            "object_fit": null,
            "grid_auto_columns": null,
            "margin": null,
            "display": null,
            "left": null
          }
        },
        "893a69faddc14c719dbcbb574588bcd5": {
          "model_module": "@jupyter-widgets/controls",
          "model_name": "FloatProgressModel",
          "state": {
            "_view_name": "ProgressView",
            "style": "IPY_MODEL_43d287a9265f4fe3ae22560544065b4a",
            "_dom_classes": [],
            "description": "",
            "_model_name": "FloatProgressModel",
            "bar_style": "info",
            "max": 1,
            "_view_module": "@jupyter-widgets/controls",
            "_model_module_version": "1.5.0",
            "value": 1,
            "_view_count": null,
            "_view_module_version": "1.5.0",
            "orientation": "horizontal",
            "min": 0,
            "description_tooltip": null,
            "_model_module": "@jupyter-widgets/controls",
            "layout": "IPY_MODEL_1a61f9864e4c42f880c8dcd7938dcb5d"
          }
        },
        "d52d8bf7ff1249cd8d9cc1113232b5e5": {
          "model_module": "@jupyter-widgets/controls",
          "model_name": "HTMLModel",
          "state": {
            "_view_name": "HTMLView",
            "style": "IPY_MODEL_25f40ee23a804a558f80ffda017d60f7",
            "_dom_classes": [],
            "description": "",
            "_model_name": "HTMLModel",
            "placeholder": "​",
            "_view_module": "@jupyter-widgets/controls",
            "_model_module_version": "1.5.0",
            "value": " 27000/0 [00:11&lt;00:00, 2482.75 examples/s]",
            "_view_count": null,
            "_view_module_version": "1.5.0",
            "description_tooltip": null,
            "_model_module": "@jupyter-widgets/controls",
            "layout": "IPY_MODEL_155b11177a564d3f93a8281d20e32e83"
          }
        },
        "43d287a9265f4fe3ae22560544065b4a": {
          "model_module": "@jupyter-widgets/controls",
          "model_name": "ProgressStyleModel",
          "state": {
            "_view_name": "StyleView",
            "_model_name": "ProgressStyleModel",
            "description_width": "initial",
            "_view_module": "@jupyter-widgets/base",
            "_model_module_version": "1.5.0",
            "_view_count": null,
            "_view_module_version": "1.2.0",
            "bar_color": null,
            "_model_module": "@jupyter-widgets/controls"
          }
        },
        "1a61f9864e4c42f880c8dcd7938dcb5d": {
          "model_module": "@jupyter-widgets/base",
          "model_name": "LayoutModel",
          "state": {
            "_view_name": "LayoutView",
            "grid_template_rows": null,
            "right": null,
            "justify_content": null,
            "_view_module": "@jupyter-widgets/base",
            "overflow": null,
            "_model_module_version": "1.2.0",
            "_view_count": null,
            "flex_flow": null,
            "width": null,
            "min_width": null,
            "border": null,
            "align_items": null,
            "bottom": null,
            "_model_module": "@jupyter-widgets/base",
            "top": null,
            "grid_column": null,
            "overflow_y": null,
            "overflow_x": null,
            "grid_auto_flow": null,
            "grid_area": null,
            "grid_template_columns": null,
            "flex": null,
            "_model_name": "LayoutModel",
            "justify_items": null,
            "grid_row": null,
            "max_height": null,
            "align_content": null,
            "visibility": null,
            "align_self": null,
            "height": null,
            "min_height": null,
            "padding": null,
            "grid_auto_rows": null,
            "grid_gap": null,
            "max_width": null,
            "order": null,
            "_view_module_version": "1.2.0",
            "grid_template_areas": null,
            "object_position": null,
            "object_fit": null,
            "grid_auto_columns": null,
            "margin": null,
            "display": null,
            "left": null
          }
        },
        "25f40ee23a804a558f80ffda017d60f7": {
          "model_module": "@jupyter-widgets/controls",
          "model_name": "DescriptionStyleModel",
          "state": {
            "_view_name": "StyleView",
            "_model_name": "DescriptionStyleModel",
            "description_width": "",
            "_view_module": "@jupyter-widgets/base",
            "_model_module_version": "1.5.0",
            "_view_count": null,
            "_view_module_version": "1.2.0",
            "_model_module": "@jupyter-widgets/controls"
          }
        },
        "155b11177a564d3f93a8281d20e32e83": {
          "model_module": "@jupyter-widgets/base",
          "model_name": "LayoutModel",
          "state": {
            "_view_name": "LayoutView",
            "grid_template_rows": null,
            "right": null,
            "justify_content": null,
            "_view_module": "@jupyter-widgets/base",
            "overflow": null,
            "_model_module_version": "1.2.0",
            "_view_count": null,
            "flex_flow": null,
            "width": null,
            "min_width": null,
            "border": null,
            "align_items": null,
            "bottom": null,
            "_model_module": "@jupyter-widgets/base",
            "top": null,
            "grid_column": null,
            "overflow_y": null,
            "overflow_x": null,
            "grid_auto_flow": null,
            "grid_area": null,
            "grid_template_columns": null,
            "flex": null,
            "_model_name": "LayoutModel",
            "justify_items": null,
            "grid_row": null,
            "max_height": null,
            "align_content": null,
            "visibility": null,
            "align_self": null,
            "height": null,
            "min_height": null,
            "padding": null,
            "grid_auto_rows": null,
            "grid_gap": null,
            "max_width": null,
            "order": null,
            "_view_module_version": "1.2.0",
            "grid_template_areas": null,
            "object_position": null,
            "object_fit": null,
            "grid_auto_columns": null,
            "margin": null,
            "display": null,
            "left": null
          }
        },
        "fe3675b1cced421e8bf3e306464c7ff7": {
          "model_module": "@jupyter-widgets/controls",
          "model_name": "HBoxModel",
          "state": {
            "_view_name": "HBoxView",
            "_dom_classes": [],
            "_model_name": "HBoxModel",
            "_view_module": "@jupyter-widgets/controls",
            "_model_module_version": "1.5.0",
            "_view_count": null,
            "_view_module_version": "1.5.0",
            "box_style": "",
            "layout": "IPY_MODEL_f11af61a58c14e3097b7818f9d4c6e85",
            "_model_module": "@jupyter-widgets/controls",
            "children": [
              "IPY_MODEL_52f28314b7944c71997a9d32431680d4",
              "IPY_MODEL_858a9c85dc3b4fdbacafe2b41f574789"
            ]
          }
        },
        "f11af61a58c14e3097b7818f9d4c6e85": {
          "model_module": "@jupyter-widgets/base",
          "model_name": "LayoutModel",
          "state": {
            "_view_name": "LayoutView",
            "grid_template_rows": null,
            "right": null,
            "justify_content": null,
            "_view_module": "@jupyter-widgets/base",
            "overflow": null,
            "_model_module_version": "1.2.0",
            "_view_count": null,
            "flex_flow": null,
            "width": null,
            "min_width": null,
            "border": null,
            "align_items": null,
            "bottom": null,
            "_model_module": "@jupyter-widgets/base",
            "top": null,
            "grid_column": null,
            "overflow_y": null,
            "overflow_x": null,
            "grid_auto_flow": null,
            "grid_area": null,
            "grid_template_columns": null,
            "flex": null,
            "_model_name": "LayoutModel",
            "justify_items": null,
            "grid_row": null,
            "max_height": null,
            "align_content": null,
            "visibility": null,
            "align_self": null,
            "height": null,
            "min_height": null,
            "padding": null,
            "grid_auto_rows": null,
            "grid_gap": null,
            "max_width": null,
            "order": null,
            "_view_module_version": "1.2.0",
            "grid_template_areas": null,
            "object_position": null,
            "object_fit": null,
            "grid_auto_columns": null,
            "margin": null,
            "display": null,
            "left": null
          }
        },
        "52f28314b7944c71997a9d32431680d4": {
          "model_module": "@jupyter-widgets/controls",
          "model_name": "FloatProgressModel",
          "state": {
            "_view_name": "ProgressView",
            "style": "IPY_MODEL_c88daa25b10a41e2a35748b3face63f4",
            "_dom_classes": [],
            "description": " 83%",
            "_model_name": "FloatProgressModel",
            "bar_style": "danger",
            "max": 27000,
            "_view_module": "@jupyter-widgets/controls",
            "_model_module_version": "1.5.0",
            "value": 22450,
            "_view_count": null,
            "_view_module_version": "1.5.0",
            "orientation": "horizontal",
            "min": 0,
            "description_tooltip": null,
            "_model_module": "@jupyter-widgets/controls",
            "layout": "IPY_MODEL_08617749c49b46c2b5c9f602ca7233c4"
          }
        },
        "858a9c85dc3b4fdbacafe2b41f574789": {
          "model_module": "@jupyter-widgets/controls",
          "model_name": "HTMLModel",
          "state": {
            "_view_name": "HTMLView",
            "style": "IPY_MODEL_6d2fd642f7264069b8bf961f24a28f4c",
            "_dom_classes": [],
            "description": "",
            "_model_name": "HTMLModel",
            "placeholder": "​",
            "_view_module": "@jupyter-widgets/controls",
            "_model_module_version": "1.5.0",
            "value": " 22450/27000 [00:08&lt;00:00, 55696.32 examples/s]",
            "_view_count": null,
            "_view_module_version": "1.5.0",
            "description_tooltip": null,
            "_model_module": "@jupyter-widgets/controls",
            "layout": "IPY_MODEL_51cc21620e0f47ca888bc0c080e73ffa"
          }
        },
        "c88daa25b10a41e2a35748b3face63f4": {
          "model_module": "@jupyter-widgets/controls",
          "model_name": "ProgressStyleModel",
          "state": {
            "_view_name": "StyleView",
            "_model_name": "ProgressStyleModel",
            "description_width": "initial",
            "_view_module": "@jupyter-widgets/base",
            "_model_module_version": "1.5.0",
            "_view_count": null,
            "_view_module_version": "1.2.0",
            "bar_color": null,
            "_model_module": "@jupyter-widgets/controls"
          }
        },
        "08617749c49b46c2b5c9f602ca7233c4": {
          "model_module": "@jupyter-widgets/base",
          "model_name": "LayoutModel",
          "state": {
            "_view_name": "LayoutView",
            "grid_template_rows": null,
            "right": null,
            "justify_content": null,
            "_view_module": "@jupyter-widgets/base",
            "overflow": null,
            "_model_module_version": "1.2.0",
            "_view_count": null,
            "flex_flow": null,
            "width": null,
            "min_width": null,
            "border": null,
            "align_items": null,
            "bottom": null,
            "_model_module": "@jupyter-widgets/base",
            "top": null,
            "grid_column": null,
            "overflow_y": null,
            "overflow_x": null,
            "grid_auto_flow": null,
            "grid_area": null,
            "grid_template_columns": null,
            "flex": null,
            "_model_name": "LayoutModel",
            "justify_items": null,
            "grid_row": null,
            "max_height": null,
            "align_content": null,
            "visibility": null,
            "align_self": null,
            "height": null,
            "min_height": null,
            "padding": null,
            "grid_auto_rows": null,
            "grid_gap": null,
            "max_width": null,
            "order": null,
            "_view_module_version": "1.2.0",
            "grid_template_areas": null,
            "object_position": null,
            "object_fit": null,
            "grid_auto_columns": null,
            "margin": null,
            "display": null,
            "left": null
          }
        },
        "6d2fd642f7264069b8bf961f24a28f4c": {
          "model_module": "@jupyter-widgets/controls",
          "model_name": "DescriptionStyleModel",
          "state": {
            "_view_name": "StyleView",
            "_model_name": "DescriptionStyleModel",
            "description_width": "",
            "_view_module": "@jupyter-widgets/base",
            "_model_module_version": "1.5.0",
            "_view_count": null,
            "_view_module_version": "1.2.0",
            "_model_module": "@jupyter-widgets/controls"
          }
        },
        "51cc21620e0f47ca888bc0c080e73ffa": {
          "model_module": "@jupyter-widgets/base",
          "model_name": "LayoutModel",
          "state": {
            "_view_name": "LayoutView",
            "grid_template_rows": null,
            "right": null,
            "justify_content": null,
            "_view_module": "@jupyter-widgets/base",
            "overflow": null,
            "_model_module_version": "1.2.0",
            "_view_count": null,
            "flex_flow": null,
            "width": null,
            "min_width": null,
            "border": null,
            "align_items": null,
            "bottom": null,
            "_model_module": "@jupyter-widgets/base",
            "top": null,
            "grid_column": null,
            "overflow_y": null,
            "overflow_x": null,
            "grid_auto_flow": null,
            "grid_area": null,
            "grid_template_columns": null,
            "flex": null,
            "_model_name": "LayoutModel",
            "justify_items": null,
            "grid_row": null,
            "max_height": null,
            "align_content": null,
            "visibility": null,
            "align_self": null,
            "height": null,
            "min_height": null,
            "padding": null,
            "grid_auto_rows": null,
            "grid_gap": null,
            "max_width": null,
            "order": null,
            "_view_module_version": "1.2.0",
            "grid_template_areas": null,
            "object_position": null,
            "object_fit": null,
            "grid_auto_columns": null,
            "margin": null,
            "display": null,
            "left": null
          }
        }
      }
    }
  },
  "cells": [
    {
      "cell_type": "markdown",
      "metadata": {
        "id": "view-in-github",
        "colab_type": "text"
      },
      "source": [
        "<a href=\"https://colab.research.google.com/github/plthiyagu/Personnel/blob/master/Satellite_Image_Processing.ipynb\" target=\"_parent\"><img src=\"https://colab.research.google.com/assets/colab-badge.svg\" alt=\"Open In Colab\"/></a>"
      ]
    },
    {
      "cell_type": "markdown",
      "metadata": {
        "colab_type": "text",
        "id": "rwIadju7G3cL"
      },
      "source": [
        "# Satellite Image Processing with Deep Learning\n",
        "## Dr. Tristan Behrens\n",
        "\n",
        "In this notebook we will:\n",
        "- Solve the EuroSAT-10 classification problem,\n",
        "- to that end use Convolutional Neural Networks,\n",
        "- decrease overfitting with dropout,\n",
        "- decrease overfitting even further with data augmentation, and\n",
        "- solve the problem with transfer learning.\n",
        "\n",
        "## Miscellaneous\n",
        "\n",
        "- Subscribe to my YouTube channel: https://www.youtube.com/channel/UCcMEBxcDM034JyJ8J3cggRg\n",
        "- Add me on LinkedIn: https://www.linkedin.com/in/dr-tristan-behrens-ai-guru-734967a2/\n"
      ]
    },
    {
      "cell_type": "markdown",
      "metadata": {
        "colab_type": "text",
        "id": "TQ16LaARG3cN"
      },
      "source": [
        "## Make sure that we have TensorFlow 2 enabled."
      ]
    },
    {
      "cell_type": "code",
      "metadata": {
        "colab_type": "code",
        "id": "cC1bLcDvG3cP",
        "colab": {}
      },
      "source": [
        "%tensorflow_version 2.x"
      ],
      "execution_count": 2,
      "outputs": []
    },
    {
      "cell_type": "markdown",
      "metadata": {
        "colab_type": "text",
        "id": "Px5ywWDNG3cd"
      },
      "source": [
        "## Import all necessary modules  and check TensorFlow version."
      ]
    },
    {
      "cell_type": "code",
      "metadata": {
        "colab_type": "code",
        "id": "Zh5KlVNrG3cg",
        "colab": {}
      },
      "source": [
        "import tensorflow as tf\n",
        "assert tf.__version__.startswith(\"2.\"), \"You have TensorFlow version {}, 2.X is required, please upgrade.\".format(tf.__version__)\n",
        "\n",
        "import tensorflow_datasets as tfds\n",
        "import numpy as np\n",
        "import matplotlib.pyplot as plt\n",
        "from tensorflow.keras import models, layers"
      ],
      "execution_count": 3,
      "outputs": []
    },
    {
      "cell_type": "markdown",
      "metadata": {
        "colab_type": "text",
        "id": "uY4tv0a4ah0J"
      },
      "source": [
        "## Set some parameters and prepare for training."
      ]
    },
    {
      "cell_type": "code",
      "metadata": {
        "colab_type": "code",
        "id": "0Aau8P5Gah-M",
        "colab": {}
      },
      "source": [
        "histories = {}\n",
        "epochs = 100\n",
        "batch_size = 1024"
      ],
      "execution_count": 4,
      "outputs": []
    },
    {
      "cell_type": "markdown",
      "metadata": {
        "colab_type": "text",
        "id": "4GExuqFsG3co"
      },
      "source": [
        "## Load and split EuroSAT-dataset.\n",
        "\n",
        "We split the data into three subsets:\n",
        "- Train: For training the Neural Network.\n",
        "- Validate: To see how good the Neural Network is after each epoch.\n",
        "- Test: To see how good the Neural Network is after training.\n",
        "\n",
        "Link: [EuroSAT](https://github.com/phelber/eurosat)."
      ]
    },
    {
      "cell_type": "code",
      "metadata": {
        "colab_type": "code",
        "id": "nYdibo15G3cp",
        "colab": {
          "base_uri": "https://localhost:8080/",
          "height": 964,
          "referenced_widgets": [
            "7093b98f4e414929a4625ea71687b299",
            "d7492186af524b9ba0d3b7c114d3dbac",
            "4d0c56e7b8d943fe99b0e824499a7886",
            "a1c959454d674c989ec0c37419f9d5c5",
            "bb75d014481045cd88dcfb34ffd19dbc",
            "2b8b574ab7ef45a7b689f2f71cbe4cde",
            "f4798b0b4c384a6cbf582d9d0999fdda",
            "f1ee847824e74c17b36b7eb79cffe4ee",
            "b425cec0ad324b3aa52897aec06da96c",
            "54beebf8c594489bb6ccb13e75f781dd",
            "4716cd49651843268f0d5ed45eac70ab",
            "dfd48bab4ecd4224a7ce98467ace819c",
            "8b0b21117cac496dba51d9363645e2ef",
            "6a86b4cc907b44ef92a7f0b7dffb85ba",
            "20f0107bbb5e422b8823881a9cd1b926",
            "d460b3f2e4554168aec2f7aedb99164d",
            "b2a74dcf37e344acb406c19d5e4d0d2a",
            "6d0f90bd94434e89980b5dd3ecbff87c",
            "2faefa1047a94cbd973743b8e4f7c141",
            "a744348c28cc46189f8b363202e5f27c",
            "3c81c77ee7084ca69cbc0055459e03c3",
            "1798685863d8465ab4d913fe1fa526bb",
            "4fce1dea258640648bee48b3cb9e626f",
            "932a3400e6664aa0bfb2895bb7956f20",
            "6d272958f5584bfaa484c93f713897c7",
            "264974ec4fdf41098ebc3ffe2a508152",
            "893a69faddc14c719dbcbb574588bcd5",
            "d52d8bf7ff1249cd8d9cc1113232b5e5",
            "43d287a9265f4fe3ae22560544065b4a",
            "1a61f9864e4c42f880c8dcd7938dcb5d",
            "25f40ee23a804a558f80ffda017d60f7",
            "155b11177a564d3f93a8281d20e32e83",
            "fe3675b1cced421e8bf3e306464c7ff7",
            "f11af61a58c14e3097b7818f9d4c6e85",
            "52f28314b7944c71997a9d32431680d4",
            "858a9c85dc3b4fdbacafe2b41f574789",
            "c88daa25b10a41e2a35748b3face63f4",
            "08617749c49b46c2b5c9f602ca7233c4",
            "6d2fd642f7264069b8bf961f24a28f4c",
            "51cc21620e0f47ca888bc0c080e73ffa"
          ]
        },
        "outputId": "6bcba7d9-440e-425f-c028-cacf5938eaf4"
      },
      "source": [
        "(dataset_train_original, dataset_validate_original, dataset_test_original), info = tfds.load(\n",
        "    name=\"eurosat/rgb\", \n",
        "    split=[\"train[:70%]\", \"train[70%:90%]\", \"train[90%:]\"],\n",
        "    with_info=True,\n",
        "    as_supervised=True\n",
        ")\n",
        "print(info)\n",
        "print(\"Train:   \", len(list(dataset_train_original)))\n",
        "print(\"Validate:\", len(list(dataset_validate_original)))\n",
        "print(\"Test:    \", len(list(dataset_test_original)))"
      ],
      "execution_count": 5,
      "outputs": [
        {
          "output_type": "stream",
          "text": [
            "\u001b[1mDownloading and preparing dataset eurosat/rgb/2.0.0 (download: 89.91 MiB, generated: Unknown size, total: 89.91 MiB) to /root/tensorflow_datasets/eurosat/rgb/2.0.0...\u001b[0m\n"
          ],
          "name": "stdout"
        },
        {
          "output_type": "display_data",
          "data": {
            "application/vnd.jupyter.widget-view+json": {
              "model_id": "7093b98f4e414929a4625ea71687b299",
              "version_minor": 0,
              "version_major": 2
            },
            "text/plain": [
              "HBox(children=(FloatProgress(value=1.0, bar_style='info', description='Dl Completed...', max=1.0, style=Progre…"
            ]
          },
          "metadata": {
            "tags": []
          }
        },
        {
          "output_type": "display_data",
          "data": {
            "application/vnd.jupyter.widget-view+json": {
              "model_id": "b425cec0ad324b3aa52897aec06da96c",
              "version_minor": 0,
              "version_major": 2
            },
            "text/plain": [
              "HBox(children=(FloatProgress(value=1.0, bar_style='info', description='Dl Size...', max=1.0, style=ProgressSty…"
            ]
          },
          "metadata": {
            "tags": []
          }
        },
        {
          "output_type": "display_data",
          "data": {
            "application/vnd.jupyter.widget-view+json": {
              "model_id": "b2a74dcf37e344acb406c19d5e4d0d2a",
              "version_minor": 0,
              "version_major": 2
            },
            "text/plain": [
              "HBox(children=(FloatProgress(value=1.0, bar_style='info', description='Extraction completed...', max=1.0, styl…"
            ]
          },
          "metadata": {
            "tags": []
          }
        },
        {
          "output_type": "stream",
          "text": [
            "\n",
            "\n",
            "\n",
            "\n",
            "\n",
            "\n"
          ],
          "name": "stdout"
        },
        {
          "output_type": "display_data",
          "data": {
            "application/vnd.jupyter.widget-view+json": {
              "model_id": "6d272958f5584bfaa484c93f713897c7",
              "version_minor": 0,
              "version_major": 2
            },
            "text/plain": [
              "HBox(children=(FloatProgress(value=1.0, bar_style='info', max=1.0), HTML(value='')))"
            ]
          },
          "metadata": {
            "tags": []
          }
        },
        {
          "output_type": "stream",
          "text": [
            "\rShuffling and writing examples to /root/tensorflow_datasets/eurosat/rgb/2.0.0.incomplete38DYXG/eurosat-train.tfrecord\n"
          ],
          "name": "stdout"
        },
        {
          "output_type": "display_data",
          "data": {
            "application/vnd.jupyter.widget-view+json": {
              "model_id": "fe3675b1cced421e8bf3e306464c7ff7",
              "version_minor": 0,
              "version_major": 2
            },
            "text/plain": [
              "HBox(children=(FloatProgress(value=0.0, max=27000.0), HTML(value='')))"
            ]
          },
          "metadata": {
            "tags": []
          }
        },
        {
          "output_type": "stream",
          "text": [
            "\u001b[1mDataset eurosat downloaded and prepared to /root/tensorflow_datasets/eurosat/rgb/2.0.0. Subsequent calls will reuse this data.\u001b[0m\n",
            "tfds.core.DatasetInfo(\n",
            "    name='eurosat',\n",
            "    version=2.0.0,\n",
            "    description='EuroSAT dataset is based on Sentinel-2 satellite images covering 13 spectral\n",
            "bands and consisting of 10 classes with 27000 labeled and\n",
            "geo-referenced samples.\n",
            "\n",
            "Two datasets are offered:\n",
            "- rgb: Contains only the optical R, G, B frequency bands encoded as JPEG image.\n",
            "- all: Contains all 13 bands in the original value range (float32).\n",
            "\n",
            "URL: https://github.com/phelber/eurosat\n",
            "',\n",
            "    homepage='https://github.com/phelber/eurosat',\n",
            "    features=FeaturesDict({\n",
            "        'filename': Text(shape=(), dtype=tf.string),\n",
            "        'image': Image(shape=(64, 64, 3), dtype=tf.uint8),\n",
            "        'label': ClassLabel(shape=(), dtype=tf.int64, num_classes=10),\n",
            "    }),\n",
            "    total_num_examples=27000,\n",
            "    splits={\n",
            "        'train': 27000,\n",
            "    },\n",
            "    supervised_keys=('image', 'label'),\n",
            "    citation=\"\"\"@misc{helber2017eurosat,\n",
            "        title={EuroSAT: A Novel Dataset and Deep Learning Benchmark for Land Use and Land Cover Classification},\n",
            "        author={Patrick Helber and Benjamin Bischke and Andreas Dengel and Damian Borth},\n",
            "        year={2017},\n",
            "        eprint={1709.00029},\n",
            "        archivePrefix={arXiv},\n",
            "        primaryClass={cs.CV}\n",
            "    }\"\"\",\n",
            "    redistribution_info=,\n",
            ")\n",
            "\n",
            "Train:    18900\n",
            "Validate: 5400\n",
            "Test:     2700\n"
          ],
          "name": "stdout"
        }
      ]
    },
    {
      "cell_type": "markdown",
      "metadata": {
        "colab_type": "text",
        "id": "vtZoUJNtG3cw"
      },
      "source": [
        "## Look at your data!\n",
        "\n",
        "As always: Never trust the source of your data. Even if you created it. Do not worry, this is not paranoia. It is just a good way how to ensure the quality of your project. Always look at your data, because most of the times if there is something not so nice, the data is the cause."
      ]
    },
    {
      "cell_type": "code",
      "metadata": {
        "colab_type": "code",
        "id": "iAwNcMGvNV6X",
        "colab": {}
      },
      "source": [
        "class_names = [\"annual crop\", \"forest\", \"herbaceous vegetation\", \"highway\", \"industrial\", \"pasture\", \"permanent crop\", \"residential\", \"river\", \"sea & lake\"]\n",
        "\n",
        "def label_to_string(label):\n",
        "  return class_names[label]"
      ],
      "execution_count": 6,
      "outputs": []
    },
    {
      "cell_type": "code",
      "metadata": {
        "colab_type": "code",
        "id": "LChp7pOjG3cy",
        "colab": {
          "base_uri": "https://localhost:8080/",
          "height": 173
        },
        "outputId": "9fd6e698-0778-420c-b1d4-82e989639b0c"
      },
      "source": [
        "index = 1\n",
        "plt.figure(figsize=(20, 2))\n",
        "for dataset_example in dataset_train_original.take(6):\n",
        "    image, label = dataset_example\n",
        "\n",
        "    plt.subplot(1, 6, index)\n",
        "    plt.imshow(image.numpy())\n",
        "    plt.title(\"Label: {} {}\".format(label.numpy(), label_to_string(label.numpy())))\n",
        "    index += 1\n",
        "plt.show()\n",
        "plt.close()"
      ],
      "execution_count": 7,
      "outputs": [
        {
          "output_type": "display_data",
          "data": {
            "image/png": "[encoded data removed]",
            "text/plain": [
              "<Figure size 1440x144 with 6 Axes>"
            ]
          },
          "metadata": {
            "tags": [],
            "needs_background": "light"
          }
        }
      ]
    },
    {
      "cell_type": "markdown",
      "metadata": {
        "colab_type": "text",
        "id": "8PNGuLhrG3c5"
      },
      "source": [
        "## Preparing the datasets with tf.data.\n",
        "\n",
        "We will make sure that all images are normalized and that all labes are one-hot-encoded.\n",
        "\n",
        "Link: [tf.data: Build TensorFlow input pipelines](https://www.tensorflow.org/guide/data)"
      ]
    },
    {
      "cell_type": "code",
      "metadata": {
        "colab_type": "code",
        "id": "-rjd0ZcDG3c7",
        "colab": {}
      },
      "source": [
        "def encode(image, label):\n",
        "    image_encoded = tf.image.convert_image_dtype(image, dtype=tf.float32)\n",
        "    label_encoded = tf.one_hot(label, depth=10)\n",
        "    return image_encoded, label_encoded\n",
        "\n",
        "dataset_train = dataset_train_original.map(lambda image, label: encode(image, label)).cache()\n",
        "dataset_validate = dataset_validate_original.map(lambda image, label: encode(image, label)).cache()\n",
        "dataset_test = dataset_test_original.map(lambda image, label: encode(image, label)).cache()"
      ],
      "execution_count": 8,
      "outputs": []
    },
    {
      "cell_type": "markdown",
      "metadata": {
        "colab_type": "text",
        "id": "D8GKidgGG3dD"
      },
      "source": [
        "## A second look at our data.\n",
        "\n",
        "This is how the data looks like that the Neural Network will be trained on."
      ]
    },
    {
      "cell_type": "code",
      "metadata": {
        "colab_type": "code",
        "id": "R9RPxyyIG3dG",
        "colab": {
          "base_uri": "https://localhost:8080/",
          "height": 188
        },
        "outputId": "d90fadc5-b0bc-4c5a-e33c-0a1988ece67c"
      },
      "source": [
        "index = 1\n",
        "plt.figure(figsize=(20, 2))\n",
        "for dataset_example in dataset_train.take(6):\n",
        "    image, label = dataset_example\n",
        "\n",
        "    plt.subplot(1, 6, index)\n",
        "    plt.imshow(image.numpy())\n",
        "    plt.title(\"Label:\\n {}\".format(label.numpy()))\n",
        "    index += 1\n",
        "plt.show()\n",
        "plt.close()"
      ],
      "execution_count": 9,
      "outputs": [
        {
          "output_type": "display_data",
          "data": {
            "image/png": "[encoded data removed]",
            "text/plain": [
              "<Figure size 1440x144 with 6 Axes>"
            ]
          },
          "metadata": {
            "tags": [],
            "needs_background": "light"
          }
        }
      ]
    },
    {
      "cell_type": "markdown",
      "metadata": {
        "colab_type": "text",
        "id": "LcvN5iQ2G3dL"
      },
      "source": [
        "## Create a Deep Neural Network to solve our classification problem - Convolutional Neural Network.\n"
      ]
    },
    {
      "cell_type": "code",
      "metadata": {
        "colab_type": "code",
        "id": "oiA62ErpG3dL",
        "colab": {
          "base_uri": "https://localhost:8080/",
          "height": 527
        },
        "outputId": "88658ed9-f73f-4d6b-f412-02eb4afa27f9"
      },
      "source": [
        "model = models.Sequential()\n",
        "\n",
        "# Convolutional block 1.\n",
        "model.add(layers.Conv2D(32, (3, 3), activation=\"relu\", padding=\"same\", input_shape=(64, 64, 3)))\n",
        "model.add(layers.Conv2D(32, (3, 3), activation=\"relu\", padding=\"same\"))\n",
        "model.add(layers.MaxPooling2D((2, 2)))\n",
        "\n",
        "# Convolutional block 2.\n",
        "model.add(layers.Conv2D(64, (3, 3), activation=\"relu\", padding=\"same\"))\n",
        "model.add(layers.Conv2D(64, (3, 3), activation=\"relu\", padding=\"same\"))\n",
        "model.add(layers.MaxPooling2D((2, 2)))\n",
        "\n",
        "# Convolutional block 3.\n",
        "model.add(layers.Conv2D(128, (3, 3), activation=\"relu\", padding=\"same\"))\n",
        "model.add(layers.Conv2D(128, (3, 3), activation=\"relu\", padding=\"same\"))\n",
        "\n",
        "# Latent space.\n",
        "model.add(layers.Flatten())\n",
        "\n",
        "# Classifier.\n",
        "model.add(layers.Dense(128, activation=\"relu\"))\n",
        "model.add(layers.Dense(10, activation=\"softmax\"))\n",
        "\n",
        "model.summary()"
      ],
      "execution_count": 11,
      "outputs": [
        {
          "output_type": "stream",
          "text": [
            "Model: \"sequential_1\"\n",
            "_________________________________________________________________\n",
            "Layer (type)                 Output Shape              Param #   \n",
            "=================================================================\n",
            "conv2d_6 (Conv2D)            (None, 64, 64, 32)        896       \n",
            "_________________________________________________________________\n",
            "conv2d_7 (Conv2D)            (None, 64, 64, 32)        9248      \n",
            "_________________________________________________________________\n",
            "max_pooling2d_2 (MaxPooling2 (None, 32, 32, 32)        0         \n",
            "_________________________________________________________________\n",
            "conv2d_8 (Conv2D)            (None, 32, 32, 64)        18496     \n",
            "_________________________________________________________________\n",
            "conv2d_9 (Conv2D)            (None, 32, 32, 64)        36928     \n",
            "_________________________________________________________________\n",
            "max_pooling2d_3 (MaxPooling2 (None, 16, 16, 64)        0         \n",
            "_________________________________________________________________\n",
            "conv2d_10 (Conv2D)           (None, 16, 16, 128)       73856     \n",
            "_________________________________________________________________\n",
            "conv2d_11 (Conv2D)           (None, 16, 16, 128)       147584    \n",
            "_________________________________________________________________\n",
            "flatten_1 (Flatten)          (None, 32768)             0         \n",
            "_________________________________________________________________\n",
            "dense_2 (Dense)              (None, 128)               4194432   \n",
            "_________________________________________________________________\n",
            "dense_3 (Dense)              (None, 10)                1290      \n",
            "=================================================================\n",
            "Total params: 4,482,730\n",
            "Trainable params: 4,482,730\n",
            "Non-trainable params: 0\n",
            "_________________________________________________________________\n"
          ],
          "name": "stdout"
        }
      ]
    },
    {
      "cell_type": "markdown",
      "metadata": {
        "colab_type": "text",
        "id": "_Igm2pw-G3dR"
      },
      "source": [
        "---\n",
        "\n",
        "The architecture exhibits three structures:\n",
        "\n",
        "1. The Convolutional blocks act as Feature Extractors.\n",
        "2. The Flatten layer facilitates a Latent Space.\n",
        "3. The Dense layers is the actual classifier."
      ]
    },
    {
      "cell_type": "markdown",
      "metadata": {
        "colab_type": "text",
        "id": "IKsmb4szG3dT"
      },
      "source": [
        "## Attach optimizer, loss, and metrics."
      ]
    },
    {
      "cell_type": "code",
      "metadata": {
        "colab_type": "code",
        "id": "cMUwx-wKG3dU",
        "colab": {}
      },
      "source": [
        "model.compile(\n",
        "    optimizer=\"adam\",\n",
        "    loss=\"categorical_crossentropy\",\n",
        "    metrics=[\"accuracy\"]\n",
        ")"
      ],
      "execution_count": null,
      "outputs": []
    },
    {
      "cell_type": "markdown",
      "metadata": {
        "colab_type": "text",
        "id": "OfjuGdxTG3dh"
      },
      "source": [
        "## How good is our ANN before training?"
      ]
    },
    {
      "cell_type": "code",
      "metadata": {
        "colab_type": "code",
        "id": "trqPkFSvG3di",
        "colab": {}
      },
      "source": [
        "loss, acc = model.evaluate(dataset_test.batch(32), verbose=0)\n",
        "print(\"Loss: {}\".format(loss))\n",
        "print(\"Accuracy: {}\".format(acc))"
      ],
      "execution_count": null,
      "outputs": []
    },
    {
      "cell_type": "markdown",
      "metadata": {
        "colab_type": "text",
        "id": "RaMMcUDRG3do"
      },
      "source": [
        "## ANN training."
      ]
    },
    {
      "cell_type": "code",
      "metadata": {
        "colab_type": "code",
        "id": "LruQUszWG3dp",
        "colab": {}
      },
      "source": [
        "history = model.fit(\n",
        "    dataset_train.shuffle(10000).batch(batch_size),\n",
        "    epochs=epochs,\n",
        "    validation_data=dataset_validate.batch(batch_size)\n",
        ")\n",
        "\n",
        "histories[\"Baseline\"] = history"
      ],
      "execution_count": null,
      "outputs": []
    },
    {
      "cell_type": "markdown",
      "metadata": {
        "colab_type": "text",
        "id": "Lrv3V0AWG3dt"
      },
      "source": [
        "## Inspect the history.\n",
        "\n"
      ]
    },
    {
      "cell_type": "code",
      "metadata": {
        "colab_type": "code",
        "id": "afcWFJZHG3dv",
        "colab": {}
      },
      "source": [
        "def plot_history(history):\n",
        "  plt.figure(figsize=(10, 4))\n",
        "\n",
        "  plt.subplot(1, 2, 1)\n",
        "  plt.plot(history.history[\"loss\"], label=\"loss\")\n",
        "  plt.plot(history.history[\"val_loss\"], label=\"val_loss\")\n",
        "  plt.legend()\n",
        "  plt.title(\"Losses\")\n",
        "\n",
        "  plt.subplot(1, 2, 2)\n",
        "  plt.plot(history.history[\"accuracy\"], label=\"accuracy\")\n",
        "  plt.plot(history.history[\"val_accuracy\"], label=\"val_accuracy\")\n",
        "  plt.legend()\n",
        "  plt.title(\"Metrics\")\n",
        "\n",
        "  plt.show()\n",
        "  plt.close()\n",
        "\n",
        "plot_history(history)"
      ],
      "execution_count": null,
      "outputs": []
    },
    {
      "cell_type": "markdown",
      "metadata": {
        "colab_type": "text",
        "id": "_Lpuei4adHE-"
      },
      "source": [
        "---\n",
        "\n",
        "Although the problem is solved, we have some severe overfitting."
      ]
    },
    {
      "cell_type": "markdown",
      "metadata": {
        "colab_type": "text",
        "id": "SsIYy321G3d0"
      },
      "source": [
        "## How good is our ANN after training?\n"
      ]
    },
    {
      "cell_type": "code",
      "metadata": {
        "colab_type": "code",
        "id": "v9tVgnvVG3d7",
        "colab": {}
      },
      "source": [
        "loss, acc = model.evaluate(dataset_test.batch(32), verbose=0)\n",
        "print(\"Loss: {}\".format(loss))\n",
        "print(\"Accuracy: {}\".format(acc))"
      ],
      "execution_count": null,
      "outputs": []
    },
    {
      "cell_type": "markdown",
      "metadata": {
        "colab_type": "text",
        "id": "yUdumMX202M6"
      },
      "source": [
        "## Reducing overfitting by adding dropout.\n",
        "\n",
        "Dropout enforces generalization by randomly dropping activations during training."
      ]
    },
    {
      "cell_type": "code",
      "metadata": {
        "colab_type": "code",
        "id": "t5DbZiOM6rPV",
        "colab": {}
      },
      "source": [
        "dataset_train = dataset_train_original.map(lambda image, label: encode(image, label)).cache()\n",
        "dataset_validate = dataset_validate_original.map(lambda image, label: encode(image, label)).cache()\n",
        "dataset_test = dataset_test_original.map(lambda image, label: encode(image, label)).cache()"
      ],
      "execution_count": null,
      "outputs": []
    },
    {
      "cell_type": "code",
      "metadata": {
        "colab_type": "code",
        "id": "EOe6oOOH6tb6",
        "colab": {}
      },
      "source": [
        "model = models.Sequential()\n",
        "\n",
        "model.add(layers.Conv2D(32, (3, 3), activation=\"relu\", padding=\"same\", input_shape=(64, 64, 3)))\n",
        "model.add(layers.Conv2D(32, (3, 3), activation=\"relu\", padding=\"same\"))\n",
        "model.add(layers.MaxPooling2D((2, 2)))\n",
        "model.add(layers.Dropout(0.2))\n",
        "\n",
        "model.add(layers.Conv2D(64, (3, 3), activation=\"relu\", padding=\"same\"))\n",
        "model.add(layers.Conv2D(64, (3, 3), activation=\"relu\", padding=\"same\"))\n",
        "model.add(layers.MaxPooling2D((2, 2)))\n",
        "model.add(layers.Dropout(0.3))\n",
        "\n",
        "model.add(layers.Conv2D(128, (3, 3), activation=\"relu\", padding=\"same\"))\n",
        "model.add(layers.Conv2D(128, (3, 3), activation=\"relu\", padding=\"same\"))\n",
        "model.add(layers.Dropout(0.4))\n",
        "\n",
        "model.add(layers.Flatten())\n",
        "\n",
        "model.add(layers.Dense(128, activation=\"relu\"))\n",
        "model.add(layers.Dropout(0.5))\n",
        "model.add(layers.Dense(10, activation=\"softmax\"))\n",
        "\n",
        "model.summary()"
      ],
      "execution_count": null,
      "outputs": []
    },
    {
      "cell_type": "code",
      "metadata": {
        "colab_type": "code",
        "id": "XrSpE4Vj6uvj",
        "colab": {}
      },
      "source": [
        "model.compile(\n",
        "    optimizer=\"adam\",\n",
        "    loss=\"categorical_crossentropy\",\n",
        "    metrics=[\"accuracy\"]\n",
        ")\n",
        "\n",
        "history = model.fit(\n",
        "    dataset_train.shuffle(10000).batch(batch_size),\n",
        "    epochs=epochs,\n",
        "    validation_data=dataset_validate.batch(batch_size)\n",
        ")\n",
        "\n",
        "histories[\"Dropout\"] = history\n",
        "\n",
        "plot_history(history)"
      ],
      "execution_count": null,
      "outputs": []
    },
    {
      "cell_type": "markdown",
      "metadata": {
        "colab_type": "text",
        "id": "cppWnp9SBgnE"
      },
      "source": [
        "## Reducing overfitting with Dropout and Data Augmentation.\n",
        "\n",
        "Data Augmentation is artificially extending the dataset by changing the original data randomly."
      ]
    },
    {
      "cell_type": "code",
      "metadata": {
        "colab_type": "code",
        "id": "nG5Agfnw6TUD",
        "colab": {}
      },
      "source": [
        "def augment(image, label):\n",
        "    image_augmented = image\n",
        "    image_augmented = tf.image.random_flip_left_right(image_augmented)\n",
        "    image_augmented = tf.image.random_flip_up_down(image_augmented)\n",
        "    image_augmented = tf.image.random_contrast(image_augmented, 0.5, 1.0)\n",
        "    image_augmented = tf.image.random_brightness(image_augmented, 0.25)\n",
        "    image_augmented = tf.image.random_hue(image_augmented, 0.2)\n",
        "    return image_augmented, label\n",
        "\n",
        "dataset_train = dataset_train_original.map(lambda image, label: encode(image, label)).cache()\n",
        "dataset_train = dataset_train.map(lambda image, label: augment(image, label))\n",
        "dataset_validate = dataset_validate_original.map(lambda image, label: encode(image, label)).cache()\n",
        "dataset_test = dataset_test_original.map(lambda image, label: encode(image, label)).cache()"
      ],
      "execution_count": null,
      "outputs": []
    },
    {
      "cell_type": "markdown",
      "metadata": {
        "colab_type": "text",
        "id": "EGLZ1k1ufhpx"
      },
      "source": [
        "--- \n",
        "\n",
        "Let us have a look at how the augmented data looks like."
      ]
    },
    {
      "cell_type": "code",
      "metadata": {
        "colab_type": "code",
        "id": "YUxJF-Fp8kPk",
        "colab": {}
      },
      "source": [
        "plt.figure(figsize=(20, 2))\n",
        "index = 1\n",
        "\n",
        "dataset_example = list(dataset_train_original.take(1))[0]\n",
        "image, label = dataset_example\n",
        "plt.subplot(1, 6, index)\n",
        "plt.imshow(image.numpy())\n",
        "plt.title(\"Original\")\n",
        "index += 1\n",
        "\n",
        "for _ in range(6):\n",
        "    dataset_example = list(dataset_train.take(1))[0]\n",
        "    image, label = dataset_example\n",
        "    plt.subplot(1, 7, index)\n",
        "    plt.imshow(image.numpy())\n",
        "    plt.title(\"Augmented\")\n",
        "    index += 1\n",
        "\n",
        "plt.show()\n",
        "plt.close()"
      ],
      "execution_count": null,
      "outputs": []
    },
    {
      "cell_type": "code",
      "metadata": {
        "colab_type": "code",
        "id": "fTHVeq90-0ek",
        "colab": {}
      },
      "source": [
        "model = models.Sequential()\n",
        "\n",
        "model.add(layers.Conv2D(32, (3, 3), activation=\"relu\", padding=\"same\", input_shape=(64, 64, 3)))\n",
        "model.add(layers.Conv2D(32, (3, 3), activation=\"relu\", padding=\"same\"))\n",
        "model.add(layers.MaxPooling2D((2, 2)))\n",
        "model.add(layers.Dropout(0.2))\n",
        "\n",
        "model.add(layers.Conv2D(64, (3, 3), activation=\"relu\", padding=\"same\"))\n",
        "model.add(layers.Conv2D(64, (3, 3), activation=\"relu\", padding=\"same\"))\n",
        "model.add(layers.MaxPooling2D((2, 2)))\n",
        "model.add(layers.Dropout(0.3))\n",
        "\n",
        "model.add(layers.Conv2D(128, (3, 3), activation=\"relu\", padding=\"same\"))\n",
        "model.add(layers.Conv2D(128, (3, 3), activation=\"relu\", padding=\"same\"))\n",
        "model.add(layers.Dropout(0.4))\n",
        "\n",
        "model.add(layers.Flatten())\n",
        "\n",
        "model.add(layers.Dense(128, activation=\"relu\"))\n",
        "model.add(layers.Dropout(0.5))\n",
        "model.add(layers.Dense(10, activation=\"softmax\"))\n",
        "\n",
        "model.summary()"
      ],
      "execution_count": null,
      "outputs": []
    },
    {
      "cell_type": "code",
      "metadata": {
        "colab_type": "code",
        "id": "3QeYmHKP-9Os",
        "colab": {}
      },
      "source": [
        "model.compile(\n",
        "    optimizer=\"adam\",\n",
        "    loss=\"categorical_crossentropy\",\n",
        "    metrics=[\"accuracy\"]\n",
        ")\n",
        "\n",
        "history = model.fit(\n",
        "    dataset_train.shuffle(10000).batch(batch_size),\n",
        "    epochs=epochs,\n",
        "    validation_data=dataset_validate.batch(batch_size)\n",
        ")\n",
        "\n",
        "histories[\"Dropout-Augmentation\"] = history\n",
        "\n",
        "plot_history(history)"
      ],
      "execution_count": null,
      "outputs": []
    },
    {
      "cell_type": "markdown",
      "metadata": {
        "id": "AxvueT1OVdwP",
        "colab_type": "text"
      },
      "source": [
        "## Transfer Learning."
      ]
    },
    {
      "cell_type": "code",
      "metadata": {
        "id": "A_vbxwDErZZW",
        "colab_type": "code",
        "colab": {}
      },
      "source": [
        "dataset_train = dataset_train_original.map(lambda image, label: encode(image, label)).cache()\n",
        "dataset_train = dataset_train.map(lambda image, label: augment(image, label))\n",
        "dataset_validate = dataset_validate_original.map(lambda image, label: encode(image, label)).cache()\n",
        "dataset_test = dataset_test_original.map(lambda image, label: encode(image, label)).cache()"
      ],
      "execution_count": null,
      "outputs": []
    },
    {
      "cell_type": "code",
      "metadata": {
        "id": "2mXXu-TLRpqO",
        "colab_type": "code",
        "colab": {}
      },
      "source": [
        "from tensorflow.keras import applications\n",
        "\n",
        "pretrained_model = applications.VGG19(\n",
        "    weights=\"imagenet\", \n",
        "    include_top=False, \n",
        "    input_shape=(64, 64, 3)\n",
        ")\n",
        "\n",
        "#for layer in pretrained_model.layers[:-5]:\n",
        "#  layer.trainable = False\n",
        "\n",
        "pretrained_model.summary()\n",
        "\n",
        "pretrained_model.trainable = False\n",
        "\n",
        "model = models.Sequential()\n",
        "\n",
        "model.add(pretrained_model)\n",
        "\n",
        "model.add(layers.Flatten())\n",
        "\n",
        "model.add(layers.Dropout(0.25))\n",
        "model.add(layers.Dense(1024, activation=\"relu\"))\n",
        "model.add(layers.Dropout(0.5))\n",
        "model.add(layers.Dense(10, activation=\"softmax\"))\n",
        "\n",
        "model.summary()"
      ],
      "execution_count": null,
      "outputs": []
    },
    {
      "cell_type": "code",
      "metadata": {
        "id": "oTR4IAzaSj_2",
        "colab_type": "code",
        "colab": {}
      },
      "source": [
        "model.compile(\n",
        "    optimizer=\"adam\",\n",
        "    loss=\"categorical_crossentropy\",\n",
        "    metrics=[\"accuracy\"]\n",
        ")\n",
        "\n",
        "history = model.fit(\n",
        "    dataset_train.shuffle(10000).batch(batch_size),\n",
        "    epochs=epochs,\n",
        "    validation_data=dataset_validate.batch(batch_size)\n",
        ")\n",
        "\n",
        "histories[\"TransferLearning-Dropout-Augmentation\"] = history\n",
        "\n",
        "plot_history(history)"
      ],
      "execution_count": null,
      "outputs": []
    },
    {
      "cell_type": "markdown",
      "metadata": {
        "colab_type": "text",
        "id": "bSzqQ3ZoE3OT"
      },
      "source": [
        "## Compare results."
      ]
    },
    {
      "cell_type": "code",
      "metadata": {
        "colab_type": "code",
        "id": "tD0NrfLEE3Ya",
        "colab": {}
      },
      "source": [
        "plt.figure(figsize=(10, 4))\n",
        "  \n",
        "plt.subplot(1, 2, 1)\n",
        "for title, history in histories.items():\n",
        "  plt.plot(history.history[\"val_loss\"], label=title)\n",
        "plt.legend()\n",
        "plt.title(\"Validation Loss\")\n",
        "\n",
        "plt.subplot(1, 2, 2)\n",
        "for title, history in histories.items():\n",
        "  plt.plot(history.history[\"val_accuracy\"], label=title)\n",
        "plt.legend()\n",
        "plt.title(\"Validation Accuracy\")\n",
        "\n",
        "plt.show()\n",
        "plt.close()"
      ],
      "execution_count": null,
      "outputs": []
    },
    {
      "cell_type": "markdown",
      "metadata": {
        "colab_type": "text",
        "id": "5gyY4qHYG3eI"
      },
      "source": [
        "# Summary.\n",
        "\n",
        "For solving image processing problems, Convolutional Neural Networks are state of the art. There are several architecures available. We focused on interleaving Convolutional layers with Pooling layers.\n",
        "\n",
        "As with all other use cases, overfitting can be a problem. We looked at Dropout and Data Augmentation for compensating overfitting."
      ]
    },
    {
      "cell_type": "code",
      "metadata": {
        "colab_type": "code",
        "id": "cuFIoxyfhSVR",
        "colab": {}
      },
      "source": [
        ""
      ],
      "execution_count": null,
      "outputs": []
    }
  ]
}