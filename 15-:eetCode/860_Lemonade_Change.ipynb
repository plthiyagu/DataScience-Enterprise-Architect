{
  "nbformat": 4,
  "nbformat_minor": 0,
  "metadata": {
    "colab": {
      "provenance": [],
      "authorship_tag": "ABX9TyOJurondEbSICZMzNxkDOPj",
      "include_colab_link": true
    },
    "kernelspec": {
      "name": "python3",
      "display_name": "Python 3"
    },
    "language_info": {
      "name": "python"
    }
  },
  "cells": [
    {
      "cell_type": "markdown",
      "metadata": {
        "id": "view-in-github",
        "colab_type": "text"
      },
      "source": [
        "<a href=\"https://colab.research.google.com/github/plthiyagu/AI-Engineering/blob/master/15-%3AeetCode/860_Lemonade_Change.ipynb\" target=\"_parent\"><img src=\"https://colab.research.google.com/assets/colab-badge.svg\" alt=\"Open In Colab\"/></a>"
      ]
    },
    {
      "cell_type": "code",
      "execution_count": 1,
      "metadata": {
        "id": "yku2Qx4w5jAj"
      },
      "outputs": [],
      "source": [
        "class Solution(object): #aw\n",
        "    def lemonadeChange(self, bills):\n",
        "      five=ten =0\n",
        "      for bill in bills:\n",
        "        if bill == 5:\n",
        "          five +=1\n",
        "        elif bill ==10:\n",
        "          if not five: return False\n",
        "          five -= 1\n",
        "          ten +=1\n",
        "        else:\n",
        "          if ten and five:\n",
        "            ten -= 1\n",
        "            five -= 1\n",
        "          elif  five >= 3:\n",
        "            five -= 3\n",
        "          else:\n",
        "            return False\n",
        "        return True\n"
      ]
    },
    {
      "cell_type": "code",
      "source": [
        "sol = Solution()\n",
        "bills = [5,5,5,10,20]\n",
        "sol.lemonadeChange(bills)"
      ],
      "metadata": {
        "colab": {
          "base_uri": "https://localhost:8080/"
        },
        "id": "FvUW__Pz6UOc",
        "outputId": "00ce68e7-a093-4cbb-b26e-5ac786b5853f"
      },
      "execution_count": 2,
      "outputs": [
        {
          "output_type": "execute_result",
          "data": {
            "text/plain": [
              "True"
            ]
          },
          "metadata": {},
          "execution_count": 2
        }
      ]
    },
    {
      "cell_type": "code",
      "source": [],
      "metadata": {
        "id": "tKGFqrH26hTd"
      },
      "execution_count": null,
      "outputs": []
    }
  ]
}