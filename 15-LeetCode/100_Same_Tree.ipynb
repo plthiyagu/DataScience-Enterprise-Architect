{
  "nbformat": 4,
  "nbformat_minor": 0,
  "metadata": {
    "colab": {
      "provenance": [],
      "authorship_tag": "ABX9TyN04+GsjR5e/eTGYcWWqNAs",
      "include_colab_link": true
    },
    "kernelspec": {
      "name": "python3",
      "display_name": "Python 3"
    },
    "language_info": {
      "name": "python"
    }
  },
  "cells": [
    {
      "cell_type": "markdown",
      "metadata": {
        "id": "view-in-github",
        "colab_type": "text"
      },
      "source": [
        "<a href=\"https://colab.research.google.com/github/plthiyagu/AI-Engineering/blob/master/15-LeetCode/100_Same_Tree.ipynb\" target=\"_parent\"><img src=\"https://colab.research.google.com/assets/colab-badge.svg\" alt=\"Open In Colab\"/></a>"
      ]
    },
    {
      "cell_type": "code",
      "execution_count": 1,
      "metadata": {
        "id": "XiEEZe_8iJUk"
      },
      "outputs": [],
      "source": [
        "# Definition for a binary tree node.\n",
        "from typing import Optional\n",
        "import collections\n",
        "class TreeNode:\n",
        "    def __init__(self, val=0, left=None, right=None):\n",
        "        self.val = val\n",
        "        self.left = left\n",
        "        self.right = right\n",
        "class Solution:\n",
        "    def isSameTree(self, p: Optional[TreeNode], q: Optional[TreeNode]) -> bool:\n",
        "        \n",
        "        \n",
        "        def check(p,q):\n",
        "            if not p and not q:\n",
        "                return True\n",
        "            if not q or not p:\n",
        "                return False\n",
        "            if p.val != q.val:\n",
        "                return False\n",
        "            return True\n",
        "        \n",
        "        deq = collections.deque([(p,q),])\n",
        "        \n",
        "        while deq:\n",
        "            p,q = deq.popleft()\n",
        "            if not check(p,q):\n",
        "                return False\n",
        "            if p:\n",
        "                deq.append(p.left,q.left)\n",
        "                deq.append(p.right,q.right)\n",
        "        return True\n",
        "        "
      ]
    },
    {
      "cell_type": "code",
      "source": [
        "# Complexity Analysis\n",
        "\n",
        "# Time complexity : O(N)O(N) since each node is visited exactly once.\n",
        "\n",
        "# Space complexity : O(N)O(N) in the worst case, where the tree is a perfect fully balanced binary tree, since BFS will have to store at least an entire level of the tree in the queue, and the last level has O(N)O(N) nodes."
      ],
      "metadata": {
        "id": "YdfyHLJFiPEA"
      },
      "execution_count": null,
      "outputs": []
    },
    {
      "cell_type": "code",
      "source": [
        "# Definition for a binary tree node.\n",
        "from typing import Optional\n",
        "class TreeNode:\n",
        "    def __init__(self, val=0, left=None, right=None):\n",
        "        self.val = val\n",
        "        self.left = left\n",
        "        self.right = right\n",
        "class Solution:\n",
        "    def isSameTree(self, p: Optional[TreeNode], q: Optional[TreeNode]) -> bool:\n",
        "\n",
        "      if not p and not q:\n",
        "        return True\n",
        "      if not q or not q:\n",
        "        return False\n",
        "      if p.val != q.val:\n",
        "        return False\n",
        "      return True \n",
        "      return self.isSameTree(p.right, q.right) and \\\n",
        "               self.isSameTree(p.left, q.left) \n",
        "        \n",
        "        "
      ],
      "metadata": {
        "id": "XhipKfhCiUKQ"
      },
      "execution_count": 2,
      "outputs": []
    }
  ]
}