{
  "nbformat": 4,
  "nbformat_minor": 0,
  "metadata": {
    "colab": {
      "provenance": [],
      "authorship_tag": "ABX9TyNkWdJRIw48NIKsedRdvvc1",
      "include_colab_link": true
    },
    "kernelspec": {
      "name": "python3",
      "display_name": "Python 3"
    },
    "language_info": {
      "name": "python"
    }
  },
  "cells": [
    {
      "cell_type": "markdown",
      "metadata": {
        "id": "view-in-github",
        "colab_type": "text"
      },
      "source": [
        "<a href=\"https://colab.research.google.com/github/plthiyagu/AI-Engineering/blob/master/15-LeetCode/102_Binary_Tree_Level_Order_Traversal.ipynb\" target=\"_parent\"><img src=\"https://colab.research.google.com/assets/colab-badge.svg\" alt=\"Open In Colab\"/></a>"
      ]
    },
    {
      "cell_type": "code",
      "execution_count": 2,
      "metadata": {
        "id": "q4AS78aK7Ct-"
      },
      "outputs": [],
      "source": [
        "# Definition for a binary tree node.\n",
        "from typing import Optional,List\n",
        "class TreeNode:\n",
        "    def __init__(self, val=0, left=None, right=None):\n",
        "        self.val = val\n",
        "        self.left = left\n",
        "        self.right = right\n",
        "class Solution:\n",
        "    def levelOrder(self, root: Optional[TreeNode]) -> List[List[int]]:\n",
        "        levels = []\n",
        "        \n",
        "        if not root:\n",
        "            return levels\n",
        "        def helper(node,level):\n",
        "            if len(levels) ==level:\n",
        "                levels.append([])\n",
        "            levels[level].append(node.val)\n",
        "            \n",
        "            if node.left:\n",
        "                helper(node.left,level +1)\n",
        "            if node.right :\n",
        "                helper(node.right,level +1)\n",
        "        helper(root,0)\n",
        "        return levels\n",
        "        "
      ]
    },
    {
      "cell_type": "code",
      "source": [
        "# Definition for a binary tree node.\n",
        "# class TreeNode:\n",
        "#     def __init__(self, val=0, left=None, right=None):\n",
        "#         self.val = val\n",
        "#         self.left = left\n",
        "#         self.right = right\n",
        "class Solution:\n",
        "    def levelOrder(self, root: Optional[TreeNode]) -> List[List[int]]:\n",
        "        levels = []\n",
        "        if not root:\n",
        "            return levels\n",
        "        level =0\n",
        "        \n",
        "        queue = deque ([root,])\n",
        "        while queue:\n",
        "            levels.append([])\n",
        "            level_length = len(queue)\n",
        "            \n",
        "            for i in range(level_length):\n",
        "                node = queue.popleft()\n",
        "                levels[level].append(node.val)\n",
        "                \n",
        "                if node.left:\n",
        "                    queue.append(node.left)\n",
        "                if node.right:\n",
        "                    queue.append(node.right)\n",
        "            level +=1\n",
        "        return levels\n",
        "            "
      ],
      "metadata": {
        "id": "TKWLmvDM7Hfl"
      },
      "execution_count": null,
      "outputs": []
    },
    {
      "cell_type": "code",
      "source": [
        "Complexity Analysis\n",
        "\n",
        "Time complexity : \\mathcal{O}(N)O(N) since each node is processed exactly once.\n",
        "\n",
        "Space complexity : \\mathcal{O}(N)O(N) to keep the output structure which contains N node values."
      ],
      "metadata": {
        "id": "NMevcD4X_tNz"
      },
      "execution_count": null,
      "outputs": []
    }
  ]
}