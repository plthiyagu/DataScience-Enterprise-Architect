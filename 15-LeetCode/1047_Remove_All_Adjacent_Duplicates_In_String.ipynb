{
  "nbformat": 4,
  "nbformat_minor": 0,
  "metadata": {
    "colab": {
      "provenance": [],
      "authorship_tag": "ABX9TyMx5lC0gUW2W6TwYFKXF8ms",
      "include_colab_link": true
    },
    "kernelspec": {
      "name": "python3",
      "display_name": "Python 3"
    },
    "language_info": {
      "name": "python"
    }
  },
  "cells": [
    {
      "cell_type": "markdown",
      "metadata": {
        "id": "view-in-github",
        "colab_type": "text"
      },
      "source": [
        "<a href=\"https://colab.research.google.com/github/plthiyagu/AI-Engineering/blob/master/15-LeetCode/1047_Remove_All_Adjacent_Duplicates_In_String.ipynb\" target=\"_parent\"><img src=\"https://colab.research.google.com/assets/colab-badge.svg\" alt=\"Open In Colab\"/></a>"
      ]
    },
    {
      "cell_type": "code",
      "execution_count": 1,
      "metadata": {
        "id": "9tJ1RH4zpJhA"
      },
      "outputs": [],
      "source": [
        "class Solution:\n",
        "    def removeDuplicates(self, s: str) -> str:\n",
        "      output =[]\n",
        "      for ch in s:\n",
        "        if output and ch == output[-1]:\n",
        "          output.pop()\n",
        "        else:\n",
        "          output.append(ch)\n",
        "      return \"\".join(output)\n",
        "      "
      ]
    },
    {
      "cell_type": "code",
      "source": [
        "sol = Solution()\n",
        "s=\"abbaca\"\n",
        "sol.removeDuplicates(s)"
      ],
      "metadata": {
        "colab": {
          "base_uri": "https://localhost:8080/",
          "height": 35
        },
        "id": "9g7wHH3LjWGg",
        "outputId": "4f640dbb-2d64-4d3a-c98b-3f20e7792773"
      },
      "execution_count": 2,
      "outputs": [
        {
          "output_type": "execute_result",
          "data": {
            "text/plain": [
              "'ca'"
            ],
            "application/vnd.google.colaboratory.intrinsic+json": {
              "type": "string"
            }
          },
          "metadata": {},
          "execution_count": 2
        }
      ]
    },
    {
      "cell_type": "code",
      "source": [
        "# Time complexity : \\mathcal{O}(N)O(N), where N is a string length.\n",
        "# Space complexity : \\mathcal{O}(N - D)O(N−D) where D is a total length for all duplicates."
      ],
      "metadata": {
        "id": "auGnLGvrjcOj"
      },
      "execution_count": null,
      "outputs": []
    },
    {
      "cell_type": "code",
      "source": [],
      "metadata": {
        "id": "lf7ltM38pWlL"
      },
      "execution_count": null,
      "outputs": []
    },
    {
      "cell_type": "code",
      "source": [],
      "metadata": {
        "id": "gpSnL1sspWpt"
      },
      "execution_count": null,
      "outputs": []
    },
    {
      "cell_type": "code",
      "source": [],
      "metadata": {
        "id": "Vs3I21hXpWsp"
      },
      "execution_count": null,
      "outputs": []
    }
  ]
}