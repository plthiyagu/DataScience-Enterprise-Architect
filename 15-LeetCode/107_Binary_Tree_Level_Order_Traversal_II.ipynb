{
  "nbformat": 4,
  "nbformat_minor": 0,
  "metadata": {
    "colab": {
      "provenance": [],
      "authorship_tag": "ABX9TyPZFWK0Tou0wjUP0b4rW5Qr",
      "include_colab_link": true
    },
    "kernelspec": {
      "name": "python3",
      "display_name": "Python 3"
    },
    "language_info": {
      "name": "python"
    }
  },
  "cells": [
    {
      "cell_type": "markdown",
      "metadata": {
        "id": "view-in-github",
        "colab_type": "text"
      },
      "source": [
        "<a href=\"https://colab.research.google.com/github/plthiyagu/AI-Engineering/blob/master/15-LeetCode/107_Binary_Tree_Level_Order_Traversal_II.ipynb\" target=\"_parent\"><img src=\"https://colab.research.google.com/assets/colab-badge.svg\" alt=\"Open In Colab\"/></a>"
      ]
    },
    {
      "cell_type": "code",
      "execution_count": 1,
      "metadata": {
        "id": "722Q0otYM4Yw"
      },
      "outputs": [],
      "source": [
        "# Definition for a binary tree node.\n",
        "import collections\n",
        "from typing import Optional,List\n",
        "class TreeNode:\n",
        "    def __init__(self, val=0, left=None, right=None):\n",
        "        self.val = val\n",
        "        self.left = left\n",
        "        self.right = right\n",
        "class Solution:\n",
        "    def levelOrderBottom(self, root: Optional[TreeNode]) -> List[List[int]]:\n",
        "        levels =[]\n",
        "        next_level= collections.deque([root])\n",
        "        \n",
        "        \n",
        "        while root and next_level:\n",
        "            curr_level = next_level\n",
        "            next_level =collections.deque()\n",
        "            levels.append([])\n",
        "            for node in curr_level:\n",
        "                levels[-1].append(node.val)\n",
        "                if node.left:\n",
        "                    next_level.append(node.left)\n",
        "                if node.right:\n",
        "                    next_level.append(node.right)\n",
        "\n",
        "                \n",
        "        return levels[::-1]"
      ]
    },
    {
      "cell_type": "code",
      "source": [],
      "metadata": {
        "id": "ucIJpOjoNECY"
      },
      "execution_count": null,
      "outputs": []
    }
  ]
}