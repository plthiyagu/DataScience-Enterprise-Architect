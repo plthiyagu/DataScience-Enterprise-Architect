{
  "nbformat": 4,
  "nbformat_minor": 0,
  "metadata": {
    "colab": {
      "provenance": [],
      "collapsed_sections": [],
      "authorship_tag": "ABX9TyOvJzDzOw0tiXZl9/d39TPJ",
      "include_colab_link": true
    },
    "kernelspec": {
      "name": "python3",
      "display_name": "Python 3"
    },
    "language_info": {
      "name": "python"
    }
  },
  "cells": [
    {
      "cell_type": "markdown",
      "metadata": {
        "id": "view-in-github",
        "colab_type": "text"
      },
      "source": [
        "<a href=\"https://colab.research.google.com/github/plthiyagu/AI-Engineering/blob/master/15-LeetCode/1086_High_Five_LeetCode.ipynb\" target=\"_parent\"><img src=\"https://colab.research.google.com/assets/colab-badge.svg\" alt=\"Open In Colab\"/></a>"
      ]
    },
    {
      "cell_type": "code",
      "execution_count": 2,
      "metadata": {
        "id": "9P7u8n2pW5RF"
      },
      "outputs": [],
      "source": [
        "from typing import List\n",
        "import collections\n",
        "import heapq\n",
        "class Solution:\n",
        "    def highFive(self, items: List[List[int]]) -> List[List[int]]:\n",
        "        score = collections.defaultdict(list)\n",
        "        \n",
        "        \n",
        "        for item in items:\n",
        "            heapq.heappush(score[item[0]], -item[1])\n",
        "        results = []\n",
        "        for key,value in score.items():\n",
        "            sum =0\n",
        "            for i in range(5):\n",
        "                sum += -heapq.heappop(value)\n",
        "            average = sum // 5\n",
        "            heapq.heappush(results, [key, average])\n",
        "        return results         "
      ]
    },
    {
      "cell_type": "code",
      "source": [
        "items = [[1,91],[1,92],[2,93],[2,97],[1,60],[2,77],[1,65],[1,87],[1,100],[2,100],[2,76]]\n",
        "sol = Solution()\n",
        "sol.highFive(items)"
      ],
      "metadata": {
        "colab": {
          "base_uri": "https://localhost:8080/"
        },
        "id": "IzJf6fmRXESq",
        "outputId": "c8a73e48-631c-41c3-ebd8-fb5c2aa20cb0"
      },
      "execution_count": 3,
      "outputs": [
        {
          "output_type": "execute_result",
          "data": {
            "text/plain": [
              "[[1, 87], [2, 88]]"
            ]
          },
          "metadata": {},
          "execution_count": 3
        }
      ]
    },
    {
      "cell_type": "code",
      "source": [
        "class Solution:\n",
        "\t# add all score and student_id to hash map\n",
        "\t# then just take top 5 and get avverage\n",
        "    def highFive(self, items: List[List[int]]) -> List[List[int]]:\n",
        "        hm = defaultdict(list)\n",
        "        ans = []\n",
        "        for j,i in enumerate(items):\n",
        "            hm[i[0]].append(i[1])\n",
        "            \n",
        "        for id_,score in hm.items():\n",
        "            top_5 = sorted(score, reverse=True)[:5]\n",
        "            average = int(sum(top_5)/5)\n",
        "            ans.append([id_,average])\n",
        "        ans.sort()\n",
        "        return ans"
      ],
      "metadata": {
        "id": "KZb1FbAFX0Y4"
      },
      "execution_count": null,
      "outputs": []
    }
  ]
}