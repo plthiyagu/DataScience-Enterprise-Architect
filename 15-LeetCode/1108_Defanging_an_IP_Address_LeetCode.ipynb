{
  "nbformat": 4,
  "nbformat_minor": 0,
  "metadata": {
    "colab": {
      "provenance": [],
      "authorship_tag": "ABX9TyPfIwo05XRqb7aXfC0Pl+VR",
      "include_colab_link": true
    },
    "kernelspec": {
      "name": "python3",
      "display_name": "Python 3"
    },
    "language_info": {
      "name": "python"
    }
  },
  "cells": [
    {
      "cell_type": "markdown",
      "metadata": {
        "id": "view-in-github",
        "colab_type": "text"
      },
      "source": [
        "<a href=\"https://colab.research.google.com/github/plthiyagu/AI-Engineering/blob/master/15-LeetCode/1108_Defanging_an_IP_Address_LeetCode.ipynb\" target=\"_parent\"><img src=\"https://colab.research.google.com/assets/colab-badge.svg\" alt=\"Open In Colab\"/></a>"
      ]
    },
    {
      "cell_type": "code",
      "execution_count": 5,
      "metadata": {
        "id": "fzuhU28_Qmkl"
      },
      "outputs": [],
      "source": [
        "# 99.7 faster\n",
        "import re\n",
        "class Solution:\n",
        "    def defangIPaddr(self, address: str) -> str:\n",
        "        point = re.findall(r\"[.]\", address)\n",
        "        point = re.sub(str(point), '[.]', address)\n",
        "        return point"
      ]
    },
    {
      "cell_type": "code",
      "source": [
        "class Solution:\n",
        "    def defangIPaddr(self, address: str) -> str:\n",
        "        return address.replace(\".\", \"[.]\")"
      ],
      "metadata": {
        "id": "F27fkqfqQqFR"
      },
      "execution_count": 3,
      "outputs": []
    },
    {
      "cell_type": "code",
      "source": [
        "class Solution:\n",
        "    def defangIPaddr(self, address: str) -> str:\n",
        "        s=''\n",
        "        for i in address:\n",
        "            if i=='.':\n",
        "                s+='[.]'\n",
        "            else:\n",
        "                s+=i\n",
        "        return s"
      ],
      "metadata": {
        "id": "-KIRCSfpQxGT"
      },
      "execution_count": 4,
      "outputs": []
    },
    {
      "cell_type": "code",
      "source": [
        "address = \"255.100.50.0\"\n",
        "sol = Solution()\n",
        "sol.defangIPaddr(address)"
      ],
      "metadata": {
        "colab": {
          "base_uri": "https://localhost:8080/",
          "height": 35
        },
        "id": "Dj42L6GeQ3G7",
        "outputId": "363ea44a-267a-40d2-a9da-6b8158382186"
      },
      "execution_count": 6,
      "outputs": [
        {
          "output_type": "execute_result",
          "data": {
            "text/plain": [
              "'255[.]100[.]50[.]0'"
            ],
            "application/vnd.google.colaboratory.intrinsic+json": {
              "type": "string"
            }
          },
          "metadata": {},
          "execution_count": 6
        }
      ]
    },
    {
      "cell_type": "code",
      "source": [],
      "metadata": {
        "id": "FaGuis4LRUTz"
      },
      "execution_count": null,
      "outputs": []
    }
  ]
}