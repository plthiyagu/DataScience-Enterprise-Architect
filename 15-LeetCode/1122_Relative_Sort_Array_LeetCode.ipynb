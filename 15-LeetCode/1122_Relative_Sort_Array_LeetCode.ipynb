{
  "nbformat": 4,
  "nbformat_minor": 0,
  "metadata": {
    "colab": {
      "provenance": [],
      "authorship_tag": "ABX9TyM8qTSUbQg6kN65UhdQuHhm",
      "include_colab_link": true
    },
    "kernelspec": {
      "name": "python3",
      "display_name": "Python 3"
    },
    "language_info": {
      "name": "python"
    }
  },
  "cells": [
    {
      "cell_type": "markdown",
      "metadata": {
        "id": "view-in-github",
        "colab_type": "text"
      },
      "source": [
        "<a href=\"https://colab.research.google.com/github/plthiyagu/AI-Engineering/blob/master/15-LeetCode/1122_Relative_Sort_Array_LeetCode.ipynb\" target=\"_parent\"><img src=\"https://colab.research.google.com/assets/colab-badge.svg\" alt=\"Open In Colab\"/></a>"
      ]
    },
    {
      "cell_type": "code",
      "execution_count": 3,
      "metadata": {
        "id": "4x30CALY4mEG"
      },
      "outputs": [],
      "source": [
        "from typing import List\n",
        "from collections import Counter\n",
        "class Solution:\n",
        "    def relativeSortArray(self, arr1: List[int], arr2: List[int]) -> List[int]:\n",
        "      results = []\n",
        "      counter ={}\n",
        "      for num in arr1:\n",
        "        counter[num] = counter.get(num,0) +1\n",
        "      for num in arr2:\n",
        "        for i in range(counter[num]):\n",
        "          results.append(num)\n",
        "      arr2_set= set(arr2)\n",
        "      for num in sorted(arr1):\n",
        "        if num not in arr2_set:\n",
        "          results.append(num)\n",
        "      return results"
      ]
    },
    {
      "cell_type": "code",
      "source": [
        "arr1 = [2,3,1,3,2,4,6,7,9,2,19]\n",
        "arr2 = [2,1,4,3,9,6]\n",
        "sol = Solution()\n",
        "sol.relativeSortArray(arr1,arr2)"
      ],
      "metadata": {
        "colab": {
          "base_uri": "https://localhost:8080/"
        },
        "id": "yLSCUO6l5bPP",
        "outputId": "c848899a-a248-4e71-c597-4a3b631bcd5e"
      },
      "execution_count": 4,
      "outputs": [
        {
          "output_type": "execute_result",
          "data": {
            "text/plain": [
              "[2, 2, 2, 1, 4, 3, 3, 9, 6, 7, 19]"
            ]
          },
          "metadata": {},
          "execution_count": 4
        }
      ]
    },
    {
      "cell_type": "code",
      "source": [],
      "metadata": {
        "id": "gbt9R_Cm5m8g"
      },
      "execution_count": null,
      "outputs": []
    }
  ]
}