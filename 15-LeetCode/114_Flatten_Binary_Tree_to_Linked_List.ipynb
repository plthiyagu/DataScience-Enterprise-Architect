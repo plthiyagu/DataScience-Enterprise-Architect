{
  "nbformat": 4,
  "nbformat_minor": 0,
  "metadata": {
    "colab": {
      "provenance": [],
      "authorship_tag": "ABX9TyPqDVGYhoTeqr7Ok2vjy0GI",
      "include_colab_link": true
    },
    "kernelspec": {
      "name": "python3",
      "display_name": "Python 3"
    },
    "language_info": {
      "name": "python"
    }
  },
  "cells": [
    {
      "cell_type": "markdown",
      "metadata": {
        "id": "view-in-github",
        "colab_type": "text"
      },
      "source": [
        "<a href=\"https://colab.research.google.com/github/plthiyagu/AI-Engineering/blob/master/15-LeetCode/114_Flatten_Binary_Tree_to_Linked_List.ipynb\" target=\"_parent\"><img src=\"https://colab.research.google.com/assets/colab-badge.svg\" alt=\"Open In Colab\"/></a>"
      ]
    },
    {
      "cell_type": "code",
      "execution_count": 2,
      "metadata": {
        "id": "o5sP4ZmVWBU6"
      },
      "outputs": [],
      "source": [
        "# Definition for a binary tree node.\n",
        "from typing import Optional\n",
        "class TreeNode:\n",
        "    def __init__(self, val=0, left=None, right=None):\n",
        "        self.val = val\n",
        "        self.left = left\n",
        "        self.right = right\n",
        "class Solution:\n",
        "    def flattenTree(self,node):\n",
        "        if not node:\n",
        "            return None\n",
        "        \n",
        "        if not node.left and not node.right:\n",
        "            return node\n",
        "        \n",
        "        leftTail = self.flattenTree(node.left)\n",
        "        rightTail = self.flattenTree(node.right)\n",
        "        \n",
        "        \n",
        "        if leftTail:\n",
        "            leftTail.right = node.right\n",
        "            node.right = node.left\n",
        "            node.left = None\n",
        "        return rightTail if rightTail else leftTail\n",
        "    \n",
        "    \n",
        "    def flatten(self, root: Optional[TreeNode]) -> None:\n",
        "        \"\"\"\n",
        "        Do not return anything, modify root in-place instead.\n",
        "        \"\"\"\n",
        "        self.flattenTree(root)\n",
        "        \n",
        "            \n",
        "            \n",
        "        return\n",
        "        \n",
        "        "
      ]
    },
    {
      "cell_type": "code",
      "source": [
        "# Complexity Analysis\n",
        "\n",
        "# Time Complexity: O(N)O(N) since we process each node of the tree exactly once.\n",
        "# Space Complexity: O(N)O(N) which is occupied by the recursion stack. The problem \n",
        "# statement doesn't mention anything about the tree being balanced or not and hence, the tree could be e.g. left skewed and in that case the longest branch \n",
        "# (and hence the number of nodes in the recursion stack) would be NN."
      ],
      "metadata": {
        "id": "2hgNrYUDhGeP"
      },
      "execution_count": null,
      "outputs": []
    },
    {
      "cell_type": "code",
      "source": [],
      "metadata": {
        "id": "9RP1ZYvlWHOE"
      },
      "execution_count": null,
      "outputs": []
    }
  ]
}