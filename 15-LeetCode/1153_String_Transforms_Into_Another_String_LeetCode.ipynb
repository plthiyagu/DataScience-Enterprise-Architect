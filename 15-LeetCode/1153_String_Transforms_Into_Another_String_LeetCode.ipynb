{
  "nbformat": 4,
  "nbformat_minor": 0,
  "metadata": {
    "colab": {
      "name": "1153 String Transforms Into Another String LeetCode.ipynb",
      "provenance": [],
      "authorship_tag": "ABX9TyN/RS2n0lnzksBv+Re7qx9m",
      "include_colab_link": true
    },
    "kernelspec": {
      "name": "python3",
      "display_name": "Python 3"
    },
    "language_info": {
      "name": "python"
    }
  },
  "cells": [
    {
      "cell_type": "markdown",
      "metadata": {
        "id": "view-in-github",
        "colab_type": "text"
      },
      "source": [
        "<a href=\"https://colab.research.google.com/github/plthiyagu/AI-Engineering/blob/master/15-LeetCode/1153_String_Transforms_Into_Another_String_LeetCode.ipynb\" target=\"_parent\"><img src=\"https://colab.research.google.com/assets/colab-badge.svg\" alt=\"Open In Colab\"/></a>"
      ]
    },
    {
      "cell_type": "code",
      "execution_count": 1,
      "metadata": {
        "id": "WrHjO7TBYfc2"
      },
      "outputs": [],
      "source": [
        "class Solution:\n",
        "    def canConvert(self, str1: str, str2: str) -> bool:\n",
        "        if str1 == str2:\n",
        "            return True\n",
        "        \n",
        "        conversion_mappings= dict()\n",
        "        unique_characters_in_str2= set()\n",
        "        for letter1,letter2 in zip(str1,str2):\n",
        "            if letter1 not in conversion_mappings:\n",
        "                conversion_mappings[letter1] = letter2\n",
        "                unique_characters_in_str2.add(letter2)\n",
        "            elif conversion_mappings[letter1] != letter2:\n",
        "                return False\n",
        "            if len(unique_characters_in_str2) <26:\n",
        "                return True"
      ]
    },
    {
      "cell_type": "code",
      "source": [
        "str1 = \"aabcc\"\n",
        "str2 = \"ccdee\"\n",
        "sol = Solution()\n",
        "sol.canConvert(str1,str2)"
      ],
      "metadata": {
        "colab": {
          "base_uri": "https://localhost:8080/"
        },
        "id": "7WcZ2tnHYijv",
        "outputId": "22025106-d0d4-489c-9f85-7e84422f7885"
      },
      "execution_count": 2,
      "outputs": [
        {
          "output_type": "execute_result",
          "data": {
            "text/plain": [
              "True"
            ]
          },
          "metadata": {},
          "execution_count": 2
        }
      ]
    },
    {
      "cell_type": "code",
      "source": [],
      "metadata": {
        "id": "SAruwHZ7Y0j6"
      },
      "execution_count": null,
      "outputs": []
    }
  ]
}