{
  "nbformat": 4,
  "nbformat_minor": 0,
  "metadata": {
    "colab": {
      "provenance": [],
      "collapsed_sections": [],
      "authorship_tag": "ABX9TyMOm9BNiuCMJKSMPY7nERKr",
      "include_colab_link": true
    },
    "kernelspec": {
      "name": "python3",
      "display_name": "Python 3"
    },
    "language_info": {
      "name": "python"
    }
  },
  "cells": [
    {
      "cell_type": "markdown",
      "metadata": {
        "id": "view-in-github",
        "colab_type": "text"
      },
      "source": [
        "<a href=\"https://colab.research.google.com/github/plthiyagu/AI-Engineering/blob/master/15-LeetCode/125_Valid_Palindrome.ipynb\" target=\"_parent\"><img src=\"https://colab.research.google.com/assets/colab-badge.svg\" alt=\"Open In Colab\"/></a>"
      ]
    },
    {
      "cell_type": "code",
      "execution_count": 1,
      "metadata": {
        "id": "iRnskfuqGKFR"
      },
      "outputs": [],
      "source": [
        "class Solution:\n",
        "    def isPalindrome(self, s: str) -> bool:\n",
        "      filtered_char = filter(lambda ch :ch.isalnum(),s)\n",
        "      lowercase_filtered_chars = map(lambda ch: ch.lower(),filtered_char)\n",
        "      filtered_chars_list = list(lowercase_filtered_chars)\n",
        "      reversed_chars_list = filtered_chars_list[::-1]\n",
        "      return filtered_chars_list  == reversed_chars_list"
      ]
    },
    {
      "cell_type": "code",
      "source": [
        "class Solution:\n",
        "    def isPalindrome(self, s: str) -> bool:\n",
        "      i,j = 0, len(s)-1\n",
        "\n",
        "      while i < j:\n",
        "        while i < j and not s[i].isalnum():\n",
        "          i +=1\n",
        "        while i < j and not  s[j].isalnum():\n",
        "          j -= 1\n",
        "\n",
        "        if s[i].lower() != s[j].lower():\n",
        "          return False\n",
        "        i += 1\n",
        "        j -= 1\n",
        "      return True\n",
        "      "
      ],
      "metadata": {
        "id": "R60NM9WKGM0k"
      },
      "execution_count": 2,
      "outputs": []
    },
    {
      "cell_type": "code",
      "source": [
        "s = \"A man, a plan, a canal: Panama\"\n",
        "sol = Solution()\n",
        "sol.isPalindrome(s)"
      ],
      "metadata": {
        "colab": {
          "base_uri": "https://localhost:8080/"
        },
        "id": "WutR68vpGPu2",
        "outputId": "17e4dc4e-72c7-4e02-bbb2-8ca684bfe90c"
      },
      "execution_count": 3,
      "outputs": [
        {
          "output_type": "execute_result",
          "data": {
            "text/plain": [
              "True"
            ]
          },
          "metadata": {},
          "execution_count": 3
        }
      ]
    }
  ]
}