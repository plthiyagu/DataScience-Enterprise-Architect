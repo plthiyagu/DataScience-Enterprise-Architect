{
  "nbformat": 4,
  "nbformat_minor": 0,
  "metadata": {
    "colab": {
      "name": "1267 Count Servers that Communicate LeetCode.ipynb",
      "provenance": [],
      "authorship_tag": "ABX9TyOVuafG/nC1XEhYyDdT/ScO",
      "include_colab_link": true
    },
    "kernelspec": {
      "name": "python3",
      "display_name": "Python 3"
    },
    "language_info": {
      "name": "python"
    }
  },
  "cells": [
    {
      "cell_type": "markdown",
      "metadata": {
        "id": "view-in-github",
        "colab_type": "text"
      },
      "source": [
        "<a href=\"https://colab.research.google.com/github/plthiyagu/AI-Engineering/blob/master/15-LeetCode/1267_Count_Servers_that_Communicate_LeetCode.ipynb\" target=\"_parent\"><img src=\"https://colab.research.google.com/assets/colab-badge.svg\" alt=\"Open In Colab\"/></a>"
      ]
    },
    {
      "cell_type": "code",
      "execution_count": 1,
      "metadata": {
        "id": "Io1S1nH1-Cws"
      },
      "outputs": [],
      "source": [
        "from typing import List\n",
        "\n",
        "class Solution:\n",
        "    def countServers(self, grid: List[List[int]]) -> int:\n",
        "        m = len(grid)\n",
        "        n = len(grid[0])\n",
        "        ans = 0\n",
        "        rows = [0] * m\n",
        "        cols = [0] * n\n",
        "\n",
        "        for i in range(m):            \n",
        "              for j in range(n):\n",
        "                if grid[i][j] == 1:\n",
        "                    rows[i] += 1\n",
        "                    cols[j] += 1\n",
        "\n",
        "        for i in range(m):\n",
        "            for j in range(n):\n",
        "                if grid[i][j] == 1 and (rows[i] > 1 or cols[j] > 1):\n",
        "                    ans += 1\n",
        "\n",
        "        return ans\n"
      ]
    },
    {
      "cell_type": "code",
      "source": [
        "grid = [[1,1,0,0],[0,0,1,0],[0,0,1,0],[0,0,0,1]]\n",
        "sol = Solution()\n",
        "sol.countServers(grid)"
      ],
      "metadata": {
        "colab": {
          "base_uri": "https://localhost:8080/"
        },
        "id": "0aT86AJM-H56",
        "outputId": "48c120c8-e5d2-41ac-f72d-df420a90f4fa"
      },
      "execution_count": 2,
      "outputs": [
        {
          "output_type": "execute_result",
          "data": {
            "text/plain": [
              "4"
            ]
          },
          "metadata": {},
          "execution_count": 2
        }
      ]
    },
    {
      "cell_type": "code",
      "source": [
        ""
      ],
      "metadata": {
        "id": "1G7WiNWO-Slz"
      },
      "execution_count": null,
      "outputs": []
    }
  ]
}