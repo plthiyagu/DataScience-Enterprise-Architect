{
  "nbformat": 4,
  "nbformat_minor": 0,
  "metadata": {
    "colab": {
      "name": "1275 Find Winner on a Tic Tac Toe Game LeetCode.ipynb",
      "provenance": [],
      "collapsed_sections": [],
      "authorship_tag": "ABX9TyPYlVmTUzd/9IH+RIqRwuCh",
      "include_colab_link": true
    },
    "kernelspec": {
      "name": "python3",
      "display_name": "Python 3"
    },
    "language_info": {
      "name": "python"
    }
  },
  "cells": [
    {
      "cell_type": "markdown",
      "metadata": {
        "id": "view-in-github",
        "colab_type": "text"
      },
      "source": [
        "<a href=\"https://colab.research.google.com/github/plthiyagu/AI-Engineering/blob/master/15-LeetCode/1275_Find_Winner_on_a_Tic_Tac_Toe_Game_LeetCode.ipynb\" target=\"_parent\"><img src=\"https://colab.research.google.com/assets/colab-badge.svg\" alt=\"Open In Colab\"/></a>"
      ]
    },
    {
      "cell_type": "code",
      "execution_count": 2,
      "metadata": {
        "id": "9XAck9bYj2X0"
      },
      "outputs": [],
      "source": [
        "from typing import List\n",
        "\n",
        "class Solution:\n",
        "    def tictactoe(self, moves: List[List[int]]) -> str:\n",
        "        n=3\n",
        "        rows,cols= [0]*n,[0]*n\n",
        "        diag= anti_diag=0\n",
        "        \n",
        "        player =1\n",
        "        for row, col in moves:\n",
        "            \n",
        "            # Update the row value and column value.\n",
        "            rows[row] += player\n",
        "            cols[col] += player\n",
        "            \n",
        "            # If this move is placed on diagonal or anti-diagonal, \n",
        "            # we shall update the relative value as well.\n",
        "            if row == col:            \n",
        "                diag += player\n",
        "            if row + col == n - 1:\n",
        "                anti_diag += player\n",
        "                \n",
        "            # check if this move meets any of the winning conditions.\n",
        "            if any(abs(line) == n for line in (rows[row], cols[col], diag, anti_diag)):\n",
        "                return \"A\" if player == 1 else \"B\"\n",
        "        \n",
        "            # If no one wins so far, change to the other player alternatively. \n",
        "            # That is from 1 to -1, from -1 to 1.\n",
        "            player *= -1\n",
        "            \n",
        "        # If all moves are completed and there is still no result, we shall check if \n",
        "        # the grid is full or not. If so, the game ends with draw, otherwise pending.\n",
        "        return \"Draw\" if len(moves) == n * n else \"Pending\"   \n",
        "        "
      ]
    },
    {
      "cell_type": "code",
      "source": [
        "moves = [[0,0],[2,0],[1,1],[2,1],[2,2]]\n",
        "sol= Solution()\n",
        "sol.tictactoe(moves)"
      ],
      "metadata": {
        "colab": {
          "base_uri": "https://localhost:8080/",
          "height": 35
        },
        "id": "Oe1-zAMokfOt",
        "outputId": "77e32609-a187-4c75-9a4e-781d5390eec2"
      },
      "execution_count": 3,
      "outputs": [
        {
          "output_type": "execute_result",
          "data": {
            "text/plain": [
              "'A'"
            ],
            "application/vnd.google.colaboratory.intrinsic+json": {
              "type": "string"
            }
          },
          "metadata": {},
          "execution_count": 3
        }
      ]
    },
    {
      "cell_type": "code",
      "source": [
        ""
      ],
      "metadata": {
        "id": "mosk69jOknHX"
      },
      "execution_count": null,
      "outputs": []
    },
    {
      "cell_type": "code",
      "source": [
        ""
      ],
      "metadata": {
        "id": "GW-f_DU-j5Hg"
      },
      "execution_count": null,
      "outputs": []
    }
  ]
}