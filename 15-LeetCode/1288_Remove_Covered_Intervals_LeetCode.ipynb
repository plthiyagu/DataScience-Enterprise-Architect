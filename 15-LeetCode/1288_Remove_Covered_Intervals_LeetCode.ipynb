{
  "nbformat": 4,
  "nbformat_minor": 0,
  "metadata": {
    "colab": {
      "name": "1288 Remove Covered Intervals LeetCode.ipynb",
      "provenance": [],
      "authorship_tag": "ABX9TyPIMVd0/nOpc4/S3DRi8ry7",
      "include_colab_link": true
    },
    "kernelspec": {
      "name": "python3",
      "display_name": "Python 3"
    },
    "language_info": {
      "name": "python"
    }
  },
  "cells": [
    {
      "cell_type": "markdown",
      "metadata": {
        "id": "view-in-github",
        "colab_type": "text"
      },
      "source": [
        "<a href=\"https://colab.research.google.com/github/plthiyagu/AI-Engineering/blob/master/15-LeetCode/1288_Remove_Covered_Intervals_LeetCode.ipynb\" target=\"_parent\"><img src=\"https://colab.research.google.com/assets/colab-badge.svg\" alt=\"Open In Colab\"/></a>"
      ]
    },
    {
      "cell_type": "code",
      "execution_count": 2,
      "metadata": {
        "id": "QsZhuBx7X5wP"
      },
      "outputs": [],
      "source": [
        "from typing import List\n",
        "class Solution:\n",
        "    def removeCoveredIntervals(self, intervals: List[List[int]]) -> int:\n",
        "        intervals.sort(key=lambda x:(x[0],-x[1]))\n",
        "        count =0\n",
        "        prev_end =0\n",
        "        for _, end in intervals:\n",
        "            if end > prev_end:\n",
        "                count += 1\n",
        "                prev_end = end\n",
        "        return count"
      ]
    },
    {
      "cell_type": "code",
      "source": [
        "sol = Solution()\n",
        "intervals = [[1,4],[3,6],[2,8]]\n",
        "sol.removeCoveredIntervals(intervals)"
      ],
      "metadata": {
        "colab": {
          "base_uri": "https://localhost:8080/"
        },
        "id": "wwGHzXasX7LX",
        "outputId": "d1783088-8a6c-435d-82b6-0d412e338ad5"
      },
      "execution_count": 3,
      "outputs": [
        {
          "output_type": "execute_result",
          "data": {
            "text/plain": [
              "2"
            ]
          },
          "metadata": {},
          "execution_count": 3
        }
      ]
    },
    {
      "cell_type": "code",
      "source": [
        ""
      ],
      "metadata": {
        "id": "KpszaWeqYFf-"
      },
      "execution_count": null,
      "outputs": []
    }
  ]
}