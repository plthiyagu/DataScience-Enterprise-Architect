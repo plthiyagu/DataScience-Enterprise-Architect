{
  "nbformat": 4,
  "nbformat_minor": 0,
  "metadata": {
    "colab": {
      "provenance": [],
      "authorship_tag": "ABX9TyPsHw/MqWhTP0XacnNF7VmN",
      "include_colab_link": true
    },
    "kernelspec": {
      "name": "python3",
      "display_name": "Python 3"
    },
    "language_info": {
      "name": "python"
    }
  },
  "cells": [
    {
      "cell_type": "markdown",
      "metadata": {
        "id": "view-in-github",
        "colab_type": "text"
      },
      "source": [
        "<a href=\"https://colab.research.google.com/github/plthiyagu/AI-Engineering/blob/master/15-LeetCode/1291_Sequential_Digits_LeetCode.ipynb\" target=\"_parent\"><img src=\"https://colab.research.google.com/assets/colab-badge.svg\" alt=\"Open In Colab\"/></a>"
      ]
    },
    {
      "cell_type": "code",
      "execution_count": 2,
      "metadata": {
        "id": "qwjIVDi6fFL2"
      },
      "outputs": [],
      "source": [
        "from typing import List\n",
        "\n",
        "class Solution:\n",
        "    def sequentialDigits(self, low: int, high: int) -> List[int]:\n",
        "        seq = '123456789'\n",
        "        res= []\n",
        "        for l in range(1, 10):\n",
        "            for i in range(len(seq) - l + 1):\n",
        "                num = int(seq[i: i + l])\n",
        "                if num > high:\n",
        "                    return res\n",
        "                if num >= low:\n",
        "                    res.append(num)\n",
        "        return res"
      ]
    },
    {
      "cell_type": "code",
      "source": [
        "low = 100\n",
        "high = 300\n",
        "sol = Solution()\n",
        "sol.sequentialDigits(low,high)"
      ],
      "metadata": {
        "colab": {
          "base_uri": "https://localhost:8080/"
        },
        "id": "TJtWWHknfPL6",
        "outputId": "f7ecaa0d-87bf-473c-9524-6df655c1483c"
      },
      "execution_count": 3,
      "outputs": [
        {
          "output_type": "execute_result",
          "data": {
            "text/plain": [
              "[123, 234]"
            ]
          },
          "metadata": {},
          "execution_count": 3
        }
      ]
    },
    {
      "cell_type": "code",
      "source": [],
      "metadata": {
        "id": "V8hegCNofklT"
      },
      "execution_count": null,
      "outputs": []
    }
  ]
}