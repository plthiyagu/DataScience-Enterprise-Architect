{
  "nbformat": 4,
  "nbformat_minor": 0,
  "metadata": {
    "colab": {
      "name": "1304 Find N Unique Integers Sum up to Zero LeetCode.ipynb",
      "provenance": [],
      "collapsed_sections": [],
      "authorship_tag": "ABX9TyMvcnMQzHl5CBbDbZrpTr9m",
      "include_colab_link": true
    },
    "kernelspec": {
      "name": "python3",
      "display_name": "Python 3"
    },
    "language_info": {
      "name": "python"
    }
  },
  "cells": [
    {
      "cell_type": "markdown",
      "metadata": {
        "id": "view-in-github",
        "colab_type": "text"
      },
      "source": [
        "<a href=\"https://colab.research.google.com/github/plthiyagu/AI-Engineering/blob/master/15-LeetCode/1304_Find_N_Unique_Integers_Sum_up_to_Zero_LeetCode.ipynb\" target=\"_parent\"><img src=\"https://colab.research.google.com/assets/colab-badge.svg\" alt=\"Open In Colab\"/></a>"
      ]
    },
    {
      "cell_type": "code",
      "execution_count": 1,
      "metadata": {
        "id": "FHvZ083omBPg"
      },
      "outputs": [],
      "source": [
        "from typing import List\n",
        "class Solution:\n",
        "    def sumZero(self, n: int) -> List[int]:\n",
        "        ans =[]\n",
        "        for i in range(1,n//2+1):\n",
        "            ans.append(i)\n",
        "            ans.append(-i)\n",
        "        if n % 2 !=0:\n",
        "            ans.append(0)\n",
        "        return ans\n",
        "        "
      ]
    },
    {
      "cell_type": "code",
      "source": [
        "n = 5\n",
        "sol = Solution()\n",
        "sol.sumZero(n)"
      ],
      "metadata": {
        "colab": {
          "base_uri": "https://localhost:8080/"
        },
        "id": "HRR5C_fXmEw8",
        "outputId": "0d2bd1e7-13e7-456d-dd5d-d8f7ded23452"
      },
      "execution_count": 2,
      "outputs": [
        {
          "output_type": "execute_result",
          "data": {
            "text/plain": [
              "[1, -1, 2, -2, 0]"
            ]
          },
          "metadata": {},
          "execution_count": 2
        }
      ]
    },
    {
      "cell_type": "code",
      "source": [
        ""
      ],
      "metadata": {
        "id": "hKKvxzn9mOWA"
      },
      "execution_count": null,
      "outputs": []
    }
  ]
}