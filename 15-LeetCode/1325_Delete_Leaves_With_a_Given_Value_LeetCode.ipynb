{
  "nbformat": 4,
  "nbformat_minor": 0,
  "metadata": {
    "colab": {
      "name": "1325 Delete Leaves With a Given Value LeetCode.ipynb",
      "provenance": [],
      "authorship_tag": "ABX9TyOQOI3yTnVfovy0zC6xXlf9",
      "include_colab_link": true
    },
    "kernelspec": {
      "name": "python3",
      "display_name": "Python 3"
    },
    "language_info": {
      "name": "python"
    }
  },
  "cells": [
    {
      "cell_type": "markdown",
      "metadata": {
        "id": "view-in-github",
        "colab_type": "text"
      },
      "source": [
        "<a href=\"https://colab.research.google.com/github/plthiyagu/AI-Engineering/blob/master/15-LeetCode/1325_Delete_Leaves_With_a_Given_Value_LeetCode.ipynb\" target=\"_parent\"><img src=\"https://colab.research.google.com/assets/colab-badge.svg\" alt=\"Open In Colab\"/></a>"
      ]
    },
    {
      "cell_type": "code",
      "execution_count": null,
      "metadata": {
        "id": "-alcy_CkI4n-"
      },
      "outputs": [],
      "source": [
        "# Definition for a binary tree node.\n",
        "class TreeNode:\n",
        "    def __init__(self, val=0, left=None, right=None):\n",
        "        self.val = val\n",
        "        self.left = left\n",
        "        self.right = right\n",
        "class Solution:\n",
        "    def removeLeafNodes(self, root: Optional[TreeNode], target: int) -> Optional[TreeNode]:\n",
        "        if not root:\n",
        "            return root\n",
        "        root.left = self.removeLeafNodes(root.left, target)\n",
        "        root.right = self.removeLeafNodes(root.right, target)\n",
        "        if not root.left and not root.right and root.val == target:\n",
        "            return None\n",
        "        return root  \n",
        "        "
      ]
    }
  ]
}