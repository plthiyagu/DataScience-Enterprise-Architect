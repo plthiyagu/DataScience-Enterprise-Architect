{
  "nbformat": 4,
  "nbformat_minor": 0,
  "metadata": {
    "colab": {
      "name": "1344 Angle Between Hands of a Clock LeetCode.ipynb",
      "provenance": [],
      "authorship_tag": "ABX9TyMzF8V+qOe72kDNW6xQ9o6Z",
      "include_colab_link": true
    },
    "kernelspec": {
      "name": "python3",
      "display_name": "Python 3"
    },
    "language_info": {
      "name": "python"
    }
  },
  "cells": [
    {
      "cell_type": "markdown",
      "metadata": {
        "id": "view-in-github",
        "colab_type": "text"
      },
      "source": [
        "<a href=\"https://colab.research.google.com/github/plthiyagu/AI-Engineering/blob/master/15-LeetCode/1344_Angle_Between_Hands_of_a_Clock_LeetCode.ipynb\" target=\"_parent\"><img src=\"https://colab.research.google.com/assets/colab-badge.svg\" alt=\"Open In Colab\"/></a>"
      ]
    },
    {
      "cell_type": "code",
      "execution_count": 1,
      "metadata": {
        "id": "geNuUt8HQDlc"
      },
      "outputs": [],
      "source": [
        "class Solution:\n",
        "    def angleClock(self, hour: int, minutes: int) -> float:\n",
        "        one_min_angle =6\n",
        "        one_hour_angle =30\n",
        "        mintues_angle = one_min_angle * minutes\n",
        "        hour_angle =(hour %12 +minutes/60)* one_hour_angle\n",
        "        \n",
        "        diff= abs(hour_angle-mintues_angle)\n",
        "        return min (diff,360-diff)"
      ]
    },
    {
      "cell_type": "code",
      "source": [
        "hour = 3\n",
        "minutes = 30\n",
        "sol= Solution()\n",
        "sol.angleClock(hour,minutes)"
      ],
      "metadata": {
        "colab": {
          "base_uri": "https://localhost:8080/"
        },
        "id": "uFNFSbZDQFPx",
        "outputId": "62433eb3-975e-47ad-e1a6-65b75e9385ef"
      },
      "execution_count": 3,
      "outputs": [
        {
          "output_type": "execute_result",
          "data": {
            "text/plain": [
              "75.0"
            ]
          },
          "metadata": {},
          "execution_count": 3
        }
      ]
    },
    {
      "cell_type": "code",
      "source": [
        ""
      ],
      "metadata": {
        "id": "z1z4_h3jQTUk"
      },
      "execution_count": null,
      "outputs": []
    }
  ]
}