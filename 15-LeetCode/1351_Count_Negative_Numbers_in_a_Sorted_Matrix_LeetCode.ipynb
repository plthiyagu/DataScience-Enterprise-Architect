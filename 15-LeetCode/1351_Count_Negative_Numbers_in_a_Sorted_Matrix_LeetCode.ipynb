{
  "nbformat": 4,
  "nbformat_minor": 0,
  "metadata": {
    "colab": {
      "name": "1351 Count Negative Numbers in a Sorted Matrix LeetCode.ipynb",
      "provenance": [],
      "authorship_tag": "ABX9TyOpPcBR9ylMWfkmjr8/Lv91",
      "include_colab_link": true
    },
    "kernelspec": {
      "name": "python3",
      "display_name": "Python 3"
    },
    "language_info": {
      "name": "python"
    }
  },
  "cells": [
    {
      "cell_type": "markdown",
      "metadata": {
        "id": "view-in-github",
        "colab_type": "text"
      },
      "source": [
        "<a href=\"https://colab.research.google.com/github/plthiyagu/AI-Engineering/blob/master/15-LeetCode/1351_Count_Negative_Numbers_in_a_Sorted_Matrix_LeetCode.ipynb\" target=\"_parent\"><img src=\"https://colab.research.google.com/assets/colab-badge.svg\" alt=\"Open In Colab\"/></a>"
      ]
    },
    {
      "cell_type": "code",
      "execution_count": 1,
      "metadata": {
        "id": "l5gsfx_GGKIQ"
      },
      "outputs": [],
      "source": [
        "from typing import List\n",
        "class Solution:\n",
        "    def countNegatives(self, grid: List[List[int]]) -> int:\n",
        "        count =0\n",
        "        for i in grid:\n",
        "            for j in i:\n",
        "                if j <0:\n",
        "                    count +=1\n",
        "        return count\n",
        "                    "
      ]
    },
    {
      "cell_type": "code",
      "source": [
        "grid = [[4,3,2,-1],[3,2,1,-1],[1,1,-1,-2],[-1,-1,-2,-3]]\n",
        "sol = Solution()\n",
        "sol.countNegatives(grid)"
      ],
      "metadata": {
        "colab": {
          "base_uri": "https://localhost:8080/"
        },
        "id": "3jH-9j4rGN48",
        "outputId": "b4d76811-a18e-4cb2-906b-f6fc36c8c57c"
      },
      "execution_count": 2,
      "outputs": [
        {
          "output_type": "execute_result",
          "data": {
            "text/plain": [
              "8"
            ]
          },
          "metadata": {},
          "execution_count": 2
        }
      ]
    },
    {
      "cell_type": "code",
      "source": [
        ""
      ],
      "metadata": {
        "id": "d_74sisZGTdf"
      },
      "execution_count": null,
      "outputs": []
    }
  ]
}