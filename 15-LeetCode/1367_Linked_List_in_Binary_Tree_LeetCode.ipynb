{
  "nbformat": 4,
  "nbformat_minor": 0,
  "metadata": {
    "colab": {
      "name": "1367 Linked List in Binary Tree LeetCode.ipynb",
      "provenance": [],
      "authorship_tag": "ABX9TyMdwqp/9fut7K0wnfuJtyoS",
      "include_colab_link": true
    },
    "kernelspec": {
      "name": "python3",
      "display_name": "Python 3"
    },
    "language_info": {
      "name": "python"
    }
  },
  "cells": [
    {
      "cell_type": "markdown",
      "metadata": {
        "id": "view-in-github",
        "colab_type": "text"
      },
      "source": [
        "<a href=\"https://colab.research.google.com/github/plthiyagu/AI-Engineering/blob/master/15-LeetCode/1367_Linked_List_in_Binary_Tree_LeetCode.ipynb\" target=\"_parent\"><img src=\"https://colab.research.google.com/assets/colab-badge.svg\" alt=\"Open In Colab\"/></a>"
      ]
    },
    {
      "cell_type": "code",
      "execution_count": null,
      "metadata": {
        "id": "ccSwmi1ufwPV"
      },
      "outputs": [],
      "source": [
        "# Definition for singly-linked list.\n",
        "# class ListNode:\n",
        "#     def __init__(self, val=0, next=None):\n",
        "#         self.val = val\n",
        "#         self.next = next\n",
        "# Definition for a binary tree node.\n",
        "# class TreeNode:\n",
        "#     def __init__(self, val=0, left=None, right=None):\n",
        "#         self.val = val\n",
        "#         self.left = left\n",
        "#         self.right = right\n",
        "class Solution:\n",
        "    def isSubPath(self, head: Optional[ListNode], root: Optional[TreeNode]) -> bool:\n",
        "        if not root:return False\n",
        "        if not head:return True\n",
        "        \n",
        "        def dfs(head, root):\n",
        "            if not head:return True\n",
        "            if not root:return False\n",
        "            if head.val == root.val and (dfs(head.next, root.left) or dfs(head.next, root.right)):\n",
        "                return True\n",
        "            return False\n",
        "                \n",
        "        if dfs(head, root) or self.isSubPath(head, root.left) or self.isSubPath(head, root.right):\n",
        "            return True\n",
        "        return False\n",
        "        "
      ]
    }
  ]
}