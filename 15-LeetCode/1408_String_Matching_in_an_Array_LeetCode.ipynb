{
  "nbformat": 4,
  "nbformat_minor": 0,
  "metadata": {
    "colab": {
      "name": "1408 String Matching in an Array LeetCode.ipynb",
      "provenance": [],
      "authorship_tag": "ABX9TyNldsOsXC74t/FrGxE91EFh",
      "include_colab_link": true
    },
    "kernelspec": {
      "name": "python3",
      "display_name": "Python 3"
    },
    "language_info": {
      "name": "python"
    }
  },
  "cells": [
    {
      "cell_type": "markdown",
      "metadata": {
        "id": "view-in-github",
        "colab_type": "text"
      },
      "source": [
        "<a href=\"https://colab.research.google.com/github/plthiyagu/AI-Engineering/blob/master/15-LeetCode/1408_String_Matching_in_an_Array_LeetCode.ipynb\" target=\"_parent\"><img src=\"https://colab.research.google.com/assets/colab-badge.svg\" alt=\"Open In Colab\"/></a>"
      ]
    },
    {
      "cell_type": "code",
      "execution_count": 1,
      "metadata": {
        "id": "h2Ht18GlPFqX"
      },
      "outputs": [],
      "source": [
        "from typing import List\n",
        "class Solution:\n",
        "    def stringMatching(self, words: List[str]) -> List[str]:\n",
        "        results =[]\n",
        "        word_set = set(words)\n",
        "        \n",
        "        for i,word in enumerate(words):\n",
        "            for key in word_set:\n",
        "                if key != word and key.find(word) != -1:\n",
        "                    results.append(word)\n",
        "                    break\n",
        "        return results"
      ]
    },
    {
      "cell_type": "code",
      "source": [
        "words = [\"mass\",\"as\",\"hero\",\"superhero\"]\n",
        "sol = Solution()\n",
        "sol.stringMatching(words)"
      ],
      "metadata": {
        "colab": {
          "base_uri": "https://localhost:8080/"
        },
        "id": "4bpNcXBLPMK_",
        "outputId": "cc540017-410e-4a2b-f093-c2be51c66b6d"
      },
      "execution_count": 2,
      "outputs": [
        {
          "output_type": "execute_result",
          "data": {
            "text/plain": [
              "['as', 'hero']"
            ]
          },
          "metadata": {},
          "execution_count": 2
        }
      ]
    },
    {
      "cell_type": "code",
      "source": [
        ""
      ],
      "metadata": {
        "id": "xVqTcF8gPT-H"
      },
      "execution_count": null,
      "outputs": []
    }
  ]
}