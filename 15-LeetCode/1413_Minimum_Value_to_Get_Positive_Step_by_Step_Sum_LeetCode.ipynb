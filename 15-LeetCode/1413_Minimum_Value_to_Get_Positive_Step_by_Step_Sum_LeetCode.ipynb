{
  "nbformat": 4,
  "nbformat_minor": 0,
  "metadata": {
    "colab": {
      "name": "1413 Minimum Value to Get Positive Step by Step Sum LeetCode.ipynb",
      "provenance": [],
      "collapsed_sections": [],
      "authorship_tag": "ABX9TyM91KUKZxZhNYJCumOH673u",
      "include_colab_link": true
    },
    "kernelspec": {
      "name": "python3",
      "display_name": "Python 3"
    },
    "language_info": {
      "name": "python"
    }
  },
  "cells": [
    {
      "cell_type": "markdown",
      "metadata": {
        "id": "view-in-github",
        "colab_type": "text"
      },
      "source": [
        "<a href=\"https://colab.research.google.com/github/plthiyagu/AI-Engineering/blob/master/15-LeetCode/1413_Minimum_Value_to_Get_Positive_Step_by_Step_Sum_LeetCode.ipynb\" target=\"_parent\"><img src=\"https://colab.research.google.com/assets/colab-badge.svg\" alt=\"Open In Colab\"/></a>"
      ]
    },
    {
      "cell_type": "code",
      "execution_count": 2,
      "metadata": {
        "id": "Vn8BQbzfSswZ"
      },
      "outputs": [],
      "source": [
        "from typing import List\n",
        "class Solution:\n",
        "    def minStartValue(self, nums: List[int]) -> int:\n",
        "        n= len(nums)\n",
        "        m=100\n",
        "        left =1\n",
        "        right = m * n +1\n",
        "        while left < right:\n",
        "            middle = (left+right)//2\n",
        "            total = middle\n",
        "            is_valid = True\n",
        "            for num in nums:\n",
        "                total += num\n",
        "                if total <1:\n",
        "                    is_valid = False\n",
        "                    break\n",
        "            if is_valid:\n",
        "                right= middle\n",
        "            else:\n",
        "                left = middle +1\n",
        "        return left"
      ]
    },
    {
      "cell_type": "code",
      "source": [
        "nums = [-3,2,-3,4,2]\n",
        "sol= Solution()\n",
        "sol.minStartValue(nums)"
      ],
      "metadata": {
        "colab": {
          "base_uri": "https://localhost:8080/"
        },
        "id": "Vk_ThUbeS13x",
        "outputId": "5fa0ecca-f500-4da4-de09-97d77f0111cd"
      },
      "execution_count": 3,
      "outputs": [
        {
          "output_type": "execute_result",
          "data": {
            "text/plain": [
              "5"
            ]
          },
          "metadata": {},
          "execution_count": 3
        }
      ]
    },
    {
      "cell_type": "code",
      "source": [
        "class Solution:\n",
        "    def minStartValue(self, nums: List[int]) -> int:\n",
        "        start = 1\n",
        "        cur = start\n",
        "        for n in nums:\n",
        "            cur += n\n",
        "            if cur < 1:\n",
        "                start += 1 - cur\n",
        "                cur = 1\n",
        "        return start"
      ],
      "metadata": {
        "id": "Ww_h3J84TBxJ"
      },
      "execution_count": 4,
      "outputs": []
    },
    {
      "cell_type": "code",
      "source": [
        "nums = [-3,2,-3,4,2]\n",
        "sol= Solution()\n",
        "sol.minStartValue(nums)"
      ],
      "metadata": {
        "colab": {
          "base_uri": "https://localhost:8080/"
        },
        "id": "2CD1kqk5TUYH",
        "outputId": "0ab24fb1-5f9f-49f7-dfbe-7fb027df31b2"
      },
      "execution_count": 5,
      "outputs": [
        {
          "output_type": "execute_result",
          "data": {
            "text/plain": [
              "5"
            ]
          },
          "metadata": {},
          "execution_count": 5
        }
      ]
    },
    {
      "cell_type": "code",
      "source": [
        ""
      ],
      "metadata": {
        "id": "Y5PizaiUTWPm"
      },
      "execution_count": null,
      "outputs": []
    }
  ]
}