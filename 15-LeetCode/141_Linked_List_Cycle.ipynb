{
  "nbformat": 4,
  "nbformat_minor": 0,
  "metadata": {
    "colab": {
      "provenance": [],
      "authorship_tag": "ABX9TyMHrbsvB4P/Elhuq2+I4w1U",
      "include_colab_link": true
    },
    "kernelspec": {
      "name": "python3",
      "display_name": "Python 3"
    },
    "language_info": {
      "name": "python"
    }
  },
  "cells": [
    {
      "cell_type": "markdown",
      "metadata": {
        "id": "view-in-github",
        "colab_type": "text"
      },
      "source": [
        "<a href=\"https://colab.research.google.com/github/plthiyagu/AI-Engineering/blob/master/15-LeetCode/141_Linked_List_Cycle.ipynb\" target=\"_parent\"><img src=\"https://colab.research.google.com/assets/colab-badge.svg\" alt=\"Open In Colab\"/></a>"
      ]
    },
    {
      "cell_type": "code",
      "execution_count": 6,
      "metadata": {
        "id": "QT2_ZWaIqTmh"
      },
      "outputs": [],
      "source": [
        "# Definition for singly-linked list.\n",
        "from typing import Optional\n",
        "# Definition for singly-linked list.\n",
        "class ListNode:\n",
        "    def __init__(self, x):\n",
        "        self.val = x\n",
        "        self.next = None\n",
        "\n",
        "class Solution:\n",
        "    def hasCycle(self, head: Optional[ListNode]) -> bool:\n",
        "        nodes_seen = set()\n",
        "        while head is not None:\n",
        "            if head in nodes_seen:\n",
        "                return True\n",
        "            nodes_seen.add(head)\n",
        "            head = head.next\n",
        "            \n",
        "        return False\n",
        "        \n",
        "        "
      ]
    },
    {
      "cell_type": "code",
      "source": [
        "# Definition for singly-linked list.\n",
        "# class ListNode:\n",
        "#     def __init__(self, x):\n",
        "#         self.val = x\n",
        "#         self.next = None\n",
        "\n",
        "class Solution:\n",
        "    def hasCycle(self, head: Optional[ListNode]) -> bool:\n",
        "        \n",
        "        if head is None:\n",
        "            return False\n",
        "        slow = head\n",
        "        fast= head.next\n",
        "        while slow != fast:\n",
        "            if fast is None or fast.next is None:\n",
        "                return False\n",
        "            slow = slow.next\n",
        "            fast = fast.next.next        \n",
        "        return True\n",
        "        "
      ],
      "metadata": {
        "id": "lTbZI_Kww-Th"
      },
      "execution_count": null,
      "outputs": []
    },
    {
      "cell_type": "code",
      "source": [
        "# Complexity analysis\n",
        "\n",
        "# Let nn be the total number of nodes in the linked list.\n",
        "\n",
        "# Time complexity : O(n)O(n). We visit each of the nn elements in the list at most once. Adding a node to the hash table costs only O(1)O(1) time.\n",
        "\n",
        "# Space complexity: O(n)O(n). The space depends on the number of elements added to the hash table, which contains at most nn elements."
      ],
      "metadata": {
        "id": "8DDB0X96rzS7"
      },
      "execution_count": null,
      "outputs": []
    },
    {
      "cell_type": "code",
      "source": [],
      "metadata": {
        "id": "YW00H9XArzW6"
      },
      "execution_count": 2,
      "outputs": []
    },
    {
      "cell_type": "code",
      "source": [],
      "metadata": {
        "id": "B8FgmNaGrzaD"
      },
      "execution_count": 2,
      "outputs": []
    },
    {
      "cell_type": "code",
      "source": [],
      "metadata": {
        "id": "OpfEWO1przcs"
      },
      "execution_count": null,
      "outputs": []
    }
  ]
}