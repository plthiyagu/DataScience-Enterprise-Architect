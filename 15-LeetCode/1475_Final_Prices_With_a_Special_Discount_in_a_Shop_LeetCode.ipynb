{
  "nbformat": 4,
  "nbformat_minor": 0,
  "metadata": {
    "colab": {
      "name": "1475 Final Prices With a Special Discount in a Shop LeetCode.ipynb",
      "provenance": [],
      "authorship_tag": "ABX9TyPcd314w2HMyClBR6ag3aot",
      "include_colab_link": true
    },
    "kernelspec": {
      "name": "python3",
      "display_name": "Python 3"
    },
    "language_info": {
      "name": "python"
    }
  },
  "cells": [
    {
      "cell_type": "markdown",
      "metadata": {
        "id": "view-in-github",
        "colab_type": "text"
      },
      "source": [
        "<a href=\"https://colab.research.google.com/github/plthiyagu/AI-Engineering/blob/master/15-LeetCode/1475_Final_Prices_With_a_Special_Discount_in_a_Shop_LeetCode.ipynb\" target=\"_parent\"><img src=\"https://colab.research.google.com/assets/colab-badge.svg\" alt=\"Open In Colab\"/></a>"
      ]
    },
    {
      "cell_type": "code",
      "execution_count": 1,
      "metadata": {
        "id": "rbr9EmJt1wFz"
      },
      "outputs": [],
      "source": [
        "from typing import List\n",
        "class Solution:\n",
        "    def finalPrices(self, prices: List[int]) -> List[int]:\n",
        "        ans =[]\n",
        "        stack =[0]\n",
        "        for x in prices[::-1]:\n",
        "            while x < stack[-1]: stack.pop()\n",
        "            ans += [x - stack[-1]]\n",
        "            stack.append(x)\n",
        "        return ans[::-1]"
      ]
    },
    {
      "cell_type": "code",
      "source": [
        "prices = [8,4,6,2,3]\n",
        "sol = Solution()\n",
        "sol.finalPrices(prices)"
      ],
      "metadata": {
        "colab": {
          "base_uri": "https://localhost:8080/"
        },
        "id": "-XWJFPQtQqps",
        "outputId": "738fd45b-0144-4b7c-8779-2eefb94306b6"
      },
      "execution_count": 2,
      "outputs": [
        {
          "output_type": "execute_result",
          "data": {
            "text/plain": [
              "[4, 2, 4, 2, 3]"
            ]
          },
          "metadata": {},
          "execution_count": 2
        }
      ]
    },
    {
      "cell_type": "code",
      "source": [],
      "metadata": {
        "id": "NhzuBfsFQ7c4"
      },
      "execution_count": null,
      "outputs": []
    }
  ]
}