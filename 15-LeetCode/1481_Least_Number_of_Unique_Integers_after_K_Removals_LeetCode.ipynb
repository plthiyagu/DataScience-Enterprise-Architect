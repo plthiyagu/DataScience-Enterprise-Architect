{
  "nbformat": 4,
  "nbformat_minor": 0,
  "metadata": {
    "colab": {
      "provenance": [],
      "authorship_tag": "ABX9TyOuvD49B5Bz0ENF9T67JWbu",
      "include_colab_link": true
    },
    "kernelspec": {
      "name": "python3",
      "display_name": "Python 3"
    },
    "language_info": {
      "name": "python"
    }
  },
  "cells": [
    {
      "cell_type": "markdown",
      "metadata": {
        "id": "view-in-github",
        "colab_type": "text"
      },
      "source": [
        "<a href=\"https://colab.research.google.com/github/plthiyagu/AI-Engineering/blob/master/15-LeetCode/1481_Least_Number_of_Unique_Integers_after_K_Removals_LeetCode.ipynb\" target=\"_parent\"><img src=\"https://colab.research.google.com/assets/colab-badge.svg\" alt=\"Open In Colab\"/></a>"
      ]
    },
    {
      "cell_type": "code",
      "execution_count": 3,
      "metadata": {
        "id": "MvTgf6pdWMW5"
      },
      "outputs": [],
      "source": [
        "from typing import List\n",
        "class Solution:\n",
        "    def findLeastNumOfUniqueInts(self, arr: List[int], k: int) -> int:\n",
        "        dic = {}\n",
        "        for num in arr:\n",
        "            if num not in dic:\n",
        "                dic[num] =1\n",
        "            else:\n",
        "                dic[num] += 1\n",
        "        count=len(dic)\n",
        "        for frequency in sorted(dic.values()):\n",
        "            k -= frequency\n",
        "            if k<0:\n",
        "                return count\n",
        "            else:\n",
        "                count -=1\n",
        "        return count"
      ]
    },
    {
      "cell_type": "code",
      "source": [
        "sol = Solution()\n",
        "arr = [5,5,4]\n",
        "k = 1\n",
        "sol.findLeastNumOfUniqueInts(arr,k)"
      ],
      "metadata": {
        "colab": {
          "base_uri": "https://localhost:8080/"
        },
        "id": "esoDyeC-WZjU",
        "outputId": "8fd3a055-fcb1-4d60-ef5d-81d27513cfab"
      },
      "execution_count": 4,
      "outputs": [
        {
          "output_type": "execute_result",
          "data": {
            "text/plain": [
              "1"
            ]
          },
          "metadata": {},
          "execution_count": 4
        }
      ]
    },
    {
      "cell_type": "code",
      "source": [],
      "metadata": {
        "id": "3BIWGEVoWjDu"
      },
      "execution_count": null,
      "outputs": []
    },
    {
      "cell_type": "code",
      "source": [],
      "metadata": {
        "id": "j1rkOb1bWUrw"
      },
      "execution_count": null,
      "outputs": []
    },
    {
      "cell_type": "code",
      "source": [],
      "metadata": {
        "id": "imTmxR2PWSDC"
      },
      "execution_count": null,
      "outputs": []
    }
  ]
}