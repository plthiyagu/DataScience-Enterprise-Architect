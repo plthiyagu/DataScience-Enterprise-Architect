{
  "nbformat": 4,
  "nbformat_minor": 0,
  "metadata": {
    "colab": {
      "provenance": [],
      "authorship_tag": "ABX9TyNr/HLvLPSTAYycMHjzWmzk",
      "include_colab_link": true
    },
    "kernelspec": {
      "name": "python3",
      "display_name": "Python 3"
    },
    "language_info": {
      "name": "python"
    }
  },
  "cells": [
    {
      "cell_type": "markdown",
      "metadata": {
        "id": "view-in-github",
        "colab_type": "text"
      },
      "source": [
        "<a href=\"https://colab.research.google.com/github/plthiyagu/AI-Engineering/blob/master/15-LeetCode/1486_XOR_Operation_in_an_Array_LeetCode.ipynb\" target=\"_parent\"><img src=\"https://colab.research.google.com/assets/colab-badge.svg\" alt=\"Open In Colab\"/></a>"
      ]
    },
    {
      "cell_type": "code",
      "execution_count": 1,
      "metadata": {
        "id": "6VZXVB6iuY3E"
      },
      "outputs": [],
      "source": [
        "class Solution:\n",
        "    def xorOperation(self, n: int, start: int) -> int:\n",
        "        result =0\n",
        "        for i in range(n):\n",
        "            result = result ^ (start + 2*i)\n",
        "        return result\n",
        "        "
      ]
    },
    {
      "cell_type": "code",
      "source": [
        "n = 5\n",
        "start = 0\n",
        "sol = Solution()\n",
        "sol.xorOperation(n,start)"
      ],
      "metadata": {
        "colab": {
          "base_uri": "https://localhost:8080/"
        },
        "id": "tKqhNJjhufl6",
        "outputId": "36520c78-d57a-4559-cf3d-eb72a6fda067"
      },
      "execution_count": 2,
      "outputs": [
        {
          "output_type": "execute_result",
          "data": {
            "text/plain": [
              "8"
            ]
          },
          "metadata": {},
          "execution_count": 2
        }
      ]
    },
    {
      "cell_type": "code",
      "source": [],
      "metadata": {
        "id": "S21siV4cuqX3"
      },
      "execution_count": null,
      "outputs": []
    }
  ]
}