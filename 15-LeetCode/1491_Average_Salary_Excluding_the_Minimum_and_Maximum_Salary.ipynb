{
  "nbformat": 4,
  "nbformat_minor": 0,
  "metadata": {
    "colab": {
      "provenance": [],
      "authorship_tag": "ABX9TyPZJB0/SSo4h1aAMUoo+xEp",
      "include_colab_link": true
    },
    "kernelspec": {
      "name": "python3",
      "display_name": "Python 3"
    },
    "language_info": {
      "name": "python"
    }
  },
  "cells": [
    {
      "cell_type": "markdown",
      "metadata": {
        "id": "view-in-github",
        "colab_type": "text"
      },
      "source": [
        "<a href=\"https://colab.research.google.com/github/plthiyagu/AI-Engineering/blob/master/15-LeetCode/1491_Average_Salary_Excluding_the_Minimum_and_Maximum_Salary.ipynb\" target=\"_parent\"><img src=\"https://colab.research.google.com/assets/colab-badge.svg\" alt=\"Open In Colab\"/></a>"
      ]
    },
    {
      "cell_type": "code",
      "execution_count": 2,
      "metadata": {
        "id": "3lltXcPFmWOg"
      },
      "outputs": [],
      "source": [
        "from typing import List\n",
        "class Solution:\n",
        "    def average(self, salary: List[int]) -> float:\n",
        "        max_salary = max(salary)\n",
        "        \n",
        "        min_salary = min(salary)\n",
        "        \n",
        "        salary_sum = 0\n",
        "        count = 0\n",
        "        for s in salary:\n",
        "            if s != min_salary and s != max_salary:\n",
        "                salary_sum += s\n",
        "                count += 1\n",
        "                \n",
        "        \n",
        "        return salary_sum / count "
      ]
    },
    {
      "cell_type": "code",
      "source": [
        "sol = Solution()\n",
        "salary = [4000,3000,1000,2000]\n",
        "sol.average(salary)"
      ],
      "metadata": {
        "colab": {
          "base_uri": "https://localhost:8080/"
        },
        "id": "0-Q_4oUDmcaj",
        "outputId": "41189be4-4868-440d-d756-35ca8a992229"
      },
      "execution_count": 3,
      "outputs": [
        {
          "output_type": "execute_result",
          "data": {
            "text/plain": [
              "2500.0"
            ]
          },
          "metadata": {},
          "execution_count": 3
        }
      ]
    },
    {
      "cell_type": "code",
      "source": [],
      "metadata": {
        "id": "NLlsohqapBld"
      },
      "execution_count": null,
      "outputs": []
    },
    {
      "cell_type": "code",
      "source": [
        "class Solution:\n",
        "    def average(self, salary):\n",
        "        salary.remove(max(salary))\n",
        "        salary.remove(min(salary))\n",
        "        return (sum(salary)/len(salary))"
      ],
      "metadata": {
        "id": "cFn2b1ArmXug"
      },
      "execution_count": null,
      "outputs": []
    }
  ]
}