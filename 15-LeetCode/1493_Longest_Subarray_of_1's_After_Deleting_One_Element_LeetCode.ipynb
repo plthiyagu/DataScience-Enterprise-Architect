{
  "nbformat": 4,
  "nbformat_minor": 0,
  "metadata": {
    "colab": {
      "name": "1493 Longest Subarray of 1's After Deleting One Element LeetCode.ipynb",
      "provenance": [],
      "authorship_tag": "ABX9TyOxLy0ygOk8wAcH8EQPf1su",
      "include_colab_link": true
    },
    "kernelspec": {
      "name": "python3",
      "display_name": "Python 3"
    },
    "language_info": {
      "name": "python"
    }
  },
  "cells": [
    {
      "cell_type": "markdown",
      "metadata": {
        "id": "view-in-github",
        "colab_type": "text"
      },
      "source": [
        "<a href=\"https://colab.research.google.com/github/plthiyagu/AI-Engineering/blob/master/15-LeetCode/1493_Longest_Subarray_of_1's_After_Deleting_One_Element_LeetCode.ipynb\" target=\"_parent\"><img src=\"https://colab.research.google.com/assets/colab-badge.svg\" alt=\"Open In Colab\"/></a>"
      ]
    },
    {
      "cell_type": "code",
      "execution_count": 2,
      "metadata": {
        "id": "IplBLjN9V8IY"
      },
      "outputs": [],
      "source": [
        "from typing import List\n",
        "\n",
        "class Solution:\n",
        "    def longestSubarray(self, nums: List[int]) -> int:\n",
        "        result,count,left =0,0,0\n",
        "        for right in range(len(nums)):\n",
        "            count += (nums[right] == 0)\n",
        "            while count >= 2:\n",
        "                count -= (nums[left] == 0)\n",
        "                left += 1\n",
        "            result = max(result, right-left+1)\n",
        "        return result-1\n",
        "        "
      ]
    },
    {
      "cell_type": "code",
      "source": [
        "sol = Solution()\n",
        "nums = [0,1,1,1,0,1,1,0,1]\n",
        "sol.longestSubarray(nums)"
      ],
      "metadata": {
        "colab": {
          "base_uri": "https://localhost:8080/"
        },
        "id": "3zfgHobpWEOy",
        "outputId": "8a7632fb-da1f-4266-841b-f316916d63cc"
      },
      "execution_count": 3,
      "outputs": [
        {
          "output_type": "execute_result",
          "data": {
            "text/plain": [
              "5"
            ]
          },
          "metadata": {},
          "execution_count": 3
        }
      ]
    },
    {
      "cell_type": "code",
      "source": [],
      "metadata": {
        "id": "52lvddR0WLnQ"
      },
      "execution_count": null,
      "outputs": []
    }
  ]
}