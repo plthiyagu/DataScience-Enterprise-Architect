{
  "nbformat": 4,
  "nbformat_minor": 0,
  "metadata": {
    "colab": {
      "name": "1496 Path Crossing LeetCode.ipynb",
      "provenance": [],
      "authorship_tag": "ABX9TyNmBk7DZt3subXsOzoWF9TX",
      "include_colab_link": true
    },
    "kernelspec": {
      "name": "python3",
      "display_name": "Python 3"
    },
    "language_info": {
      "name": "python"
    }
  },
  "cells": [
    {
      "cell_type": "markdown",
      "metadata": {
        "id": "view-in-github",
        "colab_type": "text"
      },
      "source": [
        "<a href=\"https://colab.research.google.com/github/plthiyagu/AI-Engineering/blob/master/15-LeetCode/1496_Path_Crossing_LeetCode.ipynb\" target=\"_parent\"><img src=\"https://colab.research.google.com/assets/colab-badge.svg\" alt=\"Open In Colab\"/></a>"
      ]
    },
    {
      "cell_type": "code",
      "execution_count": 5,
      "metadata": {
        "id": "qhxzLTIQi-SR"
      },
      "outputs": [],
      "source": [
        "import collections\n",
        "class Solution:\n",
        "    def isPathCrossing(self, path: str) -> bool:\n",
        "        directions ={\n",
        "            'N':[0,1],\n",
        "            'S': [0, -1],\n",
        "            'E': [1, 0],\n",
        "            'W': [-1, 0]\n",
        "        }\n",
        "        visited = collections.defaultdict(set)\n",
        "        position = [0, 0]\n",
        "        visited[position[0]].add(position[1])\n",
        "        for c in path:\n",
        "            d = directions[c]\n",
        "            \n",
        "            position = [position[0] + d[0], position[1] + d[1]]\n",
        "            \n",
        "            \n",
        "            if position[0] in visited and position[1] in visited[position[0]]:\n",
        "                return True\n",
        "            \n",
        "            visited[position[0]].add(position[1])\n",
        "            \n",
        "        return False"
      ]
    },
    {
      "cell_type": "code",
      "source": [
        "path = \"NESWW\"\n",
        "sol = Solution()\n",
        "sol.isPathCrossing(path)"
      ],
      "metadata": {
        "colab": {
          "base_uri": "https://localhost:8080/"
        },
        "id": "nU9YKwjfjABG",
        "outputId": "ea955072-36d3-4630-e796-5b5975463b7d"
      },
      "execution_count": 6,
      "outputs": [
        {
          "output_type": "execute_result",
          "data": {
            "text/plain": [
              "True"
            ]
          },
          "metadata": {},
          "execution_count": 6
        }
      ]
    },
    {
      "cell_type": "code",
      "source": [
        ""
      ],
      "metadata": {
        "id": "l76RnZS1jHsd"
      },
      "execution_count": null,
      "outputs": []
    }
  ]
}