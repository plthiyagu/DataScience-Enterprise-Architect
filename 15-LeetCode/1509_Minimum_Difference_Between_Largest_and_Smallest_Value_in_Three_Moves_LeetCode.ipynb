{
  "nbformat": 4,
  "nbformat_minor": 0,
  "metadata": {
    "colab": {
      "name": "1509 Minimum Difference Between Largest and Smallest Value in Three Moves LeetCode.ipynb",
      "provenance": [],
      "authorship_tag": "ABX9TyPbYJTQ+BD5mRml02c6VSyr",
      "include_colab_link": true
    },
    "kernelspec": {
      "name": "python3",
      "display_name": "Python 3"
    },
    "language_info": {
      "name": "python"
    }
  },
  "cells": [
    {
      "cell_type": "markdown",
      "metadata": {
        "id": "view-in-github",
        "colab_type": "text"
      },
      "source": [
        "<a href=\"https://colab.research.google.com/github/plthiyagu/AI-Engineering/blob/master/15-LeetCode/1509_Minimum_Difference_Between_Largest_and_Smallest_Value_in_Three_Moves_LeetCode.ipynb\" target=\"_parent\"><img src=\"https://colab.research.google.com/assets/colab-badge.svg\" alt=\"Open In Colab\"/></a>"
      ]
    },
    {
      "cell_type": "code",
      "execution_count": 1,
      "metadata": {
        "id": "Ck389gM6E22k"
      },
      "outputs": [],
      "source": [
        "from typing import List\n",
        "class Solution:\n",
        "    def minDifference(self, nums: List[int]) -> int:\n",
        "        res = float('inf')\n",
        "        n = len(nums)\n",
        "        if n < 4: return 0\n",
        "        nums.sort()\n",
        "        for i in range(4):\n",
        "            res = min(res, nums[n-4+i]-nums[i])\n",
        "        return res"
      ]
    },
    {
      "cell_type": "code",
      "source": [
        "nums = [1,5,0,10,14]\n",
        "sol = Solution()\n",
        "sol.minDifference(nums)"
      ],
      "metadata": {
        "colab": {
          "base_uri": "https://localhost:8080/"
        },
        "id": "WGpgphhKE89_",
        "outputId": "37df16cf-3657-4683-d4d6-e19187bcca15"
      },
      "execution_count": 2,
      "outputs": [
        {
          "output_type": "execute_result",
          "data": {
            "text/plain": [
              "1"
            ]
          },
          "metadata": {},
          "execution_count": 2
        }
      ]
    },
    {
      "cell_type": "code",
      "source": [],
      "metadata": {
        "id": "n4MUBfjGFK_-"
      },
      "execution_count": null,
      "outputs": []
    }
  ]
}