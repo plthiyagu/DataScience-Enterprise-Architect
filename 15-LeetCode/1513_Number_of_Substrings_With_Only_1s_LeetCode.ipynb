{
  "nbformat": 4,
  "nbformat_minor": 0,
  "metadata": {
    "colab": {
      "name": "1513 Number of Substrings With Only 1s LeetCode.ipynb",
      "provenance": [],
      "authorship_tag": "ABX9TyNON3+qopPnaY1NF1whoETY",
      "include_colab_link": true
    },
    "kernelspec": {
      "name": "python3",
      "display_name": "Python 3"
    },
    "language_info": {
      "name": "python"
    }
  },
  "cells": [
    {
      "cell_type": "markdown",
      "metadata": {
        "id": "view-in-github",
        "colab_type": "text"
      },
      "source": [
        "<a href=\"https://colab.research.google.com/github/plthiyagu/AI-Engineering/blob/master/15-LeetCode/1513_Number_of_Substrings_With_Only_1s_LeetCode.ipynb\" target=\"_parent\"><img src=\"https://colab.research.google.com/assets/colab-badge.svg\" alt=\"Open In Colab\"/></a>"
      ]
    },
    {
      "cell_type": "code",
      "execution_count": 1,
      "metadata": {
        "id": "LERBTaOTk6Dp"
      },
      "outputs": [],
      "source": [
        "class Solution:\n",
        "    def numSub(self, s: str) -> int:\n",
        "        MOD = 1000000007\n",
        "        res = ct = 0\n",
        "        for c in s:\n",
        "            if c == '0':\n",
        "                res += (1 + ct) * ct // 2\n",
        "                ct = 0\n",
        "            else:\n",
        "                ct += 1\n",
        "        return (res + (1 + ct) * ct // 2) % MOD"
      ]
    },
    {
      "cell_type": "code",
      "source": [
        "s = \"111111\"\n",
        "sol = Solution()\n",
        "sol.numSub(s)"
      ],
      "metadata": {
        "colab": {
          "base_uri": "https://localhost:8080/"
        },
        "id": "zsppMHWLk7zQ",
        "outputId": "825c5982-5e97-4173-fcbc-8c228ebaad82"
      },
      "execution_count": 2,
      "outputs": [
        {
          "output_type": "execute_result",
          "data": {
            "text/plain": [
              "21"
            ]
          },
          "metadata": {},
          "execution_count": 2
        }
      ]
    },
    {
      "cell_type": "code",
      "source": [],
      "metadata": {
        "id": "OOVY26UvlDAu"
      },
      "execution_count": null,
      "outputs": []
    }
  ]
}