{
  "nbformat": 4,
  "nbformat_minor": 0,
  "metadata": {
    "colab": {
      "name": "1523 Count Odd Numbers in an Interval Range LeetCode.ipynb",
      "provenance": [],
      "collapsed_sections": [],
      "authorship_tag": "ABX9TyM32J+6az+jand562vYEcTu",
      "include_colab_link": true
    },
    "kernelspec": {
      "name": "python3",
      "display_name": "Python 3"
    },
    "language_info": {
      "name": "python"
    }
  },
  "cells": [
    {
      "cell_type": "markdown",
      "metadata": {
        "id": "view-in-github",
        "colab_type": "text"
      },
      "source": [
        "<a href=\"https://colab.research.google.com/github/plthiyagu/AI-Engineering/blob/master/15-LeetCode/1523_Count_Odd_Numbers_in_an_Interval_Range_LeetCode.ipynb\" target=\"_parent\"><img src=\"https://colab.research.google.com/assets/colab-badge.svg\" alt=\"Open In Colab\"/></a>"
      ]
    },
    {
      "cell_type": "code",
      "execution_count": 1,
      "metadata": {
        "id": "jh5_blQGUAyD"
      },
      "outputs": [],
      "source": [
        "class Solution:\n",
        "    def countOdds(self, low: int, high: int) -> int:\n",
        "        if low % 2 != 0:\n",
        "            if high % 2 != 0:\n",
        "                return (high - low) // 2 + 1\n",
        "            else:\n",
        "                return (high - low) // 2 + 1\n",
        "        else:\n",
        "            if high % 2 != 0: \n",
        "                return (high - low) // 2 + 1\n",
        "            else: \n",
        "                return (high - low) // 2"
      ]
    },
    {
      "cell_type": "code",
      "source": [
        "sol =Solution()\n",
        "low = 3\n",
        "high = 7\n",
        "sol.countOdds(low,high)"
      ],
      "metadata": {
        "colab": {
          "base_uri": "https://localhost:8080/"
        },
        "id": "TJXNmcUcUCtr",
        "outputId": "d317d3d2-dc32-4fd7-e149-dc3b513cd41f"
      },
      "execution_count": 2,
      "outputs": [
        {
          "output_type": "execute_result",
          "data": {
            "text/plain": [
              "3"
            ]
          },
          "metadata": {},
          "execution_count": 2
        }
      ]
    },
    {
      "cell_type": "code",
      "source": [
        ""
      ],
      "metadata": {
        "id": "LU_1TSV7UNwr"
      },
      "execution_count": null,
      "outputs": []
    }
  ]
}