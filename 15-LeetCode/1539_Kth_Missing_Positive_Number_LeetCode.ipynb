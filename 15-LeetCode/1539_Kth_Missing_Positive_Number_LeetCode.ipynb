{
  "nbformat": 4,
  "nbformat_minor": 0,
  "metadata": {
    "colab": {
      "provenance": [],
      "collapsed_sections": [],
      "authorship_tag": "ABX9TyPH111VT8GPNyLfzAXAX0hq",
      "include_colab_link": true
    },
    "kernelspec": {
      "name": "python3",
      "display_name": "Python 3"
    },
    "language_info": {
      "name": "python"
    }
  },
  "cells": [
    {
      "cell_type": "markdown",
      "metadata": {
        "id": "view-in-github",
        "colab_type": "text"
      },
      "source": [
        "<a href=\"https://colab.research.google.com/github/plthiyagu/AI-Engineering/blob/master/15-LeetCode/1539_Kth_Missing_Positive_Number_LeetCode.ipynb\" target=\"_parent\"><img src=\"https://colab.research.google.com/assets/colab-badge.svg\" alt=\"Open In Colab\"/></a>"
      ]
    },
    {
      "cell_type": "code",
      "execution_count": 1,
      "metadata": {
        "id": "XKLGkFXHPxfq"
      },
      "outputs": [],
      "source": [
        "from typing import List\n",
        "class Solution:\n",
        "    def findKthPositive(self, arr: List[int], k: int) -> int:\n",
        "        left,right = 0,len(arr)-1\n",
        "        while left <= right:\n",
        "            pivot = (left+right) //2\n",
        "            if arr[pivot] - pivot -1 <k:\n",
        "                left = pivot +1\n",
        "            else:\n",
        "                right = pivot -1\n",
        "        return left +k"
      ]
    },
    {
      "cell_type": "code",
      "source": [
        "arr = [2,3,4,7,11]\n",
        "k = 5\n",
        "sol = Solution()\n",
        "sol.findKthPositive(arr,k)"
      ],
      "metadata": {
        "colab": {
          "base_uri": "https://localhost:8080/"
        },
        "id": "XNX7qOjXP1au",
        "outputId": "349e9109-18bb-44fd-b6c4-4745cbe8a26f"
      },
      "execution_count": 2,
      "outputs": [
        {
          "output_type": "execute_result",
          "data": {
            "text/plain": [
              "9"
            ]
          },
          "metadata": {},
          "execution_count": 2
        }
      ]
    },
    {
      "cell_type": "code",
      "source": [],
      "metadata": {
        "id": "_7PU5H39R413"
      },
      "execution_count": null,
      "outputs": []
    }
  ]
}