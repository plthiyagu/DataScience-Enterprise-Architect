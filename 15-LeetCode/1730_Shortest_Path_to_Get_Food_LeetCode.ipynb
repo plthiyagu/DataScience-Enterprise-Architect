{
  "nbformat": 4,
  "nbformat_minor": 0,
  "metadata": {
    "colab": {
      "provenance": [],
      "collapsed_sections": [],
      "authorship_tag": "ABX9TyMotMB9pHoNcjTHMldtuGhO",
      "include_colab_link": true
    },
    "kernelspec": {
      "name": "python3",
      "display_name": "Python 3"
    },
    "language_info": {
      "name": "python"
    }
  },
  "cells": [
    {
      "cell_type": "markdown",
      "metadata": {
        "id": "view-in-github",
        "colab_type": "text"
      },
      "source": [
        "<a href=\"https://colab.research.google.com/github/plthiyagu/AI-Engineering/blob/master/15-LeetCode/1730_Shortest_Path_to_Get_Food_LeetCode.ipynb\" target=\"_parent\"><img src=\"https://colab.research.google.com/assets/colab-badge.svg\" alt=\"Open In Colab\"/></a>"
      ]
    },
    {
      "cell_type": "code",
      "execution_count": 2,
      "metadata": {
        "id": "UQDIHx5oPXu6"
      },
      "outputs": [],
      "source": [
        "from typing import List\n",
        "import collections\n",
        "class Solution:\n",
        "    def getFood(self, grid: List[List[str]]) -> int:\n",
        "        Row = len(grid)\n",
        "        Col = len(grid[0])\n",
        "        initx = inity = -1\n",
        "        for i in range(Row):\n",
        "            for j in range(Col):\n",
        "                if grid[i][j] == \"*\":\n",
        "                    initx = i\n",
        "                    inity = j\n",
        "        dirt = [(1,0),(0,1),(-1,0),(0,-1)]\n",
        "        que = collections.deque()\n",
        "        que.append((initx, inity))\n",
        "        step = 1\n",
        "        seen = set()\n",
        "        seen.add((initx,inity))\n",
        "        while que:\n",
        "            size = len(que)\n",
        "            #print(que)\n",
        "            for _ in range(size):\n",
        "                x,y = que.popleft()\n",
        "                \n",
        "                for dx,dy in dirt:\n",
        "                    newx = x + dx\n",
        "                    newy = y + dy\n",
        "                    if 0 <= newx < Row and 0 <= newy < Col and (newx, newy) not in seen:\n",
        "                        if grid[newx][newy] == '#':\n",
        "                            return step\n",
        "                        elif grid[newx][newy] == 'O':\n",
        "                            que.append((newx, newy))\n",
        "                            seen.add((newx,newy))\n",
        "                        elif grid[newx][newy] == 'X':\n",
        "                            seen.add((newx,newy))                          \n",
        "            step += 1\n",
        "        return -1\n",
        "        "
      ]
    },
    {
      "cell_type": "code",
      "source": [
        "sol = Solution()\n",
        "grid = [[\"X\",\"X\",\"X\",\"X\",\"X\",\"X\"],[\"X\",\"*\",\"O\",\"O\",\"O\",\"X\"],[\"X\",\"O\",\"O\",\"#\",\"O\",\"X\"],[\"X\",\"X\",\"X\",\"X\",\"X\",\"X\"]]\n",
        "sol.getFood(grid)"
      ],
      "metadata": {
        "colab": {
          "base_uri": "https://localhost:8080/"
        },
        "id": "NJWrGGvrPYsB",
        "outputId": "1a292a10-8091-4efc-a6b1-e436e682a99c"
      },
      "execution_count": 3,
      "outputs": [
        {
          "output_type": "execute_result",
          "data": {
            "text/plain": [
              "3"
            ]
          },
          "metadata": {},
          "execution_count": 3
        }
      ]
    },
    {
      "cell_type": "code",
      "source": [],
      "metadata": {
        "id": "4i8OQb6PPtJq"
      },
      "execution_count": null,
      "outputs": []
    }
  ]
}