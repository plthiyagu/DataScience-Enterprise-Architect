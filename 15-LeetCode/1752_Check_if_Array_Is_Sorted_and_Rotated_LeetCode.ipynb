{
  "nbformat": 4,
  "nbformat_minor": 0,
  "metadata": {
    "colab": {
      "provenance": [],
      "collapsed_sections": [],
      "authorship_tag": "ABX9TyNlL0cTy58qGa2makToa7EX",
      "include_colab_link": true
    },
    "kernelspec": {
      "name": "python3",
      "display_name": "Python 3"
    },
    "language_info": {
      "name": "python"
    }
  },
  "cells": [
    {
      "cell_type": "markdown",
      "metadata": {
        "id": "view-in-github",
        "colab_type": "text"
      },
      "source": [
        "<a href=\"https://colab.research.google.com/github/plthiyagu/AI-Engineering/blob/master/15-LeetCode/1752_Check_if_Array_Is_Sorted_and_Rotated_LeetCode.ipynb\" target=\"_parent\"><img src=\"https://colab.research.google.com/assets/colab-badge.svg\" alt=\"Open In Colab\"/></a>"
      ]
    },
    {
      "cell_type": "code",
      "execution_count": 2,
      "metadata": {
        "id": "uu_vanSyhNIF"
      },
      "outputs": [],
      "source": [
        "from typing import List\n",
        "class Solution:\n",
        "    def check(self, nums: List[int]) -> bool:\n",
        "        sorted_nums = sorted(nums)\n",
        "        prev = None\n",
        "        rotation_position =None\n",
        "        for i,num in enumerate(nums):\n",
        "            if prev != None and  num < prev:\n",
        "                rotation_position =i\n",
        "                break\n",
        "            prev = num\n",
        "        if not rotation_position:\n",
        "            return True\n",
        "        return (nums[rotation_position:] + nums[:rotation_position]) == sorted_nums\n",
        "            "
      ]
    },
    {
      "cell_type": "code",
      "source": [
        "sol = Solution()\n",
        "nums = [3,4,5,1,2]\n",
        "sol.check(nums)"
      ],
      "metadata": {
        "colab": {
          "base_uri": "https://localhost:8080/"
        },
        "id": "ac5rNuZHhPf0",
        "outputId": "c476cca2-e1a0-4ff2-babf-9da93eac5aaf"
      },
      "execution_count": 3,
      "outputs": [
        {
          "output_type": "execute_result",
          "data": {
            "text/plain": [
              "True"
            ]
          },
          "metadata": {},
          "execution_count": 3
        }
      ]
    },
    {
      "cell_type": "code",
      "source": [],
      "metadata": {
        "id": "0xtOS8cchY_E"
      },
      "execution_count": null,
      "outputs": []
    }
  ]
}