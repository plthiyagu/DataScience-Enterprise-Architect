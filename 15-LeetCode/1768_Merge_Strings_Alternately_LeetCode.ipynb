{
  "nbformat": 4,
  "nbformat_minor": 0,
  "metadata": {
    "colab": {
      "provenance": [],
      "authorship_tag": "ABX9TyN4a3W0ZYKnwoTigg7uVKnU",
      "include_colab_link": true
    },
    "kernelspec": {
      "name": "python3",
      "display_name": "Python 3"
    },
    "language_info": {
      "name": "python"
    }
  },
  "cells": [
    {
      "cell_type": "markdown",
      "metadata": {
        "id": "view-in-github",
        "colab_type": "text"
      },
      "source": [
        "<a href=\"https://colab.research.google.com/github/plthiyagu/AI-Engineering/blob/master/15-LeetCode/1768_Merge_Strings_Alternately_LeetCode.ipynb\" target=\"_parent\"><img src=\"https://colab.research.google.com/assets/colab-badge.svg\" alt=\"Open In Colab\"/></a>"
      ]
    },
    {
      "cell_type": "code",
      "execution_count": 1,
      "metadata": {
        "id": "0rFLsuEZp29Z"
      },
      "outputs": [],
      "source": [
        "import itertools\n",
        "class Solution:\n",
        "    def mergeAlternately(self, word1: str, word2: str) -> str:\n",
        "        ans=\"\"\n",
        "        for i, j in itertools.zip_longest(word1, word2, fillvalue=\"\"):\n",
        "            ans=ans+i+j\n",
        "        return ans\n",
        "        "
      ]
    },
    {
      "cell_type": "code",
      "source": [
        "word1 = \"abc\"\n",
        "word2 = \"pqr\"\n",
        "sol= Solution()\n",
        "sol.mergeAlternately(word1, word2)"
      ],
      "metadata": {
        "colab": {
          "base_uri": "https://localhost:8080/",
          "height": 35
        },
        "id": "mRDKii1Eqinu",
        "outputId": "da1e2ece-179c-4981-af0e-b74a944b3bc6"
      },
      "execution_count": 2,
      "outputs": [
        {
          "output_type": "execute_result",
          "data": {
            "text/plain": [
              "'apbqcr'"
            ],
            "application/vnd.google.colaboratory.intrinsic+json": {
              "type": "string"
            }
          },
          "metadata": {},
          "execution_count": 2
        }
      ]
    },
    {
      "cell_type": "code",
      "source": [],
      "metadata": {
        "id": "Mic04Ea3qt1o"
      },
      "execution_count": null,
      "outputs": []
    }
  ]
}