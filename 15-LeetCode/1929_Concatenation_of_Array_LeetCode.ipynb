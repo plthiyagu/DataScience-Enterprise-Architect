{
  "nbformat": 4,
  "nbformat_minor": 0,
  "metadata": {
    "colab": {
      "provenance": [],
      "collapsed_sections": [],
      "authorship_tag": "ABX9TyO39KPbY3NYxlbejsZ1KE2+",
      "include_colab_link": true
    },
    "kernelspec": {
      "name": "python3",
      "display_name": "Python 3"
    },
    "language_info": {
      "name": "python"
    }
  },
  "cells": [
    {
      "cell_type": "markdown",
      "metadata": {
        "id": "view-in-github",
        "colab_type": "text"
      },
      "source": [
        "<a href=\"https://colab.research.google.com/github/plthiyagu/AI-Engineering/blob/master/15-LeetCode/1929_Concatenation_of_Array_LeetCode.ipynb\" target=\"_parent\"><img src=\"https://colab.research.google.com/assets/colab-badge.svg\" alt=\"Open In Colab\"/></a>"
      ]
    },
    {
      "cell_type": "code",
      "execution_count": 5,
      "metadata": {
        "id": "5FlmURZAMiXE"
      },
      "outputs": [],
      "source": [
        "#super fase 97%\n",
        "\n",
        "from typing import List\n",
        "class Solution:\n",
        "    def getConcatenation(self, nums: List[int]) -> List[int]:\n",
        "        return nums+nums"
      ]
    },
    {
      "cell_type": "code",
      "source": [
        "class Solution:\n",
        "    def getConcatenation(self, nums: List[int]) -> List[int]:\n",
        "        return nums+nums"
      ],
      "metadata": {
        "id": "qnbbFHAoMnea"
      },
      "execution_count": 3,
      "outputs": []
    },
    {
      "cell_type": "code",
      "source": [
        "class Solution:\n",
        "  def getConcatenation(self, nums: List[int]) -> List[int]:\n",
        "    results =[]\n",
        "    for i in range(len(nums)):\n",
        "      results.append(nums[i])\n",
        "    for i in range(len(nums)):\n",
        "      results.append(nums[i])\n",
        "    return results\n"
      ],
      "metadata": {
        "id": "BhYKCwbAMs9e"
      },
      "execution_count": 4,
      "outputs": []
    },
    {
      "cell_type": "code",
      "source": [
        "sol = Solution()\n",
        "nums = [1,2,1]\n",
        "sol.getConcatenation(nums)"
      ],
      "metadata": {
        "colab": {
          "base_uri": "https://localhost:8080/"
        },
        "id": "JY2pyjNrNPZt",
        "outputId": "fd848a46-9888-433c-a05d-0f3f9b5ad0d5"
      },
      "execution_count": 6,
      "outputs": [
        {
          "output_type": "execute_result",
          "data": {
            "text/plain": [
              "[1, 2, 1, 1, 2, 1]"
            ]
          },
          "metadata": {},
          "execution_count": 6
        }
      ]
    },
    {
      "cell_type": "code",
      "source": [],
      "metadata": {
        "id": "KRl0s5EvNWBp"
      },
      "execution_count": null,
      "outputs": []
    }
  ]
}