{
  "nbformat": 4,
  "nbformat_minor": 0,
  "metadata": {
    "colab": {
      "provenance": [],
      "authorship_tag": "ABX9TyN0KcHhCfp4G32E8yLzDY4W",
      "include_colab_link": true
    },
    "kernelspec": {
      "name": "python3",
      "display_name": "Python 3"
    },
    "language_info": {
      "name": "python"
    }
  },
  "cells": [
    {
      "cell_type": "markdown",
      "metadata": {
        "id": "view-in-github",
        "colab_type": "text"
      },
      "source": [
        "<a href=\"https://colab.research.google.com/github/plthiyagu/AI-Engineering/blob/master/15-LeetCode/199_Binary_Tree_Right_Side_View.ipynb\" target=\"_parent\"><img src=\"https://colab.research.google.com/assets/colab-badge.svg\" alt=\"Open In Colab\"/></a>"
      ]
    },
    {
      "cell_type": "code",
      "execution_count": 3,
      "metadata": {
        "id": "9yPbmoElMek5"
      },
      "outputs": [],
      "source": [
        "# Definition for a binary tree node.\n",
        "from typing import Optional,List\n",
        "class TreeNode:\n",
        "    def __init__(self, val=0, left=None, right=None):\n",
        "        self.val = val\n",
        "        self.left = left\n",
        "        self.right = right\n",
        "class Solution:\n",
        "    def rightSideView(self, root: Optional[TreeNode]) -> List[int]:\n",
        "        def dfs(root, result_list, level):\n",
        "            if not root:\n",
        "                return\n",
        "            if root and level == len(result_list):\n",
        "                result_list.append(root.val)\n",
        "            dfs(root.right, result_list, level+1)\n",
        "            dfs(root.left, result_list, level+1)\n",
        "            return result_list\n",
        "        return dfs(root, [], 0)"
      ]
    },
    {
      "cell_type": "code",
      "source": [
        "class RightSideFinder:\n",
        "    def rightSideView(self, root: TreeNode) -> List[int]:\n",
        "        queue = []\n",
        "        next_nodes = []\n",
        "        output = []\n",
        "        if root != None:\n",
        "            output = [root.val]\n",
        "            queue = [root]\n",
        "            while queue:\n",
        "                out = queue.pop(0)\n",
        "                if out.left:\n",
        "                    next_nodes.append(out.left)\n",
        "                if out.right:\n",
        "                    next_nodes.append(out.right)\n",
        "                if queue == []:\n",
        "                    if next_nodes != []:\n",
        "                        output.append(next_nodes[-1].val)\n",
        "                    queue, next_nodes = next_nodes, queue\n",
        "            return output\n",
        "        else:\n",
        "            return []"
      ],
      "metadata": {
        "id": "ocz70NShMfzg"
      },
      "execution_count": 5,
      "outputs": []
    },
    {
      "cell_type": "code",
      "source": [
        "class Solution:\n",
        "    def rightSideView(self, root: TreeNode) -> List[int]:\n",
        "        if root is None:\n",
        "            return []\n",
        "        \n",
        "        next_level = deque([root,])\n",
        "        rightside = []\n",
        "        \n",
        "        while next_level:\n",
        "            # prepare for the next level\n",
        "            curr_level = next_level\n",
        "            next_level = deque()\n",
        "\n",
        "            while curr_level:\n",
        "                node = curr_level.popleft()\n",
        "                    \n",
        "                # add child nodes of the current level\n",
        "                # in the queue for the next level\n",
        "                if node.left:\n",
        "                    next_level.append(node.left)\n",
        "                if node.right:\n",
        "                    next_level.append(node.right)\n",
        "            \n",
        "            # The current level is finished."
      ],
      "metadata": {
        "id": "RN5s1PulMu1v"
      },
      "execution_count": null,
      "outputs": []
    }
  ]
}