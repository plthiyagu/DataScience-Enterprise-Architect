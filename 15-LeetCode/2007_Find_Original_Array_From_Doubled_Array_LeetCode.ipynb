{
  "nbformat": 4,
  "nbformat_minor": 0,
  "metadata": {
    "colab": {
      "provenance": [],
      "authorship_tag": "ABX9TyNo6YKjrtZdP2lvm8jNATEN",
      "include_colab_link": true
    },
    "kernelspec": {
      "name": "python3",
      "display_name": "Python 3"
    },
    "language_info": {
      "name": "python"
    }
  },
  "cells": [
    {
      "cell_type": "markdown",
      "metadata": {
        "id": "view-in-github",
        "colab_type": "text"
      },
      "source": [
        "<a href=\"https://colab.research.google.com/github/plthiyagu/AI-Engineering/blob/master/15-LeetCode/2007_Find_Original_Array_From_Doubled_Array_LeetCode.ipynb\" target=\"_parent\"><img src=\"https://colab.research.google.com/assets/colab-badge.svg\" alt=\"Open In Colab\"/></a>"
      ]
    },
    {
      "cell_type": "code",
      "execution_count": 3,
      "metadata": {
        "id": "0tVUAyj0MlfU"
      },
      "outputs": [],
      "source": [
        "from typing import List\n",
        "import collections\n",
        "class Solution:\n",
        "    def findOriginalArray(self, changed: List[int]) -> List[int]:\n",
        "        cnt, ans = collections.Counter(changed), []\n",
        "        for num in sorted(changed, key = lambda x: abs(x)):\n",
        "            if cnt[num] == 0: continue\n",
        "            if cnt[2*num] == 0: return []\n",
        "            ans += [num]\n",
        "            if num == 0 and cnt[num] <= 1: return []\n",
        "            cnt[num] -= 1\n",
        "            cnt[2*num] -= 1\n",
        "        \n",
        "        return ans"
      ]
    },
    {
      "cell_type": "code",
      "source": [
        "sol = Solution()\n",
        "changed = [1,3,4,2,6,8]\n",
        "sol.findOriginalArray(changed)"
      ],
      "metadata": {
        "colab": {
          "base_uri": "https://localhost:8080/"
        },
        "id": "RFlSlqJuMsQU",
        "outputId": "919b6b61-2fba-4471-cfcf-650e9274eaaf"
      },
      "execution_count": 4,
      "outputs": [
        {
          "output_type": "execute_result",
          "data": {
            "text/plain": [
              "[1, 3, 4]"
            ]
          },
          "metadata": {},
          "execution_count": 4
        }
      ]
    },
    {
      "cell_type": "code",
      "source": [],
      "metadata": {
        "id": "E9vyyUOxM4Y0"
      },
      "execution_count": null,
      "outputs": []
    }
  ]
}