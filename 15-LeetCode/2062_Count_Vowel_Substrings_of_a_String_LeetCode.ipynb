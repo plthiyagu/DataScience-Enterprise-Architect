{
  "nbformat": 4,
  "nbformat_minor": 0,
  "metadata": {
    "colab": {
      "name": "2062 Count Vowel Substrings of a String LeetCode.ipynb",
      "provenance": [],
      "authorship_tag": "ABX9TyMltWEQBEvj+hkOlWaW4SNi",
      "include_colab_link": true
    },
    "kernelspec": {
      "name": "python3",
      "display_name": "Python 3"
    },
    "language_info": {
      "name": "python"
    }
  },
  "cells": [
    {
      "cell_type": "markdown",
      "metadata": {
        "id": "view-in-github",
        "colab_type": "text"
      },
      "source": [
        "<a href=\"https://colab.research.google.com/github/plthiyagu/AI-Engineering/blob/master/15-LeetCode/2062_Count_Vowel_Substrings_of_a_String_LeetCode.ipynb\" target=\"_parent\"><img src=\"https://colab.research.google.com/assets/colab-badge.svg\" alt=\"Open In Colab\"/></a>"
      ]
    },
    {
      "cell_type": "code",
      "execution_count": 3,
      "metadata": {
        "id": "L8Rz-mdQmRy7"
      },
      "outputs": [],
      "source": [
        "import collections\n",
        "class Solution:\n",
        "    def countVowelSubstrings(self, word: str) -> int:\n",
        "        result =0\n",
        "        for L in range(5, len(word) + 1):\n",
        "            for i in range(len(word) - L + 1):\n",
        "                c = collections.Counter(word[i:i + L])\n",
        "                keys = c.keys()\n",
        "                if 'a' in keys and 'e' in keys and 'i' in keys and 'o' in keys and 'u' in keys and len(keys) == 5:\n",
        "                    result += 1\n",
        "        return result\n",
        "        "
      ]
    },
    {
      "cell_type": "code",
      "source": [
        "sol = Solution()\n",
        "word = \"aeiouu\"\n",
        "sol.countVowelSubstrings(word)"
      ],
      "metadata": {
        "colab": {
          "base_uri": "https://localhost:8080/"
        },
        "id": "XpHeaSFVmWYo",
        "outputId": "a668f5ba-f584-4d16-f07b-34c4c4f6f083"
      },
      "execution_count": 4,
      "outputs": [
        {
          "output_type": "execute_result",
          "data": {
            "text/plain": [
              "2"
            ]
          },
          "metadata": {},
          "execution_count": 4
        }
      ]
    },
    {
      "cell_type": "code",
      "source": [],
      "metadata": {
        "id": "1vbakkrEmdqt"
      },
      "execution_count": null,
      "outputs": []
    }
  ]
}