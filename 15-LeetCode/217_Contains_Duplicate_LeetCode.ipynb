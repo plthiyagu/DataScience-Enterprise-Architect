{
  "nbformat": 4,
  "nbformat_minor": 0,
  "metadata": {
    "colab": {
      "provenance": [],
      "authorship_tag": "ABX9TyMoWYVAPfR/VToVTO+Twodq",
      "include_colab_link": true
    },
    "kernelspec": {
      "name": "python3",
      "display_name": "Python 3"
    },
    "language_info": {
      "name": "python"
    }
  },
  "cells": [
    {
      "cell_type": "markdown",
      "metadata": {
        "id": "view-in-github",
        "colab_type": "text"
      },
      "source": [
        "<a href=\"https://colab.research.google.com/github/plthiyagu/DataScience-Enterprise-Architect/blob/master/15-LeetCode/217_Contains_Duplicate_LeetCode.ipynb\" target=\"_parent\"><img src=\"https://colab.research.google.com/assets/colab-badge.svg\" alt=\"Open In Colab\"/></a>"
      ]
    },
    {
      "cell_type": "code",
      "execution_count": 3,
      "metadata": {
        "id": "r_Epb3iSPwNf"
      },
      "outputs": [],
      "source": [
        "from typing import List\n",
        "class Solution:\n",
        "    def containsDuplicate(self, nums: List[int]) -> bool:\n",
        "        return len(set(nums)) != len(nums)"
      ]
    },
    {
      "cell_type": "code",
      "source": [
        "class Solution:\n",
        "    def containsDuplicate(self, nums: List[int]) -> bool:\n",
        "      n=len(nums)\n",
        "      for i in range(n-1):\n",
        "        for j in range(i+1,n):\n",
        "          if nums[i]== nums[j]:\n",
        "            return True\n",
        "      return False"
      ],
      "metadata": {
        "id": "Wz4VXmPkQ73q"
      },
      "execution_count": 5,
      "outputs": []
    },
    {
      "cell_type": "code",
      "source": [
        "class Solution:\n",
        "    def containsDuplicate(self, nums: List[int]) -> bool:\n",
        "      n=len(nums)\n",
        "      for i in range(n-1):\n",
        "        for j in range(i+1,n):\n",
        "          if nums[i]== nums[j]:\n",
        "            return True\n",
        "      return False"
      ],
      "metadata": {
        "id": "xx2eOjI1UFlR"
      },
      "execution_count": null,
      "outputs": []
    },
    {
      "cell_type": "code",
      "source": [
        "class Solution:\n",
        "    def containsDuplicate(self, nums: List[int]) -> bool:\n",
        "      nums.sort()\n",
        "      n= len(nums)\n",
        "      for i in range(1,n):\n",
        "        if nums[i]==nums[i-1]:\n",
        "          return True\n",
        "      return False"
      ],
      "metadata": {
        "id": "vtbpreUbVS_X"
      },
      "execution_count": 9,
      "outputs": []
    },
    {
      "cell_type": "code",
      "source": [
        "class Solution:\n",
        "    def containsDuplicate(self, nums: List[int]) -> bool:\n",
        "      seen= set()\n",
        "      for num in nums:\n",
        "        if num in seen:\n",
        "          return True\n",
        "        seen.add(num)\n",
        "      return False"
      ],
      "metadata": {
        "id": "_ZCb9h1sVw6S"
      },
      "execution_count": 11,
      "outputs": []
    },
    {
      "cell_type": "code",
      "source": [
        "class Solution:\n",
        "    def containsDuplicate(self, nums: List[int]) -> bool:\n",
        "      seen= {}\n",
        "      for num in nums:\n",
        "        if num in seen and seen[num]>=1:\n",
        "          return True\n",
        "        seen[num]= seen.get(num,0)+1\n",
        "      return False"
      ],
      "metadata": {
        "id": "V5kbKKhtWxFh"
      },
      "execution_count": 13,
      "outputs": []
    },
    {
      "cell_type": "code",
      "source": [
        "sol= Solution()\n",
        "input= [1,2,3,1]\n",
        "sol.containsDuplicate(input)"
      ],
      "metadata": {
        "colab": {
          "base_uri": "https://localhost:8080/"
        },
        "id": "HPYyoiVgPxWT",
        "outputId": "4ef3066e-d1f2-486c-c7ad-ba188d41c21a"
      },
      "execution_count": 14,
      "outputs": [
        {
          "output_type": "stream",
          "name": "stdout",
          "text": [
            "1\n",
            "1\n",
            "1\n"
          ]
        },
        {
          "output_type": "execute_result",
          "data": {
            "text/plain": [
              "True"
            ]
          },
          "metadata": {},
          "execution_count": 14
        }
      ]
    },
    {
      "cell_type": "code",
      "source": [],
      "metadata": {
        "id": "jXAW2VMGQEMQ"
      },
      "execution_count": null,
      "outputs": []
    }
  ]
}