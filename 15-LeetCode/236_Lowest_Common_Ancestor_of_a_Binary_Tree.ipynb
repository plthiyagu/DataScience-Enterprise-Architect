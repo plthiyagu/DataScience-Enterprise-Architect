{
  "nbformat": 4,
  "nbformat_minor": 0,
  "metadata": {
    "colab": {
      "provenance": [],
      "authorship_tag": "ABX9TyPaJwa8NBOLIfoBWvP1bZxg",
      "include_colab_link": true
    },
    "kernelspec": {
      "name": "python3",
      "display_name": "Python 3"
    },
    "language_info": {
      "name": "python"
    }
  },
  "cells": [
    {
      "cell_type": "markdown",
      "metadata": {
        "id": "view-in-github",
        "colab_type": "text"
      },
      "source": [
        "<a href=\"https://colab.research.google.com/github/plthiyagu/AI-Engineering/blob/master/15-LeetCode/236_Lowest_Common_Ancestor_of_a_Binary_Tree.ipynb\" target=\"_parent\"><img src=\"https://colab.research.google.com/assets/colab-badge.svg\" alt=\"Open In Colab\"/></a>"
      ]
    },
    {
      "cell_type": "code",
      "execution_count": null,
      "metadata": {
        "id": "tKE8bCCqB1s3"
      },
      "outputs": [],
      "source": [
        "# Definition for a binary tree node.\n",
        "class TreeNode:\n",
        "    def __init__(self, x):\n",
        "        self.val = x\n",
        "        self.left = None\n",
        "        self.right = None\n",
        "\n",
        "class Solution:\n",
        "    def lowestCommonAncestor(self, root: 'TreeNode', p: 'TreeNode', q: 'TreeNode') -> 'TreeNode':\n",
        "        \n",
        "        def recurse_tree(current_node):\n",
        "            \n",
        "            if not current_node:\n",
        "                return False\n",
        "            \n",
        "            left= recurse_tree(current_node.left)\n",
        "            \n",
        "            right = recurse_tree(current_node.right)\n",
        "            \n",
        "            \n",
        "            mid= current_node==p or current_node ==q\n",
        "            \n",
        "            \n",
        "            if mid +left+right >= 2:\n",
        "                self.ans= current_node\n",
        "            return mid or left or right\n",
        "            \n",
        "        recurse_tree(root)\n",
        "        return self.ans\n",
        "        "
      ]
    }
  ]
}