{
  "nbformat": 4,
  "nbformat_minor": 0,
  "metadata": {
    "colab": {
      "provenance": [],
      "authorship_tag": "ABX9TyOVL1RhJD68tkABuix2MXI8",
      "include_colab_link": true
    },
    "kernelspec": {
      "name": "python3",
      "display_name": "Python 3"
    },
    "language_info": {
      "name": "python"
    }
  },
  "cells": [
    {
      "cell_type": "markdown",
      "metadata": {
        "id": "view-in-github",
        "colab_type": "text"
      },
      "source": [
        "<a href=\"https://colab.research.google.com/github/plthiyagu/AI-Engineering/blob/master/15-LeetCode/2390_Removing_Stars_From_a_String.ipynb\" target=\"_parent\"><img src=\"https://colab.research.google.com/assets/colab-badge.svg\" alt=\"Open In Colab\"/></a>"
      ]
    },
    {
      "cell_type": "code",
      "execution_count": 1,
      "metadata": {
        "id": "QIMq-RTLIQMM"
      },
      "outputs": [],
      "source": [
        "class Solution:\n",
        "    def removeStars(self, s: str) -> str:\n",
        "        stack = []\n",
        "        for letter in s:\n",
        "            if letter != '*':\n",
        "                stack.append(letter)\n",
        "            else:\n",
        "                stack.pop()\n",
        "        \n",
        "        if stack == []:\n",
        "            return \"\"\n",
        "        else:\n",
        "            return ''.join(stack)\n",
        "        "
      ]
    },
    {
      "cell_type": "code",
      "source": [
        "sol = Solution()\n",
        "s = \"leet**cod*e\"\n",
        "sol.removeStars(s)"
      ],
      "metadata": {
        "colab": {
          "base_uri": "https://localhost:8080/",
          "height": 35
        },
        "id": "9zAIkuUdIaxf",
        "outputId": "7675c1c3-e1c0-4f0f-b7c4-f823d97acbbd"
      },
      "execution_count": 2,
      "outputs": [
        {
          "output_type": "execute_result",
          "data": {
            "text/plain": [
              "'lecoe'"
            ],
            "application/vnd.google.colaboratory.intrinsic+json": {
              "type": "string"
            }
          },
          "metadata": {},
          "execution_count": 2
        }
      ]
    },
    {
      "cell_type": "code",
      "source": [],
      "metadata": {
        "id": "TpLfDW38IjhF"
      },
      "execution_count": null,
      "outputs": []
    }
  ]
}