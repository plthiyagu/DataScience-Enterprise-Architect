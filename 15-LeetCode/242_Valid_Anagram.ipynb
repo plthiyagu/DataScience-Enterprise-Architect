{
  "nbformat": 4,
  "nbformat_minor": 0,
  "metadata": {
    "colab": {
      "provenance": [],
      "authorship_tag": "ABX9TyOOPqcKpWd6OSGXPZkKA8ke",
      "include_colab_link": true
    },
    "kernelspec": {
      "name": "python3",
      "display_name": "Python 3"
    },
    "language_info": {
      "name": "python"
    }
  },
  "cells": [
    {
      "cell_type": "markdown",
      "metadata": {
        "id": "view-in-github",
        "colab_type": "text"
      },
      "source": [
        "<a href=\"https://colab.research.google.com/github/plthiyagu/AI-Engineering/blob/master/15-LeetCode/242_Valid_Anagram.ipynb\" target=\"_parent\"><img src=\"https://colab.research.google.com/assets/colab-badge.svg\" alt=\"Open In Colab\"/></a>"
      ]
    },
    {
      "cell_type": "code",
      "execution_count": 5,
      "metadata": {
        "id": "7JZ3sZ41vdil"
      },
      "outputs": [],
      "source": [
        "class Solution:\n",
        "    def isAnagram(self, s: str, t: str) -> bool:\n",
        "      if len(s) != len(t):\n",
        "        return False\n",
        "\n",
        "      counter= {}\n",
        "      for char in s:\n",
        "        if char not in counter:\n",
        "          counter[char] =1\n",
        "        else:\n",
        "          counter[char] +=1\n",
        "      for char in t:\n",
        "        if char not in counter:\n",
        "          return False\n",
        "        else:\n",
        "          counter[char] -=1\n",
        "      for key, value in counter.items():\n",
        "        if value != 0:\n",
        "          return False\n",
        "      return True\n"
      ]
    },
    {
      "cell_type": "code",
      "source": [
        "# Time complexity: O(N).\n",
        "# Space complexity: O(1). The space complexity is O(1) because the table’s size stays constant no matter how large n is."
      ],
      "metadata": {
        "id": "ZjENZQ_Tvh4J"
      },
      "execution_count": null,
      "outputs": []
    },
    {
      "cell_type": "code",
      "source": [
        "s = \"anagram\"\n",
        "t = \"nagaram\"\n",
        "sol= Solution()\n",
        "sol.isAnagram(s,t)"
      ],
      "metadata": {
        "colab": {
          "base_uri": "https://localhost:8080/"
        },
        "id": "hpegd93Tvh-g",
        "outputId": "85486a79-1bdf-4f86-c005-3519c5d2b9f8"
      },
      "execution_count": 6,
      "outputs": [
        {
          "output_type": "execute_result",
          "data": {
            "text/plain": [
              "True"
            ]
          },
          "metadata": {},
          "execution_count": 6
        }
      ]
    },
    {
      "cell_type": "code",
      "source": [],
      "metadata": {
        "id": "GkXCfVR3xdxw"
      },
      "execution_count": null,
      "outputs": []
    },
    {
      "cell_type": "code",
      "source": [],
      "metadata": {
        "id": "BbaLT1aNviD1"
      },
      "execution_count": null,
      "outputs": []
    }
  ]
}