{
  "nbformat": 4,
  "nbformat_minor": 0,
  "metadata": {
    "colab": {
      "provenance": [],
      "collapsed_sections": [],
      "authorship_tag": "ABX9TyNzWQRRCGkBwbGBWUGVDdv6",
      "include_colab_link": true
    },
    "kernelspec": {
      "name": "python3",
      "display_name": "Python 3"
    },
    "language_info": {
      "name": "python"
    }
  },
  "cells": [
    {
      "cell_type": "markdown",
      "metadata": {
        "id": "view-in-github",
        "colab_type": "text"
      },
      "source": [
        "<a href=\"https://colab.research.google.com/github/plthiyagu/AI-Engineering/blob/master/15-LeetCode/346_Moving_Average_from_Data_Stream.ipynb\" target=\"_parent\"><img src=\"https://colab.research.google.com/assets/colab-badge.svg\" alt=\"Open In Colab\"/></a>"
      ]
    },
    {
      "cell_type": "code",
      "execution_count": 1,
      "metadata": {
        "id": "LTQSU53rqYYx"
      },
      "outputs": [],
      "source": [
        "class MovingAverage:\n",
        "\n",
        "    def __init__(self, size: int):\n",
        "        self.size= size\n",
        "        self.queue= []\n",
        "        \n",
        "        \n",
        "\n",
        "    def next(self, val: int) -> float:\n",
        "        size,queue = self.size,self.queue\n",
        "        queue.append(val)        \n",
        "        window_sum = sum(queue[-size:])        \n",
        "        \n",
        "        return window_sum/min(len(queue),size)\n",
        "\n",
        "\n",
        "# Your MovingAverage object will be instantiated and called as such:\n",
        "# obj = MovingAverage(size)\n",
        "# param_1 = obj.next(val)"
      ]
    },
    {
      "cell_type": "code",
      "source": [
        "movingAverage = MovingAverage(3);\n",
        "movingAverage.next(1) # // return 1.0 = 1 / 1\n",
        "movingAverage.next(10) # // return 5.5 = (1 + 10) / 2\n",
        "movingAverage.next(3) # // return 4.66667 = (1 + 10 + 3) / 3\n",
        "movingAverage.next(5)# // return 6.0 = (10 + 3 + 5) / 3"
      ],
      "metadata": {
        "colab": {
          "base_uri": "https://localhost:8080/"
        },
        "id": "92kkvzF2qoTj",
        "outputId": "ec1b4605-d0be-47c5-9fdb-5b22343d88ab"
      },
      "execution_count": 2,
      "outputs": [
        {
          "output_type": "execute_result",
          "data": {
            "text/plain": [
              "6.0"
            ]
          },
          "metadata": {},
          "execution_count": 2
        }
      ]
    },
    {
      "cell_type": "code",
      "source": [
        "# Complexity\n",
        "\n",
        "# Time Complexity: \\mathcal{O}(N)O(N) where NN is the size of the moving window, since we need to retrieve NN elements from the queue at each invocation of next(val) function.\n",
        "# Space Complexity: \\mathcal{O}(M)O(M), where MM is the length of the queue which would grow at each invocation of the next(val) function."
      ],
      "metadata": {
        "id": "1QpTX2H7q5pi"
      },
      "execution_count": 3,
      "outputs": []
    },
    {
      "cell_type": "code",
      "source": [
        "class MovingAverage:\n",
        "\n",
        "    def __init__(self, size: int):\n",
        "        self.size= size\n",
        "        self.queue= deque()\n",
        "        self.window_sum =0\n",
        "        self.count =0\n",
        "        \n",
        "        \n",
        "\n",
        "    def next(self, val: int) -> float:\n",
        "        self.count +=1\n",
        "        self.queue.append(val)\n",
        "        tail = self.queue.popleft() if self.count > self.size else 0\n",
        "        self.window_sum =self.window_sum - tail + val\n",
        "        return self.window_sum / min(self.size,self.count)\n",
        "       \n",
        "\n",
        "# Your MovingAverage object will be instantiated and called as such:\n",
        "# obj = MovingAverage(size)\n",
        "# param_1 = obj.next(val)"
      ],
      "metadata": {
        "id": "p8aTydnVq6n9"
      },
      "execution_count": null,
      "outputs": []
    },
    {
      "cell_type": "code",
      "source": [
        "class MovingAverage:\n",
        "    def __init__(self, size: int):\n",
        "        self.size = size\n",
        "        self.queue = [0] * self.size\n",
        "        self.head = self.window_sum = 0\n",
        "        # number of elements seen so far\n",
        "        self.count = 0\n",
        "\n",
        "    def next(self, val: int) -> float:\n",
        "        self.count += 1\n",
        "        # calculate the new sum by shifting the window\n",
        "        tail = (self.head + 1) % self.size\n",
        "        self.window_sum = self.window_sum - self.queue[tail] + val\n",
        "        # move on to the next head\n",
        "        self.head = (self.head + 1) % self.size\n",
        "        self.queue[self.head] = val\n",
        "        return self.window_sum / min(self.size, self.count)"
      ],
      "metadata": {
        "id": "qLhdG-d_rxn2"
      },
      "execution_count": null,
      "outputs": []
    }
  ]
}