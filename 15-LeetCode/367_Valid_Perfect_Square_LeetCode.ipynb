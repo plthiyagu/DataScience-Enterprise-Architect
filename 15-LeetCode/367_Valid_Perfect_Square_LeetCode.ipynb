{
  "nbformat": 4,
  "nbformat_minor": 0,
  "metadata": {
    "colab": {
      "name": "367 Valid Perfect Square LeetCode.ipynb",
      "provenance": [],
      "authorship_tag": "ABX9TyPQ7VEtP6VvCx+RyDY7y9M0",
      "include_colab_link": true
    },
    "kernelspec": {
      "name": "python3",
      "display_name": "Python 3"
    },
    "language_info": {
      "name": "python"
    }
  },
  "cells": [
    {
      "cell_type": "markdown",
      "metadata": {
        "id": "view-in-github",
        "colab_type": "text"
      },
      "source": [
        "<a href=\"https://colab.research.google.com/github/plthiyagu/AI-Engineering/blob/master/15-LeetCode/367_Valid_Perfect_Square_LeetCode.ipynb\" target=\"_parent\"><img src=\"https://colab.research.google.com/assets/colab-badge.svg\" alt=\"Open In Colab\"/></a>"
      ]
    },
    {
      "cell_type": "code",
      "execution_count": 2,
      "metadata": {
        "id": "-JIWq_o66a-m"
      },
      "outputs": [],
      "source": [
        "class Solution:\n",
        "    def isPerfectSquare(self, num: int) -> bool:\n",
        "        if num <2:\n",
        "            return True\n",
        "        left,right = 2,num//2\n",
        "        \n",
        "        while left <=right:\n",
        "            x= left + (right-left) //2\n",
        "            guess_squared = x*x\n",
        "            if guess_squared ==num:\n",
        "                return True\n",
        "            if guess_squared >num:\n",
        "                right = x-1\n",
        "            else:\n",
        "                left = x +1\n",
        "        return False"
      ]
    },
    {
      "cell_type": "code",
      "source": [
        "num=16\n",
        "sol = Solution()\n",
        "sol.isPerfectSquare(num)"
      ],
      "metadata": {
        "colab": {
          "base_uri": "https://localhost:8080/"
        },
        "id": "oZaaOunb7LZU",
        "outputId": "83f6f562-d0ae-4c90-ed3d-a27b137943df"
      },
      "execution_count": 3,
      "outputs": [
        {
          "output_type": "execute_result",
          "data": {
            "text/plain": [
              "True"
            ]
          },
          "metadata": {},
          "execution_count": 3
        }
      ]
    },
    {
      "cell_type": "code",
      "source": [
        ""
      ],
      "metadata": {
        "id": "DWNBg-hK7eut"
      },
      "execution_count": null,
      "outputs": []
    },
    {
      "cell_type": "code",
      "source": [
        ""
      ],
      "metadata": {
        "id": "mp_KMQTw6dxB"
      },
      "execution_count": null,
      "outputs": []
    }
  ]
}