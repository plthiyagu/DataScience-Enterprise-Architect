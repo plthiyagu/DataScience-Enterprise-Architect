{
  "nbformat": 4,
  "nbformat_minor": 0,
  "metadata": {
    "colab": {
      "provenance": [],
      "authorship_tag": "ABX9TyMAAQc8/lLFossnq9TI4niR",
      "include_colab_link": true
    },
    "kernelspec": {
      "name": "python3",
      "display_name": "Python 3"
    },
    "language_info": {
      "name": "python"
    }
  },
  "cells": [
    {
      "cell_type": "markdown",
      "metadata": {
        "id": "view-in-github",
        "colab_type": "text"
      },
      "source": [
        "<a href=\"https://colab.research.google.com/github/plthiyagu/AI-Engineering/blob/master/15-LeetCode/386_Lexicographical_Numbers_LeetCode.ipynb\" target=\"_parent\"><img src=\"https://colab.research.google.com/assets/colab-badge.svg\" alt=\"Open In Colab\"/></a>"
      ]
    },
    {
      "cell_type": "code",
      "execution_count": 2,
      "metadata": {
        "id": "6TZZO3gTR0S9"
      },
      "outputs": [],
      "source": [
        "from typing import List\n",
        "class Solution:\n",
        "    def lexicalOrder(self, n: int) -> List[int]:\n",
        "        my_nums= [str(i) for i in range(1,n+1)]\n",
        "        my_nums= list(sorted(my_nums))        \n",
        "        return my_nums"
      ]
    },
    {
      "cell_type": "code",
      "source": [
        "sol = Solution()\n",
        "n = 13\n",
        "sol.lexicalOrder(n)"
      ],
      "metadata": {
        "colab": {
          "base_uri": "https://localhost:8080/"
        },
        "id": "tk7icDChR4KS",
        "outputId": "e13c4f8c-5462-4f29-8b50-0dca5a3cfeca"
      },
      "execution_count": 3,
      "outputs": [
        {
          "output_type": "execute_result",
          "data": {
            "text/plain": [
              "['1', '10', '11', '12', '13', '2', '3', '4', '5', '6', '7', '8', '9']"
            ]
          },
          "metadata": {},
          "execution_count": 3
        }
      ]
    },
    {
      "cell_type": "code",
      "source": [],
      "metadata": {
        "id": "tO_O9FQSSYOI"
      },
      "execution_count": null,
      "outputs": []
    }
  ]
}