{
  "nbformat": 4,
  "nbformat_minor": 0,
  "metadata": {
    "colab": {
      "provenance": [],
      "collapsed_sections": [],
      "authorship_tag": "ABX9TyM7W+yO3N4q4dL9I64fujo2",
      "include_colab_link": true
    },
    "kernelspec": {
      "name": "python3",
      "display_name": "Python 3"
    },
    "language_info": {
      "name": "python"
    }
  },
  "cells": [
    {
      "cell_type": "markdown",
      "metadata": {
        "id": "view-in-github",
        "colab_type": "text"
      },
      "source": [
        "<a href=\"https://colab.research.google.com/github/plthiyagu/AI-Engineering/blob/master/15-LeetCode/387_First_Unique_Character_in_a_String.ipynb\" target=\"_parent\"><img src=\"https://colab.research.google.com/assets/colab-badge.svg\" alt=\"Open In Colab\"/></a>"
      ]
    },
    {
      "cell_type": "code",
      "execution_count": 1,
      "metadata": {
        "id": "RsriFASCTBm3"
      },
      "outputs": [],
      "source": [
        "import collections\n",
        "class Solution:\n",
        "    def firstUniqChar(self, s: str) -> int:\n",
        "     count = collections.Counter(s)\n",
        "     for index, char in enumerate(s):\n",
        "       if count[char] ==1:\n",
        "         return index\n",
        "     return -1"
      ]
    },
    {
      "cell_type": "code",
      "source": [
        "import collections\n",
        "class Solution:\n",
        "    def firstUniqChar(self, s: str) -> int:\n",
        "      count = {}\n",
        "      for char in s:\n",
        "        count[char] = count.get(char,0) +1\n",
        "\n",
        "      for i,char in enumerate(s):\n",
        "        if count[char] ==1:\n",
        "          return i\n",
        "      return -1"
      ],
      "metadata": {
        "id": "RNKXa9FMVz0S"
      },
      "execution_count": 5,
      "outputs": []
    },
    {
      "cell_type": "code",
      "source": [
        "s = \"leetcode\"\n",
        "sol = Solution()\n",
        "sol.firstUniqChar(s)"
      ],
      "metadata": {
        "colab": {
          "base_uri": "https://localhost:8080/"
        },
        "id": "wwiN40oBU8dE",
        "outputId": "05035159-383d-40a5-9285-257bd55186f8"
      },
      "execution_count": 6,
      "outputs": [
        {
          "output_type": "execute_result",
          "data": {
            "text/plain": [
              "0"
            ]
          },
          "metadata": {},
          "execution_count": 6
        }
      ]
    },
    {
      "cell_type": "code",
      "source": [],
      "metadata": {
        "id": "JOhLLRYtWCeu"
      },
      "execution_count": null,
      "outputs": []
    }
  ]
}