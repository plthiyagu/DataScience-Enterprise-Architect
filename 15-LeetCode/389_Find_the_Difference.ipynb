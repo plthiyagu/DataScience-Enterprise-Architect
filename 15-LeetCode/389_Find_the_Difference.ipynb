{
  "nbformat": 4,
  "nbformat_minor": 0,
  "metadata": {
    "colab": {
      "provenance": [],
      "collapsed_sections": [],
      "authorship_tag": "ABX9TyMgld50VoCj/8/jrR0HIwRH",
      "include_colab_link": true
    },
    "kernelspec": {
      "name": "python3",
      "display_name": "Python 3"
    },
    "language_info": {
      "name": "python"
    }
  },
  "cells": [
    {
      "cell_type": "markdown",
      "metadata": {
        "id": "view-in-github",
        "colab_type": "text"
      },
      "source": [
        "<a href=\"https://colab.research.google.com/github/plthiyagu/AI-Engineering/blob/master/15-LeetCode/389_Find_the_Difference.ipynb\" target=\"_parent\"><img src=\"https://colab.research.google.com/assets/colab-badge.svg\" alt=\"Open In Colab\"/></a>"
      ]
    },
    {
      "cell_type": "code",
      "source": [
        "import collections"
      ],
      "metadata": {
        "id": "NUnILuF2UsTS"
      },
      "execution_count": 7,
      "outputs": []
    },
    {
      "cell_type": "code",
      "execution_count": 3,
      "metadata": {
        "id": "RUzGKgepTjuX"
      },
      "outputs": [],
      "source": [
        "class Solution:\n",
        "    def findTheDifference(self, s: str, t: str) -> str:\n",
        "        sorted_s = sorted(s)\n",
        "        sorted_t = sorted(t)\n",
        "        i=0\n",
        "        while i < len(s):\n",
        "          if sorted_s[i] != sorted_t[i]:\n",
        "            return sorted_t[i]\n",
        "          i +=1\n",
        "        return sorted_t[i]\n",
        "        "
      ]
    },
    {
      "cell_type": "code",
      "source": [
        "# Complexity Analysis\n",
        "\n",
        "# Time Complexity: O(Nlog(N))O(Nlog(N)), where NN is length of the strings. Sorting is the most expensive operation of this algorithm. Sorting would take O(Nlog(N))O(Nlog(N)) time. Iterating both the strings for character by character comparison would take another O(N)O(N) time.\n",
        "\n",
        "# Space Complexity: O(N)O(N). The sorted character arrays would take O(N)O(N) each. An important thing to note here is that we are converting the String in java to an array first and then sorting it. That's what takes the additional space. In Python, we can just sort the given input inplace by using the sort method. If you can get around the conversion to a temporary array in Java as well, then we will have an O(1)O(1) solution here."
      ],
      "metadata": {
        "id": "B4Go-0v0TnmH"
      },
      "execution_count": 4,
      "outputs": []
    },
    {
      "cell_type": "code",
      "source": [
        "class Solution:\n",
        "    def findTheDifference(self, s: str, t: str) -> str:\n",
        "      counter_s= collections.Counter(s)\n",
        "      for char in t:\n",
        "        if char not in counter_s or counter_s[char]==0:\n",
        "          return char\n",
        "        else:\n",
        "          counter_s[char]\n",
        "\n"
      ],
      "metadata": {
        "id": "xdK4rGlCUVMT"
      },
      "execution_count": 8,
      "outputs": []
    },
    {
      "cell_type": "code",
      "source": [
        "sol = Solution()\n",
        "s = \"abcd\"\n",
        "t = \"abcde\"\n",
        "sol.findTheDifference(s,t)"
      ],
      "metadata": {
        "colab": {
          "base_uri": "https://localhost:8080/",
          "height": 35
        },
        "id": "1e6GyVQcTnwJ",
        "outputId": "cddd28e9-8646-4c10-f125-5d835a93faed"
      },
      "execution_count": 9,
      "outputs": [
        {
          "output_type": "execute_result",
          "data": {
            "text/plain": [
              "'e'"
            ],
            "application/vnd.google.colaboratory.intrinsic+json": {
              "type": "string"
            }
          },
          "metadata": {},
          "execution_count": 9
        }
      ]
    },
    {
      "cell_type": "code",
      "source": [],
      "metadata": {
        "id": "P4TVliGRTxcE"
      },
      "execution_count": null,
      "outputs": []
    }
  ]
}