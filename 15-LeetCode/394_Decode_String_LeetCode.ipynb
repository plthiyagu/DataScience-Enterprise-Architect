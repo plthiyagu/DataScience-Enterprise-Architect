{
  "nbformat": 4,
  "nbformat_minor": 0,
  "metadata": {
    "colab": {
      "provenance": [],
      "authorship_tag": "ABX9TyODLGxzpgr1MiTj6UJMa7/C",
      "include_colab_link": true
    },
    "kernelspec": {
      "name": "python3",
      "display_name": "Python 3"
    },
    "language_info": {
      "name": "python"
    }
  },
  "cells": [
    {
      "cell_type": "markdown",
      "metadata": {
        "id": "view-in-github",
        "colab_type": "text"
      },
      "source": [
        "<a href=\"https://colab.research.google.com/github/plthiyagu/AI-Engineering/blob/master/15-LeetCode/394_Decode_String_LeetCode.ipynb\" target=\"_parent\"><img src=\"https://colab.research.google.com/assets/colab-badge.svg\" alt=\"Open In Colab\"/></a>"
      ]
    },
    {
      "cell_type": "code",
      "execution_count": 1,
      "metadata": {
        "id": "rqi75zocZAzX"
      },
      "outputs": [],
      "source": [
        "class Solution:\n",
        "    def decodeString(self, s: str) -> str:\n",
        "        num =0\n",
        "        string = ''\n",
        "        stack =[]\n",
        "        for c in s:\n",
        "            if c.isdigit():\n",
        "                num = num *10 + int(c)\n",
        "            elif c =='[':\n",
        "                stack.append(string)\n",
        "                stack.append(num)\n",
        "                string =''\n",
        "                num =0\n",
        "            elif c.isalpha():\n",
        "                string += c\n",
        "            elif c == ']':\n",
        "                pre_num = stack.pop()\n",
        "                pre_string = stack.pop()\n",
        "                string = pre_string + pre_num * string\n",
        "        return string"
      ]
    },
    {
      "cell_type": "code",
      "source": [
        "sol = Solution()\n",
        "s = \"3[a]2[bc]\"\n",
        "sol.decodeString(s)"
      ],
      "metadata": {
        "colab": {
          "base_uri": "https://localhost:8080/",
          "height": 35
        },
        "id": "RQ0bMICxZDhB",
        "outputId": "b28eae67-53e0-4c64-f17b-d4f7d605ff8d"
      },
      "execution_count": 2,
      "outputs": [
        {
          "output_type": "execute_result",
          "data": {
            "text/plain": [
              "'aaabcbc'"
            ],
            "application/vnd.google.colaboratory.intrinsic+json": {
              "type": "string"
            }
          },
          "metadata": {},
          "execution_count": 2
        }
      ]
    },
    {
      "cell_type": "code",
      "source": [],
      "metadata": {
        "id": "KRwLHLYvZMgq"
      },
      "execution_count": null,
      "outputs": []
    }
  ]
}