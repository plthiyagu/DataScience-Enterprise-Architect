{
  "nbformat": 4,
  "nbformat_minor": 0,
  "metadata": {
    "colab": {
      "provenance": [],
      "authorship_tag": "ABX9TyOrLnYfsZxgh7MwSn1mT3Ch",
      "include_colab_link": true
    },
    "kernelspec": {
      "name": "python3",
      "display_name": "Python 3"
    },
    "language_info": {
      "name": "python"
    }
  },
  "cells": [
    {
      "cell_type": "markdown",
      "metadata": {
        "id": "view-in-github",
        "colab_type": "text"
      },
      "source": [
        "<a href=\"https://colab.research.google.com/github/plthiyagu/AI-Engineering/blob/master/15-LeetCode/404_Sum_of_Left_Leaves.ipynb\" target=\"_parent\"><img src=\"https://colab.research.google.com/assets/colab-badge.svg\" alt=\"Open In Colab\"/></a>"
      ]
    },
    {
      "cell_type": "code",
      "execution_count": null,
      "metadata": {
        "id": "6zgZiOxx5q_i"
      },
      "outputs": [],
      "source": [
        "# Definition for a binary tree node.\n",
        "class TreeNode:\n",
        "    def __init__(self, val=0, left=None, right=None):\n",
        "        self.val = val\n",
        "        self.left = left\n",
        "        self.right = right\n",
        "class Solution:\n",
        "    def sumOfLeftLeaves(self, root: Optional[TreeNode]) -> int:\n",
        "        \n",
        "        if root is None:\n",
        "            return 0\n",
        "        def is_leaf(node):\n",
        "            return node is not None and node.left is None and node.right is None\n",
        "        \n",
        "        stack = [root]\n",
        "        total = 0\n",
        "        while stack:\n",
        "            sub_root = stack.pop()\n",
        "            if is_leaf(sub_root.left):\n",
        "                total += sub_root.left.val\n",
        "            if sub_root.right is not None:\n",
        "                stack.append(sub_root.right)\n",
        "            if sub_root.left is not None:\n",
        "                stack.append(sub_root.left)\n",
        "        return total\n",
        "        "
      ]
    },
    {
      "cell_type": "code",
      "source": [],
      "metadata": {
        "id": "YU4nSSUK5tsP"
      },
      "execution_count": null,
      "outputs": []
    }
  ]
}