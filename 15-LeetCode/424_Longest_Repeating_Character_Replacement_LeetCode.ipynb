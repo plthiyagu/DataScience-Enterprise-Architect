{
  "nbformat": 4,
  "nbformat_minor": 0,
  "metadata": {
    "colab": {
      "provenance": [],
      "authorship_tag": "ABX9TyOouJz4PXCA1RIQ3d6Svx0a",
      "include_colab_link": true
    },
    "kernelspec": {
      "name": "python3",
      "display_name": "Python 3"
    },
    "language_info": {
      "name": "python"
    }
  },
  "cells": [
    {
      "cell_type": "markdown",
      "metadata": {
        "id": "view-in-github",
        "colab_type": "text"
      },
      "source": [
        "<a href=\"https://colab.research.google.com/github/plthiyagu/AI-Engineering/blob/master/15-LeetCode/424_Longest_Repeating_Character_Replacement_LeetCode.ipynb\" target=\"_parent\"><img src=\"https://colab.research.google.com/assets/colab-badge.svg\" alt=\"Open In Colab\"/></a>"
      ]
    },
    {
      "cell_type": "code",
      "execution_count": 3,
      "metadata": {
        "id": "pYyPt76Az9O0"
      },
      "outputs": [],
      "source": [
        "import collections\n",
        "class Solution:\n",
        "    def characterReplacement(self, s: str, k: int) -> int:\n",
        "        result,maxcount =0,0\n",
        "        count = collections.Counter()\n",
        "        for i in range(len(s)):\n",
        "            count[s[i]] += 1\n",
        "            maxcount = max(maxcount, count[s[i]])\n",
        "            if result - maxcount >= k:\n",
        "                count[s[i-result]] -= 1\n",
        "            else:\n",
        "                result +=1\n",
        "        return result"
      ]
    },
    {
      "cell_type": "code",
      "source": [
        "sol = Solution()\n",
        "s,k = \"ABAB\",  2\n",
        "sol.characterReplacement(s,k)\n"
      ],
      "metadata": {
        "colab": {
          "base_uri": "https://localhost:8080/"
        },
        "id": "Jq8eVfQsz-S9",
        "outputId": "147fbdbc-1b4c-415c-8b45-30d94eada2ab"
      },
      "execution_count": 4,
      "outputs": [
        {
          "output_type": "execute_result",
          "data": {
            "text/plain": [
              "4"
            ]
          },
          "metadata": {},
          "execution_count": 4
        }
      ]
    },
    {
      "cell_type": "code",
      "source": [],
      "metadata": {
        "id": "V0DxVPzk0IX9"
      },
      "execution_count": null,
      "outputs": []
    }
  ]
}