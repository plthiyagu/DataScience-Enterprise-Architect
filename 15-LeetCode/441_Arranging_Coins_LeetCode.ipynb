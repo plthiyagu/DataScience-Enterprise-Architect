{
  "nbformat": 4,
  "nbformat_minor": 0,
  "metadata": {
    "colab": {
      "name": "441 Arranging Coins LeetCode.ipynb",
      "provenance": [],
      "collapsed_sections": [],
      "authorship_tag": "ABX9TyOhHBABPLbUmejmyrQzfd6m",
      "include_colab_link": true
    },
    "kernelspec": {
      "name": "python3",
      "display_name": "Python 3"
    },
    "language_info": {
      "name": "python"
    }
  },
  "cells": [
    {
      "cell_type": "markdown",
      "metadata": {
        "id": "view-in-github",
        "colab_type": "text"
      },
      "source": [
        "<a href=\"https://colab.research.google.com/github/plthiyagu/AI-Engineering/blob/master/15-LeetCode/441_Arranging_Coins_LeetCode.ipynb\" target=\"_parent\"><img src=\"https://colab.research.google.com/assets/colab-badge.svg\" alt=\"Open In Colab\"/></a>"
      ]
    },
    {
      "cell_type": "code",
      "execution_count": 1,
      "metadata": {
        "id": "WG7tWgnGAgwv"
      },
      "outputs": [],
      "source": [
        "class Solution:\n",
        "    def arrangeCoins(self, n: int) -> int:\n",
        "        return (int)((2*n+0.25)**0.5-0.5)"
      ]
    },
    {
      "cell_type": "code",
      "source": [
        "n = 8\n",
        "sol = Solution()\n",
        "sol.arrangeCoins(n)"
      ],
      "metadata": {
        "colab": {
          "base_uri": "https://localhost:8080/"
        },
        "id": "ehq1sv2-Mar7",
        "outputId": "db4490d6-77de-490c-a0c6-718702ae92a5"
      },
      "execution_count": 3,
      "outputs": [
        {
          "output_type": "execute_result",
          "data": {
            "text/plain": [
              "3"
            ]
          },
          "metadata": {},
          "execution_count": 3
        }
      ]
    },
    {
      "cell_type": "code",
      "source": [
        "class Solution:\n",
        "    def arrangeCoins(self, n: int) -> int:\n",
        "      left,right =0,n\n",
        "      while left <= right:\n",
        "        k= (right+left)//2\n",
        "        curr = k * (k+1)//2\n",
        "        if curr == n:\n",
        "          return k\n",
        "        if n < curr:\n",
        "          right = k-1\n",
        "        else:\n",
        "          left = k +1\n",
        "      return right\n",
        "       "
      ],
      "metadata": {
        "id": "hRgy4U4kAh2c"
      },
      "execution_count": 4,
      "outputs": []
    },
    {
      "cell_type": "code",
      "source": [
        "n = 8\n",
        "sol = Solution()\n",
        "sol.arrangeCoins(n)"
      ],
      "metadata": {
        "colab": {
          "base_uri": "https://localhost:8080/"
        },
        "id": "qrsEOQ3iMWD5",
        "outputId": "fdfa78b8-6701-4dbb-e779-08ebdf5b989e"
      },
      "execution_count": 5,
      "outputs": [
        {
          "output_type": "execute_result",
          "data": {
            "text/plain": [
              "3"
            ]
          },
          "metadata": {},
          "execution_count": 5
        }
      ]
    }
  ]
}