{
  "nbformat": 4,
  "nbformat_minor": 0,
  "metadata": {
    "colab": {
      "provenance": [],
      "authorship_tag": "ABX9TyOJHVLPyjU/qRTVOIJa+T8G",
      "include_colab_link": true
    },
    "kernelspec": {
      "name": "python3",
      "display_name": "Python 3"
    },
    "language_info": {
      "name": "python"
    }
  },
  "cells": [
    {
      "cell_type": "markdown",
      "metadata": {
        "id": "view-in-github",
        "colab_type": "text"
      },
      "source": [
        "<a href=\"https://colab.research.google.com/github/plthiyagu/AI-Engineering/blob/master/15-LeetCode/503_Next_Greater_Element_II.ipynb\" target=\"_parent\"><img src=\"https://colab.research.google.com/assets/colab-badge.svg\" alt=\"Open In Colab\"/></a>"
      ]
    },
    {
      "cell_type": "code",
      "execution_count": 4,
      "metadata": {
        "id": "_gPslM-cT-4G"
      },
      "outputs": [],
      "source": [
        "from typing import List\n",
        "class Solution:\n",
        "    def nextGreaterElements(self, nums: List[int]) -> List[int]:\n",
        "      size=len(nums)\n",
        "      nums += nums\n",
        "      res = [-1] * size\n",
        "      stack =[]\n",
        "      for i in list(range(size))*2:\n",
        "        while stack and (nums[stack[-1]] < nums[i]):\n",
        "          res[stack.pop()] = nums[i]\n",
        "        stack.append(i)\n",
        "      return res"
      ]
    },
    {
      "cell_type": "code",
      "source": [
        "sol = Solution()\n",
        "nums = [1,2,1]\n",
        "sol.nextGreaterElements(nums)"
      ],
      "metadata": {
        "colab": {
          "base_uri": "https://localhost:8080/"
        },
        "id": "TcBQdniiWBgv",
        "outputId": "4d43e1ed-2cc3-476e-d9f8-ceb1e21bb47f"
      },
      "execution_count": 5,
      "outputs": [
        {
          "output_type": "execute_result",
          "data": {
            "text/plain": [
              "[2, -1, 2]"
            ]
          },
          "metadata": {},
          "execution_count": 5
        }
      ]
    },
    {
      "cell_type": "code",
      "source": [
        "# The worst case will happen if the given circular array is in descending order. This will cause O(3n) time complexity. Otherwist the time complexity is approximately O(2n)"
      ],
      "metadata": {
        "id": "E3flILifV3NZ"
      },
      "execution_count": null,
      "outputs": []
    }
  ]
}