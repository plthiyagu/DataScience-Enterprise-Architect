{
  "nbformat": 4,
  "nbformat_minor": 0,
  "metadata": {
    "colab": {
      "provenance": [],
      "authorship_tag": "ABX9TyMfA3UK/6P9AynsCPJMXUB1",
      "include_colab_link": true
    },
    "kernelspec": {
      "name": "python3",
      "display_name": "Python 3"
    },
    "language_info": {
      "name": "python"
    }
  },
  "cells": [
    {
      "cell_type": "markdown",
      "metadata": {
        "id": "view-in-github",
        "colab_type": "text"
      },
      "source": [
        "<a href=\"https://colab.research.google.com/github/plthiyagu/AI-Engineering/blob/master/15-LeetCode/515_Find_Largest_Value_in_Each_Tree_Row.ipynb\" target=\"_parent\"><img src=\"https://colab.research.google.com/assets/colab-badge.svg\" alt=\"Open In Colab\"/></a>"
      ]
    },
    {
      "cell_type": "code",
      "execution_count": null,
      "metadata": {
        "id": "QpVAEjit4571"
      },
      "outputs": [],
      "source": [
        "class Solution(object):\n",
        "    def largestValues(self, root):\n",
        "        ans = []\n",
        "        if root is None:\n",
        "            return ans\n",
        "        queue  = [root]\n",
        "        while queue:\n",
        "            ans.append(max(x.val for x in queue))\n",
        "            new_queue = []\n",
        "            for node in queue:\n",
        "                if node.left:\n",
        "                    new_queue.append(node.left)\n",
        "                if node.right:\n",
        "                    new_queue.append(node.right)\n",
        "            queue = new_queue\n",
        "        return ans"
      ]
    },
    {
      "cell_type": "code",
      "source": [
        "class Solution(object):\n",
        "    def largestValues(self, root):\n",
        "        self.ans = []\n",
        "        self.helper(root, 0)\n",
        "        return self.ans\n",
        "    \n",
        "    def helper(self, node, level):\n",
        "        if not node:\n",
        "            return\n",
        "        if len(self.ans) == level:\n",
        "            self.ans.append(node.val)\n",
        "        else:\n",
        "            self.ans[level] = max(self.ans[level], node.val)\n",
        "        self.helper(node.left, level+1)\n",
        "        self.helper(node.right, level+1)"
      ],
      "metadata": {
        "id": "kaQO3yua48fE"
      },
      "execution_count": null,
      "outputs": []
    },
    {
      "cell_type": "code",
      "source": [
        "# Definition for a binary tree node.\n",
        "class TreeNode:\n",
        "    def __init__(self, val=0, left=None, right=None):\n",
        "        self.val = val\n",
        "        self.left = left\n",
        "        self.right = right\n",
        "class Solution:\n",
        "    def largestValues(self, root: Optional[TreeNode]) -> List[int]:\n",
        "        maxes = []\n",
        "        row = [root]\n",
        "        while any(row):\n",
        "            maxes.append(max(node.val for node in row))\n",
        "            row = [kid for node in row for kid in (node.left, node.right) if kid]\n",
        "        return maxes\n",
        "        "
      ],
      "metadata": {
        "id": "CnUzquUp5EAz"
      },
      "execution_count": null,
      "outputs": []
    }
  ]
}