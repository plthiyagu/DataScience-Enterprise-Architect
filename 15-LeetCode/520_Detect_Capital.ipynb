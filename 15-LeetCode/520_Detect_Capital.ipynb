{
  "nbformat": 4,
  "nbformat_minor": 0,
  "metadata": {
    "colab": {
      "provenance": [],
      "collapsed_sections": [],
      "authorship_tag": "ABX9TyMai74k3vaqHAuvemvwOUMZ",
      "include_colab_link": true
    },
    "kernelspec": {
      "name": "python3",
      "display_name": "Python 3"
    },
    "language_info": {
      "name": "python"
    }
  },
  "cells": [
    {
      "cell_type": "markdown",
      "metadata": {
        "id": "view-in-github",
        "colab_type": "text"
      },
      "source": [
        "<a href=\"https://colab.research.google.com/github/plthiyagu/AI-Engineering/blob/master/15-LeetCode/520_Detect_Capital.ipynb\" target=\"_parent\"><img src=\"https://colab.research.google.com/assets/colab-badge.svg\" alt=\"Open In Colab\"/></a>"
      ]
    },
    {
      "cell_type": "code",
      "execution_count": 3,
      "metadata": {
        "id": "4z520PuJ7fbG"
      },
      "outputs": [],
      "source": [
        "class Solution:\n",
        "    def detectCapitalUse(self, word: str) -> bool:\n",
        "        n= len(word)\n",
        "        \n",
        "        match1,match2,match3= True,True,True\n",
        "        \n",
        "        # case 1: All capital\n",
        "        for i in range(n):\n",
        "            if not word[i].isupper():\n",
        "                match1= False\n",
        "                break\n",
        "                \n",
        "        if match1:\n",
        "            return True\n",
        "        \n",
        "        \n",
        "         # case 2: All not capital\n",
        "            \n",
        "        for i in range(n):\n",
        "            if word[i].isupper():\n",
        "                match2= True\n",
        "                break\n",
        "        if match2:\n",
        "            return True\n",
        "            \n",
        "         # case 3: All not capital except first\n",
        "        if not word[0].isupper():\n",
        "            match3= False\n",
        "        if match3:\n",
        "            for i in range(1,n):\n",
        "                if word[i].isupper():\n",
        "                    match3= False\n",
        "        if match3:\n",
        "            return True \n",
        "        # if not matchin\n",
        "        return False"
      ]
    },
    {
      "cell_type": "code",
      "source": [
        "import re\n",
        "class Solution:\n",
        "    def detectCapitalUse(self, word: str) -> bool:\n",
        "      return re.fullmatch(r\"[A-Z]*|.[a-z]*\",word)"
      ],
      "metadata": {
        "id": "4RzZOOadCMMo"
      },
      "execution_count": 5,
      "outputs": []
    },
    {
      "cell_type": "code",
      "source": [
        "word = \"USA\"\n",
        "sol= Solution()\n",
        "sol.detectCapitalUse(word)"
      ],
      "metadata": {
        "colab": {
          "base_uri": "https://localhost:8080/"
        },
        "id": "WVXezlInAj46",
        "outputId": "ef905e9c-2796-4766-c6d2-4eedd0f7a5e8"
      },
      "execution_count": 6,
      "outputs": [
        {
          "output_type": "execute_result",
          "data": {
            "text/plain": [
              "<re.Match object; span=(0, 3), match='USA'>"
            ]
          },
          "metadata": {},
          "execution_count": 6
        }
      ]
    },
    {
      "cell_type": "code",
      "source": [],
      "metadata": {
        "id": "DglfzWHd7l8G"
      },
      "execution_count": null,
      "outputs": []
    },
    {
      "cell_type": "code",
      "source": [],
      "metadata": {
        "id": "KvYsxnIK7mA0"
      },
      "execution_count": null,
      "outputs": []
    },
    {
      "cell_type": "code",
      "source": [],
      "metadata": {
        "id": "FxD0vurA7mFy"
      },
      "execution_count": null,
      "outputs": []
    }
  ]
}