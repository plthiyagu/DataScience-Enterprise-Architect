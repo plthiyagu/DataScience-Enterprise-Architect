{
  "nbformat": 4,
  "nbformat_minor": 0,
  "metadata": {
    "colab": {
      "name": "525 Contiguous Array LeetCode.ipynb",
      "provenance": [],
      "authorship_tag": "ABX9TyPWLF5WFnbetIdddsbbgOTM",
      "include_colab_link": true
    },
    "kernelspec": {
      "name": "python3",
      "display_name": "Python 3"
    },
    "language_info": {
      "name": "python"
    }
  },
  "cells": [
    {
      "cell_type": "markdown",
      "metadata": {
        "id": "view-in-github",
        "colab_type": "text"
      },
      "source": [
        "<a href=\"https://colab.research.google.com/github/plthiyagu/AI-Engineering/blob/master/15-LeetCode/525_Contiguous_Array_LeetCode.ipynb\" target=\"_parent\"><img src=\"https://colab.research.google.com/assets/colab-badge.svg\" alt=\"Open In Colab\"/></a>"
      ]
    },
    {
      "cell_type": "code",
      "execution_count": 1,
      "metadata": {
        "id": "I5aC0EWv1l_1"
      },
      "outputs": [],
      "source": [
        "from typing import List\n",
        "class Solution:\n",
        "    def findMaxLength(self, nums: List[int]) -> int:\n",
        "        res,cn =0,0\n",
        "        dic ={0:0}\n",
        "        for i,num in enumerate(nums,1):\n",
        "            cn +=1 if num else -1\n",
        "            if cn in dic:\n",
        "                res = max(res, i-dic[cn])\n",
        "            else:\n",
        "                dic[cn] =i\n",
        "        return res\n",
        "            "
      ]
    },
    {
      "cell_type": "code",
      "source": [
        "sol = Solution()\n",
        "nums = [0,1]\n",
        "sol.findMaxLength(nums)"
      ],
      "metadata": {
        "colab": {
          "base_uri": "https://localhost:8080/"
        },
        "id": "c26UtneS1sws",
        "outputId": "aeaaa464-d467-439e-d589-b428922f6031"
      },
      "execution_count": 2,
      "outputs": [
        {
          "output_type": "execute_result",
          "data": {
            "text/plain": [
              "2"
            ]
          },
          "metadata": {},
          "execution_count": 2
        }
      ]
    },
    {
      "cell_type": "code",
      "source": [],
      "metadata": {
        "id": "ZX9Kt1XB124h"
      },
      "execution_count": null,
      "outputs": []
    }
  ]
}