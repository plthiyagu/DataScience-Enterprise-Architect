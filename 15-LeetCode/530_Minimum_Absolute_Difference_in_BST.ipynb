{
  "nbformat": 4,
  "nbformat_minor": 0,
  "metadata": {
    "colab": {
      "provenance": [],
      "authorship_tag": "ABX9TyPbBS9304MA6JE5fxtOWxTk",
      "include_colab_link": true
    },
    "kernelspec": {
      "name": "python3",
      "display_name": "Python 3"
    },
    "language_info": {
      "name": "python"
    }
  },
  "cells": [
    {
      "cell_type": "markdown",
      "metadata": {
        "id": "view-in-github",
        "colab_type": "text"
      },
      "source": [
        "<a href=\"https://colab.research.google.com/github/plthiyagu/AI-Engineering/blob/master/15-LeetCode/530_Minimum_Absolute_Difference_in_BST.ipynb\" target=\"_parent\"><img src=\"https://colab.research.google.com/assets/colab-badge.svg\" alt=\"Open In Colab\"/></a>"
      ]
    },
    {
      "cell_type": "code",
      "execution_count": 1,
      "metadata": {
        "id": "YCYBIFgAJbdS"
      },
      "outputs": [],
      "source": [
        "# Definition for a binary tree node.\n",
        "from typing import Optional\n",
        "class TreeNode:\n",
        "    def __init__(self, val=0, left=None, right=None):\n",
        "        self.val = val\n",
        "        self.left = left\n",
        "        self.right = right\n",
        "class Solution:\n",
        "    def getMinimumDifference(self, root: Optional[TreeNode]) -> int:\n",
        "        self.results =[]\n",
        "        self.traverse(root)\n",
        "        self.results= sorted(self.results)\n",
        "        prev = None\n",
        "        min_distance = sys.maxsize\n",
        "        \n",
        "        for val in self.results:\n",
        "            if prev != None:\n",
        "                min_distance = min(min_distance,val-prev)\n",
        "            prev = val\n",
        "            \n",
        "        return min_distance\n",
        "    \n",
        "    def traverse(self, root):\n",
        "        if not root:\n",
        "            return\n",
        "        \n",
        "        self.results.append(root.val)        \n",
        "        self.traverse(root.left)\n",
        "        self.traverse(root.right)\n",
        "        "
      ]
    }
  ]
}