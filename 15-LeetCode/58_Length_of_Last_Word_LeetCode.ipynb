{
  "nbformat": 4,
  "nbformat_minor": 0,
  "metadata": {
    "colab": {
      "name": "58 Length of Last Word LeetCode.ipynb",
      "provenance": [],
      "authorship_tag": "ABX9TyN0iZiRgPx14Cnai6y21qTA",
      "include_colab_link": true
    },
    "kernelspec": {
      "name": "python3",
      "display_name": "Python 3"
    },
    "language_info": {
      "name": "python"
    }
  },
  "cells": [
    {
      "cell_type": "markdown",
      "metadata": {
        "id": "view-in-github",
        "colab_type": "text"
      },
      "source": [
        "<a href=\"https://colab.research.google.com/github/plthiyagu/AI-Engineering/blob/master/15-LeetCode/58_Length_of_Last_Word_LeetCode.ipynb\" target=\"_parent\"><img src=\"https://colab.research.google.com/assets/colab-badge.svg\" alt=\"Open In Colab\"/></a>"
      ]
    },
    {
      "cell_type": "code",
      "execution_count": 2,
      "metadata": {
        "id": "u_iwXUTyngmH"
      },
      "outputs": [],
      "source": [
        "class Solution:\n",
        "    def lengthOfLastWord(self, s: str) -> int:\n",
        "        p = len(s) -1\n",
        "        while p >=0 and s[p] ==' ':\n",
        "            p -=1\n",
        "        length =0\n",
        "        while p >= 0 and s[p] != ' ':\n",
        "            p -=1\n",
        "            length +=1\n",
        "        return length"
      ]
    },
    {
      "cell_type": "code",
      "source": [
        "s = \"Hello World\"\n",
        "sol = Solution()\n",
        "sol.lengthOfLastWord(s)"
      ],
      "metadata": {
        "colab": {
          "base_uri": "https://localhost:8080/"
        },
        "id": "spCzc0QrnldV",
        "outputId": "72900b88-e232-4cb1-ef5f-0beb9ccd9fb8"
      },
      "execution_count": 3,
      "outputs": [
        {
          "output_type": "execute_result",
          "data": {
            "text/plain": [
              "5"
            ]
          },
          "metadata": {},
          "execution_count": 3
        }
      ]
    },
    {
      "cell_type": "code",
      "source": [
        ""
      ],
      "metadata": {
        "id": "cw9aw86wnrfc"
      },
      "execution_count": null,
      "outputs": []
    }
  ]
}