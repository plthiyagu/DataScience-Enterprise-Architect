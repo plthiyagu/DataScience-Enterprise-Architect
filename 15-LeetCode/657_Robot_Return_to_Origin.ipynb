{
  "nbformat": 4,
  "nbformat_minor": 0,
  "metadata": {
    "colab": {
      "provenance": [],
      "authorship_tag": "ABX9TyO0nAbYt4vR9iftrL5SXtLx",
      "include_colab_link": true
    },
    "kernelspec": {
      "name": "python3",
      "display_name": "Python 3"
    },
    "language_info": {
      "name": "python"
    }
  },
  "cells": [
    {
      "cell_type": "markdown",
      "metadata": {
        "id": "view-in-github",
        "colab_type": "text"
      },
      "source": [
        "<a href=\"https://colab.research.google.com/github/plthiyagu/AI-Engineering/blob/master/15-LeetCode/657_Robot_Return_to_Origin.ipynb\" target=\"_parent\"><img src=\"https://colab.research.google.com/assets/colab-badge.svg\" alt=\"Open In Colab\"/></a>"
      ]
    },
    {
      "cell_type": "code",
      "execution_count": 9,
      "metadata": {
        "id": "1_qJUnBdaiqr"
      },
      "outputs": [],
      "source": [
        "class Solution:\n",
        "    def judgeCircle(self, moves: str) -> bool:\n",
        "      return (moves.count('R') == moves.count('L') ) & (moves.count('U')== moves.count('D') )"
      ]
    },
    {
      "cell_type": "code",
      "source": [
        "class Solution:\n",
        "    def judgeCircle(self, moves: str) -> bool:\n",
        "      origin = {\"X\" :0, \"Y\" :0}\n",
        "\n",
        "      for move in moves:\n",
        "        if move ==\"U\":\n",
        "          origin['X'] += 1\n",
        "        elif move == \"D\":\n",
        "            origin[\"X\"] -= 1\n",
        "        elif move == \"L\":\n",
        "            origin[\"Y\"] -= 1\n",
        "        elif move == \"R\":\n",
        "            origin[\"Y\"] += 1\n",
        "      coordinateSum = 0\n",
        "      for coordinate in origin:\n",
        "        if origin[coordinate] != 0:\n",
        "          coordinateSum += 1\n",
        "      return coordinateSum == 0  \n"
      ],
      "metadata": {
        "id": "uSwlJyCDba14"
      },
      "execution_count": 10,
      "outputs": []
    },
    {
      "cell_type": "code",
      "source": [
        "sol = Solution()\n",
        "moves = \"UD\"\n",
        "sol.judgeCircle(moves)"
      ],
      "metadata": {
        "colab": {
          "base_uri": "https://localhost:8080/"
        },
        "id": "56RHGk_WamOC",
        "outputId": "b7b63a9f-cec4-4b0b-91ea-5add48eb85bb"
      },
      "execution_count": 11,
      "outputs": [
        {
          "output_type": "execute_result",
          "data": {
            "text/plain": [
              "True"
            ]
          },
          "metadata": {},
          "execution_count": 11
        }
      ]
    },
    {
      "cell_type": "code",
      "source": [],
      "metadata": {
        "id": "iYu6j3EFa7WS"
      },
      "execution_count": null,
      "outputs": []
    }
  ]
}