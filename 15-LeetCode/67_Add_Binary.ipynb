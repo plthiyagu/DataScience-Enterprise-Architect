{
  "nbformat": 4,
  "nbformat_minor": 0,
  "metadata": {
    "colab": {
      "provenance": [],
      "collapsed_sections": [],
      "authorship_tag": "ABX9TyNujRibUy02gb0xvae0dUEe",
      "include_colab_link": true
    },
    "kernelspec": {
      "name": "python3",
      "display_name": "Python 3"
    },
    "language_info": {
      "name": "python"
    }
  },
  "cells": [
    {
      "cell_type": "markdown",
      "metadata": {
        "id": "view-in-github",
        "colab_type": "text"
      },
      "source": [
        "<a href=\"https://colab.research.google.com/github/plthiyagu/AI-Engineering/blob/master/15-LeetCode/67_Add_Binary.ipynb\" target=\"_parent\"><img src=\"https://colab.research.google.com/assets/colab-badge.svg\" alt=\"Open In Colab\"/></a>"
      ]
    },
    {
      "cell_type": "code",
      "execution_count": 3,
      "metadata": {
        "id": "XbGnTm8CZ6Pq"
      },
      "outputs": [],
      "source": [
        "class Solution:\n",
        "    def addBinary(self, a: str, b: str) -> str:\n",
        "      a,b = list(a), list(b)\n",
        "      carry =0\n",
        "      ans = \"\"\n",
        "      while a or b or carry:\n",
        "        if a:\n",
        "          carry += int(a.pop())\n",
        "        if b:\n",
        "          carry += int(b.pop())\n",
        "        carry, remain = divmod(carry,2)\n",
        "        ans += str(remain)\n",
        "      return ans[::-1]\n",
        "     "
      ]
    },
    {
      "cell_type": "code",
      "source": [
        "a= \"1010\"\n",
        "b = \"1011\"\n",
        "sol = Solution()\n",
        "sol.addBinary( a,b)"
      ],
      "metadata": {
        "colab": {
          "base_uri": "https://localhost:8080/",
          "height": 35
        },
        "id": "MQFWPpUxbRcY",
        "outputId": "9a8001bb-12e6-447d-9230-3ce7286bff4b"
      },
      "execution_count": 4,
      "outputs": [
        {
          "output_type": "execute_result",
          "data": {
            "text/plain": [
              "'10101'"
            ],
            "application/vnd.google.colaboratory.intrinsic+json": {
              "type": "string"
            }
          },
          "metadata": {},
          "execution_count": 4
        }
      ]
    },
    {
      "cell_type": "code",
      "source": [
        "# Complexity Analysis\n",
        "\n",
        "# Time complexity : \\mathcal{O}(N + M)O(N+M), where NN and MM are lengths of the input strings a and b.\n",
        "\n",
        "# Space complexity : \\mathcal{O}(\\max(N, M))O(max(N,M)) to keep the answer."
      ],
      "metadata": {
        "id": "vlnTSjpdZ8ci"
      },
      "execution_count": null,
      "outputs": []
    }
  ]
}