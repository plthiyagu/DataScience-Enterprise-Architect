{
  "nbformat": 4,
  "nbformat_minor": 0,
  "metadata": {
    "colab": {
      "provenance": [],
      "collapsed_sections": [],
      "authorship_tag": "ABX9TyP5a8ndOIzR2IuauE3/ULRR",
      "include_colab_link": true
    },
    "kernelspec": {
      "name": "python3",
      "display_name": "Python 3"
    },
    "language_info": {
      "name": "python"
    }
  },
  "cells": [
    {
      "cell_type": "markdown",
      "metadata": {
        "id": "view-in-github",
        "colab_type": "text"
      },
      "source": [
        "<a href=\"https://colab.research.google.com/github/plthiyagu/AI-Engineering/blob/master/15-LeetCode/680_Valid_Palindrome_II.ipynb\" target=\"_parent\"><img src=\"https://colab.research.google.com/assets/colab-badge.svg\" alt=\"Open In Colab\"/></a>"
      ]
    },
    {
      "cell_type": "code",
      "execution_count": 3,
      "metadata": {
        "id": "rmRwmRH-MBW5"
      },
      "outputs": [],
      "source": [
        "class Solution:\n",
        "    def validPalindrome(self, s: str) -> bool:\n",
        "\n",
        "\n",
        "      if len(s) ==0: return False\n",
        "      if len(s)==1: return True\n",
        "      \n",
        "      if s == s[::1] : return True\n",
        "      begin = 0\n",
        "      end = len(s)-1\n",
        "      while begin < end:\n",
        "         if s[begin] == s[end]:\n",
        "           begin += 1\n",
        "           end -= 1\n",
        "         else:\n",
        "            left_remove = s[begin+1 : end+1]\n",
        "            right_remove = s[begin:end]\n",
        "            if left_remove == left_remove[::-1] or right_remove == right_remove[::-1]:\n",
        "              return True\n",
        "            else:\n",
        "              return False\n",
        "      return True\n"
      ]
    },
    {
      "cell_type": "code",
      "source": [
        "s = \"aba\"\n",
        "sol = Solution()\n",
        "sol.validPalindrome(s)"
      ],
      "metadata": {
        "colab": {
          "base_uri": "https://localhost:8080/"
        },
        "id": "YqwBd3UlMCxH",
        "outputId": "2c092d6f-ce94-4d9a-8ae6-d5726c594efd"
      },
      "execution_count": 4,
      "outputs": [
        {
          "output_type": "execute_result",
          "data": {
            "text/plain": [
              "True"
            ]
          },
          "metadata": {},
          "execution_count": 4
        }
      ]
    },
    {
      "cell_type": "code",
      "source": [],
      "metadata": {
        "id": "4HNjfWhMOjKQ"
      },
      "execution_count": null,
      "outputs": []
    },
    {
      "cell_type": "code",
      "source": [
        "\n"
      ],
      "metadata": {
        "id": "0rM8mIS3MGDR"
      },
      "execution_count": null,
      "outputs": []
    }
  ]
}