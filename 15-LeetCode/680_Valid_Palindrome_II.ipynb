{
  "nbformat": 4,
  "nbformat_minor": 0,
  "metadata": {
    "colab": {
      "provenance": [],
      "collapsed_sections": [],
      "authorship_tag": "ABX9TyMi54xzkV1VyQhJ7FqnSWe2",
      "include_colab_link": true
    },
    "kernelspec": {
      "name": "python3",
      "display_name": "Python 3"
    },
    "language_info": {
      "name": "python"
    }
  },
  "cells": [
    {
      "cell_type": "markdown",
      "metadata": {
        "id": "view-in-github",
        "colab_type": "text"
      },
      "source": [
        "<a href=\"https://colab.research.google.com/github/plthiyagu/AI-Engineering/blob/master/15-LeetCode/680_Valid_Palindrome_II.ipynb\" target=\"_parent\"><img src=\"https://colab.research.google.com/assets/colab-badge.svg\" alt=\"Open In Colab\"/></a>"
      ]
    },
    {
      "cell_type": "code",
      "execution_count": 4,
      "metadata": {
        "id": "IaPrS_Yzq8vK"
      },
      "outputs": [],
      "source": [
        "class Solution:\n",
        "    def validPalindrome(self, s: str) -> bool:\n",
        "      i=0\n",
        "      j= len(s)-1\n",
        "\n",
        "      while i <j:\n",
        "        if s[i] == s[j]:\n",
        "          i +=1\n",
        "          j -=1\n",
        "        else:\n",
        "          self.helper(s, i+1,j) or self.helper(s,i, j-1)\n",
        "      return True\n",
        "\n",
        "      def helper(self, s,left,right):\n",
        "        while left < right:\n",
        "          if s[left] == s[right]:\n",
        "            left +=1\n",
        "            right -= 1\n",
        "          else:\n",
        "            return False\n",
        "        return True      "
      ]
    },
    {
      "cell_type": "code",
      "source": [
        "s = \"aba\"\n",
        "sol= Solution()\n",
        "sol.validPalindrome(s)"
      ],
      "metadata": {
        "colab": {
          "base_uri": "https://localhost:8080/"
        },
        "id": "wmuKArxPrJdM",
        "outputId": "038a28a6-2e01-4f86-d752-87b09594c909"
      },
      "execution_count": 5,
      "outputs": [
        {
          "output_type": "execute_result",
          "data": {
            "text/plain": [
              "True"
            ]
          },
          "metadata": {},
          "execution_count": 5
        }
      ]
    },
    {
      "cell_type": "code",
      "source": [],
      "metadata": {
        "id": "ue_aTMivtQ8z"
      },
      "execution_count": null,
      "outputs": []
    }
  ]
}