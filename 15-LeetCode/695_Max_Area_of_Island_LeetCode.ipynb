{
  "nbformat": 4,
  "nbformat_minor": 0,
  "metadata": {
    "colab": {
      "provenance": [],
      "collapsed_sections": [],
      "authorship_tag": "ABX9TyME+FnZ1jJ6vbDERYTtavp5",
      "include_colab_link": true
    },
    "kernelspec": {
      "name": "python3",
      "display_name": "Python 3"
    },
    "language_info": {
      "name": "python"
    }
  },
  "cells": [
    {
      "cell_type": "markdown",
      "metadata": {
        "id": "view-in-github",
        "colab_type": "text"
      },
      "source": [
        "<a href=\"https://colab.research.google.com/github/plthiyagu/AI-Engineering/blob/master/15-LeetCode/695_Max_Area_of_Island_LeetCode.ipynb\" target=\"_parent\"><img src=\"https://colab.research.google.com/assets/colab-badge.svg\" alt=\"Open In Colab\"/></a>"
      ]
    },
    {
      "cell_type": "code",
      "execution_count": 2,
      "metadata": {
        "id": "Ut1ABefR_zPu"
      },
      "outputs": [],
      "source": [
        "from typing import List\n",
        "class Solution:\n",
        "    def maxAreaOfIsland(self, grid: List[List[int]]) -> int:\n",
        "        seen = set()\n",
        "        ans=0\n",
        "        for r0,row in enumerate(grid):\n",
        "            for c0,val in enumerate(row):\n",
        "                if val and (r0,c0) not in seen:\n",
        "                    shape =0\n",
        "                    stack =[(r0,c0)]\n",
        "                    seen.add((r0,c0))\n",
        "                    while stack:\n",
        "                        r,c = stack.pop()\n",
        "                        shape +=1\n",
        "                        for nr, nc in ((r-1,c),(r+1,c),(r,c-1),(r,c+1)):\n",
        "                            if (0 <= nr < len(grid) and 0 <= nc < len(grid[0])\n",
        "                                and grid[nr][nc]\n",
        "                                and (nr,nc) not in seen):\n",
        "                                stack.append((nr,nc))\n",
        "                                seen.add((nr,nc))\n",
        "                    ans = max(ans,shape)\n",
        "        return ans"
      ]
    },
    {
      "cell_type": "code",
      "source": [
        "grid = [[0,0,1,0,0,0,0,1,0,0,0,0,0],[0,0,0,0,0,0,0,1,1,1,0,0,0],[0,1,1,0,1,0,0,0,0,0,0,0,0],[0,1,0,0,1,1,0,0,1,0,1,0,0],[0,1,0,0,1,1,0,0,1,1,1,0,0],[0,0,0,0,0,0,0,0,0,0,1,0,0],[0,0,0,0,0,0,0,1,1,1,0,0,0],[0,0,0,0,0,0,0,1,1,0,0,0,0]]\n",
        "sol = Solution()\n",
        "sol.maxAreaOfIsland(grid)"
      ],
      "metadata": {
        "colab": {
          "base_uri": "https://localhost:8080/"
        },
        "id": "FEg8Ze4r_3Zy",
        "outputId": "0fdabdd7-2231-4242-e9be-077ae77b6176"
      },
      "execution_count": 3,
      "outputs": [
        {
          "output_type": "execute_result",
          "data": {
            "text/plain": [
              "6"
            ]
          },
          "metadata": {},
          "execution_count": 3
        }
      ]
    },
    {
      "cell_type": "code",
      "source": [],
      "metadata": {
        "id": "qrjNTDs2ABV4"
      },
      "execution_count": null,
      "outputs": []
    }
  ]
}