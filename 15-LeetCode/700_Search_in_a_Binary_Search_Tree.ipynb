{
  "nbformat": 4,
  "nbformat_minor": 0,
  "metadata": {
    "colab": {
      "provenance": [],
      "authorship_tag": "ABX9TyPwu+Iuk46XgE76OkdO2Tyg",
      "include_colab_link": true
    },
    "kernelspec": {
      "name": "python3",
      "display_name": "Python 3"
    },
    "language_info": {
      "name": "python"
    }
  },
  "cells": [
    {
      "cell_type": "markdown",
      "metadata": {
        "id": "view-in-github",
        "colab_type": "text"
      },
      "source": [
        "<a href=\"https://colab.research.google.com/github/plthiyagu/AI-Engineering/blob/master/15-LeetCode/700_Search_in_a_Binary_Search_Tree.ipynb\" target=\"_parent\"><img src=\"https://colab.research.google.com/assets/colab-badge.svg\" alt=\"Open In Colab\"/></a>"
      ]
    },
    {
      "cell_type": "code",
      "execution_count": 2,
      "metadata": {
        "id": "jiqctVZo61yU"
      },
      "outputs": [],
      "source": [
        "# Definition for a binary tree node.\n",
        "from typing import Optional\n",
        "class TreeNode:\n",
        "    def __init__(self, val=0, left=None, right=None):\n",
        "        self.val = val\n",
        "        self.left = left\n",
        "        self.right = right\n",
        "class Solution:\n",
        "    def searchBST(self, root: Optional[TreeNode], val: int) -> Optional[TreeNode]:\n",
        "        \n",
        "        if root is None or val == root.val:\n",
        "            return root\n",
        "        return self.searchBST(root.left,val) if val < root.val else self.searchBST(root.right ,val)        "
      ]
    },
    {
      "cell_type": "code",
      "source": [
        "class Solution:\n",
        "    def searchBST(self, root: TreeNode, val: int) -> TreeNode:\n",
        "        while root is not None and root.val != val:\n",
        "            root = root.left if val < root.val else root.right\n",
        "        return root"
      ],
      "metadata": {
        "id": "qlKxMHFY65hk"
      },
      "execution_count": null,
      "outputs": []
    },
    {
      "cell_type": "code",
      "source": [
        "# Complexity Analysis\n",
        "\n",
        "# Time complexity : \\mathcal{O}(H)O(H), where HH is a tree height. That results in \\mathcal{O}(\\log N)O(logN) in the average case, and \\mathcal{O}(N)O(N) in the worst case.\n",
        "\n",
        "# Let's compute time complexity with the help of master theorem T(N) = aT\\left(\\frac{N}{b}\\right) + \\Theta(N^d)T(N)=aT( \n",
        "# b\n",
        "# N\n",
        "# ​\n",
        "#  )+Θ(N \n",
        "# d\n",
        "#  ). The equation represents dividing the problem up into aa subproblems of size \\frac{N}{b} \n",
        "# b\n",
        "# N\n",
        "# ​\n",
        "#   in \\Theta(N^d)Θ(N \n",
        "# d\n",
        "#  ) time. Here at step there is only one subproblem a = 1, its size is a half of the initial problem b = 2, and all this happens in a constant time d = 0, as for the binary search. That means that \\log_b{a} = dlog \n",
        "# b\n",
        "# ​\n",
        "#  a=d and hence we're dealing with case 2 that results in \\mathcal{O}(n^{\\log_b{a}} \\log^{d + 1} N)O(n \n",
        "# log \n",
        "# b\n",
        "# ​\n",
        "#  a\n",
        "#  log \n",
        "# d+1\n",
        "#  N) = \\mathcal{O}(\\log N)O(logN) time complexity.\n",
        "\n",
        "# Space complexity : \\mathcal{O}(1)O(1) since it's a constant space solution."
      ],
      "metadata": {
        "id": "xfjr9ZHN9Rbe"
      },
      "execution_count": null,
      "outputs": []
    }
  ]
}