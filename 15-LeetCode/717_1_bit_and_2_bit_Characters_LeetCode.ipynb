{
  "nbformat": 4,
  "nbformat_minor": 0,
  "metadata": {
    "colab": {
      "provenance": [],
      "authorship_tag": "ABX9TyNCYy9ibZCsi8qo89mQdPzz",
      "include_colab_link": true
    },
    "kernelspec": {
      "name": "python3",
      "display_name": "Python 3"
    },
    "language_info": {
      "name": "python"
    }
  },
  "cells": [
    {
      "cell_type": "markdown",
      "metadata": {
        "id": "view-in-github",
        "colab_type": "text"
      },
      "source": [
        "<a href=\"https://colab.research.google.com/github/plthiyagu/AI-Engineering/blob/master/15-LeetCode/717_1_bit_and_2_bit_Characters_LeetCode.ipynb\" target=\"_parent\"><img src=\"https://colab.research.google.com/assets/colab-badge.svg\" alt=\"Open In Colab\"/></a>"
      ]
    },
    {
      "cell_type": "code",
      "execution_count": 1,
      "metadata": {
        "id": "I_iTt5TfGfKh"
      },
      "outputs": [],
      "source": [
        "from typing import List\n",
        "\n",
        "class Solution:\n",
        "    def isOneBitCharacter(self, bits: List[int]) -> bool:\n",
        "        i =0\n",
        "        while i < len(bits) -1:\n",
        "            if bits[i]==0:\n",
        "                i +=1\n",
        "            else:\n",
        "                i +=2\n",
        "        return i ==len(bits)-1\n",
        "        "
      ]
    },
    {
      "cell_type": "code",
      "source": [
        "bits = [1,0,0]\n",
        "sol = Solution()\n",
        "sol.isOneBitCharacter(bits)"
      ],
      "metadata": {
        "colab": {
          "base_uri": "https://localhost:8080/"
        },
        "id": "JBYF7wVLGnSv",
        "outputId": "6176f7f8-289b-4fc0-d50a-4641e2d5d3a8"
      },
      "execution_count": 2,
      "outputs": [
        {
          "output_type": "execute_result",
          "data": {
            "text/plain": [
              "True"
            ]
          },
          "metadata": {},
          "execution_count": 2
        }
      ]
    },
    {
      "cell_type": "code",
      "source": [],
      "metadata": {
        "id": "zZDhNtnWGsmw"
      },
      "execution_count": null,
      "outputs": []
    }
  ]
}