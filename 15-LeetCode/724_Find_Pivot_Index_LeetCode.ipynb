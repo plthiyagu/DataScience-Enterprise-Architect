{
  "nbformat": 4,
  "nbformat_minor": 0,
  "metadata": {
    "colab": {
      "name": "724 Find Pivot Index LeetCode.ipynb",
      "provenance": [],
      "collapsed_sections": [],
      "authorship_tag": "ABX9TyNEef0Y3gPFAO7jvBCi1Lye",
      "include_colab_link": true
    },
    "kernelspec": {
      "name": "python3",
      "display_name": "Python 3"
    },
    "language_info": {
      "name": "python"
    }
  },
  "cells": [
    {
      "cell_type": "markdown",
      "metadata": {
        "id": "view-in-github",
        "colab_type": "text"
      },
      "source": [
        "<a href=\"https://colab.research.google.com/github/plthiyagu/AI-Engineering/blob/master/15-LeetCode/724_Find_Pivot_Index_LeetCode.ipynb\" target=\"_parent\"><img src=\"https://colab.research.google.com/assets/colab-badge.svg\" alt=\"Open In Colab\"/></a>"
      ]
    },
    {
      "cell_type": "code",
      "execution_count": 2,
      "metadata": {
        "id": "_zl9RyWLZ8km"
      },
      "outputs": [],
      "source": [
        "from typing import List\n",
        "class Solution:\n",
        "    def pivotIndex(self, nums: List[int]) -> int:\n",
        "        S= sum(nums)\n",
        "        leftsum=0\n",
        "        for i,x in enumerate(nums):\n",
        "            if leftsum == (S-leftsum -x):\n",
        "                return i\n",
        "            leftsum += x\n",
        "        return -1"
      ]
    },
    {
      "cell_type": "code",
      "source": [
        "nums = [1, 2, 5, 2, 1]\n",
        "sol = Solution()\n",
        "sol.pivotIndex(nums)"
      ],
      "metadata": {
        "colab": {
          "base_uri": "https://localhost:8080/"
        },
        "id": "x-mF-v34aCNL",
        "outputId": "12f0c283-4e1d-49c3-c714-d5ef4dac87ed"
      },
      "execution_count": 3,
      "outputs": [
        {
          "output_type": "execute_result",
          "data": {
            "text/plain": [
              "2"
            ]
          },
          "metadata": {},
          "execution_count": 3
        }
      ]
    },
    {
      "cell_type": "code",
      "source": [
        ""
      ],
      "metadata": {
        "id": "bavBUHCAaI2S"
      },
      "execution_count": null,
      "outputs": []
    },
    {
      "cell_type": "code",
      "source": [
        ""
      ],
      "metadata": {
        "id": "mJ2pyzZGZ97E"
      },
      "execution_count": null,
      "outputs": []
    }
  ]
}