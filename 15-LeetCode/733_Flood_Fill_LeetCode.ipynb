{
  "nbformat": 4,
  "nbformat_minor": 0,
  "metadata": {
    "colab": {
      "name": "733 Flood Fill LeetCode.ipynb",
      "provenance": [],
      "authorship_tag": "ABX9TyOn6/esmScrkDrsrAAm2l1m",
      "include_colab_link": true
    },
    "kernelspec": {
      "name": "python3",
      "display_name": "Python 3"
    },
    "language_info": {
      "name": "python"
    }
  },
  "cells": [
    {
      "cell_type": "markdown",
      "metadata": {
        "id": "view-in-github",
        "colab_type": "text"
      },
      "source": [
        "<a href=\"https://colab.research.google.com/github/plthiyagu/AI-Engineering/blob/master/15-LeetCode/733_Flood_Fill_LeetCode.ipynb\" target=\"_parent\"><img src=\"https://colab.research.google.com/assets/colab-badge.svg\" alt=\"Open In Colab\"/></a>"
      ]
    },
    {
      "cell_type": "code",
      "execution_count": 1,
      "metadata": {
        "id": "FzPnlKwQXoDc"
      },
      "outputs": [],
      "source": [
        "from typing import List\n",
        "class Solution:\n",
        "    def floodFill(self, image: List[List[int]], sr: int, sc: int, color: int) -> List[List[int]]:\n",
        "        R,C = len(image),len(image[0])\n",
        "        newColor = image[sr][sc]\n",
        "        if newColor == color: return image\n",
        "        def dfs(r,c):\n",
        "            \n",
        "            if image[r][c]== newColor:\n",
        "                image[r][c]= color\n",
        "                if r >=1 : dfs(r-1,c)\n",
        "                if r +1 < R: dfs(r+1,c)\n",
        "                if c >=1: dfs (r,c-1)\n",
        "                if c+1 < C: dfs(r, c+1)\n",
        "        dfs(sr,sc)\n",
        "        return image"
      ]
    },
    {
      "cell_type": "code",
      "source": [
        "image = [[0,0,0],[0,0,0]]\n",
        "sr = 0\n",
        "sc = 0\n",
        "color = 0\n",
        "sol = Solution()\n",
        "sol.floodFill(image,sr,sc,color)"
      ],
      "metadata": {
        "colab": {
          "base_uri": "https://localhost:8080/"
        },
        "id": "lR4c5b_dXrFP",
        "outputId": "c8c83e1a-243d-4044-a1c1-5d029d9db733"
      },
      "execution_count": 2,
      "outputs": [
        {
          "output_type": "execute_result",
          "data": {
            "text/plain": [
              "[[0, 0, 0], [0, 0, 0]]"
            ]
          },
          "metadata": {},
          "execution_count": 2
        }
      ]
    },
    {
      "cell_type": "code",
      "source": [
        ""
      ],
      "metadata": {
        "id": "pS04SOW5YTde"
      },
      "execution_count": null,
      "outputs": []
    }
  ]
}