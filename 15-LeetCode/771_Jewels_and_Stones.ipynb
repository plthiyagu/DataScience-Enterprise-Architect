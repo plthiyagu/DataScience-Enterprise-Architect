{
  "nbformat": 4,
  "nbformat_minor": 0,
  "metadata": {
    "colab": {
      "provenance": [],
      "collapsed_sections": [],
      "authorship_tag": "ABX9TyPGX+/vj3z0deHxsSZ5cCKN",
      "include_colab_link": true
    },
    "kernelspec": {
      "name": "python3",
      "display_name": "Python 3"
    },
    "language_info": {
      "name": "python"
    }
  },
  "cells": [
    {
      "cell_type": "markdown",
      "metadata": {
        "id": "view-in-github",
        "colab_type": "text"
      },
      "source": [
        "<a href=\"https://colab.research.google.com/github/plthiyagu/AI-Engineering/blob/master/15-LeetCode/771_Jewels_and_Stones.ipynb\" target=\"_parent\"><img src=\"https://colab.research.google.com/assets/colab-badge.svg\" alt=\"Open In Colab\"/></a>"
      ]
    },
    {
      "cell_type": "code",
      "execution_count": 3,
      "metadata": {
        "id": "mTQCh9pGf29-"
      },
      "outputs": [],
      "source": [
        "class Solution:\n",
        "    def numJewelsInStones(self, jewels: str, stones: str) -> int:\n",
        "        return sum(s in jewels for s in stones)"
      ]
    },
    {
      "cell_type": "code",
      "source": [
        "# Complexity Analysis\n",
        "\n",
        "# Time Complexity: O(J\\text{.length} * S\\text{.length}))O(J.length∗S.length)).\n",
        "\n",
        "# Space Complexity: O(1)O(1) additional space complexity in Python. In Java, this can be O(J\\text{.length} * S\\text{.length}))O(J.length∗S.length)) because of the creation of new arrays."
      ],
      "metadata": {
        "id": "kR-XIbwRgc4i"
      },
      "execution_count": 4,
      "outputs": []
    },
    {
      "cell_type": "code",
      "source": [
        "class Solution:\n",
        "    def numJewelsInStones(self, jewels: str, stones: str) -> int:\n",
        "      Jset= set(jewels)\n",
        "      return sum(s in Jset for s in stones)"
      ],
      "metadata": {
        "id": "Z2thWphAgD2j"
      },
      "execution_count": 8,
      "outputs": []
    },
    {
      "cell_type": "code",
      "source": [
        "# Complexity Analysis\n",
        "\n",
        "# Time Complexity: O(J\\text{.length} + S\\text{.length})O(J.length+S.length). The O(J\\text{.length})O(J.length) part comes from creating J. The O(S\\text{.length})O(S.length) part comes from searching S.\n",
        "\n",
        "# Space Complexity: O(J\\text{.length})O(J.length)."
      ],
      "metadata": {
        "id": "nOYztiTqg3mt"
      },
      "execution_count": null,
      "outputs": []
    },
    {
      "cell_type": "code",
      "source": [
        "jewels = \"aA\"\n",
        "stones = \"aAAbbbb\"\n",
        "sol = Solution()\n",
        "sol.numJewelsInStones(jewels,stones)"
      ],
      "metadata": {
        "colab": {
          "base_uri": "https://localhost:8080/"
        },
        "id": "YD2pPX6vf3d4",
        "outputId": "a4cc9f36-9d0f-442e-e7da-f5d222b7f36f"
      },
      "execution_count": 7,
      "outputs": [
        {
          "output_type": "execute_result",
          "data": {
            "text/plain": [
              "3"
            ]
          },
          "metadata": {},
          "execution_count": 7
        }
      ]
    },
    {
      "cell_type": "code",
      "source": [],
      "metadata": {
        "id": "OZT3X7QZgTOF"
      },
      "execution_count": null,
      "outputs": []
    }
  ]
}