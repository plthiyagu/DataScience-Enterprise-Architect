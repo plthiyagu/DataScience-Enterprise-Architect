{
  "nbformat": 4,
  "nbformat_minor": 0,
  "metadata": {
    "colab": {
      "provenance": [],
      "authorship_tag": "ABX9TyNvcbFs/80jo9MQM6GhGU3P",
      "include_colab_link": true
    },
    "kernelspec": {
      "name": "python3",
      "display_name": "Python 3"
    },
    "language_info": {
      "name": "python"
    }
  },
  "cells": [
    {
      "cell_type": "markdown",
      "metadata": {
        "id": "view-in-github",
        "colab_type": "text"
      },
      "source": [
        "<a href=\"https://colab.research.google.com/github/plthiyagu/AI-Engineering/blob/master/15-LeetCode/788_Rotated_Digits_LeetCode.ipynb\" target=\"_parent\"><img src=\"https://colab.research.google.com/assets/colab-badge.svg\" alt=\"Open In Colab\"/></a>"
      ]
    },
    {
      "cell_type": "code",
      "execution_count": 1,
      "metadata": {
        "id": "DfV9VoNflk1_"
      },
      "outputs": [],
      "source": [
        "class Solution:\n",
        "    def rotatedDigits(self, n: int) -> int:\n",
        "        count =0\n",
        "        mapping ={'0':'0',\n",
        "             '1':'1',\n",
        "             '2':'5',\n",
        "             '5':'2',\n",
        "             '6':'9',\n",
        "             '8':'8',\n",
        "             '9':'6'}\n",
        "        for i in range(1, n+1):\n",
        "            i_str= str(i)\n",
        "            rotated_str=\"\"\n",
        "            can_rotate= True\n",
        "            for c in i_str:\n",
        "                if c not in mapping:\n",
        "                    can_rotate= False\n",
        "                    break\n",
        "                rotated_str += mapping[c]\n",
        "            if can_rotate and rotated_str != i_str:\n",
        "                count += 1\n",
        "                \n",
        "        return count"
      ]
    },
    {
      "cell_type": "code",
      "source": [
        "sol = Solution()\n",
        "n=10\n",
        "sol.rotatedDigits(n)"
      ],
      "metadata": {
        "colab": {
          "base_uri": "https://localhost:8080/"
        },
        "id": "RfOeXgeGlmI2",
        "outputId": "9f4eedec-1acb-408e-db12-d4aed0d58627"
      },
      "execution_count": 2,
      "outputs": [
        {
          "output_type": "execute_result",
          "data": {
            "text/plain": [
              "4"
            ]
          },
          "metadata": {},
          "execution_count": 2
        }
      ]
    },
    {
      "cell_type": "code",
      "source": [],
      "metadata": {
        "id": "kSmiFFw_luKr"
      },
      "execution_count": null,
      "outputs": []
    }
  ]
}