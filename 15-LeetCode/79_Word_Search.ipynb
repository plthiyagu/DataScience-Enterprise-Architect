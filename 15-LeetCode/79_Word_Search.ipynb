{
  "nbformat": 4,
  "nbformat_minor": 0,
  "metadata": {
    "colab": {
      "provenance": [],
      "authorship_tag": "ABX9TyNmxeYRfY8+aymiygW2rJY8",
      "include_colab_link": true
    },
    "kernelspec": {
      "name": "python3",
      "display_name": "Python 3"
    },
    "language_info": {
      "name": "python"
    }
  },
  "cells": [
    {
      "cell_type": "markdown",
      "metadata": {
        "id": "view-in-github",
        "colab_type": "text"
      },
      "source": [
        "<a href=\"https://colab.research.google.com/github/plthiyagu/AI-Engineering/blob/master/15-LeetCode/79_Word_Search.ipynb\" target=\"_parent\"><img src=\"https://colab.research.google.com/assets/colab-badge.svg\" alt=\"Open In Colab\"/></a>"
      ]
    },
    {
      "cell_type": "code",
      "execution_count": null,
      "metadata": {
        "id": "VgDWSGxg9YbL"
      },
      "outputs": [],
      "source": [
        "class Solution:\n",
        "    def exist(self, board: List[List[str]], word: str) -> bool:\n",
        "        \n",
        "        self.ROWS = len(board)\n",
        "        self.COLS = len(board[0])\n",
        "        self.board = board\n",
        "        \n",
        "        \n",
        "        for row in range(self.ROWS):\n",
        "            for col in range(self.COLS):\n",
        "                if self.backtrack(row,col,word):\n",
        "                    return True\n",
        "        return False\n",
        "    \n",
        "    def backtrack(self,row,col,suffix):\n",
        "        if len(suffix) ==0:\n",
        "            return True\n",
        "        \n",
        "        if row <0 or row == self.ROWS or col <0 or col == self.COLS or self.board[row][col] != suffix[0]:\n",
        "            return False\n",
        "        ret = False\n",
        "        self.board[row] [col] = '#'\n",
        "        for rowOffset, colOffset in [(0,1),(1,0),(0,-1),(-1,0)]:\n",
        "            ret = self.backtrack(row +rowOffset, col + colOffset, suffix[1:])\n",
        "            if ret: break\n",
        "        self.board[row][col]= suffix[0]\n",
        "        return ret\n",
        "        "
      ]
    },
    {
      "cell_type": "code",
      "source": [],
      "metadata": {
        "id": "Uwr2Y7uo9e5L"
      },
      "execution_count": null,
      "outputs": []
    }
  ]
}