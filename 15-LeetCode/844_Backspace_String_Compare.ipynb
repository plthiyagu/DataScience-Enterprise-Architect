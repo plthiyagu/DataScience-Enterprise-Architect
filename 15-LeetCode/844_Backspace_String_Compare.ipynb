{
  "nbformat": 4,
  "nbformat_minor": 0,
  "metadata": {
    "colab": {
      "provenance": [],
      "authorship_tag": "ABX9TyPdXjzK8K+QkcMQngfrGFbc",
      "include_colab_link": true
    },
    "kernelspec": {
      "name": "python3",
      "display_name": "Python 3"
    },
    "language_info": {
      "name": "python"
    }
  },
  "cells": [
    {
      "cell_type": "markdown",
      "metadata": {
        "id": "view-in-github",
        "colab_type": "text"
      },
      "source": [
        "<a href=\"https://colab.research.google.com/github/plthiyagu/AI-Engineering/blob/master/15-LeetCode/844_Backspace_String_Compare.ipynb\" target=\"_parent\"><img src=\"https://colab.research.google.com/assets/colab-badge.svg\" alt=\"Open In Colab\"/></a>"
      ]
    },
    {
      "cell_type": "code",
      "execution_count": 1,
      "metadata": {
        "id": "-nut1eE8TrhM"
      },
      "outputs": [],
      "source": [
        "class Solution:\n",
        "    def backspaceCompare(self, s: str, t: str) -> bool:\n",
        "      def build(s):\n",
        "        ans = []\n",
        "        for c in s:\n",
        "          if c != '#':\n",
        "            ans.append(c)\n",
        "          elif ans:\n",
        "            ans.pop()\n",
        "        return \"\".join(ans)\n",
        "      return build(s) == build(t)\n",
        "        \n"
      ]
    },
    {
      "cell_type": "code",
      "source": [
        "s = \"ab#c\"\n",
        "t = \"ad#c\"\n",
        "sol = Solution()\n",
        "sol.backspaceCompare(s,t)"
      ],
      "metadata": {
        "colab": {
          "base_uri": "https://localhost:8080/"
        },
        "id": "r__GsjTeUW-w",
        "outputId": "7a4e6000-ab8c-4551-ccb5-540a240a5275"
      },
      "execution_count": 2,
      "outputs": [
        {
          "output_type": "execute_result",
          "data": {
            "text/plain": [
              "True"
            ]
          },
          "metadata": {},
          "execution_count": 2
        }
      ]
    },
    {
      "cell_type": "code",
      "source": [],
      "metadata": {
        "id": "5WTHVCjpUf9G"
      },
      "execution_count": null,
      "outputs": []
    },
    {
      "cell_type": "code",
      "source": [],
      "metadata": {
        "id": "JHQAoI3yTtwe"
      },
      "execution_count": null,
      "outputs": []
    }
  ]
}