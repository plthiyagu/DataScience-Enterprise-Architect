{
  "nbformat": 4,
  "nbformat_minor": 0,
  "metadata": {
    "colab": {
      "provenance": [],
      "authorship_tag": "ABX9TyPg0dRNixNn6mmarIYO49TC",
      "include_colab_link": true
    },
    "kernelspec": {
      "name": "python3",
      "display_name": "Python 3"
    },
    "language_info": {
      "name": "python"
    }
  },
  "cells": [
    {
      "cell_type": "markdown",
      "metadata": {
        "id": "view-in-github",
        "colab_type": "text"
      },
      "source": [
        "<a href=\"https://colab.research.google.com/github/plthiyagu/AI-Engineering/blob/master/15-LeetCode/876_Middle_of_the_Linked_List.ipynb\" target=\"_parent\"><img src=\"https://colab.research.google.com/assets/colab-badge.svg\" alt=\"Open In Colab\"/></a>"
      ]
    },
    {
      "cell_type": "code",
      "execution_count": 2,
      "metadata": {
        "id": "8r_B6M1T3BK-"
      },
      "outputs": [],
      "source": [
        "# Definition for singly-linked list.\n",
        "from typing import Optional\n",
        "class ListNode:\n",
        "    def __init__(self, val=0, next=None):\n",
        "        self.val = val\n",
        "        self.next = next\n",
        "class Solution:\n",
        "    def middleNode(self, head: Optional[ListNode]) -> Optional[ListNode]:\n",
        "      arr = [head]\n",
        "\n",
        "      while arr[-1].next:\n",
        "        arr.append(arr[-1].next)\n",
        "      return arr[len(arr)//2]"
      ]
    },
    {
      "cell_type": "code",
      "source": [
        "# Definition for singly-linked list.\n",
        "class ListNode:\n",
        "    def __init__(self, val=0, next=None):\n",
        "        self.val = val\n",
        "        self.next = next\n",
        "class Solution:\n",
        "    def middleNode(self, head: Optional[ListNode]) -> Optional[ListNode]:\n",
        "        slow = fast = head\n",
        "        while fast and fast.next:\n",
        "            slow= slow.next\n",
        "            fast = fast.next.next\n",
        "        return slow"
      ],
      "metadata": {
        "id": "H9ALweqc3m6w"
      },
      "execution_count": null,
      "outputs": []
    },
    {
      "cell_type": "code",
      "source": [
        "# Complexity Analysis\n",
        "\n",
        "# Time Complexity: O(N)O(N), where NN is the number of nodes in the given list.\n",
        "\n",
        "# Space Complexity: O(1)O(1), the space used by slow and fast"
      ],
      "metadata": {
        "id": "SXZtIZ-H4Ag9"
      },
      "execution_count": null,
      "outputs": []
    }
  ]
}