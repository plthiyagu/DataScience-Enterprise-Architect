{
  "nbformat": 4,
  "nbformat_minor": 0,
  "metadata": {
    "colab": {
      "provenance": [],
      "authorship_tag": "ABX9TyN5MyAi2Kr1DDLrBo9WpyJB",
      "include_colab_link": true
    },
    "kernelspec": {
      "name": "python3",
      "display_name": "Python 3"
    },
    "language_info": {
      "name": "python"
    }
  },
  "cells": [
    {
      "cell_type": "markdown",
      "metadata": {
        "id": "view-in-github",
        "colab_type": "text"
      },
      "source": [
        "<a href=\"https://colab.research.google.com/github/plthiyagu/AI-Engineering/blob/master/15-LeetCode/884_Uncommon_Words_from_Two_Sentences.ipynb\" target=\"_parent\"><img src=\"https://colab.research.google.com/assets/colab-badge.svg\" alt=\"Open In Colab\"/></a>"
      ]
    },
    {
      "cell_type": "code",
      "execution_count": 6,
      "metadata": {
        "id": "hUPB908psnku"
      },
      "outputs": [],
      "source": [
        "from typing import List\n",
        "class Solution:\n",
        "    def uncommonFromSentences(self, s1: str, s2: str) -> List[str]:\n",
        "       count = {}\n",
        "       for word in s1.split():\n",
        "         count[word] = count.get(word,0)+1\n",
        "       for word in s2.split():\n",
        "         count[word] = count.get(word,0)+1\n",
        "       return [word for word in count if count[word] ==1]"
      ]
    },
    {
      "cell_type": "code",
      "source": [
        "# Complexity Analysis\n",
        "\n",
        "# Time Complexity: O(M + N)O(M+N), where M, NM,N are the lengths of A and B respectively.\n",
        "\n",
        "# Space Complexity: O(M + N)O(M+N), the space used by count."
      ],
      "metadata": {
        "id": "onJ-2yMEspgq"
      },
      "execution_count": 8,
      "outputs": []
    },
    {
      "cell_type": "code",
      "source": [
        "from typing import List\n",
        "import collections\n",
        "class Solution:\n",
        "    def uncommonFromSentences(self, s1: str, s2: str) -> List[str]:\n",
        "      c = collections.Counter((s1 + \" \" + s2).split())\n",
        "      return [w for w in c if c[w] == 1]"
      ],
      "metadata": {
        "id": "rpPQpM06uYKv"
      },
      "execution_count": 11,
      "outputs": []
    },
    {
      "cell_type": "code",
      "source": [
        "sol = Solution()\n",
        "s1 = \"this apple is sweet\"\n",
        "s2 = \"this apple is sour\"\n",
        "sol.uncommonFromSentences(s1,s2)"
      ],
      "metadata": {
        "colab": {
          "base_uri": "https://localhost:8080/"
        },
        "id": "OOjgLMVRspl-",
        "outputId": "ef3ffb52-ecdb-45ea-fd32-ccbb744d60e1"
      },
      "execution_count": 12,
      "outputs": [
        {
          "output_type": "execute_result",
          "data": {
            "text/plain": [
              "['sweet', 'sour']"
            ]
          },
          "metadata": {},
          "execution_count": 12
        }
      ]
    },
    {
      "cell_type": "code",
      "source": [],
      "metadata": {
        "id": "L4mumQbcspn_"
      },
      "execution_count": null,
      "outputs": []
    },
    {
      "cell_type": "code",
      "source": [],
      "metadata": {
        "id": "_l8VyOR7spqo"
      },
      "execution_count": null,
      "outputs": []
    }
  ]
}