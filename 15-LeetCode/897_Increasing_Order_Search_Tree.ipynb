{
  "nbformat": 4,
  "nbformat_minor": 0,
  "metadata": {
    "colab": {
      "provenance": [],
      "authorship_tag": "ABX9TyOm/7YhFiFmHqpOWY0rKvHx",
      "include_colab_link": true
    },
    "kernelspec": {
      "name": "python3",
      "display_name": "Python 3"
    },
    "language_info": {
      "name": "python"
    }
  },
  "cells": [
    {
      "cell_type": "markdown",
      "metadata": {
        "id": "view-in-github",
        "colab_type": "text"
      },
      "source": [
        "<a href=\"https://colab.research.google.com/github/plthiyagu/AI-Engineering/blob/master/15-LeetCode/897_Increasing_Order_Search_Tree.ipynb\" target=\"_parent\"><img src=\"https://colab.research.google.com/assets/colab-badge.svg\" alt=\"Open In Colab\"/></a>"
      ]
    },
    {
      "cell_type": "code",
      "execution_count": null,
      "metadata": {
        "id": "4AfewvthUo7h"
      },
      "outputs": [],
      "source": [
        "# Definition for a binary tree node.\n",
        "class TreeNode:\n",
        "    def __init__(self, val=0, left=None, right=None):\n",
        "        self.val = val\n",
        "        self.left = left\n",
        "        self.right = right\n",
        "class Solution:\n",
        "    def increasingBST(self, root: TreeNode) -> TreeNode:\n",
        "      def inorder(node):\n",
        "        if node:\n",
        "          yield from inorder(node.left)\n",
        "          yield node.val\n",
        "          yield from inorder(node.right)\n",
        "      ans = cur = TreeNode(None)\n",
        "      for v in inorder(root):\n",
        "        cur.right = TreeNode(v)\n",
        "        cur = cur.right\n",
        "      return ans.right"
      ]
    },
    {
      "cell_type": "code",
      "source": [
        "# Definition for a binary tree node.\n",
        "class TreeNode:\n",
        "    def __init__(self, val=0, left=None, right=None):\n",
        "        self.val = val\n",
        "        self.left = left\n",
        "        self.right = right\n",
        "class Solution:\n",
        "    def increasingBST(self, root: TreeNode) -> TreeNode:\n",
        "      def inorder(node):\n",
        "        if node:\n",
        "          inorder(node.left)\n",
        "          node.left = None\n",
        "          self.cur.right =node\n",
        "          self.cur = node\n",
        "          inorder(node.right)\n",
        "\n",
        "      ans = cur = TreeNode(None)\n",
        "      inorder(root)    \n",
        "      return ans.right"
      ],
      "metadata": {
        "id": "zbiC0IKUUp2_"
      },
      "execution_count": 1,
      "outputs": []
    },
    {
      "cell_type": "code",
      "source": [],
      "metadata": {
        "id": "LJWYZPZLVtoI"
      },
      "execution_count": null,
      "outputs": []
    }
  ]
}