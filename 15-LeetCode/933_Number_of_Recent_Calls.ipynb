{
  "nbformat": 4,
  "nbformat_minor": 0,
  "metadata": {
    "colab": {
      "provenance": [],
      "collapsed_sections": [],
      "authorship_tag": "ABX9TyNEQkkDJPtiFcY+8GjK5CKF",
      "include_colab_link": true
    },
    "kernelspec": {
      "name": "python3",
      "display_name": "Python 3"
    },
    "language_info": {
      "name": "python"
    }
  },
  "cells": [
    {
      "cell_type": "markdown",
      "metadata": {
        "id": "view-in-github",
        "colab_type": "text"
      },
      "source": [
        "<a href=\"https://colab.research.google.com/github/plthiyagu/AI-Engineering/blob/master/15-LeetCode/933_Number_of_Recent_Calls.ipynb\" target=\"_parent\"><img src=\"https://colab.research.google.com/assets/colab-badge.svg\" alt=\"Open In Colab\"/></a>"
      ]
    },
    {
      "cell_type": "code",
      "execution_count": 2,
      "metadata": {
        "id": "smvYm2-Fhyrr"
      },
      "outputs": [],
      "source": [
        "from collections import deque\n",
        "\n",
        "class RecentCounter:\n",
        "\n",
        "    def __init__(self):\n",
        "        self.slide_window= deque()\n",
        "        \n",
        "\n",
        "    def ping(self, t: int) -> int:\n",
        "        self.slide_window.append(t)\n",
        "        \n",
        "        while self.slide_window[0] <t-3000:\n",
        "            self.slide_window.popleft()\n",
        "        return len(self.slide_window)"
      ]
    },
    {
      "cell_type": "code",
      "source": [],
      "metadata": {
        "id": "jVnccVK8h4Q8"
      },
      "execution_count": null,
      "outputs": []
    }
  ]
}