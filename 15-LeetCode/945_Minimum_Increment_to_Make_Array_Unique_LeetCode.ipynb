{
  "nbformat": 4,
  "nbformat_minor": 0,
  "metadata": {
    "colab": {
      "provenance": [],
      "authorship_tag": "ABX9TyP/8gQYf07m+QIKDpvOL691",
      "include_colab_link": true
    },
    "kernelspec": {
      "name": "python3",
      "display_name": "Python 3"
    },
    "language_info": {
      "name": "python"
    }
  },
  "cells": [
    {
      "cell_type": "markdown",
      "metadata": {
        "id": "view-in-github",
        "colab_type": "text"
      },
      "source": [
        "<a href=\"https://colab.research.google.com/github/plthiyagu/AI-Engineering/blob/master/15-LeetCode/945_Minimum_Increment_to_Make_Array_Unique_LeetCode.ipynb\" target=\"_parent\"><img src=\"https://colab.research.google.com/assets/colab-badge.svg\" alt=\"Open In Colab\"/></a>"
      ]
    },
    {
      "cell_type": "code",
      "execution_count": 2,
      "metadata": {
        "id": "62HLUz99gy5d"
      },
      "outputs": [],
      "source": [
        "from typing import List\n",
        "class Solution:\n",
        "    def minIncrementForUnique(self, nums: List[int]) -> int:\n",
        "        nums.sort()\n",
        "        max_val = nums[-1]\n",
        "        nums.append(len(nums)+max_val)\n",
        "        \n",
        "        moves= taken =0\n",
        "        for i in range(1, len(nums)):\n",
        "            if nums[i-1] ==nums[i]:\n",
        "                taken +=1\n",
        "                moves -= nums[i]\n",
        "            else:\n",
        "                give = min(taken, nums[i]- nums[i-1]-1)\n",
        "                moves += give * (give+1) //2 + give * nums[i-1]\n",
        "                taken -= give\n",
        "        return moves"
      ]
    },
    {
      "cell_type": "code",
      "source": [
        "sol = Solution()\n",
        "nums = [3,2,1,2,1,7]\n",
        "sol.minIncrementForUnique(nums)"
      ],
      "metadata": {
        "colab": {
          "base_uri": "https://localhost:8080/"
        },
        "id": "GlILobyDg1BD",
        "outputId": "d28a67b9-7b2c-46a1-c527-da5ccc7c408e"
      },
      "execution_count": 3,
      "outputs": [
        {
          "output_type": "execute_result",
          "data": {
            "text/plain": [
              "6"
            ]
          },
          "metadata": {},
          "execution_count": 3
        }
      ]
    },
    {
      "cell_type": "code",
      "source": [],
      "metadata": {
        "id": "vRzpIfBHhA06"
      },
      "execution_count": null,
      "outputs": []
    }
  ]
}