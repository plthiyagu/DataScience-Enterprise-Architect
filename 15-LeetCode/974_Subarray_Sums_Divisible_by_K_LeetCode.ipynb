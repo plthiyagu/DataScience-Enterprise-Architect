{
  "nbformat": 4,
  "nbformat_minor": 0,
  "metadata": {
    "colab": {
      "provenance": [],
      "authorship_tag": "ABX9TyOAcX9TPcM9RIKVGCNx4inI",
      "include_colab_link": true
    },
    "kernelspec": {
      "name": "python3",
      "display_name": "Python 3"
    },
    "language_info": {
      "name": "python"
    }
  },
  "cells": [
    {
      "cell_type": "markdown",
      "metadata": {
        "id": "view-in-github",
        "colab_type": "text"
      },
      "source": [
        "<a href=\"https://colab.research.google.com/github/plthiyagu/AI-Engineering/blob/master/15-LeetCode/974_Subarray_Sums_Divisible_by_K_LeetCode.ipynb\" target=\"_parent\"><img src=\"https://colab.research.google.com/assets/colab-badge.svg\" alt=\"Open In Colab\"/></a>"
      ]
    },
    {
      "cell_type": "code",
      "execution_count": 3,
      "metadata": {
        "id": "Tl5ZfZDes08y"
      },
      "outputs": [],
      "source": [
        "from typing import List\n",
        "class Solution:\n",
        "    def subarraysDivByK(self, nums: List[int], k: int) -> int:\n",
        "        ret = 0\n",
        "        s = 0\n",
        "        hash_map = {}\n",
        "        hash_map[0] = 1\n",
        "        for n in nums:\n",
        "            s += n \n",
        "            if s % k in hash_map:\n",
        "                ret += hash_map[s % k]\n",
        "            hash_map[s % k] = hash_map.get(s % k, 0) + 1\n",
        "        return ret"
      ]
    },
    {
      "cell_type": "code",
      "source": [
        "nums = [4,5,0,-2,-3,1]\n",
        "k = 5\n",
        "sol = Solution()\n",
        "sol.subarraysDivByK(nums,k)"
      ],
      "metadata": {
        "colab": {
          "base_uri": "https://localhost:8080/"
        },
        "id": "HbEK4KMTs6ma",
        "outputId": "fbc91798-7a6e-40d0-b7e4-02ae565980a2"
      },
      "execution_count": 4,
      "outputs": [
        {
          "output_type": "execute_result",
          "data": {
            "text/plain": [
              "7"
            ]
          },
          "metadata": {},
          "execution_count": 4
        }
      ]
    },
    {
      "cell_type": "code",
      "source": [],
      "metadata": {
        "id": "xv15NzsstDb6"
      },
      "execution_count": null,
      "outputs": []
    },
    {
      "cell_type": "code",
      "source": [],
      "metadata": {
        "id": "lTyAgzeKs2qW"
      },
      "execution_count": null,
      "outputs": []
    }
  ]
}