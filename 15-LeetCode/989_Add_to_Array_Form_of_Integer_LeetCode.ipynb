{
  "nbformat": 4,
  "nbformat_minor": 0,
  "metadata": {
    "colab": {
      "name": "989 Add to Array-Form of Integer LeetCode.ipynb",
      "provenance": [],
      "authorship_tag": "ABX9TyN1iXhSKp8zB0He1V7AWjV1",
      "include_colab_link": true
    },
    "kernelspec": {
      "name": "python3",
      "display_name": "Python 3"
    },
    "language_info": {
      "name": "python"
    }
  },
  "cells": [
    {
      "cell_type": "markdown",
      "metadata": {
        "id": "view-in-github",
        "colab_type": "text"
      },
      "source": [
        "<a href=\"https://colab.research.google.com/github/plthiyagu/AI-Engineering/blob/master/15-LeetCode/989_Add_to_Array_Form_of_Integer_LeetCode.ipynb\" target=\"_parent\"><img src=\"https://colab.research.google.com/assets/colab-badge.svg\" alt=\"Open In Colab\"/></a>"
      ]
    },
    {
      "cell_type": "code",
      "execution_count": 1,
      "metadata": {
        "id": "3auFE9AVZN6j"
      },
      "outputs": [],
      "source": [
        "from typing import List\n",
        "class Solution:\n",
        "    def addToArrayForm(self, num: List[int], k: int) -> List[int]:\n",
        "        num[-1] += k\n",
        "        for i in range(len(num)-1,-1,-1):\n",
        "            carry,num[i] = divmod(num[i],10)\n",
        "            if i: num[i-1] += carry\n",
        "        if carry:\n",
        "            num = map(int,str(carry)) + A\n",
        "        return num       "
      ]
    },
    {
      "cell_type": "code",
      "source": [
        "num = [1,2,0,0]\n",
        "k = 34\n",
        "sol = Solution()\n",
        "sol.addToArrayForm(num,k)"
      ],
      "metadata": {
        "colab": {
          "base_uri": "https://localhost:8080/"
        },
        "id": "cwlDfQdFZUZR",
        "outputId": "1ad277e3-838d-488d-b09f-f7f0416ca0cc"
      },
      "execution_count": 2,
      "outputs": [
        {
          "output_type": "execute_result",
          "data": {
            "text/plain": [
              "[1, 2, 3, 4]"
            ]
          },
          "metadata": {},
          "execution_count": 2
        }
      ]
    },
    {
      "cell_type": "code",
      "source": [
        "class Solution:\n",
        "    def addToArrayForm(self, num: List[int], k: int) -> List[int]:\n",
        "      num_values =0\n",
        "      for val in num:\n",
        "        num_values = num_values *10 + val\n",
        "      sum_value = num_values +k\n",
        "      if sum_value ==0:\n",
        "        return [0]\n",
        "      results =[]\n",
        "      while sum_value >0:\n",
        "        results.insert(0,sum_value %10)\n",
        "        sum_value = sum_value //10\n",
        "      return results\n",
        "\n"
      ],
      "metadata": {
        "id": "sI-hOzipZnhW"
      },
      "execution_count": 3,
      "outputs": []
    },
    {
      "cell_type": "code",
      "source": [
        "num = [1,2,0,0]\n",
        "k = 34\n",
        "sol = Solution()\n",
        "sol.addToArrayForm(num,k)"
      ],
      "metadata": {
        "colab": {
          "base_uri": "https://localhost:8080/"
        },
        "id": "kJxjbkqmacAP",
        "outputId": "9ccfdb2e-9b8a-468a-d28e-c353a20a2b2d"
      },
      "execution_count": 4,
      "outputs": [
        {
          "output_type": "execute_result",
          "data": {
            "text/plain": [
              "[1, 2, 3, 4]"
            ]
          },
          "metadata": {},
          "execution_count": 4
        }
      ]
    },
    {
      "cell_type": "code",
      "source": [
        ""
      ],
      "metadata": {
        "id": "D1gn3rPgadcm"
      },
      "execution_count": null,
      "outputs": []
    }
  ]
}