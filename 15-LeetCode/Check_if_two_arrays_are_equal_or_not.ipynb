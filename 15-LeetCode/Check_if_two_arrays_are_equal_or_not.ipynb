{
  "nbformat": 4,
  "nbformat_minor": 0,
  "metadata": {
    "colab": {
      "provenance": [],
      "authorship_tag": "ABX9TyMK6Gqi4O3vjtkJzyTBIzVn",
      "include_colab_link": true
    },
    "kernelspec": {
      "name": "python3",
      "display_name": "Python 3"
    },
    "language_info": {
      "name": "python"
    }
  },
  "cells": [
    {
      "cell_type": "markdown",
      "metadata": {
        "id": "view-in-github",
        "colab_type": "text"
      },
      "source": [
        "<a href=\"https://colab.research.google.com/github/plthiyagu/DataScience-Enterprise-Architect/blob/master/15-LeetCode/Check_if_two_arrays_are_equal_or_not.ipynb\" target=\"_parent\"><img src=\"https://colab.research.google.com/assets/colab-badge.svg\" alt=\"Open In Colab\"/></a>"
      ]
    },
    {
      "cell_type": "code",
      "execution_count": 3,
      "metadata": {
        "id": "-Kb1SVI7h_rJ"
      },
      "outputs": [],
      "source": [
        "def areEqual(arr1, arr2, N, M):\n",
        "  if N!=M:\n",
        "    return False\n",
        "  arr1.sort()\n",
        "  arr2.sort()\n",
        "  for i in range(0,N):\n",
        "    if arr1[i]!= arr2[i]:\n",
        "      return False\n",
        "  return True"
      ]
    },
    {
      "cell_type": "code",
      "source": [
        "arr1=[1, 2, 5, 4, 0]\n",
        "arr2=[2, 4, 5, 0, 1]\n",
        "N= 5\n",
        "M= 5\n",
        "areEqual(arr1,arr2,N,M)"
      ],
      "metadata": {
        "colab": {
          "base_uri": "https://localhost:8080/"
        },
        "id": "YzQYNnsmiD2B",
        "outputId": "b8ba3a45-cac0-4b7d-f5c6-a0175ed7f63f"
      },
      "execution_count": 4,
      "outputs": [
        {
          "output_type": "execute_result",
          "data": {
            "text/plain": [
              "True"
            ]
          },
          "metadata": {},
          "execution_count": 4
        }
      ]
    },
    {
      "cell_type": "code",
      "source": [],
      "metadata": {
        "id": "oKSTEg7hlVP2"
      },
      "execution_count": null,
      "outputs": []
    }
  ]
}