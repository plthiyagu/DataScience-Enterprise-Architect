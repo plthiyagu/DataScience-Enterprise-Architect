{
  "nbformat": 4,
  "nbformat_minor": 0,
  "metadata": {
    "colab": {
      "provenance": [],
      "authorship_tag": "ABX9TyOMeoXaM4Pt66OayboFQMZo",
      "include_colab_link": true
    },
    "kernelspec": {
      "name": "python3",
      "display_name": "Python 3"
    },
    "language_info": {
      "name": "python"
    }
  },
  "cells": [
    {
      "cell_type": "markdown",
      "metadata": {
        "id": "view-in-github",
        "colab_type": "text"
      },
      "source": [
        "<a href=\"https://colab.research.google.com/github/plthiyagu/AI-Engineering/blob/master/15%3DLeetCode/49_Group_Anagrams.ipynb\" target=\"_parent\"><img src=\"https://colab.research.google.com/assets/colab-badge.svg\" alt=\"Open In Colab\"/></a>"
      ]
    },
    {
      "cell_type": "code",
      "execution_count": 2,
      "metadata": {
        "id": "q8c1311Mhdm2"
      },
      "outputs": [],
      "source": [
        "from typing import List\n",
        "import collections\n",
        "class Solution:\n",
        "    def groupAnagrams(self, strs: List[str]) -> List[List[str]]:\n",
        "      ans= collections.defaultdict(list)\n",
        "      for s in strs:\n",
        "        ans[tuple(sorted(s))].append(s)\n",
        "      return ans.values()\n",
        "      "
      ]
    },
    {
      "cell_type": "code",
      "source": [
        "sol = Solution()\n",
        "strs = [\"eat\",\"tea\",\"tan\",\"ate\",\"nat\",\"bat\"]\n",
        "sol.groupAnagrams(strs)"
      ],
      "metadata": {
        "colab": {
          "base_uri": "https://localhost:8080/"
        },
        "id": "WLgiVvBOi3t8",
        "outputId": "8d12643e-2848-4911-e564-c1e6b575ac20"
      },
      "execution_count": 3,
      "outputs": [
        {
          "output_type": "execute_result",
          "data": {
            "text/plain": [
              "dict_values([['eat', 'tea', 'ate'], ['tan', 'nat'], ['bat']])"
            ]
          },
          "metadata": {},
          "execution_count": 3
        }
      ]
    },
    {
      "cell_type": "code",
      "source": [
        "# Complexity Analysis\n",
        "\n",
        "# Time Complexity: O(NK \\log K)O(NKlogK), where NN is the length of strs, and KK is the maximum length of a string in strs. The outer loop has complexity O(N)O(N) as we iterate through each string. Then, we sort each string in O(K \\log K)O(KlogK) time.\n",
        "\n",
        "# Space Complexity: O(NK)O(NK), the total information content stored in ans"
      ],
      "metadata": {
        "id": "9BauC2HVjAg2"
      },
      "execution_count": null,
      "outputs": []
    },
    {
      "cell_type": "code",
      "source": [
        "class Solution:\n",
        "    def groupAnagrams(strs):\n",
        "        ans = collections.defaultdict(list)\n",
        "        for s in strs:\n",
        "            count = [0] * 26\n",
        "            for c in s:\n",
        "                count[ord(c) - ord('a')] += 1\n",
        "            ans[tuple(count)].append(s)\n",
        "        return ans.values()"
      ],
      "metadata": {
        "id": "KYo3xAKYhiPD"
      },
      "execution_count": null,
      "outputs": []
    }
  ]
}