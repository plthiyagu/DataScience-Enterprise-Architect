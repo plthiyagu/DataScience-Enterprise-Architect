{
  "nbformat": 4,
  "nbformat_minor": 0,
  "metadata": {
    "colab": {
      "provenance": [],
      "authorship_tag": "ABX9TyP/sFaKkMWLloEdQfrwgVSZ",
      "include_colab_link": true
    },
    "kernelspec": {
      "name": "python3",
      "display_name": "Python 3"
    },
    "language_info": {
      "name": "python"
    }
  },
  "cells": [
    {
      "cell_type": "markdown",
      "metadata": {
        "id": "view-in-github",
        "colab_type": "text"
      },
      "source": [
        "<a href=\"https://colab.research.google.com/github/plthiyagu/DataScience-Enterprise-Architect/blob/master/Data%20Science%20Coding%20Interview/Calculate_2x2_Matrix_Inverse.ipynb\" target=\"_parent\"><img src=\"https://colab.research.google.com/assets/colab-badge.svg\" alt=\"Open In Colab\"/></a>"
      ]
    },
    {
      "cell_type": "markdown",
      "source": [
        "Write a Python function that calculates the inverse of a 2x2 matrix. Return 'None' if the matrix is not invertible.\n",
        "\n",
        "Example\n",
        "\n",
        "Example:\n",
        "\n",
        "        input: matrix = [[4, 7], [2, 6]]\n",
        "        output: [[0.6, -0.7], [-0.2, 0.4]]\n",
        "        reasoning: The inverse of a 2x2 matrix [a, b], [c, d] is given by (1/(ad-bc)) * [d, -b], [-c, a], provided ad-bc is not zero."
      ],
      "metadata": {
        "id": "qB_dyAt8e593"
      }
    },
    {
      "cell_type": "code",
      "execution_count": 1,
      "metadata": {
        "id": "Mwp16Y1nezF7"
      },
      "outputs": [],
      "source": [
        "def inverse_2x2(matrix: list[list[float]]) -> list[list[float]]:\n",
        "    a, b, c, d = matrix[0][0], matrix[0][1], matrix[1][0], matrix[1][1]\n",
        "    determinant = a * d - b * c\n",
        "    if determinant == 0:\n",
        "        return None\n",
        "    inverse = [[d/determinant, -b/determinant], [-c/determinant, a/determinant]]\n",
        "    return inverse"
      ]
    },
    {
      "cell_type": "code",
      "source": [
        "matrix = [[4, 7], [2, 6]]\n",
        "inverse_2x2(matrix)"
      ],
      "metadata": {
        "colab": {
          "base_uri": "https://localhost:8080/"
        },
        "id": "Q8NvZoBifBSh",
        "outputId": "be77a7c2-b1fe-4844-b507-4962605f4b74"
      },
      "execution_count": 2,
      "outputs": [
        {
          "output_type": "execute_result",
          "data": {
            "text/plain": [
              "[[0.6, -0.7], [-0.2, 0.4]]"
            ]
          },
          "metadata": {},
          "execution_count": 2
        }
      ]
    },
    {
      "cell_type": "code",
      "source": [],
      "metadata": {
        "id": "CR1I6vbqfHwS"
      },
      "execution_count": null,
      "outputs": []
    }
  ]
}