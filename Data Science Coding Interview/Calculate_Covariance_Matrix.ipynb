{
  "nbformat": 4,
  "nbformat_minor": 0,
  "metadata": {
    "colab": {
      "provenance": [],
      "authorship_tag": "ABX9TyMjrWyzC+vhNs7dVOGFImyL",
      "include_colab_link": true
    },
    "kernelspec": {
      "name": "python3",
      "display_name": "Python 3"
    },
    "language_info": {
      "name": "python"
    }
  },
  "cells": [
    {
      "cell_type": "markdown",
      "metadata": {
        "id": "view-in-github",
        "colab_type": "text"
      },
      "source": [
        "<a href=\"https://colab.research.google.com/github/plthiyagu/DataScience-Enterprise-Architect/blob/master/Data%20Science%20Coding%20Interview/Calculate_Covariance_Matrix.ipynb\" target=\"_parent\"><img src=\"https://colab.research.google.com/assets/colab-badge.svg\" alt=\"Open In Colab\"/></a>"
      ]
    },
    {
      "cell_type": "code",
      "execution_count": 1,
      "metadata": {
        "id": "QV_858VGZfVV"
      },
      "outputs": [],
      "source": [
        "def calculate_covariance_matrix(vectors: list[list[float]]) -> list[list[float]]:\n",
        "    n_features = len(vectors)\n",
        "    n_observations = len(vectors[0])\n",
        "    covariance_matrix = [[0 for _ in range(n_features)] for _ in range(n_features)]\n",
        "\n",
        "    means = [sum(feature) / n_observations for feature in vectors]\n",
        "\n",
        "    for i in range(n_features):\n",
        "        for j in range(i, n_features):\n",
        "            covariance = sum((vectors[i][k] - means[i]) * (vectors[j][k] - means[j]) for k in range(n_observations)) / (n_observations - 1)\n",
        "            covariance_matrix[i][j] = covariance_matrix[j][i] = covariance\n",
        "\n",
        "    return covariance_matrix"
      ]
    },
    {
      "cell_type": "code",
      "source": [
        " vectors = [[1, 2, 3], [4, 5, 6]]\n",
        " calculate_covariance_matrix(vectors)"
      ],
      "metadata": {
        "colab": {
          "base_uri": "https://localhost:8080/"
        },
        "id": "R69N5GPSZqBW",
        "outputId": "6a21f7ac-c9c4-42cc-8558-cc821ce064fd"
      },
      "execution_count": 2,
      "outputs": [
        {
          "output_type": "execute_result",
          "data": {
            "text/plain": [
              "[[1.0, 1.0], [1.0, 1.0]]"
            ]
          },
          "metadata": {},
          "execution_count": 2
        }
      ]
    },
    {
      "cell_type": "markdown",
      "source": [
        "Example:\n",
        "        input: vectors = [[1, 2, 3], [4, 5, 6]]\n",
        "        output: [[1.0, 1.0], [1.0, 1.0]]\n",
        "        reasoning: The dataset has two features with three observations each. The covariance between each pair of features (including covariance with itself) is calculated and returned as a 2x2 matrix"
      ],
      "metadata": {
        "id": "XUbrjdkwZldf"
      }
    }
  ]
}