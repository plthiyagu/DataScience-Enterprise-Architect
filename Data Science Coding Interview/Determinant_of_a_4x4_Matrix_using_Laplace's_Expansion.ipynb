{
  "nbformat": 4,
  "nbformat_minor": 0,
  "metadata": {
    "colab": {
      "provenance": [],
      "authorship_tag": "ABX9TyNOle6FWXFrTGBRYENUJTgz",
      "include_colab_link": true
    },
    "kernelspec": {
      "name": "python3",
      "display_name": "Python 3"
    },
    "language_info": {
      "name": "python"
    }
  },
  "cells": [
    {
      "cell_type": "markdown",
      "metadata": {
        "id": "view-in-github",
        "colab_type": "text"
      },
      "source": [
        "<a href=\"https://colab.research.google.com/github/plthiyagu/DataScience-Enterprise-Architect/blob/master/Data%20Science%20Coding%20Interview/Determinant_of_a_4x4_Matrix_using_Laplace's_Expansion.ipynb\" target=\"_parent\"><img src=\"https://colab.research.google.com/assets/colab-badge.svg\" alt=\"Open In Colab\"/></a>"
      ]
    },
    {
      "cell_type": "markdown",
      "source": [
        "Determinant of a 4x4 Matrix using Laplace's Expansion (hard)\n",
        "Write a Python function that calculates the determinant of a 4x4 matrix using Laplace's Expansion method. The function should take a single argument, a 4x4 matrix represented as a list of lists, and return the determinant of the matrix. The elements of the matrix can be integers or floating-point numbers. Implement the function recursively to handle the computation of determinants for the 3x3 minor matrices.\n",
        "\n",
        "Example\n",
        "Example:\n",
        "\n",
        "        input: a = [[1,2,3,4],[5,6,7,8],[9,10,11,12],[13,14,15,16]]\n",
        "        output: 0\n",
        "        reasoning: Using Laplace's Expansion, the determinant of a 4x4 matri"
      ],
      "metadata": {
        "id": "CA0WIplebJBE"
      }
    },
    {
      "cell_type": "code",
      "execution_count": 2,
      "metadata": {
        "id": "_PYRMqk9bDta"
      },
      "outputs": [],
      "source": [
        "def determinant_4x4(matrix: list[list[int|float]]) -> float:\n",
        "    # Base case: If the matrix is 1x1, return its single element\n",
        "    if len(matrix) == 1:\n",
        "        return matrix[0][0]\n",
        "    # Recursive case: Calculate determinant using Laplace's Expansion\n",
        "    det = 0\n",
        "    for c in range(len(matrix)):\n",
        "        minor = [row[:c] + row[c+1:] for row in matrix[1:]]  # Remove column c\n",
        "        cofactor = ((-1)**c) * determinant_4x4(minor)  # Compute cofactor\n",
        "        det += matrix[0][c] * cofactor  # Add to running total\n",
        "    return det"
      ]
    },
    {
      "cell_type": "code",
      "source": [
        "a = [[1,2,3,4],[5,6,7,8],[9,10,11,12],[13,14,15,16]]\n",
        "determinant_4x4(a)"
      ],
      "metadata": {
        "colab": {
          "base_uri": "https://localhost:8080/"
        },
        "id": "78uP9d4OcHv2",
        "outputId": "8c5005d6-174c-4c75-fb09-84ec25d987c9"
      },
      "execution_count": 3,
      "outputs": [
        {
          "output_type": "execute_result",
          "data": {
            "text/plain": [
              "0"
            ]
          },
          "metadata": {},
          "execution_count": 3
        }
      ]
    }
  ]
}