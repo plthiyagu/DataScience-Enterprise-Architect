{
  "nbformat": 4,
  "nbformat_minor": 0,
  "metadata": {
    "colab": {
      "provenance": [],
      "authorship_tag": "ABX9TyOr7KPOMEC3DxcJxaavco8J",
      "include_colab_link": true
    },
    "kernelspec": {
      "name": "python3",
      "display_name": "Python 3"
    },
    "language_info": {
      "name": "python"
    }
  },
  "cells": [
    {
      "cell_type": "markdown",
      "metadata": {
        "id": "view-in-github",
        "colab_type": "text"
      },
      "source": [
        "<a href=\"https://colab.research.google.com/github/plthiyagu/DataScience-Enterprise-Architect/blob/master/Data%20Science%20Coding%20Interview/Implement_F_Score_Calculation_for_Binary_Classification.ipynb\" target=\"_parent\"><img src=\"https://colab.research.google.com/assets/colab-badge.svg\" alt=\"Open In Colab\"/></a>"
      ]
    },
    {
      "cell_type": "markdown",
      "source": [
        "Implement F-Score Calculation for Binary Classification\n",
        "Task: Implement F-Score Calculation for Binary Classification\n",
        "Your task is to implement a function that calculates the F-Score for a binary classification task. The F-Score combines both Precision and Recall into a single metric, providing a balanced measure of a model's performance.\n",
        "\n",
        "Write a function f_score(y_true, y_pred, beta) where:\n",
        "\n",
        "y_true: A numpy array of true labels (binary).\n",
        "y_pred: A numpy array of predicted labels (binary).\n",
        "beta: A float value that adjusts the importance of Precision and Recall. When beta=1, it computes the F1-Score, a balanced measure of both Precision and Recall.\n",
        "The function should return the F-Score rounded to three decimal places.\n",
        "\n",
        "Example\n",
        "\n",
        "Example:\n",
        "\n",
        "import numpy as np\n",
        "\n",
        "y_true = np.array([1, 0, 1, 1, 0, 1])\n",
        "y_pred = np.array([1, 0, 1, 0, 0, 1])\n",
        "beta = 1\n",
        "\n",
        "print(f_score(y_true, y_pred, beta))\n",
        "\n",
        "# Expected Output:\n",
        "# 0.857"
      ],
      "metadata": {
        "id": "-dBnxUe_hzux"
      }
    },
    {
      "cell_type": "code",
      "execution_count": 1,
      "metadata": {
        "id": "YgWdXg5ahrIe"
      },
      "outputs": [],
      "source": [
        "import numpy as np\n",
        "\n",
        "def f_score(y_true, y_pred, beta):\n",
        "    tp = np.sum((y_true == 1) & (y_pred == 1))\n",
        "    fn = np.sum((y_true == 1) & (y_pred == 0))\n",
        "    fp = np.sum((y_true == 0) & (y_pred == 1))\n",
        "\n",
        "    recall = tp / (tp + fn) if (tp + fn) > 0 else 0\n",
        "    precision = tp / (tp + fp) if (tp + fp) > 0 else 0\n",
        "\n",
        "    op = precision * recall\n",
        "    div = ((beta**2) * precision) + recall\n",
        "\n",
        "    if div == 0 or op == 0:\n",
        "        return 0.0\n",
        "\n",
        "    score = (1 + (beta ** 2)) * op / div\n",
        "    return round(score, 3)\n"
      ]
    },
    {
      "cell_type": "code",
      "source": [
        "import numpy as np\n",
        "\n",
        "y_true = np.array([1, 0, 1, 1, 0, 1])\n",
        "y_pred = np.array([1, 0, 1, 0, 0, 1])\n",
        "beta = 1\n",
        "\n",
        "print(f_score(y_true, y_pred, beta))"
      ],
      "metadata": {
        "colab": {
          "base_uri": "https://localhost:8080/"
        },
        "id": "kiKmqES6h5Th",
        "outputId": "d67f16fc-55bd-4c4d-f56b-d641c50740b3"
      },
      "execution_count": 3,
      "outputs": [
        {
          "output_type": "stream",
          "name": "stdout",
          "text": [
            "0.857\n"
          ]
        }
      ]
    },
    {
      "cell_type": "code",
      "source": [],
      "metadata": {
        "id": "sFEcTdRTh9pW"
      },
      "execution_count": null,
      "outputs": []
    }
  ]
}