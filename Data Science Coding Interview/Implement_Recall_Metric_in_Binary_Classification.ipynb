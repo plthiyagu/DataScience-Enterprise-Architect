{
  "nbformat": 4,
  "nbformat_minor": 0,
  "metadata": {
    "colab": {
      "provenance": []
    },
    "kernelspec": {
      "name": "python3",
      "display_name": "Python 3"
    },
    "language_info": {
      "name": "python"
    }
  },
  "cells": [
    {
      "cell_type": "markdown",
      "source": [
        "Implement Recall Metric in Binary Classification\n",
        "Task: Implement Recall in Binary Classification\n",
        "Your task is to implement the recall metric in a binary classification setting. Recall is a performance measure that evaluates how effectively a machine learning model identifies positive instances from all the actual positive cases in a dataset.\n",
        "\n",
        "You need to write a function recall(y_true, y_pred) that calculates the recall metric. The function should accept two inputs\n",
        "\n",
        "Your function should return the recall value rounded to three decimal places. If the denominator (TP + FN) is zero, the recall should be 0.0 to avoid division by zero.\n",
        "\n",
        "Example\n",
        "\n",
        "Example:\n",
        "\n",
        "import numpy as np\n",
        "\n",
        "y_true = np.array([1, 0, 1, 1, 0, 1])\n",
        "y_pred = np.array([1, 0, 1, 0, 0, 1])\n",
        "\n",
        "print(recall(y_true, y_pred))\n",
        "\n",
        "# Expected Output:\n",
        "# 0.75"
      ],
      "metadata": {
        "id": "1UQ4qqwliz3W"
      }
    },
    {
      "cell_type": "code",
      "execution_count": 1,
      "metadata": {
        "id": "k3_ncop3ivkU"
      },
      "outputs": [],
      "source": [
        "import numpy as np\n",
        "\n",
        "def recall(y_true, y_pred):\n",
        "    tp = np.sum((y_true == 1) & (y_pred == 1))\n",
        "    fn = np.sum((y_true == 1) & (y_pred == 0))\n",
        "\n",
        "    try:\n",
        "        return round(tp / (tp + fn), 3)\n",
        "    except ZeroDivisionError:\n",
        "        return 0.0"
      ]
    },
    {
      "cell_type": "code",
      "source": [
        "import numpy as np\n",
        "\n",
        "y_true = np.array([1, 0, 1, 1, 0, 1])\n",
        "y_pred = np.array([1, 0, 1, 0, 0, 1])\n",
        "\n",
        "print(recall(y_true, y_pred))"
      ],
      "metadata": {
        "colab": {
          "base_uri": "https://localhost:8080/"
        },
        "id": "sqGde81wi4M_",
        "outputId": "e5ef553e-d584-4f81-d681-c9ecae2caff7"
      },
      "execution_count": 2,
      "outputs": [
        {
          "output_type": "stream",
          "name": "stdout",
          "text": [
            "0.75\n"
          ]
        }
      ]
    },
    {
      "cell_type": "code",
      "source": [],
      "metadata": {
        "id": "xJLXl8dPi7Qa"
      },
      "execution_count": null,
      "outputs": []
    }
  ]
}