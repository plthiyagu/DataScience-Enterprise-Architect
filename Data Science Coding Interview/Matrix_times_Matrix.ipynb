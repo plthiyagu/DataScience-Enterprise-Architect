{
  "nbformat": 4,
  "nbformat_minor": 0,
  "metadata": {
    "colab": {
      "provenance": [],
      "authorship_tag": "ABX9TyPA37QyErRiUbN8klfDR6Ha",
      "include_colab_link": true
    },
    "kernelspec": {
      "name": "python3",
      "display_name": "Python 3"
    },
    "language_info": {
      "name": "python"
    }
  },
  "cells": [
    {
      "cell_type": "markdown",
      "metadata": {
        "id": "view-in-github",
        "colab_type": "text"
      },
      "source": [
        "<a href=\"https://colab.research.google.com/github/plthiyagu/DataScience-Enterprise-Architect/blob/master/Data%20Science%20Coding%20Interview/Matrix_times_Matrix.ipynb\" target=\"_parent\"><img src=\"https://colab.research.google.com/assets/colab-badge.svg\" alt=\"Open In Colab\"/></a>"
      ]
    },
    {
      "cell_type": "markdown",
      "source": [
        "multiply two matrices together (return -1 if shapes of matrix dont aline), i.e. C = A dot product B\n",
        "Example\n",
        "\n",
        "Example:\n",
        "\n",
        "        input: A = [[1,2],\n",
        "                    [2,4]],\n",
        "               B = [[2,1],\n",
        "                    [3,4]]\n",
        "        output:[[ 8,  9],\n",
        "                [16, 18]]\n",
        "        reasoning: 1*2 + 2*3 = 8;\n",
        "                   2*2 + 3*4 = 16;\n",
        "                   1*1 + 2*4 = 9;\n",
        "                   2*1 + 4*4 = 18\n",
        "                    \n",
        "Example 2:\n",
        "\n",
        "        input: A = [[1,2],\n",
        "                    [2,4]],\n",
        "               B = [[2,1],\n",
        "                    [3,4],\n",
        "                    [4,5]]\n",
        "        output: -1\n",
        "        \n",
        "        reasoning: the length of the rows of A does not equal\n",
        "          the column length of B"
      ],
      "metadata": {
        "id": "dOi8h7b6fe1v"
      }
    },
    {
      "cell_type": "code",
      "execution_count": 1,
      "metadata": {
        "id": "h5AEhe5PfYyS"
      },
      "outputs": [],
      "source": [
        "def matrixmul(a:list[list[int|float]],\n",
        "              b:list[list[int|float]])-> list[list[int|float]]:\n",
        "    if len(a[0]) != len(b):\n",
        "        return -1\n",
        "\n",
        "    vals = []\n",
        "    for i in range(len(a)):\n",
        "        hold = []\n",
        "        for j in range(len(b[0])):\n",
        "            val = 0\n",
        "            for k in range(len(b)):\n",
        "                val += a[i][k] * b[k][j]\n",
        "\n",
        "            hold.append(val)\n",
        "        vals.append(hold)\n",
        "\n",
        "    return vals"
      ]
    },
    {
      "cell_type": "code",
      "source": [
        "A = [[1,2],[2,4]]\n",
        "B = [[2,1],[3,4]]\n",
        "matrixmul(A,B)"
      ],
      "metadata": {
        "colab": {
          "base_uri": "https://localhost:8080/"
        },
        "id": "pEGgMPtMfp37",
        "outputId": "931ea053-9ff9-481f-b656-d6333661710d"
      },
      "execution_count": 5,
      "outputs": [
        {
          "output_type": "execute_result",
          "data": {
            "text/plain": [
              "[[8, 9], [16, 18]]"
            ]
          },
          "metadata": {},
          "execution_count": 5
        }
      ]
    },
    {
      "cell_type": "code",
      "source": [],
      "metadata": {
        "id": "2ADsGYkNfzdx"
      },
      "execution_count": null,
      "outputs": []
    }
  ]
}