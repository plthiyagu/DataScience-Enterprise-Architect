{
  "nbformat": 4,
  "nbformat_minor": 0,
  "metadata": {
    "colab": {
      "provenance": [],
      "authorship_tag": "ABX9TyNcP9WulCEhdQkXrYf96lcF",
      "include_colab_link": true
    },
    "kernelspec": {
      "name": "python3",
      "display_name": "Python 3"
    },
    "language_info": {
      "name": "python"
    }
  },
  "cells": [
    {
      "cell_type": "markdown",
      "metadata": {
        "id": "view-in-github",
        "colab_type": "text"
      },
      "source": [
        "<a href=\"https://colab.research.google.com/github/plthiyagu/DataScience-Enterprise-Architect/blob/master/Data%20Science%20Coding%20Interview/Matrix_times_Vector.ipynb\" target=\"_parent\"><img src=\"https://colab.research.google.com/assets/colab-badge.svg\" alt=\"Open In Colab\"/></a>"
      ]
    },
    {
      "cell_type": "code",
      "execution_count": 1,
      "metadata": {
        "id": "0azn4bACXz7w"
      },
      "outputs": [],
      "source": [
        "def matrix_dot_vector(a:list[list[int|float]],b:list[int|float])-> list[int|float]:\n",
        "    if len(a[0]) != len(b):\n",
        "        return -1\n",
        "    vals = []\n",
        "    for i in a:\n",
        "        hold = 0\n",
        "        for j in range(len(i)):\n",
        "            hold+=(i[j] * b[j])\n",
        "        vals.append(hold)\n",
        "\n",
        "    return vals"
      ]
    },
    {
      "cell_type": "code",
      "source": [
        "a = [[1,2],[2,4]]\n",
        "b = [1,2]\n",
        "# output:[5, 10]\n",
        "# reasoning: 1*1 + 2*2 = 5;\n",
        "#             1*2+ 2*4 = 10"
      ],
      "metadata": {
        "id": "dcp--4yYX6G9"
      },
      "execution_count": 3,
      "outputs": []
    },
    {
      "cell_type": "code",
      "source": [
        "matrix_dot_vector(a,b)\n"
      ],
      "metadata": {
        "colab": {
          "base_uri": "https://localhost:8080/"
        },
        "id": "We8H5XGZYJ2o",
        "outputId": "72b8b07f-0a1b-4656-fb29-d2688614daa9"
      },
      "execution_count": 4,
      "outputs": [
        {
          "output_type": "execute_result",
          "data": {
            "text/plain": [
              "[5, 10]"
            ]
          },
          "metadata": {},
          "execution_count": 4
        }
      ]
    },
    {
      "cell_type": "code",
      "source": [],
      "metadata": {
        "id": "YBjftCAYYTYP"
      },
      "execution_count": null,
      "outputs": []
    }
  ]
}