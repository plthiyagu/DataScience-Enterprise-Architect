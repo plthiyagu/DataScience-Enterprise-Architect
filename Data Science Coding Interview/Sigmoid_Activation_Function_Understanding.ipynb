{
  "nbformat": 4,
  "nbformat_minor": 0,
  "metadata": {
    "colab": {
      "provenance": [],
      "authorship_tag": "ABX9TyO9v6FwFeRpaN3mvAXyuHRx",
      "include_colab_link": true
    },
    "kernelspec": {
      "name": "python3",
      "display_name": "Python 3"
    },
    "language_info": {
      "name": "python"
    }
  },
  "cells": [
    {
      "cell_type": "markdown",
      "metadata": {
        "id": "view-in-github",
        "colab_type": "text"
      },
      "source": [
        "<a href=\"https://colab.research.google.com/github/plthiyagu/DataScience-Enterprise-Architect/blob/master/Data%20Science%20Coding%20Interview/Sigmoid_Activation_Function_Understanding.ipynb\" target=\"_parent\"><img src=\"https://colab.research.google.com/assets/colab-badge.svg\" alt=\"Open In Colab\"/></a>"
      ]
    },
    {
      "cell_type": "markdown",
      "source": [
        "Write a Python function that computes the output of the sigmoid activation function given an input value z. The function should return the output rounded to four decimal places.\n",
        "\n",
        "Example\n",
        "\n",
        "Example:\n",
        "        input: z = 0\n",
        "        output: 0.5\n",
        "        reasoning: The sigmoid function is defined as σ(z) = 1 / (1 + exp(-z)). For z = 0, exp(-0) = 1, hence the output is 1 / (1 + 1) = 0.5."
      ],
      "metadata": {
        "id": "BO1yy2AqcrM3"
      }
    },
    {
      "cell_type": "code",
      "execution_count": 1,
      "metadata": {
        "id": "EMOHgNUkchYC"
      },
      "outputs": [],
      "source": [
        "import math\n",
        "def sigmoid(z: float) -> float:\n",
        "   result = 1 / (1 + math.exp(-z))\n",
        "   return round(result, 4)"
      ]
    },
    {
      "cell_type": "code",
      "source": [
        " z = 0\n",
        " sigmoid(z)"
      ],
      "metadata": {
        "colab": {
          "base_uri": "https://localhost:8080/"
        },
        "id": "hMw55aswcyoO",
        "outputId": "49ca0d6c-ec20-409a-c317-18c38c691e38"
      },
      "execution_count": 2,
      "outputs": [
        {
          "output_type": "execute_result",
          "data": {
            "text/plain": [
              "0.5"
            ]
          },
          "metadata": {},
          "execution_count": 2
        }
      ]
    },
    {
      "cell_type": "code",
      "source": [],
      "metadata": {
        "id": "6fZq9CRNc2et"
      },
      "execution_count": null,
      "outputs": []
    }
  ]
}