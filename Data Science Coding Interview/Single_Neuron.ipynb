{
  "nbformat": 4,
  "nbformat_minor": 0,
  "metadata": {
    "colab": {
      "provenance": [],
      "authorship_tag": "ABX9TyNAdTq4FeSaF3nzOIWkbAL0",
      "include_colab_link": true
    },
    "kernelspec": {
      "name": "python3",
      "display_name": "Python 3"
    },
    "language_info": {
      "name": "python"
    }
  },
  "cells": [
    {
      "cell_type": "markdown",
      "metadata": {
        "id": "view-in-github",
        "colab_type": "text"
      },
      "source": [
        "<a href=\"https://colab.research.google.com/github/plthiyagu/DataScience-Enterprise-Architect/blob/master/Data%20Science%20Coding%20Interview/Single_Neuron.ipynb\" target=\"_parent\"><img src=\"https://colab.research.google.com/assets/colab-badge.svg\" alt=\"Open In Colab\"/></a>"
      ]
    },
    {
      "cell_type": "markdown",
      "source": [
        "Single Neuron (easy)\n",
        "Write a Python function that simulates a single neuron with a sigmoid activation function for binary classification, handling multidimensional input features. The function should take a list of feature vectors (each vector representing multiple features for an example), associated true binary labels, and the neuron's weights (one for each feature) and bias as input. It should return the predicted probabilities after sigmoid activation and the mean squared error between the predicted probabilities and the true labels, both rounded to four decimal places.\n",
        "\n",
        "Example\n",
        "\n",
        "Example:\n",
        "\n",
        "        input: features = [[0.5, 1.0], [-1.5, -2.0], [2.0, 1.5]], labels = [0, 1, 0], weights = [0.7, -0.4], bias = -0.1\n",
        "        output: ([0.4626, 0.4134, 0.6682], 0.3349)\n",
        "        reasoning: For each input vector, the weighted sum is calculated by multiplying each feature by its corresponding weight, adding these up along with the bias, then applying the sigmoid function to produce a probability. The MSE is calculated as the average squared difference between each predicted probability and the corresponding true label."
      ],
      "metadata": {
        "id": "RelYvYQ2dZuW"
      }
    },
    {
      "cell_type": "code",
      "source": [
        "import math\n",
        "\n",
        "def single_neuron_model(features, labels, weights, bias):\n",
        "    probabilities = []\n",
        "    for feature_vector in features:\n",
        "        z = sum(weight * feature for weight, feature in zip(weights, feature_vector)) + bias\n",
        "        prob = 1 / (1 + math.exp(-z))\n",
        "        probabilities.append(round(prob, 4))\n",
        "\n",
        "    mse = sum((prob - label) ** 2 for prob, label in zip(probabilities, labels)) / len(labels)\n",
        "    mse = round(mse, 4)\n",
        "\n",
        "    return probabilities, mse"
      ],
      "metadata": {
        "colab": {
          "base_uri": "https://localhost:8080/"
        },
        "id": "P2xCfGw9eZYC",
        "outputId": "5b913829-99ce-4dfd-a215-23624373c21f"
      },
      "execution_count": 4,
      "outputs": [
        {
          "output_type": "stream",
          "name": "stdout",
          "text": [
            "Probabilities: [0.4626, 0.4134, 0.6682]\n",
            "Mean Squared Error: 0.3349\n"
          ]
        }
      ]
    },
    {
      "cell_type": "code",
      "source": [
        "# Input values\n",
        "features = [[0.5, 1.0], [-1.5, -2.0], [2.0, 1.5]]\n",
        "labels = [0, 1, 0]\n",
        "weights = [0.7, -0.4]\n",
        "bias = -0.1\n",
        "single_neuron_model(features, labels, weights, bias)"
      ],
      "metadata": {
        "colab": {
          "base_uri": "https://localhost:8080/"
        },
        "id": "eSU7ATkKdgd4",
        "outputId": "8e3fa1dd-c7e7-4483-f71a-340cf7122b62"
      },
      "execution_count": 5,
      "outputs": [
        {
          "output_type": "execute_result",
          "data": {
            "text/plain": [
              "([0.4626, 0.4134, 0.6682], 0.3349)"
            ]
          },
          "metadata": {},
          "execution_count": 5
        }
      ]
    }
  ]
}