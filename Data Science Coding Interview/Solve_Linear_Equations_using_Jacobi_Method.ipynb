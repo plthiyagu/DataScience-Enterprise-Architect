{
  "nbformat": 4,
  "nbformat_minor": 0,
  "metadata": {
    "colab": {
      "provenance": [],
      "authorship_tag": "ABX9TyPEtSbqvKqUFMu5YozZXq1M",
      "include_colab_link": true
    },
    "kernelspec": {
      "name": "python3",
      "display_name": "Python 3"
    },
    "language_info": {
      "name": "python"
    }
  },
  "cells": [
    {
      "cell_type": "markdown",
      "metadata": {
        "id": "view-in-github",
        "colab_type": "text"
      },
      "source": [
        "<a href=\"https://colab.research.google.com/github/plthiyagu/DataScience-Enterprise-Architect/blob/master/Data%20Science%20Coding%20Interview/Solve_Linear_Equations_using_Jacobi_Method.ipynb\" target=\"_parent\"><img src=\"https://colab.research.google.com/assets/colab-badge.svg\" alt=\"Open In Colab\"/></a>"
      ]
    },
    {
      "cell_type": "markdown",
      "source": [
        "Write a Python function that uses the Jacobi method to solve a system of linear equations given by Ax = b. The function should iterate n times, rounding each intermediate solution to four decimal places, and return the approximate solution x."
      ],
      "metadata": {
        "id": "qa8PcgZHaRir"
      }
    },
    {
      "cell_type": "code",
      "execution_count": null,
      "metadata": {
        "id": "F_vQh8YJaNBl"
      },
      "outputs": [],
      "source": [
        "import numpy as np\n",
        "\n",
        "def solve_jacobi(A: np.ndarray, b: np.ndarray, n: int) -> list:\n",
        "    d_a = np.diag(A)\n",
        "    nda = A - np.diag(d_a)\n",
        "    x = np.zeros(len(b))\n",
        "    x_hold = np.zeros(len(b))\n",
        "    for _ in range(n):\n",
        "        for i in range(len(A)):\n",
        "            x_hold[i] = (1/d_a[i]) * (b[i] - sum(nda[i]*x))\n",
        "        x = x_hold.copy()\n",
        "    return np.round(x,4).tolist()"
      ]
    },
    {
      "cell_type": "code",
      "source": [
        "A = [[5, -2, 3], [-3, 9, 1], [2, -1, -7]]\n",
        "b = [-1, 2, 3]\n",
        "n=2\n",
        "solve_jacobi(A,b,n)"
      ],
      "metadata": {
        "colab": {
          "base_uri": "https://localhost:8080/"
        },
        "id": "39LR7JYuaXGP",
        "outputId": "f1e03f12-d303-407f-8895-9e9cfa08dae5"
      },
      "execution_count": null,
      "outputs": [
        {
          "output_type": "execute_result",
          "data": {
            "text/plain": [
              "[0.146, 0.2032, -0.5175]"
            ]
          },
          "metadata": {},
          "execution_count": 6
        }
      ]
    },
    {
      "cell_type": "code",
      "source": [],
      "metadata": {
        "id": "TSqHHB-Gaeot"
      },
      "execution_count": null,
      "outputs": []
    }
  ]
}