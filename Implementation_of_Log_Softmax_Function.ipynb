{
  "nbformat": 4,
  "nbformat_minor": 0,
  "metadata": {
    "colab": {
      "provenance": [],
      "authorship_tag": "ABX9TyMskqvTdCVT92es4GKDoYZ4",
      "include_colab_link": true
    },
    "kernelspec": {
      "name": "python3",
      "display_name": "Python 3"
    },
    "language_info": {
      "name": "python"
    }
  },
  "cells": [
    {
      "cell_type": "markdown",
      "metadata": {
        "id": "view-in-github",
        "colab_type": "text"
      },
      "source": [
        "<a href=\"https://colab.research.google.com/github/plthiyagu/DataScience-Enterprise-Architect/blob/master/Implementation_of_Log_Softmax_Function.ipynb\" target=\"_parent\"><img src=\"https://colab.research.google.com/assets/colab-badge.svg\" alt=\"Open In Colab\"/></a>"
      ]
    },
    {
      "cell_type": "code",
      "execution_count": 1,
      "metadata": {
        "id": "9s4-t_2MWgZx"
      },
      "outputs": [],
      "source": [
        "import numpy as np\n",
        "\n",
        "def log_softmax(scores: list) -> np.ndarray:\n",
        "    # Subtract the maximum value for numerical stability\n",
        "    scores = scores - np.max(scores)\n",
        "    return scores - np.log(np.sum(np.exp(scores)))"
      ]
    },
    {
      "cell_type": "code",
      "source": [
        "A = np.array([1, 2, 3])\n",
        "print(log_softmax(A))"
      ],
      "metadata": {
        "colab": {
          "base_uri": "https://localhost:8080/"
        },
        "id": "UHxHnCAKWiVG",
        "outputId": "f7e6542c-095a-4bfc-a468-af6b1bac4970"
      },
      "execution_count": 2,
      "outputs": [
        {
          "output_type": "stream",
          "name": "stdout",
          "text": [
            "[-2.40760596 -1.40760596 -0.40760596]\n"
          ]
        }
      ]
    },
    {
      "cell_type": "code",
      "source": [],
      "metadata": {
        "id": "FCqO_g-4Wmah"
      },
      "execution_count": null,
      "outputs": []
    }
  ]
}